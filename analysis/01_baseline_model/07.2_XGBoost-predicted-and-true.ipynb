{
 "cells": [
  {
   "cell_type": "markdown",
   "id": "0b2098d5",
   "metadata": {},
   "source": [
    "Scatter plot of a run (True vs Predicted values) for XGBoost Regression Model\n",
    "\n",
    "The Scatter Plot is estimated for data with and without imbued 0s, and for three different set of bins and before and after ReducedOverfitting. It also plots for data where the damaged values (target) are greater than 10."
   ]
  },
  {
   "cell_type": "code",
   "execution_count": null,
   "id": "f1c13420",
   "metadata": {},
   "outputs": [],
   "source": [
    "%load_ext jupyter_black"
   ]
  },
  {
   "cell_type": "code",
   "execution_count": null,
   "id": "b0e34914",
   "metadata": {},
   "outputs": [],
   "source": [
    "import statistics\n",
    "import matplotlib.pyplot as plt\n",
    "import numpy as np\n",
    "import pandas as pd\n",
    "\n",
    "from sklearn import preprocessing\n",
    "from sklearn.preprocessing import RobustScaler\n",
    "from sklearn.model_selection import train_test_split\n",
    "from xgboost.sklearn import XGBRegressor\n",
    "from sklearn.metrics import mean_squared_error, mean_absolute_error, max_error\n",
    "\n",
    "from utils import get_clean_dataset"
   ]
  },
  {
   "cell_type": "code",
   "execution_count": null,
   "id": "75fa41a7",
   "metadata": {},
   "outputs": [],
   "source": [
    "df = get_clean_dataset()"
   ]
  },
  {
   "cell_type": "code",
   "execution_count": 2,
   "id": "d0a5c802",
   "metadata": {},
   "outputs": [],
   "source": [
    "#df = df[df['DAM_perc_dmg'] > 10]\n",
    "#df"
   ]
  },
  {
   "cell_type": "code",
   "execution_count": 2,
   "id": "f93549d7",
   "metadata": {},
   "outputs": [
    {
     "data": {
      "text/plain": [
       "[<matplotlib.lines.Line2D at 0x7fc776a02370>]"
      ]
     },
     "execution_count": 2,
     "metadata": {},
     "output_type": "execute_result"
    },
    {
     "data": {
      "image/png": "[encoded data removed]",
      "text/plain": [
       "<Figure size 432x288 with 1 Axes>"
      ]
     },
     "metadata": {
      "needs_background": "light"
     },
     "output_type": "display_data"
    }
   ],
   "source": [
    "#The chosen bins\n",
    "#bins2= [0, 1, 60, 101]\n",
    "#bins2 = [0, 0.00009, 1, 10, 50, 101]\n",
    "bins2= [10.0009, 20, 50, 101]\n",
    "samples_per_bin2, binsP2 = np.histogram(df['DAM_perc_dmg'], bins=bins2)\n",
    "plt.xlabel(\"Damage Values\")\n",
    "plt.ylabel(\"Frequency\")\n",
    "plt.plot(binsP2[1:],samples_per_bin2)"
   ]
  },
  {
   "cell_type": "code",
   "execution_count": 3,
   "id": "d6ff44ad",
   "metadata": {},
   "outputs": [
    {
     "name": "stdout",
     "output_type": "stream",
     "text": [
      "[214 191  90]\n",
      "[ 10.0009  20.      50.     101.    ]\n"
     ]
    }
   ],
   "source": [
    "print(samples_per_bin2)\n",
    "print(binsP2)"
   ]
  },
  {
   "cell_type": "code",
   "execution_count": 4,
   "id": "26ddac5b",
   "metadata": {},
   "outputs": [],
   "source": [
    "bin_index2=np.digitize(df['DAM_perc_dmg'], bins=binsP2)"
   ]
  },
  {
   "cell_type": "code",
   "execution_count": 5,
   "id": "668dea01",
   "metadata": {},
   "outputs": [],
   "source": [
    "y_input_strat=bin_index2"
   ]
  },
  {
   "cell_type": "code",
   "execution_count": 6,
   "id": "0b343c8d",
   "metadata": {},
   "outputs": [
    {
     "name": "stdout",
     "output_type": "stream",
     "text": [
      "(6458, 31) (6458,)\n",
      "(1615, 31) (1615,)\n"
     ]
    }
   ],
   "source": [
    "#Dropping highly correlated features (correlation value > 0.99) from X data.\n",
    "features =[\n",
    "    'HAZ_rainfall_Total', \n",
    "    'HAZ_rainfall_max_6h',\n",
    "    'HAZ_rainfall_max_24h',\n",
    "    'HAZ_v_max',\n",
    "    'HAZ_v_max_3',\n",
    "    'HAZ_dis_track_min',\n",
    "    'GEN_landslide_per',\n",
    "    'GEN_stormsurge_per',\n",
    "    #'GEN_Bu_p_inSSA', \n",
    "    #'GEN_Bu_p_LS', \n",
    "    'GEN_Red_per_LSbldg',\n",
    "    'GEN_Or_per_LSblg', \n",
    "    'GEN_Yel_per_LSSAb', \n",
    "    #'GEN_RED_per_SSAbldg',\n",
    "    'GEN_OR_per_SSAbldg',\n",
    "    'GEN_Yellow_per_LSbl',\n",
    "    'TOP_mean_slope',\n",
    "    'TOP_mean_elevation_m', \n",
    "    'TOP_ruggedness_stdev', \n",
    "    #'TOP_mean_ruggedness',\n",
    "    #'TOP_slope_stdev', \n",
    "    'VUL_poverty_perc',\n",
    "    'GEN_with_coast',\n",
    "    'GEN_coast_length', \n",
    "    'VUL_Housing_Units',\n",
    "    'VUL_StrongRoof_StrongWall', \n",
    "    'VUL_StrongRoof_LightWall',\n",
    "    'VUL_StrongRoof_SalvageWall', \n",
    "    'VUL_LightRoof_StrongWall',\n",
    "    'VUL_LightRoof_LightWall', \n",
    "    'VUL_LightRoof_SalvageWall',\n",
    "    'VUL_SalvagedRoof_StrongWall',\n",
    "    'VUL_SalvagedRoof_LightWall',\n",
    "    'VUL_SalvagedRoof_SalvageWall', \n",
    "    'VUL_vulnerable_groups',\n",
    "    'VUL_pantawid_pamilya_beneficiary'\n",
    "]\n",
    "\n",
    "X = df[features]\n",
    "#display(X.columns)\n",
    "y = df[\"DAM_perc_dmg\"]\n",
    "\n",
    "scaler = preprocessing.StandardScaler().fit(X)\n",
    "X_scaled = scaler.transform(X)\n",
    "\n",
    "# Split dataset into training set and test set\n",
    "X_train, X_test, y_train, y_test = train_test_split(X_scaled,df['DAM_perc_dmg'], stratify=y_input_strat, test_size=0.2) \n",
    "\n",
    "\n",
    "print(X_train.shape, y_train.shape)\n",
    "print(X_test.shape, y_test.shape)\n"
   ]
  },
  {
   "cell_type": "code",
   "execution_count": 8,
   "id": "26af9c0c",
   "metadata": {},
   "outputs": [],
   "source": [
    "# create an xgboost regression model\n",
    "\n",
    "#XGBoost\n",
    "#xgb = XGBRegressor(n_estimators=100, max_depth=4, learning_rate=0.1, gamma=1, reg_lambda=0.1, colsample_bytree=0.8)\n",
    "#xgb_model=xgb.fit(X_train, y_train)\n",
    "\n",
    "\n",
    "#XGBoost Reduced Overfitting\n",
    "xgb = XGBRegressor(base_score=0.5, booster='gbtree', colsample_bylevel=0.8,\n",
    "                   colsample_bynode=0.8, colsample_bytree=0.8, gamma=3, eta=0.01,\n",
    "                   importance_type='gain', learning_rate=0.1, max_delta_step=0,\n",
    "                   max_depth=4, min_child_weight=1, missing=1, n_estimators=100, early_stopping_rounds=10,\n",
    "                   n_jobs=1, nthread=None, objective='reg:squarederror', random_state=0,\n",
    "                   reg_alpha=0, reg_lambda=1, scale_pos_weight=1, seed=None,\n",
    "                   silent=None, subsample=0.8, verbosity=1, eval_metric=[\"rmse\", \"logloss\"]\n",
    "                  )\n",
    "\n",
    "    \n",
    "eval_set = [(X_test, y_test)]\n",
    "xgb_model=xgb.fit(X_train, y_train, eval_set=eval_set, verbose=False)\n"
   ]
  },
  {
   "cell_type": "code",
   "execution_count": 9,
   "id": "ac49702d",
   "metadata": {},
   "outputs": [
    {
     "name": "stdout",
     "output_type": "stream",
     "text": [
      "                            OLS Regression Results                            \n",
      "==============================================================================\n",
      "Dep. Variable:           DAM_perc_dmg   R-squared:                       0.457\n",
      "Model:                            OLS   Adj. R-squared:                  0.454\n",
      "Method:                 Least Squares   F-statistic:                     174.3\n",
      "Date:                Thu, 10 Nov 2022   Prob (F-statistic):               0.00\n",
      "Time:                        00:11:48   Log-Likelihood:                -21515.\n",
      "No. Observations:                6458   AIC:                         4.309e+04\n",
      "Df Residuals:                    6426   BIC:                         4.331e+04\n",
      "Df Model:                          31                                         \n",
      "Covariance Type:            nonrobust                                         \n",
      "==============================================================================\n",
      "                 coef    std err          t      P>|t|      [0.025      0.975]\n",
      "------------------------------------------------------------------------------\n",
      "const          2.4715      0.085     29.249      0.000       2.306       2.637\n",
      "x1            -1.5721      0.380     -4.134      0.000      -2.318      -0.827\n",
      "x2             1.5039      0.282      5.328      0.000       0.951       2.057\n",
      "x3             0.9453      0.528      1.792      0.073      -0.089       1.980\n",
      "x4            -4.7902      0.326    -14.698      0.000      -5.429      -4.151\n",
      "x5             9.1038      0.223     40.845      0.000       8.667       9.541\n",
      "x6            -0.5629      0.197     -2.857      0.004      -0.949      -0.177\n",
      "x7           -94.4274     60.018     -1.573      0.116    -212.083      23.228\n",
      "x8             0.5028      0.096      5.239      0.000       0.315       0.691\n",
      "x9            56.0615     35.582      1.576      0.115     -13.691     125.814\n",
      "x10            0.7672      0.458      1.676      0.094      -0.130       1.664\n",
      "x11           75.9296     48.493      1.566      0.117     -19.132     170.992\n",
      "x12           -0.1336      0.091     -1.462      0.144      -0.313       0.045\n",
      "x13           -0.1564      0.098     -1.602      0.109      -0.348       0.035\n",
      "x14           -0.1711      0.268     -0.638      0.523      -0.697       0.354\n",
      "x15           -0.3470      0.176     -1.968      0.049      -0.693      -0.001\n",
      "x16            0.1517      0.184      0.823      0.410      -0.210       0.513\n",
      "x17           -2.8997      0.265    -10.958      0.000      -3.418      -2.381\n",
      "x18            0.1732      0.119      1.461      0.144      -0.059       0.405\n",
      "x19           -0.2188      0.106     -2.067      0.039      -0.426      -0.011\n",
      "x20           -0.2150      0.089     -2.426      0.015      -0.389      -0.041\n",
      "x21           -1.8538      2.857     -0.649      0.517      -7.455       3.748\n",
      "x22           -1.5921      2.100     -0.758      0.448      -5.709       2.525\n",
      "x23            0.3967      0.139      2.850      0.004       0.124       0.670\n",
      "x24           -0.1531      0.410     -0.374      0.709      -0.957       0.650\n",
      "x25           -1.3394      1.924     -0.696      0.486      -5.112       2.433\n",
      "x26            0.1572      0.114      1.373      0.170      -0.067       0.382\n",
      "x27           -0.0924      0.099     -0.933      0.351      -0.286       0.102\n",
      "x28            0.3146      0.111      2.830      0.005       0.097       0.533\n",
      "x29            0.0909      0.121      0.751      0.453      -0.146       0.328\n",
      "x30            0.6349      0.140      4.548      0.000       0.361       0.909\n",
      "x31            3.4426      0.252     13.636      0.000       2.948       3.938\n",
      "==============================================================================\n",
      "Omnibus:                     6305.555   Durbin-Watson:                   2.034\n",
      "Prob(Omnibus):                  0.000   Jarque-Bera (JB):           500282.818\n",
      "Skew:                           4.593   Prob(JB):                         0.00\n",
      "Kurtosis:                      45.129   Cond. No.                     2.26e+03\n",
      "==============================================================================\n",
      "\n",
      "Notes:\n",
      "[1] Standard Errors assume that the covariance matrix of the errors is correctly specified.\n",
      "[2] The condition number is large, 2.26e+03. This might indicate that there are\n",
      "strong multicollinearity or other numerical problems.\n"
     ]
    }
   ],
   "source": [
    "X2 = sm.add_constant(X_train)\n",
    "est = sm.OLS(y_train, X2)\n",
    "est2 = est.fit()\n",
    "print(est2.summary())"
   ]
  },
  {
   "cell_type": "code",
   "execution_count": 10,
   "id": "ac20b60f",
   "metadata": {},
   "outputs": [
    {
     "name": "stdout",
     "output_type": "stream",
     "text": [
      "----- Test  ------\n",
      "Mean absolute error: 1.89\n",
      "Mean squared error: 31.39\n",
      "Root mean squared error: 5.60\n",
      "Max error: 90.21\n",
      "Average Error: 0.16\n",
      "---- Training -----\n",
      "Mean absolute error: 1.60\n",
      "Mean squared error: 20.46\n",
      "Root mean squared error: 4.52\n",
      "Max error: 81.04\n",
      "Average Error: -0.03\n"
     ]
    }
   ],
   "source": [
    "y_pred_train = xgb.predict(X_train)\n",
    "mae_train = mean_absolute_error(y_train, y_pred_train)\n",
    "mse_train = mean_squared_error(y_train, y_pred_train)\n",
    "rmse_train = np.sqrt(mse_train)\n",
    "mx_train = max_error(y_train, y_pred_train)\n",
    "me_train = (y_pred_train - y_train).sum()/len(y_train)\n",
    "\n",
    "y_pred = xgb.predict(X_test)\n",
    "mae = mean_absolute_error(y_test, y_pred)\n",
    "mse = mean_squared_error(y_test, y_pred)\n",
    "rmse = np.sqrt(mse)\n",
    "mx = max_error(y_test, y_pred)\n",
    "me = (y_pred - y_test).sum()/len(y_test)\n",
    "\n",
    "print('----- Test  ------')\n",
    "print(f'Mean absolute error: {mae:.2f}')\n",
    "print(f'Mean squared error: {mse:.2f}')\n",
    "print(f'Root mean squared error: {rmse:.2f}')\n",
    "print(f'Max error: {mx:.2f}')\n",
    "print(f\"Average Error: {me:.2f}\")\n",
    "\n",
    "print('---- Training -----')\n",
    "print(f'Mean absolute error: {mae_train:.2f}')\n",
    "print(f'Mean squared error: {mse_train:.2f}')\n",
    "print(f'Root mean squared error: {rmse_train:.2f}')\n",
    "print(f'Max error: {mx_train:.2f}')\n",
    "print(f\"Average Error: {me_train:.2f}\")"
   ]
  },
  {
   "cell_type": "markdown",
   "id": "b1e760da",
   "metadata": {},
   "source": [
    "plt.figure(figsize=(8,8))\n",
    "plt.scatter(y_test, y_pred, c='crimson')\n",
    "\n",
    "\n",
    "p1 = max(max(y_pred), max(y_test))\n",
    "p2 = min(min(y_pred), min(y_test))\n",
    "plt.plot([p1, p2], [p1, p2], 'b-')\n",
    "plt.xlabel('True Values', fontsize=10)\n",
    "plt.ylabel('Predicted Values', fontsize=10)\n",
    "plt.title('True vs Predicted damaged values')\n",
    "plt.axis('equal')\n",
    "plt.show()"
   ]
  },
  {
   "cell_type": "code",
   "execution_count": 11,
   "id": "9c9466d6",
   "metadata": {},
   "outputs": [
    {
     "data": {
      "image/png": "[encoded data removed]",
      "text/plain": [
       "<Figure size 432x288 with 1 Axes>"
      ]
     },
     "metadata": {
      "needs_background": "light"
     },
     "output_type": "display_data"
    }
   ],
   "source": [
    "#Draw Scatter plot \n",
    "x = y_test\n",
    "y = abs(y_pred - y_test)\n",
    "\n",
    "plt.scatter(x, y, cmap='viridis')\n",
    "\n",
    "#obtain m (slope) and b(intercept) of linear regression line\n",
    "m, b = np.polyfit(x, y, 1)\n",
    "plt.plot(x, m*x+b, color='orange')\n",
    "\n",
    "\n",
    "plt.xlabel('True Values', fontsize=10)\n",
    "plt.ylabel('Absolute Error', fontsize=10)\n",
    "plt.title('True vs Absolute Error')\n",
    "plt.show()"
   ]
  },
  {
   "cell_type": "code",
   "execution_count": null,
   "id": "ed7454b1",
   "metadata": {},
   "outputs": [],
   "source": []
  }
 ],
 "metadata": {
  "jupytext": {
   "cell_metadata_filter": "-all",
   "formats": "ipynb,md",
   "notebook_metadata_filter": "-all"
  },
  "kernelspec": {
   "display_name": "Python 3.9.7 64-bit ('3.9.7')",
   "language": "python",
   "name": "python3"
  },
  "language_info": {
   "codemirror_mode": {
    "name": "ipython",
    "version": 3
   },
   "file_extension": ".py",
   "mimetype": "text/x-python",
   "name": "python",
   "nbconvert_exporter": "python",
   "pygments_lexer": "ipython3",
   "version": "3.9.7"
  },
  "vscode": {
   "interpreter": {
    "hash": "16ff0368c55c59ddb887f34315ea9e2ca62d196df79fb4ecfcba793ecc3a5818"
   }
  }
 },
 "nbformat": 4,
 "nbformat_minor": 5
}
