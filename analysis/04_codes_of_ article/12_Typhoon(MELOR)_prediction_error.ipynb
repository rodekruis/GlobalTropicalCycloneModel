{
 "cells": [
  {
   "cell_type": "markdown",
   "id": "d1b64fb3",
   "metadata": {},
   "source": [
    "### Real Damage, Predicted Damage and The Prediction Error for typhoon Melor"
   ]
  },
  {
   "cell_type": "code",
   "execution_count": 1,
   "id": "1845bf40",
   "metadata": {},
   "outputs": [],
   "source": [
    "import numpy as np\n",
    "import pandas as pd"
   ]
  },
  {
   "cell_type": "code",
   "execution_count": 3,
   "id": "cbaf35f2",
   "metadata": {},
   "outputs": [
    {
     "data": {
      "text/html": [
       "<div>\n",
       "<style scoped>\n",
       "    .dataframe tbody tr th:only-of-type {\n",
       "        vertical-align: middle;\n",
       "    }\n",
       "\n",
       "    .dataframe tbody tr th {\n",
       "        vertical-align: top;\n",
       "    }\n",
       "\n",
       "    .dataframe thead th {\n",
       "        text-align: right;\n",
       "    }\n",
       "</style>\n",
       "<table border=\"1\" class=\"dataframe\">\n",
       "  <thead>\n",
       "    <tr style=\"text-align: right;\">\n",
       "      <th></th>\n",
       "      <th>mun_code</th>\n",
       "      <th>real_damg</th>\n",
       "      <th>pred_damg</th>\n",
       "    </tr>\n",
       "  </thead>\n",
       "  <tbody>\n",
       "    <tr>\n",
       "      <th>0</th>\n",
       "      <td>PH012901000</td>\n",
       "      <td>0.0</td>\n",
       "      <td>0.057195</td>\n",
       "    </tr>\n",
       "    <tr>\n",
       "      <th>1</th>\n",
       "      <td>PH012908000</td>\n",
       "      <td>0.0</td>\n",
       "      <td>0.060973</td>\n",
       "    </tr>\n",
       "    <tr>\n",
       "      <th>2</th>\n",
       "      <td>PH012931000</td>\n",
       "      <td>0.0</td>\n",
       "      <td>0.074185</td>\n",
       "    </tr>\n",
       "    <tr>\n",
       "      <th>3</th>\n",
       "      <td>PH012932000</td>\n",
       "      <td>0.0</td>\n",
       "      <td>0.121766</td>\n",
       "    </tr>\n",
       "    <tr>\n",
       "      <th>4</th>\n",
       "      <td>PH012933000</td>\n",
       "      <td>0.0</td>\n",
       "      <td>0.000000</td>\n",
       "    </tr>\n",
       "  </tbody>\n",
       "</table>\n",
       "</div>"
      ],
      "text/plain": [
       "      mun_code  real_damg  pred_damg\n",
       "0  PH012901000        0.0   0.057195\n",
       "1  PH012908000        0.0   0.060973\n",
       "2  PH012931000        0.0   0.074185\n",
       "3  PH012932000        0.0   0.121766\n",
       "4  PH012933000        0.0   0.000000"
      ]
     },
     "execution_count": 3,
     "metadata": {},
     "output_type": "execute_result"
    }
   ],
   "source": [
    "df=pd.read_csv(\"MELOR_gridTomun_fulldata.csv\")\n",
    "df.head()"
   ]
  },
  {
   "cell_type": "code",
   "execution_count": 4,
   "id": "32eef67a",
   "metadata": {},
   "outputs": [
    {
     "data": {
      "text/html": [
       "<div>\n",
       "<style scoped>\n",
       "    .dataframe tbody tr th:only-of-type {\n",
       "        vertical-align: middle;\n",
       "    }\n",
       "\n",
       "    .dataframe tbody tr th {\n",
       "        vertical-align: top;\n",
       "    }\n",
       "\n",
       "    .dataframe thead th {\n",
       "        text-align: right;\n",
       "    }\n",
       "</style>\n",
       "<table border=\"1\" class=\"dataframe\">\n",
       "  <thead>\n",
       "    <tr style=\"text-align: right;\">\n",
       "      <th></th>\n",
       "      <th>mun_code</th>\n",
       "      <th>real_damg</th>\n",
       "      <th>pred_damg</th>\n",
       "      <th>prediction_error</th>\n",
       "    </tr>\n",
       "  </thead>\n",
       "  <tbody>\n",
       "    <tr>\n",
       "      <th>0</th>\n",
       "      <td>PH012901000</td>\n",
       "      <td>0.0</td>\n",
       "      <td>0.057195</td>\n",
       "      <td>0.057195</td>\n",
       "    </tr>\n",
       "    <tr>\n",
       "      <th>1</th>\n",
       "      <td>PH012908000</td>\n",
       "      <td>0.0</td>\n",
       "      <td>0.060973</td>\n",
       "      <td>0.060973</td>\n",
       "    </tr>\n",
       "    <tr>\n",
       "      <th>2</th>\n",
       "      <td>PH012931000</td>\n",
       "      <td>0.0</td>\n",
       "      <td>0.074185</td>\n",
       "      <td>0.074185</td>\n",
       "    </tr>\n",
       "    <tr>\n",
       "      <th>3</th>\n",
       "      <td>PH012932000</td>\n",
       "      <td>0.0</td>\n",
       "      <td>0.121766</td>\n",
       "      <td>0.121766</td>\n",
       "    </tr>\n",
       "    <tr>\n",
       "      <th>4</th>\n",
       "      <td>PH012933000</td>\n",
       "      <td>0.0</td>\n",
       "      <td>0.000000</td>\n",
       "      <td>0.000000</td>\n",
       "    </tr>\n",
       "  </tbody>\n",
       "</table>\n",
       "</div>"
      ],
      "text/plain": [
       "      mun_code  real_damg  pred_damg  prediction_error\n",
       "0  PH012901000        0.0   0.057195          0.057195\n",
       "1  PH012908000        0.0   0.060973          0.060973\n",
       "2  PH012931000        0.0   0.074185          0.074185\n",
       "3  PH012932000        0.0   0.121766          0.121766\n",
       "4  PH012933000        0.0   0.000000          0.000000"
      ]
     },
     "execution_count": 4,
     "metadata": {},
     "output_type": "execute_result"
    }
   ],
   "source": [
    "df['prediction_error'] = df['pred_damg'] - df['real_damg']\n",
    "df.head()"
   ]
  },
  {
   "cell_type": "code",
   "execution_count": 4,
   "id": "df7fb3ba",
   "metadata": {},
   "outputs": [],
   "source": [
    "#df.to_csv('MELOR_gridTomun_fulldata_updated.csv', index=False)"
   ]
  },
  {
   "cell_type": "markdown",
   "id": "59475850",
   "metadata": {},
   "source": [
    "### Reduced dataset to the same size of municipality dataset by intersection of the municipalities"
   ]
  },
  {
   "cell_type": "code",
   "execution_count": 6,
   "id": "471b3e67",
   "metadata": {},
   "outputs": [
    {
     "data": {
      "text/html": [
       "<div>\n",
       "<style scoped>\n",
       "    .dataframe tbody tr th:only-of-type {\n",
       "        vertical-align: middle;\n",
       "    }\n",
       "\n",
       "    .dataframe tbody tr th {\n",
       "        vertical-align: top;\n",
       "    }\n",
       "\n",
       "    .dataframe thead th {\n",
       "        text-align: right;\n",
       "    }\n",
       "</style>\n",
       "<table border=\"1\" class=\"dataframe\">\n",
       "  <thead>\n",
       "    <tr style=\"text-align: right;\">\n",
       "      <th></th>\n",
       "      <th>mun_code</th>\n",
       "      <th>real_damg</th>\n",
       "      <th>pred_damg</th>\n",
       "    </tr>\n",
       "  </thead>\n",
       "  <tbody>\n",
       "    <tr>\n",
       "      <th>0</th>\n",
       "      <td>PH034920000</td>\n",
       "      <td>0.034281</td>\n",
       "      <td>0.497263</td>\n",
       "    </tr>\n",
       "    <tr>\n",
       "      <th>1</th>\n",
       "      <td>PH035403000</td>\n",
       "      <td>0.000000</td>\n",
       "      <td>0.001555</td>\n",
       "    </tr>\n",
       "    <tr>\n",
       "      <th>2</th>\n",
       "      <td>PH035418000</td>\n",
       "      <td>0.000000</td>\n",
       "      <td>0.001456</td>\n",
       "    </tr>\n",
       "    <tr>\n",
       "      <th>3</th>\n",
       "      <td>PH037707000</td>\n",
       "      <td>0.058259</td>\n",
       "      <td>0.848913</td>\n",
       "    </tr>\n",
       "    <tr>\n",
       "      <th>4</th>\n",
       "      <td>PH041005000</td>\n",
       "      <td>0.005456</td>\n",
       "      <td>1.842850</td>\n",
       "    </tr>\n",
       "  </tbody>\n",
       "</table>\n",
       "</div>"
      ],
      "text/plain": [
       "      mun_code  real_damg  pred_damg\n",
       "0  PH034920000   0.034281   0.497263\n",
       "1  PH035403000   0.000000   0.001555\n",
       "2  PH035418000   0.000000   0.001456\n",
       "3  PH037707000   0.058259   0.848913\n",
       "4  PH041005000   0.005456   1.842850"
      ]
     },
     "execution_count": 6,
     "metadata": {},
     "output_type": "execute_result"
    }
   ],
   "source": [
    "df1=pd.read_csv(\"MELOR_gridTomun_reduceddata.csv\")\n",
    "df1.head()"
   ]
  },
  {
   "cell_type": "code",
   "execution_count": 7,
   "id": "3da6169e",
   "metadata": {},
   "outputs": [
    {
     "data": {
      "text/html": [
       "<div>\n",
       "<style scoped>\n",
       "    .dataframe tbody tr th:only-of-type {\n",
       "        vertical-align: middle;\n",
       "    }\n",
       "\n",
       "    .dataframe tbody tr th {\n",
       "        vertical-align: top;\n",
       "    }\n",
       "\n",
       "    .dataframe thead th {\n",
       "        text-align: right;\n",
       "    }\n",
       "</style>\n",
       "<table border=\"1\" class=\"dataframe\">\n",
       "  <thead>\n",
       "    <tr style=\"text-align: right;\">\n",
       "      <th></th>\n",
       "      <th>mun_code</th>\n",
       "      <th>real_damg</th>\n",
       "      <th>pred_damg</th>\n",
       "      <th>prediction_error</th>\n",
       "    </tr>\n",
       "  </thead>\n",
       "  <tbody>\n",
       "    <tr>\n",
       "      <th>0</th>\n",
       "      <td>PH034920000</td>\n",
       "      <td>0.034281</td>\n",
       "      <td>0.497263</td>\n",
       "      <td>0.462981</td>\n",
       "    </tr>\n",
       "    <tr>\n",
       "      <th>1</th>\n",
       "      <td>PH035403000</td>\n",
       "      <td>0.000000</td>\n",
       "      <td>0.001555</td>\n",
       "      <td>0.001555</td>\n",
       "    </tr>\n",
       "    <tr>\n",
       "      <th>2</th>\n",
       "      <td>PH035418000</td>\n",
       "      <td>0.000000</td>\n",
       "      <td>0.001456</td>\n",
       "      <td>0.001456</td>\n",
       "    </tr>\n",
       "    <tr>\n",
       "      <th>3</th>\n",
       "      <td>PH037707000</td>\n",
       "      <td>0.058259</td>\n",
       "      <td>0.848913</td>\n",
       "      <td>0.790654</td>\n",
       "    </tr>\n",
       "    <tr>\n",
       "      <th>4</th>\n",
       "      <td>PH041005000</td>\n",
       "      <td>0.005456</td>\n",
       "      <td>1.842850</td>\n",
       "      <td>1.837394</td>\n",
       "    </tr>\n",
       "  </tbody>\n",
       "</table>\n",
       "</div>"
      ],
      "text/plain": [
       "      mun_code  real_damg  pred_damg  prediction_error\n",
       "0  PH034920000   0.034281   0.497263          0.462981\n",
       "1  PH035403000   0.000000   0.001555          0.001555\n",
       "2  PH035418000   0.000000   0.001456          0.001456\n",
       "3  PH037707000   0.058259   0.848913          0.790654\n",
       "4  PH041005000   0.005456   1.842850          1.837394"
      ]
     },
     "execution_count": 7,
     "metadata": {},
     "output_type": "execute_result"
    }
   ],
   "source": [
    "df1['prediction_error'] = df1['pred_damg'] - df1['real_damg']\n",
    "df1.head()"
   ]
  },
  {
   "cell_type": "code",
   "execution_count": 8,
   "id": "19e839ac",
   "metadata": {},
   "outputs": [],
   "source": [
    "#df1.to_csv('MELOR_gridTomun_reduceddata_updated.csv', index=False)"
   ]
  }
 ],
 "metadata": {
  "kernelspec": {
   "display_name": "Python 3 (ipykernel)",
   "language": "python",
   "name": "python3"
  },
  "language_info": {
   "codemirror_mode": {
    "name": "ipython",
    "version": 3
   },
   "file_extension": ".py",
   "mimetype": "text/x-python",
   "name": "python",
   "nbconvert_exporter": "python",
   "pygments_lexer": "ipython3",
   "version": "3.8.13"
  }
 },
 "nbformat": 4,
 "nbformat_minor": 5
}
