{
 "cells": [
  {
   "attachments": {},
   "cell_type": "markdown",
   "metadata": {},
   "source": [
    "# Notebook that downloads GPM rainfall data done per typhoon"
   ]
  },
  {
   "cell_type": "code",
   "execution_count": 191,
   "metadata": {},
   "outputs": [
    {
     "name": "stdout",
     "output_type": "stream",
     "text": [
      "The jupyter_black extension is already loaded. To reload it, use:\n",
      "  %reload_ext jupyter_black\n"
     ]
    }
   ],
   "source": [
    "%load_ext jupyter_black\n",
    "# libraries\n",
    "import pandas as pd\n",
    "import numpy as np\n",
    "import os\n",
    "import datetime as dt\n",
    "from pathlib import Path\n",
    "from bs4 import BeautifulSoup\n",
    "import requests\n",
    "import getpass"
   ]
  },
  {
   "cell_type": "code",
   "execution_count": 192,
   "metadata": {},
   "outputs": [],
   "source": [
    "# Setting directory\n",
    "input_dir = (\n",
    "    Path(os.getenv(\"STORM_DATA_DIR\"))\n",
    "    / \"analysis/02_new_model_input/03_rainfall/input\"\n",
    ")\n",
    "# Importing local libraries\n",
    "typhoon_metadata = pd.read_csv(input_dir / \"metadata_typhoons.csv\")\n",
    "# Setting path to save the GPM data\n",
    "gpm_file_name = \"gpm_data/rainfall_data/output_hhr/\"\n",
    "gpm_folder_path = Path(input_dir, gpm_file_name)"
   ]
  },
  {
   "cell_type": "code",
   "execution_count": 193,
   "metadata": {},
   "outputs": [],
   "source": [
    "# To create an account for downloading the data\n",
    "# follow the instructions here: https://registration.pps.eosdis.nasa.gov/registration/\n",
    "# Change the user name and provide the password in the code\n",
    "user_name = \"pauline.ndirangu@un.org\"\n",
    "password = getpass.getpass(prompt=\"Password: \", stream=None)\n",
    "baseurl = \"https://arthurhouhttps.pps.eosdis.nasa.gov/pub/gpmdata\"\n",
    "# y=2021\n",
    "# m=4\n",
    "# d=13\n",
    "# file=f\"/{y}/0{m}/{d}/gis\"\n",
    "# url=baseurl+file\n",
    "ext = \"tif\"\n",
    "##########################\n",
    "# Setting the number of days prior to the landfall data for which to collect data\n",
    "days_to_landfall = 2\n",
    "\n",
    "# Default = FALSE\n",
    "# IMPORTANT: setting to TRUE means that\n",
    "# all downloaded GPM files will be deleted and re-downloaded\n",
    "delete_folders = False"
   ]
  },
  {
   "cell_type": "code",
   "execution_count": 194,
   "metadata": {},
   "outputs": [],
   "source": [
    "#%% Functions used\n",
    "def date_range(start_date, end_date):\n",
    "    return [\n",
    "        str(start_date + dt.timedelta(days=x))\n",
    "        for x in range((end_date - start_date).days + 1)\n",
    "    ]\n",
    "\n",
    "\n",
    "def list_files(url, user_name, password, ext=\"\"):\n",
    "    try:\n",
    "        page = requests.get(url, auth=(user_name, password)).text\n",
    "        soup = BeautifulSoup(page, \"html.parser\")\n",
    "    except requests.exceptions.RequestException as error:\n",
    "        print(\"Error:\\n\", error)\n",
    "    return [\n",
    "        url + \"/\" + node.get(\"href\")\n",
    "        for node in soup.find_all(\"a\")\n",
    "        if node.get(\"href\").endswith(ext)\n",
    "    ]\n",
    "\n",
    "\n",
    "def download_gpm_http(start_date, end_date, download_path, type_imerg):\n",
    "    # Username and password for logging in\n",
    "    # Can create own account on NASA site\n",
    "    # user_name = \"pauline.ndirangu@un.org\"#GPM_USERNAME\n",
    "    base_url = \"\"\n",
    "\n",
    "    # Connection to the site, if pasting in chrome:\n",
    "    # https://arthurhouhttps.pps.eosdis.nasa.gov/\n",
    "    # Directory to where the data is saved\n",
    "    if type_imerg == \"final\":\n",
    "        base_url = baseurl\n",
    "\n",
    "    date_list = date_range(start_date, end_date)\n",
    "    file_list = []\n",
    "\n",
    "    for date in date_list:\n",
    "        print(date)\n",
    "        date_obj = dt.datetime.strptime(date, \"%Y-%m-%d\")\n",
    "        d, m, y = (\n",
    "            \"%02d\" % date_obj.day,\n",
    "            \"%02d\" % date_obj.month,\n",
    "            \"%04d\" % date_obj.year,\n",
    "        )\n",
    "        day_path = download_path / str(y + m + d)\n",
    "\n",
    "        # Make a folder for each day, to save GPM data\n",
    "\n",
    "        os.makedirs(day_path, exist_ok=True)\n",
    "        if type_imerg != \"final\":\n",
    "            continue\n",
    "\n",
    "        data_dir_final = \"/\" + date_obj.strftime(\"%Y/%m/%d\") + \"/gis\"\n",
    "        url = base_url + data_dir_final\n",
    "        tiff_files = list_files(\n",
    "            url, user_name=user_name, password=user_name, ext=\"tif\"\n",
    "        )\n",
    "\n",
    "        for tifffile in tiff_files:\n",
    "            file_name = tifffile.split(\"/\")[-1]\n",
    "\n",
    "            file_path = day_path / file_name\n",
    "            file_list.append(file_path)\n",
    "            try:\n",
    "                r = requests.get(tifffile, auth=(user_name, user_name))\n",
    "                open(file_path, \"wb\").write(r.content)\n",
    "            except requests.exceptions.RequestException as error:\n",
    "                print(\"Error:\\n\", error)\n",
    "\n",
    "    return file_list"
   ]
  },
  {
   "cell_type": "code",
   "execution_count": 196,
   "metadata": {},
   "outputs": [],
   "source": [
    "# To make sure the dates can be converted to date type\n",
    "typhoon_metadata[\"startdate\"] = [\n",
    "    str_col.replace(\"/\", \"-\") for str_col in typhoon_metadata[\"startdate\"]\n",
    "]\n",
    "typhoon_metadata[\"enddate\"] = [\n",
    "    str_col.replace(\"/\", \"-\") for str_col in typhoon_metadata[\"enddate\"]\n",
    "]\n",
    "typhoon_metadata[\"landfalldate\"] = [\n",
    "    str_col.replace(\"/\", \"-\") for str_col in typhoon_metadata[\"landfalldate\"]\n",
    "]"
   ]
  },
  {
   "cell_type": "code",
   "execution_count": 126,
   "metadata": {},
   "outputs": [],
   "source": [
    "# Typhoons for which to download rainfall data\n",
    "typhoons = list(typhoon_metadata.typhoon.values)\n",
    "\n",
    "# if there is already rainfall data in the project folder  output_hhr_processed\n",
    "typhoons_with_rainfall_data = [\n",
    "    items.split(\"_\")[0]\n",
    "    for items in os.listdir(str(input_dir) + \"/\" + gpm_file_name)\n",
    "]\n",
    "typhoons_without_rainfall_data = [\n",
    "    items for items in typhoons if items not in typhoons_with_rainfall_data\n",
    "]"
   ]
  },
  {
   "cell_type": "code",
   "execution_count": 127,
   "metadata": {},
   "outputs": [],
   "source": [
    "typhoon_metadata_ = typhoon_metadata.set_index(\"typhoon\").to_dict()\n",
    "typhoons_dict = dict()\n",
    "\n",
    "###################################################################\n",
    "### START OF PROCESSING\n",
    "###################################################################\n",
    "\n",
    "for typhoon in typhoons_without_rainfall_data:\n",
    "    case = typhoon\n",
    "    typhoons_dict[case] = {\n",
    "        \"typhoon\": typhoon,\n",
    "        \"dates\": [\n",
    "            dt.datetime.strptime(\n",
    "                typhoon_metadata_[\"landfalldate\"][typhoon], \"%d-%m-%Y\"\n",
    "            ).date()\n",
    "            - dt.timedelta(days=2),\n",
    "            dt.datetime.strptime(\n",
    "                typhoon_metadata_[\"landfalldate\"][typhoon], \"%d-%m-%Y\"\n",
    "            ).date()\n",
    "            + dt.timedelta(days=2),\n",
    "            dt.datetime.strptime(\n",
    "                typhoon_metadata_[\"landfalldate\"][typhoon], \"%d-%m-%Y\"\n",
    "            ).date(),\n",
    "        ],\n",
    "        \"imerg_type\": typhoon_metadata_[\"imerg_type\"][typhoon],\n",
    "    }"
   ]
  },
  {
   "attachments": {},
   "cell_type": "markdown",
   "metadata": {},
   "source": [
    "This section takes a long time to download the data. "
   ]
  },
  {
   "cell_type": "code",
   "execution_count": null,
   "metadata": {},
   "outputs": [],
   "source": [
    "for keys in typhoons_dict.keys():\n",
    "    typhoon_to_process = typhoons_dict[keys]\n",
    "    typhoon = typhoon_to_process.get(\"typhoon\")\n",
    "\n",
    "    # Start/End date for precipitation data, get from the dictionary\n",
    "    start_date = min(typhoon_to_process.get(\"dates\"))\n",
    "    end_date = max(typhoon_to_process.get(\"dates\"))\n",
    "    print(\"start_date is:\", start_date, \"end date of typhoon is:\", end_date)\n",
    "\n",
    "    # IMERG data type, either \"early\" (6hr), \"late\" (18hr) or \"final\" (4 months),\n",
    "    # see https://pps.gsfc.nasa.gov/Documents/README.GIS.pdf\n",
    "    imerg_type = typhoon_to_process.get(\"imerg_type\")  # \"early\"\n",
    "    print(\"imerg_type:\", imerg_type)\n",
    "\n",
    "    t0 = dt.datetime.now()\n",
    "\n",
    "    # Specify the names to save the GPM data (folder) and the output file\n",
    "    subfolder = typhoon  # + \"/\"\n",
    "    gpm_path = gpm_folder_path / subfolder / \"GPM\"\n",
    "\n",
    "    # Downloading rainfall data\n",
    "    if not imerg_type == \"trmm\":\n",
    "        download_gpm_http(start_date, end_date, gpm_path, imerg_type)"
   ]
  },
  {
   "cell_type": "code",
   "execution_count": 177,
   "metadata": {},
   "outputs": [
    {
     "data": {
      "text/plain": [
       "['https://arthurhouhttps.pps.eosdis.nasa.gov/pub/gpmdata/2006/07/28/gis/3B-DAY-GIS.MS.MRG.3IMERG.20060728-S000000-E235959.6240.V06B.tif',\n",
       " 'https://arthurhouhttps.pps.eosdis.nasa.gov/pub/gpmdata/2006/07/28/gis/3B-HHR-GIS.MS.MRG.3IMERG.20060728-S000000-E002959.0000.V06B.tif',\n",
       " 'https://arthurhouhttps.pps.eosdis.nasa.gov/pub/gpmdata/2006/07/28/gis/3B-HHR-GIS.MS.MRG.3IMERG.20060728-S003000-E005959.0030.V06B.tif',\n",
       " 'https://arthurhouhttps.pps.eosdis.nasa.gov/pub/gpmdata/2006/07/28/gis/3B-HHR-GIS.MS.MRG.3IMERG.20060728-S010000-E012959.0060.V06B.tif',\n",
       " 'https://arthurhouhttps.pps.eosdis.nasa.gov/pub/gpmdata/2006/07/28/gis/3B-HHR-GIS.MS.MRG.3IMERG.20060728-S013000-E015959.0090.V06B.tif',\n",
       " 'https://arthurhouhttps.pps.eosdis.nasa.gov/pub/gpmdata/2006/07/28/gis/3B-HHR-GIS.MS.MRG.3IMERG.20060728-S020000-E022959.0120.V06B.tif',\n",
       " 'https://arthurhouhttps.pps.eosdis.nasa.gov/pub/gpmdata/2006/07/28/gis/3B-HHR-GIS.MS.MRG.3IMERG.20060728-S023000-E025959.0150.V06B.tif',\n",
       " 'https://arthurhouhttps.pps.eosdis.nasa.gov/pub/gpmdata/2006/07/28/gis/3B-HHR-GIS.MS.MRG.3IMERG.20060728-S030000-E032959.0180.V06B.tif',\n",
       " 'https://arthurhouhttps.pps.eosdis.nasa.gov/pub/gpmdata/2006/07/28/gis/3B-HHR-GIS.MS.MRG.3IMERG.20060728-S033000-E035959.0210.V06B.tif',\n",
       " 'https://arthurhouhttps.pps.eosdis.nasa.gov/pub/gpmdata/2006/07/28/gis/3B-HHR-GIS.MS.MRG.3IMERG.20060728-S040000-E042959.0240.V06B.tif',\n",
       " 'https://arthurhouhttps.pps.eosdis.nasa.gov/pub/gpmdata/2006/07/28/gis/3B-HHR-GIS.MS.MRG.3IMERG.20060728-S043000-E045959.0270.V06B.tif',\n",
       " 'https://arthurhouhttps.pps.eosdis.nasa.gov/pub/gpmdata/2006/07/28/gis/3B-HHR-GIS.MS.MRG.3IMERG.20060728-S050000-E052959.0300.V06B.tif',\n",
       " 'https://arthurhouhttps.pps.eosdis.nasa.gov/pub/gpmdata/2006/07/28/gis/3B-HHR-GIS.MS.MRG.3IMERG.20060728-S053000-E055959.0330.V06B.tif',\n",
       " 'https://arthurhouhttps.pps.eosdis.nasa.gov/pub/gpmdata/2006/07/28/gis/3B-HHR-GIS.MS.MRG.3IMERG.20060728-S060000-E062959.0360.V06B.tif',\n",
       " 'https://arthurhouhttps.pps.eosdis.nasa.gov/pub/gpmdata/2006/07/28/gis/3B-HHR-GIS.MS.MRG.3IMERG.20060728-S063000-E065959.0390.V06B.tif',\n",
       " 'https://arthurhouhttps.pps.eosdis.nasa.gov/pub/gpmdata/2006/07/28/gis/3B-HHR-GIS.MS.MRG.3IMERG.20060728-S070000-E072959.0420.V06B.tif',\n",
       " 'https://arthurhouhttps.pps.eosdis.nasa.gov/pub/gpmdata/2006/07/28/gis/3B-HHR-GIS.MS.MRG.3IMERG.20060728-S073000-E075959.0450.V06B.tif',\n",
       " 'https://arthurhouhttps.pps.eosdis.nasa.gov/pub/gpmdata/2006/07/28/gis/3B-HHR-GIS.MS.MRG.3IMERG.20060728-S080000-E082959.0480.V06B.tif',\n",
       " 'https://arthurhouhttps.pps.eosdis.nasa.gov/pub/gpmdata/2006/07/28/gis/3B-HHR-GIS.MS.MRG.3IMERG.20060728-S083000-E085959.0510.V06B.tif',\n",
       " 'https://arthurhouhttps.pps.eosdis.nasa.gov/pub/gpmdata/2006/07/28/gis/3B-HHR-GIS.MS.MRG.3IMERG.20060728-S090000-E092959.0540.V06B.tif',\n",
       " 'https://arthurhouhttps.pps.eosdis.nasa.gov/pub/gpmdata/2006/07/28/gis/3B-HHR-GIS.MS.MRG.3IMERG.20060728-S093000-E095959.0570.V06B.tif',\n",
       " 'https://arthurhouhttps.pps.eosdis.nasa.gov/pub/gpmdata/2006/07/28/gis/3B-HHR-GIS.MS.MRG.3IMERG.20060728-S100000-E102959.0600.V06B.tif',\n",
       " 'https://arthurhouhttps.pps.eosdis.nasa.gov/pub/gpmdata/2006/07/28/gis/3B-HHR-GIS.MS.MRG.3IMERG.20060728-S103000-E105959.0630.V06B.tif',\n",
       " 'https://arthurhouhttps.pps.eosdis.nasa.gov/pub/gpmdata/2006/07/28/gis/3B-HHR-GIS.MS.MRG.3IMERG.20060728-S110000-E112959.0660.V06B.tif',\n",
       " 'https://arthurhouhttps.pps.eosdis.nasa.gov/pub/gpmdata/2006/07/28/gis/3B-HHR-GIS.MS.MRG.3IMERG.20060728-S113000-E115959.0690.V06B.tif',\n",
       " 'https://arthurhouhttps.pps.eosdis.nasa.gov/pub/gpmdata/2006/07/28/gis/3B-HHR-GIS.MS.MRG.3IMERG.20060728-S120000-E122959.0720.V06B.tif',\n",
       " 'https://arthurhouhttps.pps.eosdis.nasa.gov/pub/gpmdata/2006/07/28/gis/3B-HHR-GIS.MS.MRG.3IMERG.20060728-S123000-E125959.0750.V06B.tif',\n",
       " 'https://arthurhouhttps.pps.eosdis.nasa.gov/pub/gpmdata/2006/07/28/gis/3B-HHR-GIS.MS.MRG.3IMERG.20060728-S130000-E132959.0780.V06B.tif',\n",
       " 'https://arthurhouhttps.pps.eosdis.nasa.gov/pub/gpmdata/2006/07/28/gis/3B-HHR-GIS.MS.MRG.3IMERG.20060728-S133000-E135959.0810.V06B.tif',\n",
       " 'https://arthurhouhttps.pps.eosdis.nasa.gov/pub/gpmdata/2006/07/28/gis/3B-HHR-GIS.MS.MRG.3IMERG.20060728-S140000-E142959.0840.V06B.tif',\n",
       " 'https://arthurhouhttps.pps.eosdis.nasa.gov/pub/gpmdata/2006/07/28/gis/3B-HHR-GIS.MS.MRG.3IMERG.20060728-S143000-E145959.0870.V06B.tif',\n",
       " 'https://arthurhouhttps.pps.eosdis.nasa.gov/pub/gpmdata/2006/07/28/gis/3B-HHR-GIS.MS.MRG.3IMERG.20060728-S150000-E152959.0900.V06B.tif',\n",
       " 'https://arthurhouhttps.pps.eosdis.nasa.gov/pub/gpmdata/2006/07/28/gis/3B-HHR-GIS.MS.MRG.3IMERG.20060728-S153000-E155959.0930.V06B.tif',\n",
       " 'https://arthurhouhttps.pps.eosdis.nasa.gov/pub/gpmdata/2006/07/28/gis/3B-HHR-GIS.MS.MRG.3IMERG.20060728-S160000-E162959.0960.V06B.tif',\n",
       " 'https://arthurhouhttps.pps.eosdis.nasa.gov/pub/gpmdata/2006/07/28/gis/3B-HHR-GIS.MS.MRG.3IMERG.20060728-S163000-E165959.0990.V06B.tif',\n",
       " 'https://arthurhouhttps.pps.eosdis.nasa.gov/pub/gpmdata/2006/07/28/gis/3B-HHR-GIS.MS.MRG.3IMERG.20060728-S170000-E172959.1020.V06B.tif',\n",
       " 'https://arthurhouhttps.pps.eosdis.nasa.gov/pub/gpmdata/2006/07/28/gis/3B-HHR-GIS.MS.MRG.3IMERG.20060728-S173000-E175959.1050.V06B.tif',\n",
       " 'https://arthurhouhttps.pps.eosdis.nasa.gov/pub/gpmdata/2006/07/28/gis/3B-HHR-GIS.MS.MRG.3IMERG.20060728-S180000-E182959.1080.V06B.tif',\n",
       " 'https://arthurhouhttps.pps.eosdis.nasa.gov/pub/gpmdata/2006/07/28/gis/3B-HHR-GIS.MS.MRG.3IMERG.20060728-S183000-E185959.1110.V06B.tif',\n",
       " 'https://arthurhouhttps.pps.eosdis.nasa.gov/pub/gpmdata/2006/07/28/gis/3B-HHR-GIS.MS.MRG.3IMERG.20060728-S190000-E192959.1140.V06B.tif',\n",
       " 'https://arthurhouhttps.pps.eosdis.nasa.gov/pub/gpmdata/2006/07/28/gis/3B-HHR-GIS.MS.MRG.3IMERG.20060728-S193000-E195959.1170.V06B.tif',\n",
       " 'https://arthurhouhttps.pps.eosdis.nasa.gov/pub/gpmdata/2006/07/28/gis/3B-HHR-GIS.MS.MRG.3IMERG.20060728-S200000-E202959.1200.V06B.tif',\n",
       " 'https://arthurhouhttps.pps.eosdis.nasa.gov/pub/gpmdata/2006/07/28/gis/3B-HHR-GIS.MS.MRG.3IMERG.20060728-S203000-E205959.1230.V06B.tif',\n",
       " 'https://arthurhouhttps.pps.eosdis.nasa.gov/pub/gpmdata/2006/07/28/gis/3B-HHR-GIS.MS.MRG.3IMERG.20060728-S210000-E212959.1260.V06B.tif',\n",
       " 'https://arthurhouhttps.pps.eosdis.nasa.gov/pub/gpmdata/2006/07/28/gis/3B-HHR-GIS.MS.MRG.3IMERG.20060728-S213000-E215959.1290.V06B.tif',\n",
       " 'https://arthurhouhttps.pps.eosdis.nasa.gov/pub/gpmdata/2006/07/28/gis/3B-HHR-GIS.MS.MRG.3IMERG.20060728-S220000-E222959.1320.V06B.tif',\n",
       " 'https://arthurhouhttps.pps.eosdis.nasa.gov/pub/gpmdata/2006/07/28/gis/3B-HHR-GIS.MS.MRG.3IMERG.20060728-S223000-E225959.1350.V06B.tif',\n",
       " 'https://arthurhouhttps.pps.eosdis.nasa.gov/pub/gpmdata/2006/07/28/gis/3B-HHR-GIS.MS.MRG.3IMERG.20060728-S230000-E232959.1380.V06B.tif',\n",
       " 'https://arthurhouhttps.pps.eosdis.nasa.gov/pub/gpmdata/2006/07/28/gis/3B-HHR-GIS.MS.MRG.3IMERG.20060728-S233000-E235959.1410.V06B.tif']"
      ]
     },
     "execution_count": 177,
     "metadata": {},
     "output_type": "execute_result"
    }
   ],
   "source": [
    "data_dir_final = \"/\" + date_obj.strftime(\"%Y/%m/%d\") + \"/gis\"\n",
    "base_url = baseurl\n",
    "url = base_url + data_dir_final\n",
    "tiff_files = list_files(\n",
    "    url, user_name=user_name, password=user_name, ext=\"tif\"\n",
    ")\n",
    "tiff_files"
   ]
  }
 ],
 "metadata": {
  "kernelspec": {
   "display_name": "Python 3.9.0 ('globaltyphoon')",
   "language": "python",
   "name": "python3"
  },
  "language_info": {
   "codemirror_mode": {
    "name": "ipython",
    "version": 3
   },
   "file_extension": ".py",
   "mimetype": "text/x-python",
   "name": "python",
   "nbconvert_exporter": "python",
   "pygments_lexer": "ipython3",
   "version": "3.9.0"
  },
  "orig_nbformat": 4,
  "vscode": {
   "interpreter": {
    "hash": "d0bf5227c718a54401bc80004b44f7ad33fb80a867a635817764b403a4b4c0f1"
   }
  }
 },
 "nbformat": 4,
 "nbformat_minor": 2
}
