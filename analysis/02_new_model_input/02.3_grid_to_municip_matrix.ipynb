{
 "cells": [
  {
   "attachments": {},
   "cell_type": "markdown",
   "metadata": {},
   "source": [
    "# Creating grid to municipality matrix"
   ]
  },
  {
   "attachments": {},
   "cell_type": "markdown",
   "metadata": {},
   "source": [
    "## Using number of buildings\n",
    "The files were saved in the notebook `02.0_preprocessing.ipynb`"
   ]
  },
  {
   "cell_type": "code",
   "execution_count": null,
   "metadata": {},
   "outputs": [],
   "source": [
    "%load_ext jupyter_black\n",
    "import pandas as pd\n",
    "import numpy as np\n",
    "import os\n",
    "from pathlib import Path\n",
    "import geopandas as gpd"
   ]
  },
  {
   "cell_type": "code",
   "execution_count": null,
   "metadata": {},
   "outputs": [],
   "source": [
    "input_dir = (\n",
    "    Path(os.getenv(\"STORM_DATA_DIR\"))\n",
    "    / \"analysis/02_new_model_input/02_housing_damage/input/\"\n",
    ")\n",
    "output_dir = (\n",
    "    Path(os.getenv(\"STORM_DATA_DIR\"))\n",
    "    / \"analysis/02_new_model_input/02_housing_damage/output/\"\n",
    ")"
   ]
  },
  {
   "cell_type": "code",
   "execution_count": null,
   "metadata": {},
   "outputs": [],
   "source": [
    "grid_land_overlap = gpd.read_file(\n",
    "    output_dir / \"phl_0.1_degree_grid_land_overlap.gpkg\"\n",
    ")\n",
    "adm3_shp = gpd.read_file(input_dir / \"phl_adminboundaries_candidate_adm3.zip\")"
   ]
  },
  {
   "cell_type": "code",
   "execution_count": null,
   "metadata": {},
   "outputs": [],
   "source": [
    "# changing this to first check if buildings are in a municipality and filtering those out before joining with grid.\n",
    "phl_bld_centroids = gpd.read_file(input_dir / \"phl_bld_centroids.gpkg\")"
   ]
  },
  {
   "cell_type": "code",
   "execution_count": null,
   "metadata": {},
   "outputs": [],
   "source": [
    "phl_bld_centroids_within = gpd.sjoin(\n",
    "    phl_bld_centroids, adm3_shp, how=\"inner\", predicate=\"within\"\n",
    ")"
   ]
  },
  {
   "cell_type": "code",
   "execution_count": null,
   "metadata": {},
   "outputs": [],
   "source": [
    "phl_bld_centroids_within.drop([\"index_right\"], axis=1, inplace=True)"
   ]
  },
  {
   "cell_type": "code",
   "execution_count": null,
   "metadata": {},
   "outputs": [],
   "source": [
    "phl_bld_centroid_grid_count = grid_land_overlap.merge(\n",
    "    grid_land_overlap.sjoin(phl_bld_centroids_within, how=\"left\")\n",
    "    .groupby(\"id\")\n",
    "    .count()\n",
    "    .geometry.rename(\"numbuildings\")\n",
    "    .reset_index()\n",
    ")"
   ]
  },
  {
   "cell_type": "code",
   "execution_count": null,
   "metadata": {},
   "outputs": [],
   "source": [
    "# reading intersection csv\n",
    "phl_bld_centroid_municip_intersection_count = pd.read_csv(\n",
    "    input_dir / \"phl_hotosm_bld_centroid_municip_intersection_count.csv\"\n",
    ")\n",
    "# phl_bld_centroid_grid_count = pd.read_csv(input_dir / \"phl_hotosm_bld_centroid_grid_count.csv\")"
   ]
  },
  {
   "cell_type": "code",
   "execution_count": null,
   "metadata": {},
   "outputs": [],
   "source": [
    "phl_bld_centroid_grid_count"
   ]
  },
  {
   "cell_type": "code",
   "execution_count": null,
   "metadata": {},
   "outputs": [],
   "source": [
    "phl_bld_grid_matrix = phl_bld_centroid_municip_intersection_count.merge(\n",
    "    phl_bld_centroid_grid_count, on=\"id\", suffixes=(\"_x\", None)\n",
    ")\n",
    "phl_bld_grid_matrix.columns"
   ]
  },
  {
   "cell_type": "code",
   "execution_count": null,
   "metadata": {},
   "outputs": [],
   "source": [
    "phl_bld_grid_matrix[\"weight\"] = np.where(\n",
    "    phl_bld_grid_matrix[\"numbuildings\"] == 0,\n",
    "    0,\n",
    "    phl_bld_grid_matrix[\"numbuildings_x\"]\n",
    "    / phl_bld_grid_matrix[\"numbuildings\"],\n",
    ")\n",
    "phl_bld_grid_matrix[\"weight\"].describe()"
   ]
  },
  {
   "cell_type": "code",
   "execution_count": null,
   "metadata": {},
   "outputs": [],
   "source": [
    "phl_bld_grid_matrix[phl_bld_grid_matrix[\"Centroid_x\"] == \"126.4E_8.4N\"]"
   ]
  },
  {
   "cell_type": "code",
   "execution_count": null,
   "metadata": {},
   "outputs": [],
   "source": [
    "phl_bld_grid_matrix_sel = phl_bld_grid_matrix[\n",
    "    [\"ADM3_PCODE\", \"ADM3_EN\", \"id\", \"Centroid\", \"weight\"]\n",
    "]\n",
    "phl_bld_grid_matrix_sel"
   ]
  },
  {
   "cell_type": "code",
   "execution_count": null,
   "metadata": {},
   "outputs": [],
   "source": [
    "phl_bld_grid_matrix_sel.to_csv(\n",
    "    input_dir / \"phl_bld_grid_to_municip_matrix.csv\", index=False\n",
    ")"
   ]
  }
 ],
 "metadata": {
  "kernelspec": {
   "display_name": "globaltyphoon",
   "language": "python",
   "name": "python3"
  },
  "language_info": {
   "codemirror_mode": {
    "name": "ipython",
    "version": 3
   },
   "file_extension": ".py",
   "mimetype": "text/x-python",
   "name": "python",
   "nbconvert_exporter": "python",
   "pygments_lexer": "ipython3",
   "version": "3.9.0"
  },
  "orig_nbformat": 4,
  "vscode": {
   "interpreter": {
    "hash": "d0bf5227c718a54401bc80004b44f7ad33fb80a867a635817764b403a4b4c0f1"
   }
  }
 },
 "nbformat": 4,
 "nbformat_minor": 2
}
