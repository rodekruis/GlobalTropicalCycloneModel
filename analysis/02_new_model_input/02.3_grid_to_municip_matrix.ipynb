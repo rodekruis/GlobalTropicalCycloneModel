{
 "cells": [
  {
   "attachments": {},
   "cell_type": "markdown",
   "metadata": {},
   "source": [
    "# Creating grid to municipality matrix"
   ]
  },
  {
   "attachments": {},
   "cell_type": "markdown",
   "metadata": {},
   "source": [
    "## Using number of buidlings\n",
    "The files were saved in the notebook `02.0_preprocessing.ipynb`"
   ]
  },
  {
   "cell_type": "code",
   "execution_count": null,
   "metadata": {},
   "outputs": [],
   "source": [
    "%load_ext jupyter_black\n",
    "import pandas as pd\n",
    "import numpy as np\n",
    "import os\n",
    "from pathlib import Path"
   ]
  },
  {
   "cell_type": "code",
   "execution_count": null,
   "metadata": {},
   "outputs": [],
   "source": [
    "input_dir = (\n",
    "    Path(os.getenv(\"STORM_DATA_DIR\"))\n",
    "    / \"analysis/02_new_model_input/02_housing_damage/input/\"\n",
    ")"
   ]
  },
  {
   "cell_type": "code",
   "execution_count": null,
   "metadata": {},
   "outputs": [],
   "source": [
    "# reading intersection csv\n",
    "phl_bld_centroid_municip_intersection_count = pd.read_csv(input_dir / \"phl_hotosm_bld_centroid_municip_intersection_count.csv\")\n",
    "phl_bld_centroid_grid_count = pd.read_csv(input_dir / \"phl_hotosm_bld_centroid_grid_count.csv\")"
   ]
  },
  {
   "cell_type": "code",
   "execution_count": null,
   "metadata": {},
   "outputs": [],
   "source": [
    "phl_bld_grid_matrix = phl_bld_centroid_municip_intersection_count.merge(\n",
    "    phl_bld_centroid_grid_count, on=\"id\", suffixes=(\"_x\", None)\n",
    ")\n",
    "phl_bld_grid_matrix.columns"
   ]
  },
  {
   "cell_type": "code",
   "execution_count": null,
   "metadata": {},
   "outputs": [],
   "source": [
    "phl_bld_grid_matrix[\"weight\"] = np.where(\n",
    "    phl_bld_grid_matrix[\"numbuildings\"] == 0,\n",
    "    0,\n",
    "    phl_bld_grid_matrix[\"numbuildings_x\"]\n",
    "    / phl_bld_grid_matrix[\"numbuildings\"],\n",
    ")\n",
    "phl_bld_grid_matrix[\"weight\"].describe()"
   ]
  },
  {
   "cell_type": "code",
   "execution_count": null,
   "metadata": {},
   "outputs": [],
   "source": [
    "phl_bld_grid_matrix[phl_bld_grid_matrix[\"Centroid_x\"] == \"118.4E_9.7N\"]"
   ]
  },
  {
   "cell_type": "code",
   "execution_count": null,
   "metadata": {},
   "outputs": [],
   "source": [
    "phl_bld_grid_matrix_sel = phl_bld_grid_matrix[\n",
    "    [\"ADM3_PCODE\", \"ADM3_EN\", \"id\", \"Centroid\", \"weight\"]\n",
    "]\n",
    "phl_bld_grid_matrix_sel"
   ]
  },
  {
   "cell_type": "code",
   "execution_count": null,
   "metadata": {},
   "outputs": [],
   "source": [
    "phl_bld_grid_matrix_sel.to_csv(\n",
    "    input_dir / \"phl_bld_grid_to_municip_matrix.csv\"\n",
    ")"
   ]
  }
 ],
 "metadata": {
  "kernelspec": {
   "display_name": "globaltyphoon",
   "language": "python",
   "name": "python3"
  },
  "language_info": {
   "codemirror_mode": {
    "name": "ipython",
    "version": 3
   },
   "file_extension": ".py",
   "mimetype": "text/x-python",
   "name": "python",
   "nbconvert_exporter": "python",
   "pygments_lexer": "ipython3",
   "version": "3.9.0 (tags/v3.9.0:9cf6752, Oct  5 2020, 15:34:40) [MSC v.1927 64 bit (AMD64)]"
  },
  "orig_nbformat": 4,
  "vscode": {
   "interpreter": {
    "hash": "d0bf5227c718a54401bc80004b44f7ad33fb80a867a635817764b403a4b4c0f1"
   }
  }
 },
 "nbformat": 4,
 "nbformat_minor": 2
}
