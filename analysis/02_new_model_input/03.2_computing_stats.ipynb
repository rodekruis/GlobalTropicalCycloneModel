{
 "cells": [
  {
   "attachments": {},
   "cell_type": "markdown",
   "metadata": {},
   "source": [
    "# Notebook that reads in typhoon data and computes 6 hr and 24 hr max in mm/hr "
   ]
  },
  {
   "cell_type": "code",
   "execution_count": null,
   "metadata": {},
   "outputs": [],
   "source": [
    "%load_ext jupyter_black\n",
    "\n",
    "import pandas as pd\n",
    "import os\n",
    "from pathlib import Path\n",
    "import math\n",
    "import datetime\n",
    "\n",
    "# input\n",
    "input_dir = (\n",
    "    Path(os.getenv(\"STORM_DATA_DIR\"))\n",
    "    / \"analysis/02_new_model_input/03_rainfall/input\"\n",
    ")\n",
    "\n",
    "# outputs\n",
    "processed_output_dir = (\n",
    "    input_dir / \"gpm_data/rainfall_data/output_hhr_processed/\"\n",
    ")\n",
    "\n",
    "output_dir = (\n",
    "    Path(os.getenv(\"STORM_DATA_DIR\"))\n",
    "    / \"analysis/02_new_model_input/03_rainfall/output\"\n",
    ")\n",
    "typhoon_metadata = pd.read_csv(input_dir / \"metadata_typhoons.csv\")"
   ]
  },
  {
   "cell_type": "code",
   "execution_count": null,
   "metadata": {},
   "outputs": [],
   "source": [
    "# loading csv files\n",
    "typ_list = [\n",
    "    x for x in os.listdir(processed_output_dir) if x.endswith(\"_gridstats.csv\")\n",
    "]\n",
    "# typ_file = pd.read_csv(processed_output_dir + typ_list[0])\n",
    "# typ_file"
   ]
  },
  {
   "attachments": {},
   "cell_type": "markdown",
   "metadata": {},
   "source": [
    "This extracts the 6 hr and 24 hr max for each hour for both the mean and max columns."
   ]
  },
  {
   "cell_type": "code",
   "execution_count": null,
   "metadata": {},
   "outputs": [],
   "source": [
    "# To make sure the dates can be converted to date type\n",
    "typhoon_metadata[\"startdate\"] = [\n",
    "    str_col.replace(\"/\", \"-\") for str_col in typhoon_metadata[\"startdate\"]\n",
    "]\n",
    "typhoon_metadata[\"enddate\"] = [\n",
    "    str_col.replace(\"/\", \"-\") for str_col in typhoon_metadata[\"enddate\"]\n",
    "]\n",
    "typhoon_metadata[\"landfalldate\"] = [\n",
    "    str_col.replace(\"/\", \"-\") for str_col in typhoon_metadata[\"landfalldate\"]\n",
    "]\n",
    "\n",
    "typhoon_metadata[\"landfall_date_time\"] = (\n",
    "    typhoon_metadata[\"landfalldate\"] + \"-\" + typhoon_metadata[\"landfall_time\"]\n",
    ")\n",
    "\n",
    "typhoons = list(typhoon_metadata[\"typhoon\"].values)\n",
    "#%% Processing the data into an excel sheet\n",
    "time_frame_24 = 48  # in half hours\n",
    "time_frame_6 = 12  # in half hours\n",
    "mov_window = 12  # in half hours\n",
    "before_landfall_h = 72  # how many hours before landfall to include\n",
    "after_landfall_h = 72  # how many hours before landfall to include"
   ]
  },
  {
   "cell_type": "code",
   "execution_count": null,
   "metadata": {},
   "outputs": [],
   "source": [
    "# looping over all typhoons\n",
    "for stats in [\"mean\", \"max\"]:\n",
    "    df_rainfall_final = pd.DataFrame(\n",
    "        columns=[\"typhoon\", \"id\", \"Centroid\", \"rainfall_Total\"]\n",
    "    )\n",
    "    for typ in typhoons:\n",
    "        print(typ)\n",
    "        # Getting typhoon info\n",
    "        df_info = typhoon_metadata[typhoon_metadata[\"typhoon\"] == typ]\n",
    "        landfall = df_info[\"landfall_date_time\"].values[0]\n",
    "        landfall = datetime.datetime.strptime(landfall, \"%d-%m-%Y-%H:%M:%S\")\n",
    "        # End date is landfall date\n",
    "        # Start date is 72 hours before landfall date\n",
    "        # end_date = landfall\n",
    "        end_date = landfall + datetime.timedelta(\n",
    "            hours=after_landfall_h\n",
    "        )  # landfall\n",
    "        # start_date = end_date - datetime.timedelta(hours=before_landfall_h)\n",
    "        start_date = landfall - datetime.timedelta(hours=before_landfall_h)\n",
    "        # Loading the data\n",
    "        df_rainfall = pd.read_csv(\n",
    "            processed_output_dir / str(typ + \"_gridstats_\" + stats + \".csv\")\n",
    "        )\n",
    "        # Convert column names to date format\n",
    "        for col in df_rainfall.columns[2:]:\n",
    "            date_format = datetime.datetime.strptime(col, \"%Y%m%d_%H:%M:%S\")\n",
    "            df_rainfall = df_rainfall.rename(columns={col: date_format})\n",
    "\n",
    "        df_mean_rainfall = pd.DataFrame(\n",
    "            {\"id\": df_rainfall[\"id\"], \"Centroid\": df_rainfall[\"Centroid\"]}\n",
    "        )\n",
    "        available_dates_t = [\n",
    "            date\n",
    "            for date in df_rainfall.columns[2:]\n",
    "            if (date >= start_date) & (date < end_date)\n",
    "        ]\n",
    "        #####################################\n",
    "        df_mean_rainfall[\"rainfall_max_6h\"] = (\n",
    "            df_rainfall.iloc[:, 2:]\n",
    "            .rolling(time_frame_6, axis=1)\n",
    "            .mean()\n",
    "            .max(axis=1)\n",
    "        )\n",
    "\n",
    "        df_mean_rainfall[\"rainfall_max_24h\"] = (\n",
    "            df_rainfall.iloc[:, 2:]\n",
    "            .rolling(time_frame_24, axis=1)\n",
    "            .mean()\n",
    "            .max(axis=1)\n",
    "        )\n",
    "\n",
    "        df_mean_rainfall[\"rainfall_Total\"] = 0.5 * df_rainfall[\n",
    "            available_dates_t\n",
    "        ].sum(axis=1)\n",
    "\n",
    "        df_rainfall_single = df_mean_rainfall[\n",
    "            [\n",
    "                \"id\",\n",
    "                \"Centroid\",\n",
    "                \"rainfall_max_6h\",\n",
    "                \"rainfall_max_24h\",\n",
    "                \"rainfall_Total\",\n",
    "            ]\n",
    "        ]\n",
    "        df_rainfall_single[\"typhoon\"] = typ\n",
    "        df_rainfall_final = pd.concat([df_rainfall_final, df_rainfall_single])\n",
    "    df_rainfall_final.to_csv(\n",
    "        output_dir / str(\"rainfall_data_rw_\" + stats + \".csv\"), index=False\n",
    "    )"
   ]
  }
 ],
 "metadata": {
  "kernelspec": {
   "display_name": "globaltyphoon",
   "language": "python",
   "name": "python3"
  },
  "language_info": {
   "codemirror_mode": {
    "name": "ipython",
    "version": 3
   },
   "file_extension": ".py",
   "mimetype": "text/x-python",
   "name": "python",
   "nbconvert_exporter": "python",
   "pygments_lexer": "ipython3",
   "version": "3.9.0"
  },
  "orig_nbformat": 4,
  "vscode": {
   "interpreter": {
    "hash": "d0bf5227c718a54401bc80004b44f7ad33fb80a867a635817764b403a4b4c0f1"
   }
  }
 },
 "nbformat": 4,
 "nbformat_minor": 2
}
