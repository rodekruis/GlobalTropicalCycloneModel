{
 "cells": [
  {
   "cell_type": "markdown",
   "metadata": {},
   "source": [
    "# Outlining some pre-processing"
   ]
  },
  {
   "cell_type": "code",
   "execution_count": null,
   "metadata": {},
   "outputs": [],
   "source": [
    "%load_ext jupyter_black\n",
    "import os\n",
    "from pathlib import Path\n",
    "import geopandas as gpd\n",
    "from shapely.geometry import Polygon\n",
    "import numpy as np\n",
    "import matplotlib.pyplot as plt\n",
    "import pandas as pd\n",
    "\n",
    "pd.set_option(\"display.float_format\", lambda x: \"%.5f\" % x)"
   ]
  },
  {
   "cell_type": "code",
   "execution_count": null,
   "metadata": {},
   "outputs": [],
   "source": [
    "# gis_dir = Path(os.getenv(\"STORM_DATA_DIR\")) / \"gis files/\"\n",
    "input_dir = (\n",
    "    Path(os.getenv(\"STORM_DATA_DIR\"))\n",
    "    / \"analysis/02_new_model_input/02_housing_damage/input/\"\n",
    ")\n",
    "output_dir = (\n",
    "    Path(os.getenv(\"STORM_DATA_DIR\"))\n",
    "    / \"analysis/02_new_model_input/02_housing_damage/output/\"\n",
    ")\n",
    "adm3_shp = gpd.read_file(input_dir / \"phl_adminboundaries_candidate_adm3.zip\")"
   ]
  },
  {
   "cell_type": "code",
   "execution_count": null,
   "metadata": {},
   "outputs": [],
   "source": [
    "phl_north_bld = gpd.read_file(\n",
    "    input_dir / \"hotosm_phl_north_buildings_polygons_shp.zip\"\n",
    ")\n",
    "phl_south_bld = gpd.read_file(\n",
    "    input_dir / \"hotosm_phl_south_buildings_polygons_shp.zip\"\n",
    ")"
   ]
  },
  {
   "cell_type": "code",
   "execution_count": null,
   "metadata": {},
   "outputs": [],
   "source": [
    "phl_bld = pd.concat([phl_north_bld, phl_south_bld])"
   ]
  },
  {
   "cell_type": "code",
   "execution_count": null,
   "metadata": {},
   "outputs": [],
   "source": [
    "adm3_shp.loc[:, \"geometry\"].plot()"
   ]
  },
  {
   "cell_type": "markdown",
   "metadata": {},
   "source": [
    "## Creation of grid"
   ]
  },
  {
   "cell_type": "code",
   "execution_count": null,
   "metadata": {},
   "outputs": [],
   "source": [
    "# grid creation\n",
    "xmin, xmax, ymin, ymax = 114.25, 126.75, 4.55, 21.15\n",
    "\n",
    "cell_size = 0.1\n",
    "\n",
    "cols = list(np.arange(xmin, xmax + cell_size, cell_size))\n",
    "rows = list(np.arange(ymin, ymax + cell_size, cell_size))\n",
    "rows.reverse()\n",
    "\n",
    "polygons = []\n",
    "for x in cols:\n",
    "    for y in rows:\n",
    "        polygons.append(\n",
    "            Polygon(\n",
    "                [\n",
    "                    (x, y),\n",
    "                    (x + cell_size, y),\n",
    "                    (x + cell_size, y - cell_size),\n",
    "                    (x, y - cell_size),\n",
    "                ]\n",
    "            )\n",
    "        )\n",
    "\n",
    "grid = gpd.GeoDataFrame({\"geometry\": polygons}, crs=adm3_shp.crs)\n",
    "grid[\"id\"] = grid.index + 1\n",
    "# grid.to_crs(epsg=4326, inplace=True)\n",
    "grid.head()"
   ]
  },
  {
   "cell_type": "code",
   "execution_count": null,
   "metadata": {},
   "outputs": [],
   "source": [
    "grid.loc[:, \"geometry\"].plot()"
   ]
  },
  {
   "cell_type": "code",
   "execution_count": null,
   "metadata": {},
   "outputs": [],
   "source": [
    "# write as geopackage\n",
    "grid.to_file(output_dir / \"phl_0.1_degree_grid.gpkg\", driver=\"GPKG\")"
   ]
  },
  {
   "cell_type": "markdown",
   "metadata": {},
   "source": [
    "## Creation of centroids"
   ]
  },
  {
   "cell_type": "code",
   "execution_count": null,
   "metadata": {},
   "outputs": [],
   "source": [
    "# creating centroids\n",
    "# Grid\n",
    "# Extract lat and lon from the centerpoint\n",
    "grid[\"Longitude\"] = grid[\"geometry\"].centroid.map(lambda p: p.x)\n",
    "grid[\"Latitude\"] = grid[\"geometry\"].centroid.map(lambda p: p.y)\n",
    "grid[\"Centroid\"] = (\n",
    "    round(grid[\"Longitude\"], 2).astype(str)\n",
    "    + \"E\"\n",
    "    + \"_\"\n",
    "    + +round(grid[\"Latitude\"], 2).astype(str)\n",
    "    + \"N\"\n",
    ")\n",
    "grid.head(5)"
   ]
  },
  {
   "cell_type": "code",
   "execution_count": null,
   "metadata": {},
   "outputs": [],
   "source": [
    "# Centroids\n",
    "grid_centroids = grid.copy()\n",
    "grid_centroids[\"geometry\"] = grid_centroids[\"geometry\"].centroid\n",
    "grid_centroids.loc[:, \"geometry\"].plot()"
   ]
  },
  {
   "cell_type": "code",
   "execution_count": null,
   "metadata": {},
   "outputs": [],
   "source": [
    "# write as geopackage\n",
    "grid_centroids.to_file(\n",
    "    output_dir / \"phl_0.1_degree_grid_centroids.gpkg\", driver=\"GPKG\"\n",
    ")"
   ]
  },
  {
   "cell_type": "code",
   "execution_count": null,
   "metadata": {},
   "outputs": [],
   "source": [
    "# building centroids\n",
    "phl_bld_centroids = phl_bld.copy()\n",
    "phl_bld_centroids[\"geometry\"] = phl_bld_centroids[\"geometry\"].centroid\n",
    "phl_bld_centroids.to_file(input_dir / \"phl_bld_centroids.gpkg\", driver=\"GPKG\")"
   ]
  },
  {
   "cell_type": "markdown",
   "metadata": {},
   "source": [
    "## Intersection of grid and admin shapefile"
   ]
  },
  {
   "cell_type": "code",
   "execution_count": null,
   "metadata": {},
   "outputs": [],
   "source": [
    "# intersection of grid and shapefile\n",
    "adm3_grid_intersection = gpd.overlay(adm3_shp, grid, how=\"identity\")\n",
    "# adm3_grid_intersection = gpd.sjoin(adm3_shp, grid)\n",
    "adm3_grid_intersection.loc[:, \"geometry\"].plot()\n",
    "plt.axis([124, 126, 10, 11])"
   ]
  },
  {
   "cell_type": "code",
   "execution_count": null,
   "metadata": {},
   "outputs": [],
   "source": [
    "adm3_grid_intersection = adm3_grid_intersection.dropna(subset=[\"id\"])\n",
    "adm3_grid_intersection.loc[\n",
    "    adm3_grid_intersection[\"ADM3_PCODE\"] == \"PH084808000\"\n",
    "]"
   ]
  },
  {
   "cell_type": "markdown",
   "metadata": {},
   "source": [
    "### For only grids that overlap with land"
   ]
  },
  {
   "cell_type": "code",
   "execution_count": null,
   "metadata": {},
   "outputs": [],
   "source": [
    "grid_land_overlap = grid.loc[grid[\"id\"].isin(adm3_grid_intersection[\"id\"])]\n",
    "grid_land_overlap.to_file(\n",
    "    output_dir / \"phl_0.1_degree_grid_land_overlap.gpkg\", driver=\"GPKG\"\n",
    ")\n",
    "grid_land_overlap_centroids = grid_centroids.loc[\n",
    "    grid[\"id\"].isin(adm3_grid_intersection[\"id\"])\n",
    "]\n",
    "grid_land_overlap_centroids.to_file(\n",
    "    output_dir / \"phl_0.1_degree_grid_centroids_land_overlap.gpkg\",\n",
    "    driver=\"GPKG\",\n",
    ")"
   ]
  },
  {
   "cell_type": "markdown",
   "metadata": {},
   "source": [
    "## Area Computation"
   ]
  },
  {
   "cell_type": "code",
   "execution_count": null,
   "metadata": {},
   "outputs": [],
   "source": [
    "# computing areas\n",
    "adm3_shp_area = adm3_shp.copy()\n",
    "adm3_shp_area = adm3_shp_area.to_crs({\"proj\": \"cea\"})\n",
    "adm3_shp_area[\"Area\"] = adm3_shp_area[\"geometry\"].area\n",
    "adm3_shp_area[\"Area\"].describe()\n",
    "adm3_shp_area.to_csv(input_dir / \"adm3_area.csv\")"
   ]
  },
  {
   "cell_type": "code",
   "execution_count": null,
   "metadata": {},
   "outputs": [],
   "source": [
    "grid_area = grid.copy()\n",
    "grid_area = grid_area.to_crs({\"proj\": \"cea\"})\n",
    "grid_area[\"Area_2\"] = grid_area[\"geometry\"].area\n",
    "grid_area[\"Area_2\"].describe()"
   ]
  },
  {
   "cell_type": "code",
   "execution_count": null,
   "metadata": {},
   "outputs": [],
   "source": [
    "adm3_grid_intersection_area = adm3_grid_intersection.copy()\n",
    "adm3_grid_intersection_area = adm3_grid_intersection_area.to_crs(\n",
    "    {\"proj\": \"cea\"}\n",
    ")\n",
    "adm3_grid_intersection_area[\"Area_3\"] = adm3_grid_intersection_area[\n",
    "    \"geometry\"\n",
    "].area\n",
    "adm3_grid_intersection_area[\"Area_3\"].describe()"
   ]
  },
  {
   "cell_type": "code",
   "execution_count": null,
   "metadata": {},
   "outputs": [],
   "source": [
    "# merge\n",
    "phl_adm3_grid_intersections_area = adm3_shp_area.merge(\n",
    "    grid_area.merge(\n",
    "        adm3_grid_intersection_area, on=\"id\", suffixes=(None, \"_3\")\n",
    "    ),\n",
    "    on=\"ADM3_PCODE\",\n",
    "    suffixes=(None, \"_2\"),\n",
    ")\n",
    "\n",
    "phl_adm3_grid_intersections_area.drop(\n",
    "    phl_adm3_grid_intersections_area.filter(regex=\"geometry\").columns,\n",
    "    axis=1,\n",
    "    inplace=True,\n",
    ")\n",
    "phl_adm3_grid_intersections_area.to_csv(\n",
    "    input_dir / \"phl_adm3_grid_intersections_area.csv\"\n",
    ")"
   ]
  },
  {
   "cell_type": "markdown",
   "metadata": {},
   "source": [
    "## Building Count"
   ]
  },
  {
   "cell_type": "markdown",
   "metadata": {},
   "source": [
    "### Assigning Buildings to Grids"
   ]
  },
  {
   "cell_type": "code",
   "execution_count": null,
   "metadata": {},
   "outputs": [],
   "source": [
    "phl_bld_centroid_grid_count = grid_land_overlap.merge(\n",
    "    grid_land_overlap.sjoin(phl_bld_centroids)\n",
    "    .groupby(\"id\")\n",
    "    .count()\n",
    "    .geometry.rename(\"numbuildings\")\n",
    "    .reset_index()\n",
    ")\n",
    "phl_bld_centroid_grid_count.to_csv(\n",
    "    input_dir / \"phl_hotosm_bld_centroid_grid_count.csv\"\n",
    ")"
   ]
  },
  {
   "cell_type": "code",
   "execution_count": null,
   "metadata": {},
   "outputs": [],
   "source": [
    "phl_bld_centroid_grid_count.head(8)"
   ]
  },
  {
   "cell_type": "code",
   "execution_count": null,
   "metadata": {},
   "outputs": [],
   "source": [
    "phl_bld_centroid_grid_count[\"numbuildings\"].sum()"
   ]
  },
  {
   "cell_type": "markdown",
   "metadata": {},
   "source": [
    "### Testing new way of counting buildings"
   ]
  },
  {
   "cell_type": "code",
   "execution_count": null,
   "metadata": {},
   "outputs": [],
   "source": [
    "# assigning buildings to municipalities\n",
    "phl_bld_centroid_municip_count = adm3_shp.merge(\n",
    "    adm3_shp.sjoin(phl_bld_centroids)\n",
    "    .groupby(\"ADM3_PCODE\")\n",
    "    .count()\n",
    "    .geometry.rename(\"numbuildings\")\n",
    "    .reset_index()\n",
    ")\n",
    "phl_bld_centroid_municip_count.to_csv(\n",
    "    input_dir / \"phl_hotosm_bld_centroid_municip_count.csv\"\n",
    ")"
   ]
  },
  {
   "cell_type": "code",
   "execution_count": null,
   "metadata": {},
   "outputs": [],
   "source": [
    "phl_bld_centroid_municip_count[\"numbuildings\"].sum()"
   ]
  },
  {
   "cell_type": "code",
   "execution_count": null,
   "metadata": {},
   "outputs": [],
   "source": [
    "# assigning buildings to intersections\n",
    "phl_bld_centroid_municip_intersection_count = adm3_grid_intersection.merge(\n",
    "    adm3_grid_intersection.sjoin(phl_bld_centroids)\n",
    "    .groupby([\"ADM3_PCODE\", \"Centroid\"])\n",
    "    .count()\n",
    "    .geometry.rename(\"numbuildings\")\n",
    "    .reset_index()\n",
    ")\n",
    "phl_bld_centroid_municip_intersection_count.to_csv(\n",
    "    input_dir / \"phl_hotosm_bld_centroid_municip_intersection_count.csv\"\n",
    ")"
   ]
  },
  {
   "cell_type": "code",
   "execution_count": null,
   "metadata": {},
   "outputs": [],
   "source": [
    "phl_bld_centroid_municip_count.shape"
   ]
  },
  {
   "cell_type": "code",
   "execution_count": null,
   "metadata": {},
   "outputs": [],
   "source": [
    "phl_bld_centroid_municip_intersection_count.shape"
   ]
  },
  {
   "cell_type": "code",
   "execution_count": null,
   "metadata": {},
   "outputs": [],
   "source": [
    "phl_bld_weight_matrix = phl_bld_centroid_municip_count.merge(\n",
    "    phl_bld_centroid_municip_intersection_count,\n",
    "    on=\"ADM3_PCODE\",\n",
    "    suffixes=(None, \"_y\"),\n",
    ")\n",
    "phl_bld_weight_matrix[\"weight\"] = (\n",
    "    phl_bld_weight_matrix[\"numbuildings_y\"]\n",
    "    / phl_bld_weight_matrix[\"numbuildings\"]\n",
    ")"
   ]
  },
  {
   "cell_type": "code",
   "execution_count": null,
   "metadata": {},
   "outputs": [],
   "source": [
    "phl_bld_weight_matrix[\"weight\"].describe()"
   ]
  },
  {
   "cell_type": "code",
   "execution_count": null,
   "metadata": {},
   "outputs": [],
   "source": [
    "phl_bld_weight_matrix.columns"
   ]
  },
  {
   "cell_type": "code",
   "execution_count": null,
   "metadata": {},
   "outputs": [],
   "source": [
    "phl_bld_weight_matrix[\n",
    "    [\"ADM3_PCODE\", \"ADM3_EN\", \"id\", \"Centroid\", \"weight\"]\n",
    "].to_csv(input_dir / \"phl_bld_weight_matrix.csv\")"
   ]
  }
 ],
 "metadata": {
  "kernelspec": {
   "display_name": "Python 3.9.0 ('globaltyphoon')",
   "language": "python",
   "name": "python3"
  },
  "language_info": {
   "codemirror_mode": {
    "name": "ipython",
    "version": 3
   },
   "file_extension": ".py",
   "mimetype": "text/x-python",
   "name": "python",
   "nbconvert_exporter": "python",
   "pygments_lexer": "ipython3",
   "version": "3.9.0"
  },
  "orig_nbformat": 4,
  "vscode": {
   "interpreter": {
    "hash": "d0bf5227c718a54401bc80004b44f7ad33fb80a867a635817764b403a4b4c0f1"
   }
  }
 },
 "nbformat": 4,
 "nbformat_minor": 2
}
