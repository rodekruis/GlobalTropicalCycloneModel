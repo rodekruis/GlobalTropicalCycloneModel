{
 "cells": [
  {
   "attachments": {},
   "cell_type": "markdown",
   "metadata": {},
   "source": [
    "# Adding Housing Construction Materials"
   ]
  },
  {
   "attachments": {},
   "cell_type": "markdown",
   "metadata": {},
   "source": [
    "Based on a discussion on the performance of the model without the construction materials features, we are testing out using the materials but converting from municipality to grid values based on weights computed from Google Building Footprint data. Will look at the performance of the model after adding these."
   ]
  },
  {
   "cell_type": "code",
   "execution_count": 1,
   "metadata": {},
   "outputs": [
    {
     "data": {
      "text/html": [
       "\n",
       "                <script type=\"application/javascript\" id=\"jupyter_black\">\n",
       "                (function() {\n",
       "                    if (window.IPython === undefined) {\n",
       "                        return\n",
       "                    }\n",
       "                    var msg = \"WARNING: it looks like you might have loaded \" +\n",
       "                        \"jupyter_black in a non-lab notebook with \" +\n",
       "                        \"`is_lab=True`. Please double check, and if \" +\n",
       "                        \"loading with `%load_ext` please review the README!\"\n",
       "                    console.log(msg)\n",
       "                    alert(msg)\n",
       "                })()\n",
       "                </script>\n",
       "                "
      ],
      "text/plain": [
       "<IPython.core.display.HTML object>"
      ]
     },
     "metadata": {},
     "output_type": "display_data"
    }
   ],
   "source": [
    "%load_ext jupyter_black\n",
    "import pandas as pd\n",
    "import geopandas as gpd\n",
    "from pathlib import Path\n",
    "import os"
   ]
  },
  {
   "cell_type": "code",
   "execution_count": 16,
   "metadata": {},
   "outputs": [],
   "source": [
    "base_dir = Path(os.getenv(\"STORM_DATA_DIR\")) / \"analysis/02_new_model_input/\"\n",
    "input_dir = base_dir / \"05_vulnerablility/input/\"\n",
    "output_dir = base_dir / \"05_vulnerablility/output/\"\n",
    "weights_dir = base_dir / \"02_housing_damage/input/Google Footprint Data/\"\n",
    "hu_dir = base_dir / \"02_housing_damage/output/\""
   ]
  },
  {
   "cell_type": "code",
   "execution_count": 17,
   "metadata": {},
   "outputs": [],
   "source": [
    "mun_to_grid_weights = pd.read_csv(weights_dir / \"ggl_mun_to_grid_weights.csv\")\n",
    "construction_materials_df = pd.read_excel(\n",
    "    input_dir\n",
    "    / \"180814_construction-materials-of-the-outer-walls-and-roof_by-city_municipality.xlsx\",\n",
    "    sheet_name=\"by category\",\n",
    ")\n",
    "hu_bygrid = pd.read_csv(hu_dir / \"transformed_housingunits_bygrid.csv\")"
   ]
  },
  {
   "cell_type": "code",
   "execution_count": 18,
   "metadata": {},
   "outputs": [
    {
     "data": {
      "text/plain": [
       "Index(['Region', 'Region Code', 'Province', 'Province Code',\n",
       "       'Municipality_City', 'Municipality_City Code', 'Housing Units',\n",
       "       'Strong Roof/Strong Wall', 'Strong Roof/Light Wall',\n",
       "       'Strong Roof/Salvage Wall', 'Light Roof/Strong Wall',\n",
       "       'Light Roof/Light Wall', 'Light Roof/Salvage Wall',\n",
       "       'Salvaged Roof/Strong Wall', 'Salvaged Roof/Light Wall',\n",
       "       'Salvaged Roof/Salvage Wall'],\n",
       "      dtype='object')"
      ]
     },
     "execution_count": 18,
     "metadata": {},
     "output_type": "execute_result"
    }
   ],
   "source": [
    "construction_materials_df.columns"
   ]
  },
  {
   "cell_type": "code",
   "execution_count": 35,
   "metadata": {},
   "outputs": [
    {
     "data": {
      "text/plain": [
       "14153053"
      ]
     },
     "execution_count": 35,
     "metadata": {},
     "output_type": "execute_result"
    }
   ],
   "source": [
    "construction_materials_df[\"Strong Roof/Strong Wall\"].sum()"
   ]
  },
  {
   "cell_type": "code",
   "execution_count": 19,
   "metadata": {},
   "outputs": [],
   "source": [
    "merged_df = construction_materials_df.merge(\n",
    "    mun_to_grid_weights[[\"ADM3_PCODE\", \"id\", \"Centroid\", \"weight\"]],\n",
    "    how=\"right\",\n",
    "    left_on=\"Municipality_City Code\",\n",
    "    right_on=\"ADM3_PCODE\",\n",
    ")"
   ]
  },
  {
   "cell_type": "code",
   "execution_count": 20,
   "metadata": {},
   "outputs": [],
   "source": [
    "# There are 2 ways of going about this conversion to grid values\n",
    "# 1. Convert the mun values to grid values using the weights and compute the % from the grid HUs\n",
    "# 2. Compute % values by municipality then convert those values using the weights to grid values."
   ]
  },
  {
   "cell_type": "code",
   "execution_count": 21,
   "metadata": {},
   "outputs": [],
   "source": [
    "# Method 1\n",
    "# merged_df.loc[:, merged_df.columns.str.contains(\"Roof\")]\n",
    "merged_df.drop(\n",
    "    [\n",
    "        \"Region\",\n",
    "        \"Region Code\",\n",
    "        \"Province\",\n",
    "        \"Province Code\",\n",
    "        \"Municipality_City\",\n",
    "        \"Housing Units\",\n",
    "    ],\n",
    "    inplace=True,\n",
    "    axis=1,\n",
    ")"
   ]
  },
  {
   "cell_type": "code",
   "execution_count": 30,
   "metadata": {},
   "outputs": [],
   "source": [
    "merged_df[\n",
    "    merged_df.columns[merged_df.columns.str.contains(\"Roof\")]\n",
    "] = merged_df.loc[:, merged_df.columns.str.contains(\"Roof\")].multiply(\n",
    "    merged_df[\"weight\"], axis=\"index\"\n",
    ")"
   ]
  },
  {
   "cell_type": "code",
   "execution_count": 31,
   "metadata": {},
   "outputs": [
    {
     "name": "stderr",
     "output_type": "stream",
     "text": [
      "C:\\Users\\pauni\\AppData\\Local\\Temp\\ipykernel_27268\\1508198058.py:1: FutureWarning: The default value of numeric_only in DataFrameGroupBy.sum is deprecated. In a future version, numeric_only will default to False. Either specify numeric_only or select only columns which should be valid for the function.\n",
      "  merged_grid_df = merged_df.groupby([\"id\", \"Centroid\"]).sum().reset_index()\n"
     ]
    }
   ],
   "source": [
    "merged_grid_df = merged_df.groupby([\"id\", \"Centroid\"]).sum().reset_index()"
   ]
  },
  {
   "cell_type": "code",
   "execution_count": 34,
   "metadata": {},
   "outputs": [
    {
     "data": {
      "text/plain": [
       "14153052.999999996"
      ]
     },
     "execution_count": 34,
     "metadata": {},
     "output_type": "execute_result"
    }
   ],
   "source": [
    "merged_grid_df[\"Strong Roof/Strong Wall\"].sum()"
   ]
  },
  {
   "cell_type": "code",
   "execution_count": 38,
   "metadata": {},
   "outputs": [],
   "source": [
    "merged_grid_df.drop(\"weight\", inplace=True, axis=1)"
   ]
  },
  {
   "cell_type": "code",
   "execution_count": 40,
   "metadata": {},
   "outputs": [],
   "source": [
    "hu_conmat_df = hu_bygrid.merge(merged_grid_df, on=[\"id\", \"Centroid\"])"
   ]
  },
  {
   "cell_type": "code",
   "execution_count": 41,
   "metadata": {},
   "outputs": [
    {
     "data": {
      "text/html": [
       "<div>\n",
       "<style scoped>\n",
       "    .dataframe tbody tr th:only-of-type {\n",
       "        vertical-align: middle;\n",
       "    }\n",
       "\n",
       "    .dataframe tbody tr th {\n",
       "        vertical-align: top;\n",
       "    }\n",
       "\n",
       "    .dataframe thead th {\n",
       "        text-align: right;\n",
       "    }\n",
       "</style>\n",
       "<table border=\"1\" class=\"dataframe\">\n",
       "  <thead>\n",
       "    <tr style=\"text-align: right;\">\n",
       "      <th></th>\n",
       "      <th>id</th>\n",
       "      <th>Centroid</th>\n",
       "      <th>numbuildings</th>\n",
       "      <th>Number of Household</th>\n",
       "      <th>hu_bygrid</th>\n",
       "      <th>Strong Roof/Strong Wall</th>\n",
       "      <th>Strong Roof/Light Wall</th>\n",
       "      <th>Strong Roof/Salvage Wall</th>\n",
       "      <th>Light Roof/Strong Wall</th>\n",
       "      <th>Light Roof/Light Wall</th>\n",
       "      <th>Light Roof/Salvage Wall</th>\n",
       "      <th>Salvaged Roof/Strong Wall</th>\n",
       "      <th>Salvaged Roof/Light Wall</th>\n",
       "      <th>Salvaged Roof/Salvage Wall</th>\n",
       "    </tr>\n",
       "  </thead>\n",
       "  <tbody>\n",
       "    <tr>\n",
       "      <th>0</th>\n",
       "      <td>101</td>\n",
       "      <td>114.3E_11.1N</td>\n",
       "      <td>1</td>\n",
       "      <td>31.0</td>\n",
       "      <td>31.000000</td>\n",
       "      <td>7.000000</td>\n",
       "      <td>24.000000</td>\n",
       "      <td>0.000000</td>\n",
       "      <td>0.000000</td>\n",
       "      <td>0.000000</td>\n",
       "      <td>0.000000</td>\n",
       "      <td>0.000000</td>\n",
       "      <td>0.000000</td>\n",
       "      <td>0.000000</td>\n",
       "    </tr>\n",
       "    <tr>\n",
       "      <th>1</th>\n",
       "      <td>4475</td>\n",
       "      <td>116.9E_7.9N</td>\n",
       "      <td>3</td>\n",
       "      <td>8445.0</td>\n",
       "      <td>3.301020</td>\n",
       "      <td>0.087127</td>\n",
       "      <td>1.392465</td>\n",
       "      <td>0.000000</td>\n",
       "      <td>0.014521</td>\n",
       "      <td>1.800235</td>\n",
       "      <td>0.001177</td>\n",
       "      <td>0.000000</td>\n",
       "      <td>0.000785</td>\n",
       "      <td>0.000000</td>\n",
       "    </tr>\n",
       "    <tr>\n",
       "      <th>2</th>\n",
       "      <td>4639</td>\n",
       "      <td>117.0E_8.2N</td>\n",
       "      <td>11</td>\n",
       "      <td>8445.0</td>\n",
       "      <td>12.103741</td>\n",
       "      <td>0.319466</td>\n",
       "      <td>5.105704</td>\n",
       "      <td>0.000000</td>\n",
       "      <td>0.053244</td>\n",
       "      <td>6.600863</td>\n",
       "      <td>0.004317</td>\n",
       "      <td>0.000000</td>\n",
       "      <td>0.002878</td>\n",
       "      <td>0.000000</td>\n",
       "    </tr>\n",
       "    <tr>\n",
       "      <th>3</th>\n",
       "      <td>4640</td>\n",
       "      <td>117.0E_8.1N</td>\n",
       "      <td>587</td>\n",
       "      <td>8445.0</td>\n",
       "      <td>645.899660</td>\n",
       "      <td>17.047881</td>\n",
       "      <td>272.458922</td>\n",
       "      <td>0.000000</td>\n",
       "      <td>2.841313</td>\n",
       "      <td>352.246075</td>\n",
       "      <td>0.230377</td>\n",
       "      <td>0.000000</td>\n",
       "      <td>0.153585</td>\n",
       "      <td>0.000000</td>\n",
       "    </tr>\n",
       "    <tr>\n",
       "      <th>4</th>\n",
       "      <td>4641</td>\n",
       "      <td>117.0E_8.0N</td>\n",
       "      <td>974</td>\n",
       "      <td>8445.0</td>\n",
       "      <td>1071.731293</td>\n",
       "      <td>28.287284</td>\n",
       "      <td>452.086866</td>\n",
       "      <td>0.000000</td>\n",
       "      <td>4.714547</td>\n",
       "      <td>584.476452</td>\n",
       "      <td>0.382261</td>\n",
       "      <td>0.000000</td>\n",
       "      <td>0.254840</td>\n",
       "      <td>0.000000</td>\n",
       "    </tr>\n",
       "    <tr>\n",
       "      <th>...</th>\n",
       "      <td>...</td>\n",
       "      <td>...</td>\n",
       "      <td>...</td>\n",
       "      <td>...</td>\n",
       "      <td>...</td>\n",
       "      <td>...</td>\n",
       "      <td>...</td>\n",
       "      <td>...</td>\n",
       "      <td>...</td>\n",
       "      <td>...</td>\n",
       "      <td>...</td>\n",
       "      <td>...</td>\n",
       "      <td>...</td>\n",
       "      <td>...</td>\n",
       "    </tr>\n",
       "    <tr>\n",
       "      <th>3721</th>\n",
       "      <td>20677</td>\n",
       "      <td>126.6E_7.6N</td>\n",
       "      <td>7393</td>\n",
       "      <td>13355.0</td>\n",
       "      <td>4449.357133</td>\n",
       "      <td>1991.623394</td>\n",
       "      <td>2069.140665</td>\n",
       "      <td>32.214970</td>\n",
       "      <td>7.718170</td>\n",
       "      <td>282.887704</td>\n",
       "      <td>7.382597</td>\n",
       "      <td>1.677863</td>\n",
       "      <td>15.436340</td>\n",
       "      <td>29.194816</td>\n",
       "    </tr>\n",
       "    <tr>\n",
       "      <th>3722</th>\n",
       "      <td>20678</td>\n",
       "      <td>126.6E_7.5N</td>\n",
       "      <td>2528</td>\n",
       "      <td>13355.0</td>\n",
       "      <td>1521.435795</td>\n",
       "      <td>681.025827</td>\n",
       "      <td>707.532477</td>\n",
       "      <td>11.015751</td>\n",
       "      <td>2.639190</td>\n",
       "      <td>96.732059</td>\n",
       "      <td>2.524443</td>\n",
       "      <td>0.573737</td>\n",
       "      <td>5.278380</td>\n",
       "      <td>9.983024</td>\n",
       "    </tr>\n",
       "    <tr>\n",
       "      <th>3723</th>\n",
       "      <td>20679</td>\n",
       "      <td>126.6E_7.4N</td>\n",
       "      <td>1484</td>\n",
       "      <td>22594.0</td>\n",
       "      <td>930.647069</td>\n",
       "      <td>233.390634</td>\n",
       "      <td>332.686995</td>\n",
       "      <td>2.144011</td>\n",
       "      <td>9.186363</td>\n",
       "      <td>343.398737</td>\n",
       "      <td>1.034035</td>\n",
       "      <td>0.104171</td>\n",
       "      <td>4.484423</td>\n",
       "      <td>1.956503</td>\n",
       "    </tr>\n",
       "    <tr>\n",
       "      <th>3724</th>\n",
       "      <td>20680</td>\n",
       "      <td>126.6E_7.3N</td>\n",
       "      <td>2798</td>\n",
       "      <td>18905.0</td>\n",
       "      <td>1800.666044</td>\n",
       "      <td>302.457800</td>\n",
       "      <td>550.919141</td>\n",
       "      <td>0.387762</td>\n",
       "      <td>23.839915</td>\n",
       "      <td>907.475646</td>\n",
       "      <td>1.528452</td>\n",
       "      <td>0.000000</td>\n",
       "      <td>9.436144</td>\n",
       "      <td>0.380230</td>\n",
       "    </tr>\n",
       "    <tr>\n",
       "      <th>3725</th>\n",
       "      <td>20681</td>\n",
       "      <td>126.6E_7.2N</td>\n",
       "      <td>468</td>\n",
       "      <td>9666.0</td>\n",
       "      <td>373.146778</td>\n",
       "      <td>65.167531</td>\n",
       "      <td>59.136402</td>\n",
       "      <td>0.039163</td>\n",
       "      <td>4.347113</td>\n",
       "      <td>242.498410</td>\n",
       "      <td>0.039163</td>\n",
       "      <td>0.000000</td>\n",
       "      <td>0.626611</td>\n",
       "      <td>0.000000</td>\n",
       "    </tr>\n",
       "  </tbody>\n",
       "</table>\n",
       "<p>3726 rows × 14 columns</p>\n",
       "</div>"
      ],
      "text/plain": [
       "         id      Centroid  numbuildings  Number of Household    hu_bygrid  \\\n",
       "0       101  114.3E_11.1N             1                 31.0    31.000000   \n",
       "1      4475   116.9E_7.9N             3               8445.0     3.301020   \n",
       "2      4639   117.0E_8.2N            11               8445.0    12.103741   \n",
       "3      4640   117.0E_8.1N           587               8445.0   645.899660   \n",
       "4      4641   117.0E_8.0N           974               8445.0  1071.731293   \n",
       "...     ...           ...           ...                  ...          ...   \n",
       "3721  20677   126.6E_7.6N          7393              13355.0  4449.357133   \n",
       "3722  20678   126.6E_7.5N          2528              13355.0  1521.435795   \n",
       "3723  20679   126.6E_7.4N          1484              22594.0   930.647069   \n",
       "3724  20680   126.6E_7.3N          2798              18905.0  1800.666044   \n",
       "3725  20681   126.6E_7.2N           468               9666.0   373.146778   \n",
       "\n",
       "      Strong Roof/Strong Wall  Strong Roof/Light Wall  \\\n",
       "0                    7.000000               24.000000   \n",
       "1                    0.087127                1.392465   \n",
       "2                    0.319466                5.105704   \n",
       "3                   17.047881              272.458922   \n",
       "4                   28.287284              452.086866   \n",
       "...                       ...                     ...   \n",
       "3721              1991.623394             2069.140665   \n",
       "3722               681.025827              707.532477   \n",
       "3723               233.390634              332.686995   \n",
       "3724               302.457800              550.919141   \n",
       "3725                65.167531               59.136402   \n",
       "\n",
       "      Strong Roof/Salvage Wall  Light Roof/Strong Wall  Light Roof/Light Wall  \\\n",
       "0                     0.000000                0.000000               0.000000   \n",
       "1                     0.000000                0.014521               1.800235   \n",
       "2                     0.000000                0.053244               6.600863   \n",
       "3                     0.000000                2.841313             352.246075   \n",
       "4                     0.000000                4.714547             584.476452   \n",
       "...                        ...                     ...                    ...   \n",
       "3721                 32.214970                7.718170             282.887704   \n",
       "3722                 11.015751                2.639190              96.732059   \n",
       "3723                  2.144011                9.186363             343.398737   \n",
       "3724                  0.387762               23.839915             907.475646   \n",
       "3725                  0.039163                4.347113             242.498410   \n",
       "\n",
       "      Light Roof/Salvage Wall  Salvaged Roof/Strong Wall  \\\n",
       "0                    0.000000                   0.000000   \n",
       "1                    0.001177                   0.000000   \n",
       "2                    0.004317                   0.000000   \n",
       "3                    0.230377                   0.000000   \n",
       "4                    0.382261                   0.000000   \n",
       "...                       ...                        ...   \n",
       "3721                 7.382597                   1.677863   \n",
       "3722                 2.524443                   0.573737   \n",
       "3723                 1.034035                   0.104171   \n",
       "3724                 1.528452                   0.000000   \n",
       "3725                 0.039163                   0.000000   \n",
       "\n",
       "      Salvaged Roof/Light Wall  Salvaged Roof/Salvage Wall  \n",
       "0                     0.000000                    0.000000  \n",
       "1                     0.000785                    0.000000  \n",
       "2                     0.002878                    0.000000  \n",
       "3                     0.153585                    0.000000  \n",
       "4                     0.254840                    0.000000  \n",
       "...                        ...                         ...  \n",
       "3721                 15.436340                   29.194816  \n",
       "3722                  5.278380                    9.983024  \n",
       "3723                  4.484423                    1.956503  \n",
       "3724                  9.436144                    0.380230  \n",
       "3725                  0.626611                    0.000000  \n",
       "\n",
       "[3726 rows x 14 columns]"
      ]
     },
     "execution_count": 41,
     "metadata": {},
     "output_type": "execute_result"
    }
   ],
   "source": [
    "hu_conmat_df"
   ]
  }
 ],
 "metadata": {
  "kernelspec": {
   "display_name": "globaltyphoon",
   "language": "python",
   "name": "python3"
  },
  "language_info": {
   "codemirror_mode": {
    "name": "ipython",
    "version": 3
   },
   "file_extension": ".py",
   "mimetype": "text/x-python",
   "name": "python",
   "nbconvert_exporter": "python",
   "pygments_lexer": "ipython3",
   "version": "3.9.0"
  },
  "orig_nbformat": 4
 },
 "nbformat": 4,
 "nbformat_minor": 2
}
