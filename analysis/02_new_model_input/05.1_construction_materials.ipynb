{
 "cells": [
  {
   "attachments": {},
   "cell_type": "markdown",
   "metadata": {},
   "source": [
    "# Adding Housing Construction Materials"
   ]
  },
  {
   "attachments": {},
   "cell_type": "markdown",
   "metadata": {},
   "source": [
    "Based on a discussion on the performance of the model without the construction materials features, we are testing out using the materials but converting from municipality to grid values based on weights computed from Google Building Footprint data. Will look at the performance of the model after adding these."
   ]
  },
  {
   "cell_type": "code",
   "execution_count": 1,
   "metadata": {},
   "outputs": [
    {
     "data": {
      "text/html": [
       "\n",
       "                <script type=\"application/javascript\" id=\"jupyter_black\">\n",
       "                (function() {\n",
       "                    if (window.IPython === undefined) {\n",
       "                        return\n",
       "                    }\n",
       "                    var msg = \"WARNING: it looks like you might have loaded \" +\n",
       "                        \"jupyter_black in a non-lab notebook with \" +\n",
       "                        \"`is_lab=True`. Please double check, and if \" +\n",
       "                        \"loading with `%load_ext` please review the README!\"\n",
       "                    console.log(msg)\n",
       "                    alert(msg)\n",
       "                })()\n",
       "                </script>\n",
       "                "
      ],
      "text/plain": [
       "<IPython.core.display.HTML object>"
      ]
     },
     "metadata": {},
     "output_type": "display_data"
    }
   ],
   "source": [
    "%load_ext jupyter_black\n",
    "import pandas as pd\n",
    "import geopandas as gpd\n",
    "from pathlib import Path\n",
    "import os"
   ]
  },
  {
   "cell_type": "code",
   "execution_count": 12,
   "metadata": {},
   "outputs": [],
   "source": [
    "base_dir = Path(os.getenv(\"STORM_DATA_DIR\")) / \"analysis/02_new_model_input/\"\n",
    "input_dir = base_dir / \"05_vulnerablility/input/\"\n",
    "output_dir = base_dir / \"05_vulnerablility/output/\"\n",
    "weights_dir = base_dir / \"02_housing_damage/input/Google Footprint Data/\""
   ]
  },
  {
   "cell_type": "code",
   "execution_count": 13,
   "metadata": {},
   "outputs": [],
   "source": [
    "mun_to_grid_weights = pd.read_csv(weights_dir / \"ggl_mun_to_grid_weights.csv\")\n",
    "construction_materials_df = pd.read_excel(\n",
    "    input_dir\n",
    "    / \"180814_construction-materials-of-the-outer-walls-and-roof_by-city_municipality.xlsx\",\n",
    "    sheet_name=\"by category\",\n",
    ")"
   ]
  },
  {
   "cell_type": "code",
   "execution_count": 15,
   "metadata": {},
   "outputs": [
    {
     "data": {
      "text/plain": [
       "Index(['Region', 'Region Code', 'Province', 'Province Code',\n",
       "       'Municipality_City', 'Municipality_City Code', 'Housing Units',\n",
       "       'Strong Roof/Strong Wall', 'Strong Roof/Light Wall',\n",
       "       'Strong Roof/Salvage Wall', 'Light Roof/Strong Wall',\n",
       "       'Light Roof/Light Wall', 'Light Roof/Salvage Wall',\n",
       "       'Salvaged Roof/Strong Wall', 'Salvaged Roof/Light Wall',\n",
       "       'Salvaged Roof/Salvage Wall'],\n",
       "      dtype='object')"
      ]
     },
     "execution_count": 15,
     "metadata": {},
     "output_type": "execute_result"
    }
   ],
   "source": [
    "construction_materials_df.columns"
   ]
  },
  {
   "cell_type": "code",
   "execution_count": 16,
   "metadata": {},
   "outputs": [],
   "source": [
    "merged_df = construction_materials_df.merge(\n",
    "    mun_to_grid_weights[[\"ADM3_PCODE\", \"id\", \"Centroid\", \"weight\"]],\n",
    "    how=\"right\",\n",
    "    left_on=\"Municipality_City Code\",\n",
    "    right_on=\"ADM3_PCODE\",\n",
    ")"
   ]
  },
  {
   "cell_type": "code",
   "execution_count": 18,
   "metadata": {},
   "outputs": [],
   "source": [
    "# There are 2 ways of going about this conversion to grid values\n",
    "# 1. Convert the mun values to grid values using the weights and compute the % from the grid HUs\n",
    "# 2. Compute % values by municipality then convert those values using the weights to grid values."
   ]
  },
  {
   "cell_type": "code",
   "execution_count": null,
   "metadata": {},
   "outputs": [],
   "source": [
    "# Method 1\n"
   ]
  }
 ],
 "metadata": {
  "kernelspec": {
   "display_name": "globaltyphoon",
   "language": "python",
   "name": "python3"
  },
  "language_info": {
   "codemirror_mode": {
    "name": "ipython",
    "version": 3
   },
   "file_extension": ".py",
   "mimetype": "text/x-python",
   "name": "python",
   "nbconvert_exporter": "python",
   "pygments_lexer": "ipython3",
   "version": "3.9.0"
  },
  "orig_nbformat": 4
 },
 "nbformat": 4,
 "nbformat_minor": 2
}
