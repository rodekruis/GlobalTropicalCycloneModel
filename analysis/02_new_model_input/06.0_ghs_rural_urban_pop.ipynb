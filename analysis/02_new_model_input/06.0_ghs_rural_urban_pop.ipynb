{
 "cells": [
  {
   "attachments": {},
   "cell_type": "markdown",
   "metadata": {},
   "source": [
    "# GHS Data Download and Aggregating\n",
    "\n",
    "This notebook describes the process of downloading and aggregating GHS data from [here](https://ghsl.jrc.ec.europa.eu/download.php?). The notebook contains aggregation for the grid:\n",
    "\n",
    "- Classification of pixels as rural or urban for the raster.\n",
    "    - Using 21 and above for urban and 13 and below for rural.\n",
    "- Fraction of each grid pixel that is rural/ urban\n",
    "- Find population by grid pixel.\n",
    "\n",
    "The epoch used in closest to the date `27th Feb 2023` and would be 2025."
   ]
  },
  {
   "cell_type": "code",
   "execution_count": 87,
   "metadata": {},
   "outputs": [
    {
     "name": "stdout",
     "output_type": "stream",
     "text": [
      "The jupyter_black extension is already loaded. To reload it, use:\n",
      "  %reload_ext jupyter_black\n"
     ]
    }
   ],
   "source": [
    "%load_ext jupyter_black\n",
    "import pandas as pd\n",
    "import geopandas as gpd\n",
    "from pathlib import Path\n",
    "import os\n",
    "import requests, zipfile, io\n",
    "import rasterio\n",
    "import matplotlib.pyplot as plt\n",
    "import rioxarray as rxr"
   ]
  },
  {
   "cell_type": "code",
   "execution_count": 88,
   "metadata": {},
   "outputs": [],
   "source": [
    "base_dir = Path(os.getenv(\"STORM_DATA_DIR\")) / \"analysis/02_new_model_input/\"\n",
    "input_dir = base_dir / \"06_settlement/input/\"\n",
    "shp_input_dir = base_dir / \"02_housing_damage/input/\"\n",
    "grid_input_dir = base_dir / \"02_housing_damage/output/\"\n",
    "output_dir = base_dir / \"06_settlement/output/\""
   ]
  },
  {
   "cell_type": "code",
   "execution_count": 89,
   "metadata": {},
   "outputs": [],
   "source": [
    "adm3_shp = gpd.read_file(\n",
    "    shp_input_dir / \"phl_adminboundaries_candidate_adm3.zip\"\n",
    ")\n",
    "\n",
    "# grid\n",
    "grid = gpd.read_file(grid_input_dir / \"phl_0.1_degree_grid_land_overlap.gpkg\")"
   ]
  },
  {
   "cell_type": "code",
   "execution_count": 90,
   "metadata": {},
   "outputs": [],
   "source": [
    "smod_link = \"https://jeodpp.jrc.ec.europa.eu/ftp/jrc-opendata/GHSL/GHS_SMOD_GLOBE_R2022A/GHS_SMOD_P2025_GLOBE_R2022A_54009_1000/V1-0/GHS_SMOD_P2025_GLOBE_R2022A_54009_1000_V1_0.zip\"\n",
    "pop_link = \"https://jeodpp.jrc.ec.europa.eu/ftp/jrc-opendata/GHSL/GHS_POP_GLOBE_R2022A/GHS_POP_P2025_GLOBE_R2022A_54009_100/V1-0/tiles/\""
   ]
  },
  {
   "attachments": {},
   "cell_type": "markdown",
   "metadata": {},
   "source": [
    "## Degree of Urbanisation\n",
    "\n",
    "### Urban-Rural Classification"
   ]
  },
  {
   "cell_type": "code",
   "execution_count": 91,
   "metadata": {},
   "outputs": [
    {
     "name": "stderr",
     "output_type": "stream",
     "text": [
      "c:\\Users\\pauni\\Desktop\\Work\\OCHA\\GitHub\\VirtualEnv\\globaltyphoon\\lib\\site-packages\\urllib3\\connectionpool.py:1045: InsecureRequestWarning: Unverified HTTPS request is being made to host 'jeodpp.jrc.ec.europa.eu'. Adding certificate verification is strongly advised. See: https://urllib3.readthedocs.io/en/1.26.x/advanced-usage.html#ssl-warnings\n",
      "  warnings.warn(\n"
     ]
    }
   ],
   "source": [
    "# Downloading the whole global data set as it is small\n",
    "req = requests.get(smod_link, verify=False, stream=True)\n",
    "with zipfile.ZipFile(io.BytesIO(req.content)) as zObj:\n",
    "    fileNames = zObj.namelist()\n",
    "    for fileName in fileNames:\n",
    "        if fileName.endswith(\"tif\"):\n",
    "            content = zObj.open(fileName).read()\n",
    "            open(input_dir / \"SMOD\" / fileName, \"wb\").write(content)"
   ]
  },
  {
   "cell_type": "code",
   "execution_count": 92,
   "metadata": {},
   "outputs": [
    {
     "data": {
      "text/plain": [
       "array([[-200, -200, -200, ..., -200, -200, -200],\n",
       "       [-200, -200, -200, ..., -200, -200, -200],\n",
       "       [-200, -200, -200, ..., -200, -200, -200],\n",
       "       ...,\n",
       "       [-200, -200, -200, ..., -200, -200, -200],\n",
       "       [-200, -200, -200, ..., -200, -200, -200],\n",
       "       [-200, -200, -200, ..., -200, -200, -200]], dtype=int16)"
      ]
     },
     "execution_count": 92,
     "metadata": {},
     "output_type": "execute_result"
    }
   ],
   "source": [
    "# Reading in raster\n",
    "file_name = os.listdir(input_dir / \"SMOD\")\n",
    "smod_raster = rasterio.open(input_dir / \"SMOD\" / file_name[0])\n",
    "smod_array = smod_raster.read(1)\n",
    "smod_array"
   ]
  },
  {
   "cell_type": "code",
   "execution_count": 93,
   "metadata": {},
   "outputs": [
    {
     "data": {
      "text/plain": [
       "CRS.from_wkt('PROJCS[\"World_Mollweide\",GEOGCS[\"WGS 84\",DATUM[\"WGS_1984\",SPHEROID[\"WGS 84\",6378137,298.257223563,AUTHORITY[\"EPSG\",\"7030\"]],AUTHORITY[\"EPSG\",\"6326\"]],PRIMEM[\"Greenwich\",0],UNIT[\"Degree\",0.0174532925199433]],PROJECTION[\"Mollweide\"],PARAMETER[\"central_meridian\",0],PARAMETER[\"false_easting\",0],PARAMETER[\"false_northing\",0],UNIT[\"metre\",1,AUTHORITY[\"EPSG\",\"9001\"]],AXIS[\"Easting\",EAST],AXIS[\"Northing\",NORTH]]')"
      ]
     },
     "execution_count": 93,
     "metadata": {},
     "output_type": "execute_result"
    }
   ],
   "source": [
    "# no data are set at -200\n",
    "# water seems to be set to 10\n",
    "# converting to similar CRS\n",
    "smod_raster.crs"
   ]
  },
  {
   "cell_type": "code",
   "execution_count": 94,
   "metadata": {},
   "outputs": [
    {
     "data": {
      "text/plain": [
       "array([114.25,   4.55, 126.65,  21.15])"
      ]
     },
     "execution_count": 94,
     "metadata": {},
     "output_type": "execute_result"
    }
   ],
   "source": [
    "grid.total_bounds"
   ]
  },
  {
   "cell_type": "code",
   "execution_count": 95,
   "metadata": {},
   "outputs": [
    {
     "data": {
      "text/plain": [
       "False"
      ]
     },
     "execution_count": 95,
     "metadata": {},
     "output_type": "execute_result"
    }
   ],
   "source": [
    "# converting crs and clipping\n",
    "# checking if crs are the same\n",
    "smod_raster.crs == grid.crs"
   ]
  },
  {
   "cell_type": "code",
   "execution_count": 96,
   "metadata": {},
   "outputs": [
    {
     "data": {
      "text/plain": [
       "CRS.from_wkt('PROJCS[\"World_Mollweide\",GEOGCS[\"WGS 84\",DATUM[\"WGS_1984\",SPHEROID[\"WGS 84\",6378137,298.257223563,AUTHORITY[\"EPSG\",\"7030\"]],AUTHORITY[\"EPSG\",\"6326\"]],PRIMEM[\"Greenwich\",0],UNIT[\"Degree\",0.0174532925199433]],PROJECTION[\"Mollweide\"],PARAMETER[\"central_meridian\",0],PARAMETER[\"false_easting\",0],PARAMETER[\"false_northing\",0],UNIT[\"metre\",1,AUTHORITY[\"EPSG\",\"9001\"]],AXIS[\"Easting\",EAST],AXIS[\"Northing\",NORTH]]')"
      ]
     },
     "execution_count": 96,
     "metadata": {},
     "output_type": "execute_result"
    }
   ],
   "source": [
    "smod_raster = rxr.open_rasterio(input_dir / \"SMOD\" / file_name[0])\n",
    "smod_raster.rio.crs"
   ]
  },
  {
   "cell_type": "code",
   "execution_count": 126,
   "metadata": {},
   "outputs": [],
   "source": [
    "smod_raster_wgs84 = smod_raster.rio.reproject(grid.crs)\n",
    "smod_raster_wgs84_clip = smod_raster_wgs84.rio.clip_box(*grid.total_bounds)"
   ]
  },
  {
   "cell_type": "code",
   "execution_count": 139,
   "metadata": {},
   "outputs": [],
   "source": [
    "smod_grid_vals = pd.DataFrame(\n",
    "    {\n",
    "        \"id\": grid[\"id\"],\n",
    "        \"Centroid\": grid[\"Centroid\"],\n",
    "        \"urban\": None,\n",
    "        \"rural\": None,\n",
    "        \"water\": None,\n",
    "    }\n",
    ")\n",
    "for grd in grid.Centroid:\n",
    "    grd_sel = grid[grid.Centroid == grd]\n",
    "    grid_rast = smod_raster_wgs84_clip.rio.clip(\n",
    "        grd_sel[\"geometry\"], all_touched=True\n",
    "    )\n",
    "    smod_grid_vals.loc[grd_sel.index.values, [\"urban\"]] = (\n",
    "        (grid_rast >= 21) & (grid_rast <= 30)\n",
    "    ).sum().values / grid_rast.count().values\n",
    "    smod_grid_vals.loc[grd_sel.index.values, [\"rural\"]] = (\n",
    "        (grid_rast >= 11) & (grid_rast <= 13)\n",
    "    ).sum().values / grid_rast.count().values\n",
    "    smod_grid_vals.loc[grd_sel.index.values, [\"water\"]] = (\n",
    "        grid_rast == 10\n",
    "    ).sum().values / grid_rast.count().values"
   ]
  },
  {
   "cell_type": "code",
   "execution_count": 141,
   "metadata": {},
   "outputs": [
    {
     "data": {
      "text/html": [
       "<div>\n",
       "<style scoped>\n",
       "    .dataframe tbody tr th:only-of-type {\n",
       "        vertical-align: middle;\n",
       "    }\n",
       "\n",
       "    .dataframe tbody tr th {\n",
       "        vertical-align: top;\n",
       "    }\n",
       "\n",
       "    .dataframe thead th {\n",
       "        text-align: right;\n",
       "    }\n",
       "</style>\n",
       "<table border=\"1\" class=\"dataframe\">\n",
       "  <thead>\n",
       "    <tr style=\"text-align: right;\">\n",
       "      <th></th>\n",
       "      <th>id</th>\n",
       "      <th>Centroid</th>\n",
       "      <th>urban</th>\n",
       "      <th>rural</th>\n",
       "      <th>water</th>\n",
       "    </tr>\n",
       "  </thead>\n",
       "  <tbody>\n",
       "    <tr>\n",
       "      <th>3716</th>\n",
       "      <td>20513</td>\n",
       "      <td>126.5E_7.3N</td>\n",
       "      <td>0.008264</td>\n",
       "      <td>0.991736</td>\n",
       "      <td>0.0</td>\n",
       "    </tr>\n",
       "    <tr>\n",
       "      <th>3717</th>\n",
       "      <td>20514</td>\n",
       "      <td>126.5E_7.2N</td>\n",
       "      <td>0.049587</td>\n",
       "      <td>0.85124</td>\n",
       "      <td>0.099174</td>\n",
       "    </tr>\n",
       "    <tr>\n",
       "      <th>3718</th>\n",
       "      <td>20515</td>\n",
       "      <td>126.5E_7.1N</td>\n",
       "      <td>0.066116</td>\n",
       "      <td>0.363636</td>\n",
       "      <td>0.570248</td>\n",
       "    </tr>\n",
       "    <tr>\n",
       "      <th>3719</th>\n",
       "      <td>20516</td>\n",
       "      <td>126.5E_7.0N</td>\n",
       "      <td>0.041322</td>\n",
       "      <td>0.024793</td>\n",
       "      <td>0.933884</td>\n",
       "    </tr>\n",
       "    <tr>\n",
       "      <th>3720</th>\n",
       "      <td>20676</td>\n",
       "      <td>126.6E_7.7N</td>\n",
       "      <td>0.024793</td>\n",
       "      <td>0.099174</td>\n",
       "      <td>0.876033</td>\n",
       "    </tr>\n",
       "    <tr>\n",
       "      <th>3721</th>\n",
       "      <td>20677</td>\n",
       "      <td>126.6E_7.6N</td>\n",
       "      <td>0.07438</td>\n",
       "      <td>0.181818</td>\n",
       "      <td>0.743802</td>\n",
       "    </tr>\n",
       "    <tr>\n",
       "      <th>3722</th>\n",
       "      <td>20678</td>\n",
       "      <td>126.6E_7.5N</td>\n",
       "      <td>0.0</td>\n",
       "      <td>0.479339</td>\n",
       "      <td>0.520661</td>\n",
       "    </tr>\n",
       "    <tr>\n",
       "      <th>3723</th>\n",
       "      <td>20679</td>\n",
       "      <td>126.6E_7.4N</td>\n",
       "      <td>0.0</td>\n",
       "      <td>0.190083</td>\n",
       "      <td>0.809917</td>\n",
       "    </tr>\n",
       "    <tr>\n",
       "      <th>3724</th>\n",
       "      <td>20680</td>\n",
       "      <td>126.6E_7.3N</td>\n",
       "      <td>0.033058</td>\n",
       "      <td>0.297521</td>\n",
       "      <td>0.669421</td>\n",
       "    </tr>\n",
       "    <tr>\n",
       "      <th>3725</th>\n",
       "      <td>20681</td>\n",
       "      <td>126.6E_7.2N</td>\n",
       "      <td>0.024793</td>\n",
       "      <td>0.099174</td>\n",
       "      <td>0.876033</td>\n",
       "    </tr>\n",
       "  </tbody>\n",
       "</table>\n",
       "</div>"
      ],
      "text/plain": [
       "         id     Centroid     urban     rural     water\n",
       "3716  20513  126.5E_7.3N  0.008264  0.991736       0.0\n",
       "3717  20514  126.5E_7.2N  0.049587   0.85124  0.099174\n",
       "3718  20515  126.5E_7.1N  0.066116  0.363636  0.570248\n",
       "3719  20516  126.5E_7.0N  0.041322  0.024793  0.933884\n",
       "3720  20676  126.6E_7.7N  0.024793  0.099174  0.876033\n",
       "3721  20677  126.6E_7.6N   0.07438  0.181818  0.743802\n",
       "3722  20678  126.6E_7.5N       0.0  0.479339  0.520661\n",
       "3723  20679  126.6E_7.4N       0.0  0.190083  0.809917\n",
       "3724  20680  126.6E_7.3N  0.033058  0.297521  0.669421\n",
       "3725  20681  126.6E_7.2N  0.024793  0.099174  0.876033"
      ]
     },
     "execution_count": 141,
     "metadata": {},
     "output_type": "execute_result"
    }
   ],
   "source": [
    "smod_grid_vals.tail(10)"
   ]
  },
  {
   "attachments": {},
   "cell_type": "markdown",
   "metadata": {},
   "source": [
    "## Population\n",
    "\n",
    "### Total Population by grid"
   ]
  },
  {
   "cell_type": "code",
   "execution_count": 114,
   "metadata": {},
   "outputs": [],
   "source": [
    "# downloading the popoulation data\n",
    "# selected from here: https://ghsl.jrc.ec.europa.eu/download.php?ds=pop\n",
    "phl_boxes = [\"R7_C30\", \"R7_C31\", \"R8_C30\", \"R8_C31\", \"R9_C30\", \"R9_C31\"]\n",
    "pop_url_link = \"https://jeodpp.jrc.ec.europa.eu/ftp/jrc-opendata/GHSL/GHS_POP_GLOBE_R2022A/GHS_POP_P2025_GLOBE_R2022A_54009_100/V1-0/tiles/\"\n",
    "file_list = [\n",
    "    \"GHS_POP_P2025_GLOBE_R2022A_54009_100_V1_0_\" + patt + \".zip\"\n",
    "    for patt in phl_boxes\n",
    "]\n",
    "for file in file_list:\n",
    "    req = requests.get(pop_url_link + file, allow_redirects=True)\n",
    "    with zipfile.ZipFile(io.BytesIO(req.content)) as zObj:\n",
    "        fileNames = zObj.namelist()\n",
    "        for fileName in fileNames:\n",
    "            if fileName.endswith(\"tif\"):\n",
    "                content = zObj.open(fileName).read()\n",
    "                open(input_dir / \"POP\" / fileName, \"wb\").write(content)"
   ]
  },
  {
   "cell_type": "code",
   "execution_count": 115,
   "metadata": {},
   "outputs": [],
   "source": [
    "# opening files and merging them\n",
    "from rasterio.merge import merge\n",
    "\n",
    "fileList = os.listdir(input_dir / \"POP\")\n",
    "mosaic_raster = []\n",
    "for file in fileList:\n",
    "    rast = rasterio.open(input_dir / \"POP\" / file)\n",
    "    mosaic_raster.append(rast)\n",
    "\n",
    "merged_raster, out_raster = merge(mosaic_raster)\n",
    "out_meta = rast.meta.copy()\n",
    "out_meta.update(\n",
    "    {\n",
    "        \"driver\": \"GTiff\",\n",
    "        \"height\": merged_raster.shape[1],\n",
    "        \"width\": merged_raster.shape[2],\n",
    "        \"transform\": out_raster,\n",
    "    }\n",
    ")\n",
    "with rasterio.open(\n",
    "    input_dir / \"POP\" / \"phl_merged_ghs_pop.tif\", \"w\", **out_meta\n",
    ") as dest:\n",
    "    dest.write(merged_raster)"
   ]
  },
  {
   "cell_type": "code",
   "execution_count": 116,
   "metadata": {},
   "outputs": [],
   "source": [
    "# extracting total value by grid\n",
    "pop_raster = rasterio.open(input_dir / \"POP/phl_merged_ghs_pop.tif\")\n",
    "pop_array = pop_raster.read(1)"
   ]
  },
  {
   "cell_type": "code",
   "execution_count": 117,
   "metadata": {},
   "outputs": [
    {
     "data": {
      "text/plain": [
       "CRS.from_wkt('PROJCS[\"World_Mollweide\",GEOGCS[\"WGS 84\",DATUM[\"WGS_1984\",SPHEROID[\"WGS 84\",6378137,298.257223563,AUTHORITY[\"EPSG\",\"7030\"]],AUTHORITY[\"EPSG\",\"6326\"]],PRIMEM[\"Greenwich\",0],UNIT[\"Degree\",0.0174532925199433]],PROJECTION[\"Mollweide\"],PARAMETER[\"central_meridian\",0],PARAMETER[\"false_easting\",0],PARAMETER[\"false_northing\",0],UNIT[\"metre\",1,AUTHORITY[\"EPSG\",\"9001\"]],AXIS[\"Easting\",EAST],AXIS[\"Northing\",NORTH]]')"
      ]
     },
     "execution_count": 117,
     "metadata": {},
     "output_type": "execute_result"
    }
   ],
   "source": [
    "pop_raster = rxr.open_rasterio(input_dir / \"POP/phl_merged_ghs_pop.tif\")\n",
    "pop_raster.rio.crs"
   ]
  },
  {
   "cell_type": "code",
   "execution_count": 142,
   "metadata": {},
   "outputs": [],
   "source": [
    "pop_raster_wgs84 = pop_raster.rio.reproject(grid.crs)\n",
    "pop_raster_wgs84_clip = pop_raster_wgs84.rio.clip_box(*grid.total_bounds)"
   ]
  },
  {
   "cell_type": "code",
   "execution_count": null,
   "metadata": {},
   "outputs": [],
   "source": [
    "pop_grid_vals = pd.DataFrame(\n",
    "    {\n",
    "        \"id\": grid[\"id\"],\n",
    "        \"Centroid\": grid[\"Centroid\"],\n",
    "        \"mean_pop\": None,\n",
    "        \"total_pop\": None,\n",
    "    }\n",
    ")\n",
    "for grd in grid.Centroid:\n",
    "    grd_sel = grid[grid.Centroid == grd]\n",
    "    grid_rast = pop_raster_wgs84_clip.rio.clip(\n",
    "        grd_sel[\"geometry\"], all_touched=True\n",
    "    )\n",
    "    pop_grid_vals.loc[grd_sel.index.values, [\"mean_pop\"]] = grid_rast.mean().values\n",
    "    pop_grid_vals.loc[grd_sel.index.values, [\"total_pop\"]] = grid_rast.sum().values"
   ]
  },
  {
   "cell_type": "code",
   "execution_count": null,
   "metadata": {},
   "outputs": [],
   "source": [
    "# merging the two dataframes\n",
    "merged_ghs_df = smod_grid_vals.merge(pop_grid_vals, on=[\"id\", \"Centroid\"])"
   ]
  },
  {
   "cell_type": "code",
   "execution_count": null,
   "metadata": {},
   "outputs": [],
   "source": [
    "# writing output\n",
    "merged_ghs_df.to_csv(output_dir / \"ghs_rural_urban_pop.csv\", index=False)"
   ]
  }
 ],
 "metadata": {
  "kernelspec": {
   "display_name": "globaltyphoon",
   "language": "python",
   "name": "python3"
  },
  "language_info": {
   "codemirror_mode": {
    "name": "ipython",
    "version": 3
   },
   "file_extension": ".py",
   "mimetype": "text/x-python",
   "name": "python",
   "nbconvert_exporter": "python",
   "pygments_lexer": "ipython3",
   "version": "3.9.0"
  },
  "orig_nbformat": 4,
  "vscode": {
   "interpreter": {
    "hash": "d0bf5227c718a54401bc80004b44f7ad33fb80a867a635817764b403a4b4c0f1"
   }
  }
 },
 "nbformat": 4,
 "nbformat_minor": 2
}
