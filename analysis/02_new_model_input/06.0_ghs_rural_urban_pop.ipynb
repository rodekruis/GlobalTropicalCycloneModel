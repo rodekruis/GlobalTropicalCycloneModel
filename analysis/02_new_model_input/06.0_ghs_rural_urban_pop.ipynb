{
 "cells": [
  {
   "attachments": {},
   "cell_type": "markdown",
   "metadata": {},
   "source": [
    "# GHS Data Download and Aggregating\n",
    "\n",
    "This notebook describes the process of downloading and aggregating GHS data from [here](https://ghsl.jrc.ec.europa.eu/download.php?). The notebook contains aggregation for the grid:\n",
    "\n",
    "- Classification of pixels as rural or urban for the raster.\n",
    "    - Using 21 and above for urban and 13 and below for rural.\n",
    "- Fraction of each grid pixel that is rural/ urban\n",
    "- Find population by grid pixel.\n",
    "\n",
    "The epoch used in closest to the date `27th Feb 2023` and would be 2025."
   ]
  },
  {
   "cell_type": "code",
   "execution_count": 1,
   "metadata": {},
   "outputs": [
    {
     "data": {
      "text/html": [
       "\n",
       "                <script type=\"application/javascript\" id=\"jupyter_black\">\n",
       "                (function() {\n",
       "                    if (window.IPython === undefined) {\n",
       "                        return\n",
       "                    }\n",
       "                    var msg = \"WARNING: it looks like you might have loaded \" +\n",
       "                        \"jupyter_black in a non-lab notebook with \" +\n",
       "                        \"`is_lab=True`. Please double check, and if \" +\n",
       "                        \"loading with `%load_ext` please review the README!\"\n",
       "                    console.log(msg)\n",
       "                    alert(msg)\n",
       "                })()\n",
       "                </script>\n",
       "                "
      ],
      "text/plain": [
       "<IPython.core.display.HTML object>"
      ]
     },
     "metadata": {},
     "output_type": "display_data"
    }
   ],
   "source": [
    "%load_ext jupyter_black\n",
    "import pandas as pd\n",
    "import geopandas as gpd\n",
    "from pathlib import Path\n",
    "import os\n",
    "import requests, zipfile, io\n",
    "import rasterio\n",
    "import rioxarray as rxr\n",
    "from rioxarray.merge import merge_arrays"
   ]
  },
  {
   "cell_type": "code",
   "execution_count": 2,
   "metadata": {},
   "outputs": [],
   "source": [
    "base_dir = Path(os.getenv(\"STORM_DATA_DIR\")) / \"analysis/02_new_model_input/\"\n",
    "input_dir = base_dir / \"06_settlement/input/\"\n",
    "shp_input_dir = base_dir / \"02_housing_damage/input/\"\n",
    "grid_input_dir = base_dir / \"02_housing_damage/output/\"\n",
    "output_dir = base_dir / \"06_settlement/output/\""
   ]
  },
  {
   "cell_type": "code",
   "execution_count": 3,
   "metadata": {},
   "outputs": [],
   "source": [
    "adm3_shp = gpd.read_file(\n",
    "    shp_input_dir / \"phl_adminboundaries_candidate_adm3.zip\"\n",
    ")\n",
    "\n",
    "# grid\n",
    "grid = gpd.read_file(grid_input_dir / \"phl_0.1_degree_grid_land_overlap.gpkg\")"
   ]
  },
  {
   "cell_type": "code",
   "execution_count": 4,
   "metadata": {},
   "outputs": [],
   "source": [
    "smod_link = \"https://jeodpp.jrc.ec.europa.eu/ftp/jrc-opendata/GHSL/GHS_SMOD_GLOBE_R2022A/GHS_SMOD_P2025_GLOBE_R2022A_54009_1000/V1-0/GHS_SMOD_P2025_GLOBE_R2022A_54009_1000_V1_0.zip\"\n",
    "pop_link = \"https://jeodpp.jrc.ec.europa.eu/ftp/jrc-opendata/GHSL/GHS_POP_GLOBE_R2022A/GHS_POP_P2025_GLOBE_R2022A_54009_100/V1-0/tiles/\""
   ]
  },
  {
   "attachments": {},
   "cell_type": "markdown",
   "metadata": {},
   "source": [
    "## Degree of Urbanisation\n",
    "\n",
    "### Urban-Rural Classification"
   ]
  },
  {
   "cell_type": "code",
   "execution_count": 5,
   "metadata": {},
   "outputs": [
    {
     "name": "stderr",
     "output_type": "stream",
     "text": [
      "c:\\Users\\pauni\\Desktop\\Work\\OCHA\\GitHub\\VirtualEnv\\globaltyphoon\\lib\\site-packages\\urllib3\\connectionpool.py:1045: InsecureRequestWarning: Unverified HTTPS request is being made to host 'jeodpp.jrc.ec.europa.eu'. Adding certificate verification is strongly advised. See: https://urllib3.readthedocs.io/en/1.26.x/advanced-usage.html#ssl-warnings\n",
      "  warnings.warn(\n"
     ]
    }
   ],
   "source": [
    "# Downloading the whole global data set as it is small\n",
    "req = requests.get(smod_link, verify=False, stream=True)\n",
    "with zipfile.ZipFile(io.BytesIO(req.content)) as zObj:\n",
    "    fileNames = zObj.namelist()\n",
    "    for fileName in fileNames:\n",
    "        if fileName.endswith(\"tif\"):\n",
    "            content = zObj.open(fileName).read()\n",
    "            open(input_dir / \"SMOD\" / fileName, \"wb\").write(content)"
   ]
  },
  {
   "cell_type": "code",
   "execution_count": 13,
   "metadata": {},
   "outputs": [
    {
     "data": {
      "text/plain": [
       "array([[-200, -200, -200, ..., -200, -200, -200],\n",
       "       [-200, -200, -200, ..., -200, -200, -200],\n",
       "       [-200, -200, -200, ..., -200, -200, -200],\n",
       "       ...,\n",
       "       [-200, -200, -200, ..., -200, -200, -200],\n",
       "       [-200, -200, -200, ..., -200, -200, -200],\n",
       "       [-200, -200, -200, ..., -200, -200, -200]], dtype=int16)"
      ]
     },
     "execution_count": 13,
     "metadata": {},
     "output_type": "execute_result"
    }
   ],
   "source": [
    "# Reading in raster\n",
    "file_name = os.listdir(input_dir / \"SMOD\")\n",
    "smod_raster = rasterio.open(input_dir / \"SMOD\" / file_name[0])\n",
    "smod_array = smod_raster.read(1)\n",
    "smod_array"
   ]
  },
  {
   "cell_type": "code",
   "execution_count": 14,
   "metadata": {},
   "outputs": [
    {
     "data": {
      "text/plain": [
       "CRS.from_wkt('PROJCS[\"World_Mollweide\",GEOGCS[\"WGS 84\",DATUM[\"WGS_1984\",SPHEROID[\"WGS 84\",6378137,298.257223563,AUTHORITY[\"EPSG\",\"7030\"]],AUTHORITY[\"EPSG\",\"6326\"]],PRIMEM[\"Greenwich\",0],UNIT[\"Degree\",0.0174532925199433]],PROJECTION[\"Mollweide\"],PARAMETER[\"central_meridian\",0],PARAMETER[\"false_easting\",0],PARAMETER[\"false_northing\",0],UNIT[\"metre\",1,AUTHORITY[\"EPSG\",\"9001\"]],AXIS[\"Easting\",EAST],AXIS[\"Northing\",NORTH]]')"
      ]
     },
     "execution_count": 14,
     "metadata": {},
     "output_type": "execute_result"
    }
   ],
   "source": [
    "# no data are set at -200\n",
    "# water seems to be set to 10\n",
    "# converting to similar CRS\n",
    "smod_raster.crs"
   ]
  },
  {
   "cell_type": "code",
   "execution_count": 15,
   "metadata": {},
   "outputs": [
    {
     "data": {
      "text/plain": [
       "array([114.25,   4.55, 126.65,  21.15])"
      ]
     },
     "execution_count": 15,
     "metadata": {},
     "output_type": "execute_result"
    }
   ],
   "source": [
    "grid.total_bounds"
   ]
  },
  {
   "cell_type": "code",
   "execution_count": 16,
   "metadata": {},
   "outputs": [
    {
     "data": {
      "text/plain": [
       "False"
      ]
     },
     "execution_count": 16,
     "metadata": {},
     "output_type": "execute_result"
    }
   ],
   "source": [
    "# converting crs and clipping\n",
    "# checking if crs are the same\n",
    "smod_raster.crs == grid.crs"
   ]
  },
  {
   "cell_type": "code",
   "execution_count": 17,
   "metadata": {},
   "outputs": [
    {
     "data": {
      "text/plain": [
       "CRS.from_wkt('PROJCS[\"World_Mollweide\",GEOGCS[\"WGS 84\",DATUM[\"WGS_1984\",SPHEROID[\"WGS 84\",6378137,298.257223563,AUTHORITY[\"EPSG\",\"7030\"]],AUTHORITY[\"EPSG\",\"6326\"]],PRIMEM[\"Greenwich\",0],UNIT[\"Degree\",0.0174532925199433]],PROJECTION[\"Mollweide\"],PARAMETER[\"central_meridian\",0],PARAMETER[\"false_easting\",0],PARAMETER[\"false_northing\",0],UNIT[\"metre\",1,AUTHORITY[\"EPSG\",\"9001\"]],AXIS[\"Easting\",EAST],AXIS[\"Northing\",NORTH]]')"
      ]
     },
     "execution_count": 17,
     "metadata": {},
     "output_type": "execute_result"
    }
   ],
   "source": [
    "smod_raster = rxr.open_rasterio(input_dir / \"SMOD\" / file_name[0])\n",
    "smod_raster.rio.crs"
   ]
  },
  {
   "cell_type": "code",
   "execution_count": 18,
   "metadata": {},
   "outputs": [],
   "source": [
    "smod_raster_wgs84 = smod_raster.rio.reproject(grid.crs)\n",
    "smod_raster_wgs84_clip = smod_raster_wgs84.rio.clip_box(*grid.total_bounds)"
   ]
  },
  {
   "cell_type": "code",
   "execution_count": 19,
   "metadata": {},
   "outputs": [],
   "source": [
    "smod_grid_vals = pd.DataFrame(\n",
    "    {\n",
    "        \"id\": grid[\"id\"],\n",
    "        \"Centroid\": grid[\"Centroid\"],\n",
    "        \"urban\": None,\n",
    "        \"rural\": None,\n",
    "        \"water\": None,\n",
    "    }\n",
    ")\n",
    "for grd in grid.Centroid:\n",
    "    grd_sel = grid[grid.Centroid == grd]\n",
    "    grid_rast = smod_raster_wgs84_clip.rio.clip(\n",
    "        grd_sel[\"geometry\"], all_touched=True\n",
    "    )\n",
    "    smod_grid_vals.loc[grd_sel.index.values, [\"urban\"]] = (\n",
    "        (grid_rast >= 21) & (grid_rast <= 30)\n",
    "    ).sum().values / grid_rast.count().values\n",
    "    smod_grid_vals.loc[grd_sel.index.values, [\"rural\"]] = (\n",
    "        (grid_rast >= 11) & (grid_rast <= 13)\n",
    "    ).sum().values / grid_rast.count().values\n",
    "    smod_grid_vals.loc[grd_sel.index.values, [\"water\"]] = (\n",
    "        grid_rast == 10\n",
    "    ).sum().values / grid_rast.count().values"
   ]
  },
  {
   "cell_type": "code",
   "execution_count": 20,
   "metadata": {},
   "outputs": [
    {
     "data": {
      "text/html": [
       "<div>\n",
       "<style scoped>\n",
       "    .dataframe tbody tr th:only-of-type {\n",
       "        vertical-align: middle;\n",
       "    }\n",
       "\n",
       "    .dataframe tbody tr th {\n",
       "        vertical-align: top;\n",
       "    }\n",
       "\n",
       "    .dataframe thead th {\n",
       "        text-align: right;\n",
       "    }\n",
       "</style>\n",
       "<table border=\"1\" class=\"dataframe\">\n",
       "  <thead>\n",
       "    <tr style=\"text-align: right;\">\n",
       "      <th></th>\n",
       "      <th>id</th>\n",
       "      <th>Centroid</th>\n",
       "      <th>urban</th>\n",
       "      <th>rural</th>\n",
       "      <th>water</th>\n",
       "    </tr>\n",
       "  </thead>\n",
       "  <tbody>\n",
       "    <tr>\n",
       "      <th>3716</th>\n",
       "      <td>20513</td>\n",
       "      <td>126.5E_7.3N</td>\n",
       "      <td>0.008264</td>\n",
       "      <td>0.991736</td>\n",
       "      <td>0.0</td>\n",
       "    </tr>\n",
       "    <tr>\n",
       "      <th>3717</th>\n",
       "      <td>20514</td>\n",
       "      <td>126.5E_7.2N</td>\n",
       "      <td>0.049587</td>\n",
       "      <td>0.85124</td>\n",
       "      <td>0.099174</td>\n",
       "    </tr>\n",
       "    <tr>\n",
       "      <th>3718</th>\n",
       "      <td>20515</td>\n",
       "      <td>126.5E_7.1N</td>\n",
       "      <td>0.066116</td>\n",
       "      <td>0.363636</td>\n",
       "      <td>0.570248</td>\n",
       "    </tr>\n",
       "    <tr>\n",
       "      <th>3719</th>\n",
       "      <td>20516</td>\n",
       "      <td>126.5E_7.0N</td>\n",
       "      <td>0.041322</td>\n",
       "      <td>0.024793</td>\n",
       "      <td>0.933884</td>\n",
       "    </tr>\n",
       "    <tr>\n",
       "      <th>3720</th>\n",
       "      <td>20676</td>\n",
       "      <td>126.6E_7.7N</td>\n",
       "      <td>0.024793</td>\n",
       "      <td>0.099174</td>\n",
       "      <td>0.876033</td>\n",
       "    </tr>\n",
       "    <tr>\n",
       "      <th>3721</th>\n",
       "      <td>20677</td>\n",
       "      <td>126.6E_7.6N</td>\n",
       "      <td>0.07438</td>\n",
       "      <td>0.181818</td>\n",
       "      <td>0.743802</td>\n",
       "    </tr>\n",
       "    <tr>\n",
       "      <th>3722</th>\n",
       "      <td>20678</td>\n",
       "      <td>126.6E_7.5N</td>\n",
       "      <td>0.0</td>\n",
       "      <td>0.479339</td>\n",
       "      <td>0.520661</td>\n",
       "    </tr>\n",
       "    <tr>\n",
       "      <th>3723</th>\n",
       "      <td>20679</td>\n",
       "      <td>126.6E_7.4N</td>\n",
       "      <td>0.0</td>\n",
       "      <td>0.190083</td>\n",
       "      <td>0.809917</td>\n",
       "    </tr>\n",
       "    <tr>\n",
       "      <th>3724</th>\n",
       "      <td>20680</td>\n",
       "      <td>126.6E_7.3N</td>\n",
       "      <td>0.033058</td>\n",
       "      <td>0.297521</td>\n",
       "      <td>0.669421</td>\n",
       "    </tr>\n",
       "    <tr>\n",
       "      <th>3725</th>\n",
       "      <td>20681</td>\n",
       "      <td>126.6E_7.2N</td>\n",
       "      <td>0.024793</td>\n",
       "      <td>0.099174</td>\n",
       "      <td>0.876033</td>\n",
       "    </tr>\n",
       "  </tbody>\n",
       "</table>\n",
       "</div>"
      ],
      "text/plain": [
       "         id     Centroid     urban     rural     water\n",
       "3716  20513  126.5E_7.3N  0.008264  0.991736       0.0\n",
       "3717  20514  126.5E_7.2N  0.049587   0.85124  0.099174\n",
       "3718  20515  126.5E_7.1N  0.066116  0.363636  0.570248\n",
       "3719  20516  126.5E_7.0N  0.041322  0.024793  0.933884\n",
       "3720  20676  126.6E_7.7N  0.024793  0.099174  0.876033\n",
       "3721  20677  126.6E_7.6N   0.07438  0.181818  0.743802\n",
       "3722  20678  126.6E_7.5N       0.0  0.479339  0.520661\n",
       "3723  20679  126.6E_7.4N       0.0  0.190083  0.809917\n",
       "3724  20680  126.6E_7.3N  0.033058  0.297521  0.669421\n",
       "3725  20681  126.6E_7.2N  0.024793  0.099174  0.876033"
      ]
     },
     "execution_count": 20,
     "metadata": {},
     "output_type": "execute_result"
    }
   ],
   "source": [
    "smod_grid_vals.tail(10)"
   ]
  },
  {
   "cell_type": "code",
   "execution_count": 21,
   "metadata": {},
   "outputs": [],
   "source": [
    "del (\n",
    "    smod_raster,\n",
    "    smod_array,\n",
    "    smod_raster_wgs84,\n",
    "    smod_raster_wgs84_clip,\n",
    ")"
   ]
  },
  {
   "attachments": {},
   "cell_type": "markdown",
   "metadata": {},
   "source": [
    "## Population\n",
    "\n",
    "### Total Population by grid"
   ]
  },
  {
   "cell_type": "code",
   "execution_count": 23,
   "metadata": {},
   "outputs": [],
   "source": [
    "# downloading the popoulation data\n",
    "# selected from here: https://ghsl.jrc.ec.europa.eu/download.php?ds=pop\n",
    "phl_boxes = [\"R7_C30\", \"R7_C31\", \"R8_C30\", \"R8_C31\", \"R9_C30\", \"R9_C31\"]\n",
    "file_list = [\n",
    "    \"GHS_POP_P2025_GLOBE_R2022A_54009_100_V1_0_\" + patt + \".zip\"\n",
    "    for patt in phl_boxes\n",
    "]\n",
    "for file in file_list:\n",
    "    req = requests.get(pop_link + file, allow_redirects=True)\n",
    "    with zipfile.ZipFile(io.BytesIO(req.content)) as zObj:\n",
    "        fileNames = zObj.namelist()\n",
    "        for fileName in fileNames:\n",
    "            if fileName.endswith(\"tif\"):\n",
    "                content = zObj.open(fileName).read()\n",
    "                open(input_dir / \"POP\" / fileName, \"wb\").write(content)"
   ]
  },
  {
   "attachments": {},
   "cell_type": "markdown",
   "metadata": {},
   "source": [
    "This section takes so long. Will work on making it faster.\n",
    "\n",
    "NOTE: Merging the rasters makes the process take so much longer."
   ]
  },
  {
   "cell_type": "code",
   "execution_count": 42,
   "metadata": {},
   "outputs": [],
   "source": [
    "# opening files and merging them\n",
    "pop_grid_vals = pd.DataFrame(\n",
    "    {\n",
    "        \"id\": grid[\"id\"],\n",
    "        \"Centroid\": grid[\"Centroid\"],\n",
    "        \"total_pop\": None,\n",
    "    }\n",
    ")"
   ]
  },
  {
   "cell_type": "code",
   "execution_count": 43,
   "metadata": {},
   "outputs": [],
   "source": [
    "tif_list = os.listdir(input_dir / \"POP\")\n",
    "for file in tif_list:\n",
    "    pop_rast = (\n",
    "        rxr.open_rasterio(input_dir / \"POP\" / file)\n",
    "        .rio.reproject(grid.crs)\n",
    "        .rio.clip_box(*grid.total_bounds)\n",
    "    )\n",
    "\n",
    "    for grd in grid.Centroid:\n",
    "        grd_sel = grid[grid.Centroid == grd]\n",
    "        try:\n",
    "            grid_rast = pop_rast.rio.clip(\n",
    "                grd_sel[\"geometry\"], all_touched=True\n",
    "            )\n",
    "            pop_grid_vals.loc[\n",
    "                grd_sel.index.values, [phl_boxes[tif_list.index(file)]]\n",
    "            ] = ((grid_rast.where(grid_rast >= 0)).sum().values)\n",
    "        except:\n",
    "            pop_grid_vals.loc[\n",
    "                grd_sel.index.values, [phl_boxes[tif_list.index(file)]]\n",
    "            ] = 0"
   ]
  },
  {
   "cell_type": "code",
   "execution_count": 44,
   "metadata": {},
   "outputs": [],
   "source": [
    "# sum all columns\n",
    "pop_grid_vals[\"total_pop\"] = pop_grid_vals.loc[:, phl_boxes].sum(axis=1)"
   ]
  },
  {
   "cell_type": "code",
   "execution_count": 45,
   "metadata": {},
   "outputs": [
    {
     "data": {
      "text/html": [
       "<div>\n",
       "<style scoped>\n",
       "    .dataframe tbody tr th:only-of-type {\n",
       "        vertical-align: middle;\n",
       "    }\n",
       "\n",
       "    .dataframe tbody tr th {\n",
       "        vertical-align: top;\n",
       "    }\n",
       "\n",
       "    .dataframe thead th {\n",
       "        text-align: right;\n",
       "    }\n",
       "</style>\n",
       "<table border=\"1\" class=\"dataframe\">\n",
       "  <thead>\n",
       "    <tr style=\"text-align: right;\">\n",
       "      <th></th>\n",
       "      <th>id</th>\n",
       "      <th>Centroid</th>\n",
       "      <th>total_pop</th>\n",
       "      <th>R7_C30</th>\n",
       "      <th>R7_C31</th>\n",
       "      <th>R8_C30</th>\n",
       "      <th>R8_C31</th>\n",
       "      <th>R9_C30</th>\n",
       "      <th>R9_C31</th>\n",
       "    </tr>\n",
       "  </thead>\n",
       "  <tbody>\n",
       "    <tr>\n",
       "      <th>0</th>\n",
       "      <td>101</td>\n",
       "      <td>114.3E_11.1N</td>\n",
       "      <td>0.000000</td>\n",
       "      <td>0.0</td>\n",
       "      <td>0.0</td>\n",
       "      <td>0.000000</td>\n",
       "      <td>0.0</td>\n",
       "      <td>0.000000</td>\n",
       "      <td>0.000000</td>\n",
       "    </tr>\n",
       "    <tr>\n",
       "      <th>1</th>\n",
       "      <td>4475</td>\n",
       "      <td>116.9E_7.9N</td>\n",
       "      <td>0.000000</td>\n",
       "      <td>0.0</td>\n",
       "      <td>0.0</td>\n",
       "      <td>0.000000</td>\n",
       "      <td>0.0</td>\n",
       "      <td>0.000000</td>\n",
       "      <td>0.000000</td>\n",
       "    </tr>\n",
       "    <tr>\n",
       "      <th>2</th>\n",
       "      <td>4639</td>\n",
       "      <td>117.0E_8.2N</td>\n",
       "      <td>201.343014</td>\n",
       "      <td>0.0</td>\n",
       "      <td>0.0</td>\n",
       "      <td>201.343014</td>\n",
       "      <td>0.0</td>\n",
       "      <td>0.000000</td>\n",
       "      <td>0.000000</td>\n",
       "    </tr>\n",
       "    <tr>\n",
       "      <th>3</th>\n",
       "      <td>4640</td>\n",
       "      <td>117.0E_8.1N</td>\n",
       "      <td>6542.964245</td>\n",
       "      <td>0.0</td>\n",
       "      <td>0.0</td>\n",
       "      <td>5203.882665</td>\n",
       "      <td>0.0</td>\n",
       "      <td>1339.081580</td>\n",
       "      <td>0.000000</td>\n",
       "    </tr>\n",
       "    <tr>\n",
       "      <th>4</th>\n",
       "      <td>4641</td>\n",
       "      <td>117.0E_8.0N</td>\n",
       "      <td>13721.068653</td>\n",
       "      <td>0.0</td>\n",
       "      <td>0.0</td>\n",
       "      <td>0.000000</td>\n",
       "      <td>0.0</td>\n",
       "      <td>13721.068653</td>\n",
       "      <td>0.000000</td>\n",
       "    </tr>\n",
       "    <tr>\n",
       "      <th>...</th>\n",
       "      <td>...</td>\n",
       "      <td>...</td>\n",
       "      <td>...</td>\n",
       "      <td>...</td>\n",
       "      <td>...</td>\n",
       "      <td>...</td>\n",
       "      <td>...</td>\n",
       "      <td>...</td>\n",
       "      <td>...</td>\n",
       "    </tr>\n",
       "    <tr>\n",
       "      <th>3721</th>\n",
       "      <td>20677</td>\n",
       "      <td>126.6E_7.6N</td>\n",
       "      <td>18985.240279</td>\n",
       "      <td>0.0</td>\n",
       "      <td>0.0</td>\n",
       "      <td>0.000000</td>\n",
       "      <td>0.0</td>\n",
       "      <td>0.000000</td>\n",
       "      <td>18985.240279</td>\n",
       "    </tr>\n",
       "    <tr>\n",
       "      <th>3722</th>\n",
       "      <td>20678</td>\n",
       "      <td>126.6E_7.5N</td>\n",
       "      <td>5683.089689</td>\n",
       "      <td>0.0</td>\n",
       "      <td>0.0</td>\n",
       "      <td>0.000000</td>\n",
       "      <td>0.0</td>\n",
       "      <td>0.000000</td>\n",
       "      <td>5683.089689</td>\n",
       "    </tr>\n",
       "    <tr>\n",
       "      <th>3723</th>\n",
       "      <td>20679</td>\n",
       "      <td>126.6E_7.4N</td>\n",
       "      <td>6707.771729</td>\n",
       "      <td>0.0</td>\n",
       "      <td>0.0</td>\n",
       "      <td>0.000000</td>\n",
       "      <td>0.0</td>\n",
       "      <td>0.000000</td>\n",
       "      <td>6707.771729</td>\n",
       "    </tr>\n",
       "    <tr>\n",
       "      <th>3724</th>\n",
       "      <td>20680</td>\n",
       "      <td>126.6E_7.3N</td>\n",
       "      <td>13013.268260</td>\n",
       "      <td>0.0</td>\n",
       "      <td>0.0</td>\n",
       "      <td>0.000000</td>\n",
       "      <td>0.0</td>\n",
       "      <td>0.000000</td>\n",
       "      <td>13013.268260</td>\n",
       "    </tr>\n",
       "    <tr>\n",
       "      <th>3725</th>\n",
       "      <td>20681</td>\n",
       "      <td>126.6E_7.2N</td>\n",
       "      <td>3354.924115</td>\n",
       "      <td>0.0</td>\n",
       "      <td>0.0</td>\n",
       "      <td>0.000000</td>\n",
       "      <td>0.0</td>\n",
       "      <td>0.000000</td>\n",
       "      <td>3354.924115</td>\n",
       "    </tr>\n",
       "  </tbody>\n",
       "</table>\n",
       "<p>3726 rows × 9 columns</p>\n",
       "</div>"
      ],
      "text/plain": [
       "         id      Centroid     total_pop  R7_C30  R7_C31       R8_C30  R8_C31  \\\n",
       "0       101  114.3E_11.1N      0.000000     0.0     0.0     0.000000     0.0   \n",
       "1      4475   116.9E_7.9N      0.000000     0.0     0.0     0.000000     0.0   \n",
       "2      4639   117.0E_8.2N    201.343014     0.0     0.0   201.343014     0.0   \n",
       "3      4640   117.0E_8.1N   6542.964245     0.0     0.0  5203.882665     0.0   \n",
       "4      4641   117.0E_8.0N  13721.068653     0.0     0.0     0.000000     0.0   \n",
       "...     ...           ...           ...     ...     ...          ...     ...   \n",
       "3721  20677   126.6E_7.6N  18985.240279     0.0     0.0     0.000000     0.0   \n",
       "3722  20678   126.6E_7.5N   5683.089689     0.0     0.0     0.000000     0.0   \n",
       "3723  20679   126.6E_7.4N   6707.771729     0.0     0.0     0.000000     0.0   \n",
       "3724  20680   126.6E_7.3N  13013.268260     0.0     0.0     0.000000     0.0   \n",
       "3725  20681   126.6E_7.2N   3354.924115     0.0     0.0     0.000000     0.0   \n",
       "\n",
       "            R9_C30        R9_C31  \n",
       "0         0.000000      0.000000  \n",
       "1         0.000000      0.000000  \n",
       "2         0.000000      0.000000  \n",
       "3      1339.081580      0.000000  \n",
       "4     13721.068653      0.000000  \n",
       "...            ...           ...  \n",
       "3721      0.000000  18985.240279  \n",
       "3722      0.000000   5683.089689  \n",
       "3723      0.000000   6707.771729  \n",
       "3724      0.000000  13013.268260  \n",
       "3725      0.000000   3354.924115  \n",
       "\n",
       "[3726 rows x 9 columns]"
      ]
     },
     "execution_count": 45,
     "metadata": {},
     "output_type": "execute_result"
    }
   ],
   "source": [
    "pop_grid_vals"
   ]
  },
  {
   "cell_type": "code",
   "execution_count": 46,
   "metadata": {},
   "outputs": [],
   "source": [
    "# merging the two dataframes\n",
    "merged_ghs_df = smod_grid_vals.merge(\n",
    "    pop_grid_vals[[\"id\", \"Centroid\", \"total_pop\"]], on=[\"id\", \"Centroid\"]\n",
    ")"
   ]
  },
  {
   "cell_type": "code",
   "execution_count": 47,
   "metadata": {},
   "outputs": [
    {
     "data": {
      "text/html": [
       "<div>\n",
       "<style scoped>\n",
       "    .dataframe tbody tr th:only-of-type {\n",
       "        vertical-align: middle;\n",
       "    }\n",
       "\n",
       "    .dataframe tbody tr th {\n",
       "        vertical-align: top;\n",
       "    }\n",
       "\n",
       "    .dataframe thead th {\n",
       "        text-align: right;\n",
       "    }\n",
       "</style>\n",
       "<table border=\"1\" class=\"dataframe\">\n",
       "  <thead>\n",
       "    <tr style=\"text-align: right;\">\n",
       "      <th></th>\n",
       "      <th>id</th>\n",
       "      <th>Centroid</th>\n",
       "      <th>urban</th>\n",
       "      <th>rural</th>\n",
       "      <th>water</th>\n",
       "      <th>total_pop</th>\n",
       "    </tr>\n",
       "  </thead>\n",
       "  <tbody>\n",
       "    <tr>\n",
       "      <th>0</th>\n",
       "      <td>101</td>\n",
       "      <td>114.3E_11.1N</td>\n",
       "      <td>0.0</td>\n",
       "      <td>0.0</td>\n",
       "      <td>1.0</td>\n",
       "      <td>0.000000</td>\n",
       "    </tr>\n",
       "    <tr>\n",
       "      <th>1</th>\n",
       "      <td>4475</td>\n",
       "      <td>116.9E_7.9N</td>\n",
       "      <td>0.0</td>\n",
       "      <td>0.024793</td>\n",
       "      <td>0.975207</td>\n",
       "      <td>0.000000</td>\n",
       "    </tr>\n",
       "    <tr>\n",
       "      <th>2</th>\n",
       "      <td>4639</td>\n",
       "      <td>117.0E_8.2N</td>\n",
       "      <td>0.0</td>\n",
       "      <td>0.008264</td>\n",
       "      <td>0.991736</td>\n",
       "      <td>201.343014</td>\n",
       "    </tr>\n",
       "    <tr>\n",
       "      <th>3</th>\n",
       "      <td>4640</td>\n",
       "      <td>117.0E_8.1N</td>\n",
       "      <td>0.0</td>\n",
       "      <td>0.338843</td>\n",
       "      <td>0.661157</td>\n",
       "      <td>6542.964245</td>\n",
       "    </tr>\n",
       "    <tr>\n",
       "      <th>4</th>\n",
       "      <td>4641</td>\n",
       "      <td>117.0E_8.0N</td>\n",
       "      <td>0.0</td>\n",
       "      <td>0.793388</td>\n",
       "      <td>0.206612</td>\n",
       "      <td>13721.068653</td>\n",
       "    </tr>\n",
       "    <tr>\n",
       "      <th>...</th>\n",
       "      <td>...</td>\n",
       "      <td>...</td>\n",
       "      <td>...</td>\n",
       "      <td>...</td>\n",
       "      <td>...</td>\n",
       "      <td>...</td>\n",
       "    </tr>\n",
       "    <tr>\n",
       "      <th>3721</th>\n",
       "      <td>20677</td>\n",
       "      <td>126.6E_7.6N</td>\n",
       "      <td>0.07438</td>\n",
       "      <td>0.181818</td>\n",
       "      <td>0.743802</td>\n",
       "      <td>18985.240279</td>\n",
       "    </tr>\n",
       "    <tr>\n",
       "      <th>3722</th>\n",
       "      <td>20678</td>\n",
       "      <td>126.6E_7.5N</td>\n",
       "      <td>0.0</td>\n",
       "      <td>0.479339</td>\n",
       "      <td>0.520661</td>\n",
       "      <td>5683.089689</td>\n",
       "    </tr>\n",
       "    <tr>\n",
       "      <th>3723</th>\n",
       "      <td>20679</td>\n",
       "      <td>126.6E_7.4N</td>\n",
       "      <td>0.0</td>\n",
       "      <td>0.190083</td>\n",
       "      <td>0.809917</td>\n",
       "      <td>6707.771729</td>\n",
       "    </tr>\n",
       "    <tr>\n",
       "      <th>3724</th>\n",
       "      <td>20680</td>\n",
       "      <td>126.6E_7.3N</td>\n",
       "      <td>0.033058</td>\n",
       "      <td>0.297521</td>\n",
       "      <td>0.669421</td>\n",
       "      <td>13013.268260</td>\n",
       "    </tr>\n",
       "    <tr>\n",
       "      <th>3725</th>\n",
       "      <td>20681</td>\n",
       "      <td>126.6E_7.2N</td>\n",
       "      <td>0.024793</td>\n",
       "      <td>0.099174</td>\n",
       "      <td>0.876033</td>\n",
       "      <td>3354.924115</td>\n",
       "    </tr>\n",
       "  </tbody>\n",
       "</table>\n",
       "<p>3726 rows × 6 columns</p>\n",
       "</div>"
      ],
      "text/plain": [
       "         id      Centroid     urban     rural     water     total_pop\n",
       "0       101  114.3E_11.1N       0.0       0.0       1.0      0.000000\n",
       "1      4475   116.9E_7.9N       0.0  0.024793  0.975207      0.000000\n",
       "2      4639   117.0E_8.2N       0.0  0.008264  0.991736    201.343014\n",
       "3      4640   117.0E_8.1N       0.0  0.338843  0.661157   6542.964245\n",
       "4      4641   117.0E_8.0N       0.0  0.793388  0.206612  13721.068653\n",
       "...     ...           ...       ...       ...       ...           ...\n",
       "3721  20677   126.6E_7.6N   0.07438  0.181818  0.743802  18985.240279\n",
       "3722  20678   126.6E_7.5N       0.0  0.479339  0.520661   5683.089689\n",
       "3723  20679   126.6E_7.4N       0.0  0.190083  0.809917   6707.771729\n",
       "3724  20680   126.6E_7.3N  0.033058  0.297521  0.669421  13013.268260\n",
       "3725  20681   126.6E_7.2N  0.024793  0.099174  0.876033   3354.924115\n",
       "\n",
       "[3726 rows x 6 columns]"
      ]
     },
     "execution_count": 47,
     "metadata": {},
     "output_type": "execute_result"
    }
   ],
   "source": [
    "merged_ghs_df"
   ]
  },
  {
   "cell_type": "code",
   "execution_count": 48,
   "metadata": {},
   "outputs": [],
   "source": [
    "# writing output\n",
    "merged_ghs_df.to_csv(output_dir / \"ghs_rural_urban_pop.csv\", index=False)"
   ]
  }
 ],
 "metadata": {
  "kernelspec": {
   "display_name": "globaltyphoon",
   "language": "python",
   "name": "python3"
  },
  "language_info": {
   "codemirror_mode": {
    "name": "ipython",
    "version": 3
   },
   "file_extension": ".py",
   "mimetype": "text/x-python",
   "name": "python",
   "nbconvert_exporter": "python",
   "pygments_lexer": "ipython3",
   "version": "3.9.0"
  },
  "orig_nbformat": 4,
  "vscode": {
   "interpreter": {
    "hash": "d0bf5227c718a54401bc80004b44f7ad33fb80a867a635817764b403a4b4c0f1"
   }
  }
 },
 "nbformat": 4,
 "nbformat_minor": 2
}
