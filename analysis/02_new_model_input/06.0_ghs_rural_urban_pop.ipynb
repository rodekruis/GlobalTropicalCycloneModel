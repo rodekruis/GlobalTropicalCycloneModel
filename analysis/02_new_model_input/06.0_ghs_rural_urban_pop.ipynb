{
 "cells": [
  {
   "attachments": {},
   "cell_type": "markdown",
   "metadata": {},
   "source": [
    "# GHS Data Download and Aggregating\n",
    "\n",
    "This notebook describes the process of downloading and aggregating GHS data from [here](https://ghsl.jrc.ec.europa.eu/download.php?). The notebook contains aggregation for the grid:\n",
    "\n",
    "- Classification of pixels as rural or urban for the raster.\n",
    "    - Using 21 and above for urban and 13 and below for rural.\n",
    "- Fraction of each grid pixel that is rural/ urban\n",
    "- Find population by grid pixel.\n",
    "\n",
    "The epoch used in closest to the date `27th Feb 2023` and would be 2025."
   ]
  },
  {
   "cell_type": "code",
   "execution_count": 1,
   "metadata": {},
   "outputs": [
    {
     "data": {
      "text/html": [
       "\n",
       "                <script type=\"application/javascript\" id=\"jupyter_black\">\n",
       "                (function() {\n",
       "                    if (window.IPython === undefined) {\n",
       "                        return\n",
       "                    }\n",
       "                    var msg = \"WARNING: it looks like you might have loaded \" +\n",
       "                        \"jupyter_black in a non-lab notebook with \" +\n",
       "                        \"`is_lab=True`. Please double check, and if \" +\n",
       "                        \"loading with `%load_ext` please review the README!\"\n",
       "                    console.log(msg)\n",
       "                    alert(msg)\n",
       "                })()\n",
       "                </script>\n",
       "                "
      ],
      "text/plain": [
       "<IPython.core.display.HTML object>"
      ]
     },
     "metadata": {},
     "output_type": "display_data"
    }
   ],
   "source": [
    "%load_ext jupyter_black\n",
    "import pandas as pd\n",
    "import geopandas as gpd\n",
    "from pathlib import Path\n",
    "import os\n",
    "import requests, zipfile, io\n",
    "import rasterio\n",
    "import rioxarray as rxr\n",
    "from rioxarray.merge import merge_arrays"
   ]
  },
  {
   "cell_type": "code",
   "execution_count": 2,
   "metadata": {},
   "outputs": [],
   "source": [
    "base_dir = Path(os.getenv(\"STORM_DATA_DIR\")) / \"analysis/02_new_model_input/\"\n",
    "input_dir = base_dir / \"06_settlement/input/\"\n",
    "shp_input_dir = base_dir / \"02_housing_damage/input/\"\n",
    "grid_input_dir = base_dir / \"02_housing_damage/output/\"\n",
    "output_dir = base_dir / \"06_settlement/output/\""
   ]
  },
  {
   "cell_type": "code",
   "execution_count": 3,
   "metadata": {},
   "outputs": [],
   "source": [
    "adm3_shp = gpd.read_file(\n",
    "    shp_input_dir / \"phl_adminboundaries_candidate_adm3.zip\"\n",
    ")\n",
    "\n",
    "# grid\n",
    "grid = gpd.read_file(grid_input_dir / \"phl_0.1_degree_grid_land_overlap.gpkg\")"
   ]
  },
  {
   "cell_type": "code",
   "execution_count": 4,
   "metadata": {},
   "outputs": [],
   "source": [
    "smod_link = \"https://jeodpp.jrc.ec.europa.eu/ftp/jrc-opendata/GHSL/GHS_SMOD_GLOBE_R2022A/GHS_SMOD_P2025_GLOBE_R2022A_54009_1000/V1-0/GHS_SMOD_P2025_GLOBE_R2022A_54009_1000_V1_0.zip\"\n",
    "pop_link = \"https://jeodpp.jrc.ec.europa.eu/ftp/jrc-opendata/GHSL/GHS_POP_GLOBE_R2022A/GHS_POP_P2025_GLOBE_R2022A_54009_100/V1-0/tiles/\""
   ]
  },
  {
   "attachments": {},
   "cell_type": "markdown",
   "metadata": {},
   "source": [
    "## Degree of Urbanisation\n",
    "\n",
    "### Urban-Rural Classification"
   ]
  },
  {
   "cell_type": "code",
   "execution_count": 5,
   "metadata": {},
   "outputs": [
    {
     "name": "stderr",
     "output_type": "stream",
     "text": [
      "c:\\Users\\pauni\\Desktop\\Work\\OCHA\\GitHub\\VirtualEnv\\globaltyphoon\\lib\\site-packages\\urllib3\\connectionpool.py:1045: InsecureRequestWarning: Unverified HTTPS request is being made to host 'jeodpp.jrc.ec.europa.eu'. Adding certificate verification is strongly advised. See: https://urllib3.readthedocs.io/en/1.26.x/advanced-usage.html#ssl-warnings\n",
      "  warnings.warn(\n"
     ]
    }
   ],
   "source": [
    "# Downloading the whole global data set as it is small\n",
    "req = requests.get(smod_link, verify=False, stream=True)\n",
    "with zipfile.ZipFile(io.BytesIO(req.content)) as zObj:\n",
    "    fileNames = zObj.namelist()\n",
    "    for fileName in fileNames:\n",
    "        if fileName.endswith(\"tif\"):\n",
    "            content = zObj.open(fileName).read()\n",
    "            open(input_dir / \"SMOD\" / fileName, \"wb\").write(content)"
   ]
  },
  {
   "cell_type": "code",
   "execution_count": 6,
   "metadata": {},
   "outputs": [
    {
     "data": {
      "text/plain": [
       "array([[-200, -200, -200, ..., -200, -200, -200],\n",
       "       [-200, -200, -200, ..., -200, -200, -200],\n",
       "       [-200, -200, -200, ..., -200, -200, -200],\n",
       "       ...,\n",
       "       [-200, -200, -200, ..., -200, -200, -200],\n",
       "       [-200, -200, -200, ..., -200, -200, -200],\n",
       "       [-200, -200, -200, ..., -200, -200, -200]], dtype=int16)"
      ]
     },
     "execution_count": 6,
     "metadata": {},
     "output_type": "execute_result"
    }
   ],
   "source": [
    "# Reading in raster\n",
    "file_name = os.listdir(input_dir / \"SMOD\")\n",
    "smod_raster = rasterio.open(input_dir / \"SMOD\" / file_name[0])\n",
    "smod_array = smod_raster.read(1)\n",
    "smod_array"
   ]
  },
  {
   "cell_type": "code",
   "execution_count": 11,
   "metadata": {},
   "outputs": [
    {
     "data": {
      "text/plain": [
       "CRS.from_wkt('PROJCS[\"World_Mollweide\",GEOGCS[\"WGS 84\",DATUM[\"WGS_1984\",SPHEROID[\"WGS 84\",6378137,298.257223563,AUTHORITY[\"EPSG\",\"7030\"]],AUTHORITY[\"EPSG\",\"6326\"]],PRIMEM[\"Greenwich\",0],UNIT[\"Degree\",0.0174532925199433]],PROJECTION[\"Mollweide\"],PARAMETER[\"central_meridian\",0],PARAMETER[\"false_easting\",0],PARAMETER[\"false_northing\",0],UNIT[\"metre\",1,AUTHORITY[\"EPSG\",\"9001\"]],AXIS[\"Easting\",EAST],AXIS[\"Northing\",NORTH]]')"
      ]
     },
     "execution_count": 11,
     "metadata": {},
     "output_type": "execute_result"
    }
   ],
   "source": [
    "# no data are set at -200\n",
    "# water seems to be set to 10\n",
    "# converting to similar CRS\n",
    "smod_raster.crs"
   ]
  },
  {
   "cell_type": "code",
   "execution_count": 10,
   "metadata": {},
   "outputs": [
    {
     "data": {
      "text/plain": [
       "array([114.25,   4.55, 126.65,  21.15])"
      ]
     },
     "execution_count": 10,
     "metadata": {},
     "output_type": "execute_result"
    }
   ],
   "source": [
    "grid.total_bounds"
   ]
  },
  {
   "cell_type": "code",
   "execution_count": 12,
   "metadata": {},
   "outputs": [
    {
     "data": {
      "text/plain": [
       "False"
      ]
     },
     "execution_count": 12,
     "metadata": {},
     "output_type": "execute_result"
    }
   ],
   "source": [
    "# converting crs and clipping\n",
    "# checking if crs are the same\n",
    "smod_raster.crs == grid.crs"
   ]
  },
  {
   "cell_type": "code",
   "execution_count": 13,
   "metadata": {},
   "outputs": [
    {
     "data": {
      "text/plain": [
       "CRS.from_wkt('PROJCS[\"World_Mollweide\",GEOGCS[\"WGS 84\",DATUM[\"WGS_1984\",SPHEROID[\"WGS 84\",6378137,298.257223563,AUTHORITY[\"EPSG\",\"7030\"]],AUTHORITY[\"EPSG\",\"6326\"]],PRIMEM[\"Greenwich\",0],UNIT[\"Degree\",0.0174532925199433]],PROJECTION[\"Mollweide\"],PARAMETER[\"central_meridian\",0],PARAMETER[\"false_easting\",0],PARAMETER[\"false_northing\",0],UNIT[\"metre\",1,AUTHORITY[\"EPSG\",\"9001\"]],AXIS[\"Easting\",EAST],AXIS[\"Northing\",NORTH]]')"
      ]
     },
     "execution_count": 13,
     "metadata": {},
     "output_type": "execute_result"
    }
   ],
   "source": [
    "smod_raster = rxr.open_rasterio(input_dir / \"SMOD\" / file_name[0])\n",
    "smod_raster.rio.crs"
   ]
  },
  {
   "cell_type": "code",
   "execution_count": 14,
   "metadata": {},
   "outputs": [],
   "source": [
    "smod_raster_wgs84 = smod_raster.rio.reproject(grid.crs)\n",
    "smod_raster_wgs84_clip = smod_raster_wgs84.rio.clip_box(*grid.total_bounds)"
   ]
  },
  {
   "cell_type": "code",
   "execution_count": 15,
   "metadata": {},
   "outputs": [],
   "source": [
    "smod_grid_vals = pd.DataFrame(\n",
    "    {\n",
    "        \"id\": grid[\"id\"],\n",
    "        \"Centroid\": grid[\"Centroid\"],\n",
    "        \"urban\": None,\n",
    "        \"rural\": None,\n",
    "        \"water\": None,\n",
    "    }\n",
    ")\n",
    "for grd in grid.Centroid:\n",
    "    grd_sel = grid[grid.Centroid == grd]\n",
    "    grid_rast = smod_raster_wgs84_clip.rio.clip(\n",
    "        grd_sel[\"geometry\"], all_touched=True\n",
    "    )\n",
    "    smod_grid_vals.loc[grd_sel.index.values, [\"urban\"]] = (\n",
    "        (grid_rast >= 21) & (grid_rast <= 30)\n",
    "    ).sum().values / grid_rast.count().values\n",
    "    smod_grid_vals.loc[grd_sel.index.values, [\"rural\"]] = (\n",
    "        (grid_rast >= 11) & (grid_rast <= 13)\n",
    "    ).sum().values / grid_rast.count().values\n",
    "    smod_grid_vals.loc[grd_sel.index.values, [\"water\"]] = (\n",
    "        grid_rast == 10\n",
    "    ).sum().values / grid_rast.count().values"
   ]
  },
  {
   "cell_type": "code",
   "execution_count": 17,
   "metadata": {},
   "outputs": [
    {
     "data": {
      "text/html": [
       "<div>\n",
       "<style scoped>\n",
       "    .dataframe tbody tr th:only-of-type {\n",
       "        vertical-align: middle;\n",
       "    }\n",
       "\n",
       "    .dataframe tbody tr th {\n",
       "        vertical-align: top;\n",
       "    }\n",
       "\n",
       "    .dataframe thead th {\n",
       "        text-align: right;\n",
       "    }\n",
       "</style>\n",
       "<table border=\"1\" class=\"dataframe\">\n",
       "  <thead>\n",
       "    <tr style=\"text-align: right;\">\n",
       "      <th></th>\n",
       "      <th>id</th>\n",
       "      <th>Centroid</th>\n",
       "      <th>urban</th>\n",
       "      <th>rural</th>\n",
       "      <th>water</th>\n",
       "    </tr>\n",
       "  </thead>\n",
       "  <tbody>\n",
       "    <tr>\n",
       "      <th>3716</th>\n",
       "      <td>20513</td>\n",
       "      <td>126.5E_7.3N</td>\n",
       "      <td>0.008264</td>\n",
       "      <td>0.991736</td>\n",
       "      <td>0.0</td>\n",
       "    </tr>\n",
       "    <tr>\n",
       "      <th>3717</th>\n",
       "      <td>20514</td>\n",
       "      <td>126.5E_7.2N</td>\n",
       "      <td>0.049587</td>\n",
       "      <td>0.85124</td>\n",
       "      <td>0.099174</td>\n",
       "    </tr>\n",
       "    <tr>\n",
       "      <th>3718</th>\n",
       "      <td>20515</td>\n",
       "      <td>126.5E_7.1N</td>\n",
       "      <td>0.066116</td>\n",
       "      <td>0.363636</td>\n",
       "      <td>0.570248</td>\n",
       "    </tr>\n",
       "    <tr>\n",
       "      <th>3719</th>\n",
       "      <td>20516</td>\n",
       "      <td>126.5E_7.0N</td>\n",
       "      <td>0.041322</td>\n",
       "      <td>0.024793</td>\n",
       "      <td>0.933884</td>\n",
       "    </tr>\n",
       "    <tr>\n",
       "      <th>3720</th>\n",
       "      <td>20676</td>\n",
       "      <td>126.6E_7.7N</td>\n",
       "      <td>0.024793</td>\n",
       "      <td>0.099174</td>\n",
       "      <td>0.876033</td>\n",
       "    </tr>\n",
       "    <tr>\n",
       "      <th>3721</th>\n",
       "      <td>20677</td>\n",
       "      <td>126.6E_7.6N</td>\n",
       "      <td>0.07438</td>\n",
       "      <td>0.181818</td>\n",
       "      <td>0.743802</td>\n",
       "    </tr>\n",
       "    <tr>\n",
       "      <th>3722</th>\n",
       "      <td>20678</td>\n",
       "      <td>126.6E_7.5N</td>\n",
       "      <td>0.0</td>\n",
       "      <td>0.479339</td>\n",
       "      <td>0.520661</td>\n",
       "    </tr>\n",
       "    <tr>\n",
       "      <th>3723</th>\n",
       "      <td>20679</td>\n",
       "      <td>126.6E_7.4N</td>\n",
       "      <td>0.0</td>\n",
       "      <td>0.190083</td>\n",
       "      <td>0.809917</td>\n",
       "    </tr>\n",
       "    <tr>\n",
       "      <th>3724</th>\n",
       "      <td>20680</td>\n",
       "      <td>126.6E_7.3N</td>\n",
       "      <td>0.033058</td>\n",
       "      <td>0.297521</td>\n",
       "      <td>0.669421</td>\n",
       "    </tr>\n",
       "    <tr>\n",
       "      <th>3725</th>\n",
       "      <td>20681</td>\n",
       "      <td>126.6E_7.2N</td>\n",
       "      <td>0.024793</td>\n",
       "      <td>0.099174</td>\n",
       "      <td>0.876033</td>\n",
       "    </tr>\n",
       "  </tbody>\n",
       "</table>\n",
       "</div>"
      ],
      "text/plain": [
       "         id     Centroid     urban     rural     water\n",
       "3716  20513  126.5E_7.3N  0.008264  0.991736       0.0\n",
       "3717  20514  126.5E_7.2N  0.049587   0.85124  0.099174\n",
       "3718  20515  126.5E_7.1N  0.066116  0.363636  0.570248\n",
       "3719  20516  126.5E_7.0N  0.041322  0.024793  0.933884\n",
       "3720  20676  126.6E_7.7N  0.024793  0.099174  0.876033\n",
       "3721  20677  126.6E_7.6N   0.07438  0.181818  0.743802\n",
       "3722  20678  126.6E_7.5N       0.0  0.479339  0.520661\n",
       "3723  20679  126.6E_7.4N       0.0  0.190083  0.809917\n",
       "3724  20680  126.6E_7.3N  0.033058  0.297521  0.669421\n",
       "3725  20681  126.6E_7.2N  0.024793  0.099174  0.876033"
      ]
     },
     "execution_count": 17,
     "metadata": {},
     "output_type": "execute_result"
    }
   ],
   "source": [
    "smod_grid_vals.tail(10)"
   ]
  },
  {
   "cell_type": "code",
   "execution_count": 18,
   "metadata": {},
   "outputs": [],
   "source": [
    "del (\n",
    "    smod_raster,\n",
    "    smod_array,\n",
    "    smod_raster_wgs84,\n",
    "    smod_raster_wgs84_clip,\n",
    ")"
   ]
  },
  {
   "attachments": {},
   "cell_type": "markdown",
   "metadata": {},
   "source": [
    "## Population\n",
    "\n",
    "### Total Population by grid"
   ]
  },
  {
   "cell_type": "code",
   "execution_count": 58,
   "metadata": {},
   "outputs": [],
   "source": [
    "# downloading the popoulation data\n",
    "# selected from here: https://ghsl.jrc.ec.europa.eu/download.php?ds=pop\n",
    "phl_boxes = [\"R7_C30\", \"R7_C31\", \"R8_C30\", \"R8_C31\", \"R9_C30\", \"R9_C31\"]\n",
    "file_list = [\n",
    "    \"GHS_POP_P2025_GLOBE_R2022A_54009_100_V1_0_\" + patt + \".zip\"\n",
    "    for patt in phl_boxes\n",
    "]\n",
    "for file in file_list:\n",
    "    req = requests.get(pop_link + file, allow_redirects=True)\n",
    "    with zipfile.ZipFile(io.BytesIO(req.content)) as zObj:\n",
    "        fileNames = zObj.namelist()\n",
    "        for fileName in fileNames:\n",
    "            if fileName.endswith(\"tif\"):\n",
    "                content = zObj.open(fileName).read()\n",
    "                open(input_dir / \"POP\" / fileName, \"wb\").write(content)"
   ]
  },
  {
   "cell_type": "code",
   "execution_count": 38,
   "metadata": {},
   "outputs": [],
   "source": [
    "# opening files and merging them\n",
    "fileList = os.listdir(input_dir / \"POP\")\n",
    "mosaic_arrays = []\n",
    "for file in fileList:\n",
    "    rast = (\n",
    "        rxr.open_rasterio(input_dir / \"POP\" / file)\n",
    "        .rio.reproject(grid.crs)\n",
    "        .rio.clip_box(*grid.total_bounds)\n",
    "    )\n",
    "    mosaic_arrays.append(rast)"
   ]
  },
  {
   "cell_type": "code",
   "execution_count": 39,
   "metadata": {},
   "outputs": [],
   "source": [
    "mosaic_raster = merge_arrays(mosaic_arrays)"
   ]
  },
  {
   "cell_type": "code",
   "execution_count": 40,
   "metadata": {},
   "outputs": [
    {
     "data": {
      "text/plain": [
       "CRS.from_epsg(4326)"
      ]
     },
     "execution_count": 40,
     "metadata": {},
     "output_type": "execute_result"
    }
   ],
   "source": [
    "mosaic_raster.rio.crs"
   ]
  },
  {
   "cell_type": "code",
   "execution_count": 41,
   "metadata": {},
   "outputs": [],
   "source": [
    "del mosaic_arrays"
   ]
  },
  {
   "cell_type": "code",
   "execution_count": 42,
   "metadata": {},
   "outputs": [],
   "source": [
    "pop_raster_wgs84_clip = mosaic_raster.copy()"
   ]
  },
  {
   "cell_type": "code",
   "execution_count": 43,
   "metadata": {},
   "outputs": [],
   "source": [
    "pop_grid_vals = pd.DataFrame(\n",
    "    {\n",
    "        \"id\": grid[\"id\"],\n",
    "        \"Centroid\": grid[\"Centroid\"],\n",
    "        \"total_pop\": None,\n",
    "    }\n",
    ")\n",
    "for grd in grid.Centroid:\n",
    "    grd_sel = grid[grid.Centroid == grd]\n",
    "    grid_rast = pop_raster_wgs84_clip.rio.clip(\n",
    "        grd_sel[\"geometry\"], all_touched=True, from_disk=True\n",
    "    ).squeeze()\n",
    "    pop_grid_vals.loc[grd_sel.index.values, [\"total_pop\"]] = (\n",
    "        (grid_rast.where(grid_rast >= 0)).sum().values\n",
    "    )"
   ]
  },
  {
   "cell_type": "code",
   "execution_count": 44,
   "metadata": {},
   "outputs": [
    {
     "data": {
      "text/html": [
       "<div>\n",
       "<style scoped>\n",
       "    .dataframe tbody tr th:only-of-type {\n",
       "        vertical-align: middle;\n",
       "    }\n",
       "\n",
       "    .dataframe tbody tr th {\n",
       "        vertical-align: top;\n",
       "    }\n",
       "\n",
       "    .dataframe thead th {\n",
       "        text-align: right;\n",
       "    }\n",
       "</style>\n",
       "<table border=\"1\" class=\"dataframe\">\n",
       "  <thead>\n",
       "    <tr style=\"text-align: right;\">\n",
       "      <th></th>\n",
       "      <th>id</th>\n",
       "      <th>Centroid</th>\n",
       "      <th>total_pop</th>\n",
       "    </tr>\n",
       "  </thead>\n",
       "  <tbody>\n",
       "    <tr>\n",
       "      <th>0</th>\n",
       "      <td>101</td>\n",
       "      <td>114.3E_11.1N</td>\n",
       "      <td>0.0</td>\n",
       "    </tr>\n",
       "    <tr>\n",
       "      <th>1</th>\n",
       "      <td>4475</td>\n",
       "      <td>116.9E_7.9N</td>\n",
       "      <td>0.0</td>\n",
       "    </tr>\n",
       "    <tr>\n",
       "      <th>2</th>\n",
       "      <td>4639</td>\n",
       "      <td>117.0E_8.2N</td>\n",
       "      <td>356.354257</td>\n",
       "    </tr>\n",
       "    <tr>\n",
       "      <th>3</th>\n",
       "      <td>4640</td>\n",
       "      <td>117.0E_8.1N</td>\n",
       "      <td>7565.226955</td>\n",
       "    </tr>\n",
       "    <tr>\n",
       "      <th>4</th>\n",
       "      <td>4641</td>\n",
       "      <td>117.0E_8.0N</td>\n",
       "      <td>17301.534394</td>\n",
       "    </tr>\n",
       "    <tr>\n",
       "      <th>5</th>\n",
       "      <td>4642</td>\n",
       "      <td>117.0E_7.9N</td>\n",
       "      <td>4279.533358</td>\n",
       "    </tr>\n",
       "    <tr>\n",
       "      <th>6</th>\n",
       "      <td>4643</td>\n",
       "      <td>117.0E_7.8N</td>\n",
       "      <td>4987.95843</td>\n",
       "    </tr>\n",
       "    <tr>\n",
       "      <th>7</th>\n",
       "      <td>4805</td>\n",
       "      <td>117.1E_8.3N</td>\n",
       "      <td>138.250653</td>\n",
       "    </tr>\n",
       "    <tr>\n",
       "      <th>8</th>\n",
       "      <td>4806</td>\n",
       "      <td>117.1E_8.2N</td>\n",
       "      <td>31498.222855</td>\n",
       "    </tr>\n",
       "    <tr>\n",
       "      <th>9</th>\n",
       "      <td>4807</td>\n",
       "      <td>117.1E_8.1N</td>\n",
       "      <td>5033.615869</td>\n",
       "    </tr>\n",
       "    <tr>\n",
       "      <th>10</th>\n",
       "      <td>4808</td>\n",
       "      <td>117.1E_8.0N</td>\n",
       "      <td>5574.74545</td>\n",
       "    </tr>\n",
       "    <tr>\n",
       "      <th>11</th>\n",
       "      <td>4809</td>\n",
       "      <td>117.1E_7.9N</td>\n",
       "      <td>4933.392747</td>\n",
       "    </tr>\n",
       "    <tr>\n",
       "      <th>12</th>\n",
       "      <td>4810</td>\n",
       "      <td>117.1E_7.8N</td>\n",
       "      <td>331.459369</td>\n",
       "    </tr>\n",
       "    <tr>\n",
       "      <th>13</th>\n",
       "      <td>4969</td>\n",
       "      <td>117.2E_8.6N</td>\n",
       "      <td>22.916393</td>\n",
       "    </tr>\n",
       "    <tr>\n",
       "      <th>14</th>\n",
       "      <td>4970</td>\n",
       "      <td>117.2E_8.5N</td>\n",
       "      <td>4521.444273</td>\n",
       "    </tr>\n",
       "    <tr>\n",
       "      <th>15</th>\n",
       "      <td>4971</td>\n",
       "      <td>117.2E_8.4N</td>\n",
       "      <td>8699.846203</td>\n",
       "    </tr>\n",
       "    <tr>\n",
       "      <th>16</th>\n",
       "      <td>4972</td>\n",
       "      <td>117.2E_8.3N</td>\n",
       "      <td>7678.107694</td>\n",
       "    </tr>\n",
       "    <tr>\n",
       "      <th>17</th>\n",
       "      <td>4973</td>\n",
       "      <td>117.2E_8.2N</td>\n",
       "      <td>11257.358629</td>\n",
       "    </tr>\n",
       "    <tr>\n",
       "      <th>18</th>\n",
       "      <td>4974</td>\n",
       "      <td>117.2E_8.1N</td>\n",
       "      <td>918.666972</td>\n",
       "    </tr>\n",
       "    <tr>\n",
       "      <th>19</th>\n",
       "      <td>4976</td>\n",
       "      <td>117.2E_7.9N</td>\n",
       "      <td>0.0</td>\n",
       "    </tr>\n",
       "    <tr>\n",
       "      <th>20</th>\n",
       "      <td>4977</td>\n",
       "      <td>117.2E_7.8N</td>\n",
       "      <td>None</td>\n",
       "    </tr>\n",
       "    <tr>\n",
       "      <th>21</th>\n",
       "      <td>5135</td>\n",
       "      <td>117.3E_8.7N</td>\n",
       "      <td>None</td>\n",
       "    </tr>\n",
       "    <tr>\n",
       "      <th>22</th>\n",
       "      <td>5136</td>\n",
       "      <td>117.3E_8.6N</td>\n",
       "      <td>None</td>\n",
       "    </tr>\n",
       "    <tr>\n",
       "      <th>23</th>\n",
       "      <td>5137</td>\n",
       "      <td>117.3E_8.5N</td>\n",
       "      <td>None</td>\n",
       "    </tr>\n",
       "    <tr>\n",
       "      <th>24</th>\n",
       "      <td>5138</td>\n",
       "      <td>117.3E_8.4N</td>\n",
       "      <td>None</td>\n",
       "    </tr>\n",
       "  </tbody>\n",
       "</table>\n",
       "</div>"
      ],
      "text/plain": [
       "      id      Centroid     total_pop\n",
       "0    101  114.3E_11.1N           0.0\n",
       "1   4475   116.9E_7.9N           0.0\n",
       "2   4639   117.0E_8.2N    356.354257\n",
       "3   4640   117.0E_8.1N   7565.226955\n",
       "4   4641   117.0E_8.0N  17301.534394\n",
       "5   4642   117.0E_7.9N   4279.533358\n",
       "6   4643   117.0E_7.8N    4987.95843\n",
       "7   4805   117.1E_8.3N    138.250653\n",
       "8   4806   117.1E_8.2N  31498.222855\n",
       "9   4807   117.1E_8.1N   5033.615869\n",
       "10  4808   117.1E_8.0N    5574.74545\n",
       "11  4809   117.1E_7.9N   4933.392747\n",
       "12  4810   117.1E_7.8N    331.459369\n",
       "13  4969   117.2E_8.6N     22.916393\n",
       "14  4970   117.2E_8.5N   4521.444273\n",
       "15  4971   117.2E_8.4N   8699.846203\n",
       "16  4972   117.2E_8.3N   7678.107694\n",
       "17  4973   117.2E_8.2N  11257.358629\n",
       "18  4974   117.2E_8.1N    918.666972\n",
       "19  4976   117.2E_7.9N           0.0\n",
       "20  4977   117.2E_7.8N          None\n",
       "21  5135   117.3E_8.7N          None\n",
       "22  5136   117.3E_8.6N          None\n",
       "23  5137   117.3E_8.5N          None\n",
       "24  5138   117.3E_8.4N          None"
      ]
     },
     "execution_count": 44,
     "metadata": {},
     "output_type": "execute_result"
    }
   ],
   "source": [
    "pop_grid_vals"
   ]
  },
  {
   "cell_type": "code",
   "execution_count": null,
   "metadata": {},
   "outputs": [],
   "source": [
    "# merging the two dataframes\n",
    "merged_ghs_df = smod_grid_vals.merge(pop_grid_vals, on=[\"id\", \"Centroid\"])"
   ]
  },
  {
   "cell_type": "code",
   "execution_count": null,
   "metadata": {},
   "outputs": [],
   "source": [
    "# writing output\n",
    "merged_ghs_df.to_csv(output_dir / \"ghs_rural_urban_pop.csv\", index=False)"
   ]
  }
 ],
 "metadata": {
  "kernelspec": {
   "display_name": "globaltyphoon",
   "language": "python",
   "name": "python3"
  },
  "language_info": {
   "codemirror_mode": {
    "name": "ipython",
    "version": 3
   },
   "file_extension": ".py",
   "mimetype": "text/x-python",
   "name": "python",
   "nbconvert_exporter": "python",
   "pygments_lexer": "ipython3",
   "version": "3.9.0"
  },
  "orig_nbformat": 4,
  "vscode": {
   "interpreter": {
    "hash": "d0bf5227c718a54401bc80004b44f7ad33fb80a867a635817764b403a4b4c0f1"
   }
  }
 },
 "nbformat": 4,
 "nbformat_minor": 2
}
