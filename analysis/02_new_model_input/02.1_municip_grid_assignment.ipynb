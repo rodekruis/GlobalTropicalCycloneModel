{
 "cells": [
  {
   "cell_type": "markdown",
   "metadata": {},
   "source": [
    "# Notebook used in the calculation of the grid percentages\n",
    "\n",
    "## Analysis on the intersections between grids and admin 3 boundaries\n"
   ]
  },
  {
   "cell_type": "code",
   "execution_count": null,
   "metadata": {},
   "outputs": [],
   "source": [
    "#%load_ext jupyter_black\n",
    "import pandas as pd\n",
    "import matplotlib.pyplot as plt\n",
    "import os\n",
    "from pathlib import Path\n",
    "pd.set_option(\"display.float_format\", lambda x: \"%.5f\" % x)\n",
    "input_dir = (\n",
    "    Path(os.getenv(\"STORM_DATA_DIR\"))/\"analysis/02_new_model_input/input/\"\n",
    ")"
   ]
  },
  {
   "cell_type": "markdown",
   "metadata": {},
   "source": [
    "Creating centroids"
   ]
  },
  {
   "cell_type": "code",
   "execution_count": null,
   "metadata": {},
   "outputs": [],
   "source": [
    "# reading in the intersections file\n",
    "intersections_area = pd.read_csv(\n",
    "    input_dir / \"phl_adm3_grid_intersections_area.csv\"\n",
    ")\n",
    "adm3_area = pd.read_csv(input_dir / \"adm3_area.csv\")\n",
    "intersections_area[\"Longitude\"] = (\n",
    "    intersections_area[\"left\"] + intersections_area[\"right\"]\n",
    ") / 2\n",
    "intersections_area[\"Latitude\"] = (\n",
    "    intersections_area[\"top\"] + intersections_area[\"bottom\"]\n",
    ") / 2\n",
    "intersections_area[\"lon_symb\"] = [\n",
    "    \"W\" if x < 0 else \"E\" for x in intersections_area[\"Longitude\"]\n",
    "]\n",
    "intersections_area[\"lat_symb\"] = [\n",
    "    \"S\" if y < 0 else \"N\" for y in intersections_area[\"Latitude\"]\n",
    "]\n",
    "intersections_area[\"Centroid\"] = (\n",
    "    intersections_area[\"Longitude\"].round(1).astype(str)\n",
    "    + intersections_area[\"lon_symb\"]\n",
    "    + \"_\"\n",
    "    + intersections_area[\"Latitude\"].round(1).astype(str)\n",
    "    + intersections_area[\"lat_symb\"]\n",
    ")\n",
    "# getting unique grid values\n",
    "grid_area = intersections_area.drop_duplicates(subset=[\"id\"])\n",
    "# getting range of grid sizes\n",
    "grid_area[\"AreainKM_2\"].describe()"
   ]
  },
  {
   "cell_type": "code",
   "execution_count": null,
   "metadata": {},
   "outputs": [],
   "source": [
    "# getting range of municipality sizes\n",
    "adm3_area[\"AreainKM\"].describe()\n",
    "# histogram of municipality area\n",
    "plt.hist(adm3_area[\"AreainKM\"], bins=40)\n",
    "plt.xlabel(\"Size in Sqaure KM\")\n",
    "plt.ylabel(\"Count\")\n",
    "plt.title(\"Municipality Sizes in Square KM\")"
   ]
  },
  {
   "cell_type": "code",
   "execution_count": null,
   "metadata": {},
   "outputs": [],
   "source": [
    "# proportion of municipalities smaller than 120 sq KM\n",
    "len(adm3_area[\"AreainKM\"][(adm3_area[\"AreainKM\"] <= 120)]) / len(\n",
    "    adm3_area[\"AreainKM\"]\n",
    ")"
   ]
  },
  {
   "cell_type": "markdown",
   "metadata": {},
   "source": [
    "Around 52.8% of municipalities are smaller than 120 square kilmetres."
   ]
  },
  {
   "cell_type": "code",
   "execution_count": null,
   "metadata": {},
   "outputs": [],
   "source": [
    "# number of municipalities in a grid\n",
    "municip_no = intersections_area.groupby(\"id\")[\"ADM3_PCODE\"].count()\n",
    "# municip_no.describe()\n",
    "# histogram of number of municipalities in a grid\n",
    "plt.hist(municip_no, bins=10)\n",
    "plt.xlabel(\"Municipalities\")\n",
    "plt.ylabel(\"Count\")\n",
    "plt.title(\"Number of Municipalities in a Grid\")"
   ]
  },
  {
   "cell_type": "code",
   "execution_count": null,
   "metadata": {},
   "outputs": [],
   "source": [
    "intersections_area[intersections_area[\"id\"] == 20556]"
   ]
  },
  {
   "cell_type": "code",
   "execution_count": null,
   "metadata": {},
   "outputs": [],
   "source": [
    "# assigning grids to municipalities based on which one has the largest area\n",
    "max_area_grid_assignment = (\n",
    "    intersections_area.sort_values(\"Area_3\", ascending=False)\n",
    "    .groupby(\"id\", as_index=False)\n",
    "    .first()\n",
    ")\n",
    "max_area_grid_assignment\n",
    "# assignment rate\n",
    "len(max_area_grid_assignment[\"ADM3_PCODE\"].unique()) / len(\n",
    "    intersections_area[\"ADM3_PCODE\"].unique()\n",
    ")"
   ]
  },
  {
   "cell_type": "markdown",
   "metadata": {},
   "source": [
    "Around 19% of municipalities do not contribute to grids."
   ]
  },
  {
   "cell_type": "code",
   "execution_count": null,
   "metadata": {},
   "outputs": [],
   "source": [
    "# writing matching to file\n",
    "max_assign_out = max_area_grid_assignment[\n",
    "    [\"id\", \"Centroid\", \"ADM3_PCODE\", \"ADM3_EN\"]\n",
    "]\n",
    "max_assign_out.to_csv(input_dir / \"Grid_Matching_Adm3_Max.csv\", index=False)"
   ]
  },
  {
   "cell_type": "code",
   "execution_count": null,
   "metadata": {},
   "outputs": [],
   "source": [
    "# creating matrix with weights for each grid\n",
    "intersections_area[\"Complete Grid\"] = [\n",
    "    1 if (y - x) <= 100 else 0\n",
    "    for (y, x) in zip(\n",
    "        intersections_area[\"Area_2\"], intersections_area[\"Area_3\"]\n",
    "    )\n",
    "]\n",
    "intersections_area[\"Complete Grid\"].describe()\n",
    "intersections_area[\"Municipality Completeness\"] = (\n",
    "    intersections_area[\"Area_3\"] / intersections_area[\"Area\"]\n",
    ")\n",
    "intersections_area[\"Grid Completeness\"] = (\n",
    "    intersections_area[\"Area_3\"] / intersections_area[\"Area_2\"]\n",
    ")\n",
    "intersections_area[intersections_area[\"id\"] == 11028]"
   ]
  },
  {
   "cell_type": "code",
   "execution_count": null,
   "metadata": {},
   "outputs": [],
   "source": [
    "# writing to CSV files\n",
    "intersections_area[\n",
    "    [\"id\", \"Centroid\", \"ADM3_PCODE\", \"ADM3_EN\", \"Grid Completeness\"]\n",
    "].to_csv(input_dir / \"Adm3_Perc_inGrid_Weight_Matrix.csv\", index=False)\n",
    "intersections_area[\n",
    "    [\"id\", \"Centroid\", \"ADM3_PCODE\", \"ADM3_EN\", \"Municipality Completeness\"]\n",
    "].to_csv(input_dir / \"Grid_Perc_inAdm3_Weight_Matrix.csv\", index=False)"
   ]
  }
 ],
 "metadata": {
  "kernelspec": {
   "display_name": "Python 3 (ipykernel)",
   "language": "python",
   "name": "python3"
  },
  "language_info": {
   "codemirror_mode": {
    "name": "ipython",
    "version": 3
   },
   "file_extension": ".py",
   "mimetype": "text/x-python",
   "name": "python",
   "nbconvert_exporter": "python",
   "pygments_lexer": "ipython3",
   "version": "3.9.0"
  },
  "vscode": {
   "interpreter": {
    "hash": "d0bf5227c718a54401bc80004b44f7ad33fb80a867a635817764b403a4b4c0f1"
   }
  }
 },
 "nbformat": 4,
 "nbformat_minor": 2
}
