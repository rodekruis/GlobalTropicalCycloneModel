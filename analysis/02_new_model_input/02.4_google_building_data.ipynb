{
 "cells": [
  {
   "attachments": {},
   "cell_type": "markdown",
   "metadata": {},
   "source": [
    "# Google Building Footprint Data"
   ]
  },
  {
   "attachments": {},
   "cell_type": "markdown",
   "metadata": {},
   "source": [
    "The data is gotten from `https://sites.research.google/open-buildings/#download`"
   ]
  },
  {
   "cell_type": "code",
   "execution_count": 16,
   "metadata": {},
   "outputs": [
    {
     "name": "stdout",
     "output_type": "stream",
     "text": [
      "The jupyter_black extension is already loaded. To reload it, use:\n",
      "  %reload_ext jupyter_black\n"
     ]
    }
   ],
   "source": [
    "%load_ext jupyter_black\n",
    "import pandas as pd\n",
    "import geopandas as gpd\n",
    "import os\n",
    "from pathlib import Path\n",
    "import requests"
   ]
  },
  {
   "cell_type": "code",
   "execution_count": 15,
   "metadata": {},
   "outputs": [],
   "source": [
    "input_dir = (\n",
    "    Path(os.getenv(\"STORM_DATA_DIR\"))\n",
    "    / \"analysis/02_new_model_input/02_housing_damage/input/Google Footprint Data/\"\n",
    ")\n",
    "shp_input_dir = (\n",
    "    Path(os.getenv(\"STORM_DATA_DIR\"))\n",
    "    / \"analysis/02_new_model_input/02_housing_damage/input/\"\n",
    ")\n",
    "output_dir = (\n",
    "    Path(os.getenv(\"STORM_DATA_DIR\"))\n",
    "    / \"analysis/02_new_model_input/02_housing_damage/output/\"\n",
    ")"
   ]
  },
  {
   "cell_type": "code",
   "execution_count": 21,
   "metadata": {},
   "outputs": [],
   "source": [
    "adm3_shp = gpd.read_file(\n",
    "    shp_input_dir / \"phl_adminboundaries_candidate_adm3.zip\"\n",
    ")\n",
    "grid = gpd.read_file(output_dir / \"phl_0.1_degree_grid_land_overlap.gpkg\")\n",
    "adm3_grid_intersection = gpd.read_file(\n",
    "    shp_input_dir / \"phl_adm3_grid_intersection.gpkg\"\n",
    ")"
   ]
  },
  {
   "attachments": {},
   "cell_type": "markdown",
   "metadata": {},
   "source": [
    "The files that cover the Philippines are below and are selected by viewing on the map."
   ]
  },
  {
   "attachments": {},
   "cell_type": "markdown",
   "metadata": {},
   "source": [
    "### Downloading data"
   ]
  },
  {
   "cell_type": "code",
   "execution_count": 4,
   "metadata": {},
   "outputs": [],
   "source": [
    "file_pattern = [\"33d\", \"33b\", \"339\", \"325\", \"32f\", \"323\", \"331\", \"347\"]\n",
    "polygons_url_link = \"https://storage.googleapis.com/open-buildings-data/v2/polygons_s2_level_4_gzip/\"\n",
    "points_url_link = \"https://storage.googleapis.com/open-buildings-data/v2/points_s2_level_4_gzip/\"\n",
    "file_list = [patt + \"_buildings.csv.gz\" for patt in file_pattern]"
   ]
  },
  {
   "attachments": {},
   "cell_type": "markdown",
   "metadata": {},
   "source": [
    "Using the points data as we are using centroids."
   ]
  },
  {
   "cell_type": "code",
   "execution_count": 22,
   "metadata": {},
   "outputs": [],
   "source": [
    "for file in file_list:\n",
    "    r = requests.get(points_url_link + file, allow_redirects=True)\n",
    "    open(input_dir / file, \"wb\").write(r.content)"
   ]
  },
  {
   "attachments": {},
   "cell_type": "markdown",
   "metadata": {},
   "source": [
    "### Merging all files into one"
   ]
  },
  {
   "cell_type": "code",
   "execution_count": 10,
   "metadata": {},
   "outputs": [
    {
     "data": {
      "text/html": [
       "<div>\n",
       "<style scoped>\n",
       "    .dataframe tbody tr th:only-of-type {\n",
       "        vertical-align: middle;\n",
       "    }\n",
       "\n",
       "    .dataframe tbody tr th {\n",
       "        vertical-align: top;\n",
       "    }\n",
       "\n",
       "    .dataframe thead th {\n",
       "        text-align: right;\n",
       "    }\n",
       "</style>\n",
       "<table border=\"1\" class=\"dataframe\">\n",
       "  <thead>\n",
       "    <tr style=\"text-align: right;\">\n",
       "      <th></th>\n",
       "      <th>latitude</th>\n",
       "      <th>longitude</th>\n",
       "      <th>area_in_meters</th>\n",
       "      <th>confidence</th>\n",
       "      <th>full_plus_code</th>\n",
       "    </tr>\n",
       "  </thead>\n",
       "  <tbody>\n",
       "    <tr>\n",
       "      <th>0</th>\n",
       "      <td>9.429870</td>\n",
       "      <td>118.531309</td>\n",
       "      <td>26.5833</td>\n",
       "      <td>0.6818</td>\n",
       "      <td>6PXWCGHJ+WGVX</td>\n",
       "    </tr>\n",
       "    <tr>\n",
       "      <th>1</th>\n",
       "      <td>9.440374</td>\n",
       "      <td>118.482974</td>\n",
       "      <td>17.9793</td>\n",
       "      <td>0.7408</td>\n",
       "      <td>6PXWCFRM+45XR</td>\n",
       "    </tr>\n",
       "    <tr>\n",
       "      <th>2</th>\n",
       "      <td>9.363887</td>\n",
       "      <td>118.464563</td>\n",
       "      <td>37.3005</td>\n",
       "      <td>0.8230</td>\n",
       "      <td>6PXW9F77+HR4C</td>\n",
       "    </tr>\n",
       "    <tr>\n",
       "      <th>3</th>\n",
       "      <td>9.495301</td>\n",
       "      <td>118.569990</td>\n",
       "      <td>73.2031</td>\n",
       "      <td>0.7485</td>\n",
       "      <td>6PXWFHW9+4XH4</td>\n",
       "    </tr>\n",
       "    <tr>\n",
       "      <th>4</th>\n",
       "      <td>9.381147</td>\n",
       "      <td>118.503310</td>\n",
       "      <td>62.4306</td>\n",
       "      <td>0.8135</td>\n",
       "      <td>6PXW9GJ3+F83X</td>\n",
       "    </tr>\n",
       "    <tr>\n",
       "      <th>...</th>\n",
       "      <td>...</td>\n",
       "      <td>...</td>\n",
       "      <td>...</td>\n",
       "      <td>...</td>\n",
       "      <td>...</td>\n",
       "    </tr>\n",
       "    <tr>\n",
       "      <th>5370</th>\n",
       "      <td>20.449684</td>\n",
       "      <td>121.971273</td>\n",
       "      <td>50.4747</td>\n",
       "      <td>0.6766</td>\n",
       "      <td>7QG3CXXC+VGC8</td>\n",
       "    </tr>\n",
       "    <tr>\n",
       "      <th>5371</th>\n",
       "      <td>19.511708</td>\n",
       "      <td>121.913273</td>\n",
       "      <td>68.3271</td>\n",
       "      <td>0.7195</td>\n",
       "      <td>7QF3GW67+M8J8</td>\n",
       "    </tr>\n",
       "    <tr>\n",
       "      <th>5372</th>\n",
       "      <td>20.451546</td>\n",
       "      <td>121.972214</td>\n",
       "      <td>7.8440</td>\n",
       "      <td>0.6061</td>\n",
       "      <td>7QG3FX2C+JV8X</td>\n",
       "    </tr>\n",
       "    <tr>\n",
       "      <th>5373</th>\n",
       "      <td>20.619810</td>\n",
       "      <td>121.707082</td>\n",
       "      <td>7.3060</td>\n",
       "      <td>0.6186</td>\n",
       "      <td>7QG3JP94+WRG8</td>\n",
       "    </tr>\n",
       "    <tr>\n",
       "      <th>5374</th>\n",
       "      <td>20.451351</td>\n",
       "      <td>121.974802</td>\n",
       "      <td>28.4022</td>\n",
       "      <td>0.6083</td>\n",
       "      <td>7QG3FX2F+GWV4</td>\n",
       "    </tr>\n",
       "  </tbody>\n",
       "</table>\n",
       "<p>35173510 rows × 5 columns</p>\n",
       "</div>"
      ],
      "text/plain": [
       "       latitude   longitude  area_in_meters  confidence full_plus_code\n",
       "0      9.429870  118.531309         26.5833      0.6818  6PXWCGHJ+WGVX\n",
       "1      9.440374  118.482974         17.9793      0.7408  6PXWCFRM+45XR\n",
       "2      9.363887  118.464563         37.3005      0.8230  6PXW9F77+HR4C\n",
       "3      9.495301  118.569990         73.2031      0.7485  6PXWFHW9+4XH4\n",
       "4      9.381147  118.503310         62.4306      0.8135  6PXW9GJ3+F83X\n",
       "...         ...         ...             ...         ...            ...\n",
       "5370  20.449684  121.971273         50.4747      0.6766  7QG3CXXC+VGC8\n",
       "5371  19.511708  121.913273         68.3271      0.7195  7QF3GW67+M8J8\n",
       "5372  20.451546  121.972214          7.8440      0.6061  7QG3FX2C+JV8X\n",
       "5373  20.619810  121.707082          7.3060      0.6186  7QG3JP94+WRG8\n",
       "5374  20.451351  121.974802         28.4022      0.6083  7QG3FX2F+GWV4\n",
       "\n",
       "[35173510 rows x 5 columns]"
      ]
     },
     "execution_count": 10,
     "metadata": {},
     "output_type": "execute_result"
    }
   ],
   "source": [
    "google_df = pd.DataFrame()\n",
    "for file in file_list:\n",
    "    zone_file = pd.read_csv(input_dir / file, compression=\"gzip\")\n",
    "    google_df = pd.concat([google_df, zone_file])\n",
    "google_df"
   ]
  },
  {
   "cell_type": "code",
   "execution_count": 11,
   "metadata": {},
   "outputs": [],
   "source": [
    "google_df.to_csv(input_dir / \"google_footprint_data.csv\", index=False)"
   ]
  },
  {
   "cell_type": "code",
   "execution_count": 20,
   "metadata": {},
   "outputs": [],
   "source": [
    "# converting point df to geodataframe\n",
    "ggl_gdf = gpd.GeoDataFrame(\n",
    "    google_df,\n",
    "    geometry=gpd.points_from_xy(google_df.longitude, google_df.latitude),\n",
    ")"
   ]
  },
  {
   "cell_type": "code",
   "execution_count": 35,
   "metadata": {},
   "outputs": [
    {
     "data": {
      "text/html": [
       "<div>\n",
       "<style scoped>\n",
       "    .dataframe tbody tr th:only-of-type {\n",
       "        vertical-align: middle;\n",
       "    }\n",
       "\n",
       "    .dataframe tbody tr th {\n",
       "        vertical-align: top;\n",
       "    }\n",
       "\n",
       "    .dataframe thead th {\n",
       "        text-align: right;\n",
       "    }\n",
       "</style>\n",
       "<table border=\"1\" class=\"dataframe\">\n",
       "  <thead>\n",
       "    <tr style=\"text-align: right;\">\n",
       "      <th></th>\n",
       "      <th>latitude</th>\n",
       "      <th>longitude</th>\n",
       "      <th>area_in_meters</th>\n",
       "      <th>confidence</th>\n",
       "      <th>full_plus_code</th>\n",
       "      <th>geometry</th>\n",
       "    </tr>\n",
       "  </thead>\n",
       "  <tbody>\n",
       "    <tr>\n",
       "      <th>0</th>\n",
       "      <td>9.429870</td>\n",
       "      <td>118.531309</td>\n",
       "      <td>26.5833</td>\n",
       "      <td>0.6818</td>\n",
       "      <td>6PXWCGHJ+WGVX</td>\n",
       "      <td>POINT (118.53131 9.42987)</td>\n",
       "    </tr>\n",
       "    <tr>\n",
       "      <th>1</th>\n",
       "      <td>9.440374</td>\n",
       "      <td>118.482974</td>\n",
       "      <td>17.9793</td>\n",
       "      <td>0.7408</td>\n",
       "      <td>6PXWCFRM+45XR</td>\n",
       "      <td>POINT (118.48297 9.44037)</td>\n",
       "    </tr>\n",
       "    <tr>\n",
       "      <th>2</th>\n",
       "      <td>9.363887</td>\n",
       "      <td>118.464563</td>\n",
       "      <td>37.3005</td>\n",
       "      <td>0.8230</td>\n",
       "      <td>6PXW9F77+HR4C</td>\n",
       "      <td>POINT (118.46456 9.36389)</td>\n",
       "    </tr>\n",
       "    <tr>\n",
       "      <th>3</th>\n",
       "      <td>9.495301</td>\n",
       "      <td>118.569990</td>\n",
       "      <td>73.2031</td>\n",
       "      <td>0.7485</td>\n",
       "      <td>6PXWFHW9+4XH4</td>\n",
       "      <td>POINT (118.56999 9.49530)</td>\n",
       "    </tr>\n",
       "    <tr>\n",
       "      <th>4</th>\n",
       "      <td>9.381147</td>\n",
       "      <td>118.503310</td>\n",
       "      <td>62.4306</td>\n",
       "      <td>0.8135</td>\n",
       "      <td>6PXW9GJ3+F83X</td>\n",
       "      <td>POINT (118.50331 9.38115)</td>\n",
       "    </tr>\n",
       "    <tr>\n",
       "      <th>...</th>\n",
       "      <td>...</td>\n",
       "      <td>...</td>\n",
       "      <td>...</td>\n",
       "      <td>...</td>\n",
       "      <td>...</td>\n",
       "      <td>...</td>\n",
       "    </tr>\n",
       "    <tr>\n",
       "      <th>5370</th>\n",
       "      <td>20.449684</td>\n",
       "      <td>121.971273</td>\n",
       "      <td>50.4747</td>\n",
       "      <td>0.6766</td>\n",
       "      <td>7QG3CXXC+VGC8</td>\n",
       "      <td>POINT (121.97127 20.44968)</td>\n",
       "    </tr>\n",
       "    <tr>\n",
       "      <th>5371</th>\n",
       "      <td>19.511708</td>\n",
       "      <td>121.913273</td>\n",
       "      <td>68.3271</td>\n",
       "      <td>0.7195</td>\n",
       "      <td>7QF3GW67+M8J8</td>\n",
       "      <td>POINT (121.91327 19.51171)</td>\n",
       "    </tr>\n",
       "    <tr>\n",
       "      <th>5372</th>\n",
       "      <td>20.451546</td>\n",
       "      <td>121.972214</td>\n",
       "      <td>7.8440</td>\n",
       "      <td>0.6061</td>\n",
       "      <td>7QG3FX2C+JV8X</td>\n",
       "      <td>POINT (121.97221 20.45155)</td>\n",
       "    </tr>\n",
       "    <tr>\n",
       "      <th>5373</th>\n",
       "      <td>20.619810</td>\n",
       "      <td>121.707082</td>\n",
       "      <td>7.3060</td>\n",
       "      <td>0.6186</td>\n",
       "      <td>7QG3JP94+WRG8</td>\n",
       "      <td>POINT (121.70708 20.61981)</td>\n",
       "    </tr>\n",
       "    <tr>\n",
       "      <th>5374</th>\n",
       "      <td>20.451351</td>\n",
       "      <td>121.974802</td>\n",
       "      <td>28.4022</td>\n",
       "      <td>0.6083</td>\n",
       "      <td>7QG3FX2F+GWV4</td>\n",
       "      <td>POINT (121.97480 20.45135)</td>\n",
       "    </tr>\n",
       "  </tbody>\n",
       "</table>\n",
       "<p>35173510 rows × 6 columns</p>\n",
       "</div>"
      ],
      "text/plain": [
       "       latitude   longitude  area_in_meters  confidence full_plus_code  \\\n",
       "0      9.429870  118.531309         26.5833      0.6818  6PXWCGHJ+WGVX   \n",
       "1      9.440374  118.482974         17.9793      0.7408  6PXWCFRM+45XR   \n",
       "2      9.363887  118.464563         37.3005      0.8230  6PXW9F77+HR4C   \n",
       "3      9.495301  118.569990         73.2031      0.7485  6PXWFHW9+4XH4   \n",
       "4      9.381147  118.503310         62.4306      0.8135  6PXW9GJ3+F83X   \n",
       "...         ...         ...             ...         ...            ...   \n",
       "5370  20.449684  121.971273         50.4747      0.6766  7QG3CXXC+VGC8   \n",
       "5371  19.511708  121.913273         68.3271      0.7195  7QF3GW67+M8J8   \n",
       "5372  20.451546  121.972214          7.8440      0.6061  7QG3FX2C+JV8X   \n",
       "5373  20.619810  121.707082          7.3060      0.6186  7QG3JP94+WRG8   \n",
       "5374  20.451351  121.974802         28.4022      0.6083  7QG3FX2F+GWV4   \n",
       "\n",
       "                        geometry  \n",
       "0      POINT (118.53131 9.42987)  \n",
       "1      POINT (118.48297 9.44037)  \n",
       "2      POINT (118.46456 9.36389)  \n",
       "3      POINT (118.56999 9.49530)  \n",
       "4      POINT (118.50331 9.38115)  \n",
       "...                          ...  \n",
       "5370  POINT (121.97127 20.44968)  \n",
       "5371  POINT (121.91327 19.51171)  \n",
       "5372  POINT (121.97221 20.45155)  \n",
       "5373  POINT (121.70708 20.61981)  \n",
       "5374  POINT (121.97480 20.45135)  \n",
       "\n",
       "[35173510 rows x 6 columns]"
      ]
     },
     "execution_count": 35,
     "metadata": {},
     "output_type": "execute_result"
    }
   ],
   "source": [
    "ggl_gdf.set_crs(adm3_shp.crs, inplace=True)"
   ]
  },
  {
   "attachments": {},
   "cell_type": "markdown",
   "metadata": {},
   "source": [
    "## Counting number of buildings by region"
   ]
  },
  {
   "attachments": {},
   "cell_type": "markdown",
   "metadata": {},
   "source": [
    "### By Municipality"
   ]
  },
  {
   "cell_type": "code",
   "execution_count": 27,
   "metadata": {},
   "outputs": [
    {
     "name": "stderr",
     "output_type": "stream",
     "text": [
      "c:\\Users\\pauni\\Desktop\\Work\\OCHA\\GitHub\\VirtualEnv\\globaltyphoon\\lib\\site-packages\\geopandas\\geodataframe.py:2061: UserWarning: CRS mismatch between the CRS of left geometries and the CRS of right geometries.\n",
      "Use `to_crs()` to reproject one of the input geometries to match the CRS of the other.\n",
      "\n",
      "Left CRS: EPSG:4326\n",
      "Right CRS: None\n",
      "\n",
      "  return geopandas.sjoin(left_df=self, right_df=df, *args, **kwargs)\n"
     ]
    }
   ],
   "source": [
    "phl_ggl_bld_municip_count = adm3_shp.merge(\n",
    "    adm3_shp.sjoin(ggl_gdf, how=\"left\")\n",
    "    .groupby(\"ADM3_PCODE\")\n",
    "    .count()\n",
    "    .geometry.rename(\"numbuildings\")\n",
    "    .reset_index()\n",
    ")"
   ]
  },
  {
   "cell_type": "code",
   "execution_count": 28,
   "metadata": {},
   "outputs": [
    {
     "data": {
      "text/plain": [
       "Index(['Shape_Leng', 'Shape_Area', 'ADM3_EN', 'ADM3_PCODE', 'ADM3_REF',\n",
       "       'ADM3ALT1EN', 'ADM3ALT2EN', 'ADM2_EN', 'ADM2_PCODE', 'ADM1_EN',\n",
       "       'ADM1_PCODE', 'ADM0_EN', 'ADM0_PCODE', 'date', 'validOn', 'validTo',\n",
       "       'geometry', 'numbuildings'],\n",
       "      dtype='object')"
      ]
     },
     "execution_count": 28,
     "metadata": {},
     "output_type": "execute_result"
    }
   ],
   "source": [
    "phl_ggl_bld_municip_count.columns"
   ]
  },
  {
   "cell_type": "code",
   "execution_count": 30,
   "metadata": {},
   "outputs": [],
   "source": [
    "phl_ggl_bld_municip_count[[\"ADM3_PCODE\", \"ADM3_EN\", \"numbuildings\"]].to_csv(\n",
    "    input_dir / \"phl_google_bld_municip_count.csv\", index=False\n",
    ")"
   ]
  },
  {
   "attachments": {},
   "cell_type": "markdown",
   "metadata": {},
   "source": [
    "### By Grid"
   ]
  },
  {
   "cell_type": "code",
   "execution_count": 36,
   "metadata": {},
   "outputs": [],
   "source": [
    "phl_ggl_bld_grid_count = grid.merge(\n",
    "    grid.sjoin(ggl_gdf, how=\"left\")\n",
    "    .groupby(\"id\")\n",
    "    .count()\n",
    "    .geometry.rename(\"numbuildings\")\n",
    "    .reset_index()\n",
    ")"
   ]
  },
  {
   "cell_type": "code",
   "execution_count": 37,
   "metadata": {},
   "outputs": [
    {
     "data": {
      "text/plain": [
       "Index(['id', 'Longitude', 'Latitude', 'Centroid', 'geometry', 'numbuildings'], dtype='object')"
      ]
     },
     "execution_count": 37,
     "metadata": {},
     "output_type": "execute_result"
    }
   ],
   "source": [
    "phl_ggl_bld_grid_count.columns"
   ]
  },
  {
   "cell_type": "code",
   "execution_count": 38,
   "metadata": {},
   "outputs": [],
   "source": [
    "phl_ggl_bld_grid_count[[\"id\", \"Centroid\", \"numbuildings\"]].to_csv(\n",
    "    input_dir / \"phl_google_bld_grid_count.csv\", index=False\n",
    ")"
   ]
  },
  {
   "attachments": {},
   "cell_type": "markdown",
   "metadata": {},
   "source": [
    "### By Municipality and Grid Intersection"
   ]
  },
  {
   "cell_type": "code",
   "execution_count": 39,
   "metadata": {},
   "outputs": [],
   "source": [
    "phl_ggl_bld_intersection_count = adm3_grid_intersection.merge(\n",
    "    adm3_grid_intersection.sjoin(ggl_gdf, how=\"left\")\n",
    "    .groupby([\"ADM3_PCODE\", \"Centroid\"])\n",
    "    .count()\n",
    "    .geometry.rename(\"numbuildings\")\n",
    "    .reset_index()\n",
    ")"
   ]
  },
  {
   "cell_type": "code",
   "execution_count": 40,
   "metadata": {},
   "outputs": [
    {
     "data": {
      "text/plain": [
       "Index(['Shape_Leng', 'Shape_Area', 'ADM3_EN', 'ADM3_PCODE', 'ADM3_REF',\n",
       "       'ADM3ALT1EN', 'ADM3ALT2EN', 'ADM2_EN', 'ADM2_PCODE', 'ADM1_EN',\n",
       "       'ADM1_PCODE', 'ADM0_EN', 'ADM0_PCODE', 'date', 'validOn', 'validTo',\n",
       "       'id', 'Longitude', 'Latitude', 'Centroid', 'geometry', 'numbuildings'],\n",
       "      dtype='object')"
      ]
     },
     "execution_count": 40,
     "metadata": {},
     "output_type": "execute_result"
    }
   ],
   "source": [
    "phl_ggl_bld_intersection_count.columns"
   ]
  },
  {
   "cell_type": "code",
   "execution_count": 41,
   "metadata": {},
   "outputs": [],
   "source": [
    "phl_ggl_bld_intersection_count[\n",
    "    [\"ADM3_PCODE\", \"ADM3_EN\", \"id\", \"Centroid\", \"numbuildings\"]\n",
    "].to_csv(input_dir / \"phl_google_bld_intersection_count.csv\", index=False)"
   ]
  }
 ],
 "metadata": {
  "kernelspec": {
   "display_name": "globaltyphoon",
   "language": "python",
   "name": "python3"
  },
  "language_info": {
   "codemirror_mode": {
    "name": "ipython",
    "version": 3
   },
   "file_extension": ".py",
   "mimetype": "text/x-python",
   "name": "python",
   "nbconvert_exporter": "python",
   "pygments_lexer": "ipython3",
   "version": "3.9.0"
  },
  "orig_nbformat": 4,
  "vscode": {
   "interpreter": {
    "hash": "d0bf5227c718a54401bc80004b44f7ad33fb80a867a635817764b403a4b4c0f1"
   }
  }
 },
 "nbformat": 4,
 "nbformat_minor": 2
}
