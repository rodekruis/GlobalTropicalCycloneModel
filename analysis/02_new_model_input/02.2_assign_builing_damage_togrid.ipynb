{
 "cells": [
  {
   "cell_type": "markdown",
   "metadata": {},
   "source": [
    "# Assignment of building damage data to grids from municipalities"
   ]
  },
  {
   "cell_type": "code",
   "execution_count": null,
   "metadata": {},
   "outputs": [],
   "source": [
    "%load_ext jupyter_black\n",
    "import pandas as pd\n",
    "import os\n",
    "from pathlib import Path\n",
    "pd.set_option(\"display.float_format\", lambda x: \"%.5f\" % x)\n",
    "input_dir = (\n",
    "    Path(os.getenv(\"STORM_DATA_DIR\")) / \"analysis/02_new_model_input/02_housing_damage/input/\"\n",
    ")\n",
    "baseline_input_dir = (\n",
    "    Path(os.getenv(\"STORM_DATA_DIR\")) / \"analysis/01_baseline_model/input/\"\n",
    ")\n",
    "output_dir = (\n",
    "    Path(os.getenv(\"STORM_DATA_DIR\")) / \"analysis/02_new_model_input/02_housing_damage/output/\"\n",
    ")"
   ]
  },
  {
   "cell_type": "code",
   "execution_count": null,
   "metadata": {},
   "outputs": [],
   "source": [
    "# reading in file with building damage data and adm3 in grid\n",
    "adm3_perc_ingrid = pd.read_csv(\n",
    "    input_dir / \"Adm3_Perc_inGrid_Weight_Matrix.csv\"\n",
    ")\n",
    "perc_build_dmg_data = pd.read_csv(\n",
    "    baseline_input_dir / \"combined_input_data.csv\"\n",
    ")\n",
    "build_dmg_data = pd.read_csv(input_dir / \"IMpact_data_philipines_SEP_2021.csv\")\n",
    "phl_north_build = pd.read_csv(\n",
    "    input_dir / \"phl_north_hotosm_bld_centroid_count.csv\"\n",
    ")\n",
    "phl_south_build = pd.read_csv(\n",
    "    input_dir / \"phl_south_hotosm_bld_centroid_count.csv\"\n",
    ")\n",
    "adm3_perc_ingrid.shape"
   ]
  },
  {
   "cell_type": "code",
   "execution_count": null,
   "metadata": {},
   "outputs": [],
   "source": [
    "## Section describing the merging of the north and south buildings from HOTOSM shapefile\n",
    "# merging the north and south values as the shapefiles are separate\n",
    "merged_df_points = (\n",
    "    phl_north_build[[\"id\", \"NUMPOINTS\"]].set_index([\"id\"])\n",
    "    + phl_south_build[[\"id\", \"NUMPOINTS\"]].set_index([\"id\"])\n",
    ").reset_index()\n",
    "merged_df_points = pd.merge(\n",
    "    merged_df_points, phl_north_build.drop(\"NUMPOINTS\", axis=1), on=\"id\"\n",
    ")\n",
    "merged_df_points"
   ]
  },
  {
   "cell_type": "code",
   "execution_count": null,
   "metadata": {},
   "outputs": [],
   "source": [
    "merged_df_points.to_csv(\n",
    "    input_dir / \"phl_hotosm_bld_centroid_count.csv\", index=False\n",
    ")"
   ]
  },
  {
   "cell_type": "code",
   "execution_count": null,
   "metadata": {},
   "outputs": [],
   "source": [
    "### Section describing the computation of the building damage percentage\n",
    "# combining building damage data and grid information\n",
    "merged_total_damage_df = adm3_perc_ingrid.merge(\n",
    "    build_dmg_data,\n",
    "    left_on=\"ADM3_PCODE\",\n",
    "    right_on=\"pcode\",\n",
    "    how=\"left\",\n",
    ")\n",
    "merged_total_damage_df[\"Totally\"].describe()"
   ]
  },
  {
   "cell_type": "code",
   "execution_count": null,
   "metadata": {},
   "outputs": [],
   "source": [
    "merged_total_damage_df"
   ]
  },
  {
   "cell_type": "code",
   "execution_count": null,
   "metadata": {},
   "outputs": [],
   "source": [
    "# computing % in each grid\n",
    "# totally damaged\n",
    "merged_total_damage_df[\"Totally_Damaged_bygrid\"] = (\n",
    "    merged_total_damage_df[\"Municipality Completeness\"]\n",
    "    * merged_total_damage_df[\"Totally\"]\n",
    ")\n",
    "# partially damaged\n",
    "merged_total_damage_df[\"Partially_Damaged_bygrid\"] = (\n",
    "    merged_total_damage_df[\"Municipality Completeness\"]\n",
    "    * merged_total_damage_df[\"Partially\"]\n",
    ")\n",
    "# all damaged\n",
    "merged_total_damage_df[\"All_Damaged_bygrid\"] = (\n",
    "    merged_total_damage_df[\"Municipality Completeness\"]\n",
    "    * merged_total_damage_df[\"total\"]\n",
    ")\n",
    "# computing percentage damage\n",
    "# merging with building damage data\n",
    "merged_perc_damage_df = merged_df_points.merge(\n",
    "    merged_total_damage_df,\n",
    "    on=\"id\",\n",
    "    how=\"left\",\n",
    ")\n",
    "merged_perc_damage_df"
   ]
  },
  {
   "cell_type": "code",
   "execution_count": null,
   "metadata": {},
   "outputs": [],
   "source": [
    "# computing the percentage damage\n",
    "merged_perc_damage_df[\"Totally_Damaged_Perc_bygrid\"] = (\n",
    "    merged_perc_damage_df[\"Totally_Damaged_bygrid\"]\n",
    "    / merged_perc_damage_df[\"NUMPOINTS\"]\n",
    ")\n",
    "# partially damaged\n",
    "merged_perc_damage_df[\"Partially_Damaged_Perc_bygrid\"] = (\n",
    "    merged_perc_damage_df[\"Partially_Damaged_bygrid\"]\n",
    "    / merged_perc_damage_df[\"NUMPOINTS\"]\n",
    ")\n",
    "# all damaged\n",
    "merged_perc_damage_df[\"All_Damaged_Perc_bygrid\"] = (\n",
    "    merged_perc_damage_df[\"All_Damaged_bygrid\"]\n",
    "    / merged_perc_damage_df[\"NUMPOINTS\"]\n",
    ")\n",
    "merged_perc_damage_df[\"Totally_Damaged_Perc_bygrid\"].describe()"
   ]
  },
  {
   "cell_type": "code",
   "execution_count": null,
   "metadata": {},
   "outputs": [],
   "source": [
    "merged_perc_damage_df"
   ]
  },
  {
   "cell_type": "code",
   "execution_count": null,
   "metadata": {},
   "outputs": [],
   "source": [
    "# writing output to CSV file\n",
    "merged_perc_damage_df.to_csv(\n",
    "    output_dir / \"percentage_building_damage_bygrid.csv\", index=False\n",
    ")"
   ]
  },
  {
   "cell_type": "code",
   "execution_count": null,
   "metadata": {},
   "outputs": [],
   "source": [
    "# Changing percentage damage to grids\n",
    "# combining building damage data and grid information\n",
    "perc_merged_df = adm3_perc_ingrid.merge(\n",
    "    perc_build_dmg_data[[\"Mun_Code\", \"typhoon\", \"DAM_perc_dmg\"]],\n",
    "    left_on=\"ADM3_PCODE\",\n",
    "    right_on=\"Mun_Code\",\n",
    "    how=\"left\",\n",
    ")\n",
    "perc_merged_df[\"DAM_perc_dmg\"].describe()\n",
    "perc_merged_df\n",
    "# computing % in each grid\n",
    "perc_merged_df[\"DAM_perc_dmg_Grid\"] = (\n",
    "    perc_merged_df[\"Municipality Completeness\"]\n",
    "    * perc_merged_df[\"DAM_perc_dmg\"]\n",
    ")\n",
    "# writing output to CSV file\n",
    "# perc_merged_df.to_csv(input_dir / \"perc_building_dmg_bygrid.csv\", index=False)"
   ]
  }
 ],
 "metadata": {
  "kernelspec": {
   "display_name": "Python 3.9.0 ('globaltyphoon')",
   "language": "python",
   "name": "python3"
  },
  "language_info": {
   "codemirror_mode": {
    "name": "ipython",
    "version": 3
   },
   "file_extension": ".py",
   "mimetype": "text/x-python",
   "name": "python",
   "nbconvert_exporter": "python",
   "pygments_lexer": "ipython3",
   "version": "3.9.0"
  },
  "orig_nbformat": 4,
  "vscode": {
   "interpreter": {
    "hash": "d0bf5227c718a54401bc80004b44f7ad33fb80a867a635817764b403a4b4c0f1"
   }
  }
 },
 "nbformat": 4,
 "nbformat_minor": 2
}
