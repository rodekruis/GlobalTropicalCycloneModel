{
 "cells": [
  {
   "cell_type": "markdown",
   "metadata": {},
   "source": [
    "# Assignment of building damage data to grids from municipalities"
   ]
  },
  {
   "cell_type": "code",
   "execution_count": null,
   "metadata": {},
   "outputs": [],
   "source": [
    "%load_ext jupyter_black\n",
    "import pandas as pd\n",
    "import os\n",
    "from pathlib import Path\n",
    "\n",
    "pd.set_option(\"display.float_format\", lambda x: \"%.5f\" % x)\n",
    "input_dir = (\n",
    "    Path(os.getenv(\"STORM_DATA_DIR\"))\n",
    "    / \"analysis/02_new_model_input/02_housing_damage/input/\"\n",
    ")\n",
    "baseline_input_dir = (\n",
    "    Path(os.getenv(\"STORM_DATA_DIR\")) / \"analysis/01_baseline_model/input/\"\n",
    ")\n",
    "output_dir = (\n",
    "    Path(os.getenv(\"STORM_DATA_DIR\"))\n",
    "    / \"analysis/02_new_model_input/02_housing_damage/output/\"\n",
    ")"
   ]
  },
  {
   "cell_type": "code",
   "execution_count": null,
   "metadata": {},
   "outputs": [],
   "source": [
    "# reading in file with building damage data and adm3 in grid\n",
    "adm3_perc_ingrid = pd.read_csv(\n",
    "    input_dir / \"Adm3_Perc_inGrid_Weight_Matrix.csv\"\n",
    ")\n",
    "perc_build_dmg_data = pd.read_csv(\n",
    "    baseline_input_dir / \"combined_input_data.csv\"\n",
    ")\n",
    "build_dmg_data = pd.read_csv(input_dir / \"IMpact_data_philipines_SEP_2021.csv\")\n",
    "phl_build_weights = pd.read_csv(input_dir / \"phl_bld_weight_matrix.csv\")\n",
    "phl_build_grid = pd.read_csv(\n",
    "    input_dir / \"phl_hotosm_bld_centroid_grid_count.csv\"\n",
    ")\n",
    "phl_build_municip = pd.read_csv(\n",
    "    input_dir / \"phl_hotosm_bld_centroid_municip_count.csv\"\n",
    ")"
   ]
  },
  {
   "cell_type": "code",
   "execution_count": null,
   "metadata": {},
   "outputs": [],
   "source": [
    "# removing duplicates from the building damage data\n",
    "build_dmg_data.drop(\"Id\", axis=1, inplace=True)\n",
    "build_dmg_data.drop_duplicates(inplace=True)"
   ]
  },
  {
   "cell_type": "markdown",
   "metadata": {},
   "source": [
    "## Using Area of Municipality"
   ]
  },
  {
   "cell_type": "code",
   "execution_count": null,
   "metadata": {},
   "outputs": [],
   "source": [
    "## Section describing the merging of the north and south buildings from HOTOSM shapefile\n",
    "merged_df_points = phl_build_grid.copy()\n",
    "merged_df_points = pd.merge(\n",
    "    merged_df_points,\n",
    "    phl_build_grid.drop(\"numbuildings\", axis=1),\n",
    "    on=\"id\",\n",
    "    suffixes=(None, \"_y\"),\n",
    ")\n",
    "\n",
    "merged_df_points[\"numbuildings\"].describe()"
   ]
  },
  {
   "cell_type": "code",
   "execution_count": null,
   "metadata": {},
   "outputs": [],
   "source": [
    "merged_df_points_overlap = merged_df_points.loc[\n",
    "    merged_df_points[\"Centroid\"].isin(adm3_perc_ingrid[\"Centroid\"])\n",
    "]"
   ]
  },
  {
   "cell_type": "code",
   "execution_count": null,
   "metadata": {},
   "outputs": [],
   "source": [
    "all(\n",
    "    item in list(adm3_perc_ingrid[\"ADM3_PCODE\"])\n",
    "    for item in list(build_dmg_data[\"pcode\"])\n",
    ")\n",
    "# Not all municipalities are in the damage data set."
   ]
  },
  {
   "cell_type": "code",
   "execution_count": null,
   "metadata": {},
   "outputs": [],
   "source": [
    "build_dmg_data[build_dmg_data[\"pcode\"] == \"PH025012000\"]"
   ]
  },
  {
   "cell_type": "markdown",
   "metadata": {},
   "source": [
    "We will come back to this \n",
    "as it is not clear why there are multiple rows for the same municipalities \n",
    "recorded for the same typhoon and Year in the building damage data set. \n",
    "Different total values could be accumulations. For now, treating them as separate values."
   ]
  },
  {
   "cell_type": "code",
   "execution_count": null,
   "metadata": {},
   "outputs": [],
   "source": [
    "## aggregating these values\n",
    "## To confirm whether they are additional data or cumulative data in the case where the total values are different for same typhoons.\n",
    "\n",
    "build_dmg_data_grouped = (\n",
    "    build_dmg_data.groupby([\"pcode\", \"typhoon\", \"Year\"]).sum().reset_index()\n",
    ")\n",
    "build_dmg_data_grouped[build_dmg_data_grouped[\"pcode\"] == \"PH025012000\"]"
   ]
  },
  {
   "cell_type": "code",
   "execution_count": null,
   "metadata": {},
   "outputs": [],
   "source": [
    "### Section describing the computation of the building damage percentage\n",
    "# combining building damage data and grid information\n",
    "merged_total_damage_df = adm3_perc_ingrid.merge(\n",
    "    build_dmg_data_grouped,\n",
    "    left_on=\"ADM3_PCODE\",\n",
    "    right_on=\"pcode\",\n",
    "    how=\"left\",\n",
    ")"
   ]
  },
  {
   "cell_type": "code",
   "execution_count": null,
   "metadata": {},
   "outputs": [],
   "source": [
    "# computing % in each grid\n",
    "# totally damaged\n",
    "merged_total_damage_df[\"Totally_Damaged_bygrid\"] = (\n",
    "    merged_total_damage_df[\"Municipality Completeness\"]\n",
    "    * merged_total_damage_df[\"Totally\"]\n",
    ")"
   ]
  },
  {
   "cell_type": "code",
   "execution_count": null,
   "metadata": {},
   "outputs": [],
   "source": [
    "merged_total_damage_df[\n",
    "    (merged_total_damage_df[\"pcode\"] == \"PH025012000\")\n",
    "    & (merged_total_damage_df[\"typhoon\"] == \"Mangkhut\")\n",
    "]"
   ]
  },
  {
   "cell_type": "code",
   "execution_count": null,
   "metadata": {},
   "outputs": [],
   "source": [
    "test_df = (\n",
    "    merged_total_damage_df[[\"ADM3_PCODE\", \"Totally_Damaged_bygrid\"]]\n",
    "    .groupby(\"ADM3_PCODE\")\n",
    "    .sum()\n",
    "    .reset_index()\n",
    "    .merge(\n",
    "        build_dmg_data_grouped[[\"pcode\", \"Totally\"]]\n",
    "        .groupby(\"pcode\")\n",
    "        .sum()\n",
    "        .reset_index(),\n",
    "        left_on=\"ADM3_PCODE\",\n",
    "        right_on=\"pcode\",\n",
    "        how=\"left\",\n",
    "    )\n",
    ")\n",
    "test_df[\"Diff\"] = test_df[\"Totally_Damaged_bygrid\"] - test_df[\"Totally\"]\n",
    "test_df[\"Diff\"].describe()"
   ]
  },
  {
   "cell_type": "markdown",
   "metadata": {},
   "source": [
    "A small difference between the number of totally damaged values. \n",
    "This can be explained by the weighting using the area overlap."
   ]
  },
  {
   "cell_type": "code",
   "execution_count": null,
   "metadata": {},
   "outputs": [],
   "source": [
    "# computing percentage damage\n",
    "# merging with building damage data\n",
    "merged_perc_damage_df = merged_df_points.merge(\n",
    "    merged_total_damage_df, on=\"id\", how=\"right\", suffixes=(None, \"_y\")\n",
    ")\n",
    "merged_perc_damage_df[\n",
    "    [\n",
    "        \"id\",\n",
    "        \"Centroid\",\n",
    "        \"ADM3_PCODE\",\n",
    "        \"ADM3_EN\",\n",
    "        \"typhoon\",\n",
    "        \"Year\",\n",
    "        \"Municipality Completeness\",\n",
    "        \"Totally\",\n",
    "        \"numbuildings\",\n",
    "        \"Totally_Damaged_bygrid\",\n",
    "    ]\n",
    "].sort_values([\"Totally_Damaged_bygrid\"], ascending=False)"
   ]
  },
  {
   "cell_type": "markdown",
   "metadata": {},
   "source": [
    "This method of assigning weights using area is providing an interesting problem \n",
    "due to some grids having a higher number of damaged buildings that actual buildings. \n",
    "We changed the approach to use number of buildings in a municipality instead."
   ]
  },
  {
   "cell_type": "code",
   "execution_count": null,
   "metadata": {},
   "outputs": [],
   "source": [
    "merged_perc_damage_dfout = (\n",
    "    merged_perc_damage_df[\n",
    "        [\n",
    "            \"id\",\n",
    "            \"Centroid\",\n",
    "            \"ADM3_PCODE\",\n",
    "            \"ADM3_EN\",\n",
    "            \"typhoon\",\n",
    "            \"Year\",\n",
    "            \"numbuildings\",\n",
    "            \"Totally_Damaged_bygrid\",\n",
    "        ]\n",
    "    ]\n",
    "    .groupby([\"id\", \"Centroid\", \"typhoon\", \"Year\"])\n",
    "    .sum(numeric_only=True)\n",
    "    .reset_index()\n",
    ")\n",
    "# computing the percentage damage\n",
    "merged_perc_damage_dfout[\"Totally_Damaged_Perc_bygrid\"] = (\n",
    "    merged_perc_damage_dfout[\"Totally_Damaged_bygrid\"]\n",
    "    / merged_perc_damage_dfout[\"numbuildings\"]\n",
    ")\n",
    "merged_perc_damage_dfout.sort_values(\n",
    "    [\"Totally_Damaged_Perc_bygrid\"], ascending=False\n",
    ")"
   ]
  },
  {
   "cell_type": "code",
   "execution_count": null,
   "metadata": {},
   "outputs": [],
   "source": [
    "# writing output to CSV file\n",
    "# to write to csv file, group first by grid centroid\n",
    "merged_perc_damage_dfout.to_csv(\n",
    "    output_dir / \"building_damage_bygrid_using_area.csv\", index=False\n",
    ")"
   ]
  },
  {
   "cell_type": "markdown",
   "metadata": {},
   "source": [
    "## Using Number of Buildings"
   ]
  },
  {
   "cell_type": "markdown",
   "metadata": {},
   "source": [
    "Merging all dataframes, one with number of buildings in municipality, \n",
    "one with number of damaged buildings in municipality and \n",
    "the last with weights for each grid and municipality."
   ]
  },
  {
   "cell_type": "code",
   "execution_count": null,
   "metadata": {},
   "outputs": [],
   "source": [
    "phl_bld_all_merged_df = phl_build_municip.merge(\n",
    "    build_dmg_data_grouped,\n",
    "    left_on=\"ADM3_PCODE\",\n",
    "    right_on=\"pcode\",\n",
    "    how=\"left\",\n",
    "    suffixes=(None, \"_y\"),\n",
    ").merge(phl_build_weights, on=\"ADM3_PCODE\", how=\"left\", suffixes=(None, \"_y\"))"
   ]
  },
  {
   "cell_type": "code",
   "execution_count": null,
   "metadata": {},
   "outputs": [],
   "source": [
    "phl_bld_all_merged_df[\"numbuildings_bygrid\"] = (\n",
    "    phl_bld_all_merged_df[\"weight\"] * phl_bld_all_merged_df[\"numbuildings\"]\n",
    ")\n",
    "phl_bld_all_merged_df[\"Totally_Damaged_bygrid\"] = (\n",
    "    phl_bld_all_merged_df[\"weight\"] * phl_bld_all_merged_df[\"Totally\"]\n",
    ")\n",
    "phl_bld_all_merged_df[\n",
    "    [\n",
    "        \"id\",\n",
    "        \"Centroid\",\n",
    "        \"ADM3_PCODE\",\n",
    "        \"typhoon\",\n",
    "        \"Year\",\n",
    "        \"weight\",\n",
    "        \"Totally\",\n",
    "        \"numbuildings\",\n",
    "        \"numbuildings_bygrid\",\n",
    "        \"Totally_Damaged_bygrid\",\n",
    "    ]\n",
    "].sort_values([\"Totally_Damaged_bygrid\"], ascending=False)"
   ]
  },
  {
   "cell_type": "code",
   "execution_count": null,
   "metadata": {},
   "outputs": [],
   "source": [
    "build_dmg_data[build_dmg_data[\"pcode\"] == \"PH045635000\"]"
   ]
  },
  {
   "cell_type": "code",
   "execution_count": null,
   "metadata": {},
   "outputs": [],
   "source": [
    "phl_bld_all_merged_dfout = phl_bld_all_merged_df[\n",
    "    [\n",
    "        \"id\",\n",
    "        \"Centroid\",\n",
    "        \"typhoon\",\n",
    "        \"Year\",\n",
    "        \"weight\",\n",
    "        \"numbuildings_bygrid\",\n",
    "        \"Totally_Damaged_bygrid\",\n",
    "    ]\n",
    "]\n",
    "phl_bld_all_merged_dfout = (\n",
    "    phl_bld_all_merged_dfout.groupby([\"id\", \"Centroid\", \"typhoon\", \"Year\"])\n",
    "    .sum()\n",
    "    .reset_index()\n",
    ")\n",
    "\n",
    "phl_bld_all_merged_dfout[\"Totally_Damaged_Perc_bygrid\"] = (\n",
    "    phl_bld_all_merged_dfout[\"Totally_Damaged_bygrid\"]\n",
    "    / phl_bld_all_merged_dfout[\"numbuildings_bygrid\"]\n",
    ")\n",
    "phl_bld_all_merged_dfout.sort_values(\n",
    "    [\"Totally_Damaged_Perc_bygrid\"], ascending=False\n",
    ")"
   ]
  },
  {
   "cell_type": "code",
   "execution_count": null,
   "metadata": {},
   "outputs": [],
   "source": [
    "phl_bld_all_merged_dfout[\"Totally_Damaged_Perc_bygrid\"].describe()"
   ]
  },
  {
   "cell_type": "code",
   "execution_count": null,
   "metadata": {},
   "outputs": [],
   "source": [
    "# writing output to CSV file\n",
    "# to write to csv file, group first by grid centroid\n",
    "phl_bld_all_merged_dfout.to_csv(\n",
    "    output_dir / \"building_damage_bygrid.csv\", index=False\n",
    ")"
   ]
  }
 ],
 "metadata": {
  "kernelspec": {
   "display_name": "Python 3.9.0 ('globaltyphoon')",
   "language": "python",
   "name": "python3"
  },
  "language_info": {
   "codemirror_mode": {
    "name": "ipython",
    "version": 3
   },
   "file_extension": ".py",
   "mimetype": "text/x-python",
   "name": "python",
   "nbconvert_exporter": "python",
   "pygments_lexer": "ipython3",
   "version": "3.9.0"
  },
  "orig_nbformat": 4,
  "vscode": {
   "interpreter": {
    "hash": "d0bf5227c718a54401bc80004b44f7ad33fb80a867a635817764b403a4b4c0f1"
   }
  }
 },
 "nbformat": 4,
 "nbformat_minor": 2
}
