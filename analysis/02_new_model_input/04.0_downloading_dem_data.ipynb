{
 "cells": [
  {
   "attachments": {},
   "cell_type": "markdown",
   "metadata": {},
   "source": [
    "# Downloading DEM data"
   ]
  },
  {
   "cell_type": "code",
   "execution_count": 47,
   "metadata": {},
   "outputs": [
    {
     "name": "stdout",
     "output_type": "stream",
     "text": [
      "The jupyter_black extension is already loaded. To reload it, use:\n",
      "  %reload_ext jupyter_black\n"
     ]
    }
   ],
   "source": [
    "%load_ext jupyter_black\n",
    "from bs4 import BeautifulSoup\n",
    "import requests\n",
    "from pathlib import Path\n",
    "import os\n",
    "import geopandas as gpd"
   ]
  },
  {
   "cell_type": "code",
   "execution_count": 48,
   "metadata": {},
   "outputs": [],
   "source": [
    "input_dir = (\n",
    "    Path(os.getenv(\"STORM_DATA_DIR\"))\n",
    "    / \"analysis/02_new_model_input/04_topography/input/srtm/\"\n",
    ")\n",
    "shp_input_dir = (\n",
    "    Path(os.getenv(\"STORM_DATA_DIR\"))\n",
    "    / \"analysis/02_new_model_input/02_housing_damage/input/\"\n",
    ")"
   ]
  },
  {
   "cell_type": "code",
   "execution_count": 32,
   "metadata": {},
   "outputs": [
    {
     "name": "stderr",
     "output_type": "stream",
     "text": [
      "c:\\Users\\pauni\\Desktop\\Work\\OCHA\\GitHub\\VirtualEnv\\globaltyphoon\\lib\\site-packages\\urllib3\\connectionpool.py:1045: InsecureRequestWarning: Unverified HTTPS request is being made to host 'srtm.csi.cgiar.org'. Adding certificate verification is strongly advised. See: https://urllib3.readthedocs.io/en/1.26.x/advanced-usage.html#ssl-warnings\n",
      "  warnings.warn(\n"
     ]
    }
   ],
   "source": [
    "base_url = \"https://srtm.csi.cgiar.org/wp-content/uploads/files/srtm_5x5/TIFF/\"\n",
    "ext = \"zip\"\n",
    "page = requests.get(base_url, verify=False).text\n",
    "soup = BeautifulSoup(page, \"html.parser\")\n",
    "for node in soup.find_all(\"a\"):\n",
    "    if node.get(\"href\").endswith(ext):\n",
    "        file_url = [\n",
    "            base_url + \"/\" + node.get(\"href\")\n",
    "            for node in soup.find_all(\"a\")\n",
    "            if node.get(\"href\").endswith(ext)\n",
    "        ]\n",
    "        file_list = [\n",
    "            node.get(\"href\")\n",
    "            for node in soup.find_all(\"a\")\n",
    "            if node.get(\"href\").endswith(ext)\n",
    "        ]"
   ]
  },
  {
   "attachments": {},
   "cell_type": "markdown",
   "metadata": {},
   "source": [
    "Using country extent to get which boxes to download."
   ]
  },
  {
   "cell_type": "code",
   "execution_count": 49,
   "metadata": {},
   "outputs": [],
   "source": [
    "adm3_shp = gpd.read_file(\n",
    "    shp_input_dir / \"phl_adminboundaries_candidate_adm3.zip\"\n",
    ")"
   ]
  },
  {
   "cell_type": "code",
   "execution_count": 126,
   "metadata": {},
   "outputs": [],
   "source": [
    "phl_extent = list(adm3_shp.total_bounds)\n",
    "wld_lon_extent = 180 + 180  # 180W to 180E\n",
    "wld_lat_extent = 60 + 60  # 60N to 60S\n",
    "wld_lon_box = wld_lon_extent / 72  # 72 is the number of columns of data\n",
    "wld_lat_box = wld_lat_extent / 24  # 24 is the number of rows of data\n",
    "wld_lon_start = list(range(-180, 180, int(wld_lon_box)))\n",
    "wld_lat_start = list(range(60, -60, int(wld_lat_box) * -1))\n",
    "phl_lat_start = [n for n, i in enumerate(wld_lat_start) if i < phl_extent[3]][\n",
    "    0\n",
    "]\n",
    "phl_lat_end = [n for n, i in enumerate(wld_lat_start) if i > phl_extent[1]][\n",
    "    -1:\n",
    "][0]\n",
    "phl_lon_start = [n for n, i in enumerate(wld_lon_start) if i > phl_extent[0]][\n",
    "    0\n",
    "]\n",
    "phl_lon_end = [n for n, i in enumerate(wld_lon_start) if i > phl_extent[2]][0]\n",
    "lat_list = list(range(phl_lat_start, phl_lat_end + 1))\n",
    "lon_list = list(range(phl_lon_start, phl_lon_end + 1))\n",
    "phl_list = [\"%02d\" % x + \"_\" + \"%02d\" % y for x in lon_list for y in lat_list]\n",
    "phl_file_list = [\"srtm_\" + file + \".zip\" for file in phl_list]"
   ]
  },
  {
   "cell_type": "code",
   "execution_count": 128,
   "metadata": {},
   "outputs": [
    {
     "name": "stderr",
     "output_type": "stream",
     "text": [
      "c:\\Users\\pauni\\Desktop\\Work\\OCHA\\GitHub\\VirtualEnv\\globaltyphoon\\lib\\site-packages\\urllib3\\connectionpool.py:1045: InsecureRequestWarning: Unverified HTTPS request is being made to host 'srtm.csi.cgiar.org'. Adding certificate verification is strongly advised. See: https://urllib3.readthedocs.io/en/1.26.x/advanced-usage.html#ssl-warnings\n",
      "  warnings.warn(\n",
      "c:\\Users\\pauni\\Desktop\\Work\\OCHA\\GitHub\\VirtualEnv\\globaltyphoon\\lib\\site-packages\\urllib3\\connectionpool.py:1045: InsecureRequestWarning: Unverified HTTPS request is being made to host 'srtm.csi.cgiar.org'. Adding certificate verification is strongly advised. See: https://urllib3.readthedocs.io/en/1.26.x/advanced-usage.html#ssl-warnings\n",
      "  warnings.warn(\n",
      "c:\\Users\\pauni\\Desktop\\Work\\OCHA\\GitHub\\VirtualEnv\\globaltyphoon\\lib\\site-packages\\urllib3\\connectionpool.py:1045: InsecureRequestWarning: Unverified HTTPS request is being made to host 'srtm.csi.cgiar.org'. Adding certificate verification is strongly advised. See: https://urllib3.readthedocs.io/en/1.26.x/advanced-usage.html#ssl-warnings\n",
      "  warnings.warn(\n",
      "c:\\Users\\pauni\\Desktop\\Work\\OCHA\\GitHub\\VirtualEnv\\globaltyphoon\\lib\\site-packages\\urllib3\\connectionpool.py:1045: InsecureRequestWarning: Unverified HTTPS request is being made to host 'srtm.csi.cgiar.org'. Adding certificate verification is strongly advised. See: https://urllib3.readthedocs.io/en/1.26.x/advanced-usage.html#ssl-warnings\n",
      "  warnings.warn(\n",
      "c:\\Users\\pauni\\Desktop\\Work\\OCHA\\GitHub\\VirtualEnv\\globaltyphoon\\lib\\site-packages\\urllib3\\connectionpool.py:1045: InsecureRequestWarning: Unverified HTTPS request is being made to host 'srtm.csi.cgiar.org'. Adding certificate verification is strongly advised. See: https://urllib3.readthedocs.io/en/1.26.x/advanced-usage.html#ssl-warnings\n",
      "  warnings.warn(\n",
      "c:\\Users\\pauni\\Desktop\\Work\\OCHA\\GitHub\\VirtualEnv\\globaltyphoon\\lib\\site-packages\\urllib3\\connectionpool.py:1045: InsecureRequestWarning: Unverified HTTPS request is being made to host 'srtm.csi.cgiar.org'. Adding certificate verification is strongly advised. See: https://urllib3.readthedocs.io/en/1.26.x/advanced-usage.html#ssl-warnings\n",
      "  warnings.warn(\n",
      "c:\\Users\\pauni\\Desktop\\Work\\OCHA\\GitHub\\VirtualEnv\\globaltyphoon\\lib\\site-packages\\urllib3\\connectionpool.py:1045: InsecureRequestWarning: Unverified HTTPS request is being made to host 'srtm.csi.cgiar.org'. Adding certificate verification is strongly advised. See: https://urllib3.readthedocs.io/en/1.26.x/advanced-usage.html#ssl-warnings\n",
      "  warnings.warn(\n",
      "c:\\Users\\pauni\\Desktop\\Work\\OCHA\\GitHub\\VirtualEnv\\globaltyphoon\\lib\\site-packages\\urllib3\\connectionpool.py:1045: InsecureRequestWarning: Unverified HTTPS request is being made to host 'srtm.csi.cgiar.org'. Adding certificate verification is strongly advised. See: https://urllib3.readthedocs.io/en/1.26.x/advanced-usage.html#ssl-warnings\n",
      "  warnings.warn(\n",
      "c:\\Users\\pauni\\Desktop\\Work\\OCHA\\GitHub\\VirtualEnv\\globaltyphoon\\lib\\site-packages\\urllib3\\connectionpool.py:1045: InsecureRequestWarning: Unverified HTTPS request is being made to host 'srtm.csi.cgiar.org'. Adding certificate verification is strongly advised. See: https://urllib3.readthedocs.io/en/1.26.x/advanced-usage.html#ssl-warnings\n",
      "  warnings.warn(\n",
      "c:\\Users\\pauni\\Desktop\\Work\\OCHA\\GitHub\\VirtualEnv\\globaltyphoon\\lib\\site-packages\\urllib3\\connectionpool.py:1045: InsecureRequestWarning: Unverified HTTPS request is being made to host 'srtm.csi.cgiar.org'. Adding certificate verification is strongly advised. See: https://urllib3.readthedocs.io/en/1.26.x/advanced-usage.html#ssl-warnings\n",
      "  warnings.warn(\n",
      "c:\\Users\\pauni\\Desktop\\Work\\OCHA\\GitHub\\VirtualEnv\\globaltyphoon\\lib\\site-packages\\urllib3\\connectionpool.py:1045: InsecureRequestWarning: Unverified HTTPS request is being made to host 'srtm.csi.cgiar.org'. Adding certificate verification is strongly advised. See: https://urllib3.readthedocs.io/en/1.26.x/advanced-usage.html#ssl-warnings\n",
      "  warnings.warn(\n",
      "c:\\Users\\pauni\\Desktop\\Work\\OCHA\\GitHub\\VirtualEnv\\globaltyphoon\\lib\\site-packages\\urllib3\\connectionpool.py:1045: InsecureRequestWarning: Unverified HTTPS request is being made to host 'srtm.csi.cgiar.org'. Adding certificate verification is strongly advised. See: https://urllib3.readthedocs.io/en/1.26.x/advanced-usage.html#ssl-warnings\n",
      "  warnings.warn(\n",
      "c:\\Users\\pauni\\Desktop\\Work\\OCHA\\GitHub\\VirtualEnv\\globaltyphoon\\lib\\site-packages\\urllib3\\connectionpool.py:1045: InsecureRequestWarning: Unverified HTTPS request is being made to host 'srtm.csi.cgiar.org'. Adding certificate verification is strongly advised. See: https://urllib3.readthedocs.io/en/1.26.x/advanced-usage.html#ssl-warnings\n",
      "  warnings.warn(\n",
      "c:\\Users\\pauni\\Desktop\\Work\\OCHA\\GitHub\\VirtualEnv\\globaltyphoon\\lib\\site-packages\\urllib3\\connectionpool.py:1045: InsecureRequestWarning: Unverified HTTPS request is being made to host 'srtm.csi.cgiar.org'. Adding certificate verification is strongly advised. See: https://urllib3.readthedocs.io/en/1.26.x/advanced-usage.html#ssl-warnings\n",
      "  warnings.warn(\n",
      "c:\\Users\\pauni\\Desktop\\Work\\OCHA\\GitHub\\VirtualEnv\\globaltyphoon\\lib\\site-packages\\urllib3\\connectionpool.py:1045: InsecureRequestWarning: Unverified HTTPS request is being made to host 'srtm.csi.cgiar.org'. Adding certificate verification is strongly advised. See: https://urllib3.readthedocs.io/en/1.26.x/advanced-usage.html#ssl-warnings\n",
      "  warnings.warn(\n",
      "c:\\Users\\pauni\\Desktop\\Work\\OCHA\\GitHub\\VirtualEnv\\globaltyphoon\\lib\\site-packages\\urllib3\\connectionpool.py:1045: InsecureRequestWarning: Unverified HTTPS request is being made to host 'srtm.csi.cgiar.org'. Adding certificate verification is strongly advised. See: https://urllib3.readthedocs.io/en/1.26.x/advanced-usage.html#ssl-warnings\n",
      "  warnings.warn(\n"
     ]
    }
   ],
   "source": [
    "for file in phl_file_list:\n",
    "    req = requests.get(base_url + file, verify=False, stream=True)\n",
    "    with open(input_dir / file, \"wb\") as output_file:\n",
    "        output_file.write(req.content)"
   ]
  }
 ],
 "metadata": {
  "kernelspec": {
   "display_name": "globaltyphoon",
   "language": "python",
   "name": "python3"
  },
  "language_info": {
   "codemirror_mode": {
    "name": "ipython",
    "version": 3
   },
   "file_extension": ".py",
   "mimetype": "text/x-python",
   "name": "python",
   "nbconvert_exporter": "python",
   "pygments_lexer": "ipython3",
   "version": "3.9.0"
  },
  "orig_nbformat": 4,
  "vscode": {
   "interpreter": {
    "hash": "d0bf5227c718a54401bc80004b44f7ad33fb80a867a635817764b403a4b4c0f1"
   }
  }
 },
 "nbformat": 4,
 "nbformat_minor": 2
}
