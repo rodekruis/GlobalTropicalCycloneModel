{
 "cells": [
  {
   "attachments": {},
   "cell_type": "markdown",
   "metadata": {},
   "source": [
    "# Google Building Footprint Data"
   ]
  },
  {
   "attachments": {},
   "cell_type": "markdown",
   "metadata": {},
   "source": [
    "The data is gotten from `https://sites.research.google/open-buildings/#download`"
   ]
  },
  {
   "cell_type": "code",
   "execution_count": 1,
   "metadata": {},
   "outputs": [
    {
     "data": {
      "text/html": [
       "\n",
       "                <script type=\"application/javascript\" id=\"jupyter_black\">\n",
       "                (function() {\n",
       "                    if (window.IPython === undefined) {\n",
       "                        return\n",
       "                    }\n",
       "                    var msg = \"WARNING: it looks like you might have loaded \" +\n",
       "                        \"jupyter_black in a non-lab notebook with \" +\n",
       "                        \"`is_lab=True`. Please double check, and if \" +\n",
       "                        \"loading with `%load_ext` please review the README!\"\n",
       "                    console.log(msg)\n",
       "                    alert(msg)\n",
       "                })()\n",
       "                </script>\n",
       "                "
      ],
      "text/plain": [
       "<IPython.core.display.HTML object>"
      ]
     },
     "metadata": {},
     "output_type": "display_data"
    }
   ],
   "source": [
    "%load_ext jupyter_black\n",
    "import pandas as pd\n",
    "import geopandas as gpd\n",
    "import os\n",
    "from pathlib import Path\n",
    "import requests"
   ]
  },
  {
   "cell_type": "code",
   "execution_count": 2,
   "metadata": {},
   "outputs": [],
   "source": [
    "base_url = (\n",
    "    Path(os.getenv(\"STORM_DATA_DIR\"))\n",
    "    / \"analysis/02_new_model_input/02_housing_damage/\"\n",
    ")\n",
    "input_dir = base_url / \"input/Google Footprint Data/\"\n",
    "shp_input_dir = base_url / \"input/\"\n",
    "output_dir = base_url / \"output/\""
   ]
  },
  {
   "cell_type": "code",
   "execution_count": 3,
   "metadata": {},
   "outputs": [],
   "source": [
    "adm3_shp = gpd.read_file(\n",
    "    shp_input_dir / \"phl_adminboundaries_candidate_adm3.zip\"\n",
    ")\n",
    "grid = gpd.read_file(output_dir / \"phl_0.1_degree_grid_land_overlap.gpkg\")\n",
    "adm3_grid_intersection = gpd.read_file(\n",
    "    shp_input_dir / \"phl_adm3_grid_intersection.gpkg\"\n",
    ")"
   ]
  },
  {
   "attachments": {},
   "cell_type": "markdown",
   "metadata": {},
   "source": [
    "The files that cover the Philippines are below and are selected by viewing on the map."
   ]
  },
  {
   "attachments": {},
   "cell_type": "markdown",
   "metadata": {},
   "source": [
    "### Downloading data"
   ]
  },
  {
   "cell_type": "code",
   "execution_count": 4,
   "metadata": {},
   "outputs": [],
   "source": [
    "file_pattern = [\"33d\", \"33b\", \"339\", \"325\", \"32f\", \"323\", \"331\", \"347\"]\n",
    "polygons_url_link = \"https://storage.googleapis.com/open-buildings-data/v2/polygons_s2_level_4_gzip/\"\n",
    "points_url_link = \"https://storage.googleapis.com/open-buildings-data/v2/points_s2_level_4_gzip/\"\n",
    "file_list = [patt + \"_buildings.csv.gz\" for patt in file_pattern]"
   ]
  },
  {
   "attachments": {},
   "cell_type": "markdown",
   "metadata": {},
   "source": [
    "Using the points data as we are using centroids."
   ]
  },
  {
   "cell_type": "code",
   "execution_count": null,
   "metadata": {},
   "outputs": [],
   "source": [
    "for file in file_list:\n",
    "    r = requests.get(points_url_link + file, allow_redirects=True)\n",
    "    open(input_dir / file, \"wb\").write(r.content)"
   ]
  },
  {
   "attachments": {},
   "cell_type": "markdown",
   "metadata": {},
   "source": [
    "### Merging all files into one"
   ]
  },
  {
   "cell_type": "code",
   "execution_count": 5,
   "metadata": {},
   "outputs": [
    {
     "data": {
      "text/html": [
       "<div>\n",
       "<style scoped>\n",
       "    .dataframe tbody tr th:only-of-type {\n",
       "        vertical-align: middle;\n",
       "    }\n",
       "\n",
       "    .dataframe tbody tr th {\n",
       "        vertical-align: top;\n",
       "    }\n",
       "\n",
       "    .dataframe thead th {\n",
       "        text-align: right;\n",
       "    }\n",
       "</style>\n",
       "<table border=\"1\" class=\"dataframe\">\n",
       "  <thead>\n",
       "    <tr style=\"text-align: right;\">\n",
       "      <th></th>\n",
       "      <th>latitude</th>\n",
       "      <th>longitude</th>\n",
       "      <th>area_in_meters</th>\n",
       "      <th>confidence</th>\n",
       "      <th>full_plus_code</th>\n",
       "    </tr>\n",
       "  </thead>\n",
       "  <tbody>\n",
       "    <tr>\n",
       "      <th>0</th>\n",
       "      <td>9.429870</td>\n",
       "      <td>118.531309</td>\n",
       "      <td>26.5833</td>\n",
       "      <td>0.6818</td>\n",
       "      <td>6PXWCGHJ+WGVX</td>\n",
       "    </tr>\n",
       "    <tr>\n",
       "      <th>1</th>\n",
       "      <td>9.440374</td>\n",
       "      <td>118.482974</td>\n",
       "      <td>17.9793</td>\n",
       "      <td>0.7408</td>\n",
       "      <td>6PXWCFRM+45XR</td>\n",
       "    </tr>\n",
       "    <tr>\n",
       "      <th>2</th>\n",
       "      <td>9.363887</td>\n",
       "      <td>118.464563</td>\n",
       "      <td>37.3005</td>\n",
       "      <td>0.8230</td>\n",
       "      <td>6PXW9F77+HR4C</td>\n",
       "    </tr>\n",
       "    <tr>\n",
       "      <th>3</th>\n",
       "      <td>9.495301</td>\n",
       "      <td>118.569990</td>\n",
       "      <td>73.2031</td>\n",
       "      <td>0.7485</td>\n",
       "      <td>6PXWFHW9+4XH4</td>\n",
       "    </tr>\n",
       "    <tr>\n",
       "      <th>4</th>\n",
       "      <td>9.381147</td>\n",
       "      <td>118.503310</td>\n",
       "      <td>62.4306</td>\n",
       "      <td>0.8135</td>\n",
       "      <td>6PXW9GJ3+F83X</td>\n",
       "    </tr>\n",
       "    <tr>\n",
       "      <th>...</th>\n",
       "      <td>...</td>\n",
       "      <td>...</td>\n",
       "      <td>...</td>\n",
       "      <td>...</td>\n",
       "      <td>...</td>\n",
       "    </tr>\n",
       "    <tr>\n",
       "      <th>5370</th>\n",
       "      <td>20.449684</td>\n",
       "      <td>121.971273</td>\n",
       "      <td>50.4747</td>\n",
       "      <td>0.6766</td>\n",
       "      <td>7QG3CXXC+VGC8</td>\n",
       "    </tr>\n",
       "    <tr>\n",
       "      <th>5371</th>\n",
       "      <td>19.511708</td>\n",
       "      <td>121.913273</td>\n",
       "      <td>68.3271</td>\n",
       "      <td>0.7195</td>\n",
       "      <td>7QF3GW67+M8J8</td>\n",
       "    </tr>\n",
       "    <tr>\n",
       "      <th>5372</th>\n",
       "      <td>20.451546</td>\n",
       "      <td>121.972214</td>\n",
       "      <td>7.8440</td>\n",
       "      <td>0.6061</td>\n",
       "      <td>7QG3FX2C+JV8X</td>\n",
       "    </tr>\n",
       "    <tr>\n",
       "      <th>5373</th>\n",
       "      <td>20.619810</td>\n",
       "      <td>121.707082</td>\n",
       "      <td>7.3060</td>\n",
       "      <td>0.6186</td>\n",
       "      <td>7QG3JP94+WRG8</td>\n",
       "    </tr>\n",
       "    <tr>\n",
       "      <th>5374</th>\n",
       "      <td>20.451351</td>\n",
       "      <td>121.974802</td>\n",
       "      <td>28.4022</td>\n",
       "      <td>0.6083</td>\n",
       "      <td>7QG3FX2F+GWV4</td>\n",
       "    </tr>\n",
       "  </tbody>\n",
       "</table>\n",
       "<p>35173510 rows × 5 columns</p>\n",
       "</div>"
      ],
      "text/plain": [
       "       latitude   longitude  area_in_meters  confidence full_plus_code\n",
       "0      9.429870  118.531309         26.5833      0.6818  6PXWCGHJ+WGVX\n",
       "1      9.440374  118.482974         17.9793      0.7408  6PXWCFRM+45XR\n",
       "2      9.363887  118.464563         37.3005      0.8230  6PXW9F77+HR4C\n",
       "3      9.495301  118.569990         73.2031      0.7485  6PXWFHW9+4XH4\n",
       "4      9.381147  118.503310         62.4306      0.8135  6PXW9GJ3+F83X\n",
       "...         ...         ...             ...         ...            ...\n",
       "5370  20.449684  121.971273         50.4747      0.6766  7QG3CXXC+VGC8\n",
       "5371  19.511708  121.913273         68.3271      0.7195  7QF3GW67+M8J8\n",
       "5372  20.451546  121.972214          7.8440      0.6061  7QG3FX2C+JV8X\n",
       "5373  20.619810  121.707082          7.3060      0.6186  7QG3JP94+WRG8\n",
       "5374  20.451351  121.974802         28.4022      0.6083  7QG3FX2F+GWV4\n",
       "\n",
       "[35173510 rows x 5 columns]"
      ]
     },
     "execution_count": 5,
     "metadata": {},
     "output_type": "execute_result"
    }
   ],
   "source": [
    "google_df = pd.DataFrame()\n",
    "for file in file_list:\n",
    "    zone_file = pd.read_csv(input_dir / file, compression=\"gzip\")\n",
    "    google_df = pd.concat([google_df, zone_file])\n",
    "google_df"
   ]
  },
  {
   "cell_type": "code",
   "execution_count": 11,
   "metadata": {},
   "outputs": [],
   "source": [
    "google_df.to_csv(input_dir / \"google_footprint_data.csv\", index=False)\n",
    "# google_df = pd.read_csv(input_dir / \"google_footprint_data.csv\")"
   ]
  },
  {
   "cell_type": "code",
   "execution_count": 6,
   "metadata": {},
   "outputs": [
    {
     "data": {
      "text/html": [
       "<div>\n",
       "<style scoped>\n",
       "    .dataframe tbody tr th:only-of-type {\n",
       "        vertical-align: middle;\n",
       "    }\n",
       "\n",
       "    .dataframe tbody tr th {\n",
       "        vertical-align: top;\n",
       "    }\n",
       "\n",
       "    .dataframe thead th {\n",
       "        text-align: right;\n",
       "    }\n",
       "</style>\n",
       "<table border=\"1\" class=\"dataframe\">\n",
       "  <thead>\n",
       "    <tr style=\"text-align: right;\">\n",
       "      <th></th>\n",
       "      <th>latitude</th>\n",
       "      <th>longitude</th>\n",
       "      <th>area_in_meters</th>\n",
       "      <th>confidence</th>\n",
       "      <th>full_plus_code</th>\n",
       "    </tr>\n",
       "  </thead>\n",
       "  <tbody>\n",
       "    <tr>\n",
       "      <th>1844083</th>\n",
       "      <td>17.382679</td>\n",
       "      <td>122.138921</td>\n",
       "      <td>10.7012</td>\n",
       "      <td>0.6136</td>\n",
       "      <td>7Q9494MQ+3HF3</td>\n",
       "    </tr>\n",
       "  </tbody>\n",
       "</table>\n",
       "</div>"
      ],
      "text/plain": [
       "          latitude   longitude  area_in_meters  confidence full_plus_code\n",
       "1844083  17.382679  122.138921         10.7012      0.6136  7Q9494MQ+3HF3"
      ]
     },
     "execution_count": 6,
     "metadata": {},
     "output_type": "execute_result"
    }
   ],
   "source": [
    "google_df[\n",
    "    (google_df[\"latitude\"].between(17.35, 17.45))\n",
    "    & (google_df[\"longitude\"].between(122.05, 122.15))\n",
    "]"
   ]
  },
  {
   "cell_type": "code",
   "execution_count": 7,
   "metadata": {},
   "outputs": [],
   "source": [
    "# converting point df to geodataframe\n",
    "ggl_gdf = gpd.GeoDataFrame(\n",
    "    google_df,\n",
    "    geometry=gpd.points_from_xy(google_df.longitude, google_df.latitude),\n",
    ")"
   ]
  },
  {
   "cell_type": "code",
   "execution_count": 8,
   "metadata": {},
   "outputs": [
    {
     "data": {
      "text/html": [
       "<div>\n",
       "<style scoped>\n",
       "    .dataframe tbody tr th:only-of-type {\n",
       "        vertical-align: middle;\n",
       "    }\n",
       "\n",
       "    .dataframe tbody tr th {\n",
       "        vertical-align: top;\n",
       "    }\n",
       "\n",
       "    .dataframe thead th {\n",
       "        text-align: right;\n",
       "    }\n",
       "</style>\n",
       "<table border=\"1\" class=\"dataframe\">\n",
       "  <thead>\n",
       "    <tr style=\"text-align: right;\">\n",
       "      <th></th>\n",
       "      <th>latitude</th>\n",
       "      <th>longitude</th>\n",
       "      <th>area_in_meters</th>\n",
       "      <th>confidence</th>\n",
       "      <th>full_plus_code</th>\n",
       "      <th>geometry</th>\n",
       "    </tr>\n",
       "  </thead>\n",
       "  <tbody>\n",
       "    <tr>\n",
       "      <th>0</th>\n",
       "      <td>9.429870</td>\n",
       "      <td>118.531309</td>\n",
       "      <td>26.5833</td>\n",
       "      <td>0.6818</td>\n",
       "      <td>6PXWCGHJ+WGVX</td>\n",
       "      <td>POINT (118.53131 9.42987)</td>\n",
       "    </tr>\n",
       "    <tr>\n",
       "      <th>1</th>\n",
       "      <td>9.440374</td>\n",
       "      <td>118.482974</td>\n",
       "      <td>17.9793</td>\n",
       "      <td>0.7408</td>\n",
       "      <td>6PXWCFRM+45XR</td>\n",
       "      <td>POINT (118.48297 9.44037)</td>\n",
       "    </tr>\n",
       "    <tr>\n",
       "      <th>2</th>\n",
       "      <td>9.363887</td>\n",
       "      <td>118.464563</td>\n",
       "      <td>37.3005</td>\n",
       "      <td>0.8230</td>\n",
       "      <td>6PXW9F77+HR4C</td>\n",
       "      <td>POINT (118.46456 9.36389)</td>\n",
       "    </tr>\n",
       "    <tr>\n",
       "      <th>3</th>\n",
       "      <td>9.495301</td>\n",
       "      <td>118.569990</td>\n",
       "      <td>73.2031</td>\n",
       "      <td>0.7485</td>\n",
       "      <td>6PXWFHW9+4XH4</td>\n",
       "      <td>POINT (118.56999 9.49530)</td>\n",
       "    </tr>\n",
       "    <tr>\n",
       "      <th>4</th>\n",
       "      <td>9.381147</td>\n",
       "      <td>118.503310</td>\n",
       "      <td>62.4306</td>\n",
       "      <td>0.8135</td>\n",
       "      <td>6PXW9GJ3+F83X</td>\n",
       "      <td>POINT (118.50331 9.38115)</td>\n",
       "    </tr>\n",
       "    <tr>\n",
       "      <th>...</th>\n",
       "      <td>...</td>\n",
       "      <td>...</td>\n",
       "      <td>...</td>\n",
       "      <td>...</td>\n",
       "      <td>...</td>\n",
       "      <td>...</td>\n",
       "    </tr>\n",
       "    <tr>\n",
       "      <th>5370</th>\n",
       "      <td>20.449684</td>\n",
       "      <td>121.971273</td>\n",
       "      <td>50.4747</td>\n",
       "      <td>0.6766</td>\n",
       "      <td>7QG3CXXC+VGC8</td>\n",
       "      <td>POINT (121.97127 20.44968)</td>\n",
       "    </tr>\n",
       "    <tr>\n",
       "      <th>5371</th>\n",
       "      <td>19.511708</td>\n",
       "      <td>121.913273</td>\n",
       "      <td>68.3271</td>\n",
       "      <td>0.7195</td>\n",
       "      <td>7QF3GW67+M8J8</td>\n",
       "      <td>POINT (121.91327 19.51171)</td>\n",
       "    </tr>\n",
       "    <tr>\n",
       "      <th>5372</th>\n",
       "      <td>20.451546</td>\n",
       "      <td>121.972214</td>\n",
       "      <td>7.8440</td>\n",
       "      <td>0.6061</td>\n",
       "      <td>7QG3FX2C+JV8X</td>\n",
       "      <td>POINT (121.97221 20.45155)</td>\n",
       "    </tr>\n",
       "    <tr>\n",
       "      <th>5373</th>\n",
       "      <td>20.619810</td>\n",
       "      <td>121.707082</td>\n",
       "      <td>7.3060</td>\n",
       "      <td>0.6186</td>\n",
       "      <td>7QG3JP94+WRG8</td>\n",
       "      <td>POINT (121.70708 20.61981)</td>\n",
       "    </tr>\n",
       "    <tr>\n",
       "      <th>5374</th>\n",
       "      <td>20.451351</td>\n",
       "      <td>121.974802</td>\n",
       "      <td>28.4022</td>\n",
       "      <td>0.6083</td>\n",
       "      <td>7QG3FX2F+GWV4</td>\n",
       "      <td>POINT (121.97480 20.45135)</td>\n",
       "    </tr>\n",
       "  </tbody>\n",
       "</table>\n",
       "<p>35173510 rows × 6 columns</p>\n",
       "</div>"
      ],
      "text/plain": [
       "       latitude   longitude  area_in_meters  confidence full_plus_code  \\\n",
       "0      9.429870  118.531309         26.5833      0.6818  6PXWCGHJ+WGVX   \n",
       "1      9.440374  118.482974         17.9793      0.7408  6PXWCFRM+45XR   \n",
       "2      9.363887  118.464563         37.3005      0.8230  6PXW9F77+HR4C   \n",
       "3      9.495301  118.569990         73.2031      0.7485  6PXWFHW9+4XH4   \n",
       "4      9.381147  118.503310         62.4306      0.8135  6PXW9GJ3+F83X   \n",
       "...         ...         ...             ...         ...            ...   \n",
       "5370  20.449684  121.971273         50.4747      0.6766  7QG3CXXC+VGC8   \n",
       "5371  19.511708  121.913273         68.3271      0.7195  7QF3GW67+M8J8   \n",
       "5372  20.451546  121.972214          7.8440      0.6061  7QG3FX2C+JV8X   \n",
       "5373  20.619810  121.707082          7.3060      0.6186  7QG3JP94+WRG8   \n",
       "5374  20.451351  121.974802         28.4022      0.6083  7QG3FX2F+GWV4   \n",
       "\n",
       "                        geometry  \n",
       "0      POINT (118.53131 9.42987)  \n",
       "1      POINT (118.48297 9.44037)  \n",
       "2      POINT (118.46456 9.36389)  \n",
       "3      POINT (118.56999 9.49530)  \n",
       "4      POINT (118.50331 9.38115)  \n",
       "...                          ...  \n",
       "5370  POINT (121.97127 20.44968)  \n",
       "5371  POINT (121.91327 19.51171)  \n",
       "5372  POINT (121.97221 20.45155)  \n",
       "5373  POINT (121.70708 20.61981)  \n",
       "5374  POINT (121.97480 20.45135)  \n",
       "\n",
       "[35173510 rows x 6 columns]"
      ]
     },
     "execution_count": 8,
     "metadata": {},
     "output_type": "execute_result"
    }
   ],
   "source": [
    "ggl_gdf.set_crs(adm3_shp.crs, inplace=True)"
   ]
  },
  {
   "cell_type": "code",
   "execution_count": 9,
   "metadata": {},
   "outputs": [],
   "source": [
    "# ggl_gdf.to_file(input_dir / \"google_footprint_data.gpkg\", driver=\"GPKG\")\n",
    "# ggl_gdf = gpd.read_file(input_dir / \"google_footprint_data.gpkg\")"
   ]
  },
  {
   "attachments": {},
   "cell_type": "markdown",
   "metadata": {},
   "source": [
    "## Counting number of buildings by region"
   ]
  },
  {
   "cell_type": "code",
   "execution_count": 10,
   "metadata": {},
   "outputs": [],
   "source": [
    "del google_df"
   ]
  },
  {
   "cell_type": "code",
   "execution_count": 11,
   "metadata": {},
   "outputs": [],
   "source": [
    "# ensuring all buildings are within municipality bounds\n",
    "ggl_gdf_within = gpd.sjoin(ggl_gdf, adm3_shp, how=\"inner\", predicate=\"within\")"
   ]
  },
  {
   "cell_type": "code",
   "execution_count": 12,
   "metadata": {},
   "outputs": [],
   "source": [
    "del ggl_gdf"
   ]
  },
  {
   "cell_type": "code",
   "execution_count": 13,
   "metadata": {},
   "outputs": [],
   "source": [
    "ggl_gdf_within.drop(\n",
    "    ggl_gdf_within.columns.difference([\"latitude\", \"longitude\", \"geometry\"]),\n",
    "    axis=1,\n",
    "    inplace=True,\n",
    ")\n",
    "ggl_gdf_within[\"random_id\"] = ggl_gdf_within.reset_index().index + 1"
   ]
  },
  {
   "cell_type": "code",
   "execution_count": 14,
   "metadata": {},
   "outputs": [
    {
     "data": {
      "text/html": [
       "<div>\n",
       "<style scoped>\n",
       "    .dataframe tbody tr th:only-of-type {\n",
       "        vertical-align: middle;\n",
       "    }\n",
       "\n",
       "    .dataframe tbody tr th {\n",
       "        vertical-align: top;\n",
       "    }\n",
       "\n",
       "    .dataframe thead th {\n",
       "        text-align: right;\n",
       "    }\n",
       "</style>\n",
       "<table border=\"1\" class=\"dataframe\">\n",
       "  <thead>\n",
       "    <tr style=\"text-align: right;\">\n",
       "      <th></th>\n",
       "      <th>latitude</th>\n",
       "      <th>longitude</th>\n",
       "      <th>geometry</th>\n",
       "      <th>random_id</th>\n",
       "    </tr>\n",
       "  </thead>\n",
       "  <tbody>\n",
       "    <tr>\n",
       "      <th>1844083</th>\n",
       "      <td>17.382679</td>\n",
       "      <td>122.138921</td>\n",
       "      <td>POINT (122.13892 17.38268)</td>\n",
       "      <td>24102107</td>\n",
       "    </tr>\n",
       "  </tbody>\n",
       "</table>\n",
       "</div>"
      ],
      "text/plain": [
       "          latitude   longitude                    geometry  random_id\n",
       "1844083  17.382679  122.138921  POINT (122.13892 17.38268)   24102107"
      ]
     },
     "execution_count": 14,
     "metadata": {},
     "output_type": "execute_result"
    }
   ],
   "source": [
    "ggl_gdf_within[\n",
    "    (ggl_gdf_within[\"latitude\"].between(17.35, 17.45))\n",
    "    & (ggl_gdf_within[\"longitude\"].between(122.05, 122.15))\n",
    "]"
   ]
  },
  {
   "cell_type": "code",
   "execution_count": 16,
   "metadata": {},
   "outputs": [
    {
     "data": {
      "text/plain": [
       "(33466954, 4)"
      ]
     },
     "execution_count": 16,
     "metadata": {},
     "output_type": "execute_result"
    }
   ],
   "source": [
    "ggl_gdf_within.shape"
   ]
  },
  {
   "attachments": {},
   "cell_type": "markdown",
   "metadata": {},
   "source": [
    "### By Municipality"
   ]
  },
  {
   "cell_type": "code",
   "execution_count": 51,
   "metadata": {},
   "outputs": [],
   "source": [
    "phl_ggl_bld_municip_count = (\n",
    "    adm3_shp.sjoin(ggl_gdf_within, how=\"left\")\n",
    "    .groupby(\"ADM3_PCODE\")\n",
    "    .count()\n",
    "    .rename(columns={\"random_id\": \"numbuildings\"})\n",
    "    .reset_index()[[\"ADM3_PCODE\", \"numbuildings\"]]\n",
    ")"
   ]
  },
  {
   "cell_type": "code",
   "execution_count": 52,
   "metadata": {},
   "outputs": [
    {
     "data": {
      "text/plain": [
       "33466954"
      ]
     },
     "execution_count": 52,
     "metadata": {},
     "output_type": "execute_result"
    }
   ],
   "source": [
    "phl_ggl_bld_municip_count[\"numbuildings\"].sum()"
   ]
  },
  {
   "cell_type": "code",
   "execution_count": 53,
   "metadata": {},
   "outputs": [],
   "source": [
    "phl_ggl_bld_municip_count.to_csv(\n",
    "    input_dir / \"phl_google_bld_municip_count.csv\", index=False\n",
    ")"
   ]
  },
  {
   "cell_type": "code",
   "execution_count": 56,
   "metadata": {},
   "outputs": [],
   "source": [
    "del phl_ggl_bld_municip_count"
   ]
  },
  {
   "attachments": {},
   "cell_type": "markdown",
   "metadata": {},
   "source": [
    "### By Grid"
   ]
  },
  {
   "cell_type": "code",
   "execution_count": 45,
   "metadata": {},
   "outputs": [],
   "source": [
    "phl_ggl_bld_grid_count = (\n",
    "    grid.sjoin(ggl_gdf_within, how=\"left\")\n",
    "    .groupby([\"id\", \"Centroid\"])\n",
    "    .count()\n",
    "    .rename(columns={\"random_id\": \"numbuildings\"})\n",
    "    .reset_index()[[\"id\", \"Centroid\", \"numbuildings\"]]\n",
    ")"
   ]
  },
  {
   "cell_type": "code",
   "execution_count": 47,
   "metadata": {},
   "outputs": [
    {
     "data": {
      "text/plain": [
       "33466954"
      ]
     },
     "execution_count": 47,
     "metadata": {},
     "output_type": "execute_result"
    }
   ],
   "source": [
    "phl_ggl_bld_grid_count[\"numbuildings\"].sum()"
   ]
  },
  {
   "cell_type": "code",
   "execution_count": 49,
   "metadata": {},
   "outputs": [
    {
     "data": {
      "text/html": [
       "<div>\n",
       "<style scoped>\n",
       "    .dataframe tbody tr th:only-of-type {\n",
       "        vertical-align: middle;\n",
       "    }\n",
       "\n",
       "    .dataframe tbody tr th {\n",
       "        vertical-align: top;\n",
       "    }\n",
       "\n",
       "    .dataframe thead th {\n",
       "        text-align: right;\n",
       "    }\n",
       "</style>\n",
       "<table border=\"1\" class=\"dataframe\">\n",
       "  <thead>\n",
       "    <tr style=\"text-align: right;\">\n",
       "      <th></th>\n",
       "      <th>id</th>\n",
       "      <th>Centroid</th>\n",
       "      <th>numbuildings</th>\n",
       "    </tr>\n",
       "  </thead>\n",
       "  <tbody>\n",
       "    <tr>\n",
       "      <th>1565</th>\n",
       "      <td>13064</td>\n",
       "      <td>122.1E_17.4N</td>\n",
       "      <td>1</td>\n",
       "    </tr>\n",
       "  </tbody>\n",
       "</table>\n",
       "</div>"
      ],
      "text/plain": [
       "         id      Centroid  numbuildings\n",
       "1565  13064  122.1E_17.4N             1"
      ]
     },
     "execution_count": 49,
     "metadata": {},
     "output_type": "execute_result"
    }
   ],
   "source": [
    "phl_ggl_bld_grid_count[phl_ggl_bld_grid_count[\"Centroid\"] == \"122.1E_17.4N\"]"
   ]
  },
  {
   "cell_type": "code",
   "execution_count": 50,
   "metadata": {},
   "outputs": [],
   "source": [
    "phl_ggl_bld_grid_count.to_csv(\n",
    "    input_dir / \"phl_google_bld_grid_count.csv\", index=False\n",
    ")"
   ]
  },
  {
   "cell_type": "code",
   "execution_count": 55,
   "metadata": {},
   "outputs": [],
   "source": [
    "del phl_ggl_bld_grid_count"
   ]
  },
  {
   "attachments": {},
   "cell_type": "markdown",
   "metadata": {},
   "source": [
    "### By Municipality and Grid Intersection"
   ]
  },
  {
   "cell_type": "code",
   "execution_count": 59,
   "metadata": {},
   "outputs": [],
   "source": [
    "del adm3_shp, grid"
   ]
  },
  {
   "cell_type": "code",
   "execution_count": 17,
   "metadata": {},
   "outputs": [],
   "source": [
    "phl_ggl_bld_intersection_count = (\n",
    "    adm3_grid_intersection.sjoin(ggl_gdf_within, how=\"left\")\n",
    "    .groupby([\"ADM3_PCODE\", \"id\", \"Centroid\"])\n",
    "    .count()\n",
    "    .rename(columns={\"random_id\": \"numbuildings\"})\n",
    "    .reset_index()[[\"ADM3_PCODE\", \"id\", \"Centroid\", \"numbuildings\"]]\n",
    ")"
   ]
  },
  {
   "cell_type": "code",
   "execution_count": 18,
   "metadata": {},
   "outputs": [
    {
     "data": {
      "text/plain": [
       "33466954"
      ]
     },
     "execution_count": 18,
     "metadata": {},
     "output_type": "execute_result"
    }
   ],
   "source": [
    "phl_ggl_bld_intersection_count[\"numbuildings\"].sum()"
   ]
  },
  {
   "cell_type": "code",
   "execution_count": 19,
   "metadata": {},
   "outputs": [
    {
     "data": {
      "text/html": [
       "<div>\n",
       "<style scoped>\n",
       "    .dataframe tbody tr th:only-of-type {\n",
       "        vertical-align: middle;\n",
       "    }\n",
       "\n",
       "    .dataframe tbody tr th {\n",
       "        vertical-align: top;\n",
       "    }\n",
       "\n",
       "    .dataframe thead th {\n",
       "        text-align: right;\n",
       "    }\n",
       "</style>\n",
       "<table border=\"1\" class=\"dataframe\">\n",
       "  <thead>\n",
       "    <tr style=\"text-align: right;\">\n",
       "      <th></th>\n",
       "      <th>ADM3_PCODE</th>\n",
       "      <th>id</th>\n",
       "      <th>Centroid</th>\n",
       "      <th>numbuildings</th>\n",
       "    </tr>\n",
       "  </thead>\n",
       "  <tbody>\n",
       "    <tr>\n",
       "      <th>850</th>\n",
       "      <td>PH023106000</td>\n",
       "      <td>13064.0</td>\n",
       "      <td>122.1E_17.4N</td>\n",
       "      <td>0</td>\n",
       "    </tr>\n",
       "    <tr>\n",
       "      <th>956</th>\n",
       "      <td>PH023117000</td>\n",
       "      <td>13064.0</td>\n",
       "      <td>122.1E_17.4N</td>\n",
       "      <td>1</td>\n",
       "    </tr>\n",
       "    <tr>\n",
       "      <th>1069</th>\n",
       "      <td>PH023133000</td>\n",
       "      <td>13064.0</td>\n",
       "      <td>122.1E_17.4N</td>\n",
       "      <td>0</td>\n",
       "    </tr>\n",
       "    <tr>\n",
       "      <th>1091</th>\n",
       "      <td>PH023137000</td>\n",
       "      <td>13064.0</td>\n",
       "      <td>122.1E_17.4N</td>\n",
       "      <td>0</td>\n",
       "    </tr>\n",
       "  </tbody>\n",
       "</table>\n",
       "</div>"
      ],
      "text/plain": [
       "       ADM3_PCODE       id      Centroid  numbuildings\n",
       "850   PH023106000  13064.0  122.1E_17.4N             0\n",
       "956   PH023117000  13064.0  122.1E_17.4N             1\n",
       "1069  PH023133000  13064.0  122.1E_17.4N             0\n",
       "1091  PH023137000  13064.0  122.1E_17.4N             0"
      ]
     },
     "execution_count": 19,
     "metadata": {},
     "output_type": "execute_result"
    }
   ],
   "source": [
    "phl_ggl_bld_intersection_count[\n",
    "    phl_ggl_bld_intersection_count[\"Centroid\"] == \"122.1E_17.4N\"\n",
    "]"
   ]
  },
  {
   "cell_type": "code",
   "execution_count": 20,
   "metadata": {},
   "outputs": [],
   "source": [
    "phl_ggl_bld_intersection_count[\n",
    "    [\"ADM3_PCODE\", \"id\", \"Centroid\", \"numbuildings\"]\n",
    "].to_csv(input_dir / \"phl_google_bld_intersection_count.csv\", index=False)"
   ]
  }
 ],
 "metadata": {
  "kernelspec": {
   "display_name": "globaltyphoon",
   "language": "python",
   "name": "python3"
  },
  "language_info": {
   "codemirror_mode": {
    "name": "ipython",
    "version": 3
   },
   "file_extension": ".py",
   "mimetype": "text/x-python",
   "name": "python",
   "nbconvert_exporter": "python",
   "pygments_lexer": "ipython3",
   "version": "3.9.0"
  },
  "orig_nbformat": 4,
  "vscode": {
   "interpreter": {
    "hash": "d0bf5227c718a54401bc80004b44f7ad33fb80a867a635817764b403a4b4c0f1"
   }
  }
 },
 "nbformat": 4,
 "nbformat_minor": 2
}
