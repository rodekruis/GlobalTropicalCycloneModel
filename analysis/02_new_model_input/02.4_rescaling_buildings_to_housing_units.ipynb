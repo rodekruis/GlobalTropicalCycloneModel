{
 "cells": [
  {
   "attachments": {},
   "cell_type": "markdown",
   "metadata": {},
   "source": [
    "# Re-scaling buildings to Household Units"
   ]
  },
  {
   "cell_type": "code",
   "execution_count": 1,
   "metadata": {},
   "outputs": [
    {
     "data": {
      "text/html": [
       "\n",
       "                <script type=\"application/javascript\" id=\"jupyter_black\">\n",
       "                (function() {\n",
       "                    if (window.IPython === undefined) {\n",
       "                        return\n",
       "                    }\n",
       "                    var msg = \"WARNING: it looks like you might have loaded \" +\n",
       "                        \"jupyter_black in a non-lab notebook with \" +\n",
       "                        \"`is_lab=True`. Please double check, and if \" +\n",
       "                        \"loading with `%load_ext` please review the README!\"\n",
       "                    console.log(msg)\n",
       "                    alert(msg)\n",
       "                })()\n",
       "                </script>\n",
       "                "
      ],
      "text/plain": [
       "<IPython.core.display.HTML object>"
      ]
     },
     "metadata": {},
     "output_type": "display_data"
    }
   ],
   "source": [
    "%load_ext jupyter_black\n",
    "import pandas as pd\n",
    "import os\n",
    "from pathlib import Path"
   ]
  },
  {
   "cell_type": "code",
   "execution_count": 2,
   "metadata": {},
   "outputs": [],
   "source": [
    "base_url = (\n",
    "    Path(os.getenv(\"STORM_DATA_DIR\"))\n",
    "    / \"analysis/02_new_model_input/02_housing_damage/\"\n",
    ")\n",
    "input_dir = base_url / \"input/Google Footprint Data/\""
   ]
  },
  {
   "cell_type": "code",
   "execution_count": 3,
   "metadata": {},
   "outputs": [],
   "source": [
    "phl_ggl_bld_municip_count = pd.read_csv(\n",
    "    input_dir / \"phl_google_bld_municip_count.csv\"\n",
    ")\n",
    "phl_ggl_bld_grid_count = pd.read_csv(\n",
    "    input_dir / \"phl_google_bld_grid_count.csv\"\n",
    ")\n",
    "phl_ggl_bld_intersection_count = pd.read_csv(\n",
    "    input_dir / \"phl_google_bld_intersection_count.csv\"\n",
    ")"
   ]
  },
  {
   "attachments": {},
   "cell_type": "markdown",
   "metadata": {},
   "source": [
    "### Computing weights"
   ]
  },
  {
   "attachments": {},
   "cell_type": "markdown",
   "metadata": {},
   "source": [
    "#### Municipality to Grid"
   ]
  },
  {
   "cell_type": "code",
   "execution_count": 4,
   "metadata": {},
   "outputs": [
    {
     "data": {
      "text/html": [
       "<div>\n",
       "<style scoped>\n",
       "    .dataframe tbody tr th:only-of-type {\n",
       "        vertical-align: middle;\n",
       "    }\n",
       "\n",
       "    .dataframe tbody tr th {\n",
       "        vertical-align: top;\n",
       "    }\n",
       "\n",
       "    .dataframe thead th {\n",
       "        text-align: right;\n",
       "    }\n",
       "</style>\n",
       "<table border=\"1\" class=\"dataframe\">\n",
       "  <thead>\n",
       "    <tr style=\"text-align: right;\">\n",
       "      <th></th>\n",
       "      <th>ADM3_PCODE</th>\n",
       "      <th>ADM3_EN_x</th>\n",
       "      <th>id</th>\n",
       "      <th>Centroid</th>\n",
       "      <th>numbuildings_x</th>\n",
       "      <th>ADM3_EN</th>\n",
       "      <th>numbuildings</th>\n",
       "      <th>weight</th>\n",
       "    </tr>\n",
       "  </thead>\n",
       "  <tbody>\n",
       "    <tr>\n",
       "      <th>7439</th>\n",
       "      <td>PH023106000</td>\n",
       "      <td>Cabagan</td>\n",
       "      <td>13064.0</td>\n",
       "      <td>122.1E_17.4N</td>\n",
       "      <td>0</td>\n",
       "      <td>Cabagan</td>\n",
       "      <td>26094</td>\n",
       "      <td>0.000000</td>\n",
       "    </tr>\n",
       "    <tr>\n",
       "      <th>7473</th>\n",
       "      <td>PH023133000</td>\n",
       "      <td>San Pablo</td>\n",
       "      <td>13064.0</td>\n",
       "      <td>122.1E_17.4N</td>\n",
       "      <td>0</td>\n",
       "      <td>San Pablo</td>\n",
       "      <td>13510</td>\n",
       "      <td>0.000000</td>\n",
       "    </tr>\n",
       "    <tr>\n",
       "      <th>7488</th>\n",
       "      <td>PH023137000</td>\n",
       "      <td>Tumauini</td>\n",
       "      <td>13064.0</td>\n",
       "      <td>122.1E_17.4N</td>\n",
       "      <td>0</td>\n",
       "      <td>Tumauini</td>\n",
       "      <td>35325</td>\n",
       "      <td>0.000000</td>\n",
       "    </tr>\n",
       "    <tr>\n",
       "      <th>7494</th>\n",
       "      <td>PH023117000</td>\n",
       "      <td>Maconacon</td>\n",
       "      <td>13064.0</td>\n",
       "      <td>122.1E_17.4N</td>\n",
       "      <td>1</td>\n",
       "      <td>Maconacon</td>\n",
       "      <td>1578</td>\n",
       "      <td>0.000634</td>\n",
       "    </tr>\n",
       "  </tbody>\n",
       "</table>\n",
       "</div>"
      ],
      "text/plain": [
       "       ADM3_PCODE  ADM3_EN_x       id      Centroid  numbuildings_x  \\\n",
       "7439  PH023106000    Cabagan  13064.0  122.1E_17.4N               0   \n",
       "7473  PH023133000  San Pablo  13064.0  122.1E_17.4N               0   \n",
       "7488  PH023137000   Tumauini  13064.0  122.1E_17.4N               0   \n",
       "7494  PH023117000  Maconacon  13064.0  122.1E_17.4N               1   \n",
       "\n",
       "        ADM3_EN  numbuildings    weight  \n",
       "7439    Cabagan         26094  0.000000  \n",
       "7473  San Pablo         13510  0.000000  \n",
       "7488   Tumauini         35325  0.000000  \n",
       "7494  Maconacon          1578  0.000634  "
      ]
     },
     "execution_count": 4,
     "metadata": {},
     "output_type": "execute_result"
    }
   ],
   "source": [
    "mun_to_grid = phl_ggl_bld_intersection_count.merge(\n",
    "    phl_ggl_bld_municip_count, on=\"ADM3_PCODE\", suffixes=(\"_x\", None)\n",
    ")\n",
    "mun_to_grid[\"weight\"] = (\n",
    "    mun_to_grid[\"numbuildings_x\"] / mun_to_grid[\"numbuildings\"]\n",
    ")\n",
    "mun_to_grid[mun_to_grid[\"Centroid\"] == \"122.1E_17.4N\"]"
   ]
  },
  {
   "cell_type": "code",
   "execution_count": 5,
   "metadata": {},
   "outputs": [],
   "source": [
    "mun_to_grid.to_csv(input_dir / \"ggl_mun_to_grid_weights.csv\", index=False)"
   ]
  },
  {
   "attachments": {},
   "cell_type": "markdown",
   "metadata": {},
   "source": [
    "#### Grid to Municipality"
   ]
  },
  {
   "cell_type": "code",
   "execution_count": 5,
   "metadata": {},
   "outputs": [
    {
     "name": "stderr",
     "output_type": "stream",
     "text": [
      "C:\\Users\\pauni\\AppData\\Local\\Temp\\ipykernel_14668\\1780964883.py:7: FutureWarning: The default value of numeric_only in DataFrameGroupBy.sum is deprecated. In a future version, numeric_only will default to False. Either specify numeric_only or select only columns which should be valid for the function.\n",
      "  grid_to_mun.groupby(\"Centroid\").sum().sort_values(by=\"weight\")\n"
     ]
    },
    {
     "data": {
      "text/html": [
       "<div>\n",
       "<style scoped>\n",
       "    .dataframe tbody tr th:only-of-type {\n",
       "        vertical-align: middle;\n",
       "    }\n",
       "\n",
       "    .dataframe tbody tr th {\n",
       "        vertical-align: top;\n",
       "    }\n",
       "\n",
       "    .dataframe thead th {\n",
       "        text-align: right;\n",
       "    }\n",
       "</style>\n",
       "<table border=\"1\" class=\"dataframe\">\n",
       "  <thead>\n",
       "    <tr style=\"text-align: right;\">\n",
       "      <th></th>\n",
       "      <th>id_x</th>\n",
       "      <th>numbuildings_x</th>\n",
       "      <th>id</th>\n",
       "      <th>numbuildings</th>\n",
       "      <th>weight</th>\n",
       "    </tr>\n",
       "    <tr>\n",
       "      <th>Centroid</th>\n",
       "      <th></th>\n",
       "      <th></th>\n",
       "      <th></th>\n",
       "      <th></th>\n",
       "      <th></th>\n",
       "    </tr>\n",
       "  </thead>\n",
       "  <tbody>\n",
       "    <tr>\n",
       "      <th>114.3E_11.1N</th>\n",
       "      <td>101.0</td>\n",
       "      <td>0</td>\n",
       "      <td>101</td>\n",
       "      <td>1</td>\n",
       "      <td>0.0</td>\n",
       "    </tr>\n",
       "    <tr>\n",
       "      <th>120.3E_11.2N</th>\n",
       "      <td>10120.0</td>\n",
       "      <td>0</td>\n",
       "      <td>10120</td>\n",
       "      <td>1</td>\n",
       "      <td>0.0</td>\n",
       "    </tr>\n",
       "    <tr>\n",
       "      <th>120.3E_12.4N</th>\n",
       "      <td>10108.0</td>\n",
       "      <td>0</td>\n",
       "      <td>10108</td>\n",
       "      <td>1</td>\n",
       "      <td>0.0</td>\n",
       "    </tr>\n",
       "    <tr>\n",
       "      <th>120.3E_13.9N</th>\n",
       "      <td>10093.0</td>\n",
       "      <td>0</td>\n",
       "      <td>10093</td>\n",
       "      <td>1</td>\n",
       "      <td>0.0</td>\n",
       "    </tr>\n",
       "    <tr>\n",
       "      <th>122.0E_21.1N</th>\n",
       "      <td>12860.0</td>\n",
       "      <td>0</td>\n",
       "      <td>12860</td>\n",
       "      <td>1</td>\n",
       "      <td>0.0</td>\n",
       "    </tr>\n",
       "    <tr>\n",
       "      <th>...</th>\n",
       "      <td>...</td>\n",
       "      <td>...</td>\n",
       "      <td>...</td>\n",
       "      <td>...</td>\n",
       "      <td>...</td>\n",
       "    </tr>\n",
       "    <tr>\n",
       "      <th>121.6E_18.3N</th>\n",
       "      <td>48880.0</td>\n",
       "      <td>6037</td>\n",
       "      <td>48880</td>\n",
       "      <td>24148</td>\n",
       "      <td>1.0</td>\n",
       "    </tr>\n",
       "    <tr>\n",
       "      <th>121.6E_18.4N</th>\n",
       "      <td>24438.0</td>\n",
       "      <td>5661</td>\n",
       "      <td>24438</td>\n",
       "      <td>11322</td>\n",
       "      <td>1.0</td>\n",
       "    </tr>\n",
       "    <tr>\n",
       "      <th>121.6E_5.9N</th>\n",
       "      <td>12344.0</td>\n",
       "      <td>2</td>\n",
       "      <td>12344</td>\n",
       "      <td>2</td>\n",
       "      <td>1.0</td>\n",
       "    </tr>\n",
       "    <tr>\n",
       "      <th>121.6E_15.8N</th>\n",
       "      <td>24490.0</td>\n",
       "      <td>9167</td>\n",
       "      <td>24490</td>\n",
       "      <td>18334</td>\n",
       "      <td>1.0</td>\n",
       "    </tr>\n",
       "    <tr>\n",
       "      <th>126.6E_7.7N</th>\n",
       "      <td>20676.0</td>\n",
       "      <td>699</td>\n",
       "      <td>20676</td>\n",
       "      <td>699</td>\n",
       "      <td>1.0</td>\n",
       "    </tr>\n",
       "  </tbody>\n",
       "</table>\n",
       "<p>3726 rows × 5 columns</p>\n",
       "</div>"
      ],
      "text/plain": [
       "                 id_x  numbuildings_x     id  numbuildings  weight\n",
       "Centroid                                                          \n",
       "114.3E_11.1N    101.0               0    101             1     0.0\n",
       "120.3E_11.2N  10120.0               0  10120             1     0.0\n",
       "120.3E_12.4N  10108.0               0  10108             1     0.0\n",
       "120.3E_13.9N  10093.0               0  10093             1     0.0\n",
       "122.0E_21.1N  12860.0               0  12860             1     0.0\n",
       "...               ...             ...    ...           ...     ...\n",
       "121.6E_18.3N  48880.0            6037  48880         24148     1.0\n",
       "121.6E_18.4N  24438.0            5661  24438         11322     1.0\n",
       "121.6E_5.9N   12344.0               2  12344             2     1.0\n",
       "121.6E_15.8N  24490.0            9167  24490         18334     1.0\n",
       "126.6E_7.7N   20676.0             699  20676           699     1.0\n",
       "\n",
       "[3726 rows x 5 columns]"
      ]
     },
     "execution_count": 5,
     "metadata": {},
     "output_type": "execute_result"
    }
   ],
   "source": [
    "grid_to_mun = phl_ggl_bld_intersection_count.merge(\n",
    "    phl_ggl_bld_grid_count, on=\"Centroid\", suffixes=(\"_x\", None)\n",
    ")\n",
    "grid_to_mun[\"weight\"] = (\n",
    "    grid_to_mun[\"numbuildings_x\"] / grid_to_mun[\"numbuildings\"]\n",
    ")\n",
    "grid_to_mun.groupby(\"Centroid\").sum().sort_values(by=\"weight\")"
   ]
  },
  {
   "cell_type": "code",
   "execution_count": 7,
   "metadata": {},
   "outputs": [],
   "source": [
    "grid_to_mun.to_csv(input_dir / \"ggl_grid_to_mun_weights.csv\", index=False)"
   ]
  },
  {
   "attachments": {},
   "cell_type": "markdown",
   "metadata": {},
   "source": [
    "### Re-scaling number of buildings with Housing Units data"
   ]
  },
  {
   "cell_type": "code",
   "execution_count": null,
   "metadata": {},
   "outputs": [],
   "source": []
  }
 ],
 "metadata": {
  "kernelspec": {
   "display_name": "globaltyphoon",
   "language": "python",
   "name": "python3"
  },
  "language_info": {
   "codemirror_mode": {
    "name": "ipython",
    "version": 3
   },
   "file_extension": ".py",
   "mimetype": "text/x-python",
   "name": "python",
   "nbconvert_exporter": "python",
   "pygments_lexer": "ipython3",
   "version": "3.9.0 (tags/v3.9.0:9cf6752, Oct  5 2020, 15:34:40) [MSC v.1927 64 bit (AMD64)]"
  },
  "orig_nbformat": 4,
  "vscode": {
   "interpreter": {
    "hash": "d0bf5227c718a54401bc80004b44f7ad33fb80a867a635817764b403a4b4c0f1"
   }
  }
 },
 "nbformat": 4,
 "nbformat_minor": 2
}
