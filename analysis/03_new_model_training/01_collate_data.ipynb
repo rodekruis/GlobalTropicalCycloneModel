{
 "cells": [
  {
   "cell_type": "markdown",
   "id": "252bb267-8f28-4bc9-b76b-dbe266dc4fe4",
   "metadata": {},
   "source": [
    "# Gather the data needed to train the model\n",
    "\n",
    "In this notebook we combine all of the data from\n",
    "step 2. The contents of this notebook is mirrored\n",
    "in `utils.py` so that it can be used in other notebooks."
   ]
  },
  {
   "cell_type": "code",
   "execution_count": 1,
   "id": "70da853f-6825-4904-8264-c92fbf7518d1",
   "metadata": {},
   "outputs": [
    {
     "data": {
      "text/html": [
       "\n",
       "                <script type=\"application/javascript\" id=\"jupyter_black\">\n",
       "                (function() {\n",
       "                    if (window.IPython === undefined) {\n",
       "                        return\n",
       "                    }\n",
       "                    var msg = \"WARNING: it looks like you might have loaded \" +\n",
       "                        \"jupyter_black in a non-lab notebook with \" +\n",
       "                        \"`is_lab=True`. Please double check, and if \" +\n",
       "                        \"loading with `%load_ext` please review the README!\"\n",
       "                    console.log(msg)\n",
       "                    alert(msg)\n",
       "                })()\n",
       "                </script>\n",
       "                "
      ],
      "text/plain": [
       "<IPython.core.display.HTML object>"
      ]
     },
     "metadata": {},
     "output_type": "display_data"
    }
   ],
   "source": [
    "%load_ext jupyter_black"
   ]
  },
  {
   "cell_type": "code",
   "execution_count": 6,
   "id": "6581ced9-9ac4-4719-b8b8-4753ab44459e",
   "metadata": {},
   "outputs": [],
   "source": [
    "from pathlib import Path\n",
    "import os\n",
    "\n",
    "import pandas as pd"
   ]
  },
  {
   "cell_type": "code",
   "execution_count": 9,
   "id": "d3a55510-25ac-436a-9268-1a2752b39eef",
   "metadata": {},
   "outputs": [],
   "source": [
    "input_dir = Path(os.getenv(\"STORM_DATA_DIR\")) / \"analysis/02_new_model_input\""
   ]
  },
  {
   "cell_type": "code",
   "execution_count": 34,
   "id": "b1ae51a3-e29e-4bbd-bd6c-65d151ee5ba1",
   "metadata": {},
   "outputs": [],
   "source": [
    "# Read in the building damage data. Drop any\n",
    "# rows that have NA for the typhoon name.\n",
    "filename = (\n",
    "    input_dir\n",
    "    / \"02_housing_damage/output/percentage_building_damage_bygrid.csv\"\n",
    ")\n",
    "df_damage = pd.read_csv(filename).dropna(subset=\"typhoon\")"
   ]
  },
  {
   "cell_type": "code",
   "execution_count": 35,
   "id": "5b73b297-0e9a-4231-a443-e0be36169ac4",
   "metadata": {},
   "outputs": [
    {
     "data": {
      "text/plain": [
       "Index(['id', 'NUMPOINTS', 'left', 'top', 'right', 'bottom', 'Area', 'AreainKM',\n",
       "       'Len', 'Longitude', 'Latitude', 'Centroid_x', 'Centroid_y',\n",
       "       'ADM3_PCODE', 'ADM3_EN', 'Grid Completeness', 'Id', 'pcode', 'typhoon',\n",
       "       'Year', 'Totally', 'Partially', 'total', 'Totally_Damaged_bygrid',\n",
       "       'Partially_Damaged_bygrid', 'All_Damaged_bygrid',\n",
       "       'Totally_Damaged_Perc_bygrid', 'Partially_Damaged_Perc_bygrid',\n",
       "       'All_Damaged_Perc_bygrid'],\n",
       "      dtype='object')"
      ]
     },
     "execution_count": 35,
     "metadata": {},
     "output_type": "execute_result"
    }
   ],
   "source": [
    "df_damage.columns"
   ]
  },
  {
   "cell_type": "code",
   "execution_count": null,
   "id": "c2312700-e992-4940-9dc1-ad17bcd2eec8",
   "metadata": {},
   "outputs": [],
   "source": []
  },
  {
   "cell_type": "code",
   "execution_count": 40,
   "id": "05692daf-19b5-4a51-83bf-846a784e8c8a",
   "metadata": {},
   "outputs": [
    {
     "data": {
      "text/html": [
       "<div>\n",
       "<style scoped>\n",
       "    .dataframe tbody tr th:only-of-type {\n",
       "        vertical-align: middle;\n",
       "    }\n",
       "\n",
       "    .dataframe tbody tr th {\n",
       "        vertical-align: top;\n",
       "    }\n",
       "\n",
       "    .dataframe thead th {\n",
       "        text-align: right;\n",
       "    }\n",
       "</style>\n",
       "<table border=\"1\" class=\"dataframe\">\n",
       "  <thead>\n",
       "    <tr style=\"text-align: right;\">\n",
       "      <th></th>\n",
       "      <th>id</th>\n",
       "      <th>pcode</th>\n",
       "      <th>typhoon</th>\n",
       "      <th>Year</th>\n",
       "      <th>Totally</th>\n",
       "      <th>Totally_Damaged_bygrid</th>\n",
       "    </tr>\n",
       "  </thead>\n",
       "  <tbody>\n",
       "    <tr>\n",
       "      <th>6116</th>\n",
       "      <td>6097</td>\n",
       "      <td>PH175324000</td>\n",
       "      <td>LINFA</td>\n",
       "      <td>2015.0</td>\n",
       "      <td>0.0</td>\n",
       "      <td>0.000000</td>\n",
       "    </tr>\n",
       "    <tr>\n",
       "      <th>6120</th>\n",
       "      <td>6098</td>\n",
       "      <td>PH175324000</td>\n",
       "      <td>LINFA</td>\n",
       "      <td>2015.0</td>\n",
       "      <td>0.0</td>\n",
       "      <td>0.000000</td>\n",
       "    </tr>\n",
       "    <tr>\n",
       "      <th>6285</th>\n",
       "      <td>6262</td>\n",
       "      <td>PH175324000</td>\n",
       "      <td>LINFA</td>\n",
       "      <td>2015.0</td>\n",
       "      <td>0.0</td>\n",
       "      <td>0.000000</td>\n",
       "    </tr>\n",
       "    <tr>\n",
       "      <th>6287</th>\n",
       "      <td>6263</td>\n",
       "      <td>PH175324000</td>\n",
       "      <td>LINFA</td>\n",
       "      <td>2015.0</td>\n",
       "      <td>0.0</td>\n",
       "      <td>0.000000</td>\n",
       "    </tr>\n",
       "    <tr>\n",
       "      <th>6289</th>\n",
       "      <td>6264</td>\n",
       "      <td>PH175324000</td>\n",
       "      <td>LINFA</td>\n",
       "      <td>2015.0</td>\n",
       "      <td>0.0</td>\n",
       "      <td>0.000000</td>\n",
       "    </tr>\n",
       "    <tr>\n",
       "      <th>...</th>\n",
       "      <td>...</td>\n",
       "      <td>...</td>\n",
       "      <td>...</td>\n",
       "      <td>...</td>\n",
       "      <td>...</td>\n",
       "      <td>...</td>\n",
       "    </tr>\n",
       "    <tr>\n",
       "      <th>48370</th>\n",
       "      <td>20557</td>\n",
       "      <td>PH112508000</td>\n",
       "      <td>Lingling</td>\n",
       "      <td>2014.0</td>\n",
       "      <td>3.0</td>\n",
       "      <td>0.179991</td>\n",
       "    </tr>\n",
       "    <tr>\n",
       "      <th>48371</th>\n",
       "      <td>20557</td>\n",
       "      <td>PH112508000</td>\n",
       "      <td>Haiyan</td>\n",
       "      <td>2013.0</td>\n",
       "      <td>3.0</td>\n",
       "      <td>0.179991</td>\n",
       "    </tr>\n",
       "    <tr>\n",
       "      <th>48372</th>\n",
       "      <td>20558</td>\n",
       "      <td>PH112508000</td>\n",
       "      <td>Bopha</td>\n",
       "      <td>2012.0</td>\n",
       "      <td>80.0</td>\n",
       "      <td>6.997777</td>\n",
       "    </tr>\n",
       "    <tr>\n",
       "      <th>48373</th>\n",
       "      <td>20558</td>\n",
       "      <td>PH112508000</td>\n",
       "      <td>Lingling</td>\n",
       "      <td>2014.0</td>\n",
       "      <td>3.0</td>\n",
       "      <td>0.262417</td>\n",
       "    </tr>\n",
       "    <tr>\n",
       "      <th>48374</th>\n",
       "      <td>20558</td>\n",
       "      <td>PH112508000</td>\n",
       "      <td>Haiyan</td>\n",
       "      <td>2013.0</td>\n",
       "      <td>3.0</td>\n",
       "      <td>0.262417</td>\n",
       "    </tr>\n",
       "  </tbody>\n",
       "</table>\n",
       "<p>29130 rows × 6 columns</p>\n",
       "</div>"
      ],
      "text/plain": [
       "          id        pcode   typhoon    Year  Totally  Totally_Damaged_bygrid\n",
       "6116    6097  PH175324000     LINFA  2015.0      0.0                0.000000\n",
       "6120    6098  PH175324000     LINFA  2015.0      0.0                0.000000\n",
       "6285    6262  PH175324000     LINFA  2015.0      0.0                0.000000\n",
       "6287    6263  PH175324000     LINFA  2015.0      0.0                0.000000\n",
       "6289    6264  PH175324000     LINFA  2015.0      0.0                0.000000\n",
       "...      ...          ...       ...     ...      ...                     ...\n",
       "48370  20557  PH112508000  Lingling  2014.0      3.0                0.179991\n",
       "48371  20557  PH112508000    Haiyan  2013.0      3.0                0.179991\n",
       "48372  20558  PH112508000     Bopha  2012.0     80.0                6.997777\n",
       "48373  20558  PH112508000  Lingling  2014.0      3.0                0.262417\n",
       "48374  20558  PH112508000    Haiyan  2013.0      3.0                0.262417\n",
       "\n",
       "[29130 rows x 6 columns]"
      ]
     },
     "execution_count": 40,
     "metadata": {},
     "output_type": "execute_result"
    }
   ],
   "source": [
    "columns_to_keep = [\n",
    "    \"id\",\n",
    "    \"pcode\",\n",
    "    \"typhoon\",\n",
    "    \"Year\",\n",
    "    \"Totally\",\n",
    "    \"Totally_Damaged_bygrid\",\n",
    "]\n",
    "df_damage2 = df_damage.loc[:, columns_to_keep]\n",
    "df_damage2"
   ]
  },
  {
   "cell_type": "code",
   "execution_count": null,
   "id": "6219c46f-9f60-4fff-817f-b8edffe535ae",
   "metadata": {},
   "outputs": [],
   "source": []
  }
 ],
 "metadata": {
  "jupytext": {
   "cell_metadata_filter": "-all",
   "formats": "ipynb,md",
   "notebook_metadata_filter": "-all"
  },
  "kernelspec": {
   "display_name": "global-tropical-storm",
   "language": "python",
   "name": "global-tropical-storm"
  },
  "language_info": {
   "codemirror_mode": {
    "name": "ipython",
    "version": 3
   },
   "file_extension": ".py",
   "mimetype": "text/x-python",
   "name": "python",
   "nbconvert_exporter": "python",
   "pygments_lexer": "ipython3",
   "version": "3.8.10"
  }
 },
 "nbformat": 4,
 "nbformat_minor": 5
}
