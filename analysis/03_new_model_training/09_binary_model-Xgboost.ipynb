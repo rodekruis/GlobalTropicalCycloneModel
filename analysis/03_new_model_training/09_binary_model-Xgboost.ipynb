{
 "cells": [
  {
   "cell_type": "markdown",
   "id": "5a83e7e8-5a32-4877-bccf-a1f5398ee37d",
   "metadata": {},
   "source": [
    "# Binary Model - XGBoost \n",
    "\n",
    "Based on the target values and using the test_trial method, we have set a threshold of 10.0 to convert the continuous target into a binary target. Subsequently, we employ the XGBoost Classification algorithm on the input dataset with the binary target. We evaluate the model performance using the Confusion Matrix and Classification Report, Log loss and Classification error plots."
   ]
  },
  {
   "cell_type": "code",
   "execution_count": 1,
   "id": "db6b37d9-2953-4b52-a267-aa37848686d9",
   "metadata": {},
   "outputs": [
    {
     "data": {
      "text/html": [
       "\n",
       "                <script type=\"application/javascript\" id=\"jupyter_black\">\n",
       "                (function() {\n",
       "                    if (window.IPython === undefined) {\n",
       "                        return\n",
       "                    }\n",
       "                    var msg = \"WARNING: it looks like you might have loaded \" +\n",
       "                        \"jupyter_black in a non-lab notebook with \" +\n",
       "                        \"`is_lab=True`. Please double check, and if \" +\n",
       "                        \"loading with `%load_ext` please review the README!\"\n",
       "                    console.log(msg)\n",
       "                    alert(msg)\n",
       "                })()\n",
       "                </script>\n",
       "                "
      ],
      "text/plain": [
       "<IPython.core.display.HTML object>"
      ]
     },
     "metadata": {},
     "output_type": "display_data"
    }
   ],
   "source": [
    "%load_ext jupyter_black"
   ]
  },
  {
   "cell_type": "code",
   "execution_count": 2,
   "id": "2f435bf7-203f-4fa6-8aa5-8dbcfe89e66b",
   "metadata": {},
   "outputs": [
    {
     "name": "stderr",
     "output_type": "stream",
     "text": [
      "pandas.Int64Index is deprecated and will be removed from pandas in a future version. Use pandas.Index with the appropriate dtype instead.\n"
     ]
    }
   ],
   "source": [
    "import matplotlib.pyplot as plt\n",
    "import seaborn as sns\n",
    "import numpy as np\n",
    "import pandas as pd\n",
    "import shap\n",
    "import imblearn\n",
    "\n",
    "from sklearn.model_selection import train_test_split\n",
    "from sklearn import metrics\n",
    "from sklearn.metrics import accuracy_score\n",
    "from sklearn.metrics import f1_score\n",
    "from xgboost import XGBClassifier\n",
    "from mlxtend.plotting import plot_confusion_matrix\n",
    "from sklearn.metrics import confusion_matrix\n",
    "from matplotlib import cm\n",
    "from mlxtend.plotting import plot_confusion_matrix\n",
    "from collections import Counter\n",
    "from imblearn.over_sampling import RandomOverSampler\n",
    "from imblearn.under_sampling import RandomUnderSampler\n",
    "\n",
    "from utils import get_training_dataset"
   ]
  },
  {
   "cell_type": "code",
   "execution_count": 3,
   "id": "6636b9df-3470-438c-a1d5-68c3e5a4a939",
   "metadata": {},
   "outputs": [
    {
     "data": {
      "text/html": [
       "<div>\n",
       "<style scoped>\n",
       "    .dataframe tbody tr th:only-of-type {\n",
       "        vertical-align: middle;\n",
       "    }\n",
       "\n",
       "    .dataframe tbody tr th {\n",
       "        vertical-align: top;\n",
       "    }\n",
       "\n",
       "    .dataframe thead th {\n",
       "        text-align: right;\n",
       "    }\n",
       "</style>\n",
       "<table border=\"1\" class=\"dataframe\">\n",
       "  <thead>\n",
       "    <tr style=\"text-align: right;\">\n",
       "      <th></th>\n",
       "      <th>typhoon_name</th>\n",
       "      <th>typhoon_year</th>\n",
       "      <th>grid_point_id</th>\n",
       "      <th>wind_speed</th>\n",
       "      <th>track_distance</th>\n",
       "      <th>rainfall_max_6h</th>\n",
       "      <th>rainfall_max_24h</th>\n",
       "      <th>total_houses</th>\n",
       "      <th>rwi</th>\n",
       "      <th>mean_slope</th>\n",
       "      <th>...</th>\n",
       "      <th>std_tri</th>\n",
       "      <th>mean_elev</th>\n",
       "      <th>coast_length</th>\n",
       "      <th>with_coast</th>\n",
       "      <th>urban</th>\n",
       "      <th>rural</th>\n",
       "      <th>water</th>\n",
       "      <th>total_pop</th>\n",
       "      <th>percent_houses_damaged</th>\n",
       "      <th>percent_houses_damaged_5years</th>\n",
       "    </tr>\n",
       "  </thead>\n",
       "  <tbody>\n",
       "    <tr>\n",
       "      <th>0</th>\n",
       "      <td>DURIAN</td>\n",
       "      <td>2006</td>\n",
       "      <td>101</td>\n",
       "      <td>0.0</td>\n",
       "      <td>303.180555</td>\n",
       "      <td>0.122917</td>\n",
       "      <td>0.085417</td>\n",
       "      <td>31.000000</td>\n",
       "      <td>NaN</td>\n",
       "      <td>1.018526</td>\n",
       "      <td>...</td>\n",
       "      <td>2.699781</td>\n",
       "      <td>5.762712</td>\n",
       "      <td>3445.709753</td>\n",
       "      <td>1</td>\n",
       "      <td>0.0</td>\n",
       "      <td>0.00</td>\n",
       "      <td>1.00</td>\n",
       "      <td>0.000000</td>\n",
       "      <td>0.0</td>\n",
       "      <td>0.0</td>\n",
       "    </tr>\n",
       "    <tr>\n",
       "      <th>1</th>\n",
       "      <td>DURIAN</td>\n",
       "      <td>2006</td>\n",
       "      <td>4475</td>\n",
       "      <td>0.0</td>\n",
       "      <td>638.027502</td>\n",
       "      <td>0.091667</td>\n",
       "      <td>0.027083</td>\n",
       "      <td>3.301020</td>\n",
       "      <td>-0.527000</td>\n",
       "      <td>1.579400</td>\n",
       "      <td>...</td>\n",
       "      <td>4.585088</td>\n",
       "      <td>12.799127</td>\n",
       "      <td>8602.645832</td>\n",
       "      <td>1</td>\n",
       "      <td>0.0</td>\n",
       "      <td>0.00</td>\n",
       "      <td>1.00</td>\n",
       "      <td>0.000000</td>\n",
       "      <td>0.0</td>\n",
       "      <td>0.0</td>\n",
       "    </tr>\n",
       "    <tr>\n",
       "      <th>2</th>\n",
       "      <td>DURIAN</td>\n",
       "      <td>2006</td>\n",
       "      <td>4639</td>\n",
       "      <td>0.0</td>\n",
       "      <td>603.631997</td>\n",
       "      <td>0.535417</td>\n",
       "      <td>0.146354</td>\n",
       "      <td>12.103741</td>\n",
       "      <td>-0.283000</td>\n",
       "      <td>0.551764</td>\n",
       "      <td>...</td>\n",
       "      <td>1.527495</td>\n",
       "      <td>8.833333</td>\n",
       "      <td>5084.012925</td>\n",
       "      <td>1</td>\n",
       "      <td>0.0</td>\n",
       "      <td>0.01</td>\n",
       "      <td>0.99</td>\n",
       "      <td>197.339034</td>\n",
       "      <td>0.0</td>\n",
       "      <td>0.0</td>\n",
       "    </tr>\n",
       "    <tr>\n",
       "      <th>3</th>\n",
       "      <td>DURIAN</td>\n",
       "      <td>2006</td>\n",
       "      <td>4640</td>\n",
       "      <td>0.0</td>\n",
       "      <td>614.675270</td>\n",
       "      <td>0.356250</td>\n",
       "      <td>0.101562</td>\n",
       "      <td>645.899660</td>\n",
       "      <td>-0.358889</td>\n",
       "      <td>2.107949</td>\n",
       "      <td>...</td>\n",
       "      <td>11.677657</td>\n",
       "      <td>17.530431</td>\n",
       "      <td>55607.865950</td>\n",
       "      <td>1</td>\n",
       "      <td>0.0</td>\n",
       "      <td>0.31</td>\n",
       "      <td>0.69</td>\n",
       "      <td>4970.477311</td>\n",
       "      <td>0.0</td>\n",
       "      <td>0.0</td>\n",
       "    </tr>\n",
       "    <tr>\n",
       "      <th>4</th>\n",
       "      <td>DURIAN</td>\n",
       "      <td>2006</td>\n",
       "      <td>4641</td>\n",
       "      <td>0.0</td>\n",
       "      <td>625.720905</td>\n",
       "      <td>0.202083</td>\n",
       "      <td>0.057812</td>\n",
       "      <td>1071.731293</td>\n",
       "      <td>-0.462800</td>\n",
       "      <td>3.538881</td>\n",
       "      <td>...</td>\n",
       "      <td>17.074011</td>\n",
       "      <td>31.931338</td>\n",
       "      <td>35529.342507</td>\n",
       "      <td>1</td>\n",
       "      <td>0.0</td>\n",
       "      <td>0.77</td>\n",
       "      <td>0.23</td>\n",
       "      <td>12408.594656</td>\n",
       "      <td>0.0</td>\n",
       "      <td>0.0</td>\n",
       "    </tr>\n",
       "  </tbody>\n",
       "</table>\n",
       "<p>5 rows × 22 columns</p>\n",
       "</div>"
      ],
      "text/plain": [
       "  typhoon_name  typhoon_year  grid_point_id  wind_speed  track_distance  \\\n",
       "0       DURIAN          2006            101         0.0      303.180555   \n",
       "1       DURIAN          2006           4475         0.0      638.027502   \n",
       "2       DURIAN          2006           4639         0.0      603.631997   \n",
       "3       DURIAN          2006           4640         0.0      614.675270   \n",
       "4       DURIAN          2006           4641         0.0      625.720905   \n",
       "\n",
       "   rainfall_max_6h  rainfall_max_24h  total_houses       rwi  mean_slope  ...  \\\n",
       "0         0.122917          0.085417     31.000000       NaN    1.018526  ...   \n",
       "1         0.091667          0.027083      3.301020 -0.527000    1.579400  ...   \n",
       "2         0.535417          0.146354     12.103741 -0.283000    0.551764  ...   \n",
       "3         0.356250          0.101562    645.899660 -0.358889    2.107949  ...   \n",
       "4         0.202083          0.057812   1071.731293 -0.462800    3.538881  ...   \n",
       "\n",
       "     std_tri  mean_elev  coast_length  with_coast  urban  rural  water  \\\n",
       "0   2.699781   5.762712   3445.709753           1    0.0   0.00   1.00   \n",
       "1   4.585088  12.799127   8602.645832           1    0.0   0.00   1.00   \n",
       "2   1.527495   8.833333   5084.012925           1    0.0   0.01   0.99   \n",
       "3  11.677657  17.530431  55607.865950           1    0.0   0.31   0.69   \n",
       "4  17.074011  31.931338  35529.342507           1    0.0   0.77   0.23   \n",
       "\n",
       "      total_pop  percent_houses_damaged  percent_houses_damaged_5years  \n",
       "0      0.000000                     0.0                            0.0  \n",
       "1      0.000000                     0.0                            0.0  \n",
       "2    197.339034                     0.0                            0.0  \n",
       "3   4970.477311                     0.0                            0.0  \n",
       "4  12408.594656                     0.0                            0.0  \n",
       "\n",
       "[5 rows x 22 columns]"
      ]
     },
     "execution_count": 3,
     "metadata": {},
     "output_type": "execute_result"
    }
   ],
   "source": [
    "# Read csv file and import to df\n",
    "df = get_training_dataset()\n",
    "df.head()"
   ]
  },
  {
   "cell_type": "code",
   "execution_count": 4,
   "id": "babd4175",
   "metadata": {},
   "outputs": [],
   "source": [
    "# Fill NaNs with average estimated value of 'rwi'\n",
    "df[\"rwi\"].fillna(df[\"rwi\"].mean(), inplace=True)\n",
    "\n",
    "# Set any values >100% to 100%,\n",
    "for i in range(len(df)):\n",
    "    if df.loc[i, \"percent_houses_damaged\"] > 100:\n",
    "        df.at[i, \"percent_houses_damaged\"] = float(100)"
   ]
  },
  {
   "cell_type": "code",
   "execution_count": 5,
   "id": "73ad7cc8",
   "metadata": {},
   "outputs": [
    {
     "data": {
      "text/html": [
       "<div>\n",
       "<style scoped>\n",
       "    .dataframe tbody tr th:only-of-type {\n",
       "        vertical-align: middle;\n",
       "    }\n",
       "\n",
       "    .dataframe tbody tr th {\n",
       "        vertical-align: top;\n",
       "    }\n",
       "\n",
       "    .dataframe thead th {\n",
       "        text-align: right;\n",
       "    }\n",
       "</style>\n",
       "<table border=\"1\" class=\"dataframe\">\n",
       "  <thead>\n",
       "    <tr style=\"text-align: right;\">\n",
       "      <th></th>\n",
       "      <th>typhoon_name</th>\n",
       "      <th>typhoon_year</th>\n",
       "      <th>grid_point_id</th>\n",
       "      <th>wind_speed</th>\n",
       "      <th>track_distance</th>\n",
       "      <th>rainfall_max_6h</th>\n",
       "      <th>rainfall_max_24h</th>\n",
       "      <th>total_houses</th>\n",
       "      <th>rwi</th>\n",
       "      <th>mean_slope</th>\n",
       "      <th>...</th>\n",
       "      <th>std_tri</th>\n",
       "      <th>mean_elev</th>\n",
       "      <th>coast_length</th>\n",
       "      <th>with_coast</th>\n",
       "      <th>urban</th>\n",
       "      <th>rural</th>\n",
       "      <th>water</th>\n",
       "      <th>total_pop</th>\n",
       "      <th>percent_houses_damaged_5years</th>\n",
       "      <th>binary_damage</th>\n",
       "    </tr>\n",
       "  </thead>\n",
       "  <tbody>\n",
       "    <tr>\n",
       "      <th>0</th>\n",
       "      <td>DURIAN</td>\n",
       "      <td>2006</td>\n",
       "      <td>101</td>\n",
       "      <td>0.0</td>\n",
       "      <td>303.180555</td>\n",
       "      <td>0.122917</td>\n",
       "      <td>0.085417</td>\n",
       "      <td>31.000000</td>\n",
       "      <td>-0.213039</td>\n",
       "      <td>1.018526</td>\n",
       "      <td>...</td>\n",
       "      <td>2.699781</td>\n",
       "      <td>5.762712</td>\n",
       "      <td>3445.709753</td>\n",
       "      <td>1</td>\n",
       "      <td>0.00</td>\n",
       "      <td>0.000000</td>\n",
       "      <td>1.000000</td>\n",
       "      <td>0.000000</td>\n",
       "      <td>0.000000</td>\n",
       "      <td>0</td>\n",
       "    </tr>\n",
       "    <tr>\n",
       "      <th>1</th>\n",
       "      <td>DURIAN</td>\n",
       "      <td>2006</td>\n",
       "      <td>4475</td>\n",
       "      <td>0.0</td>\n",
       "      <td>638.027502</td>\n",
       "      <td>0.091667</td>\n",
       "      <td>0.027083</td>\n",
       "      <td>3.301020</td>\n",
       "      <td>-0.527000</td>\n",
       "      <td>1.579400</td>\n",
       "      <td>...</td>\n",
       "      <td>4.585088</td>\n",
       "      <td>12.799127</td>\n",
       "      <td>8602.645832</td>\n",
       "      <td>1</td>\n",
       "      <td>0.00</td>\n",
       "      <td>0.000000</td>\n",
       "      <td>1.000000</td>\n",
       "      <td>0.000000</td>\n",
       "      <td>0.000000</td>\n",
       "      <td>0</td>\n",
       "    </tr>\n",
       "    <tr>\n",
       "      <th>2</th>\n",
       "      <td>DURIAN</td>\n",
       "      <td>2006</td>\n",
       "      <td>4639</td>\n",
       "      <td>0.0</td>\n",
       "      <td>603.631997</td>\n",
       "      <td>0.535417</td>\n",
       "      <td>0.146354</td>\n",
       "      <td>12.103741</td>\n",
       "      <td>-0.283000</td>\n",
       "      <td>0.551764</td>\n",
       "      <td>...</td>\n",
       "      <td>1.527495</td>\n",
       "      <td>8.833333</td>\n",
       "      <td>5084.012925</td>\n",
       "      <td>1</td>\n",
       "      <td>0.00</td>\n",
       "      <td>0.010000</td>\n",
       "      <td>0.990000</td>\n",
       "      <td>197.339034</td>\n",
       "      <td>0.000000</td>\n",
       "      <td>0</td>\n",
       "    </tr>\n",
       "    <tr>\n",
       "      <th>3</th>\n",
       "      <td>DURIAN</td>\n",
       "      <td>2006</td>\n",
       "      <td>4640</td>\n",
       "      <td>0.0</td>\n",
       "      <td>614.675270</td>\n",
       "      <td>0.356250</td>\n",
       "      <td>0.101562</td>\n",
       "      <td>645.899660</td>\n",
       "      <td>-0.358889</td>\n",
       "      <td>2.107949</td>\n",
       "      <td>...</td>\n",
       "      <td>11.677657</td>\n",
       "      <td>17.530431</td>\n",
       "      <td>55607.865950</td>\n",
       "      <td>1</td>\n",
       "      <td>0.00</td>\n",
       "      <td>0.310000</td>\n",
       "      <td>0.690000</td>\n",
       "      <td>4970.477311</td>\n",
       "      <td>0.000000</td>\n",
       "      <td>0</td>\n",
       "    </tr>\n",
       "    <tr>\n",
       "      <th>4</th>\n",
       "      <td>DURIAN</td>\n",
       "      <td>2006</td>\n",
       "      <td>4641</td>\n",
       "      <td>0.0</td>\n",
       "      <td>625.720905</td>\n",
       "      <td>0.202083</td>\n",
       "      <td>0.057812</td>\n",
       "      <td>1071.731293</td>\n",
       "      <td>-0.462800</td>\n",
       "      <td>3.538881</td>\n",
       "      <td>...</td>\n",
       "      <td>17.074011</td>\n",
       "      <td>31.931338</td>\n",
       "      <td>35529.342507</td>\n",
       "      <td>1</td>\n",
       "      <td>0.00</td>\n",
       "      <td>0.770000</td>\n",
       "      <td>0.230000</td>\n",
       "      <td>12408.594656</td>\n",
       "      <td>0.000000</td>\n",
       "      <td>0</td>\n",
       "    </tr>\n",
       "    <tr>\n",
       "      <th>...</th>\n",
       "      <td>...</td>\n",
       "      <td>...</td>\n",
       "      <td>...</td>\n",
       "      <td>...</td>\n",
       "      <td>...</td>\n",
       "      <td>...</td>\n",
       "      <td>...</td>\n",
       "      <td>...</td>\n",
       "      <td>...</td>\n",
       "      <td>...</td>\n",
       "      <td>...</td>\n",
       "      <td>...</td>\n",
       "      <td>...</td>\n",
       "      <td>...</td>\n",
       "      <td>...</td>\n",
       "      <td>...</td>\n",
       "      <td>...</td>\n",
       "      <td>...</td>\n",
       "      <td>...</td>\n",
       "      <td>...</td>\n",
       "      <td>...</td>\n",
       "    </tr>\n",
       "    <tr>\n",
       "      <th>141253</th>\n",
       "      <td>MOLAVE</td>\n",
       "      <td>2020</td>\n",
       "      <td>20677</td>\n",
       "      <td>0.0</td>\n",
       "      <td>644.575831</td>\n",
       "      <td>2.543750</td>\n",
       "      <td>0.778646</td>\n",
       "      <td>4449.357133</td>\n",
       "      <td>0.508167</td>\n",
       "      <td>3.790141</td>\n",
       "      <td>...</td>\n",
       "      <td>18.012771</td>\n",
       "      <td>36.304688</td>\n",
       "      <td>21559.003490</td>\n",
       "      <td>1</td>\n",
       "      <td>0.08</td>\n",
       "      <td>0.080000</td>\n",
       "      <td>0.840000</td>\n",
       "      <td>17619.701390</td>\n",
       "      <td>0.000000</td>\n",
       "      <td>0</td>\n",
       "    </tr>\n",
       "    <tr>\n",
       "      <th>141254</th>\n",
       "      <td>MOLAVE</td>\n",
       "      <td>2020</td>\n",
       "      <td>20678</td>\n",
       "      <td>0.0</td>\n",
       "      <td>655.685233</td>\n",
       "      <td>2.558333</td>\n",
       "      <td>0.861458</td>\n",
       "      <td>1521.435795</td>\n",
       "      <td>-0.174100</td>\n",
       "      <td>3.532580</td>\n",
       "      <td>...</td>\n",
       "      <td>13.163042</td>\n",
       "      <td>65.687266</td>\n",
       "      <td>12591.742022</td>\n",
       "      <td>1</td>\n",
       "      <td>0.00</td>\n",
       "      <td>0.420000</td>\n",
       "      <td>0.580000</td>\n",
       "      <td>5623.069564</td>\n",
       "      <td>0.000000</td>\n",
       "      <td>0</td>\n",
       "    </tr>\n",
       "    <tr>\n",
       "      <th>141255</th>\n",
       "      <td>MOLAVE</td>\n",
       "      <td>2020</td>\n",
       "      <td>20679</td>\n",
       "      <td>0.0</td>\n",
       "      <td>666.794635</td>\n",
       "      <td>2.975000</td>\n",
       "      <td>0.949479</td>\n",
       "      <td>930.647069</td>\n",
       "      <td>-0.244286</td>\n",
       "      <td>4.444498</td>\n",
       "      <td>...</td>\n",
       "      <td>10.901755</td>\n",
       "      <td>37.414996</td>\n",
       "      <td>19740.596834</td>\n",
       "      <td>1</td>\n",
       "      <td>0.00</td>\n",
       "      <td>0.109091</td>\n",
       "      <td>0.890909</td>\n",
       "      <td>5912.671746</td>\n",
       "      <td>0.015207</td>\n",
       "      <td>0</td>\n",
       "    </tr>\n",
       "    <tr>\n",
       "      <th>141256</th>\n",
       "      <td>MOLAVE</td>\n",
       "      <td>2020</td>\n",
       "      <td>20680</td>\n",
       "      <td>0.0</td>\n",
       "      <td>677.904037</td>\n",
       "      <td>2.889583</td>\n",
       "      <td>1.083333</td>\n",
       "      <td>1800.666044</td>\n",
       "      <td>0.038000</td>\n",
       "      <td>5.816195</td>\n",
       "      <td>...</td>\n",
       "      <td>17.917650</td>\n",
       "      <td>105.812452</td>\n",
       "      <td>26363.303778</td>\n",
       "      <td>1</td>\n",
       "      <td>0.03</td>\n",
       "      <td>0.250000</td>\n",
       "      <td>0.720000</td>\n",
       "      <td>11254.164413</td>\n",
       "      <td>0.020806</td>\n",
       "      <td>0</td>\n",
       "    </tr>\n",
       "    <tr>\n",
       "      <th>141257</th>\n",
       "      <td>MOLAVE</td>\n",
       "      <td>2020</td>\n",
       "      <td>20681</td>\n",
       "      <td>0.0</td>\n",
       "      <td>689.013439</td>\n",
       "      <td>2.985417</td>\n",
       "      <td>2.218056</td>\n",
       "      <td>373.146778</td>\n",
       "      <td>-0.175000</td>\n",
       "      <td>6.730992</td>\n",
       "      <td>...</td>\n",
       "      <td>17.010867</td>\n",
       "      <td>89.696703</td>\n",
       "      <td>9359.492382</td>\n",
       "      <td>1</td>\n",
       "      <td>0.00</td>\n",
       "      <td>0.070000</td>\n",
       "      <td>0.930000</td>\n",
       "      <td>3188.718115</td>\n",
       "      <td>0.001050</td>\n",
       "      <td>0</td>\n",
       "    </tr>\n",
       "  </tbody>\n",
       "</table>\n",
       "<p>141258 rows × 22 columns</p>\n",
       "</div>"
      ],
      "text/plain": [
       "       typhoon_name  typhoon_year  grid_point_id  wind_speed  track_distance  \\\n",
       "0            DURIAN          2006            101         0.0      303.180555   \n",
       "1            DURIAN          2006           4475         0.0      638.027502   \n",
       "2            DURIAN          2006           4639         0.0      603.631997   \n",
       "3            DURIAN          2006           4640         0.0      614.675270   \n",
       "4            DURIAN          2006           4641         0.0      625.720905   \n",
       "...             ...           ...            ...         ...             ...   \n",
       "141253       MOLAVE          2020          20677         0.0      644.575831   \n",
       "141254       MOLAVE          2020          20678         0.0      655.685233   \n",
       "141255       MOLAVE          2020          20679         0.0      666.794635   \n",
       "141256       MOLAVE          2020          20680         0.0      677.904037   \n",
       "141257       MOLAVE          2020          20681         0.0      689.013439   \n",
       "\n",
       "        rainfall_max_6h  rainfall_max_24h  total_houses       rwi  mean_slope  \\\n",
       "0              0.122917          0.085417     31.000000 -0.213039    1.018526   \n",
       "1              0.091667          0.027083      3.301020 -0.527000    1.579400   \n",
       "2              0.535417          0.146354     12.103741 -0.283000    0.551764   \n",
       "3              0.356250          0.101562    645.899660 -0.358889    2.107949   \n",
       "4              0.202083          0.057812   1071.731293 -0.462800    3.538881   \n",
       "...                 ...               ...           ...       ...         ...   \n",
       "141253         2.543750          0.778646   4449.357133  0.508167    3.790141   \n",
       "141254         2.558333          0.861458   1521.435795 -0.174100    3.532580   \n",
       "141255         2.975000          0.949479    930.647069 -0.244286    4.444498   \n",
       "141256         2.889583          1.083333   1800.666044  0.038000    5.816195   \n",
       "141257         2.985417          2.218056    373.146778 -0.175000    6.730992   \n",
       "\n",
       "        ...    std_tri   mean_elev  coast_length  with_coast  urban     rural  \\\n",
       "0       ...   2.699781    5.762712   3445.709753           1   0.00  0.000000   \n",
       "1       ...   4.585088   12.799127   8602.645832           1   0.00  0.000000   \n",
       "2       ...   1.527495    8.833333   5084.012925           1   0.00  0.010000   \n",
       "3       ...  11.677657   17.530431  55607.865950           1   0.00  0.310000   \n",
       "4       ...  17.074011   31.931338  35529.342507           1   0.00  0.770000   \n",
       "...     ...        ...         ...           ...         ...    ...       ...   \n",
       "141253  ...  18.012771   36.304688  21559.003490           1   0.08  0.080000   \n",
       "141254  ...  13.163042   65.687266  12591.742022           1   0.00  0.420000   \n",
       "141255  ...  10.901755   37.414996  19740.596834           1   0.00  0.109091   \n",
       "141256  ...  17.917650  105.812452  26363.303778           1   0.03  0.250000   \n",
       "141257  ...  17.010867   89.696703   9359.492382           1   0.00  0.070000   \n",
       "\n",
       "           water     total_pop  percent_houses_damaged_5years  binary_damage  \n",
       "0       1.000000      0.000000                       0.000000              0  \n",
       "1       1.000000      0.000000                       0.000000              0  \n",
       "2       0.990000    197.339034                       0.000000              0  \n",
       "3       0.690000   4970.477311                       0.000000              0  \n",
       "4       0.230000  12408.594656                       0.000000              0  \n",
       "...          ...           ...                            ...            ...  \n",
       "141253  0.840000  17619.701390                       0.000000              0  \n",
       "141254  0.580000   5623.069564                       0.000000              0  \n",
       "141255  0.890909   5912.671746                       0.015207              0  \n",
       "141256  0.720000  11254.164413                       0.020806              0  \n",
       "141257  0.930000   3188.718115                       0.001050              0  \n",
       "\n",
       "[141258 rows x 22 columns]"
      ]
     },
     "execution_count": 5,
     "metadata": {},
     "output_type": "execute_result"
    }
   ],
   "source": [
    "# define a threshold to separate target into damaged and not_damaged\n",
    "thres = 10.0\n",
    "\n",
    "for i in range(len(df)):\n",
    "    if df.loc[i, \"percent_houses_damaged\"] >= thres:\n",
    "        df.at[i, \"binary_damage\"] = 1\n",
    "    else:\n",
    "        df.at[i, \"binary_damage\"] = 0\n",
    "\n",
    "df[\"binary_damage\"] = df[\"binary_damage\"].astype(\"int\")\n",
    "\n",
    "# Remove previous target 'percent_buildings_damaged' from the dataframe\n",
    "df = df.drop([\"percent_houses_damaged\"], axis=1)\n",
    "df"
   ]
  },
  {
   "cell_type": "code",
   "execution_count": 6,
   "id": "3241a6b0",
   "metadata": {},
   "outputs": [
    {
     "data": {
      "image/png": "[encoded data removed]",
      "text/plain": [
       "<Figure size 400x300 with 1 Axes>"
      ]
     },
     "metadata": {},
     "output_type": "display_data"
    }
   ],
   "source": [
    "plt.figure(figsize=(4, 3))\n",
    "sns.countplot(x=\"binary_damage\", data=df, palette=\"hls\")\n",
    "plt.title(\"bar_plot (counts of observations)\")\n",
    "plt.show()"
   ]
  },
  {
   "cell_type": "code",
   "execution_count": 7,
   "id": "2b425e70",
   "metadata": {},
   "outputs": [
    {
     "data": {
      "text/html": [
       "<div>\n",
       "<style scoped>\n",
       "    .dataframe tbody tr th:only-of-type {\n",
       "        vertical-align: middle;\n",
       "    }\n",
       "\n",
       "    .dataframe tbody tr th {\n",
       "        vertical-align: top;\n",
       "    }\n",
       "\n",
       "    .dataframe thead th {\n",
       "        text-align: right;\n",
       "    }\n",
       "</style>\n",
       "<table border=\"1\" class=\"dataframe\">\n",
       "  <thead>\n",
       "    <tr style=\"text-align: right;\">\n",
       "      <th></th>\n",
       "      <th>typhoon_name</th>\n",
       "      <th>wind_speed</th>\n",
       "      <th>track_distance</th>\n",
       "      <th>rainfall_max_6h</th>\n",
       "      <th>rainfall_max_24h</th>\n",
       "      <th>total_houses</th>\n",
       "      <th>rwi</th>\n",
       "      <th>mean_slope</th>\n",
       "      <th>std_slope</th>\n",
       "      <th>mean_tri</th>\n",
       "      <th>std_tri</th>\n",
       "      <th>mean_elev</th>\n",
       "      <th>coast_length</th>\n",
       "      <th>with_coast</th>\n",
       "      <th>urban</th>\n",
       "      <th>rural</th>\n",
       "      <th>water</th>\n",
       "      <th>total_pop</th>\n",
       "      <th>percent_houses_damaged_5years</th>\n",
       "      <th>binary_damage</th>\n",
       "    </tr>\n",
       "  </thead>\n",
       "  <tbody>\n",
       "    <tr>\n",
       "      <th>138</th>\n",
       "      <td>DURIAN</td>\n",
       "      <td>12.460039</td>\n",
       "      <td>275.018491</td>\n",
       "      <td>0.670833</td>\n",
       "      <td>0.313021</td>\n",
       "      <td>0.479848</td>\n",
       "      <td>-0.213039</td>\n",
       "      <td>12.896581</td>\n",
       "      <td>7.450346</td>\n",
       "      <td>74.625539</td>\n",
       "      <td>34.629550</td>\n",
       "      <td>42.218750</td>\n",
       "      <td>5303.659490</td>\n",
       "      <td>1</td>\n",
       "      <td>0.00</td>\n",
       "      <td>0.00</td>\n",
       "      <td>1.00</td>\n",
       "      <td>0.000000</td>\n",
       "      <td>0.0</td>\n",
       "      <td>0</td>\n",
       "    </tr>\n",
       "    <tr>\n",
       "      <th>139</th>\n",
       "      <td>DURIAN</td>\n",
       "      <td>11.428974</td>\n",
       "      <td>297.027578</td>\n",
       "      <td>0.929167</td>\n",
       "      <td>0.343229</td>\n",
       "      <td>55.649739</td>\n",
       "      <td>0.206000</td>\n",
       "      <td>14.070741</td>\n",
       "      <td>6.514647</td>\n",
       "      <td>68.681417</td>\n",
       "      <td>25.475388</td>\n",
       "      <td>72.283154</td>\n",
       "      <td>61015.543599</td>\n",
       "      <td>1</td>\n",
       "      <td>0.00</td>\n",
       "      <td>0.14</td>\n",
       "      <td>0.86</td>\n",
       "      <td>276.871504</td>\n",
       "      <td>0.0</td>\n",
       "      <td>0</td>\n",
       "    </tr>\n",
       "    <tr>\n",
       "      <th>148</th>\n",
       "      <td>DURIAN</td>\n",
       "      <td>13.077471</td>\n",
       "      <td>262.598363</td>\n",
       "      <td>0.716667</td>\n",
       "      <td>0.424479</td>\n",
       "      <td>8.157414</td>\n",
       "      <td>-0.636000</td>\n",
       "      <td>19.758682</td>\n",
       "      <td>10.940700</td>\n",
       "      <td>104.453163</td>\n",
       "      <td>54.353996</td>\n",
       "      <td>102.215198</td>\n",
       "      <td>66707.438070</td>\n",
       "      <td>1</td>\n",
       "      <td>0.00</td>\n",
       "      <td>0.11</td>\n",
       "      <td>0.89</td>\n",
       "      <td>448.539453</td>\n",
       "      <td>0.0</td>\n",
       "      <td>0</td>\n",
       "    </tr>\n",
       "    <tr>\n",
       "      <th>149</th>\n",
       "      <td>DURIAN</td>\n",
       "      <td>12.511864</td>\n",
       "      <td>273.639330</td>\n",
       "      <td>0.568750</td>\n",
       "      <td>0.336979</td>\n",
       "      <td>88.292015</td>\n",
       "      <td>-0.227500</td>\n",
       "      <td>11.499097</td>\n",
       "      <td>6.901584</td>\n",
       "      <td>59.798108</td>\n",
       "      <td>31.814048</td>\n",
       "      <td>58.988877</td>\n",
       "      <td>53841.050168</td>\n",
       "      <td>1</td>\n",
       "      <td>0.00</td>\n",
       "      <td>0.12</td>\n",
       "      <td>0.88</td>\n",
       "      <td>2101.708435</td>\n",
       "      <td>0.0</td>\n",
       "      <td>0</td>\n",
       "    </tr>\n",
       "    <tr>\n",
       "      <th>150</th>\n",
       "      <td>DURIAN</td>\n",
       "      <td>11.977511</td>\n",
       "      <td>284.680297</td>\n",
       "      <td>0.589583</td>\n",
       "      <td>0.290625</td>\n",
       "      <td>962.766739</td>\n",
       "      <td>-0.299667</td>\n",
       "      <td>13.866633</td>\n",
       "      <td>6.528689</td>\n",
       "      <td>65.655280</td>\n",
       "      <td>25.976413</td>\n",
       "      <td>111.386527</td>\n",
       "      <td>87378.257957</td>\n",
       "      <td>1</td>\n",
       "      <td>0.07</td>\n",
       "      <td>0.46</td>\n",
       "      <td>0.47</td>\n",
       "      <td>11632.726327</td>\n",
       "      <td>0.0</td>\n",
       "      <td>0</td>\n",
       "    </tr>\n",
       "  </tbody>\n",
       "</table>\n",
       "</div>"
      ],
      "text/plain": [
       "    typhoon_name  wind_speed  track_distance  rainfall_max_6h  \\\n",
       "138       DURIAN   12.460039      275.018491         0.670833   \n",
       "139       DURIAN   11.428974      297.027578         0.929167   \n",
       "148       DURIAN   13.077471      262.598363         0.716667   \n",
       "149       DURIAN   12.511864      273.639330         0.568750   \n",
       "150       DURIAN   11.977511      284.680297         0.589583   \n",
       "\n",
       "     rainfall_max_24h  total_houses       rwi  mean_slope  std_slope  \\\n",
       "138          0.313021      0.479848 -0.213039   12.896581   7.450346   \n",
       "139          0.343229     55.649739  0.206000   14.070741   6.514647   \n",
       "148          0.424479      8.157414 -0.636000   19.758682  10.940700   \n",
       "149          0.336979     88.292015 -0.227500   11.499097   6.901584   \n",
       "150          0.290625    962.766739 -0.299667   13.866633   6.528689   \n",
       "\n",
       "       mean_tri    std_tri   mean_elev  coast_length  with_coast  urban  \\\n",
       "138   74.625539  34.629550   42.218750   5303.659490           1   0.00   \n",
       "139   68.681417  25.475388   72.283154  61015.543599           1   0.00   \n",
       "148  104.453163  54.353996  102.215198  66707.438070           1   0.00   \n",
       "149   59.798108  31.814048   58.988877  53841.050168           1   0.00   \n",
       "150   65.655280  25.976413  111.386527  87378.257957           1   0.07   \n",
       "\n",
       "     rural  water     total_pop  percent_houses_damaged_5years  binary_damage  \n",
       "138   0.00   1.00      0.000000                            0.0              0  \n",
       "139   0.14   0.86    276.871504                            0.0              0  \n",
       "148   0.11   0.89    448.539453                            0.0              0  \n",
       "149   0.12   0.88   2101.708435                            0.0              0  \n",
       "150   0.46   0.47  11632.726327                            0.0              0  "
      ]
     },
     "execution_count": 7,
     "metadata": {},
     "output_type": "execute_result"
    }
   ],
   "source": [
    "# Remove zeros from wind_speed\n",
    "df = df[(df[[\"wind_speed\"]] != 0).any(axis=1)]\n",
    "df = df.drop(columns=[\"grid_point_id\", \"typhoon_year\"])\n",
    "df.head()"
   ]
  },
  {
   "cell_type": "code",
   "execution_count": 8,
   "id": "f2efca85",
   "metadata": {},
   "outputs": [
    {
     "data": {
      "text/plain": [
       "array([[<AxesSubplot:title={'center':'binary_damage'}>]], dtype=object)"
      ]
     },
     "execution_count": 8,
     "metadata": {},
     "output_type": "execute_result"
    },
    {
     "data": {
      "image/png": "[encoded data removed]",
      "text/plain": [
       "<Figure size 400x300 with 1 Axes>"
      ]
     },
     "metadata": {},
     "output_type": "display_data"
    }
   ],
   "source": [
    "# Show histogram of damage\n",
    "df.hist(column=\"binary_damage\", figsize=(4, 3))"
   ]
  },
  {
   "cell_type": "code",
   "execution_count": 9,
   "id": "45fc3d79",
   "metadata": {},
   "outputs": [
    {
     "data": {
      "text/plain": [
       "Text(0.5, 1.0, 'plot after data stratification')"
      ]
     },
     "execution_count": 9,
     "metadata": {},
     "output_type": "execute_result"
    },
    {
     "data": {
      "image/png": "[encoded data removed]",
      "text/plain": [
       "<Figure size 400x300 with 1 Axes>"
      ]
     },
     "metadata": {},
     "output_type": "display_data"
    }
   ],
   "source": [
    "# Hist plot after data stratification\n",
    "bins2 = [0, 0.1, 1]\n",
    "samples_per_bin2, binsP2 = np.histogram(df[\"binary_damage\"], bins=bins2)\n",
    "plt.figure(figsize=(4, 3))\n",
    "plt.xlabel(\"Damage Values\")\n",
    "plt.ylabel(\"Frequency\")\n",
    "plt.plot(binsP2[1:], samples_per_bin2)\n",
    "plt.title(\"plot after data stratification\")"
   ]
  },
  {
   "cell_type": "code",
   "execution_count": 10,
   "id": "11ca1ec0",
   "metadata": {},
   "outputs": [
    {
     "data": {
      "text/plain": [
       "(-0.001, 0.1]    48685\n",
       "(0.1, 1.0]        1069\n",
       "Name: binary_damage, dtype: int64"
      ]
     },
     "execution_count": 10,
     "metadata": {},
     "output_type": "execute_result"
    }
   ],
   "source": [
    "# Check the bins' intervalls (first bin means all zeros, second bin means 0 < values <= 1)\n",
    "df[\"binary_damage\"].value_counts(bins=binsP2)"
   ]
  },
  {
   "cell_type": "code",
   "execution_count": 11,
   "id": "80d63e1c",
   "metadata": {},
   "outputs": [
    {
     "name": "stdout",
     "output_type": "stream",
     "text": [
      "[48685  1069]\n",
      "[0.  0.1 1. ]\n"
     ]
    }
   ],
   "source": [
    "print(samples_per_bin2)\n",
    "print(binsP2)"
   ]
  },
  {
   "cell_type": "code",
   "execution_count": 12,
   "id": "f3ecbbe0",
   "metadata": {},
   "outputs": [],
   "source": [
    "bin_index2 = np.digitize(df[\"binary_damage\"], bins=binsP2)"
   ]
  },
  {
   "cell_type": "code",
   "execution_count": 13,
   "id": "c050a657",
   "metadata": {},
   "outputs": [],
   "source": [
    "y_input_strat = bin_index2"
   ]
  },
  {
   "cell_type": "code",
   "execution_count": 14,
   "id": "f1e4afdb",
   "metadata": {},
   "outputs": [
    {
     "data": {
      "text/plain": [
       "Index(['wind_speed', 'track_distance', 'total_houses', 'rainfall_max_6h',\n",
       "       'rainfall_max_24h', 'rwi', 'mean_slope', 'std_slope', 'mean_tri',\n",
       "       'std_tri', 'mean_elev', 'coast_length', 'with_coast', 'urban', 'rural',\n",
       "       'water', 'total_pop', 'percent_houses_damaged_5years'],\n",
       "      dtype='object')"
      ]
     },
     "metadata": {},
     "output_type": "display_data"
    }
   ],
   "source": [
    "features = [\n",
    "    \"wind_speed\",\n",
    "    \"track_distance\",\n",
    "    \"total_houses\",\n",
    "    \"rainfall_max_6h\",\n",
    "    \"rainfall_max_24h\",\n",
    "    \"rwi\",\n",
    "    \"mean_slope\",\n",
    "    \"std_slope\",\n",
    "    \"mean_tri\",\n",
    "    \"std_tri\",\n",
    "    \"mean_elev\",\n",
    "    \"coast_length\",\n",
    "    \"with_coast\",\n",
    "    \"urban\",\n",
    "    \"rural\",\n",
    "    \"water\",\n",
    "    \"total_pop\",\n",
    "    \"percent_houses_damaged_5years\",\n",
    "]\n",
    "\n",
    "# Split X and y from dataframe features\n",
    "X = df[features]\n",
    "display(X.columns)\n",
    "y = df[\"binary_damage\"]"
   ]
  },
  {
   "cell_type": "code",
   "execution_count": 15,
   "id": "26f45dba",
   "metadata": {},
   "outputs": [],
   "source": [
    "X_train, X_test, y_train, y_test = train_test_split(\n",
    "    X, df[\"binary_damage\"], stratify=y_input_strat, test_size=0.2\n",
    ")"
   ]
  },
  {
   "cell_type": "code",
   "execution_count": 16,
   "id": "14ccfc73",
   "metadata": {},
   "outputs": [
    {
     "name": "stdout",
     "output_type": "stream",
     "text": [
      "Counter({0: 38948, 1: 855})\n"
     ]
    }
   ],
   "source": [
    "# Check train data before resampling\n",
    "print(Counter(y_train))"
   ]
  },
  {
   "cell_type": "code",
   "execution_count": 17,
   "id": "334c4086",
   "metadata": {},
   "outputs": [
    {
     "name": "stdout",
     "output_type": "stream",
     "text": [
      "Enter 1 for oversampling, 2 for undersampling or 3 for combination of both: 3\n"
     ]
    }
   ],
   "source": [
    "# Ask the user whether to perform oversampling or undersampling\n",
    "sampling_type = int(\n",
    "    input(\n",
    "        \"Enter 1 for oversampling, 2 for undersampling or 3 for combination of both: \"\n",
    "    )\n",
    ")"
   ]
  },
  {
   "cell_type": "code",
   "execution_count": 18,
   "id": "ad415c91",
   "metadata": {},
   "outputs": [],
   "source": [
    "if sampling_type == 1:\n",
    "    # Define oversampling strategy\n",
    "    over = RandomOverSampler(sampling_strategy=0.1)\n",
    "    # Fit and apply the transform\n",
    "    X_train, y_train = over.fit_resample(X_train, y_train)\n",
    "\n",
    "elif sampling_type == 2:\n",
    "    under = RandomUnderSampler(sampling_strategy=0.7)\n",
    "    X_train, y_train = under.fit_resample(X_train, y_train)\n",
    "\n",
    "elif sampling_type == 3:\n",
    "    over = RandomOverSampler(sampling_strategy=0.1)\n",
    "    X_train, y_train = over.fit_resample(X_train, y_train)\n",
    "\n",
    "    under = RandomUnderSampler(sampling_strategy=0.7)\n",
    "    X_train, y_train = under.fit_resample(X_train, y_train)\n",
    "\n",
    "\n",
    "else:\n",
    "    print(\"Invalid input. Please enter 1, 2 or 3.\")"
   ]
  },
  {
   "cell_type": "code",
   "execution_count": 19,
   "id": "e4e356a0",
   "metadata": {},
   "outputs": [
    {
     "name": "stdout",
     "output_type": "stream",
     "text": [
      "Counter({0: 5562, 1: 3894})\n"
     ]
    }
   ],
   "source": [
    "# Check train data After resampling\n",
    "print(Counter(y_train))"
   ]
  },
  {
   "cell_type": "code",
   "execution_count": 20,
   "id": "1613cb20",
   "metadata": {},
   "outputs": [],
   "source": [
    "# Define a list to keep f1_score of each n_estimator\n",
    "f1_lst = []\n",
    "n_estimator_lst = []"
   ]
  },
  {
   "cell_type": "code",
   "execution_count": 21,
   "id": "ba11d9cb",
   "metadata": {},
   "outputs": [
    {
     "name": "stderr",
     "output_type": "stream",
     "text": [
      "The use of label encoder in XGBClassifier is deprecated and will be removed in a future release. To remove this warning, do the following: 1) Pass option use_label_encoder=False when constructing XGBClassifier object; and 2) Encode your labels (y) as integers starting with 0, i.e. 0, 1, 2, ..., [num_class - 1].\n",
      "pandas.Int64Index is deprecated and will be removed from pandas in a future version. Use pandas.Index with the appropriate dtype instead.\n"
     ]
    },
    {
     "data": {
      "text/html": [
       "<style>#sk-container-id-1 {color: black;background-color: white;}#sk-container-id-1 pre{padding: 0;}#sk-container-id-1 div.sk-toggleable {background-color: white;}#sk-container-id-1 label.sk-toggleable__label {cursor: pointer;display: block;width: 100%;margin-bottom: 0;padding: 0.3em;box-sizing: border-box;text-align: center;}#sk-container-id-1 label.sk-toggleable__label-arrow:before {content: \"▸\";float: left;margin-right: 0.25em;color: #696969;}#sk-container-id-1 label.sk-toggleable__label-arrow:hover:before {color: black;}#sk-container-id-1 div.sk-estimator:hover label.sk-toggleable__label-arrow:before {color: black;}#sk-container-id-1 div.sk-toggleable__content {max-height: 0;max-width: 0;overflow: hidden;text-align: left;background-color: #f0f8ff;}#sk-container-id-1 div.sk-toggleable__content pre {margin: 0.2em;color: black;border-radius: 0.25em;background-color: #f0f8ff;}#sk-container-id-1 input.sk-toggleable__control:checked~div.sk-toggleable__content {max-height: 200px;max-width: 100%;overflow: auto;}#sk-container-id-1 input.sk-toggleable__control:checked~label.sk-toggleable__label-arrow:before {content: \"▾\";}#sk-container-id-1 div.sk-estimator input.sk-toggleable__control:checked~label.sk-toggleable__label {background-color: #d4ebff;}#sk-container-id-1 div.sk-label input.sk-toggleable__control:checked~label.sk-toggleable__label {background-color: #d4ebff;}#sk-container-id-1 input.sk-hidden--visually {border: 0;clip: rect(1px 1px 1px 1px);clip: rect(1px, 1px, 1px, 1px);height: 1px;margin: -1px;overflow: hidden;padding: 0;position: absolute;width: 1px;}#sk-container-id-1 div.sk-estimator {font-family: monospace;background-color: #f0f8ff;border: 1px dotted black;border-radius: 0.25em;box-sizing: border-box;margin-bottom: 0.5em;}#sk-container-id-1 div.sk-estimator:hover {background-color: #d4ebff;}#sk-container-id-1 div.sk-parallel-item::after {content: \"\";width: 100%;border-bottom: 1px solid gray;flex-grow: 1;}#sk-container-id-1 div.sk-label:hover label.sk-toggleable__label {background-color: #d4ebff;}#sk-container-id-1 div.sk-serial::before {content: \"\";position: absolute;border-left: 1px solid gray;box-sizing: border-box;top: 0;bottom: 0;left: 50%;z-index: 0;}#sk-container-id-1 div.sk-serial {display: flex;flex-direction: column;align-items: center;background-color: white;padding-right: 0.2em;padding-left: 0.2em;position: relative;}#sk-container-id-1 div.sk-item {position: relative;z-index: 1;}#sk-container-id-1 div.sk-parallel {display: flex;align-items: stretch;justify-content: center;background-color: white;position: relative;}#sk-container-id-1 div.sk-item::before, #sk-container-id-1 div.sk-parallel-item::before {content: \"\";position: absolute;border-left: 1px solid gray;box-sizing: border-box;top: 0;bottom: 0;left: 50%;z-index: -1;}#sk-container-id-1 div.sk-parallel-item {display: flex;flex-direction: column;z-index: 1;position: relative;background-color: white;}#sk-container-id-1 div.sk-parallel-item:first-child::after {align-self: flex-end;width: 50%;}#sk-container-id-1 div.sk-parallel-item:last-child::after {align-self: flex-start;width: 50%;}#sk-container-id-1 div.sk-parallel-item:only-child::after {width: 0;}#sk-container-id-1 div.sk-dashed-wrapped {border: 1px dashed gray;margin: 0 0.4em 0.5em 0.4em;box-sizing: border-box;padding-bottom: 0.4em;background-color: white;}#sk-container-id-1 div.sk-label label {font-family: monospace;font-weight: bold;display: inline-block;line-height: 1.2em;}#sk-container-id-1 div.sk-label-container {text-align: center;}#sk-container-id-1 div.sk-container {/* jupyter's `normalize.less` sets `[hidden] { display: none; }` but bootstrap.min.css set `[hidden] { display: none !important; }` so we also need the `!important` here to be able to override the default hidden behavior on the sphinx rendered scikit-learn.org. See: https://github.com/scikit-learn/scikit-learn/issues/21755 */display: inline-block !important;position: relative;}#sk-container-id-1 div.sk-text-repr-fallback {display: none;}</style><div id=\"sk-container-id-1\" class=\"sk-top-container\"><div class=\"sk-text-repr-fallback\"><pre>XGBClassifier(base_score=0.5, booster=&#x27;gbtree&#x27;, colsample_bylevel=1,\n",
       "              colsample_bynode=1, colsample_bytree=1, enable_categorical=False,\n",
       "              gamma=0, gpu_id=-1, importance_type=None,\n",
       "              interaction_constraints=&#x27;&#x27;, learning_rate=0.300000012,\n",
       "              max_delta_step=0, max_depth=6, min_child_weight=1, missing=nan,\n",
       "              monotone_constraints=&#x27;()&#x27;, n_estimators=100, n_jobs=8,\n",
       "              num_parallel_tree=1, predictor=&#x27;auto&#x27;, random_state=0,\n",
       "              reg_alpha=0, reg_lambda=1, scale_pos_weight=1, subsample=1,\n",
       "              tree_method=&#x27;exact&#x27;, validate_parameters=1, verbosity=None)</pre><b>In a Jupyter environment, please rerun this cell to show the HTML representation or trust the notebook. <br />On GitHub, the HTML representation is unable to render, please try loading this page with nbviewer.org.</b></div><div class=\"sk-container\" hidden><div class=\"sk-item\"><div class=\"sk-estimator sk-toggleable\"><input class=\"sk-toggleable__control sk-hidden--visually\" id=\"sk-estimator-id-1\" type=\"checkbox\" checked><label for=\"sk-estimator-id-1\" class=\"sk-toggleable__label sk-toggleable__label-arrow\">XGBClassifier</label><div class=\"sk-toggleable__content\"><pre>XGBClassifier(base_score=0.5, booster=&#x27;gbtree&#x27;, colsample_bylevel=1,\n",
       "              colsample_bynode=1, colsample_bytree=1, enable_categorical=False,\n",
       "              gamma=0, gpu_id=-1, importance_type=None,\n",
       "              interaction_constraints=&#x27;&#x27;, learning_rate=0.300000012,\n",
       "              max_delta_step=0, max_depth=6, min_child_weight=1, missing=nan,\n",
       "              monotone_constraints=&#x27;()&#x27;, n_estimators=100, n_jobs=8,\n",
       "              num_parallel_tree=1, predictor=&#x27;auto&#x27;, random_state=0,\n",
       "              reg_alpha=0, reg_lambda=1, scale_pos_weight=1, subsample=1,\n",
       "              tree_method=&#x27;exact&#x27;, validate_parameters=1, verbosity=None)</pre></div></div></div></div></div>"
      ],
      "text/plain": [
       "XGBClassifier(base_score=0.5, booster='gbtree', colsample_bylevel=1,\n",
       "              colsample_bynode=1, colsample_bytree=1, enable_categorical=False,\n",
       "              gamma=0, gpu_id=-1, importance_type=None,\n",
       "              interaction_constraints='', learning_rate=0.300000012,\n",
       "              max_delta_step=0, max_depth=6, min_child_weight=1, missing=nan,\n",
       "              monotone_constraints='()', n_estimators=100, n_jobs=8,\n",
       "              num_parallel_tree=1, predictor='auto', random_state=0,\n",
       "              reg_alpha=0, reg_lambda=1, scale_pos_weight=1, subsample=1,\n",
       "              tree_method='exact', validate_parameters=1, verbosity=None)"
      ]
     },
     "execution_count": 21,
     "metadata": {},
     "output_type": "execute_result"
    }
   ],
   "source": [
    "# Use XGBClassifier as a Machine Learning model to fit the data\n",
    "xgb_model = XGBClassifier()\n",
    "\n",
    "eval_set = [(X_train, y_train), (X_test, y_test)]\n",
    "# eval_set = [(X_test, y_test)]\n",
    "xgb_model.fit(\n",
    "    X_train,\n",
    "    y_train,\n",
    "    eval_metric=[\"error\", \"logloss\"],\n",
    "    eval_set=eval_set,\n",
    "    verbose=False,\n",
    ")"
   ]
  },
  {
   "cell_type": "code",
   "execution_count": 22,
   "id": "036ee91a",
   "metadata": {},
   "outputs": [],
   "source": [
    "y_pred = xgb_model.predict(X_test)"
   ]
  },
  {
   "cell_type": "code",
   "execution_count": 23,
   "id": "f17591e3",
   "metadata": {},
   "outputs": [
    {
     "data": {
      "text/plain": [
       "array([[9461,  276],\n",
       "       [  34,  180]])"
      ]
     },
     "execution_count": 23,
     "metadata": {},
     "output_type": "execute_result"
    }
   ],
   "source": [
    "# y_pred = xgb_model.predict(X_test)\n",
    "cm = confusion_matrix(y_test, y_pred)\n",
    "cm"
   ]
  },
  {
   "cell_type": "code",
   "execution_count": 24,
   "id": "22fad426",
   "metadata": {},
   "outputs": [
    {
     "name": "stdout",
     "output_type": "stream",
     "text": [
      "              precision    recall  f1-score   support\n",
      "\n",
      "           0       1.00      0.97      0.98      9737\n",
      "           1       0.39      0.84      0.54       214\n",
      "\n",
      "    accuracy                           0.97      9951\n",
      "   macro avg       0.70      0.91      0.76      9951\n",
      "weighted avg       0.98      0.97      0.97      9951\n",
      "\n",
      "[[9461  276]\n",
      " [  34  180]]\n"
     ]
    }
   ],
   "source": [
    "# Classification Report\n",
    "print(metrics.classification_report(y_test, y_pred))\n",
    "print(metrics.confusion_matrix(y_test, y_pred))"
   ]
  },
  {
   "cell_type": "code",
   "execution_count": 25,
   "id": "fe442624",
   "metadata": {},
   "outputs": [
    {
     "name": "stdout",
     "output_type": "stream",
     "text": [
      "Accuracy: 96.88%\n"
     ]
    }
   ],
   "source": [
    "accuracy = accuracy_score(y_test, y_pred)\n",
    "print(\"Accuracy: %.2f%%\" % (accuracy * 100.0))"
   ]
  },
  {
   "cell_type": "code",
   "execution_count": 26,
   "id": "0aed704e",
   "metadata": {},
   "outputs": [
    {
     "data": {
      "image/png": "[encoded data removed]",
      "text/plain": [
       "<Figure size 640x480 with 2 Axes>"
      ]
     },
     "metadata": {},
     "output_type": "display_data"
    }
   ],
   "source": [
    "# Plot Confusion Matrix\n",
    "fig, ax = plot_confusion_matrix(\n",
    "    conf_mat=cm,\n",
    "    show_absolute=True,\n",
    "    show_normed=True,\n",
    "    colorbar=True,\n",
    "    cmap=plt.cm.Greens,\n",
    ")\n",
    "\n",
    "ax.grid(False)\n",
    "ax.xaxis.set(ticks=(0, 1), ticklabels=(\"Predicted 0s\", \"Predicted 1s\"))\n",
    "ax.yaxis.set(ticks=(0, 1), ticklabels=(\"Actual 0s\", \"Actual 1s\"))\n",
    "plt.title(\"Confusion Matrix for XGBoost Model\")\n",
    "plt.show()"
   ]
  },
  {
   "cell_type": "markdown",
   "id": "96f6cbcd",
   "metadata": {},
   "source": [
    "### Plot Log Loss and Classification Error"
   ]
  },
  {
   "cell_type": "code",
   "execution_count": 27,
   "id": "c4fc8bf9",
   "metadata": {},
   "outputs": [],
   "source": [
    "results = xgb_model.evals_result()\n",
    "epochs = len(results[\"validation_0\"][\"error\"])\n",
    "x_axis = range(0, epochs)"
   ]
  },
  {
   "cell_type": "code",
   "execution_count": 28,
   "id": "7658b719",
   "metadata": {},
   "outputs": [
    {
     "data": {
      "text/plain": [
       "0.7605972322248988"
      ]
     },
     "execution_count": 28,
     "metadata": {},
     "output_type": "execute_result"
    }
   ],
   "source": [
    "f1_score(y_test, y_pred, average=\"macro\")"
   ]
  },
  {
   "cell_type": "code",
   "execution_count": 29,
   "id": "2afef24e",
   "metadata": {},
   "outputs": [
    {
     "data": {
      "image/png": "[encoded data removed]",
      "text/plain": [
       "<Figure size 400x400 with 1 Axes>"
      ]
     },
     "metadata": {},
     "output_type": "display_data"
    }
   ],
   "source": [
    "# plot log loss\n",
    "fig, ax = plt.subplots(figsize=(4, 4))\n",
    "ax.plot(x_axis, results[\"validation_0\"][\"logloss\"], label=\"Train\")\n",
    "ax.plot(x_axis, results[\"validation_1\"][\"logloss\"], label=\"Test\")\n",
    "ax.legend()\n",
    "\n",
    "plt.xlabel(\"Predicted Probability\")\n",
    "plt.ylabel(\"Log Loss\")\n",
    "plt.title(\"XGBoost Log Loss\")\n",
    "plt.show()"
   ]
  },
  {
   "cell_type": "code",
   "execution_count": 30,
   "id": "98a6dcfe",
   "metadata": {},
   "outputs": [
    {
     "data": {
      "image/png": "[encoded data removed]",
      "text/plain": [
       "<Figure size 400x400 with 1 Axes>"
      ]
     },
     "metadata": {},
     "output_type": "display_data"
    }
   ],
   "source": [
    "# plot classification error\n",
    "fig, ax = plt.subplots(figsize=(4, 4))\n",
    "ax.plot(x_axis, results[\"validation_0\"][\"error\"], label=\"Train\")\n",
    "ax.plot(x_axis, results[\"validation_1\"][\"error\"], label=\"Test\")\n",
    "ax.legend()\n",
    "\n",
    "plt.xlabel(\"n_estimators\")\n",
    "plt.ylabel(\"Classification Error\")\n",
    "plt.title(\"XGBoost Classification Error\")\n",
    "plt.show()"
   ]
  },
  {
   "cell_type": "markdown",
   "id": "c8f9fdc5",
   "metadata": {},
   "source": [
    "## Feature Importance"
   ]
  },
  {
   "cell_type": "code",
   "execution_count": 31,
   "id": "71e8cff6",
   "metadata": {},
   "outputs": [
    {
     "data": {
      "image/png": "[encoded data removed]",
      "text/plain": [
       "<Figure size 600x400 with 1 Axes>"
      ]
     },
     "metadata": {},
     "output_type": "display_data"
    }
   ],
   "source": [
    "# Xgboost Built-in Feature Importance\n",
    "\n",
    "# xgb_model.feature_importances_.argsort()[::-1]\n",
    "plt.rcParams.update({\"figure.figsize\": (6.0, 4.0)})\n",
    "plt.rcParams.update({\"font.size\": 10})\n",
    "\n",
    "sorted_idx = xgb_model.feature_importances_.argsort()\n",
    "plt.barh(X.columns[sorted_idx], xgb_model.feature_importances_[sorted_idx])\n",
    "plt.xlabel(\"Built_in Feature Importance\")\n",
    "plt.title(\"Xgboost\")\n",
    "plt.show()"
   ]
  }
 ],
 "metadata": {
  "jupytext": {
   "cell_metadata_filter": "-all",
   "notebook_metadata_filter": "-all"
  },
  "kernelspec": {
   "display_name": "Python 3 (ipykernel)",
   "language": "python",
   "name": "python3"
  },
  "language_info": {
   "codemirror_mode": {
    "name": "ipython",
    "version": 3
   },
   "file_extension": ".py",
   "mimetype": "text/x-python",
   "name": "python",
   "nbconvert_exporter": "python",
   "pygments_lexer": "ipython3",
   "version": "3.8.13"
  }
 },
 "nbformat": 4,
 "nbformat_minor": 5
}
