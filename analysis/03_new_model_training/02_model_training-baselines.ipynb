{
 "cells": [
  {
   "cell_type": "markdown",
   "id": "5a83e7e8-5a32-4877-bccf-a1f5398ee37d",
   "metadata": {},
   "source": [
    "# Model training\n",
    "\n",
    "Baseline is the simplest algorithm that provides predictions without complex computations.\n",
    "For regression tasks, the Baseline returns the average of the target from training data."
   ]
  },
  {
   "cell_type": "code",
   "execution_count": 2,
   "id": "db6b37d9-2953-4b52-a267-aa37848686d9",
   "metadata": {},
   "outputs": [
    {
     "name": "stdout",
     "output_type": "stream",
     "text": [
      "The jupyter_black extension is already loaded. To reload it, use:\n",
      "  %reload_ext jupyter_black\n"
     ]
    }
   ],
   "source": [
    "%load_ext jupyter_black"
   ]
  },
  {
   "cell_type": "code",
   "execution_count": 3,
   "id": "2f435bf7-203f-4fa6-8aa5-8dbcfe89e66b",
   "metadata": {},
   "outputs": [],
   "source": [
    "from utils import get_training_dataset"
   ]
  },
  {
   "cell_type": "code",
   "execution_count": 4,
   "id": "6636b9df-3470-438c-a1d5-68c3e5a4a939",
   "metadata": {},
   "outputs": [],
   "source": [
    "# df = get_training_dataset()\n",
    "# df"
   ]
  },
  {
   "cell_type": "code",
   "execution_count": 5,
   "id": "acd96d45",
   "metadata": {},
   "outputs": [],
   "source": [
    "import pandas as pd\n",
    "import numpy as np\n",
    "import matplotlib.pyplot as plt\n",
    "import statistics\n",
    "\n",
    "from sklearn import preprocessing\n",
    "from sklearn.preprocessing import RobustScaler\n",
    "from sklearn.model_selection import train_test_split\n",
    "from sklearn.dummy import DummyRegressor\n",
    "from sklearn.metrics import mean_squared_error"
   ]
  },
  {
   "cell_type": "code",
   "execution_count": 6,
   "id": "66834104",
   "metadata": {},
   "outputs": [
    {
     "data": {
      "text/html": [
       "<div>\n",
       "<style scoped>\n",
       "    .dataframe tbody tr th:only-of-type {\n",
       "        vertical-align: middle;\n",
       "    }\n",
       "\n",
       "    .dataframe tbody tr th {\n",
       "        vertical-align: top;\n",
       "    }\n",
       "\n",
       "    .dataframe thead th {\n",
       "        text-align: right;\n",
       "    }\n",
       "</style>\n",
       "<table border=\"1\" class=\"dataframe\">\n",
       "  <thead>\n",
       "    <tr style=\"text-align: right;\">\n",
       "      <th></th>\n",
       "      <th>typhoon_name</th>\n",
       "      <th>typhoon_year</th>\n",
       "      <th>grid_point_id</th>\n",
       "      <th>wind_speed</th>\n",
       "      <th>total_buildings</th>\n",
       "      <th>total_buildings_damaged</th>\n",
       "      <th>percent_buildings_damaged</th>\n",
       "    </tr>\n",
       "  </thead>\n",
       "  <tbody>\n",
       "    <tr>\n",
       "      <th>0</th>\n",
       "      <td>DURIAN</td>\n",
       "      <td>2006</td>\n",
       "      <td>6262</td>\n",
       "      <td>0.0</td>\n",
       "      <td>57.0</td>\n",
       "      <td>0.0</td>\n",
       "      <td>0.0</td>\n",
       "    </tr>\n",
       "    <tr>\n",
       "      <th>1</th>\n",
       "      <td>DURIAN</td>\n",
       "      <td>2006</td>\n",
       "      <td>6264</td>\n",
       "      <td>0.0</td>\n",
       "      <td>379.0</td>\n",
       "      <td>0.0</td>\n",
       "      <td>0.0</td>\n",
       "    </tr>\n",
       "    <tr>\n",
       "      <th>2</th>\n",
       "      <td>DURIAN</td>\n",
       "      <td>2006</td>\n",
       "      <td>6265</td>\n",
       "      <td>0.0</td>\n",
       "      <td>23.0</td>\n",
       "      <td>0.0</td>\n",
       "      <td>0.0</td>\n",
       "    </tr>\n",
       "    <tr>\n",
       "      <th>3</th>\n",
       "      <td>DURIAN</td>\n",
       "      <td>2006</td>\n",
       "      <td>6428</td>\n",
       "      <td>0.0</td>\n",
       "      <td>156.0</td>\n",
       "      <td>0.0</td>\n",
       "      <td>0.0</td>\n",
       "    </tr>\n",
       "    <tr>\n",
       "      <th>4</th>\n",
       "      <td>DURIAN</td>\n",
       "      <td>2006</td>\n",
       "      <td>6429</td>\n",
       "      <td>0.0</td>\n",
       "      <td>90.0</td>\n",
       "      <td>0.0</td>\n",
       "      <td>0.0</td>\n",
       "    </tr>\n",
       "    <tr>\n",
       "      <th>...</th>\n",
       "      <td>...</td>\n",
       "      <td>...</td>\n",
       "      <td>...</td>\n",
       "      <td>...</td>\n",
       "      <td>...</td>\n",
       "      <td>...</td>\n",
       "      <td>...</td>\n",
       "    </tr>\n",
       "    <tr>\n",
       "      <th>106894</th>\n",
       "      <td>MOLAVE</td>\n",
       "      <td>2020</td>\n",
       "      <td>20554</td>\n",
       "      <td>0.0</td>\n",
       "      <td>173.0</td>\n",
       "      <td>0.0</td>\n",
       "      <td>0.0</td>\n",
       "    </tr>\n",
       "    <tr>\n",
       "      <th>106895</th>\n",
       "      <td>MOLAVE</td>\n",
       "      <td>2020</td>\n",
       "      <td>20555</td>\n",
       "      <td>0.0</td>\n",
       "      <td>44.0</td>\n",
       "      <td>0.0</td>\n",
       "      <td>0.0</td>\n",
       "    </tr>\n",
       "    <tr>\n",
       "      <th>106896</th>\n",
       "      <td>MOLAVE</td>\n",
       "      <td>2020</td>\n",
       "      <td>20556</td>\n",
       "      <td>0.0</td>\n",
       "      <td>13.0</td>\n",
       "      <td>0.0</td>\n",
       "      <td>0.0</td>\n",
       "    </tr>\n",
       "    <tr>\n",
       "      <th>106897</th>\n",
       "      <td>MOLAVE</td>\n",
       "      <td>2020</td>\n",
       "      <td>20557</td>\n",
       "      <td>0.0</td>\n",
       "      <td>401.0</td>\n",
       "      <td>0.0</td>\n",
       "      <td>0.0</td>\n",
       "    </tr>\n",
       "    <tr>\n",
       "      <th>106898</th>\n",
       "      <td>MOLAVE</td>\n",
       "      <td>2020</td>\n",
       "      <td>20558</td>\n",
       "      <td>0.0</td>\n",
       "      <td>38.0</td>\n",
       "      <td>0.0</td>\n",
       "      <td>0.0</td>\n",
       "    </tr>\n",
       "  </tbody>\n",
       "</table>\n",
       "<p>106899 rows × 7 columns</p>\n",
       "</div>"
      ],
      "text/plain": [
       "       typhoon_name  typhoon_year  grid_point_id  wind_speed  total_buildings  \\\n",
       "0            DURIAN          2006           6262         0.0             57.0   \n",
       "1            DURIAN          2006           6264         0.0            379.0   \n",
       "2            DURIAN          2006           6265         0.0             23.0   \n",
       "3            DURIAN          2006           6428         0.0            156.0   \n",
       "4            DURIAN          2006           6429         0.0             90.0   \n",
       "...             ...           ...            ...         ...              ...   \n",
       "106894       MOLAVE          2020          20554         0.0            173.0   \n",
       "106895       MOLAVE          2020          20555         0.0             44.0   \n",
       "106896       MOLAVE          2020          20556         0.0             13.0   \n",
       "106897       MOLAVE          2020          20557         0.0            401.0   \n",
       "106898       MOLAVE          2020          20558         0.0             38.0   \n",
       "\n",
       "        total_buildings_damaged  percent_buildings_damaged  \n",
       "0                           0.0                        0.0  \n",
       "1                           0.0                        0.0  \n",
       "2                           0.0                        0.0  \n",
       "3                           0.0                        0.0  \n",
       "4                           0.0                        0.0  \n",
       "...                         ...                        ...  \n",
       "106894                      0.0                        0.0  \n",
       "106895                      0.0                        0.0  \n",
       "106896                      0.0                        0.0  \n",
       "106897                      0.0                        0.0  \n",
       "106898                      0.0                        0.0  \n",
       "\n",
       "[106899 rows x 7 columns]"
      ]
     },
     "execution_count": 6,
     "metadata": {},
     "output_type": "execute_result"
    }
   ],
   "source": [
    "# Read csv file and import to df\n",
    "\n",
    "df = pd.read_csv(\"new_model_training_dataset.csv\")\n",
    "df"
   ]
  },
  {
   "cell_type": "code",
   "execution_count": 7,
   "id": "f2efca85",
   "metadata": {},
   "outputs": [
    {
     "data": {
      "text/plain": [
       "array([[<AxesSubplot:title={'center':'percent_buildings_damaged'}>]],\n",
       "      dtype=object)"
      ]
     },
     "execution_count": 7,
     "metadata": {},
     "output_type": "execute_result"
    },
    {
     "data": {
      "image/png": "[encoded data removed]",
      "text/plain": [
       "<Figure size 400x300 with 1 Axes>"
      ]
     },
     "metadata": {},
     "output_type": "display_data"
    }
   ],
   "source": [
    "# Show histogram of damage\n",
    "df.hist(column=\"percent_buildings_damaged\", figsize=(4, 3))"
   ]
  },
  {
   "cell_type": "code",
   "execution_count": 8,
   "id": "45fc3d79",
   "metadata": {},
   "outputs": [
    {
     "data": {
      "text/plain": [
       "[<matplotlib.lines.Line2D at 0x7fb748fbfb50>]"
      ]
     },
     "execution_count": 8,
     "metadata": {},
     "output_type": "execute_result"
    },
    {
     "data": {
      "image/png": "[encoded data removed]",
      "text/plain": [
       "<Figure size 400x300 with 1 Axes>"
      ]
     },
     "metadata": {},
     "output_type": "display_data"
    }
   ],
   "source": [
    "# Hist plot after data stratification\n",
    "bins2 = [0, 0.00009, 1, 10, 50, 101]\n",
    "samples_per_bin2, binsP2 = np.histogram(df[\"percent_buildings_damaged\"], bins=bins2)\n",
    "plt.figure(figsize=(4, 3))\n",
    "plt.xlabel(\"Damage Values\")\n",
    "plt.ylabel(\"Frequency\")\n",
    "plt.plot(binsP2[1:], samples_per_bin2)"
   ]
  },
  {
   "cell_type": "code",
   "execution_count": 9,
   "id": "8001bd65",
   "metadata": {},
   "outputs": [
    {
     "data": {
      "text/html": [
       "<div>\n",
       "<style scoped>\n",
       "    .dataframe tbody tr th:only-of-type {\n",
       "        vertical-align: middle;\n",
       "    }\n",
       "\n",
       "    .dataframe tbody tr th {\n",
       "        vertical-align: top;\n",
       "    }\n",
       "\n",
       "    .dataframe thead th {\n",
       "        text-align: right;\n",
       "    }\n",
       "</style>\n",
       "<table border=\"1\" class=\"dataframe\">\n",
       "  <thead>\n",
       "    <tr style=\"text-align: right;\">\n",
       "      <th></th>\n",
       "      <th>typhoon_name</th>\n",
       "      <th>wind_speed</th>\n",
       "      <th>total_buildings</th>\n",
       "      <th>total_buildings_damaged</th>\n",
       "      <th>percent_buildings_damaged</th>\n",
       "    </tr>\n",
       "  </thead>\n",
       "  <tbody>\n",
       "    <tr>\n",
       "      <th>108</th>\n",
       "      <td>DURIAN</td>\n",
       "      <td>21.104601</td>\n",
       "      <td>126.0</td>\n",
       "      <td>0.0</td>\n",
       "      <td>0.0</td>\n",
       "    </tr>\n",
       "    <tr>\n",
       "      <th>109</th>\n",
       "      <td>DURIAN</td>\n",
       "      <td>19.968266</td>\n",
       "      <td>112.0</td>\n",
       "      <td>0.0</td>\n",
       "      <td>0.0</td>\n",
       "    </tr>\n",
       "    <tr>\n",
       "      <th>110</th>\n",
       "      <td>DURIAN</td>\n",
       "      <td>18.926342</td>\n",
       "      <td>8.0</td>\n",
       "      <td>0.0</td>\n",
       "      <td>0.0</td>\n",
       "    </tr>\n",
       "    <tr>\n",
       "      <th>127</th>\n",
       "      <td>DURIAN</td>\n",
       "      <td>25.354383</td>\n",
       "      <td>42.0</td>\n",
       "      <td>0.0</td>\n",
       "      <td>0.0</td>\n",
       "    </tr>\n",
       "    <tr>\n",
       "      <th>128</th>\n",
       "      <td>DURIAN</td>\n",
       "      <td>23.811114</td>\n",
       "      <td>455.0</td>\n",
       "      <td>0.0</td>\n",
       "      <td>0.0</td>\n",
       "    </tr>\n",
       "    <tr>\n",
       "      <th>...</th>\n",
       "      <td>...</td>\n",
       "      <td>...</td>\n",
       "      <td>...</td>\n",
       "      <td>...</td>\n",
       "      <td>...</td>\n",
       "    </tr>\n",
       "    <tr>\n",
       "      <th>106170</th>\n",
       "      <td>MOLAVE</td>\n",
       "      <td>18.406846</td>\n",
       "      <td>3.0</td>\n",
       "      <td>0.0</td>\n",
       "      <td>0.0</td>\n",
       "    </tr>\n",
       "    <tr>\n",
       "      <th>106338</th>\n",
       "      <td>MOLAVE</td>\n",
       "      <td>18.014052</td>\n",
       "      <td>1483.0</td>\n",
       "      <td>0.0</td>\n",
       "      <td>0.0</td>\n",
       "    </tr>\n",
       "    <tr>\n",
       "      <th>106381</th>\n",
       "      <td>MOLAVE</td>\n",
       "      <td>17.877636</td>\n",
       "      <td>5986.0</td>\n",
       "      <td>0.0</td>\n",
       "      <td>0.0</td>\n",
       "    </tr>\n",
       "    <tr>\n",
       "      <th>106428</th>\n",
       "      <td>MOLAVE</td>\n",
       "      <td>17.778820</td>\n",
       "      <td>646.0</td>\n",
       "      <td>0.0</td>\n",
       "      <td>0.0</td>\n",
       "    </tr>\n",
       "    <tr>\n",
       "      <th>106471</th>\n",
       "      <td>MOLAVE</td>\n",
       "      <td>17.632101</td>\n",
       "      <td>165.0</td>\n",
       "      <td>0.0</td>\n",
       "      <td>0.0</td>\n",
       "    </tr>\n",
       "  </tbody>\n",
       "</table>\n",
       "<p>22255 rows × 5 columns</p>\n",
       "</div>"
      ],
      "text/plain": [
       "       typhoon_name  wind_speed  total_buildings  total_buildings_damaged  \\\n",
       "108          DURIAN   21.104601            126.0                      0.0   \n",
       "109          DURIAN   19.968266            112.0                      0.0   \n",
       "110          DURIAN   18.926342              8.0                      0.0   \n",
       "127          DURIAN   25.354383             42.0                      0.0   \n",
       "128          DURIAN   23.811114            455.0                      0.0   \n",
       "...             ...         ...              ...                      ...   \n",
       "106170       MOLAVE   18.406846              3.0                      0.0   \n",
       "106338       MOLAVE   18.014052           1483.0                      0.0   \n",
       "106381       MOLAVE   17.877636           5986.0                      0.0   \n",
       "106428       MOLAVE   17.778820            646.0                      0.0   \n",
       "106471       MOLAVE   17.632101            165.0                      0.0   \n",
       "\n",
       "        percent_buildings_damaged  \n",
       "108                           0.0  \n",
       "109                           0.0  \n",
       "110                           0.0  \n",
       "127                           0.0  \n",
       "128                           0.0  \n",
       "...                           ...  \n",
       "106170                        0.0  \n",
       "106338                        0.0  \n",
       "106381                        0.0  \n",
       "106428                        0.0  \n",
       "106471                        0.0  \n",
       "\n",
       "[22255 rows x 5 columns]"
      ]
     },
     "execution_count": 9,
     "metadata": {},
     "output_type": "execute_result"
    }
   ],
   "source": [
    "# Remove zeros from wind_speed\n",
    "df = df[(df[[\"wind_speed\"]] != 0).any(axis=1)]\n",
    "\n",
    "df = df.drop(columns=[\"grid_point_id\", \"typhoon_year\"])\n",
    "df"
   ]
  },
  {
   "cell_type": "code",
   "execution_count": 10,
   "id": "0a8e7301",
   "metadata": {},
   "outputs": [
    {
     "data": {
      "text/plain": [
       "[<matplotlib.lines.Line2D at 0x7fb75c5a1bb0>]"
      ]
     },
     "execution_count": 10,
     "metadata": {},
     "output_type": "execute_result"
    },
    {
     "data": {
      "image/png": "[encoded data removed]",
      "text/plain": [
       "<Figure size 400x300 with 1 Axes>"
      ]
     },
     "metadata": {},
     "output_type": "display_data"
    }
   ],
   "source": [
    "# Hist plot after removing rows where windspeed is 0\n",
    "bins2 = [0, 0.00009, 1, 10, 50, 101]\n",
    "samples_per_bin2, binsP2 = np.histogram(df[\"percent_buildings_damaged\"], bins=bins2)\n",
    "plt.figure(figsize=(4, 3))\n",
    "plt.xlabel(\"Damage Values\")\n",
    "plt.ylabel(\"Frequency\")\n",
    "plt.plot(binsP2[1:], samples_per_bin2)"
   ]
  },
  {
   "cell_type": "code",
   "execution_count": 11,
   "id": "80d63e1c",
   "metadata": {},
   "outputs": [
    {
     "name": "stdout",
     "output_type": "stream",
     "text": [
      "[13871  4647  1926   992   819]\n",
      "[0.00e+00 9.00e-05 1.00e+00 1.00e+01 5.00e+01 1.01e+02]\n"
     ]
    }
   ],
   "source": [
    "print(samples_per_bin2)\n",
    "print(binsP2)"
   ]
  },
  {
   "cell_type": "code",
   "execution_count": 12,
   "id": "15dbd369",
   "metadata": {},
   "outputs": [],
   "source": [
    "# Check the bins' intervalls\n",
    "# df[\"percent_buildings_damaged\"].value_counts(bins=binsP2)"
   ]
  },
  {
   "cell_type": "code",
   "execution_count": 13,
   "id": "f3ecbbe0",
   "metadata": {},
   "outputs": [],
   "source": [
    "bin_index2 = np.digitize(df[\"percent_buildings_damaged\"], bins=binsP2)"
   ]
  },
  {
   "cell_type": "code",
   "execution_count": 14,
   "id": "c050a657",
   "metadata": {},
   "outputs": [],
   "source": [
    "y_input_strat = bin_index2"
   ]
  },
  {
   "cell_type": "code",
   "execution_count": 15,
   "id": "2f70d8fb",
   "metadata": {},
   "outputs": [
    {
     "data": {
      "text/plain": [
       "Index(['wind_speed', 'total_buildings', 'total_buildings_damaged'], dtype='object')"
      ]
     },
     "metadata": {},
     "output_type": "display_data"
    }
   ],
   "source": [
    "features = [\"wind_speed\", \"total_buildings\", \"total_buildings_damaged\"]\n",
    "\n",
    "# Split X and y from dataframe features\n",
    "X = df[features]\n",
    "display(X.columns)\n",
    "y = df[\"percent_buildings_damaged\"]\n",
    "\n",
    "scaler = preprocessing.StandardScaler().fit(X)\n",
    "X_scaled = scaler.transform(X)"
   ]
  },
  {
   "cell_type": "code",
   "execution_count": 16,
   "id": "37f8e2e6",
   "metadata": {
    "scrolled": false
   },
   "outputs": [
    {
     "name": "stdout",
     "output_type": "stream",
     "text": [
      "Dummy RMSE per bin_1: 4.695203196186884\n",
      "Dummy RMSE per bin_2: 4.522498672183052\n",
      "Dummy RMSE per bin_3: 2.6361966435608237\n",
      "Dummy RMSE per bin_4: 23.366043162102205\n",
      "Dummy RMSE per bin_5: 85.78635973801136\n"
     ]
    }
   ],
   "source": [
    "# Define train_test_split\n",
    "\n",
    "X_train, X_test, y_train, y_test = train_test_split(\n",
    "    X_scaled, df[\"percent_buildings_damaged\"], stratify=y_input_strat, test_size=0.2\n",
    ")\n",
    "\n",
    "# create a dummy regressor\n",
    "dummy_reg = DummyRegressor(strategy=\"mean\")\n",
    "\n",
    "# fit it on the training set\n",
    "dummy_reg.fit(X_train, y_train)\n",
    "\n",
    "bin_index_test = np.digitize(y_test, bins=binsP2)\n",
    "bin_index_train = np.digitize(y_train, bins=binsP2)\n",
    "\n",
    "# make predictions on the test set\n",
    "y_pred = dummy_reg.predict(X_test)\n",
    "\n",
    "# Estimation of RMSE for test data per each bin\n",
    "mse_idx1 = mean_squared_error(y_test[bin_index_test == 1], y_pred[bin_index_test == 1])\n",
    "rmse_1 = np.sqrt(mse_idx1)\n",
    "\n",
    "mse_idx2 = mean_squared_error(y_test[bin_index_test == 2], y_pred[bin_index_test == 2])\n",
    "rmse_2 = np.sqrt(mse_idx2)\n",
    "\n",
    "mse_idx3 = mean_squared_error(y_test[bin_index_test == 3], y_pred[bin_index_test == 3])\n",
    "rmse_3 = np.sqrt(mse_idx3)\n",
    "\n",
    "mse_idx4 = mean_squared_error(y_test[bin_index_test == 4], y_pred[bin_index_test == 4])\n",
    "rmse_4 = np.sqrt(mse_idx4)\n",
    "\n",
    "mse_idx5 = mean_squared_error(y_test[bin_index_test == 5], y_pred[bin_index_test == 5])\n",
    "rmse_5 = np.sqrt(mse_idx5)\n",
    "\n",
    "print(\"Dummy RMSE per bin_1:\", rmse_1)\n",
    "print(\"Dummy RMSE per bin_2:\", rmse_2)\n",
    "print(\"Dummy RMSE per bin_3:\", rmse_3)\n",
    "print(\"Dummy RMSE per bin_4:\", rmse_4)\n",
    "print(\"Dummy RMSE per bin_5:\", rmse_5)"
   ]
  },
  {
   "cell_type": "code",
   "execution_count": 17,
   "id": "88923bc2",
   "metadata": {},
   "outputs": [
    {
     "name": "stdout",
     "output_type": "stream",
     "text": [
      "Dummy RMSE: 17.721712775194522\n"
     ]
    }
   ],
   "source": [
    "# create a dummy regressor\n",
    "dummy_reg = DummyRegressor(strategy=\"mean\")\n",
    "\n",
    "# fit it on the training set\n",
    "dummy_reg.fit(X_train, y_train)\n",
    "\n",
    "# make predictions on the test set\n",
    "y_pred = dummy_reg.predict(X_test)\n",
    "\n",
    "# calculate root mean squared error\n",
    "mse = mean_squared_error(y_test, y_pred)\n",
    "\n",
    "rmse = np.sqrt(mse)\n",
    "print(\"Dummy RMSE:\", rmse)"
   ]
  },
  {
   "cell_type": "code",
   "execution_count": null,
   "id": "afedae89",
   "metadata": {},
   "outputs": [],
   "source": []
  }
 ],
 "metadata": {
  "jupytext": {
   "cell_metadata_filter": "-all",
   "formats": "ipynb,md",
   "notebook_metadata_filter": "-all"
  },
  "kernelspec": {
   "display_name": "Python 3 (ipykernel)",
   "language": "python",
   "name": "python3"
  },
  "language_info": {
   "codemirror_mode": {
    "name": "ipython",
    "version": 3
   },
   "file_extension": ".py",
   "mimetype": "text/x-python",
   "name": "python",
   "nbconvert_exporter": "python",
   "pygments_lexer": "ipython3",
   "version": "3.8.13"
  }
 },
 "nbformat": 4,
 "nbformat_minor": 5
}
