{
 "cells": [
  {
   "cell_type": "markdown",
   "id": "5a83e7e8-5a32-4877-bccf-a1f5398ee37d",
   "metadata": {},
   "source": [
    "# Model training\n",
    "\n",
    "The input data is prepared by joining the calculated windfield with damaged values.\n",
    "Subsampling is done by dropping those rows where the windspeed is 0, the the data stratification is done on damaged values.\n",
    "The XGBoost Reduced Over fitting model, was trained on this prepared input data with gridcells.\n",
    "The RMSE calculated in total and per each bin."
   ]
  },
  {
   "cell_type": "code",
   "execution_count": null,
   "id": "db6b37d9-2953-4b52-a267-aa37848686d9",
   "metadata": {},
   "outputs": [],
   "source": [
    "%load_ext jupyter_black"
   ]
  },
  {
   "cell_type": "code",
   "execution_count": null,
   "id": "2f435bf7-203f-4fa6-8aa5-8dbcfe89e66b",
   "metadata": {},
   "outputs": [],
   "source": [
    "from collections import defaultdict\n",
    "import statistics\n",
    "\n",
    "from sklearn import preprocessing\n",
    "from sklearn.preprocessing import RobustScaler\n",
    "from sklearn.model_selection import train_test_split\n",
    "from sklearn.metrics import mean_squared_error\n",
    "from xgboost.sklearn import XGBRegressor\n",
    "from sklearn.dummy import DummyRegressor\n",
    "import matplotlib.pyplot as plt\n",
    "import numpy as np\n",
    "import pandas as pd\n",
    "import statsmodels.api as sm\n",
    "import colorama\n",
    "from colorama import Fore\n",
    "\n",
    "from utils import get_training_dataset"
   ]
  },
  {
   "cell_type": "code",
   "execution_count": null,
   "id": "6636b9df-3470-438c-a1d5-68c3e5a4a939",
   "metadata": {},
   "outputs": [],
   "source": [
    "# Read csv file and import to df\n",
    "df = get_training_dataset()\n",
    "# df"
   ]
  },
  {
   "cell_type": "code",
   "execution_count": null,
   "id": "f2efca85",
   "metadata": {},
   "outputs": [],
   "source": [
    "# Show histogram of damage\n",
    "df.hist(column=\"percent_buildings_damaged\", figsize=(4, 3))"
   ]
  },
  {
   "cell_type": "code",
   "execution_count": null,
   "id": "45fc3d79",
   "metadata": {},
   "outputs": [],
   "source": [
    "# Hist plot after data stratification\n",
    "bins2 = [0, 0.00009, 1, 10, 50, 101]\n",
    "samples_per_bin2, binsP2 = np.histogram(df[\"percent_buildings_damaged\"], bins=bins2)\n",
    "plt.figure(figsize=(4, 3))\n",
    "plt.xlabel(\"Damage Values\")\n",
    "plt.ylabel(\"Frequency\")\n",
    "plt.plot(binsP2[1:], samples_per_bin2)"
   ]
  },
  {
   "cell_type": "code",
   "execution_count": null,
   "id": "11ca1ec0",
   "metadata": {},
   "outputs": [],
   "source": [
    "# Check the bins' intervalls (first bin means all zeros, second bin means 0 < values <= 1)\n",
    "df[\"percent_buildings_damaged\"].value_counts(bins=binsP2)"
   ]
  },
  {
   "cell_type": "code",
   "execution_count": null,
   "id": "8001bd65",
   "metadata": {},
   "outputs": [],
   "source": [
    "# Remove zeros from wind_speed\n",
    "df = df[(df[[\"wind_speed\"]] != 0).any(axis=1)]\n",
    "df = df.drop(columns=[\"grid_point_id\", \"typhoon_year\"])\n",
    "df.head()"
   ]
  },
  {
   "cell_type": "code",
   "execution_count": null,
   "id": "0a8e7301",
   "metadata": {},
   "outputs": [],
   "source": [
    "# Hist plot after removing rows where windspeed is 0\n",
    "bins2 = [0, 0.00009, 1, 10, 50, 101]\n",
    "samples_per_bin2, binsP2 = np.histogram(df[\"percent_buildings_damaged\"], bins=bins2)\n",
    "plt.figure(figsize=(4, 3))\n",
    "plt.xlabel(\"Damage Values\")\n",
    "plt.ylabel(\"Frequency\")\n",
    "plt.plot(binsP2[1:], samples_per_bin2)"
   ]
  },
  {
   "cell_type": "code",
   "execution_count": null,
   "id": "80d63e1c",
   "metadata": {},
   "outputs": [],
   "source": [
    "print(samples_per_bin2)\n",
    "print(binsP2)"
   ]
  },
  {
   "cell_type": "code",
   "execution_count": null,
   "id": "15dbd369",
   "metadata": {},
   "outputs": [],
   "source": [
    "# Check the bins' intervalls\n",
    "df[\"percent_buildings_damaged\"].value_counts(bins=binsP2)"
   ]
  },
  {
   "cell_type": "code",
   "execution_count": null,
   "id": "f3ecbbe0",
   "metadata": {},
   "outputs": [],
   "source": [
    "bin_index2 = np.digitize(df[\"percent_buildings_damaged\"], bins=binsP2)"
   ]
  },
  {
   "cell_type": "code",
   "execution_count": null,
   "id": "c050a657",
   "metadata": {},
   "outputs": [],
   "source": [
    "y_input_strat = bin_index2"
   ]
  },
  {
   "cell_type": "code",
   "execution_count": null,
   "id": "4e68b8d9",
   "metadata": {},
   "outputs": [],
   "source": [
    "# Defin two lists to save total RMSE of test and train data\n",
    "\n",
    "test_RMSE = defaultdict(list)\n",
    "train_RMSE = defaultdict(list)"
   ]
  },
  {
   "cell_type": "code",
   "execution_count": null,
   "id": "2f70d8fb",
   "metadata": {},
   "outputs": [],
   "source": [
    "features = [\n",
    "    \"wind_speed\",\n",
    "    \"track_distance\",\n",
    "    \"total_buildings\",\n",
    "    \"rainfall_max_6h\",\n",
    "    \"rainfall_max_24h\",\n",
    "]\n",
    "\n",
    "# Split X and y from dataframe features\n",
    "X = df[features]\n",
    "display(X.columns)\n",
    "y = df[\"percent_buildings_damaged\"]\n",
    "\n",
    "scaler = preprocessing.StandardScaler().fit(X)\n",
    "X_scaled = scaler.transform(X)"
   ]
  },
  {
   "cell_type": "code",
   "execution_count": null,
   "id": "37f8e2e6",
   "metadata": {
    "scrolled": false
   },
   "outputs": [],
   "source": [
    "# Run XGBoost Reduced Overfitting in for loop to estimate RMSE per bins\n",
    "\n",
    "for i in range(20):\n",
    "    X_train, X_test, y_train, y_test = train_test_split(\n",
    "        X_scaled, df[\"percent_buildings_damaged\"], stratify=y_input_strat, test_size=0.2\n",
    "    )\n",
    "\n",
    "    # XGBoost Reduced Overfitting\n",
    "    xgb = XGBRegressor(\n",
    "        base_score=0.5,\n",
    "        booster=\"gbtree\",\n",
    "        colsample_bylevel=0.8,\n",
    "        colsample_bynode=0.8,\n",
    "        colsample_bytree=0.8,\n",
    "        gamma=3,\n",
    "        eta=0.01,\n",
    "        importance_type=\"gain\",\n",
    "        learning_rate=0.1,\n",
    "        max_delta_step=0,\n",
    "        max_depth=4,\n",
    "        min_child_weight=1,\n",
    "        missing=1,\n",
    "        n_estimators=100,\n",
    "        early_stopping_rounds=10,\n",
    "        n_jobs=1,\n",
    "        nthread=None,\n",
    "        objective=\"reg:squarederror\",\n",
    "        reg_alpha=0,\n",
    "        reg_lambda=1,\n",
    "        scale_pos_weight=1,\n",
    "        seed=None,\n",
    "        silent=None,\n",
    "        subsample=0.8,\n",
    "        verbosity=1,\n",
    "        eval_metric=[\"rmse\", \"logloss\"],\n",
    "        random_state=0,\n",
    "    )\n",
    "\n",
    "    eval_set = [(X_test, y_test)]\n",
    "    xgb_model = xgb.fit(\n",
    "        X_train,\n",
    "        y_train,\n",
    "        eval_set=eval_set,\n",
    "        verbose=False,\n",
    "        # sample_weight=pow(y_train, 2),\n",
    "    )\n",
    "\n",
    "    X2 = sm.add_constant(X_train)\n",
    "    est = sm.OLS(y_train, X2)\n",
    "    est2 = est.fit()\n",
    "    print(est2.summary())\n",
    "\n",
    "    X2_test = sm.add_constant(X_test)\n",
    "\n",
    "    y_pred_train_LREG = est2.predict(X2)\n",
    "    mse_train_idx_LREG = mean_squared_error(y_train, y_pred_train_LREG)\n",
    "    rmse_train_LREG = np.sqrt(mse_train_idx_LREG)\n",
    "\n",
    "    ypred_LREG = est2.predict(X2_test)\n",
    "    mse_idx_LREG = mean_squared_error(y_test, ypred_LREG)\n",
    "    rmse_LREG = np.sqrt(mse_idx_LREG)\n",
    "\n",
    "    print(\"----- Training ------\")\n",
    "    print(f\"LREG Root mean squared error: {rmse_train_LREG:.2f}\")\n",
    "    print(\"----- Test ------\")\n",
    "    print(f\"LREG Root mean squared error: {rmse_LREG:.2f}\")\n",
    "\n",
    "    # Calculate RMSE in total\n",
    "\n",
    "    y_pred_train = xgb.predict(X_train)\n",
    "    mse_train_idx = mean_squared_error(y_train, y_pred_train)\n",
    "    rmse_train = np.sqrt(mse_train_idx)\n",
    "\n",
    "    y_pred = xgb.predict(X_test)\n",
    "    mse_idx = mean_squared_error(y_test, y_pred)\n",
    "    rmse = np.sqrt(mse_idx)\n",
    "\n",
    "    print(\"----- Training ------\")\n",
    "    print(f\"Root mean squared error: {rmse_train:.2f}\")\n",
    "\n",
    "    print(\"----- Test ------\")\n",
    "    print(f\"Root mean squared error: {rmse:.2f}\")\n",
    "\n",
    "    test_RMSE[\"all\"].append(rmse)\n",
    "    train_RMSE[\"all\"].append(rmse_train)\n",
    "\n",
    "    # Calculate RMSE per bins\n",
    "\n",
    "    bin_index_test = np.digitize(y_test, bins=binsP2)\n",
    "    bin_index_train = np.digitize(y_train, bins=binsP2)\n",
    "\n",
    "    # Estimation of RMSE for train data\n",
    "    y_pred_train = xgb.predict(X_train)\n",
    "    for bin_num in range(1, 6):\n",
    "\n",
    "        mse_train_idx = mean_squared_error(\n",
    "            y_train[bin_index_train == bin_num],\n",
    "            y_pred_train[bin_index_train == bin_num],\n",
    "        )\n",
    "        rmse_train = np.sqrt(mse_train_idx)\n",
    "\n",
    "        # Estimation of RMSE for test data\n",
    "        y_pred = xgb.predict(X_test)\n",
    "\n",
    "        mse_idx = mean_squared_error(\n",
    "            y_test[bin_index_test == bin_num],\n",
    "            y_pred[bin_index_test == bin_num],\n",
    "        )\n",
    "        rmse = np.sqrt(mse_idx)\n",
    "\n",
    "        train_RMSE[bin_num].append(rmse_train)\n",
    "        test_RMSE[bin_num].append(rmse)"
   ]
  },
  {
   "cell_type": "code",
   "execution_count": null,
   "id": "0bf81e30",
   "metadata": {},
   "outputs": [],
   "source": [
    "# Define a function to plot RMSEs\n",
    "def rmse_bin_plot(te_rmse, tr_rmse, min_rg, max_rg, step):\n",
    "\n",
    "    m_test_rmse = statistics.mean(te_rmse)\n",
    "    plt.figure(figsize=(4, 3))\n",
    "    plt.axvline(m_test_rmse, color=\"red\", linestyle=\"dashed\")\n",
    "    plt.hist(\n",
    "        te_rmse,\n",
    "        bins=np.arange(min_rg, max_rg, step),\n",
    "        edgecolor=\"k\",\n",
    "        histtype=\"bar\",\n",
    "        density=True,\n",
    "    )\n",
    "    sd_test_rmse = statistics.stdev(te_rmse)\n",
    "\n",
    "    m_train_rmse = statistics.mean(tr_rmse)\n",
    "    plt.axvline(m_train_rmse, color=\"b\", linestyle=\"dashed\")\n",
    "    plt.hist(\n",
    "        tr_rmse,\n",
    "        bins=np.arange(min_rg, max_rg, step),\n",
    "        color=\"orange\",\n",
    "        edgecolor=\"k\",\n",
    "        histtype=\"bar\",\n",
    "        density=True,\n",
    "        alpha=0.7,\n",
    "    )\n",
    "    sd_train_rmse = statistics.stdev(tr_rmse)\n",
    "\n",
    "    print(Fore.RED)\n",
    "    print(f\"stdev_RMSE_test: {sd_test_rmse:.2f}\")\n",
    "    print(f\"stdev_RMSE_train: {sd_train_rmse:.2f}\")\n",
    "\n",
    "    print(f\"mean_RMSE_test: {m_test_rmse:.2f}\")\n",
    "    print(f\"mean_RMSE_train: {m_train_rmse:.2f}\")\n",
    "\n",
    "    # create legend\n",
    "    labels = [\"Mean_test\", \"Mean_train\", \"test\", \"train\"]\n",
    "    plt.legend(labels)\n",
    "\n",
    "    plt.xlabel(\"The RMSE error\")\n",
    "    plt.ylabel(\"Frequency\")\n",
    "    plt.title(\"histogram of the RMSE distribution\")\n",
    "    plt.show()"
   ]
  },
  {
   "cell_type": "markdown",
   "id": "70f1f014",
   "metadata": {},
   "source": [
    "## Plot RMSE in total"
   ]
  },
  {
   "cell_type": "code",
   "execution_count": null,
   "id": "b5e9e021",
   "metadata": {},
   "outputs": [],
   "source": [
    "print(\"RMSE in total\", \"\\n\")\n",
    "rmse_bin_plot(test_RMSE[\"all\"], train_RMSE[\"all\"], 12.0, 13.5, 0.09)"
   ]
  },
  {
   "cell_type": "markdown",
   "id": "113456df",
   "metadata": {},
   "source": [
    "## Plot RMSE per bin"
   ]
  },
  {
   "cell_type": "code",
   "execution_count": null,
   "id": "146a6f80",
   "metadata": {},
   "outputs": [],
   "source": [
    "bin_params = {\n",
    "    1: (3.5, 4.5, 0.06),\n",
    "    2: (8.0, 9.0, 0.06),\n",
    "    3: (12.0, 14.0, 0.15),\n",
    "    4: (18.0, 21.0, 0.2),\n",
    "    5: (59.0, 64.0, 0.35),\n",
    "}\n",
    "\n",
    "\n",
    "for bin_num in range(1, 6):\n",
    "\n",
    "    print(f\"RMSE per bin {bin_num}\\n\")\n",
    "    rmse_bin_plot(test_RMSE[bin_num], train_RMSE[bin_num], *bin_params[bin_num])"
   ]
  },
  {
   "cell_type": "code",
   "execution_count": null,
   "id": "fe1f7486",
   "metadata": {},
   "outputs": [],
   "source": []
  }
 ],
 "metadata": {
  "jupytext": {
   "cell_metadata_filter": "-all",
   "notebook_metadata_filter": "-all"
  },
  "kernelspec": {
   "display_name": "Python 3 (ipykernel)",
   "language": "python",
   "name": "python3"
  },
  "language_info": {
   "codemirror_mode": {
    "name": "ipython",
    "version": 3
   },
   "file_extension": ".py",
   "mimetype": "text/x-python",
   "name": "python",
   "nbconvert_exporter": "python",
   "pygments_lexer": "ipython3",
   "version": "3.9.0"
  }
 },
 "nbformat": 4,
 "nbformat_minor": 5
}
