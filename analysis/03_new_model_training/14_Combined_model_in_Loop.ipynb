{
 "cells": [
  {
   "cell_type": "markdown",
   "id": "5a83e7e8-5a32-4877-bccf-a1f5398ee37d",
   "metadata": {},
   "source": [
    "# Combined  Model (XGBoost Undersampling + XGBoost Regression)\n",
    "\n",
    "We developed a hybrid model using both xgboost regression and xgboost classification(while undersampling technique was implemented to enhance its performance). Subsequently, we evaluated the performance of this combined model on the test dataset and compared it with the result of the simple xgboost regression model. \n",
    "\n",
    "###The whole code in a loop to have an m average of RMSE estimation.\n"
   ]
  },
  {
   "cell_type": "code",
   "execution_count": 1,
   "id": "b67bfdeb",
   "metadata": {},
   "outputs": [
    {
     "data": {
      "text/html": [
       "\n",
       "                <script type=\"application/javascript\" id=\"jupyter_black\">\n",
       "                (function() {\n",
       "                    if (window.IPython === undefined) {\n",
       "                        return\n",
       "                    }\n",
       "                    var msg = \"WARNING: it looks like you might have loaded \" +\n",
       "                        \"jupyter_black in a non-lab notebook with \" +\n",
       "                        \"`is_lab=True`. Please double check, and if \" +\n",
       "                        \"loading with `%load_ext` please review the README!\"\n",
       "                    console.log(msg)\n",
       "                    alert(msg)\n",
       "                })()\n",
       "                </script>\n",
       "                "
      ],
      "text/plain": [
       "<IPython.core.display.HTML object>"
      ]
     },
     "metadata": {},
     "output_type": "display_data"
    }
   ],
   "source": [
    "%load_ext jupyter_black"
   ]
  },
  {
   "cell_type": "code",
   "execution_count": 2,
   "id": "2f435bf7-203f-4fa6-8aa5-8dbcfe89e66b",
   "metadata": {},
   "outputs": [
    {
     "name": "stderr",
     "output_type": "stream",
     "text": [
      "pandas.Int64Index is deprecated and will be removed from pandas in a future version. Use pandas.Index with the appropriate dtype instead.\n"
     ]
    }
   ],
   "source": [
    "import matplotlib.pyplot as plt\n",
    "import seaborn as sns\n",
    "import numpy as np\n",
    "import pandas as pd\n",
    "import shap\n",
    "import imblearn\n",
    "import statsmodels.api as sm\n",
    "import statistics\n",
    "\n",
    "from collections import defaultdict\n",
    "from sklearn.model_selection import train_test_split\n",
    "from sklearn import preprocessing\n",
    "from sklearn.preprocessing import RobustScaler\n",
    "from sklearn import metrics\n",
    "from sklearn.metrics import accuracy_score\n",
    "from sklearn.metrics import f1_score\n",
    "from sklearn.metrics import mean_squared_error\n",
    "from xgboost.sklearn import XGBRegressor\n",
    "from sklearn.dummy import DummyRegressor\n",
    "from xgboost import XGBClassifier\n",
    "from sty import fg, rs\n",
    "\n",
    "from sklearn.metrics import confusion_matrix\n",
    "from matplotlib import cm\n",
    "from collections import Counter\n",
    "from imblearn.under_sampling import RandomUnderSampler\n",
    "\n",
    "from utils import get_training_dataset"
   ]
  },
  {
   "cell_type": "code",
   "execution_count": 3,
   "id": "0199fe50",
   "metadata": {},
   "outputs": [
    {
     "data": {
      "text/plain": [
       "Index(['wind_speed', 'track_distance', 'total_houses', 'rainfall_max_6h',\n",
       "       'rainfall_max_24h', 'rwi', 'mean_slope', 'std_slope', 'mean_tri',\n",
       "       'std_tri', 'mean_elev', 'coast_length', 'with_coast', 'urban', 'rural',\n",
       "       'water', 'total_pop', 'percent_houses_damaged_5years'],\n",
       "      dtype='object')"
      ]
     },
     "metadata": {},
     "output_type": "display_data"
    },
    {
     "name": "stderr",
     "output_type": "stream",
     "text": [
      "pandas.Int64Index is deprecated and will be removed from pandas in a future version. Use pandas.Index with the appropriate dtype instead.\n"
     ]
    },
    {
     "name": "stdout",
     "output_type": "stream",
     "text": [
      "[12:41:10] WARNING: /Users/runner/miniforge3/conda-bld/xgboost-split_1637426408905/work/src/learner.cc:576: \n",
      "Parameters: { \"early_stopping_rounds\" } might not be used.\n",
      "\n",
      "  This could be a false alarm, with some parameters getting used by language bindings but\n",
      "  then being mistakenly passed down to XGBoost core, or some parameter actually being used\n",
      "  but getting flagged wrongly here. Please open an issue if you find any such cases.\n",
      "\n",
      "\n",
      "Counter({0: 38948, 1: 855})\n",
      "Counter({0: 8550, 1: 855})\n"
     ]
    },
    {
     "name": "stderr",
     "output_type": "stream",
     "text": [
      "The use of label encoder in XGBClassifier is deprecated and will be removed in a future release. To remove this warning, do the following: 1) Pass option use_label_encoder=False when constructing XGBClassifier object; and 2) Encode your labels (y) as integers starting with 0, i.e. 0, 1, 2, ..., [num_class - 1].\n",
      "pandas.Int64Index is deprecated and will be removed from pandas in a future version. Use pandas.Index with the appropriate dtype instead.\n"
     ]
    },
    {
     "data": {
      "text/plain": [
       "Index(['wind_speed', 'track_distance', 'total_houses', 'rainfall_max_6h',\n",
       "       'rainfall_max_24h', 'rwi', 'mean_slope', 'std_slope', 'mean_tri',\n",
       "       'std_tri', 'mean_elev', 'coast_length', 'with_coast', 'urban', 'rural',\n",
       "       'water', 'total_pop', 'percent_houses_damaged_5years'],\n",
       "      dtype='object')"
      ]
     },
     "metadata": {},
     "output_type": "display_data"
    },
    {
     "name": "stderr",
     "output_type": "stream",
     "text": [
      "pandas.Int64Index is deprecated and will be removed from pandas in a future version. Use pandas.Index with the appropriate dtype instead.\n",
      "\n",
      "A value is trying to be set on a copy of a slice from a DataFrame.\n",
      "Try using .loc[row_indexer,col_indexer] = value instead\n",
      "\n",
      "See the caveats in the documentation: https://pandas.pydata.org/pandas-docs/stable/user_guide/indexing.html#returning-a-view-versus-a-copy\n",
      "\n",
      "A value is trying to be set on a copy of a slice from a DataFrame.\n",
      "Try using .loc[row_indexer,col_indexer] = value instead\n",
      "\n",
      "See the caveats in the documentation: https://pandas.pydata.org/pandas-docs/stable/user_guide/indexing.html#returning-a-view-versus-a-copy\n"
     ]
    },
    {
     "name": "stdout",
     "output_type": "stream",
     "text": [
      "[12:41:14] WARNING: /Users/runner/miniforge3/conda-bld/xgboost-split_1637426408905/work/src/learner.cc:576: \n",
      "Parameters: { \"early_stopping_rounds\" } might not be used.\n",
      "\n",
      "  This could be a false alarm, with some parameters getting used by language bindings but\n",
      "  then being mistakenly passed down to XGBoost core, or some parameter actually being used\n",
      "  but getting flagged wrongly here. Please open an issue if you find any such cases.\n",
      "\n",
      "\n",
      "[3.3039230185175996]\n"
     ]
    },
    {
     "data": {
      "text/plain": [
       "Index(['wind_speed', 'track_distance', 'total_houses', 'rainfall_max_6h',\n",
       "       'rainfall_max_24h', 'rwi', 'mean_slope', 'std_slope', 'mean_tri',\n",
       "       'std_tri', 'mean_elev', 'coast_length', 'with_coast', 'urban', 'rural',\n",
       "       'water', 'total_pop', 'percent_houses_damaged_5years'],\n",
       "      dtype='object')"
      ]
     },
     "metadata": {},
     "output_type": "display_data"
    },
    {
     "name": "stderr",
     "output_type": "stream",
     "text": [
      "pandas.Int64Index is deprecated and will be removed from pandas in a future version. Use pandas.Index with the appropriate dtype instead.\n"
     ]
    },
    {
     "name": "stdout",
     "output_type": "stream",
     "text": [
      "[12:41:15] WARNING: /Users/runner/miniforge3/conda-bld/xgboost-split_1637426408905/work/src/learner.cc:576: \n",
      "Parameters: { \"early_stopping_rounds\" } might not be used.\n",
      "\n",
      "  This could be a false alarm, with some parameters getting used by language bindings but\n",
      "  then being mistakenly passed down to XGBoost core, or some parameter actually being used\n",
      "  but getting flagged wrongly here. Please open an issue if you find any such cases.\n",
      "\n",
      "\n",
      "Counter({0: 38948, 1: 855})\n",
      "Counter({0: 8550, 1: 855})\n"
     ]
    },
    {
     "name": "stderr",
     "output_type": "stream",
     "text": [
      "The use of label encoder in XGBClassifier is deprecated and will be removed in a future release. To remove this warning, do the following: 1) Pass option use_label_encoder=False when constructing XGBClassifier object; and 2) Encode your labels (y) as integers starting with 0, i.e. 0, 1, 2, ..., [num_class - 1].\n",
      "pandas.Int64Index is deprecated and will be removed from pandas in a future version. Use pandas.Index with the appropriate dtype instead.\n"
     ]
    },
    {
     "data": {
      "text/plain": [
       "Index(['wind_speed', 'track_distance', 'total_houses', 'rainfall_max_6h',\n",
       "       'rainfall_max_24h', 'rwi', 'mean_slope', 'std_slope', 'mean_tri',\n",
       "       'std_tri', 'mean_elev', 'coast_length', 'with_coast', 'urban', 'rural',\n",
       "       'water', 'total_pop', 'percent_houses_damaged_5years'],\n",
       "      dtype='object')"
      ]
     },
     "metadata": {},
     "output_type": "display_data"
    },
    {
     "name": "stderr",
     "output_type": "stream",
     "text": [
      "pandas.Int64Index is deprecated and will be removed from pandas in a future version. Use pandas.Index with the appropriate dtype instead.\n",
      "\n",
      "A value is trying to be set on a copy of a slice from a DataFrame.\n",
      "Try using .loc[row_indexer,col_indexer] = value instead\n",
      "\n",
      "See the caveats in the documentation: https://pandas.pydata.org/pandas-docs/stable/user_guide/indexing.html#returning-a-view-versus-a-copy\n",
      "\n",
      "A value is trying to be set on a copy of a slice from a DataFrame.\n",
      "Try using .loc[row_indexer,col_indexer] = value instead\n",
      "\n",
      "See the caveats in the documentation: https://pandas.pydata.org/pandas-docs/stable/user_guide/indexing.html#returning-a-view-versus-a-copy\n"
     ]
    },
    {
     "name": "stdout",
     "output_type": "stream",
     "text": [
      "[12:41:18] WARNING: /Users/runner/miniforge3/conda-bld/xgboost-split_1637426408905/work/src/learner.cc:576: \n",
      "Parameters: { \"early_stopping_rounds\" } might not be used.\n",
      "\n",
      "  This could be a false alarm, with some parameters getting used by language bindings but\n",
      "  then being mistakenly passed down to XGBoost core, or some parameter actually being used\n",
      "  but getting flagged wrongly here. Please open an issue if you find any such cases.\n",
      "\n",
      "\n",
      "[3.3039230185175996, 3.2251776693928584]\n"
     ]
    },
    {
     "data": {
      "text/plain": [
       "Index(['wind_speed', 'track_distance', 'total_houses', 'rainfall_max_6h',\n",
       "       'rainfall_max_24h', 'rwi', 'mean_slope', 'std_slope', 'mean_tri',\n",
       "       'std_tri', 'mean_elev', 'coast_length', 'with_coast', 'urban', 'rural',\n",
       "       'water', 'total_pop', 'percent_houses_damaged_5years'],\n",
       "      dtype='object')"
      ]
     },
     "metadata": {},
     "output_type": "display_data"
    },
    {
     "name": "stderr",
     "output_type": "stream",
     "text": [
      "pandas.Int64Index is deprecated and will be removed from pandas in a future version. Use pandas.Index with the appropriate dtype instead.\n"
     ]
    },
    {
     "name": "stdout",
     "output_type": "stream",
     "text": [
      "[12:41:20] WARNING: /Users/runner/miniforge3/conda-bld/xgboost-split_1637426408905/work/src/learner.cc:576: \n",
      "Parameters: { \"early_stopping_rounds\" } might not be used.\n",
      "\n",
      "  This could be a false alarm, with some parameters getting used by language bindings but\n",
      "  then being mistakenly passed down to XGBoost core, or some parameter actually being used\n",
      "  but getting flagged wrongly here. Please open an issue if you find any such cases.\n",
      "\n",
      "\n",
      "Counter({0: 38948, 1: 855})\n",
      "Counter({0: 8550, 1: 855})\n"
     ]
    },
    {
     "name": "stderr",
     "output_type": "stream",
     "text": [
      "The use of label encoder in XGBClassifier is deprecated and will be removed in a future release. To remove this warning, do the following: 1) Pass option use_label_encoder=False when constructing XGBClassifier object; and 2) Encode your labels (y) as integers starting with 0, i.e. 0, 1, 2, ..., [num_class - 1].\n",
      "pandas.Int64Index is deprecated and will be removed from pandas in a future version. Use pandas.Index with the appropriate dtype instead.\n"
     ]
    },
    {
     "data": {
      "text/plain": [
       "Index(['wind_speed', 'track_distance', 'total_houses', 'rainfall_max_6h',\n",
       "       'rainfall_max_24h', 'rwi', 'mean_slope', 'std_slope', 'mean_tri',\n",
       "       'std_tri', 'mean_elev', 'coast_length', 'with_coast', 'urban', 'rural',\n",
       "       'water', 'total_pop', 'percent_houses_damaged_5years'],\n",
       "      dtype='object')"
      ]
     },
     "metadata": {},
     "output_type": "display_data"
    },
    {
     "name": "stderr",
     "output_type": "stream",
     "text": [
      "pandas.Int64Index is deprecated and will be removed from pandas in a future version. Use pandas.Index with the appropriate dtype instead.\n",
      "\n",
      "A value is trying to be set on a copy of a slice from a DataFrame.\n",
      "Try using .loc[row_indexer,col_indexer] = value instead\n",
      "\n",
      "See the caveats in the documentation: https://pandas.pydata.org/pandas-docs/stable/user_guide/indexing.html#returning-a-view-versus-a-copy\n",
      "\n",
      "A value is trying to be set on a copy of a slice from a DataFrame.\n",
      "Try using .loc[row_indexer,col_indexer] = value instead\n",
      "\n",
      "See the caveats in the documentation: https://pandas.pydata.org/pandas-docs/stable/user_guide/indexing.html#returning-a-view-versus-a-copy\n"
     ]
    },
    {
     "name": "stdout",
     "output_type": "stream",
     "text": [
      "[12:41:23] WARNING: /Users/runner/miniforge3/conda-bld/xgboost-split_1637426408905/work/src/learner.cc:576: \n",
      "Parameters: { \"early_stopping_rounds\" } might not be used.\n",
      "\n",
      "  This could be a false alarm, with some parameters getting used by language bindings but\n",
      "  then being mistakenly passed down to XGBoost core, or some parameter actually being used\n",
      "  but getting flagged wrongly here. Please open an issue if you find any such cases.\n",
      "\n",
      "\n",
      "[3.3039230185175996, 3.2251776693928584, 3.2664871102805275]\n"
     ]
    },
    {
     "data": {
      "text/plain": [
       "Index(['wind_speed', 'track_distance', 'total_houses', 'rainfall_max_6h',\n",
       "       'rainfall_max_24h', 'rwi', 'mean_slope', 'std_slope', 'mean_tri',\n",
       "       'std_tri', 'mean_elev', 'coast_length', 'with_coast', 'urban', 'rural',\n",
       "       'water', 'total_pop', 'percent_houses_damaged_5years'],\n",
       "      dtype='object')"
      ]
     },
     "metadata": {},
     "output_type": "display_data"
    },
    {
     "name": "stderr",
     "output_type": "stream",
     "text": [
      "pandas.Int64Index is deprecated and will be removed from pandas in a future version. Use pandas.Index with the appropriate dtype instead.\n"
     ]
    },
    {
     "name": "stdout",
     "output_type": "stream",
     "text": [
      "[12:41:24] WARNING: /Users/runner/miniforge3/conda-bld/xgboost-split_1637426408905/work/src/learner.cc:576: \n",
      "Parameters: { \"early_stopping_rounds\" } might not be used.\n",
      "\n",
      "  This could be a false alarm, with some parameters getting used by language bindings but\n",
      "  then being mistakenly passed down to XGBoost core, or some parameter actually being used\n",
      "  but getting flagged wrongly here. Please open an issue if you find any such cases.\n",
      "\n",
      "\n",
      "Counter({0: 38948, 1: 855})\n",
      "Counter({0: 8550, 1: 855})\n"
     ]
    },
    {
     "name": "stderr",
     "output_type": "stream",
     "text": [
      "The use of label encoder in XGBClassifier is deprecated and will be removed in a future release. To remove this warning, do the following: 1) Pass option use_label_encoder=False when constructing XGBClassifier object; and 2) Encode your labels (y) as integers starting with 0, i.e. 0, 1, 2, ..., [num_class - 1].\n",
      "pandas.Int64Index is deprecated and will be removed from pandas in a future version. Use pandas.Index with the appropriate dtype instead.\n"
     ]
    },
    {
     "data": {
      "text/plain": [
       "Index(['wind_speed', 'track_distance', 'total_houses', 'rainfall_max_6h',\n",
       "       'rainfall_max_24h', 'rwi', 'mean_slope', 'std_slope', 'mean_tri',\n",
       "       'std_tri', 'mean_elev', 'coast_length', 'with_coast', 'urban', 'rural',\n",
       "       'water', 'total_pop', 'percent_houses_damaged_5years'],\n",
       "      dtype='object')"
      ]
     },
     "metadata": {},
     "output_type": "display_data"
    },
    {
     "name": "stderr",
     "output_type": "stream",
     "text": [
      "pandas.Int64Index is deprecated and will be removed from pandas in a future version. Use pandas.Index with the appropriate dtype instead.\n",
      "\n",
      "A value is trying to be set on a copy of a slice from a DataFrame.\n",
      "Try using .loc[row_indexer,col_indexer] = value instead\n",
      "\n",
      "See the caveats in the documentation: https://pandas.pydata.org/pandas-docs/stable/user_guide/indexing.html#returning-a-view-versus-a-copy\n",
      "\n",
      "A value is trying to be set on a copy of a slice from a DataFrame.\n",
      "Try using .loc[row_indexer,col_indexer] = value instead\n",
      "\n",
      "See the caveats in the documentation: https://pandas.pydata.org/pandas-docs/stable/user_guide/indexing.html#returning-a-view-versus-a-copy\n"
     ]
    },
    {
     "name": "stdout",
     "output_type": "stream",
     "text": [
      "[12:41:27] WARNING: /Users/runner/miniforge3/conda-bld/xgboost-split_1637426408905/work/src/learner.cc:576: \n",
      "Parameters: { \"early_stopping_rounds\" } might not be used.\n",
      "\n",
      "  This could be a false alarm, with some parameters getting used by language bindings but\n",
      "  then being mistakenly passed down to XGBoost core, or some parameter actually being used\n",
      "  but getting flagged wrongly here. Please open an issue if you find any such cases.\n",
      "\n",
      "\n",
      "[3.3039230185175996, 3.2251776693928584, 3.2664871102805275, 3.501705402397512]\n"
     ]
    },
    {
     "data": {
      "text/plain": [
       "Index(['wind_speed', 'track_distance', 'total_houses', 'rainfall_max_6h',\n",
       "       'rainfall_max_24h', 'rwi', 'mean_slope', 'std_slope', 'mean_tri',\n",
       "       'std_tri', 'mean_elev', 'coast_length', 'with_coast', 'urban', 'rural',\n",
       "       'water', 'total_pop', 'percent_houses_damaged_5years'],\n",
       "      dtype='object')"
      ]
     },
     "metadata": {},
     "output_type": "display_data"
    },
    {
     "name": "stderr",
     "output_type": "stream",
     "text": [
      "pandas.Int64Index is deprecated and will be removed from pandas in a future version. Use pandas.Index with the appropriate dtype instead.\n"
     ]
    },
    {
     "name": "stdout",
     "output_type": "stream",
     "text": [
      "[12:41:28] WARNING: /Users/runner/miniforge3/conda-bld/xgboost-split_1637426408905/work/src/learner.cc:576: \n",
      "Parameters: { \"early_stopping_rounds\" } might not be used.\n",
      "\n",
      "  This could be a false alarm, with some parameters getting used by language bindings but\n",
      "  then being mistakenly passed down to XGBoost core, or some parameter actually being used\n",
      "  but getting flagged wrongly here. Please open an issue if you find any such cases.\n",
      "\n",
      "\n",
      "Counter({0: 38948, 1: 855})\n",
      "Counter({0: 8550, 1: 855})\n"
     ]
    },
    {
     "name": "stderr",
     "output_type": "stream",
     "text": [
      "The use of label encoder in XGBClassifier is deprecated and will be removed in a future release. To remove this warning, do the following: 1) Pass option use_label_encoder=False when constructing XGBClassifier object; and 2) Encode your labels (y) as integers starting with 0, i.e. 0, 1, 2, ..., [num_class - 1].\n",
      "pandas.Int64Index is deprecated and will be removed from pandas in a future version. Use pandas.Index with the appropriate dtype instead.\n"
     ]
    },
    {
     "data": {
      "text/plain": [
       "Index(['wind_speed', 'track_distance', 'total_houses', 'rainfall_max_6h',\n",
       "       'rainfall_max_24h', 'rwi', 'mean_slope', 'std_slope', 'mean_tri',\n",
       "       'std_tri', 'mean_elev', 'coast_length', 'with_coast', 'urban', 'rural',\n",
       "       'water', 'total_pop', 'percent_houses_damaged_5years'],\n",
       "      dtype='object')"
      ]
     },
     "metadata": {},
     "output_type": "display_data"
    },
    {
     "name": "stderr",
     "output_type": "stream",
     "text": [
      "pandas.Int64Index is deprecated and will be removed from pandas in a future version. Use pandas.Index with the appropriate dtype instead.\n",
      "\n",
      "A value is trying to be set on a copy of a slice from a DataFrame.\n",
      "Try using .loc[row_indexer,col_indexer] = value instead\n",
      "\n",
      "See the caveats in the documentation: https://pandas.pydata.org/pandas-docs/stable/user_guide/indexing.html#returning-a-view-versus-a-copy\n",
      "\n",
      "A value is trying to be set on a copy of a slice from a DataFrame.\n",
      "Try using .loc[row_indexer,col_indexer] = value instead\n",
      "\n",
      "See the caveats in the documentation: https://pandas.pydata.org/pandas-docs/stable/user_guide/indexing.html#returning-a-view-versus-a-copy\n"
     ]
    },
    {
     "name": "stdout",
     "output_type": "stream",
     "text": [
      "[12:41:31] WARNING: /Users/runner/miniforge3/conda-bld/xgboost-split_1637426408905/work/src/learner.cc:576: \n",
      "Parameters: { \"early_stopping_rounds\" } might not be used.\n",
      "\n",
      "  This could be a false alarm, with some parameters getting used by language bindings but\n",
      "  then being mistakenly passed down to XGBoost core, or some parameter actually being used\n",
      "  but getting flagged wrongly here. Please open an issue if you find any such cases.\n",
      "\n",
      "\n",
      "[3.3039230185175996, 3.2251776693928584, 3.2664871102805275, 3.501705402397512, 3.305824252791194]\n"
     ]
    },
    {
     "data": {
      "text/plain": [
       "Index(['wind_speed', 'track_distance', 'total_houses', 'rainfall_max_6h',\n",
       "       'rainfall_max_24h', 'rwi', 'mean_slope', 'std_slope', 'mean_tri',\n",
       "       'std_tri', 'mean_elev', 'coast_length', 'with_coast', 'urban', 'rural',\n",
       "       'water', 'total_pop', 'percent_houses_damaged_5years'],\n",
       "      dtype='object')"
      ]
     },
     "metadata": {},
     "output_type": "display_data"
    },
    {
     "name": "stderr",
     "output_type": "stream",
     "text": [
      "pandas.Int64Index is deprecated and will be removed from pandas in a future version. Use pandas.Index with the appropriate dtype instead.\n"
     ]
    },
    {
     "name": "stdout",
     "output_type": "stream",
     "text": [
      "[12:41:32] WARNING: /Users/runner/miniforge3/conda-bld/xgboost-split_1637426408905/work/src/learner.cc:576: \n",
      "Parameters: { \"early_stopping_rounds\" } might not be used.\n",
      "\n",
      "  This could be a false alarm, with some parameters getting used by language bindings but\n",
      "  then being mistakenly passed down to XGBoost core, or some parameter actually being used\n",
      "  but getting flagged wrongly here. Please open an issue if you find any such cases.\n",
      "\n",
      "\n",
      "Counter({0: 38948, 1: 855})\n",
      "Counter({0: 8550, 1: 855})\n"
     ]
    },
    {
     "name": "stderr",
     "output_type": "stream",
     "text": [
      "The use of label encoder in XGBClassifier is deprecated and will be removed in a future release. To remove this warning, do the following: 1) Pass option use_label_encoder=False when constructing XGBClassifier object; and 2) Encode your labels (y) as integers starting with 0, i.e. 0, 1, 2, ..., [num_class - 1].\n",
      "pandas.Int64Index is deprecated and will be removed from pandas in a future version. Use pandas.Index with the appropriate dtype instead.\n"
     ]
    },
    {
     "data": {
      "text/plain": [
       "Index(['wind_speed', 'track_distance', 'total_houses', 'rainfall_max_6h',\n",
       "       'rainfall_max_24h', 'rwi', 'mean_slope', 'std_slope', 'mean_tri',\n",
       "       'std_tri', 'mean_elev', 'coast_length', 'with_coast', 'urban', 'rural',\n",
       "       'water', 'total_pop', 'percent_houses_damaged_5years'],\n",
       "      dtype='object')"
      ]
     },
     "metadata": {},
     "output_type": "display_data"
    },
    {
     "name": "stderr",
     "output_type": "stream",
     "text": [
      "pandas.Int64Index is deprecated and will be removed from pandas in a future version. Use pandas.Index with the appropriate dtype instead.\n",
      "\n",
      "A value is trying to be set on a copy of a slice from a DataFrame.\n",
      "Try using .loc[row_indexer,col_indexer] = value instead\n",
      "\n",
      "See the caveats in the documentation: https://pandas.pydata.org/pandas-docs/stable/user_guide/indexing.html#returning-a-view-versus-a-copy\n",
      "\n",
      "A value is trying to be set on a copy of a slice from a DataFrame.\n",
      "Try using .loc[row_indexer,col_indexer] = value instead\n",
      "\n",
      "See the caveats in the documentation: https://pandas.pydata.org/pandas-docs/stable/user_guide/indexing.html#returning-a-view-versus-a-copy\n"
     ]
    },
    {
     "name": "stdout",
     "output_type": "stream",
     "text": [
      "[12:41:36] WARNING: /Users/runner/miniforge3/conda-bld/xgboost-split_1637426408905/work/src/learner.cc:576: \n",
      "Parameters: { \"early_stopping_rounds\" } might not be used.\n",
      "\n",
      "  This could be a false alarm, with some parameters getting used by language bindings but\n",
      "  then being mistakenly passed down to XGBoost core, or some parameter actually being used\n",
      "  but getting flagged wrongly here. Please open an issue if you find any such cases.\n",
      "\n",
      "\n",
      "[3.3039230185175996, 3.2251776693928584, 3.2664871102805275, 3.501705402397512, 3.305824252791194, 3.296356918791896]\n"
     ]
    },
    {
     "data": {
      "text/plain": [
       "Index(['wind_speed', 'track_distance', 'total_houses', 'rainfall_max_6h',\n",
       "       'rainfall_max_24h', 'rwi', 'mean_slope', 'std_slope', 'mean_tri',\n",
       "       'std_tri', 'mean_elev', 'coast_length', 'with_coast', 'urban', 'rural',\n",
       "       'water', 'total_pop', 'percent_houses_damaged_5years'],\n",
       "      dtype='object')"
      ]
     },
     "metadata": {},
     "output_type": "display_data"
    },
    {
     "name": "stderr",
     "output_type": "stream",
     "text": [
      "pandas.Int64Index is deprecated and will be removed from pandas in a future version. Use pandas.Index with the appropriate dtype instead.\n"
     ]
    },
    {
     "name": "stdout",
     "output_type": "stream",
     "text": [
      "[12:41:37] WARNING: /Users/runner/miniforge3/conda-bld/xgboost-split_1637426408905/work/src/learner.cc:576: \n",
      "Parameters: { \"early_stopping_rounds\" } might not be used.\n",
      "\n",
      "  This could be a false alarm, with some parameters getting used by language bindings but\n",
      "  then being mistakenly passed down to XGBoost core, or some parameter actually being used\n",
      "  but getting flagged wrongly here. Please open an issue if you find any such cases.\n",
      "\n",
      "\n",
      "Counter({0: 38948, 1: 855})\n",
      "Counter({0: 8550, 1: 855})\n"
     ]
    },
    {
     "name": "stderr",
     "output_type": "stream",
     "text": [
      "The use of label encoder in XGBClassifier is deprecated and will be removed in a future release. To remove this warning, do the following: 1) Pass option use_label_encoder=False when constructing XGBClassifier object; and 2) Encode your labels (y) as integers starting with 0, i.e. 0, 1, 2, ..., [num_class - 1].\n",
      "pandas.Int64Index is deprecated and will be removed from pandas in a future version. Use pandas.Index with the appropriate dtype instead.\n"
     ]
    },
    {
     "data": {
      "text/plain": [
       "Index(['wind_speed', 'track_distance', 'total_houses', 'rainfall_max_6h',\n",
       "       'rainfall_max_24h', 'rwi', 'mean_slope', 'std_slope', 'mean_tri',\n",
       "       'std_tri', 'mean_elev', 'coast_length', 'with_coast', 'urban', 'rural',\n",
       "       'water', 'total_pop', 'percent_houses_damaged_5years'],\n",
       "      dtype='object')"
      ]
     },
     "metadata": {},
     "output_type": "display_data"
    },
    {
     "name": "stderr",
     "output_type": "stream",
     "text": [
      "pandas.Int64Index is deprecated and will be removed from pandas in a future version. Use pandas.Index with the appropriate dtype instead.\n",
      "\n",
      "A value is trying to be set on a copy of a slice from a DataFrame.\n",
      "Try using .loc[row_indexer,col_indexer] = value instead\n",
      "\n",
      "See the caveats in the documentation: https://pandas.pydata.org/pandas-docs/stable/user_guide/indexing.html#returning-a-view-versus-a-copy\n",
      "\n",
      "A value is trying to be set on a copy of a slice from a DataFrame.\n",
      "Try using .loc[row_indexer,col_indexer] = value instead\n",
      "\n",
      "See the caveats in the documentation: https://pandas.pydata.org/pandas-docs/stable/user_guide/indexing.html#returning-a-view-versus-a-copy\n"
     ]
    },
    {
     "name": "stdout",
     "output_type": "stream",
     "text": [
      "[12:41:40] WARNING: /Users/runner/miniforge3/conda-bld/xgboost-split_1637426408905/work/src/learner.cc:576: \n",
      "Parameters: { \"early_stopping_rounds\" } might not be used.\n",
      "\n",
      "  This could be a false alarm, with some parameters getting used by language bindings but\n",
      "  then being mistakenly passed down to XGBoost core, or some parameter actually being used\n",
      "  but getting flagged wrongly here. Please open an issue if you find any such cases.\n",
      "\n",
      "\n",
      "[3.3039230185175996, 3.2251776693928584, 3.2664871102805275, 3.501705402397512, 3.305824252791194, 3.296356918791896, 3.3195800838714224]\n"
     ]
    },
    {
     "data": {
      "text/plain": [
       "Index(['wind_speed', 'track_distance', 'total_houses', 'rainfall_max_6h',\n",
       "       'rainfall_max_24h', 'rwi', 'mean_slope', 'std_slope', 'mean_tri',\n",
       "       'std_tri', 'mean_elev', 'coast_length', 'with_coast', 'urban', 'rural',\n",
       "       'water', 'total_pop', 'percent_houses_damaged_5years'],\n",
       "      dtype='object')"
      ]
     },
     "metadata": {},
     "output_type": "display_data"
    },
    {
     "name": "stderr",
     "output_type": "stream",
     "text": [
      "pandas.Int64Index is deprecated and will be removed from pandas in a future version. Use pandas.Index with the appropriate dtype instead.\n"
     ]
    },
    {
     "name": "stdout",
     "output_type": "stream",
     "text": [
      "[12:41:41] WARNING: /Users/runner/miniforge3/conda-bld/xgboost-split_1637426408905/work/src/learner.cc:576: \n",
      "Parameters: { \"early_stopping_rounds\" } might not be used.\n",
      "\n",
      "  This could be a false alarm, with some parameters getting used by language bindings but\n",
      "  then being mistakenly passed down to XGBoost core, or some parameter actually being used\n",
      "  but getting flagged wrongly here. Please open an issue if you find any such cases.\n",
      "\n",
      "\n",
      "Counter({0: 38948, 1: 855})\n",
      "Counter({0: 8550, 1: 855})\n"
     ]
    },
    {
     "name": "stderr",
     "output_type": "stream",
     "text": [
      "The use of label encoder in XGBClassifier is deprecated and will be removed in a future release. To remove this warning, do the following: 1) Pass option use_label_encoder=False when constructing XGBClassifier object; and 2) Encode your labels (y) as integers starting with 0, i.e. 0, 1, 2, ..., [num_class - 1].\n",
      "pandas.Int64Index is deprecated and will be removed from pandas in a future version. Use pandas.Index with the appropriate dtype instead.\n"
     ]
    },
    {
     "data": {
      "text/plain": [
       "Index(['wind_speed', 'track_distance', 'total_houses', 'rainfall_max_6h',\n",
       "       'rainfall_max_24h', 'rwi', 'mean_slope', 'std_slope', 'mean_tri',\n",
       "       'std_tri', 'mean_elev', 'coast_length', 'with_coast', 'urban', 'rural',\n",
       "       'water', 'total_pop', 'percent_houses_damaged_5years'],\n",
       "      dtype='object')"
      ]
     },
     "metadata": {},
     "output_type": "display_data"
    },
    {
     "name": "stderr",
     "output_type": "stream",
     "text": [
      "pandas.Int64Index is deprecated and will be removed from pandas in a future version. Use pandas.Index with the appropriate dtype instead.\n",
      "\n",
      "A value is trying to be set on a copy of a slice from a DataFrame.\n",
      "Try using .loc[row_indexer,col_indexer] = value instead\n",
      "\n",
      "See the caveats in the documentation: https://pandas.pydata.org/pandas-docs/stable/user_guide/indexing.html#returning-a-view-versus-a-copy\n",
      "\n",
      "A value is trying to be set on a copy of a slice from a DataFrame.\n",
      "Try using .loc[row_indexer,col_indexer] = value instead\n",
      "\n",
      "See the caveats in the documentation: https://pandas.pydata.org/pandas-docs/stable/user_guide/indexing.html#returning-a-view-versus-a-copy\n"
     ]
    },
    {
     "name": "stdout",
     "output_type": "stream",
     "text": [
      "[12:41:44] WARNING: /Users/runner/miniforge3/conda-bld/xgboost-split_1637426408905/work/src/learner.cc:576: \n",
      "Parameters: { \"early_stopping_rounds\" } might not be used.\n",
      "\n",
      "  This could be a false alarm, with some parameters getting used by language bindings but\n",
      "  then being mistakenly passed down to XGBoost core, or some parameter actually being used\n",
      "  but getting flagged wrongly here. Please open an issue if you find any such cases.\n",
      "\n",
      "\n",
      "[3.3039230185175996, 3.2251776693928584, 3.2664871102805275, 3.501705402397512, 3.305824252791194, 3.296356918791896, 3.3195800838714224, 3.0013254829172755]\n"
     ]
    },
    {
     "data": {
      "text/plain": [
       "Index(['wind_speed', 'track_distance', 'total_houses', 'rainfall_max_6h',\n",
       "       'rainfall_max_24h', 'rwi', 'mean_slope', 'std_slope', 'mean_tri',\n",
       "       'std_tri', 'mean_elev', 'coast_length', 'with_coast', 'urban', 'rural',\n",
       "       'water', 'total_pop', 'percent_houses_damaged_5years'],\n",
       "      dtype='object')"
      ]
     },
     "metadata": {},
     "output_type": "display_data"
    },
    {
     "name": "stderr",
     "output_type": "stream",
     "text": [
      "pandas.Int64Index is deprecated and will be removed from pandas in a future version. Use pandas.Index with the appropriate dtype instead.\n"
     ]
    },
    {
     "name": "stdout",
     "output_type": "stream",
     "text": [
      "[12:41:46] WARNING: /Users/runner/miniforge3/conda-bld/xgboost-split_1637426408905/work/src/learner.cc:576: \n",
      "Parameters: { \"early_stopping_rounds\" } might not be used.\n",
      "\n",
      "  This could be a false alarm, with some parameters getting used by language bindings but\n",
      "  then being mistakenly passed down to XGBoost core, or some parameter actually being used\n",
      "  but getting flagged wrongly here. Please open an issue if you find any such cases.\n",
      "\n",
      "\n",
      "Counter({0: 38948, 1: 855})\n",
      "Counter({0: 8550, 1: 855})\n"
     ]
    },
    {
     "name": "stderr",
     "output_type": "stream",
     "text": [
      "The use of label encoder in XGBClassifier is deprecated and will be removed in a future release. To remove this warning, do the following: 1) Pass option use_label_encoder=False when constructing XGBClassifier object; and 2) Encode your labels (y) as integers starting with 0, i.e. 0, 1, 2, ..., [num_class - 1].\n",
      "pandas.Int64Index is deprecated and will be removed from pandas in a future version. Use pandas.Index with the appropriate dtype instead.\n"
     ]
    },
    {
     "data": {
      "text/plain": [
       "Index(['wind_speed', 'track_distance', 'total_houses', 'rainfall_max_6h',\n",
       "       'rainfall_max_24h', 'rwi', 'mean_slope', 'std_slope', 'mean_tri',\n",
       "       'std_tri', 'mean_elev', 'coast_length', 'with_coast', 'urban', 'rural',\n",
       "       'water', 'total_pop', 'percent_houses_damaged_5years'],\n",
       "      dtype='object')"
      ]
     },
     "metadata": {},
     "output_type": "display_data"
    },
    {
     "name": "stderr",
     "output_type": "stream",
     "text": [
      "pandas.Int64Index is deprecated and will be removed from pandas in a future version. Use pandas.Index with the appropriate dtype instead.\n",
      "\n",
      "A value is trying to be set on a copy of a slice from a DataFrame.\n",
      "Try using .loc[row_indexer,col_indexer] = value instead\n",
      "\n",
      "See the caveats in the documentation: https://pandas.pydata.org/pandas-docs/stable/user_guide/indexing.html#returning-a-view-versus-a-copy\n",
      "\n",
      "A value is trying to be set on a copy of a slice from a DataFrame.\n",
      "Try using .loc[row_indexer,col_indexer] = value instead\n",
      "\n",
      "See the caveats in the documentation: https://pandas.pydata.org/pandas-docs/stable/user_guide/indexing.html#returning-a-view-versus-a-copy\n"
     ]
    },
    {
     "name": "stdout",
     "output_type": "stream",
     "text": [
      "[12:41:49] WARNING: /Users/runner/miniforge3/conda-bld/xgboost-split_1637426408905/work/src/learner.cc:576: \n",
      "Parameters: { \"early_stopping_rounds\" } might not be used.\n",
      "\n",
      "  This could be a false alarm, with some parameters getting used by language bindings but\n",
      "  then being mistakenly passed down to XGBoost core, or some parameter actually being used\n",
      "  but getting flagged wrongly here. Please open an issue if you find any such cases.\n",
      "\n",
      "\n",
      "[3.3039230185175996, 3.2251776693928584, 3.2664871102805275, 3.501705402397512, 3.305824252791194, 3.296356918791896, 3.3195800838714224, 3.0013254829172755, 3.390415771118743]\n"
     ]
    },
    {
     "data": {
      "text/plain": [
       "Index(['wind_speed', 'track_distance', 'total_houses', 'rainfall_max_6h',\n",
       "       'rainfall_max_24h', 'rwi', 'mean_slope', 'std_slope', 'mean_tri',\n",
       "       'std_tri', 'mean_elev', 'coast_length', 'with_coast', 'urban', 'rural',\n",
       "       'water', 'total_pop', 'percent_houses_damaged_5years'],\n",
       "      dtype='object')"
      ]
     },
     "metadata": {},
     "output_type": "display_data"
    },
    {
     "name": "stderr",
     "output_type": "stream",
     "text": [
      "pandas.Int64Index is deprecated and will be removed from pandas in a future version. Use pandas.Index with the appropriate dtype instead.\n"
     ]
    },
    {
     "name": "stdout",
     "output_type": "stream",
     "text": [
      "[12:41:50] WARNING: /Users/runner/miniforge3/conda-bld/xgboost-split_1637426408905/work/src/learner.cc:576: \n",
      "Parameters: { \"early_stopping_rounds\" } might not be used.\n",
      "\n",
      "  This could be a false alarm, with some parameters getting used by language bindings but\n",
      "  then being mistakenly passed down to XGBoost core, or some parameter actually being used\n",
      "  but getting flagged wrongly here. Please open an issue if you find any such cases.\n",
      "\n",
      "\n",
      "Counter({0: 38948, 1: 855})\n",
      "Counter({0: 8550, 1: 855})\n"
     ]
    },
    {
     "name": "stderr",
     "output_type": "stream",
     "text": [
      "The use of label encoder in XGBClassifier is deprecated and will be removed in a future release. To remove this warning, do the following: 1) Pass option use_label_encoder=False when constructing XGBClassifier object; and 2) Encode your labels (y) as integers starting with 0, i.e. 0, 1, 2, ..., [num_class - 1].\n",
      "pandas.Int64Index is deprecated and will be removed from pandas in a future version. Use pandas.Index with the appropriate dtype instead.\n"
     ]
    },
    {
     "data": {
      "text/plain": [
       "Index(['wind_speed', 'track_distance', 'total_houses', 'rainfall_max_6h',\n",
       "       'rainfall_max_24h', 'rwi', 'mean_slope', 'std_slope', 'mean_tri',\n",
       "       'std_tri', 'mean_elev', 'coast_length', 'with_coast', 'urban', 'rural',\n",
       "       'water', 'total_pop', 'percent_houses_damaged_5years'],\n",
       "      dtype='object')"
      ]
     },
     "metadata": {},
     "output_type": "display_data"
    },
    {
     "name": "stderr",
     "output_type": "stream",
     "text": [
      "pandas.Int64Index is deprecated and will be removed from pandas in a future version. Use pandas.Index with the appropriate dtype instead.\n",
      "\n",
      "A value is trying to be set on a copy of a slice from a DataFrame.\n",
      "Try using .loc[row_indexer,col_indexer] = value instead\n",
      "\n",
      "See the caveats in the documentation: https://pandas.pydata.org/pandas-docs/stable/user_guide/indexing.html#returning-a-view-versus-a-copy\n",
      "\n",
      "A value is trying to be set on a copy of a slice from a DataFrame.\n",
      "Try using .loc[row_indexer,col_indexer] = value instead\n",
      "\n",
      "See the caveats in the documentation: https://pandas.pydata.org/pandas-docs/stable/user_guide/indexing.html#returning-a-view-versus-a-copy\n"
     ]
    },
    {
     "name": "stdout",
     "output_type": "stream",
     "text": [
      "[12:41:53] WARNING: /Users/runner/miniforge3/conda-bld/xgboost-split_1637426408905/work/src/learner.cc:576: \n",
      "Parameters: { \"early_stopping_rounds\" } might not be used.\n",
      "\n",
      "  This could be a false alarm, with some parameters getting used by language bindings but\n",
      "  then being mistakenly passed down to XGBoost core, or some parameter actually being used\n",
      "  but getting flagged wrongly here. Please open an issue if you find any such cases.\n",
      "\n",
      "\n",
      "[3.3039230185175996, 3.2251776693928584, 3.2664871102805275, 3.501705402397512, 3.305824252791194, 3.296356918791896, 3.3195800838714224, 3.0013254829172755, 3.390415771118743, 3.397420122675211]\n"
     ]
    },
    {
     "data": {
      "text/plain": [
       "Index(['wind_speed', 'track_distance', 'total_houses', 'rainfall_max_6h',\n",
       "       'rainfall_max_24h', 'rwi', 'mean_slope', 'std_slope', 'mean_tri',\n",
       "       'std_tri', 'mean_elev', 'coast_length', 'with_coast', 'urban', 'rural',\n",
       "       'water', 'total_pop', 'percent_houses_damaged_5years'],\n",
       "      dtype='object')"
      ]
     },
     "metadata": {},
     "output_type": "display_data"
    },
    {
     "name": "stderr",
     "output_type": "stream",
     "text": [
      "pandas.Int64Index is deprecated and will be removed from pandas in a future version. Use pandas.Index with the appropriate dtype instead.\n"
     ]
    },
    {
     "name": "stdout",
     "output_type": "stream",
     "text": [
      "[12:41:54] WARNING: /Users/runner/miniforge3/conda-bld/xgboost-split_1637426408905/work/src/learner.cc:576: \n",
      "Parameters: { \"early_stopping_rounds\" } might not be used.\n",
      "\n",
      "  This could be a false alarm, with some parameters getting used by language bindings but\n",
      "  then being mistakenly passed down to XGBoost core, or some parameter actually being used\n",
      "  but getting flagged wrongly here. Please open an issue if you find any such cases.\n",
      "\n",
      "\n",
      "Counter({0: 38948, 1: 855})\n",
      "Counter({0: 8550, 1: 855})\n"
     ]
    },
    {
     "name": "stderr",
     "output_type": "stream",
     "text": [
      "The use of label encoder in XGBClassifier is deprecated and will be removed in a future release. To remove this warning, do the following: 1) Pass option use_label_encoder=False when constructing XGBClassifier object; and 2) Encode your labels (y) as integers starting with 0, i.e. 0, 1, 2, ..., [num_class - 1].\n",
      "pandas.Int64Index is deprecated and will be removed from pandas in a future version. Use pandas.Index with the appropriate dtype instead.\n"
     ]
    },
    {
     "data": {
      "text/plain": [
       "Index(['wind_speed', 'track_distance', 'total_houses', 'rainfall_max_6h',\n",
       "       'rainfall_max_24h', 'rwi', 'mean_slope', 'std_slope', 'mean_tri',\n",
       "       'std_tri', 'mean_elev', 'coast_length', 'with_coast', 'urban', 'rural',\n",
       "       'water', 'total_pop', 'percent_houses_damaged_5years'],\n",
       "      dtype='object')"
      ]
     },
     "metadata": {},
     "output_type": "display_data"
    },
    {
     "name": "stderr",
     "output_type": "stream",
     "text": [
      "pandas.Int64Index is deprecated and will be removed from pandas in a future version. Use pandas.Index with the appropriate dtype instead.\n",
      "\n",
      "A value is trying to be set on a copy of a slice from a DataFrame.\n",
      "Try using .loc[row_indexer,col_indexer] = value instead\n",
      "\n",
      "See the caveats in the documentation: https://pandas.pydata.org/pandas-docs/stable/user_guide/indexing.html#returning-a-view-versus-a-copy\n",
      "\n",
      "A value is trying to be set on a copy of a slice from a DataFrame.\n",
      "Try using .loc[row_indexer,col_indexer] = value instead\n",
      "\n",
      "See the caveats in the documentation: https://pandas.pydata.org/pandas-docs/stable/user_guide/indexing.html#returning-a-view-versus-a-copy\n"
     ]
    },
    {
     "name": "stdout",
     "output_type": "stream",
     "text": [
      "[12:41:57] WARNING: /Users/runner/miniforge3/conda-bld/xgboost-split_1637426408905/work/src/learner.cc:576: \n",
      "Parameters: { \"early_stopping_rounds\" } might not be used.\n",
      "\n",
      "  This could be a false alarm, with some parameters getting used by language bindings but\n",
      "  then being mistakenly passed down to XGBoost core, or some parameter actually being used\n",
      "  but getting flagged wrongly here. Please open an issue if you find any such cases.\n",
      "\n",
      "\n",
      "[3.3039230185175996, 3.2251776693928584, 3.2664871102805275, 3.501705402397512, 3.305824252791194, 3.296356918791896, 3.3195800838714224, 3.0013254829172755, 3.390415771118743, 3.397420122675211, 3.1853493658818817]\n"
     ]
    },
    {
     "data": {
      "text/plain": [
       "Index(['wind_speed', 'track_distance', 'total_houses', 'rainfall_max_6h',\n",
       "       'rainfall_max_24h', 'rwi', 'mean_slope', 'std_slope', 'mean_tri',\n",
       "       'std_tri', 'mean_elev', 'coast_length', 'with_coast', 'urban', 'rural',\n",
       "       'water', 'total_pop', 'percent_houses_damaged_5years'],\n",
       "      dtype='object')"
      ]
     },
     "metadata": {},
     "output_type": "display_data"
    },
    {
     "name": "stderr",
     "output_type": "stream",
     "text": [
      "pandas.Int64Index is deprecated and will be removed from pandas in a future version. Use pandas.Index with the appropriate dtype instead.\n"
     ]
    },
    {
     "name": "stdout",
     "output_type": "stream",
     "text": [
      "[12:41:59] WARNING: /Users/runner/miniforge3/conda-bld/xgboost-split_1637426408905/work/src/learner.cc:576: \n",
      "Parameters: { \"early_stopping_rounds\" } might not be used.\n",
      "\n",
      "  This could be a false alarm, with some parameters getting used by language bindings but\n",
      "  then being mistakenly passed down to XGBoost core, or some parameter actually being used\n",
      "  but getting flagged wrongly here. Please open an issue if you find any such cases.\n",
      "\n",
      "\n",
      "Counter({0: 38948, 1: 855})\n",
      "Counter({0: 8550, 1: 855})\n"
     ]
    },
    {
     "name": "stderr",
     "output_type": "stream",
     "text": [
      "The use of label encoder in XGBClassifier is deprecated and will be removed in a future release. To remove this warning, do the following: 1) Pass option use_label_encoder=False when constructing XGBClassifier object; and 2) Encode your labels (y) as integers starting with 0, i.e. 0, 1, 2, ..., [num_class - 1].\n",
      "pandas.Int64Index is deprecated and will be removed from pandas in a future version. Use pandas.Index with the appropriate dtype instead.\n"
     ]
    },
    {
     "data": {
      "text/plain": [
       "Index(['wind_speed', 'track_distance', 'total_houses', 'rainfall_max_6h',\n",
       "       'rainfall_max_24h', 'rwi', 'mean_slope', 'std_slope', 'mean_tri',\n",
       "       'std_tri', 'mean_elev', 'coast_length', 'with_coast', 'urban', 'rural',\n",
       "       'water', 'total_pop', 'percent_houses_damaged_5years'],\n",
       "      dtype='object')"
      ]
     },
     "metadata": {},
     "output_type": "display_data"
    },
    {
     "name": "stderr",
     "output_type": "stream",
     "text": [
      "pandas.Int64Index is deprecated and will be removed from pandas in a future version. Use pandas.Index with the appropriate dtype instead.\n",
      "\n",
      "A value is trying to be set on a copy of a slice from a DataFrame.\n",
      "Try using .loc[row_indexer,col_indexer] = value instead\n",
      "\n",
      "See the caveats in the documentation: https://pandas.pydata.org/pandas-docs/stable/user_guide/indexing.html#returning-a-view-versus-a-copy\n",
      "\n",
      "A value is trying to be set on a copy of a slice from a DataFrame.\n",
      "Try using .loc[row_indexer,col_indexer] = value instead\n",
      "\n",
      "See the caveats in the documentation: https://pandas.pydata.org/pandas-docs/stable/user_guide/indexing.html#returning-a-view-versus-a-copy\n"
     ]
    },
    {
     "name": "stdout",
     "output_type": "stream",
     "text": [
      "[12:42:02] WARNING: /Users/runner/miniforge3/conda-bld/xgboost-split_1637426408905/work/src/learner.cc:576: \n",
      "Parameters: { \"early_stopping_rounds\" } might not be used.\n",
      "\n",
      "  This could be a false alarm, with some parameters getting used by language bindings but\n",
      "  then being mistakenly passed down to XGBoost core, or some parameter actually being used\n",
      "  but getting flagged wrongly here. Please open an issue if you find any such cases.\n",
      "\n",
      "\n",
      "[3.3039230185175996, 3.2251776693928584, 3.2664871102805275, 3.501705402397512, 3.305824252791194, 3.296356918791896, 3.3195800838714224, 3.0013254829172755, 3.390415771118743, 3.397420122675211, 3.1853493658818817, 3.280638126314829]\n"
     ]
    },
    {
     "data": {
      "text/plain": [
       "Index(['wind_speed', 'track_distance', 'total_houses', 'rainfall_max_6h',\n",
       "       'rainfall_max_24h', 'rwi', 'mean_slope', 'std_slope', 'mean_tri',\n",
       "       'std_tri', 'mean_elev', 'coast_length', 'with_coast', 'urban', 'rural',\n",
       "       'water', 'total_pop', 'percent_houses_damaged_5years'],\n",
       "      dtype='object')"
      ]
     },
     "metadata": {},
     "output_type": "display_data"
    },
    {
     "name": "stderr",
     "output_type": "stream",
     "text": [
      "pandas.Int64Index is deprecated and will be removed from pandas in a future version. Use pandas.Index with the appropriate dtype instead.\n"
     ]
    },
    {
     "name": "stdout",
     "output_type": "stream",
     "text": [
      "[12:42:03] WARNING: /Users/runner/miniforge3/conda-bld/xgboost-split_1637426408905/work/src/learner.cc:576: \n",
      "Parameters: { \"early_stopping_rounds\" } might not be used.\n",
      "\n",
      "  This could be a false alarm, with some parameters getting used by language bindings but\n",
      "  then being mistakenly passed down to XGBoost core, or some parameter actually being used\n",
      "  but getting flagged wrongly here. Please open an issue if you find any such cases.\n",
      "\n",
      "\n",
      "Counter({0: 38948, 1: 855})\n",
      "Counter({0: 8550, 1: 855})\n"
     ]
    },
    {
     "name": "stderr",
     "output_type": "stream",
     "text": [
      "The use of label encoder in XGBClassifier is deprecated and will be removed in a future release. To remove this warning, do the following: 1) Pass option use_label_encoder=False when constructing XGBClassifier object; and 2) Encode your labels (y) as integers starting with 0, i.e. 0, 1, 2, ..., [num_class - 1].\n",
      "pandas.Int64Index is deprecated and will be removed from pandas in a future version. Use pandas.Index with the appropriate dtype instead.\n"
     ]
    },
    {
     "data": {
      "text/plain": [
       "Index(['wind_speed', 'track_distance', 'total_houses', 'rainfall_max_6h',\n",
       "       'rainfall_max_24h', 'rwi', 'mean_slope', 'std_slope', 'mean_tri',\n",
       "       'std_tri', 'mean_elev', 'coast_length', 'with_coast', 'urban', 'rural',\n",
       "       'water', 'total_pop', 'percent_houses_damaged_5years'],\n",
       "      dtype='object')"
      ]
     },
     "metadata": {},
     "output_type": "display_data"
    },
    {
     "name": "stderr",
     "output_type": "stream",
     "text": [
      "pandas.Int64Index is deprecated and will be removed from pandas in a future version. Use pandas.Index with the appropriate dtype instead.\n",
      "\n",
      "A value is trying to be set on a copy of a slice from a DataFrame.\n",
      "Try using .loc[row_indexer,col_indexer] = value instead\n",
      "\n",
      "See the caveats in the documentation: https://pandas.pydata.org/pandas-docs/stable/user_guide/indexing.html#returning-a-view-versus-a-copy\n",
      "\n",
      "A value is trying to be set on a copy of a slice from a DataFrame.\n",
      "Try using .loc[row_indexer,col_indexer] = value instead\n",
      "\n",
      "See the caveats in the documentation: https://pandas.pydata.org/pandas-docs/stable/user_guide/indexing.html#returning-a-view-versus-a-copy\n"
     ]
    },
    {
     "name": "stdout",
     "output_type": "stream",
     "text": [
      "[12:42:06] WARNING: /Users/runner/miniforge3/conda-bld/xgboost-split_1637426408905/work/src/learner.cc:576: \n",
      "Parameters: { \"early_stopping_rounds\" } might not be used.\n",
      "\n",
      "  This could be a false alarm, with some parameters getting used by language bindings but\n",
      "  then being mistakenly passed down to XGBoost core, or some parameter actually being used\n",
      "  but getting flagged wrongly here. Please open an issue if you find any such cases.\n",
      "\n",
      "\n",
      "[3.3039230185175996, 3.2251776693928584, 3.2664871102805275, 3.501705402397512, 3.305824252791194, 3.296356918791896, 3.3195800838714224, 3.0013254829172755, 3.390415771118743, 3.397420122675211, 3.1853493658818817, 3.280638126314829, 3.177206168687014]\n"
     ]
    },
    {
     "data": {
      "text/plain": [
       "Index(['wind_speed', 'track_distance', 'total_houses', 'rainfall_max_6h',\n",
       "       'rainfall_max_24h', 'rwi', 'mean_slope', 'std_slope', 'mean_tri',\n",
       "       'std_tri', 'mean_elev', 'coast_length', 'with_coast', 'urban', 'rural',\n",
       "       'water', 'total_pop', 'percent_houses_damaged_5years'],\n",
       "      dtype='object')"
      ]
     },
     "metadata": {},
     "output_type": "display_data"
    },
    {
     "name": "stderr",
     "output_type": "stream",
     "text": [
      "pandas.Int64Index is deprecated and will be removed from pandas in a future version. Use pandas.Index with the appropriate dtype instead.\n"
     ]
    },
    {
     "name": "stdout",
     "output_type": "stream",
     "text": [
      "[12:42:08] WARNING: /Users/runner/miniforge3/conda-bld/xgboost-split_1637426408905/work/src/learner.cc:576: \n",
      "Parameters: { \"early_stopping_rounds\" } might not be used.\n",
      "\n",
      "  This could be a false alarm, with some parameters getting used by language bindings but\n",
      "  then being mistakenly passed down to XGBoost core, or some parameter actually being used\n",
      "  but getting flagged wrongly here. Please open an issue if you find any such cases.\n",
      "\n",
      "\n",
      "Counter({0: 38948, 1: 855})\n",
      "Counter({0: 8550, 1: 855})\n"
     ]
    },
    {
     "name": "stderr",
     "output_type": "stream",
     "text": [
      "The use of label encoder in XGBClassifier is deprecated and will be removed in a future release. To remove this warning, do the following: 1) Pass option use_label_encoder=False when constructing XGBClassifier object; and 2) Encode your labels (y) as integers starting with 0, i.e. 0, 1, 2, ..., [num_class - 1].\n",
      "pandas.Int64Index is deprecated and will be removed from pandas in a future version. Use pandas.Index with the appropriate dtype instead.\n"
     ]
    },
    {
     "data": {
      "text/plain": [
       "Index(['wind_speed', 'track_distance', 'total_houses', 'rainfall_max_6h',\n",
       "       'rainfall_max_24h', 'rwi', 'mean_slope', 'std_slope', 'mean_tri',\n",
       "       'std_tri', 'mean_elev', 'coast_length', 'with_coast', 'urban', 'rural',\n",
       "       'water', 'total_pop', 'percent_houses_damaged_5years'],\n",
       "      dtype='object')"
      ]
     },
     "metadata": {},
     "output_type": "display_data"
    },
    {
     "name": "stderr",
     "output_type": "stream",
     "text": [
      "pandas.Int64Index is deprecated and will be removed from pandas in a future version. Use pandas.Index with the appropriate dtype instead.\n",
      "\n",
      "A value is trying to be set on a copy of a slice from a DataFrame.\n",
      "Try using .loc[row_indexer,col_indexer] = value instead\n",
      "\n",
      "See the caveats in the documentation: https://pandas.pydata.org/pandas-docs/stable/user_guide/indexing.html#returning-a-view-versus-a-copy\n",
      "\n",
      "A value is trying to be set on a copy of a slice from a DataFrame.\n",
      "Try using .loc[row_indexer,col_indexer] = value instead\n",
      "\n",
      "See the caveats in the documentation: https://pandas.pydata.org/pandas-docs/stable/user_guide/indexing.html#returning-a-view-versus-a-copy\n"
     ]
    },
    {
     "name": "stdout",
     "output_type": "stream",
     "text": [
      "[12:42:11] WARNING: /Users/runner/miniforge3/conda-bld/xgboost-split_1637426408905/work/src/learner.cc:576: \n",
      "Parameters: { \"early_stopping_rounds\" } might not be used.\n",
      "\n",
      "  This could be a false alarm, with some parameters getting used by language bindings but\n",
      "  then being mistakenly passed down to XGBoost core, or some parameter actually being used\n",
      "  but getting flagged wrongly here. Please open an issue if you find any such cases.\n",
      "\n",
      "\n",
      "[3.3039230185175996, 3.2251776693928584, 3.2664871102805275, 3.501705402397512, 3.305824252791194, 3.296356918791896, 3.3195800838714224, 3.0013254829172755, 3.390415771118743, 3.397420122675211, 3.1853493658818817, 3.280638126314829, 3.177206168687014, 3.2124364260001848]\n"
     ]
    },
    {
     "data": {
      "text/plain": [
       "Index(['wind_speed', 'track_distance', 'total_houses', 'rainfall_max_6h',\n",
       "       'rainfall_max_24h', 'rwi', 'mean_slope', 'std_slope', 'mean_tri',\n",
       "       'std_tri', 'mean_elev', 'coast_length', 'with_coast', 'urban', 'rural',\n",
       "       'water', 'total_pop', 'percent_houses_damaged_5years'],\n",
       "      dtype='object')"
      ]
     },
     "metadata": {},
     "output_type": "display_data"
    },
    {
     "name": "stderr",
     "output_type": "stream",
     "text": [
      "pandas.Int64Index is deprecated and will be removed from pandas in a future version. Use pandas.Index with the appropriate dtype instead.\n"
     ]
    },
    {
     "name": "stdout",
     "output_type": "stream",
     "text": [
      "[12:42:12] WARNING: /Users/runner/miniforge3/conda-bld/xgboost-split_1637426408905/work/src/learner.cc:576: \n",
      "Parameters: { \"early_stopping_rounds\" } might not be used.\n",
      "\n",
      "  This could be a false alarm, with some parameters getting used by language bindings but\n",
      "  then being mistakenly passed down to XGBoost core, or some parameter actually being used\n",
      "  but getting flagged wrongly here. Please open an issue if you find any such cases.\n",
      "\n",
      "\n",
      "Counter({0: 38948, 1: 855})\n",
      "Counter({0: 8550, 1: 855})\n"
     ]
    },
    {
     "name": "stderr",
     "output_type": "stream",
     "text": [
      "The use of label encoder in XGBClassifier is deprecated and will be removed in a future release. To remove this warning, do the following: 1) Pass option use_label_encoder=False when constructing XGBClassifier object; and 2) Encode your labels (y) as integers starting with 0, i.e. 0, 1, 2, ..., [num_class - 1].\n",
      "pandas.Int64Index is deprecated and will be removed from pandas in a future version. Use pandas.Index with the appropriate dtype instead.\n"
     ]
    },
    {
     "data": {
      "text/plain": [
       "Index(['wind_speed', 'track_distance', 'total_houses', 'rainfall_max_6h',\n",
       "       'rainfall_max_24h', 'rwi', 'mean_slope', 'std_slope', 'mean_tri',\n",
       "       'std_tri', 'mean_elev', 'coast_length', 'with_coast', 'urban', 'rural',\n",
       "       'water', 'total_pop', 'percent_houses_damaged_5years'],\n",
       "      dtype='object')"
      ]
     },
     "metadata": {},
     "output_type": "display_data"
    },
    {
     "name": "stderr",
     "output_type": "stream",
     "text": [
      "pandas.Int64Index is deprecated and will be removed from pandas in a future version. Use pandas.Index with the appropriate dtype instead.\n",
      "\n",
      "A value is trying to be set on a copy of a slice from a DataFrame.\n",
      "Try using .loc[row_indexer,col_indexer] = value instead\n",
      "\n",
      "See the caveats in the documentation: https://pandas.pydata.org/pandas-docs/stable/user_guide/indexing.html#returning-a-view-versus-a-copy\n",
      "\n",
      "A value is trying to be set on a copy of a slice from a DataFrame.\n",
      "Try using .loc[row_indexer,col_indexer] = value instead\n",
      "\n",
      "See the caveats in the documentation: https://pandas.pydata.org/pandas-docs/stable/user_guide/indexing.html#returning-a-view-versus-a-copy\n"
     ]
    },
    {
     "name": "stdout",
     "output_type": "stream",
     "text": [
      "[12:42:15] WARNING: /Users/runner/miniforge3/conda-bld/xgboost-split_1637426408905/work/src/learner.cc:576: \n",
      "Parameters: { \"early_stopping_rounds\" } might not be used.\n",
      "\n",
      "  This could be a false alarm, with some parameters getting used by language bindings but\n",
      "  then being mistakenly passed down to XGBoost core, or some parameter actually being used\n",
      "  but getting flagged wrongly here. Please open an issue if you find any such cases.\n",
      "\n",
      "\n",
      "[3.3039230185175996, 3.2251776693928584, 3.2664871102805275, 3.501705402397512, 3.305824252791194, 3.296356918791896, 3.3195800838714224, 3.0013254829172755, 3.390415771118743, 3.397420122675211, 3.1853493658818817, 3.280638126314829, 3.177206168687014, 3.2124364260001848, 3.5248639642950534]\n"
     ]
    },
    {
     "data": {
      "text/plain": [
       "Index(['wind_speed', 'track_distance', 'total_houses', 'rainfall_max_6h',\n",
       "       'rainfall_max_24h', 'rwi', 'mean_slope', 'std_slope', 'mean_tri',\n",
       "       'std_tri', 'mean_elev', 'coast_length', 'with_coast', 'urban', 'rural',\n",
       "       'water', 'total_pop', 'percent_houses_damaged_5years'],\n",
       "      dtype='object')"
      ]
     },
     "metadata": {},
     "output_type": "display_data"
    },
    {
     "name": "stderr",
     "output_type": "stream",
     "text": [
      "pandas.Int64Index is deprecated and will be removed from pandas in a future version. Use pandas.Index with the appropriate dtype instead.\n"
     ]
    },
    {
     "name": "stdout",
     "output_type": "stream",
     "text": [
      "[12:42:16] WARNING: /Users/runner/miniforge3/conda-bld/xgboost-split_1637426408905/work/src/learner.cc:576: \n",
      "Parameters: { \"early_stopping_rounds\" } might not be used.\n",
      "\n",
      "  This could be a false alarm, with some parameters getting used by language bindings but\n",
      "  then being mistakenly passed down to XGBoost core, or some parameter actually being used\n",
      "  but getting flagged wrongly here. Please open an issue if you find any such cases.\n",
      "\n",
      "\n",
      "Counter({0: 38948, 1: 855})\n",
      "Counter({0: 8550, 1: 855})\n"
     ]
    },
    {
     "name": "stderr",
     "output_type": "stream",
     "text": [
      "The use of label encoder in XGBClassifier is deprecated and will be removed in a future release. To remove this warning, do the following: 1) Pass option use_label_encoder=False when constructing XGBClassifier object; and 2) Encode your labels (y) as integers starting with 0, i.e. 0, 1, 2, ..., [num_class - 1].\n",
      "pandas.Int64Index is deprecated and will be removed from pandas in a future version. Use pandas.Index with the appropriate dtype instead.\n"
     ]
    },
    {
     "data": {
      "text/plain": [
       "Index(['wind_speed', 'track_distance', 'total_houses', 'rainfall_max_6h',\n",
       "       'rainfall_max_24h', 'rwi', 'mean_slope', 'std_slope', 'mean_tri',\n",
       "       'std_tri', 'mean_elev', 'coast_length', 'with_coast', 'urban', 'rural',\n",
       "       'water', 'total_pop', 'percent_houses_damaged_5years'],\n",
       "      dtype='object')"
      ]
     },
     "metadata": {},
     "output_type": "display_data"
    },
    {
     "name": "stderr",
     "output_type": "stream",
     "text": [
      "pandas.Int64Index is deprecated and will be removed from pandas in a future version. Use pandas.Index with the appropriate dtype instead.\n",
      "\n",
      "A value is trying to be set on a copy of a slice from a DataFrame.\n",
      "Try using .loc[row_indexer,col_indexer] = value instead\n",
      "\n",
      "See the caveats in the documentation: https://pandas.pydata.org/pandas-docs/stable/user_guide/indexing.html#returning-a-view-versus-a-copy\n",
      "\n",
      "A value is trying to be set on a copy of a slice from a DataFrame.\n",
      "Try using .loc[row_indexer,col_indexer] = value instead\n",
      "\n",
      "See the caveats in the documentation: https://pandas.pydata.org/pandas-docs/stable/user_guide/indexing.html#returning-a-view-versus-a-copy\n"
     ]
    },
    {
     "name": "stdout",
     "output_type": "stream",
     "text": [
      "[12:42:19] WARNING: /Users/runner/miniforge3/conda-bld/xgboost-split_1637426408905/work/src/learner.cc:576: \n",
      "Parameters: { \"early_stopping_rounds\" } might not be used.\n",
      "\n",
      "  This could be a false alarm, with some parameters getting used by language bindings but\n",
      "  then being mistakenly passed down to XGBoost core, or some parameter actually being used\n",
      "  but getting flagged wrongly here. Please open an issue if you find any such cases.\n",
      "\n",
      "\n",
      "[3.3039230185175996, 3.2251776693928584, 3.2664871102805275, 3.501705402397512, 3.305824252791194, 3.296356918791896, 3.3195800838714224, 3.0013254829172755, 3.390415771118743, 3.397420122675211, 3.1853493658818817, 3.280638126314829, 3.177206168687014, 3.2124364260001848, 3.5248639642950534, 3.077818662641583]\n"
     ]
    },
    {
     "data": {
      "text/plain": [
       "Index(['wind_speed', 'track_distance', 'total_houses', 'rainfall_max_6h',\n",
       "       'rainfall_max_24h', 'rwi', 'mean_slope', 'std_slope', 'mean_tri',\n",
       "       'std_tri', 'mean_elev', 'coast_length', 'with_coast', 'urban', 'rural',\n",
       "       'water', 'total_pop', 'percent_houses_damaged_5years'],\n",
       "      dtype='object')"
      ]
     },
     "metadata": {},
     "output_type": "display_data"
    },
    {
     "name": "stderr",
     "output_type": "stream",
     "text": [
      "pandas.Int64Index is deprecated and will be removed from pandas in a future version. Use pandas.Index with the appropriate dtype instead.\n"
     ]
    },
    {
     "name": "stdout",
     "output_type": "stream",
     "text": [
      "[12:42:21] WARNING: /Users/runner/miniforge3/conda-bld/xgboost-split_1637426408905/work/src/learner.cc:576: \n",
      "Parameters: { \"early_stopping_rounds\" } might not be used.\n",
      "\n",
      "  This could be a false alarm, with some parameters getting used by language bindings but\n",
      "  then being mistakenly passed down to XGBoost core, or some parameter actually being used\n",
      "  but getting flagged wrongly here. Please open an issue if you find any such cases.\n",
      "\n",
      "\n",
      "Counter({0: 38948, 1: 855})\n",
      "Counter({0: 8550, 1: 855})\n"
     ]
    },
    {
     "name": "stderr",
     "output_type": "stream",
     "text": [
      "The use of label encoder in XGBClassifier is deprecated and will be removed in a future release. To remove this warning, do the following: 1) Pass option use_label_encoder=False when constructing XGBClassifier object; and 2) Encode your labels (y) as integers starting with 0, i.e. 0, 1, 2, ..., [num_class - 1].\n",
      "pandas.Int64Index is deprecated and will be removed from pandas in a future version. Use pandas.Index with the appropriate dtype instead.\n"
     ]
    },
    {
     "data": {
      "text/plain": [
       "Index(['wind_speed', 'track_distance', 'total_houses', 'rainfall_max_6h',\n",
       "       'rainfall_max_24h', 'rwi', 'mean_slope', 'std_slope', 'mean_tri',\n",
       "       'std_tri', 'mean_elev', 'coast_length', 'with_coast', 'urban', 'rural',\n",
       "       'water', 'total_pop', 'percent_houses_damaged_5years'],\n",
       "      dtype='object')"
      ]
     },
     "metadata": {},
     "output_type": "display_data"
    },
    {
     "name": "stderr",
     "output_type": "stream",
     "text": [
      "pandas.Int64Index is deprecated and will be removed from pandas in a future version. Use pandas.Index with the appropriate dtype instead.\n",
      "\n",
      "A value is trying to be set on a copy of a slice from a DataFrame.\n",
      "Try using .loc[row_indexer,col_indexer] = value instead\n",
      "\n",
      "See the caveats in the documentation: https://pandas.pydata.org/pandas-docs/stable/user_guide/indexing.html#returning-a-view-versus-a-copy\n",
      "\n",
      "A value is trying to be set on a copy of a slice from a DataFrame.\n",
      "Try using .loc[row_indexer,col_indexer] = value instead\n",
      "\n",
      "See the caveats in the documentation: https://pandas.pydata.org/pandas-docs/stable/user_guide/indexing.html#returning-a-view-versus-a-copy\n"
     ]
    },
    {
     "name": "stdout",
     "output_type": "stream",
     "text": [
      "[12:42:24] WARNING: /Users/runner/miniforge3/conda-bld/xgboost-split_1637426408905/work/src/learner.cc:576: \n",
      "Parameters: { \"early_stopping_rounds\" } might not be used.\n",
      "\n",
      "  This could be a false alarm, with some parameters getting used by language bindings but\n",
      "  then being mistakenly passed down to XGBoost core, or some parameter actually being used\n",
      "  but getting flagged wrongly here. Please open an issue if you find any such cases.\n",
      "\n",
      "\n",
      "[3.3039230185175996, 3.2251776693928584, 3.2664871102805275, 3.501705402397512, 3.305824252791194, 3.296356918791896, 3.3195800838714224, 3.0013254829172755, 3.390415771118743, 3.397420122675211, 3.1853493658818817, 3.280638126314829, 3.177206168687014, 3.2124364260001848, 3.5248639642950534, 3.077818662641583, 3.2854527233305975]\n"
     ]
    },
    {
     "data": {
      "text/plain": [
       "Index(['wind_speed', 'track_distance', 'total_houses', 'rainfall_max_6h',\n",
       "       'rainfall_max_24h', 'rwi', 'mean_slope', 'std_slope', 'mean_tri',\n",
       "       'std_tri', 'mean_elev', 'coast_length', 'with_coast', 'urban', 'rural',\n",
       "       'water', 'total_pop', 'percent_houses_damaged_5years'],\n",
       "      dtype='object')"
      ]
     },
     "metadata": {},
     "output_type": "display_data"
    },
    {
     "name": "stderr",
     "output_type": "stream",
     "text": [
      "pandas.Int64Index is deprecated and will be removed from pandas in a future version. Use pandas.Index with the appropriate dtype instead.\n"
     ]
    },
    {
     "name": "stdout",
     "output_type": "stream",
     "text": [
      "[12:42:25] WARNING: /Users/runner/miniforge3/conda-bld/xgboost-split_1637426408905/work/src/learner.cc:576: \n",
      "Parameters: { \"early_stopping_rounds\" } might not be used.\n",
      "\n",
      "  This could be a false alarm, with some parameters getting used by language bindings but\n",
      "  then being mistakenly passed down to XGBoost core, or some parameter actually being used\n",
      "  but getting flagged wrongly here. Please open an issue if you find any such cases.\n",
      "\n",
      "\n",
      "Counter({0: 38948, 1: 855})\n",
      "Counter({0: 8550, 1: 855})\n"
     ]
    },
    {
     "name": "stderr",
     "output_type": "stream",
     "text": [
      "The use of label encoder in XGBClassifier is deprecated and will be removed in a future release. To remove this warning, do the following: 1) Pass option use_label_encoder=False when constructing XGBClassifier object; and 2) Encode your labels (y) as integers starting with 0, i.e. 0, 1, 2, ..., [num_class - 1].\n",
      "pandas.Int64Index is deprecated and will be removed from pandas in a future version. Use pandas.Index with the appropriate dtype instead.\n"
     ]
    },
    {
     "data": {
      "text/plain": [
       "Index(['wind_speed', 'track_distance', 'total_houses', 'rainfall_max_6h',\n",
       "       'rainfall_max_24h', 'rwi', 'mean_slope', 'std_slope', 'mean_tri',\n",
       "       'std_tri', 'mean_elev', 'coast_length', 'with_coast', 'urban', 'rural',\n",
       "       'water', 'total_pop', 'percent_houses_damaged_5years'],\n",
       "      dtype='object')"
      ]
     },
     "metadata": {},
     "output_type": "display_data"
    },
    {
     "name": "stderr",
     "output_type": "stream",
     "text": [
      "pandas.Int64Index is deprecated and will be removed from pandas in a future version. Use pandas.Index with the appropriate dtype instead.\n",
      "\n",
      "A value is trying to be set on a copy of a slice from a DataFrame.\n",
      "Try using .loc[row_indexer,col_indexer] = value instead\n",
      "\n",
      "See the caveats in the documentation: https://pandas.pydata.org/pandas-docs/stable/user_guide/indexing.html#returning-a-view-versus-a-copy\n",
      "\n",
      "A value is trying to be set on a copy of a slice from a DataFrame.\n",
      "Try using .loc[row_indexer,col_indexer] = value instead\n",
      "\n",
      "See the caveats in the documentation: https://pandas.pydata.org/pandas-docs/stable/user_guide/indexing.html#returning-a-view-versus-a-copy\n"
     ]
    },
    {
     "name": "stdout",
     "output_type": "stream",
     "text": [
      "[12:42:28] WARNING: /Users/runner/miniforge3/conda-bld/xgboost-split_1637426408905/work/src/learner.cc:576: \n",
      "Parameters: { \"early_stopping_rounds\" } might not be used.\n",
      "\n",
      "  This could be a false alarm, with some parameters getting used by language bindings but\n",
      "  then being mistakenly passed down to XGBoost core, or some parameter actually being used\n",
      "  but getting flagged wrongly here. Please open an issue if you find any such cases.\n",
      "\n",
      "\n",
      "[3.3039230185175996, 3.2251776693928584, 3.2664871102805275, 3.501705402397512, 3.305824252791194, 3.296356918791896, 3.3195800838714224, 3.0013254829172755, 3.390415771118743, 3.397420122675211, 3.1853493658818817, 3.280638126314829, 3.177206168687014, 3.2124364260001848, 3.5248639642950534, 3.077818662641583, 3.2854527233305975, 3.411733347618065]\n"
     ]
    },
    {
     "data": {
      "text/plain": [
       "Index(['wind_speed', 'track_distance', 'total_houses', 'rainfall_max_6h',\n",
       "       'rainfall_max_24h', 'rwi', 'mean_slope', 'std_slope', 'mean_tri',\n",
       "       'std_tri', 'mean_elev', 'coast_length', 'with_coast', 'urban', 'rural',\n",
       "       'water', 'total_pop', 'percent_houses_damaged_5years'],\n",
       "      dtype='object')"
      ]
     },
     "metadata": {},
     "output_type": "display_data"
    },
    {
     "name": "stderr",
     "output_type": "stream",
     "text": [
      "pandas.Int64Index is deprecated and will be removed from pandas in a future version. Use pandas.Index with the appropriate dtype instead.\n"
     ]
    },
    {
     "name": "stdout",
     "output_type": "stream",
     "text": [
      "[12:42:30] WARNING: /Users/runner/miniforge3/conda-bld/xgboost-split_1637426408905/work/src/learner.cc:576: \n",
      "Parameters: { \"early_stopping_rounds\" } might not be used.\n",
      "\n",
      "  This could be a false alarm, with some parameters getting used by language bindings but\n",
      "  then being mistakenly passed down to XGBoost core, or some parameter actually being used\n",
      "  but getting flagged wrongly here. Please open an issue if you find any such cases.\n",
      "\n",
      "\n",
      "Counter({0: 38948, 1: 855})\n",
      "Counter({0: 8550, 1: 855})\n"
     ]
    },
    {
     "name": "stderr",
     "output_type": "stream",
     "text": [
      "The use of label encoder in XGBClassifier is deprecated and will be removed in a future release. To remove this warning, do the following: 1) Pass option use_label_encoder=False when constructing XGBClassifier object; and 2) Encode your labels (y) as integers starting with 0, i.e. 0, 1, 2, ..., [num_class - 1].\n",
      "pandas.Int64Index is deprecated and will be removed from pandas in a future version. Use pandas.Index with the appropriate dtype instead.\n"
     ]
    },
    {
     "data": {
      "text/plain": [
       "Index(['wind_speed', 'track_distance', 'total_houses', 'rainfall_max_6h',\n",
       "       'rainfall_max_24h', 'rwi', 'mean_slope', 'std_slope', 'mean_tri',\n",
       "       'std_tri', 'mean_elev', 'coast_length', 'with_coast', 'urban', 'rural',\n",
       "       'water', 'total_pop', 'percent_houses_damaged_5years'],\n",
       "      dtype='object')"
      ]
     },
     "metadata": {},
     "output_type": "display_data"
    },
    {
     "name": "stderr",
     "output_type": "stream",
     "text": [
      "pandas.Int64Index is deprecated and will be removed from pandas in a future version. Use pandas.Index with the appropriate dtype instead.\n",
      "\n",
      "A value is trying to be set on a copy of a slice from a DataFrame.\n",
      "Try using .loc[row_indexer,col_indexer] = value instead\n",
      "\n",
      "See the caveats in the documentation: https://pandas.pydata.org/pandas-docs/stable/user_guide/indexing.html#returning-a-view-versus-a-copy\n",
      "\n",
      "A value is trying to be set on a copy of a slice from a DataFrame.\n",
      "Try using .loc[row_indexer,col_indexer] = value instead\n",
      "\n",
      "See the caveats in the documentation: https://pandas.pydata.org/pandas-docs/stable/user_guide/indexing.html#returning-a-view-versus-a-copy\n"
     ]
    },
    {
     "name": "stdout",
     "output_type": "stream",
     "text": [
      "[12:42:33] WARNING: /Users/runner/miniforge3/conda-bld/xgboost-split_1637426408905/work/src/learner.cc:576: \n",
      "Parameters: { \"early_stopping_rounds\" } might not be used.\n",
      "\n",
      "  This could be a false alarm, with some parameters getting used by language bindings but\n",
      "  then being mistakenly passed down to XGBoost core, or some parameter actually being used\n",
      "  but getting flagged wrongly here. Please open an issue if you find any such cases.\n",
      "\n",
      "\n",
      "[3.3039230185175996, 3.2251776693928584, 3.2664871102805275, 3.501705402397512, 3.305824252791194, 3.296356918791896, 3.3195800838714224, 3.0013254829172755, 3.390415771118743, 3.397420122675211, 3.1853493658818817, 3.280638126314829, 3.177206168687014, 3.2124364260001848, 3.5248639642950534, 3.077818662641583, 3.2854527233305975, 3.411733347618065, 3.174174390975052]\n"
     ]
    },
    {
     "data": {
      "text/plain": [
       "Index(['wind_speed', 'track_distance', 'total_houses', 'rainfall_max_6h',\n",
       "       'rainfall_max_24h', 'rwi', 'mean_slope', 'std_slope', 'mean_tri',\n",
       "       'std_tri', 'mean_elev', 'coast_length', 'with_coast', 'urban', 'rural',\n",
       "       'water', 'total_pop', 'percent_houses_damaged_5years'],\n",
       "      dtype='object')"
      ]
     },
     "metadata": {},
     "output_type": "display_data"
    },
    {
     "name": "stderr",
     "output_type": "stream",
     "text": [
      "pandas.Int64Index is deprecated and will be removed from pandas in a future version. Use pandas.Index with the appropriate dtype instead.\n"
     ]
    },
    {
     "name": "stdout",
     "output_type": "stream",
     "text": [
      "[12:42:34] WARNING: /Users/runner/miniforge3/conda-bld/xgboost-split_1637426408905/work/src/learner.cc:576: \n",
      "Parameters: { \"early_stopping_rounds\" } might not be used.\n",
      "\n",
      "  This could be a false alarm, with some parameters getting used by language bindings but\n",
      "  then being mistakenly passed down to XGBoost core, or some parameter actually being used\n",
      "  but getting flagged wrongly here. Please open an issue if you find any such cases.\n",
      "\n",
      "\n",
      "Counter({0: 38948, 1: 855})\n",
      "Counter({0: 8550, 1: 855})\n"
     ]
    },
    {
     "name": "stderr",
     "output_type": "stream",
     "text": [
      "The use of label encoder in XGBClassifier is deprecated and will be removed in a future release. To remove this warning, do the following: 1) Pass option use_label_encoder=False when constructing XGBClassifier object; and 2) Encode your labels (y) as integers starting with 0, i.e. 0, 1, 2, ..., [num_class - 1].\n",
      "pandas.Int64Index is deprecated and will be removed from pandas in a future version. Use pandas.Index with the appropriate dtype instead.\n"
     ]
    },
    {
     "data": {
      "text/plain": [
       "Index(['wind_speed', 'track_distance', 'total_houses', 'rainfall_max_6h',\n",
       "       'rainfall_max_24h', 'rwi', 'mean_slope', 'std_slope', 'mean_tri',\n",
       "       'std_tri', 'mean_elev', 'coast_length', 'with_coast', 'urban', 'rural',\n",
       "       'water', 'total_pop', 'percent_houses_damaged_5years'],\n",
       "      dtype='object')"
      ]
     },
     "metadata": {},
     "output_type": "display_data"
    },
    {
     "name": "stderr",
     "output_type": "stream",
     "text": [
      "pandas.Int64Index is deprecated and will be removed from pandas in a future version. Use pandas.Index with the appropriate dtype instead.\n",
      "\n",
      "A value is trying to be set on a copy of a slice from a DataFrame.\n",
      "Try using .loc[row_indexer,col_indexer] = value instead\n",
      "\n",
      "See the caveats in the documentation: https://pandas.pydata.org/pandas-docs/stable/user_guide/indexing.html#returning-a-view-versus-a-copy\n",
      "\n",
      "A value is trying to be set on a copy of a slice from a DataFrame.\n",
      "Try using .loc[row_indexer,col_indexer] = value instead\n",
      "\n",
      "See the caveats in the documentation: https://pandas.pydata.org/pandas-docs/stable/user_guide/indexing.html#returning-a-view-versus-a-copy\n"
     ]
    },
    {
     "name": "stdout",
     "output_type": "stream",
     "text": [
      "[12:42:37] WARNING: /Users/runner/miniforge3/conda-bld/xgboost-split_1637426408905/work/src/learner.cc:576: \n",
      "Parameters: { \"early_stopping_rounds\" } might not be used.\n",
      "\n",
      "  This could be a false alarm, with some parameters getting used by language bindings but\n",
      "  then being mistakenly passed down to XGBoost core, or some parameter actually being used\n",
      "  but getting flagged wrongly here. Please open an issue if you find any such cases.\n",
      "\n",
      "\n",
      "[3.3039230185175996, 3.2251776693928584, 3.2664871102805275, 3.501705402397512, 3.305824252791194, 3.296356918791896, 3.3195800838714224, 3.0013254829172755, 3.390415771118743, 3.397420122675211, 3.1853493658818817, 3.280638126314829, 3.177206168687014, 3.2124364260001848, 3.5248639642950534, 3.077818662641583, 3.2854527233305975, 3.411733347618065, 3.174174390975052, 2.974043700209311]\n"
     ]
    },
    {
     "data": {
      "text/plain": [
       "Index(['wind_speed', 'track_distance', 'total_houses', 'rainfall_max_6h',\n",
       "       'rainfall_max_24h', 'rwi', 'mean_slope', 'std_slope', 'mean_tri',\n",
       "       'std_tri', 'mean_elev', 'coast_length', 'with_coast', 'urban', 'rural',\n",
       "       'water', 'total_pop', 'percent_houses_damaged_5years'],\n",
       "      dtype='object')"
      ]
     },
     "metadata": {},
     "output_type": "display_data"
    },
    {
     "name": "stderr",
     "output_type": "stream",
     "text": [
      "pandas.Int64Index is deprecated and will be removed from pandas in a future version. Use pandas.Index with the appropriate dtype instead.\n"
     ]
    },
    {
     "name": "stdout",
     "output_type": "stream",
     "text": [
      "[12:42:38] WARNING: /Users/runner/miniforge3/conda-bld/xgboost-split_1637426408905/work/src/learner.cc:576: \n",
      "Parameters: { \"early_stopping_rounds\" } might not be used.\n",
      "\n",
      "  This could be a false alarm, with some parameters getting used by language bindings but\n",
      "  then being mistakenly passed down to XGBoost core, or some parameter actually being used\n",
      "  but getting flagged wrongly here. Please open an issue if you find any such cases.\n",
      "\n",
      "\n",
      "Counter({0: 38948, 1: 855})\n",
      "Counter({0: 8550, 1: 855})\n"
     ]
    },
    {
     "name": "stderr",
     "output_type": "stream",
     "text": [
      "The use of label encoder in XGBClassifier is deprecated and will be removed in a future release. To remove this warning, do the following: 1) Pass option use_label_encoder=False when constructing XGBClassifier object; and 2) Encode your labels (y) as integers starting with 0, i.e. 0, 1, 2, ..., [num_class - 1].\n",
      "pandas.Int64Index is deprecated and will be removed from pandas in a future version. Use pandas.Index with the appropriate dtype instead.\n"
     ]
    },
    {
     "data": {
      "text/plain": [
       "Index(['wind_speed', 'track_distance', 'total_houses', 'rainfall_max_6h',\n",
       "       'rainfall_max_24h', 'rwi', 'mean_slope', 'std_slope', 'mean_tri',\n",
       "       'std_tri', 'mean_elev', 'coast_length', 'with_coast', 'urban', 'rural',\n",
       "       'water', 'total_pop', 'percent_houses_damaged_5years'],\n",
       "      dtype='object')"
      ]
     },
     "metadata": {},
     "output_type": "display_data"
    },
    {
     "name": "stderr",
     "output_type": "stream",
     "text": [
      "pandas.Int64Index is deprecated and will be removed from pandas in a future version. Use pandas.Index with the appropriate dtype instead.\n",
      "\n",
      "A value is trying to be set on a copy of a slice from a DataFrame.\n",
      "Try using .loc[row_indexer,col_indexer] = value instead\n",
      "\n",
      "See the caveats in the documentation: https://pandas.pydata.org/pandas-docs/stable/user_guide/indexing.html#returning-a-view-versus-a-copy\n",
      "\n",
      "A value is trying to be set on a copy of a slice from a DataFrame.\n",
      "Try using .loc[row_indexer,col_indexer] = value instead\n",
      "\n",
      "See the caveats in the documentation: https://pandas.pydata.org/pandas-docs/stable/user_guide/indexing.html#returning-a-view-versus-a-copy\n"
     ]
    },
    {
     "name": "stdout",
     "output_type": "stream",
     "text": [
      "[12:42:41] WARNING: /Users/runner/miniforge3/conda-bld/xgboost-split_1637426408905/work/src/learner.cc:576: \n",
      "Parameters: { \"early_stopping_rounds\" } might not be used.\n",
      "\n",
      "  This could be a false alarm, with some parameters getting used by language bindings but\n",
      "  then being mistakenly passed down to XGBoost core, or some parameter actually being used\n",
      "  but getting flagged wrongly here. Please open an issue if you find any such cases.\n",
      "\n",
      "\n",
      "[3.3039230185175996, 3.2251776693928584, 3.2664871102805275, 3.501705402397512, 3.305824252791194, 3.296356918791896, 3.3195800838714224, 3.0013254829172755, 3.390415771118743, 3.397420122675211, 3.1853493658818817, 3.280638126314829, 3.177206168687014, 3.2124364260001848, 3.5248639642950534, 3.077818662641583, 3.2854527233305975, 3.411733347618065, 3.174174390975052, 2.974043700209311, 3.4897638171784475]\n"
     ]
    },
    {
     "data": {
      "text/plain": [
       "Index(['wind_speed', 'track_distance', 'total_houses', 'rainfall_max_6h',\n",
       "       'rainfall_max_24h', 'rwi', 'mean_slope', 'std_slope', 'mean_tri',\n",
       "       'std_tri', 'mean_elev', 'coast_length', 'with_coast', 'urban', 'rural',\n",
       "       'water', 'total_pop', 'percent_houses_damaged_5years'],\n",
       "      dtype='object')"
      ]
     },
     "metadata": {},
     "output_type": "display_data"
    },
    {
     "name": "stderr",
     "output_type": "stream",
     "text": [
      "pandas.Int64Index is deprecated and will be removed from pandas in a future version. Use pandas.Index with the appropriate dtype instead.\n"
     ]
    },
    {
     "name": "stdout",
     "output_type": "stream",
     "text": [
      "[12:42:43] WARNING: /Users/runner/miniforge3/conda-bld/xgboost-split_1637426408905/work/src/learner.cc:576: \n",
      "Parameters: { \"early_stopping_rounds\" } might not be used.\n",
      "\n",
      "  This could be a false alarm, with some parameters getting used by language bindings but\n",
      "  then being mistakenly passed down to XGBoost core, or some parameter actually being used\n",
      "  but getting flagged wrongly here. Please open an issue if you find any such cases.\n",
      "\n",
      "\n",
      "Counter({0: 38948, 1: 855})\n",
      "Counter({0: 8550, 1: 855})\n"
     ]
    },
    {
     "name": "stderr",
     "output_type": "stream",
     "text": [
      "The use of label encoder in XGBClassifier is deprecated and will be removed in a future release. To remove this warning, do the following: 1) Pass option use_label_encoder=False when constructing XGBClassifier object; and 2) Encode your labels (y) as integers starting with 0, i.e. 0, 1, 2, ..., [num_class - 1].\n",
      "pandas.Int64Index is deprecated and will be removed from pandas in a future version. Use pandas.Index with the appropriate dtype instead.\n"
     ]
    },
    {
     "data": {
      "text/plain": [
       "Index(['wind_speed', 'track_distance', 'total_houses', 'rainfall_max_6h',\n",
       "       'rainfall_max_24h', 'rwi', 'mean_slope', 'std_slope', 'mean_tri',\n",
       "       'std_tri', 'mean_elev', 'coast_length', 'with_coast', 'urban', 'rural',\n",
       "       'water', 'total_pop', 'percent_houses_damaged_5years'],\n",
       "      dtype='object')"
      ]
     },
     "metadata": {},
     "output_type": "display_data"
    },
    {
     "name": "stderr",
     "output_type": "stream",
     "text": [
      "pandas.Int64Index is deprecated and will be removed from pandas in a future version. Use pandas.Index with the appropriate dtype instead.\n",
      "\n",
      "A value is trying to be set on a copy of a slice from a DataFrame.\n",
      "Try using .loc[row_indexer,col_indexer] = value instead\n",
      "\n",
      "See the caveats in the documentation: https://pandas.pydata.org/pandas-docs/stable/user_guide/indexing.html#returning-a-view-versus-a-copy\n",
      "\n",
      "A value is trying to be set on a copy of a slice from a DataFrame.\n",
      "Try using .loc[row_indexer,col_indexer] = value instead\n",
      "\n",
      "See the caveats in the documentation: https://pandas.pydata.org/pandas-docs/stable/user_guide/indexing.html#returning-a-view-versus-a-copy\n"
     ]
    },
    {
     "name": "stdout",
     "output_type": "stream",
     "text": [
      "[12:42:46] WARNING: /Users/runner/miniforge3/conda-bld/xgboost-split_1637426408905/work/src/learner.cc:576: \n",
      "Parameters: { \"early_stopping_rounds\" } might not be used.\n",
      "\n",
      "  This could be a false alarm, with some parameters getting used by language bindings but\n",
      "  then being mistakenly passed down to XGBoost core, or some parameter actually being used\n",
      "  but getting flagged wrongly here. Please open an issue if you find any such cases.\n",
      "\n",
      "\n",
      "[3.3039230185175996, 3.2251776693928584, 3.2664871102805275, 3.501705402397512, 3.305824252791194, 3.296356918791896, 3.3195800838714224, 3.0013254829172755, 3.390415771118743, 3.397420122675211, 3.1853493658818817, 3.280638126314829, 3.177206168687014, 3.2124364260001848, 3.5248639642950534, 3.077818662641583, 3.2854527233305975, 3.411733347618065, 3.174174390975052, 2.974043700209311, 3.4897638171784475, 3.5492651762098353]\n"
     ]
    },
    {
     "data": {
      "text/plain": [
       "Index(['wind_speed', 'track_distance', 'total_houses', 'rainfall_max_6h',\n",
       "       'rainfall_max_24h', 'rwi', 'mean_slope', 'std_slope', 'mean_tri',\n",
       "       'std_tri', 'mean_elev', 'coast_length', 'with_coast', 'urban', 'rural',\n",
       "       'water', 'total_pop', 'percent_houses_damaged_5years'],\n",
       "      dtype='object')"
      ]
     },
     "metadata": {},
     "output_type": "display_data"
    },
    {
     "name": "stderr",
     "output_type": "stream",
     "text": [
      "pandas.Int64Index is deprecated and will be removed from pandas in a future version. Use pandas.Index with the appropriate dtype instead.\n"
     ]
    },
    {
     "name": "stdout",
     "output_type": "stream",
     "text": [
      "[12:42:47] WARNING: /Users/runner/miniforge3/conda-bld/xgboost-split_1637426408905/work/src/learner.cc:576: \n",
      "Parameters: { \"early_stopping_rounds\" } might not be used.\n",
      "\n",
      "  This could be a false alarm, with some parameters getting used by language bindings but\n",
      "  then being mistakenly passed down to XGBoost core, or some parameter actually being used\n",
      "  but getting flagged wrongly here. Please open an issue if you find any such cases.\n",
      "\n",
      "\n",
      "Counter({0: 38948, 1: 855})\n",
      "Counter({0: 8550, 1: 855})\n"
     ]
    },
    {
     "name": "stderr",
     "output_type": "stream",
     "text": [
      "The use of label encoder in XGBClassifier is deprecated and will be removed in a future release. To remove this warning, do the following: 1) Pass option use_label_encoder=False when constructing XGBClassifier object; and 2) Encode your labels (y) as integers starting with 0, i.e. 0, 1, 2, ..., [num_class - 1].\n",
      "pandas.Int64Index is deprecated and will be removed from pandas in a future version. Use pandas.Index with the appropriate dtype instead.\n"
     ]
    },
    {
     "data": {
      "text/plain": [
       "Index(['wind_speed', 'track_distance', 'total_houses', 'rainfall_max_6h',\n",
       "       'rainfall_max_24h', 'rwi', 'mean_slope', 'std_slope', 'mean_tri',\n",
       "       'std_tri', 'mean_elev', 'coast_length', 'with_coast', 'urban', 'rural',\n",
       "       'water', 'total_pop', 'percent_houses_damaged_5years'],\n",
       "      dtype='object')"
      ]
     },
     "metadata": {},
     "output_type": "display_data"
    },
    {
     "name": "stderr",
     "output_type": "stream",
     "text": [
      "pandas.Int64Index is deprecated and will be removed from pandas in a future version. Use pandas.Index with the appropriate dtype instead.\n",
      "\n",
      "A value is trying to be set on a copy of a slice from a DataFrame.\n",
      "Try using .loc[row_indexer,col_indexer] = value instead\n",
      "\n",
      "See the caveats in the documentation: https://pandas.pydata.org/pandas-docs/stable/user_guide/indexing.html#returning-a-view-versus-a-copy\n",
      "\n",
      "A value is trying to be set on a copy of a slice from a DataFrame.\n",
      "Try using .loc[row_indexer,col_indexer] = value instead\n",
      "\n",
      "See the caveats in the documentation: https://pandas.pydata.org/pandas-docs/stable/user_guide/indexing.html#returning-a-view-versus-a-copy\n"
     ]
    },
    {
     "name": "stdout",
     "output_type": "stream",
     "text": [
      "[12:42:50] WARNING: /Users/runner/miniforge3/conda-bld/xgboost-split_1637426408905/work/src/learner.cc:576: \n",
      "Parameters: { \"early_stopping_rounds\" } might not be used.\n",
      "\n",
      "  This could be a false alarm, with some parameters getting used by language bindings but\n",
      "  then being mistakenly passed down to XGBoost core, or some parameter actually being used\n",
      "  but getting flagged wrongly here. Please open an issue if you find any such cases.\n",
      "\n",
      "\n",
      "[3.3039230185175996, 3.2251776693928584, 3.2664871102805275, 3.501705402397512, 3.305824252791194, 3.296356918791896, 3.3195800838714224, 3.0013254829172755, 3.390415771118743, 3.397420122675211, 3.1853493658818817, 3.280638126314829, 3.177206168687014, 3.2124364260001848, 3.5248639642950534, 3.077818662641583, 3.2854527233305975, 3.411733347618065, 3.174174390975052, 2.974043700209311, 3.4897638171784475, 3.5492651762098353, 3.34944955399755]\n"
     ]
    },
    {
     "data": {
      "text/plain": [
       "Index(['wind_speed', 'track_distance', 'total_houses', 'rainfall_max_6h',\n",
       "       'rainfall_max_24h', 'rwi', 'mean_slope', 'std_slope', 'mean_tri',\n",
       "       'std_tri', 'mean_elev', 'coast_length', 'with_coast', 'urban', 'rural',\n",
       "       'water', 'total_pop', 'percent_houses_damaged_5years'],\n",
       "      dtype='object')"
      ]
     },
     "metadata": {},
     "output_type": "display_data"
    },
    {
     "name": "stderr",
     "output_type": "stream",
     "text": [
      "pandas.Int64Index is deprecated and will be removed from pandas in a future version. Use pandas.Index with the appropriate dtype instead.\n"
     ]
    },
    {
     "name": "stdout",
     "output_type": "stream",
     "text": [
      "[12:42:52] WARNING: /Users/runner/miniforge3/conda-bld/xgboost-split_1637426408905/work/src/learner.cc:576: \n",
      "Parameters: { \"early_stopping_rounds\" } might not be used.\n",
      "\n",
      "  This could be a false alarm, with some parameters getting used by language bindings but\n",
      "  then being mistakenly passed down to XGBoost core, or some parameter actually being used\n",
      "  but getting flagged wrongly here. Please open an issue if you find any such cases.\n",
      "\n",
      "\n",
      "Counter({0: 38948, 1: 855})\n",
      "Counter({0: 8550, 1: 855})\n"
     ]
    },
    {
     "name": "stderr",
     "output_type": "stream",
     "text": [
      "The use of label encoder in XGBClassifier is deprecated and will be removed in a future release. To remove this warning, do the following: 1) Pass option use_label_encoder=False when constructing XGBClassifier object; and 2) Encode your labels (y) as integers starting with 0, i.e. 0, 1, 2, ..., [num_class - 1].\n",
      "pandas.Int64Index is deprecated and will be removed from pandas in a future version. Use pandas.Index with the appropriate dtype instead.\n"
     ]
    },
    {
     "data": {
      "text/plain": [
       "Index(['wind_speed', 'track_distance', 'total_houses', 'rainfall_max_6h',\n",
       "       'rainfall_max_24h', 'rwi', 'mean_slope', 'std_slope', 'mean_tri',\n",
       "       'std_tri', 'mean_elev', 'coast_length', 'with_coast', 'urban', 'rural',\n",
       "       'water', 'total_pop', 'percent_houses_damaged_5years'],\n",
       "      dtype='object')"
      ]
     },
     "metadata": {},
     "output_type": "display_data"
    },
    {
     "name": "stderr",
     "output_type": "stream",
     "text": [
      "pandas.Int64Index is deprecated and will be removed from pandas in a future version. Use pandas.Index with the appropriate dtype instead.\n",
      "\n",
      "A value is trying to be set on a copy of a slice from a DataFrame.\n",
      "Try using .loc[row_indexer,col_indexer] = value instead\n",
      "\n",
      "See the caveats in the documentation: https://pandas.pydata.org/pandas-docs/stable/user_guide/indexing.html#returning-a-view-versus-a-copy\n",
      "\n",
      "A value is trying to be set on a copy of a slice from a DataFrame.\n",
      "Try using .loc[row_indexer,col_indexer] = value instead\n",
      "\n",
      "See the caveats in the documentation: https://pandas.pydata.org/pandas-docs/stable/user_guide/indexing.html#returning-a-view-versus-a-copy\n"
     ]
    },
    {
     "name": "stdout",
     "output_type": "stream",
     "text": [
      "[12:42:55] WARNING: /Users/runner/miniforge3/conda-bld/xgboost-split_1637426408905/work/src/learner.cc:576: \n",
      "Parameters: { \"early_stopping_rounds\" } might not be used.\n",
      "\n",
      "  This could be a false alarm, with some parameters getting used by language bindings but\n",
      "  then being mistakenly passed down to XGBoost core, or some parameter actually being used\n",
      "  but getting flagged wrongly here. Please open an issue if you find any such cases.\n",
      "\n",
      "\n",
      "[3.3039230185175996, 3.2251776693928584, 3.2664871102805275, 3.501705402397512, 3.305824252791194, 3.296356918791896, 3.3195800838714224, 3.0013254829172755, 3.390415771118743, 3.397420122675211, 3.1853493658818817, 3.280638126314829, 3.177206168687014, 3.2124364260001848, 3.5248639642950534, 3.077818662641583, 3.2854527233305975, 3.411733347618065, 3.174174390975052, 2.974043700209311, 3.4897638171784475, 3.5492651762098353, 3.34944955399755, 3.4282416663501576]\n"
     ]
    },
    {
     "data": {
      "text/plain": [
       "Index(['wind_speed', 'track_distance', 'total_houses', 'rainfall_max_6h',\n",
       "       'rainfall_max_24h', 'rwi', 'mean_slope', 'std_slope', 'mean_tri',\n",
       "       'std_tri', 'mean_elev', 'coast_length', 'with_coast', 'urban', 'rural',\n",
       "       'water', 'total_pop', 'percent_houses_damaged_5years'],\n",
       "      dtype='object')"
      ]
     },
     "metadata": {},
     "output_type": "display_data"
    },
    {
     "name": "stderr",
     "output_type": "stream",
     "text": [
      "pandas.Int64Index is deprecated and will be removed from pandas in a future version. Use pandas.Index with the appropriate dtype instead.\n"
     ]
    },
    {
     "name": "stdout",
     "output_type": "stream",
     "text": [
      "[12:42:56] WARNING: /Users/runner/miniforge3/conda-bld/xgboost-split_1637426408905/work/src/learner.cc:576: \n",
      "Parameters: { \"early_stopping_rounds\" } might not be used.\n",
      "\n",
      "  This could be a false alarm, with some parameters getting used by language bindings but\n",
      "  then being mistakenly passed down to XGBoost core, or some parameter actually being used\n",
      "  but getting flagged wrongly here. Please open an issue if you find any such cases.\n",
      "\n",
      "\n",
      "Counter({0: 38948, 1: 855})\n",
      "Counter({0: 8550, 1: 855})\n"
     ]
    },
    {
     "name": "stderr",
     "output_type": "stream",
     "text": [
      "The use of label encoder in XGBClassifier is deprecated and will be removed in a future release. To remove this warning, do the following: 1) Pass option use_label_encoder=False when constructing XGBClassifier object; and 2) Encode your labels (y) as integers starting with 0, i.e. 0, 1, 2, ..., [num_class - 1].\n",
      "pandas.Int64Index is deprecated and will be removed from pandas in a future version. Use pandas.Index with the appropriate dtype instead.\n"
     ]
    },
    {
     "data": {
      "text/plain": [
       "Index(['wind_speed', 'track_distance', 'total_houses', 'rainfall_max_6h',\n",
       "       'rainfall_max_24h', 'rwi', 'mean_slope', 'std_slope', 'mean_tri',\n",
       "       'std_tri', 'mean_elev', 'coast_length', 'with_coast', 'urban', 'rural',\n",
       "       'water', 'total_pop', 'percent_houses_damaged_5years'],\n",
       "      dtype='object')"
      ]
     },
     "metadata": {},
     "output_type": "display_data"
    },
    {
     "name": "stderr",
     "output_type": "stream",
     "text": [
      "pandas.Int64Index is deprecated and will be removed from pandas in a future version. Use pandas.Index with the appropriate dtype instead.\n",
      "\n",
      "A value is trying to be set on a copy of a slice from a DataFrame.\n",
      "Try using .loc[row_indexer,col_indexer] = value instead\n",
      "\n",
      "See the caveats in the documentation: https://pandas.pydata.org/pandas-docs/stable/user_guide/indexing.html#returning-a-view-versus-a-copy\n",
      "\n",
      "A value is trying to be set on a copy of a slice from a DataFrame.\n",
      "Try using .loc[row_indexer,col_indexer] = value instead\n",
      "\n",
      "See the caveats in the documentation: https://pandas.pydata.org/pandas-docs/stable/user_guide/indexing.html#returning-a-view-versus-a-copy\n"
     ]
    },
    {
     "name": "stdout",
     "output_type": "stream",
     "text": [
      "[12:42:59] WARNING: /Users/runner/miniforge3/conda-bld/xgboost-split_1637426408905/work/src/learner.cc:576: \n",
      "Parameters: { \"early_stopping_rounds\" } might not be used.\n",
      "\n",
      "  This could be a false alarm, with some parameters getting used by language bindings but\n",
      "  then being mistakenly passed down to XGBoost core, or some parameter actually being used\n",
      "  but getting flagged wrongly here. Please open an issue if you find any such cases.\n",
      "\n",
      "\n",
      "[3.3039230185175996, 3.2251776693928584, 3.2664871102805275, 3.501705402397512, 3.305824252791194, 3.296356918791896, 3.3195800838714224, 3.0013254829172755, 3.390415771118743, 3.397420122675211, 3.1853493658818817, 3.280638126314829, 3.177206168687014, 3.2124364260001848, 3.5248639642950534, 3.077818662641583, 3.2854527233305975, 3.411733347618065, 3.174174390975052, 2.974043700209311, 3.4897638171784475, 3.5492651762098353, 3.34944955399755, 3.4282416663501576, 3.2426885980926214]\n"
     ]
    },
    {
     "data": {
      "text/plain": [
       "Index(['wind_speed', 'track_distance', 'total_houses', 'rainfall_max_6h',\n",
       "       'rainfall_max_24h', 'rwi', 'mean_slope', 'std_slope', 'mean_tri',\n",
       "       'std_tri', 'mean_elev', 'coast_length', 'with_coast', 'urban', 'rural',\n",
       "       'water', 'total_pop', 'percent_houses_damaged_5years'],\n",
       "      dtype='object')"
      ]
     },
     "metadata": {},
     "output_type": "display_data"
    },
    {
     "name": "stderr",
     "output_type": "stream",
     "text": [
      "pandas.Int64Index is deprecated and will be removed from pandas in a future version. Use pandas.Index with the appropriate dtype instead.\n"
     ]
    },
    {
     "name": "stdout",
     "output_type": "stream",
     "text": [
      "[12:43:01] WARNING: /Users/runner/miniforge3/conda-bld/xgboost-split_1637426408905/work/src/learner.cc:576: \n",
      "Parameters: { \"early_stopping_rounds\" } might not be used.\n",
      "\n",
      "  This could be a false alarm, with some parameters getting used by language bindings but\n",
      "  then being mistakenly passed down to XGBoost core, or some parameter actually being used\n",
      "  but getting flagged wrongly here. Please open an issue if you find any such cases.\n",
      "\n",
      "\n",
      "Counter({0: 38948, 1: 855})\n",
      "Counter({0: 8550, 1: 855})\n"
     ]
    },
    {
     "name": "stderr",
     "output_type": "stream",
     "text": [
      "The use of label encoder in XGBClassifier is deprecated and will be removed in a future release. To remove this warning, do the following: 1) Pass option use_label_encoder=False when constructing XGBClassifier object; and 2) Encode your labels (y) as integers starting with 0, i.e. 0, 1, 2, ..., [num_class - 1].\n",
      "pandas.Int64Index is deprecated and will be removed from pandas in a future version. Use pandas.Index with the appropriate dtype instead.\n"
     ]
    },
    {
     "data": {
      "text/plain": [
       "Index(['wind_speed', 'track_distance', 'total_houses', 'rainfall_max_6h',\n",
       "       'rainfall_max_24h', 'rwi', 'mean_slope', 'std_slope', 'mean_tri',\n",
       "       'std_tri', 'mean_elev', 'coast_length', 'with_coast', 'urban', 'rural',\n",
       "       'water', 'total_pop', 'percent_houses_damaged_5years'],\n",
       "      dtype='object')"
      ]
     },
     "metadata": {},
     "output_type": "display_data"
    },
    {
     "name": "stderr",
     "output_type": "stream",
     "text": [
      "pandas.Int64Index is deprecated and will be removed from pandas in a future version. Use pandas.Index with the appropriate dtype instead.\n",
      "\n",
      "A value is trying to be set on a copy of a slice from a DataFrame.\n",
      "Try using .loc[row_indexer,col_indexer] = value instead\n",
      "\n",
      "See the caveats in the documentation: https://pandas.pydata.org/pandas-docs/stable/user_guide/indexing.html#returning-a-view-versus-a-copy\n",
      "\n",
      "A value is trying to be set on a copy of a slice from a DataFrame.\n",
      "Try using .loc[row_indexer,col_indexer] = value instead\n",
      "\n",
      "See the caveats in the documentation: https://pandas.pydata.org/pandas-docs/stable/user_guide/indexing.html#returning-a-view-versus-a-copy\n"
     ]
    },
    {
     "name": "stdout",
     "output_type": "stream",
     "text": [
      "[12:43:04] WARNING: /Users/runner/miniforge3/conda-bld/xgboost-split_1637426408905/work/src/learner.cc:576: \n",
      "Parameters: { \"early_stopping_rounds\" } might not be used.\n",
      "\n",
      "  This could be a false alarm, with some parameters getting used by language bindings but\n",
      "  then being mistakenly passed down to XGBoost core, or some parameter actually being used\n",
      "  but getting flagged wrongly here. Please open an issue if you find any such cases.\n",
      "\n",
      "\n",
      "[3.3039230185175996, 3.2251776693928584, 3.2664871102805275, 3.501705402397512, 3.305824252791194, 3.296356918791896, 3.3195800838714224, 3.0013254829172755, 3.390415771118743, 3.397420122675211, 3.1853493658818817, 3.280638126314829, 3.177206168687014, 3.2124364260001848, 3.5248639642950534, 3.077818662641583, 3.2854527233305975, 3.411733347618065, 3.174174390975052, 2.974043700209311, 3.4897638171784475, 3.5492651762098353, 3.34944955399755, 3.4282416663501576, 3.2426885980926214, 3.4395992206393875]\n"
     ]
    },
    {
     "data": {
      "text/plain": [
       "Index(['wind_speed', 'track_distance', 'total_houses', 'rainfall_max_6h',\n",
       "       'rainfall_max_24h', 'rwi', 'mean_slope', 'std_slope', 'mean_tri',\n",
       "       'std_tri', 'mean_elev', 'coast_length', 'with_coast', 'urban', 'rural',\n",
       "       'water', 'total_pop', 'percent_houses_damaged_5years'],\n",
       "      dtype='object')"
      ]
     },
     "metadata": {},
     "output_type": "display_data"
    },
    {
     "name": "stderr",
     "output_type": "stream",
     "text": [
      "pandas.Int64Index is deprecated and will be removed from pandas in a future version. Use pandas.Index with the appropriate dtype instead.\n"
     ]
    },
    {
     "name": "stdout",
     "output_type": "stream",
     "text": [
      "[12:43:05] WARNING: /Users/runner/miniforge3/conda-bld/xgboost-split_1637426408905/work/src/learner.cc:576: \n",
      "Parameters: { \"early_stopping_rounds\" } might not be used.\n",
      "\n",
      "  This could be a false alarm, with some parameters getting used by language bindings but\n",
      "  then being mistakenly passed down to XGBoost core, or some parameter actually being used\n",
      "  but getting flagged wrongly here. Please open an issue if you find any such cases.\n",
      "\n",
      "\n",
      "Counter({0: 38948, 1: 855})\n",
      "Counter({0: 8550, 1: 855})\n"
     ]
    },
    {
     "name": "stderr",
     "output_type": "stream",
     "text": [
      "The use of label encoder in XGBClassifier is deprecated and will be removed in a future release. To remove this warning, do the following: 1) Pass option use_label_encoder=False when constructing XGBClassifier object; and 2) Encode your labels (y) as integers starting with 0, i.e. 0, 1, 2, ..., [num_class - 1].\n",
      "pandas.Int64Index is deprecated and will be removed from pandas in a future version. Use pandas.Index with the appropriate dtype instead.\n"
     ]
    },
    {
     "data": {
      "text/plain": [
       "Index(['wind_speed', 'track_distance', 'total_houses', 'rainfall_max_6h',\n",
       "       'rainfall_max_24h', 'rwi', 'mean_slope', 'std_slope', 'mean_tri',\n",
       "       'std_tri', 'mean_elev', 'coast_length', 'with_coast', 'urban', 'rural',\n",
       "       'water', 'total_pop', 'percent_houses_damaged_5years'],\n",
       "      dtype='object')"
      ]
     },
     "metadata": {},
     "output_type": "display_data"
    },
    {
     "name": "stderr",
     "output_type": "stream",
     "text": [
      "pandas.Int64Index is deprecated and will be removed from pandas in a future version. Use pandas.Index with the appropriate dtype instead.\n",
      "\n",
      "A value is trying to be set on a copy of a slice from a DataFrame.\n",
      "Try using .loc[row_indexer,col_indexer] = value instead\n",
      "\n",
      "See the caveats in the documentation: https://pandas.pydata.org/pandas-docs/stable/user_guide/indexing.html#returning-a-view-versus-a-copy\n",
      "\n",
      "A value is trying to be set on a copy of a slice from a DataFrame.\n",
      "Try using .loc[row_indexer,col_indexer] = value instead\n",
      "\n",
      "See the caveats in the documentation: https://pandas.pydata.org/pandas-docs/stable/user_guide/indexing.html#returning-a-view-versus-a-copy\n"
     ]
    },
    {
     "name": "stdout",
     "output_type": "stream",
     "text": [
      "[12:43:08] WARNING: /Users/runner/miniforge3/conda-bld/xgboost-split_1637426408905/work/src/learner.cc:576: \n",
      "Parameters: { \"early_stopping_rounds\" } might not be used.\n",
      "\n",
      "  This could be a false alarm, with some parameters getting used by language bindings but\n",
      "  then being mistakenly passed down to XGBoost core, or some parameter actually being used\n",
      "  but getting flagged wrongly here. Please open an issue if you find any such cases.\n",
      "\n",
      "\n",
      "[3.3039230185175996, 3.2251776693928584, 3.2664871102805275, 3.501705402397512, 3.305824252791194, 3.296356918791896, 3.3195800838714224, 3.0013254829172755, 3.390415771118743, 3.397420122675211, 3.1853493658818817, 3.280638126314829, 3.177206168687014, 3.2124364260001848, 3.5248639642950534, 3.077818662641583, 3.2854527233305975, 3.411733347618065, 3.174174390975052, 2.974043700209311, 3.4897638171784475, 3.5492651762098353, 3.34944955399755, 3.4282416663501576, 3.2426885980926214, 3.4395992206393875, 3.371993253233383]\n"
     ]
    },
    {
     "data": {
      "text/plain": [
       "Index(['wind_speed', 'track_distance', 'total_houses', 'rainfall_max_6h',\n",
       "       'rainfall_max_24h', 'rwi', 'mean_slope', 'std_slope', 'mean_tri',\n",
       "       'std_tri', 'mean_elev', 'coast_length', 'with_coast', 'urban', 'rural',\n",
       "       'water', 'total_pop', 'percent_houses_damaged_5years'],\n",
       "      dtype='object')"
      ]
     },
     "metadata": {},
     "output_type": "display_data"
    },
    {
     "name": "stderr",
     "output_type": "stream",
     "text": [
      "pandas.Int64Index is deprecated and will be removed from pandas in a future version. Use pandas.Index with the appropriate dtype instead.\n"
     ]
    },
    {
     "name": "stdout",
     "output_type": "stream",
     "text": [
      "[12:43:09] WARNING: /Users/runner/miniforge3/conda-bld/xgboost-split_1637426408905/work/src/learner.cc:576: \n",
      "Parameters: { \"early_stopping_rounds\" } might not be used.\n",
      "\n",
      "  This could be a false alarm, with some parameters getting used by language bindings but\n",
      "  then being mistakenly passed down to XGBoost core, or some parameter actually being used\n",
      "  but getting flagged wrongly here. Please open an issue if you find any such cases.\n",
      "\n",
      "\n",
      "Counter({0: 38948, 1: 855})\n",
      "Counter({0: 8550, 1: 855})\n"
     ]
    },
    {
     "name": "stderr",
     "output_type": "stream",
     "text": [
      "The use of label encoder in XGBClassifier is deprecated and will be removed in a future release. To remove this warning, do the following: 1) Pass option use_label_encoder=False when constructing XGBClassifier object; and 2) Encode your labels (y) as integers starting with 0, i.e. 0, 1, 2, ..., [num_class - 1].\n",
      "pandas.Int64Index is deprecated and will be removed from pandas in a future version. Use pandas.Index with the appropriate dtype instead.\n"
     ]
    },
    {
     "data": {
      "text/plain": [
       "Index(['wind_speed', 'track_distance', 'total_houses', 'rainfall_max_6h',\n",
       "       'rainfall_max_24h', 'rwi', 'mean_slope', 'std_slope', 'mean_tri',\n",
       "       'std_tri', 'mean_elev', 'coast_length', 'with_coast', 'urban', 'rural',\n",
       "       'water', 'total_pop', 'percent_houses_damaged_5years'],\n",
       "      dtype='object')"
      ]
     },
     "metadata": {},
     "output_type": "display_data"
    },
    {
     "name": "stderr",
     "output_type": "stream",
     "text": [
      "pandas.Int64Index is deprecated and will be removed from pandas in a future version. Use pandas.Index with the appropriate dtype instead.\n",
      "\n",
      "A value is trying to be set on a copy of a slice from a DataFrame.\n",
      "Try using .loc[row_indexer,col_indexer] = value instead\n",
      "\n",
      "See the caveats in the documentation: https://pandas.pydata.org/pandas-docs/stable/user_guide/indexing.html#returning-a-view-versus-a-copy\n",
      "\n",
      "A value is trying to be set on a copy of a slice from a DataFrame.\n",
      "Try using .loc[row_indexer,col_indexer] = value instead\n",
      "\n",
      "See the caveats in the documentation: https://pandas.pydata.org/pandas-docs/stable/user_guide/indexing.html#returning-a-view-versus-a-copy\n"
     ]
    },
    {
     "name": "stdout",
     "output_type": "stream",
     "text": [
      "[12:43:13] WARNING: /Users/runner/miniforge3/conda-bld/xgboost-split_1637426408905/work/src/learner.cc:576: \n",
      "Parameters: { \"early_stopping_rounds\" } might not be used.\n",
      "\n",
      "  This could be a false alarm, with some parameters getting used by language bindings but\n",
      "  then being mistakenly passed down to XGBoost core, or some parameter actually being used\n",
      "  but getting flagged wrongly here. Please open an issue if you find any such cases.\n",
      "\n",
      "\n",
      "[3.3039230185175996, 3.2251776693928584, 3.2664871102805275, 3.501705402397512, 3.305824252791194, 3.296356918791896, 3.3195800838714224, 3.0013254829172755, 3.390415771118743, 3.397420122675211, 3.1853493658818817, 3.280638126314829, 3.177206168687014, 3.2124364260001848, 3.5248639642950534, 3.077818662641583, 3.2854527233305975, 3.411733347618065, 3.174174390975052, 2.974043700209311, 3.4897638171784475, 3.5492651762098353, 3.34944955399755, 3.4282416663501576, 3.2426885980926214, 3.4395992206393875, 3.371993253233383, 3.2604809673680433]\n"
     ]
    },
    {
     "data": {
      "text/plain": [
       "Index(['wind_speed', 'track_distance', 'total_houses', 'rainfall_max_6h',\n",
       "       'rainfall_max_24h', 'rwi', 'mean_slope', 'std_slope', 'mean_tri',\n",
       "       'std_tri', 'mean_elev', 'coast_length', 'with_coast', 'urban', 'rural',\n",
       "       'water', 'total_pop', 'percent_houses_damaged_5years'],\n",
       "      dtype='object')"
      ]
     },
     "metadata": {},
     "output_type": "display_data"
    },
    {
     "name": "stderr",
     "output_type": "stream",
     "text": [
      "pandas.Int64Index is deprecated and will be removed from pandas in a future version. Use pandas.Index with the appropriate dtype instead.\n"
     ]
    },
    {
     "name": "stdout",
     "output_type": "stream",
     "text": [
      "[12:43:14] WARNING: /Users/runner/miniforge3/conda-bld/xgboost-split_1637426408905/work/src/learner.cc:576: \n",
      "Parameters: { \"early_stopping_rounds\" } might not be used.\n",
      "\n",
      "  This could be a false alarm, with some parameters getting used by language bindings but\n",
      "  then being mistakenly passed down to XGBoost core, or some parameter actually being used\n",
      "  but getting flagged wrongly here. Please open an issue if you find any such cases.\n",
      "\n",
      "\n",
      "Counter({0: 38948, 1: 855})\n",
      "Counter({0: 8550, 1: 855})\n"
     ]
    },
    {
     "name": "stderr",
     "output_type": "stream",
     "text": [
      "The use of label encoder in XGBClassifier is deprecated and will be removed in a future release. To remove this warning, do the following: 1) Pass option use_label_encoder=False when constructing XGBClassifier object; and 2) Encode your labels (y) as integers starting with 0, i.e. 0, 1, 2, ..., [num_class - 1].\n",
      "pandas.Int64Index is deprecated and will be removed from pandas in a future version. Use pandas.Index with the appropriate dtype instead.\n"
     ]
    },
    {
     "data": {
      "text/plain": [
       "Index(['wind_speed', 'track_distance', 'total_houses', 'rainfall_max_6h',\n",
       "       'rainfall_max_24h', 'rwi', 'mean_slope', 'std_slope', 'mean_tri',\n",
       "       'std_tri', 'mean_elev', 'coast_length', 'with_coast', 'urban', 'rural',\n",
       "       'water', 'total_pop', 'percent_houses_damaged_5years'],\n",
       "      dtype='object')"
      ]
     },
     "metadata": {},
     "output_type": "display_data"
    },
    {
     "name": "stderr",
     "output_type": "stream",
     "text": [
      "pandas.Int64Index is deprecated and will be removed from pandas in a future version. Use pandas.Index with the appropriate dtype instead.\n",
      "\n",
      "A value is trying to be set on a copy of a slice from a DataFrame.\n",
      "Try using .loc[row_indexer,col_indexer] = value instead\n",
      "\n",
      "See the caveats in the documentation: https://pandas.pydata.org/pandas-docs/stable/user_guide/indexing.html#returning-a-view-versus-a-copy\n",
      "\n",
      "A value is trying to be set on a copy of a slice from a DataFrame.\n",
      "Try using .loc[row_indexer,col_indexer] = value instead\n",
      "\n",
      "See the caveats in the documentation: https://pandas.pydata.org/pandas-docs/stable/user_guide/indexing.html#returning-a-view-versus-a-copy\n"
     ]
    },
    {
     "name": "stdout",
     "output_type": "stream",
     "text": [
      "[12:43:17] WARNING: /Users/runner/miniforge3/conda-bld/xgboost-split_1637426408905/work/src/learner.cc:576: \n",
      "Parameters: { \"early_stopping_rounds\" } might not be used.\n",
      "\n",
      "  This could be a false alarm, with some parameters getting used by language bindings but\n",
      "  then being mistakenly passed down to XGBoost core, or some parameter actually being used\n",
      "  but getting flagged wrongly here. Please open an issue if you find any such cases.\n",
      "\n",
      "\n",
      "[3.3039230185175996, 3.2251776693928584, 3.2664871102805275, 3.501705402397512, 3.305824252791194, 3.296356918791896, 3.3195800838714224, 3.0013254829172755, 3.390415771118743, 3.397420122675211, 3.1853493658818817, 3.280638126314829, 3.177206168687014, 3.2124364260001848, 3.5248639642950534, 3.077818662641583, 3.2854527233305975, 3.411733347618065, 3.174174390975052, 2.974043700209311, 3.4897638171784475, 3.5492651762098353, 3.34944955399755, 3.4282416663501576, 3.2426885980926214, 3.4395992206393875, 3.371993253233383, 3.2604809673680433, 3.0973052984821194]\n"
     ]
    },
    {
     "data": {
      "text/plain": [
       "Index(['wind_speed', 'track_distance', 'total_houses', 'rainfall_max_6h',\n",
       "       'rainfall_max_24h', 'rwi', 'mean_slope', 'std_slope', 'mean_tri',\n",
       "       'std_tri', 'mean_elev', 'coast_length', 'with_coast', 'urban', 'rural',\n",
       "       'water', 'total_pop', 'percent_houses_damaged_5years'],\n",
       "      dtype='object')"
      ]
     },
     "metadata": {},
     "output_type": "display_data"
    },
    {
     "name": "stderr",
     "output_type": "stream",
     "text": [
      "pandas.Int64Index is deprecated and will be removed from pandas in a future version. Use pandas.Index with the appropriate dtype instead.\n"
     ]
    },
    {
     "name": "stdout",
     "output_type": "stream",
     "text": [
      "[12:43:18] WARNING: /Users/runner/miniforge3/conda-bld/xgboost-split_1637426408905/work/src/learner.cc:576: \n",
      "Parameters: { \"early_stopping_rounds\" } might not be used.\n",
      "\n",
      "  This could be a false alarm, with some parameters getting used by language bindings but\n",
      "  then being mistakenly passed down to XGBoost core, or some parameter actually being used\n",
      "  but getting flagged wrongly here. Please open an issue if you find any such cases.\n",
      "\n",
      "\n",
      "Counter({0: 38948, 1: 855})\n",
      "Counter({0: 8550, 1: 855})\n"
     ]
    },
    {
     "name": "stderr",
     "output_type": "stream",
     "text": [
      "The use of label encoder in XGBClassifier is deprecated and will be removed in a future release. To remove this warning, do the following: 1) Pass option use_label_encoder=False when constructing XGBClassifier object; and 2) Encode your labels (y) as integers starting with 0, i.e. 0, 1, 2, ..., [num_class - 1].\n",
      "pandas.Int64Index is deprecated and will be removed from pandas in a future version. Use pandas.Index with the appropriate dtype instead.\n"
     ]
    },
    {
     "data": {
      "text/plain": [
       "Index(['wind_speed', 'track_distance', 'total_houses', 'rainfall_max_6h',\n",
       "       'rainfall_max_24h', 'rwi', 'mean_slope', 'std_slope', 'mean_tri',\n",
       "       'std_tri', 'mean_elev', 'coast_length', 'with_coast', 'urban', 'rural',\n",
       "       'water', 'total_pop', 'percent_houses_damaged_5years'],\n",
       "      dtype='object')"
      ]
     },
     "metadata": {},
     "output_type": "display_data"
    },
    {
     "name": "stderr",
     "output_type": "stream",
     "text": [
      "pandas.Int64Index is deprecated and will be removed from pandas in a future version. Use pandas.Index with the appropriate dtype instead.\n",
      "\n",
      "A value is trying to be set on a copy of a slice from a DataFrame.\n",
      "Try using .loc[row_indexer,col_indexer] = value instead\n",
      "\n",
      "See the caveats in the documentation: https://pandas.pydata.org/pandas-docs/stable/user_guide/indexing.html#returning-a-view-versus-a-copy\n",
      "\n",
      "A value is trying to be set on a copy of a slice from a DataFrame.\n",
      "Try using .loc[row_indexer,col_indexer] = value instead\n",
      "\n",
      "See the caveats in the documentation: https://pandas.pydata.org/pandas-docs/stable/user_guide/indexing.html#returning-a-view-versus-a-copy\n"
     ]
    },
    {
     "name": "stdout",
     "output_type": "stream",
     "text": [
      "[12:43:22] WARNING: /Users/runner/miniforge3/conda-bld/xgboost-split_1637426408905/work/src/learner.cc:576: \n",
      "Parameters: { \"early_stopping_rounds\" } might not be used.\n",
      "\n",
      "  This could be a false alarm, with some parameters getting used by language bindings but\n",
      "  then being mistakenly passed down to XGBoost core, or some parameter actually being used\n",
      "  but getting flagged wrongly here. Please open an issue if you find any such cases.\n",
      "\n",
      "\n",
      "[3.3039230185175996, 3.2251776693928584, 3.2664871102805275, 3.501705402397512, 3.305824252791194, 3.296356918791896, 3.3195800838714224, 3.0013254829172755, 3.390415771118743, 3.397420122675211, 3.1853493658818817, 3.280638126314829, 3.177206168687014, 3.2124364260001848, 3.5248639642950534, 3.077818662641583, 3.2854527233305975, 3.411733347618065, 3.174174390975052, 2.974043700209311, 3.4897638171784475, 3.5492651762098353, 3.34944955399755, 3.4282416663501576, 3.2426885980926214, 3.4395992206393875, 3.371993253233383, 3.2604809673680433, 3.0973052984821194, 3.231039434930128]\n"
     ]
    },
    {
     "data": {
      "text/plain": [
       "Index(['wind_speed', 'track_distance', 'total_houses', 'rainfall_max_6h',\n",
       "       'rainfall_max_24h', 'rwi', 'mean_slope', 'std_slope', 'mean_tri',\n",
       "       'std_tri', 'mean_elev', 'coast_length', 'with_coast', 'urban', 'rural',\n",
       "       'water', 'total_pop', 'percent_houses_damaged_5years'],\n",
       "      dtype='object')"
      ]
     },
     "metadata": {},
     "output_type": "display_data"
    },
    {
     "name": "stderr",
     "output_type": "stream",
     "text": [
      "pandas.Int64Index is deprecated and will be removed from pandas in a future version. Use pandas.Index with the appropriate dtype instead.\n"
     ]
    },
    {
     "name": "stdout",
     "output_type": "stream",
     "text": [
      "[12:43:23] WARNING: /Users/runner/miniforge3/conda-bld/xgboost-split_1637426408905/work/src/learner.cc:576: \n",
      "Parameters: { \"early_stopping_rounds\" } might not be used.\n",
      "\n",
      "  This could be a false alarm, with some parameters getting used by language bindings but\n",
      "  then being mistakenly passed down to XGBoost core, or some parameter actually being used\n",
      "  but getting flagged wrongly here. Please open an issue if you find any such cases.\n",
      "\n",
      "\n",
      "Counter({0: 38948, 1: 855})\n",
      "Counter({0: 8550, 1: 855})\n"
     ]
    },
    {
     "name": "stderr",
     "output_type": "stream",
     "text": [
      "The use of label encoder in XGBClassifier is deprecated and will be removed in a future release. To remove this warning, do the following: 1) Pass option use_label_encoder=False when constructing XGBClassifier object; and 2) Encode your labels (y) as integers starting with 0, i.e. 0, 1, 2, ..., [num_class - 1].\n",
      "pandas.Int64Index is deprecated and will be removed from pandas in a future version. Use pandas.Index with the appropriate dtype instead.\n"
     ]
    },
    {
     "data": {
      "text/plain": [
       "Index(['wind_speed', 'track_distance', 'total_houses', 'rainfall_max_6h',\n",
       "       'rainfall_max_24h', 'rwi', 'mean_slope', 'std_slope', 'mean_tri',\n",
       "       'std_tri', 'mean_elev', 'coast_length', 'with_coast', 'urban', 'rural',\n",
       "       'water', 'total_pop', 'percent_houses_damaged_5years'],\n",
       "      dtype='object')"
      ]
     },
     "metadata": {},
     "output_type": "display_data"
    },
    {
     "name": "stderr",
     "output_type": "stream",
     "text": [
      "pandas.Int64Index is deprecated and will be removed from pandas in a future version. Use pandas.Index with the appropriate dtype instead.\n",
      "\n",
      "A value is trying to be set on a copy of a slice from a DataFrame.\n",
      "Try using .loc[row_indexer,col_indexer] = value instead\n",
      "\n",
      "See the caveats in the documentation: https://pandas.pydata.org/pandas-docs/stable/user_guide/indexing.html#returning-a-view-versus-a-copy\n",
      "\n",
      "A value is trying to be set on a copy of a slice from a DataFrame.\n",
      "Try using .loc[row_indexer,col_indexer] = value instead\n",
      "\n",
      "See the caveats in the documentation: https://pandas.pydata.org/pandas-docs/stable/user_guide/indexing.html#returning-a-view-versus-a-copy\n"
     ]
    },
    {
     "name": "stdout",
     "output_type": "stream",
     "text": [
      "[12:43:26] WARNING: /Users/runner/miniforge3/conda-bld/xgboost-split_1637426408905/work/src/learner.cc:576: \n",
      "Parameters: { \"early_stopping_rounds\" } might not be used.\n",
      "\n",
      "  This could be a false alarm, with some parameters getting used by language bindings but\n",
      "  then being mistakenly passed down to XGBoost core, or some parameter actually being used\n",
      "  but getting flagged wrongly here. Please open an issue if you find any such cases.\n",
      "\n",
      "\n",
      "[3.3039230185175996, 3.2251776693928584, 3.2664871102805275, 3.501705402397512, 3.305824252791194, 3.296356918791896, 3.3195800838714224, 3.0013254829172755, 3.390415771118743, 3.397420122675211, 3.1853493658818817, 3.280638126314829, 3.177206168687014, 3.2124364260001848, 3.5248639642950534, 3.077818662641583, 3.2854527233305975, 3.411733347618065, 3.174174390975052, 2.974043700209311, 3.4897638171784475, 3.5492651762098353, 3.34944955399755, 3.4282416663501576, 3.2426885980926214, 3.4395992206393875, 3.371993253233383, 3.2604809673680433, 3.0973052984821194, 3.231039434930128, 3.468242398641255]\n"
     ]
    },
    {
     "data": {
      "text/plain": [
       "Index(['wind_speed', 'track_distance', 'total_houses', 'rainfall_max_6h',\n",
       "       'rainfall_max_24h', 'rwi', 'mean_slope', 'std_slope', 'mean_tri',\n",
       "       'std_tri', 'mean_elev', 'coast_length', 'with_coast', 'urban', 'rural',\n",
       "       'water', 'total_pop', 'percent_houses_damaged_5years'],\n",
       "      dtype='object')"
      ]
     },
     "metadata": {},
     "output_type": "display_data"
    },
    {
     "name": "stderr",
     "output_type": "stream",
     "text": [
      "pandas.Int64Index is deprecated and will be removed from pandas in a future version. Use pandas.Index with the appropriate dtype instead.\n"
     ]
    },
    {
     "name": "stdout",
     "output_type": "stream",
     "text": [
      "[12:43:27] WARNING: /Users/runner/miniforge3/conda-bld/xgboost-split_1637426408905/work/src/learner.cc:576: \n",
      "Parameters: { \"early_stopping_rounds\" } might not be used.\n",
      "\n",
      "  This could be a false alarm, with some parameters getting used by language bindings but\n",
      "  then being mistakenly passed down to XGBoost core, or some parameter actually being used\n",
      "  but getting flagged wrongly here. Please open an issue if you find any such cases.\n",
      "\n",
      "\n",
      "Counter({0: 38948, 1: 855})\n",
      "Counter({0: 8550, 1: 855})\n"
     ]
    },
    {
     "name": "stderr",
     "output_type": "stream",
     "text": [
      "The use of label encoder in XGBClassifier is deprecated and will be removed in a future release. To remove this warning, do the following: 1) Pass option use_label_encoder=False when constructing XGBClassifier object; and 2) Encode your labels (y) as integers starting with 0, i.e. 0, 1, 2, ..., [num_class - 1].\n",
      "pandas.Int64Index is deprecated and will be removed from pandas in a future version. Use pandas.Index with the appropriate dtype instead.\n"
     ]
    },
    {
     "data": {
      "text/plain": [
       "Index(['wind_speed', 'track_distance', 'total_houses', 'rainfall_max_6h',\n",
       "       'rainfall_max_24h', 'rwi', 'mean_slope', 'std_slope', 'mean_tri',\n",
       "       'std_tri', 'mean_elev', 'coast_length', 'with_coast', 'urban', 'rural',\n",
       "       'water', 'total_pop', 'percent_houses_damaged_5years'],\n",
       "      dtype='object')"
      ]
     },
     "metadata": {},
     "output_type": "display_data"
    },
    {
     "name": "stderr",
     "output_type": "stream",
     "text": [
      "pandas.Int64Index is deprecated and will be removed from pandas in a future version. Use pandas.Index with the appropriate dtype instead.\n",
      "\n",
      "A value is trying to be set on a copy of a slice from a DataFrame.\n",
      "Try using .loc[row_indexer,col_indexer] = value instead\n",
      "\n",
      "See the caveats in the documentation: https://pandas.pydata.org/pandas-docs/stable/user_guide/indexing.html#returning-a-view-versus-a-copy\n",
      "\n",
      "A value is trying to be set on a copy of a slice from a DataFrame.\n",
      "Try using .loc[row_indexer,col_indexer] = value instead\n",
      "\n",
      "See the caveats in the documentation: https://pandas.pydata.org/pandas-docs/stable/user_guide/indexing.html#returning-a-view-versus-a-copy\n"
     ]
    },
    {
     "name": "stdout",
     "output_type": "stream",
     "text": [
      "[12:43:30] WARNING: /Users/runner/miniforge3/conda-bld/xgboost-split_1637426408905/work/src/learner.cc:576: \n",
      "Parameters: { \"early_stopping_rounds\" } might not be used.\n",
      "\n",
      "  This could be a false alarm, with some parameters getting used by language bindings but\n",
      "  then being mistakenly passed down to XGBoost core, or some parameter actually being used\n",
      "  but getting flagged wrongly here. Please open an issue if you find any such cases.\n",
      "\n",
      "\n",
      "[3.3039230185175996, 3.2251776693928584, 3.2664871102805275, 3.501705402397512, 3.305824252791194, 3.296356918791896, 3.3195800838714224, 3.0013254829172755, 3.390415771118743, 3.397420122675211, 3.1853493658818817, 3.280638126314829, 3.177206168687014, 3.2124364260001848, 3.5248639642950534, 3.077818662641583, 3.2854527233305975, 3.411733347618065, 3.174174390975052, 2.974043700209311, 3.4897638171784475, 3.5492651762098353, 3.34944955399755, 3.4282416663501576, 3.2426885980926214, 3.4395992206393875, 3.371993253233383, 3.2604809673680433, 3.0973052984821194, 3.231039434930128, 3.468242398641255, 3.41091552300152]\n"
     ]
    },
    {
     "data": {
      "text/plain": [
       "Index(['wind_speed', 'track_distance', 'total_houses', 'rainfall_max_6h',\n",
       "       'rainfall_max_24h', 'rwi', 'mean_slope', 'std_slope', 'mean_tri',\n",
       "       'std_tri', 'mean_elev', 'coast_length', 'with_coast', 'urban', 'rural',\n",
       "       'water', 'total_pop', 'percent_houses_damaged_5years'],\n",
       "      dtype='object')"
      ]
     },
     "metadata": {},
     "output_type": "display_data"
    },
    {
     "name": "stderr",
     "output_type": "stream",
     "text": [
      "pandas.Int64Index is deprecated and will be removed from pandas in a future version. Use pandas.Index with the appropriate dtype instead.\n"
     ]
    },
    {
     "name": "stdout",
     "output_type": "stream",
     "text": [
      "[12:43:32] WARNING: /Users/runner/miniforge3/conda-bld/xgboost-split_1637426408905/work/src/learner.cc:576: \n",
      "Parameters: { \"early_stopping_rounds\" } might not be used.\n",
      "\n",
      "  This could be a false alarm, with some parameters getting used by language bindings but\n",
      "  then being mistakenly passed down to XGBoost core, or some parameter actually being used\n",
      "  but getting flagged wrongly here. Please open an issue if you find any such cases.\n",
      "\n",
      "\n",
      "Counter({0: 38948, 1: 855})\n",
      "Counter({0: 8550, 1: 855})\n"
     ]
    },
    {
     "name": "stderr",
     "output_type": "stream",
     "text": [
      "The use of label encoder in XGBClassifier is deprecated and will be removed in a future release. To remove this warning, do the following: 1) Pass option use_label_encoder=False when constructing XGBClassifier object; and 2) Encode your labels (y) as integers starting with 0, i.e. 0, 1, 2, ..., [num_class - 1].\n",
      "pandas.Int64Index is deprecated and will be removed from pandas in a future version. Use pandas.Index with the appropriate dtype instead.\n"
     ]
    },
    {
     "data": {
      "text/plain": [
       "Index(['wind_speed', 'track_distance', 'total_houses', 'rainfall_max_6h',\n",
       "       'rainfall_max_24h', 'rwi', 'mean_slope', 'std_slope', 'mean_tri',\n",
       "       'std_tri', 'mean_elev', 'coast_length', 'with_coast', 'urban', 'rural',\n",
       "       'water', 'total_pop', 'percent_houses_damaged_5years'],\n",
       "      dtype='object')"
      ]
     },
     "metadata": {},
     "output_type": "display_data"
    },
    {
     "name": "stderr",
     "output_type": "stream",
     "text": [
      "pandas.Int64Index is deprecated and will be removed from pandas in a future version. Use pandas.Index with the appropriate dtype instead.\n",
      "\n",
      "A value is trying to be set on a copy of a slice from a DataFrame.\n",
      "Try using .loc[row_indexer,col_indexer] = value instead\n",
      "\n",
      "See the caveats in the documentation: https://pandas.pydata.org/pandas-docs/stable/user_guide/indexing.html#returning-a-view-versus-a-copy\n",
      "\n",
      "A value is trying to be set on a copy of a slice from a DataFrame.\n",
      "Try using .loc[row_indexer,col_indexer] = value instead\n",
      "\n",
      "See the caveats in the documentation: https://pandas.pydata.org/pandas-docs/stable/user_guide/indexing.html#returning-a-view-versus-a-copy\n"
     ]
    },
    {
     "name": "stdout",
     "output_type": "stream",
     "text": [
      "[12:43:35] WARNING: /Users/runner/miniforge3/conda-bld/xgboost-split_1637426408905/work/src/learner.cc:576: \n",
      "Parameters: { \"early_stopping_rounds\" } might not be used.\n",
      "\n",
      "  This could be a false alarm, with some parameters getting used by language bindings but\n",
      "  then being mistakenly passed down to XGBoost core, or some parameter actually being used\n",
      "  but getting flagged wrongly here. Please open an issue if you find any such cases.\n",
      "\n",
      "\n",
      "[3.3039230185175996, 3.2251776693928584, 3.2664871102805275, 3.501705402397512, 3.305824252791194, 3.296356918791896, 3.3195800838714224, 3.0013254829172755, 3.390415771118743, 3.397420122675211, 3.1853493658818817, 3.280638126314829, 3.177206168687014, 3.2124364260001848, 3.5248639642950534, 3.077818662641583, 3.2854527233305975, 3.411733347618065, 3.174174390975052, 2.974043700209311, 3.4897638171784475, 3.5492651762098353, 3.34944955399755, 3.4282416663501576, 3.2426885980926214, 3.4395992206393875, 3.371993253233383, 3.2604809673680433, 3.0973052984821194, 3.231039434930128, 3.468242398641255, 3.41091552300152, 3.373100375399568]\n"
     ]
    },
    {
     "data": {
      "text/plain": [
       "Index(['wind_speed', 'track_distance', 'total_houses', 'rainfall_max_6h',\n",
       "       'rainfall_max_24h', 'rwi', 'mean_slope', 'std_slope', 'mean_tri',\n",
       "       'std_tri', 'mean_elev', 'coast_length', 'with_coast', 'urban', 'rural',\n",
       "       'water', 'total_pop', 'percent_houses_damaged_5years'],\n",
       "      dtype='object')"
      ]
     },
     "metadata": {},
     "output_type": "display_data"
    },
    {
     "name": "stderr",
     "output_type": "stream",
     "text": [
      "pandas.Int64Index is deprecated and will be removed from pandas in a future version. Use pandas.Index with the appropriate dtype instead.\n"
     ]
    },
    {
     "name": "stdout",
     "output_type": "stream",
     "text": [
      "[12:43:36] WARNING: /Users/runner/miniforge3/conda-bld/xgboost-split_1637426408905/work/src/learner.cc:576: \n",
      "Parameters: { \"early_stopping_rounds\" } might not be used.\n",
      "\n",
      "  This could be a false alarm, with some parameters getting used by language bindings but\n",
      "  then being mistakenly passed down to XGBoost core, or some parameter actually being used\n",
      "  but getting flagged wrongly here. Please open an issue if you find any such cases.\n",
      "\n",
      "\n",
      "Counter({0: 38948, 1: 855})\n",
      "Counter({0: 8550, 1: 855})\n"
     ]
    },
    {
     "name": "stderr",
     "output_type": "stream",
     "text": [
      "The use of label encoder in XGBClassifier is deprecated and will be removed in a future release. To remove this warning, do the following: 1) Pass option use_label_encoder=False when constructing XGBClassifier object; and 2) Encode your labels (y) as integers starting with 0, i.e. 0, 1, 2, ..., [num_class - 1].\n",
      "pandas.Int64Index is deprecated and will be removed from pandas in a future version. Use pandas.Index with the appropriate dtype instead.\n"
     ]
    },
    {
     "data": {
      "text/plain": [
       "Index(['wind_speed', 'track_distance', 'total_houses', 'rainfall_max_6h',\n",
       "       'rainfall_max_24h', 'rwi', 'mean_slope', 'std_slope', 'mean_tri',\n",
       "       'std_tri', 'mean_elev', 'coast_length', 'with_coast', 'urban', 'rural',\n",
       "       'water', 'total_pop', 'percent_houses_damaged_5years'],\n",
       "      dtype='object')"
      ]
     },
     "metadata": {},
     "output_type": "display_data"
    },
    {
     "name": "stderr",
     "output_type": "stream",
     "text": [
      "pandas.Int64Index is deprecated and will be removed from pandas in a future version. Use pandas.Index with the appropriate dtype instead.\n",
      "\n",
      "A value is trying to be set on a copy of a slice from a DataFrame.\n",
      "Try using .loc[row_indexer,col_indexer] = value instead\n",
      "\n",
      "See the caveats in the documentation: https://pandas.pydata.org/pandas-docs/stable/user_guide/indexing.html#returning-a-view-versus-a-copy\n",
      "\n",
      "A value is trying to be set on a copy of a slice from a DataFrame.\n",
      "Try using .loc[row_indexer,col_indexer] = value instead\n",
      "\n",
      "See the caveats in the documentation: https://pandas.pydata.org/pandas-docs/stable/user_guide/indexing.html#returning-a-view-versus-a-copy\n"
     ]
    },
    {
     "name": "stdout",
     "output_type": "stream",
     "text": [
      "[12:43:39] WARNING: /Users/runner/miniforge3/conda-bld/xgboost-split_1637426408905/work/src/learner.cc:576: \n",
      "Parameters: { \"early_stopping_rounds\" } might not be used.\n",
      "\n",
      "  This could be a false alarm, with some parameters getting used by language bindings but\n",
      "  then being mistakenly passed down to XGBoost core, or some parameter actually being used\n",
      "  but getting flagged wrongly here. Please open an issue if you find any such cases.\n",
      "\n",
      "\n",
      "[3.3039230185175996, 3.2251776693928584, 3.2664871102805275, 3.501705402397512, 3.305824252791194, 3.296356918791896, 3.3195800838714224, 3.0013254829172755, 3.390415771118743, 3.397420122675211, 3.1853493658818817, 3.280638126314829, 3.177206168687014, 3.2124364260001848, 3.5248639642950534, 3.077818662641583, 3.2854527233305975, 3.411733347618065, 3.174174390975052, 2.974043700209311, 3.4897638171784475, 3.5492651762098353, 3.34944955399755, 3.4282416663501576, 3.2426885980926214, 3.4395992206393875, 3.371993253233383, 3.2604809673680433, 3.0973052984821194, 3.231039434930128, 3.468242398641255, 3.41091552300152, 3.373100375399568, 3.264861382652408]\n"
     ]
    },
    {
     "data": {
      "text/plain": [
       "Index(['wind_speed', 'track_distance', 'total_houses', 'rainfall_max_6h',\n",
       "       'rainfall_max_24h', 'rwi', 'mean_slope', 'std_slope', 'mean_tri',\n",
       "       'std_tri', 'mean_elev', 'coast_length', 'with_coast', 'urban', 'rural',\n",
       "       'water', 'total_pop', 'percent_houses_damaged_5years'],\n",
       "      dtype='object')"
      ]
     },
     "metadata": {},
     "output_type": "display_data"
    },
    {
     "name": "stderr",
     "output_type": "stream",
     "text": [
      "pandas.Int64Index is deprecated and will be removed from pandas in a future version. Use pandas.Index with the appropriate dtype instead.\n"
     ]
    },
    {
     "name": "stdout",
     "output_type": "stream",
     "text": [
      "[12:43:40] WARNING: /Users/runner/miniforge3/conda-bld/xgboost-split_1637426408905/work/src/learner.cc:576: \n",
      "Parameters: { \"early_stopping_rounds\" } might not be used.\n",
      "\n",
      "  This could be a false alarm, with some parameters getting used by language bindings but\n",
      "  then being mistakenly passed down to XGBoost core, or some parameter actually being used\n",
      "  but getting flagged wrongly here. Please open an issue if you find any such cases.\n",
      "\n",
      "\n",
      "Counter({0: 38948, 1: 855})\n",
      "Counter({0: 8550, 1: 855})\n"
     ]
    },
    {
     "name": "stderr",
     "output_type": "stream",
     "text": [
      "The use of label encoder in XGBClassifier is deprecated and will be removed in a future release. To remove this warning, do the following: 1) Pass option use_label_encoder=False when constructing XGBClassifier object; and 2) Encode your labels (y) as integers starting with 0, i.e. 0, 1, 2, ..., [num_class - 1].\n",
      "pandas.Int64Index is deprecated and will be removed from pandas in a future version. Use pandas.Index with the appropriate dtype instead.\n"
     ]
    },
    {
     "data": {
      "text/plain": [
       "Index(['wind_speed', 'track_distance', 'total_houses', 'rainfall_max_6h',\n",
       "       'rainfall_max_24h', 'rwi', 'mean_slope', 'std_slope', 'mean_tri',\n",
       "       'std_tri', 'mean_elev', 'coast_length', 'with_coast', 'urban', 'rural',\n",
       "       'water', 'total_pop', 'percent_houses_damaged_5years'],\n",
       "      dtype='object')"
      ]
     },
     "metadata": {},
     "output_type": "display_data"
    },
    {
     "name": "stderr",
     "output_type": "stream",
     "text": [
      "pandas.Int64Index is deprecated and will be removed from pandas in a future version. Use pandas.Index with the appropriate dtype instead.\n",
      "\n",
      "A value is trying to be set on a copy of a slice from a DataFrame.\n",
      "Try using .loc[row_indexer,col_indexer] = value instead\n",
      "\n",
      "See the caveats in the documentation: https://pandas.pydata.org/pandas-docs/stable/user_guide/indexing.html#returning-a-view-versus-a-copy\n",
      "\n",
      "A value is trying to be set on a copy of a slice from a DataFrame.\n",
      "Try using .loc[row_indexer,col_indexer] = value instead\n",
      "\n",
      "See the caveats in the documentation: https://pandas.pydata.org/pandas-docs/stable/user_guide/indexing.html#returning-a-view-versus-a-copy\n"
     ]
    },
    {
     "name": "stdout",
     "output_type": "stream",
     "text": [
      "[12:43:44] WARNING: /Users/runner/miniforge3/conda-bld/xgboost-split_1637426408905/work/src/learner.cc:576: \n",
      "Parameters: { \"early_stopping_rounds\" } might not be used.\n",
      "\n",
      "  This could be a false alarm, with some parameters getting used by language bindings but\n",
      "  then being mistakenly passed down to XGBoost core, or some parameter actually being used\n",
      "  but getting flagged wrongly here. Please open an issue if you find any such cases.\n",
      "\n",
      "\n",
      "[3.3039230185175996, 3.2251776693928584, 3.2664871102805275, 3.501705402397512, 3.305824252791194, 3.296356918791896, 3.3195800838714224, 3.0013254829172755, 3.390415771118743, 3.397420122675211, 3.1853493658818817, 3.280638126314829, 3.177206168687014, 3.2124364260001848, 3.5248639642950534, 3.077818662641583, 3.2854527233305975, 3.411733347618065, 3.174174390975052, 2.974043700209311, 3.4897638171784475, 3.5492651762098353, 3.34944955399755, 3.4282416663501576, 3.2426885980926214, 3.4395992206393875, 3.371993253233383, 3.2604809673680433, 3.0973052984821194, 3.231039434930128, 3.468242398641255, 3.41091552300152, 3.373100375399568, 3.264861382652408, 3.291763127958453]\n"
     ]
    },
    {
     "data": {
      "text/plain": [
       "Index(['wind_speed', 'track_distance', 'total_houses', 'rainfall_max_6h',\n",
       "       'rainfall_max_24h', 'rwi', 'mean_slope', 'std_slope', 'mean_tri',\n",
       "       'std_tri', 'mean_elev', 'coast_length', 'with_coast', 'urban', 'rural',\n",
       "       'water', 'total_pop', 'percent_houses_damaged_5years'],\n",
       "      dtype='object')"
      ]
     },
     "metadata": {},
     "output_type": "display_data"
    },
    {
     "name": "stderr",
     "output_type": "stream",
     "text": [
      "pandas.Int64Index is deprecated and will be removed from pandas in a future version. Use pandas.Index with the appropriate dtype instead.\n"
     ]
    },
    {
     "name": "stdout",
     "output_type": "stream",
     "text": [
      "[12:43:45] WARNING: /Users/runner/miniforge3/conda-bld/xgboost-split_1637426408905/work/src/learner.cc:576: \n",
      "Parameters: { \"early_stopping_rounds\" } might not be used.\n",
      "\n",
      "  This could be a false alarm, with some parameters getting used by language bindings but\n",
      "  then being mistakenly passed down to XGBoost core, or some parameter actually being used\n",
      "  but getting flagged wrongly here. Please open an issue if you find any such cases.\n",
      "\n",
      "\n",
      "Counter({0: 38948, 1: 855})\n",
      "Counter({0: 8550, 1: 855})\n"
     ]
    },
    {
     "name": "stderr",
     "output_type": "stream",
     "text": [
      "The use of label encoder in XGBClassifier is deprecated and will be removed in a future release. To remove this warning, do the following: 1) Pass option use_label_encoder=False when constructing XGBClassifier object; and 2) Encode your labels (y) as integers starting with 0, i.e. 0, 1, 2, ..., [num_class - 1].\n",
      "pandas.Int64Index is deprecated and will be removed from pandas in a future version. Use pandas.Index with the appropriate dtype instead.\n"
     ]
    },
    {
     "data": {
      "text/plain": [
       "Index(['wind_speed', 'track_distance', 'total_houses', 'rainfall_max_6h',\n",
       "       'rainfall_max_24h', 'rwi', 'mean_slope', 'std_slope', 'mean_tri',\n",
       "       'std_tri', 'mean_elev', 'coast_length', 'with_coast', 'urban', 'rural',\n",
       "       'water', 'total_pop', 'percent_houses_damaged_5years'],\n",
       "      dtype='object')"
      ]
     },
     "metadata": {},
     "output_type": "display_data"
    },
    {
     "name": "stderr",
     "output_type": "stream",
     "text": [
      "pandas.Int64Index is deprecated and will be removed from pandas in a future version. Use pandas.Index with the appropriate dtype instead.\n",
      "\n",
      "A value is trying to be set on a copy of a slice from a DataFrame.\n",
      "Try using .loc[row_indexer,col_indexer] = value instead\n",
      "\n",
      "See the caveats in the documentation: https://pandas.pydata.org/pandas-docs/stable/user_guide/indexing.html#returning-a-view-versus-a-copy\n",
      "\n",
      "A value is trying to be set on a copy of a slice from a DataFrame.\n",
      "Try using .loc[row_indexer,col_indexer] = value instead\n",
      "\n",
      "See the caveats in the documentation: https://pandas.pydata.org/pandas-docs/stable/user_guide/indexing.html#returning-a-view-versus-a-copy\n"
     ]
    },
    {
     "name": "stdout",
     "output_type": "stream",
     "text": [
      "[12:43:48] WARNING: /Users/runner/miniforge3/conda-bld/xgboost-split_1637426408905/work/src/learner.cc:576: \n",
      "Parameters: { \"early_stopping_rounds\" } might not be used.\n",
      "\n",
      "  This could be a false alarm, with some parameters getting used by language bindings but\n",
      "  then being mistakenly passed down to XGBoost core, or some parameter actually being used\n",
      "  but getting flagged wrongly here. Please open an issue if you find any such cases.\n",
      "\n",
      "\n",
      "[3.3039230185175996, 3.2251776693928584, 3.2664871102805275, 3.501705402397512, 3.305824252791194, 3.296356918791896, 3.3195800838714224, 3.0013254829172755, 3.390415771118743, 3.397420122675211, 3.1853493658818817, 3.280638126314829, 3.177206168687014, 3.2124364260001848, 3.5248639642950534, 3.077818662641583, 3.2854527233305975, 3.411733347618065, 3.174174390975052, 2.974043700209311, 3.4897638171784475, 3.5492651762098353, 3.34944955399755, 3.4282416663501576, 3.2426885980926214, 3.4395992206393875, 3.371993253233383, 3.2604809673680433, 3.0973052984821194, 3.231039434930128, 3.468242398641255, 3.41091552300152, 3.373100375399568, 3.264861382652408, 3.291763127958453, 3.63062502761599]\n"
     ]
    },
    {
     "data": {
      "text/plain": [
       "Index(['wind_speed', 'track_distance', 'total_houses', 'rainfall_max_6h',\n",
       "       'rainfall_max_24h', 'rwi', 'mean_slope', 'std_slope', 'mean_tri',\n",
       "       'std_tri', 'mean_elev', 'coast_length', 'with_coast', 'urban', 'rural',\n",
       "       'water', 'total_pop', 'percent_houses_damaged_5years'],\n",
       "      dtype='object')"
      ]
     },
     "metadata": {},
     "output_type": "display_data"
    },
    {
     "name": "stderr",
     "output_type": "stream",
     "text": [
      "pandas.Int64Index is deprecated and will be removed from pandas in a future version. Use pandas.Index with the appropriate dtype instead.\n"
     ]
    },
    {
     "name": "stdout",
     "output_type": "stream",
     "text": [
      "[12:43:49] WARNING: /Users/runner/miniforge3/conda-bld/xgboost-split_1637426408905/work/src/learner.cc:576: \n",
      "Parameters: { \"early_stopping_rounds\" } might not be used.\n",
      "\n",
      "  This could be a false alarm, with some parameters getting used by language bindings but\n",
      "  then being mistakenly passed down to XGBoost core, or some parameter actually being used\n",
      "  but getting flagged wrongly here. Please open an issue if you find any such cases.\n",
      "\n",
      "\n",
      "Counter({0: 38948, 1: 855})\n",
      "Counter({0: 8550, 1: 855})\n"
     ]
    },
    {
     "name": "stderr",
     "output_type": "stream",
     "text": [
      "The use of label encoder in XGBClassifier is deprecated and will be removed in a future release. To remove this warning, do the following: 1) Pass option use_label_encoder=False when constructing XGBClassifier object; and 2) Encode your labels (y) as integers starting with 0, i.e. 0, 1, 2, ..., [num_class - 1].\n",
      "pandas.Int64Index is deprecated and will be removed from pandas in a future version. Use pandas.Index with the appropriate dtype instead.\n"
     ]
    },
    {
     "data": {
      "text/plain": [
       "Index(['wind_speed', 'track_distance', 'total_houses', 'rainfall_max_6h',\n",
       "       'rainfall_max_24h', 'rwi', 'mean_slope', 'std_slope', 'mean_tri',\n",
       "       'std_tri', 'mean_elev', 'coast_length', 'with_coast', 'urban', 'rural',\n",
       "       'water', 'total_pop', 'percent_houses_damaged_5years'],\n",
       "      dtype='object')"
      ]
     },
     "metadata": {},
     "output_type": "display_data"
    },
    {
     "name": "stderr",
     "output_type": "stream",
     "text": [
      "pandas.Int64Index is deprecated and will be removed from pandas in a future version. Use pandas.Index with the appropriate dtype instead.\n",
      "\n",
      "A value is trying to be set on a copy of a slice from a DataFrame.\n",
      "Try using .loc[row_indexer,col_indexer] = value instead\n",
      "\n",
      "See the caveats in the documentation: https://pandas.pydata.org/pandas-docs/stable/user_guide/indexing.html#returning-a-view-versus-a-copy\n",
      "\n",
      "A value is trying to be set on a copy of a slice from a DataFrame.\n",
      "Try using .loc[row_indexer,col_indexer] = value instead\n",
      "\n",
      "See the caveats in the documentation: https://pandas.pydata.org/pandas-docs/stable/user_guide/indexing.html#returning-a-view-versus-a-copy\n"
     ]
    },
    {
     "name": "stdout",
     "output_type": "stream",
     "text": [
      "[12:43:53] WARNING: /Users/runner/miniforge3/conda-bld/xgboost-split_1637426408905/work/src/learner.cc:576: \n",
      "Parameters: { \"early_stopping_rounds\" } might not be used.\n",
      "\n",
      "  This could be a false alarm, with some parameters getting used by language bindings but\n",
      "  then being mistakenly passed down to XGBoost core, or some parameter actually being used\n",
      "  but getting flagged wrongly here. Please open an issue if you find any such cases.\n",
      "\n",
      "\n",
      "[3.3039230185175996, 3.2251776693928584, 3.2664871102805275, 3.501705402397512, 3.305824252791194, 3.296356918791896, 3.3195800838714224, 3.0013254829172755, 3.390415771118743, 3.397420122675211, 3.1853493658818817, 3.280638126314829, 3.177206168687014, 3.2124364260001848, 3.5248639642950534, 3.077818662641583, 3.2854527233305975, 3.411733347618065, 3.174174390975052, 2.974043700209311, 3.4897638171784475, 3.5492651762098353, 3.34944955399755, 3.4282416663501576, 3.2426885980926214, 3.4395992206393875, 3.371993253233383, 3.2604809673680433, 3.0973052984821194, 3.231039434930128, 3.468242398641255, 3.41091552300152, 3.373100375399568, 3.264861382652408, 3.291763127958453, 3.63062502761599, 3.3486020215435905]\n"
     ]
    },
    {
     "data": {
      "text/plain": [
       "Index(['wind_speed', 'track_distance', 'total_houses', 'rainfall_max_6h',\n",
       "       'rainfall_max_24h', 'rwi', 'mean_slope', 'std_slope', 'mean_tri',\n",
       "       'std_tri', 'mean_elev', 'coast_length', 'with_coast', 'urban', 'rural',\n",
       "       'water', 'total_pop', 'percent_houses_damaged_5years'],\n",
       "      dtype='object')"
      ]
     },
     "metadata": {},
     "output_type": "display_data"
    },
    {
     "name": "stderr",
     "output_type": "stream",
     "text": [
      "pandas.Int64Index is deprecated and will be removed from pandas in a future version. Use pandas.Index with the appropriate dtype instead.\n"
     ]
    },
    {
     "name": "stdout",
     "output_type": "stream",
     "text": [
      "[12:43:54] WARNING: /Users/runner/miniforge3/conda-bld/xgboost-split_1637426408905/work/src/learner.cc:576: \n",
      "Parameters: { \"early_stopping_rounds\" } might not be used.\n",
      "\n",
      "  This could be a false alarm, with some parameters getting used by language bindings but\n",
      "  then being mistakenly passed down to XGBoost core, or some parameter actually being used\n",
      "  but getting flagged wrongly here. Please open an issue if you find any such cases.\n",
      "\n",
      "\n",
      "Counter({0: 38948, 1: 855})\n",
      "Counter({0: 8550, 1: 855})\n"
     ]
    },
    {
     "name": "stderr",
     "output_type": "stream",
     "text": [
      "The use of label encoder in XGBClassifier is deprecated and will be removed in a future release. To remove this warning, do the following: 1) Pass option use_label_encoder=False when constructing XGBClassifier object; and 2) Encode your labels (y) as integers starting with 0, i.e. 0, 1, 2, ..., [num_class - 1].\n",
      "pandas.Int64Index is deprecated and will be removed from pandas in a future version. Use pandas.Index with the appropriate dtype instead.\n"
     ]
    },
    {
     "data": {
      "text/plain": [
       "Index(['wind_speed', 'track_distance', 'total_houses', 'rainfall_max_6h',\n",
       "       'rainfall_max_24h', 'rwi', 'mean_slope', 'std_slope', 'mean_tri',\n",
       "       'std_tri', 'mean_elev', 'coast_length', 'with_coast', 'urban', 'rural',\n",
       "       'water', 'total_pop', 'percent_houses_damaged_5years'],\n",
       "      dtype='object')"
      ]
     },
     "metadata": {},
     "output_type": "display_data"
    },
    {
     "name": "stderr",
     "output_type": "stream",
     "text": [
      "pandas.Int64Index is deprecated and will be removed from pandas in a future version. Use pandas.Index with the appropriate dtype instead.\n",
      "\n",
      "A value is trying to be set on a copy of a slice from a DataFrame.\n",
      "Try using .loc[row_indexer,col_indexer] = value instead\n",
      "\n",
      "See the caveats in the documentation: https://pandas.pydata.org/pandas-docs/stable/user_guide/indexing.html#returning-a-view-versus-a-copy\n",
      "\n",
      "A value is trying to be set on a copy of a slice from a DataFrame.\n",
      "Try using .loc[row_indexer,col_indexer] = value instead\n",
      "\n",
      "See the caveats in the documentation: https://pandas.pydata.org/pandas-docs/stable/user_guide/indexing.html#returning-a-view-versus-a-copy\n"
     ]
    },
    {
     "name": "stdout",
     "output_type": "stream",
     "text": [
      "[12:43:57] WARNING: /Users/runner/miniforge3/conda-bld/xgboost-split_1637426408905/work/src/learner.cc:576: \n",
      "Parameters: { \"early_stopping_rounds\" } might not be used.\n",
      "\n",
      "  This could be a false alarm, with some parameters getting used by language bindings but\n",
      "  then being mistakenly passed down to XGBoost core, or some parameter actually being used\n",
      "  but getting flagged wrongly here. Please open an issue if you find any such cases.\n",
      "\n",
      "\n",
      "[3.3039230185175996, 3.2251776693928584, 3.2664871102805275, 3.501705402397512, 3.305824252791194, 3.296356918791896, 3.3195800838714224, 3.0013254829172755, 3.390415771118743, 3.397420122675211, 3.1853493658818817, 3.280638126314829, 3.177206168687014, 3.2124364260001848, 3.5248639642950534, 3.077818662641583, 3.2854527233305975, 3.411733347618065, 3.174174390975052, 2.974043700209311, 3.4897638171784475, 3.5492651762098353, 3.34944955399755, 3.4282416663501576, 3.2426885980926214, 3.4395992206393875, 3.371993253233383, 3.2604809673680433, 3.0973052984821194, 3.231039434930128, 3.468242398641255, 3.41091552300152, 3.373100375399568, 3.264861382652408, 3.291763127958453, 3.63062502761599, 3.3486020215435905, 3.332284987588538]\n"
     ]
    },
    {
     "data": {
      "text/plain": [
       "Index(['wind_speed', 'track_distance', 'total_houses', 'rainfall_max_6h',\n",
       "       'rainfall_max_24h', 'rwi', 'mean_slope', 'std_slope', 'mean_tri',\n",
       "       'std_tri', 'mean_elev', 'coast_length', 'with_coast', 'urban', 'rural',\n",
       "       'water', 'total_pop', 'percent_houses_damaged_5years'],\n",
       "      dtype='object')"
      ]
     },
     "metadata": {},
     "output_type": "display_data"
    },
    {
     "name": "stderr",
     "output_type": "stream",
     "text": [
      "pandas.Int64Index is deprecated and will be removed from pandas in a future version. Use pandas.Index with the appropriate dtype instead.\n"
     ]
    },
    {
     "name": "stdout",
     "output_type": "stream",
     "text": [
      "[12:43:58] WARNING: /Users/runner/miniforge3/conda-bld/xgboost-split_1637426408905/work/src/learner.cc:576: \n",
      "Parameters: { \"early_stopping_rounds\" } might not be used.\n",
      "\n",
      "  This could be a false alarm, with some parameters getting used by language bindings but\n",
      "  then being mistakenly passed down to XGBoost core, or some parameter actually being used\n",
      "  but getting flagged wrongly here. Please open an issue if you find any such cases.\n",
      "\n",
      "\n",
      "Counter({0: 38948, 1: 855})\n",
      "Counter({0: 8550, 1: 855})\n"
     ]
    },
    {
     "name": "stderr",
     "output_type": "stream",
     "text": [
      "The use of label encoder in XGBClassifier is deprecated and will be removed in a future release. To remove this warning, do the following: 1) Pass option use_label_encoder=False when constructing XGBClassifier object; and 2) Encode your labels (y) as integers starting with 0, i.e. 0, 1, 2, ..., [num_class - 1].\n",
      "pandas.Int64Index is deprecated and will be removed from pandas in a future version. Use pandas.Index with the appropriate dtype instead.\n"
     ]
    },
    {
     "data": {
      "text/plain": [
       "Index(['wind_speed', 'track_distance', 'total_houses', 'rainfall_max_6h',\n",
       "       'rainfall_max_24h', 'rwi', 'mean_slope', 'std_slope', 'mean_tri',\n",
       "       'std_tri', 'mean_elev', 'coast_length', 'with_coast', 'urban', 'rural',\n",
       "       'water', 'total_pop', 'percent_houses_damaged_5years'],\n",
       "      dtype='object')"
      ]
     },
     "metadata": {},
     "output_type": "display_data"
    },
    {
     "name": "stderr",
     "output_type": "stream",
     "text": [
      "pandas.Int64Index is deprecated and will be removed from pandas in a future version. Use pandas.Index with the appropriate dtype instead.\n",
      "\n",
      "A value is trying to be set on a copy of a slice from a DataFrame.\n",
      "Try using .loc[row_indexer,col_indexer] = value instead\n",
      "\n",
      "See the caveats in the documentation: https://pandas.pydata.org/pandas-docs/stable/user_guide/indexing.html#returning-a-view-versus-a-copy\n",
      "\n",
      "A value is trying to be set on a copy of a slice from a DataFrame.\n",
      "Try using .loc[row_indexer,col_indexer] = value instead\n",
      "\n",
      "See the caveats in the documentation: https://pandas.pydata.org/pandas-docs/stable/user_guide/indexing.html#returning-a-view-versus-a-copy\n"
     ]
    },
    {
     "name": "stdout",
     "output_type": "stream",
     "text": [
      "[12:44:02] WARNING: /Users/runner/miniforge3/conda-bld/xgboost-split_1637426408905/work/src/learner.cc:576: \n",
      "Parameters: { \"early_stopping_rounds\" } might not be used.\n",
      "\n",
      "  This could be a false alarm, with some parameters getting used by language bindings but\n",
      "  then being mistakenly passed down to XGBoost core, or some parameter actually being used\n",
      "  but getting flagged wrongly here. Please open an issue if you find any such cases.\n",
      "\n",
      "\n",
      "[3.3039230185175996, 3.2251776693928584, 3.2664871102805275, 3.501705402397512, 3.305824252791194, 3.296356918791896, 3.3195800838714224, 3.0013254829172755, 3.390415771118743, 3.397420122675211, 3.1853493658818817, 3.280638126314829, 3.177206168687014, 3.2124364260001848, 3.5248639642950534, 3.077818662641583, 3.2854527233305975, 3.411733347618065, 3.174174390975052, 2.974043700209311, 3.4897638171784475, 3.5492651762098353, 3.34944955399755, 3.4282416663501576, 3.2426885980926214, 3.4395992206393875, 3.371993253233383, 3.2604809673680433, 3.0973052984821194, 3.231039434930128, 3.468242398641255, 3.41091552300152, 3.373100375399568, 3.264861382652408, 3.291763127958453, 3.63062502761599, 3.3486020215435905, 3.332284987588538, 3.6156101314197118]\n"
     ]
    },
    {
     "data": {
      "text/plain": [
       "Index(['wind_speed', 'track_distance', 'total_houses', 'rainfall_max_6h',\n",
       "       'rainfall_max_24h', 'rwi', 'mean_slope', 'std_slope', 'mean_tri',\n",
       "       'std_tri', 'mean_elev', 'coast_length', 'with_coast', 'urban', 'rural',\n",
       "       'water', 'total_pop', 'percent_houses_damaged_5years'],\n",
       "      dtype='object')"
      ]
     },
     "metadata": {},
     "output_type": "display_data"
    },
    {
     "name": "stderr",
     "output_type": "stream",
     "text": [
      "pandas.Int64Index is deprecated and will be removed from pandas in a future version. Use pandas.Index with the appropriate dtype instead.\n"
     ]
    },
    {
     "name": "stdout",
     "output_type": "stream",
     "text": [
      "[12:44:03] WARNING: /Users/runner/miniforge3/conda-bld/xgboost-split_1637426408905/work/src/learner.cc:576: \n",
      "Parameters: { \"early_stopping_rounds\" } might not be used.\n",
      "\n",
      "  This could be a false alarm, with some parameters getting used by language bindings but\n",
      "  then being mistakenly passed down to XGBoost core, or some parameter actually being used\n",
      "  but getting flagged wrongly here. Please open an issue if you find any such cases.\n",
      "\n",
      "\n",
      "Counter({0: 38948, 1: 855})\n",
      "Counter({0: 8550, 1: 855})\n"
     ]
    },
    {
     "name": "stderr",
     "output_type": "stream",
     "text": [
      "The use of label encoder in XGBClassifier is deprecated and will be removed in a future release. To remove this warning, do the following: 1) Pass option use_label_encoder=False when constructing XGBClassifier object; and 2) Encode your labels (y) as integers starting with 0, i.e. 0, 1, 2, ..., [num_class - 1].\n",
      "pandas.Int64Index is deprecated and will be removed from pandas in a future version. Use pandas.Index with the appropriate dtype instead.\n"
     ]
    },
    {
     "data": {
      "text/plain": [
       "Index(['wind_speed', 'track_distance', 'total_houses', 'rainfall_max_6h',\n",
       "       'rainfall_max_24h', 'rwi', 'mean_slope', 'std_slope', 'mean_tri',\n",
       "       'std_tri', 'mean_elev', 'coast_length', 'with_coast', 'urban', 'rural',\n",
       "       'water', 'total_pop', 'percent_houses_damaged_5years'],\n",
       "      dtype='object')"
      ]
     },
     "metadata": {},
     "output_type": "display_data"
    },
    {
     "name": "stderr",
     "output_type": "stream",
     "text": [
      "pandas.Int64Index is deprecated and will be removed from pandas in a future version. Use pandas.Index with the appropriate dtype instead.\n",
      "\n",
      "A value is trying to be set on a copy of a slice from a DataFrame.\n",
      "Try using .loc[row_indexer,col_indexer] = value instead\n",
      "\n",
      "See the caveats in the documentation: https://pandas.pydata.org/pandas-docs/stable/user_guide/indexing.html#returning-a-view-versus-a-copy\n",
      "\n",
      "A value is trying to be set on a copy of a slice from a DataFrame.\n",
      "Try using .loc[row_indexer,col_indexer] = value instead\n",
      "\n",
      "See the caveats in the documentation: https://pandas.pydata.org/pandas-docs/stable/user_guide/indexing.html#returning-a-view-versus-a-copy\n"
     ]
    },
    {
     "name": "stdout",
     "output_type": "stream",
     "text": [
      "[12:44:06] WARNING: /Users/runner/miniforge3/conda-bld/xgboost-split_1637426408905/work/src/learner.cc:576: \n",
      "Parameters: { \"early_stopping_rounds\" } might not be used.\n",
      "\n",
      "  This could be a false alarm, with some parameters getting used by language bindings but\n",
      "  then being mistakenly passed down to XGBoost core, or some parameter actually being used\n",
      "  but getting flagged wrongly here. Please open an issue if you find any such cases.\n",
      "\n",
      "\n",
      "[3.3039230185175996, 3.2251776693928584, 3.2664871102805275, 3.501705402397512, 3.305824252791194, 3.296356918791896, 3.3195800838714224, 3.0013254829172755, 3.390415771118743, 3.397420122675211, 3.1853493658818817, 3.280638126314829, 3.177206168687014, 3.2124364260001848, 3.5248639642950534, 3.077818662641583, 3.2854527233305975, 3.411733347618065, 3.174174390975052, 2.974043700209311, 3.4897638171784475, 3.5492651762098353, 3.34944955399755, 3.4282416663501576, 3.2426885980926214, 3.4395992206393875, 3.371993253233383, 3.2604809673680433, 3.0973052984821194, 3.231039434930128, 3.468242398641255, 3.41091552300152, 3.373100375399568, 3.264861382652408, 3.291763127958453, 3.63062502761599, 3.3486020215435905, 3.332284987588538, 3.6156101314197118, 3.350072976478329]\n"
     ]
    },
    {
     "data": {
      "text/plain": [
       "Index(['wind_speed', 'track_distance', 'total_houses', 'rainfall_max_6h',\n",
       "       'rainfall_max_24h', 'rwi', 'mean_slope', 'std_slope', 'mean_tri',\n",
       "       'std_tri', 'mean_elev', 'coast_length', 'with_coast', 'urban', 'rural',\n",
       "       'water', 'total_pop', 'percent_houses_damaged_5years'],\n",
       "      dtype='object')"
      ]
     },
     "metadata": {},
     "output_type": "display_data"
    },
    {
     "name": "stderr",
     "output_type": "stream",
     "text": [
      "pandas.Int64Index is deprecated and will be removed from pandas in a future version. Use pandas.Index with the appropriate dtype instead.\n"
     ]
    },
    {
     "name": "stdout",
     "output_type": "stream",
     "text": [
      "[12:44:07] WARNING: /Users/runner/miniforge3/conda-bld/xgboost-split_1637426408905/work/src/learner.cc:576: \n",
      "Parameters: { \"early_stopping_rounds\" } might not be used.\n",
      "\n",
      "  This could be a false alarm, with some parameters getting used by language bindings but\n",
      "  then being mistakenly passed down to XGBoost core, or some parameter actually being used\n",
      "  but getting flagged wrongly here. Please open an issue if you find any such cases.\n",
      "\n",
      "\n",
      "Counter({0: 38948, 1: 855})\n",
      "Counter({0: 8550, 1: 855})\n"
     ]
    },
    {
     "name": "stderr",
     "output_type": "stream",
     "text": [
      "The use of label encoder in XGBClassifier is deprecated and will be removed in a future release. To remove this warning, do the following: 1) Pass option use_label_encoder=False when constructing XGBClassifier object; and 2) Encode your labels (y) as integers starting with 0, i.e. 0, 1, 2, ..., [num_class - 1].\n",
      "pandas.Int64Index is deprecated and will be removed from pandas in a future version. Use pandas.Index with the appropriate dtype instead.\n"
     ]
    },
    {
     "data": {
      "text/plain": [
       "Index(['wind_speed', 'track_distance', 'total_houses', 'rainfall_max_6h',\n",
       "       'rainfall_max_24h', 'rwi', 'mean_slope', 'std_slope', 'mean_tri',\n",
       "       'std_tri', 'mean_elev', 'coast_length', 'with_coast', 'urban', 'rural',\n",
       "       'water', 'total_pop', 'percent_houses_damaged_5years'],\n",
       "      dtype='object')"
      ]
     },
     "metadata": {},
     "output_type": "display_data"
    },
    {
     "name": "stderr",
     "output_type": "stream",
     "text": [
      "pandas.Int64Index is deprecated and will be removed from pandas in a future version. Use pandas.Index with the appropriate dtype instead.\n",
      "\n",
      "A value is trying to be set on a copy of a slice from a DataFrame.\n",
      "Try using .loc[row_indexer,col_indexer] = value instead\n",
      "\n",
      "See the caveats in the documentation: https://pandas.pydata.org/pandas-docs/stable/user_guide/indexing.html#returning-a-view-versus-a-copy\n",
      "\n",
      "A value is trying to be set on a copy of a slice from a DataFrame.\n",
      "Try using .loc[row_indexer,col_indexer] = value instead\n",
      "\n",
      "See the caveats in the documentation: https://pandas.pydata.org/pandas-docs/stable/user_guide/indexing.html#returning-a-view-versus-a-copy\n"
     ]
    },
    {
     "name": "stdout",
     "output_type": "stream",
     "text": [
      "[12:44:10] WARNING: /Users/runner/miniforge3/conda-bld/xgboost-split_1637426408905/work/src/learner.cc:576: \n",
      "Parameters: { \"early_stopping_rounds\" } might not be used.\n",
      "\n",
      "  This could be a false alarm, with some parameters getting used by language bindings but\n",
      "  then being mistakenly passed down to XGBoost core, or some parameter actually being used\n",
      "  but getting flagged wrongly here. Please open an issue if you find any such cases.\n",
      "\n",
      "\n",
      "[3.3039230185175996, 3.2251776693928584, 3.2664871102805275, 3.501705402397512, 3.305824252791194, 3.296356918791896, 3.3195800838714224, 3.0013254829172755, 3.390415771118743, 3.397420122675211, 3.1853493658818817, 3.280638126314829, 3.177206168687014, 3.2124364260001848, 3.5248639642950534, 3.077818662641583, 3.2854527233305975, 3.411733347618065, 3.174174390975052, 2.974043700209311, 3.4897638171784475, 3.5492651762098353, 3.34944955399755, 3.4282416663501576, 3.2426885980926214, 3.4395992206393875, 3.371993253233383, 3.2604809673680433, 3.0973052984821194, 3.231039434930128, 3.468242398641255, 3.41091552300152, 3.373100375399568, 3.264861382652408, 3.291763127958453, 3.63062502761599, 3.3486020215435905, 3.332284987588538, 3.6156101314197118, 3.350072976478329, 3.1555112074645724]\n"
     ]
    },
    {
     "data": {
      "text/plain": [
       "Index(['wind_speed', 'track_distance', 'total_houses', 'rainfall_max_6h',\n",
       "       'rainfall_max_24h', 'rwi', 'mean_slope', 'std_slope', 'mean_tri',\n",
       "       'std_tri', 'mean_elev', 'coast_length', 'with_coast', 'urban', 'rural',\n",
       "       'water', 'total_pop', 'percent_houses_damaged_5years'],\n",
       "      dtype='object')"
      ]
     },
     "metadata": {},
     "output_type": "display_data"
    },
    {
     "name": "stderr",
     "output_type": "stream",
     "text": [
      "pandas.Int64Index is deprecated and will be removed from pandas in a future version. Use pandas.Index with the appropriate dtype instead.\n"
     ]
    },
    {
     "name": "stdout",
     "output_type": "stream",
     "text": [
      "[12:44:12] WARNING: /Users/runner/miniforge3/conda-bld/xgboost-split_1637426408905/work/src/learner.cc:576: \n",
      "Parameters: { \"early_stopping_rounds\" } might not be used.\n",
      "\n",
      "  This could be a false alarm, with some parameters getting used by language bindings but\n",
      "  then being mistakenly passed down to XGBoost core, or some parameter actually being used\n",
      "  but getting flagged wrongly here. Please open an issue if you find any such cases.\n",
      "\n",
      "\n",
      "Counter({0: 38948, 1: 855})\n",
      "Counter({0: 8550, 1: 855})\n"
     ]
    },
    {
     "name": "stderr",
     "output_type": "stream",
     "text": [
      "The use of label encoder in XGBClassifier is deprecated and will be removed in a future release. To remove this warning, do the following: 1) Pass option use_label_encoder=False when constructing XGBClassifier object; and 2) Encode your labels (y) as integers starting with 0, i.e. 0, 1, 2, ..., [num_class - 1].\n",
      "pandas.Int64Index is deprecated and will be removed from pandas in a future version. Use pandas.Index with the appropriate dtype instead.\n"
     ]
    },
    {
     "data": {
      "text/plain": [
       "Index(['wind_speed', 'track_distance', 'total_houses', 'rainfall_max_6h',\n",
       "       'rainfall_max_24h', 'rwi', 'mean_slope', 'std_slope', 'mean_tri',\n",
       "       'std_tri', 'mean_elev', 'coast_length', 'with_coast', 'urban', 'rural',\n",
       "       'water', 'total_pop', 'percent_houses_damaged_5years'],\n",
       "      dtype='object')"
      ]
     },
     "metadata": {},
     "output_type": "display_data"
    },
    {
     "name": "stderr",
     "output_type": "stream",
     "text": [
      "pandas.Int64Index is deprecated and will be removed from pandas in a future version. Use pandas.Index with the appropriate dtype instead.\n",
      "\n",
      "A value is trying to be set on a copy of a slice from a DataFrame.\n",
      "Try using .loc[row_indexer,col_indexer] = value instead\n",
      "\n",
      "See the caveats in the documentation: https://pandas.pydata.org/pandas-docs/stable/user_guide/indexing.html#returning-a-view-versus-a-copy\n",
      "\n",
      "A value is trying to be set on a copy of a slice from a DataFrame.\n",
      "Try using .loc[row_indexer,col_indexer] = value instead\n",
      "\n",
      "See the caveats in the documentation: https://pandas.pydata.org/pandas-docs/stable/user_guide/indexing.html#returning-a-view-versus-a-copy\n"
     ]
    },
    {
     "name": "stdout",
     "output_type": "stream",
     "text": [
      "[12:44:15] WARNING: /Users/runner/miniforge3/conda-bld/xgboost-split_1637426408905/work/src/learner.cc:576: \n",
      "Parameters: { \"early_stopping_rounds\" } might not be used.\n",
      "\n",
      "  This could be a false alarm, with some parameters getting used by language bindings but\n",
      "  then being mistakenly passed down to XGBoost core, or some parameter actually being used\n",
      "  but getting flagged wrongly here. Please open an issue if you find any such cases.\n",
      "\n",
      "\n",
      "[3.3039230185175996, 3.2251776693928584, 3.2664871102805275, 3.501705402397512, 3.305824252791194, 3.296356918791896, 3.3195800838714224, 3.0013254829172755, 3.390415771118743, 3.397420122675211, 3.1853493658818817, 3.280638126314829, 3.177206168687014, 3.2124364260001848, 3.5248639642950534, 3.077818662641583, 3.2854527233305975, 3.411733347618065, 3.174174390975052, 2.974043700209311, 3.4897638171784475, 3.5492651762098353, 3.34944955399755, 3.4282416663501576, 3.2426885980926214, 3.4395992206393875, 3.371993253233383, 3.2604809673680433, 3.0973052984821194, 3.231039434930128, 3.468242398641255, 3.41091552300152, 3.373100375399568, 3.264861382652408, 3.291763127958453, 3.63062502761599, 3.3486020215435905, 3.332284987588538, 3.6156101314197118, 3.350072976478329, 3.1555112074645724, 3.3029712752061693]\n"
     ]
    },
    {
     "data": {
      "text/plain": [
       "Index(['wind_speed', 'track_distance', 'total_houses', 'rainfall_max_6h',\n",
       "       'rainfall_max_24h', 'rwi', 'mean_slope', 'std_slope', 'mean_tri',\n",
       "       'std_tri', 'mean_elev', 'coast_length', 'with_coast', 'urban', 'rural',\n",
       "       'water', 'total_pop', 'percent_houses_damaged_5years'],\n",
       "      dtype='object')"
      ]
     },
     "metadata": {},
     "output_type": "display_data"
    },
    {
     "name": "stderr",
     "output_type": "stream",
     "text": [
      "pandas.Int64Index is deprecated and will be removed from pandas in a future version. Use pandas.Index with the appropriate dtype instead.\n"
     ]
    },
    {
     "name": "stdout",
     "output_type": "stream",
     "text": [
      "[12:44:16] WARNING: /Users/runner/miniforge3/conda-bld/xgboost-split_1637426408905/work/src/learner.cc:576: \n",
      "Parameters: { \"early_stopping_rounds\" } might not be used.\n",
      "\n",
      "  This could be a false alarm, with some parameters getting used by language bindings but\n",
      "  then being mistakenly passed down to XGBoost core, or some parameter actually being used\n",
      "  but getting flagged wrongly here. Please open an issue if you find any such cases.\n",
      "\n",
      "\n",
      "Counter({0: 38948, 1: 855})\n",
      "Counter({0: 8550, 1: 855})\n"
     ]
    },
    {
     "name": "stderr",
     "output_type": "stream",
     "text": [
      "The use of label encoder in XGBClassifier is deprecated and will be removed in a future release. To remove this warning, do the following: 1) Pass option use_label_encoder=False when constructing XGBClassifier object; and 2) Encode your labels (y) as integers starting with 0, i.e. 0, 1, 2, ..., [num_class - 1].\n",
      "pandas.Int64Index is deprecated and will be removed from pandas in a future version. Use pandas.Index with the appropriate dtype instead.\n"
     ]
    },
    {
     "data": {
      "text/plain": [
       "Index(['wind_speed', 'track_distance', 'total_houses', 'rainfall_max_6h',\n",
       "       'rainfall_max_24h', 'rwi', 'mean_slope', 'std_slope', 'mean_tri',\n",
       "       'std_tri', 'mean_elev', 'coast_length', 'with_coast', 'urban', 'rural',\n",
       "       'water', 'total_pop', 'percent_houses_damaged_5years'],\n",
       "      dtype='object')"
      ]
     },
     "metadata": {},
     "output_type": "display_data"
    },
    {
     "name": "stderr",
     "output_type": "stream",
     "text": [
      "pandas.Int64Index is deprecated and will be removed from pandas in a future version. Use pandas.Index with the appropriate dtype instead.\n",
      "\n",
      "A value is trying to be set on a copy of a slice from a DataFrame.\n",
      "Try using .loc[row_indexer,col_indexer] = value instead\n",
      "\n",
      "See the caveats in the documentation: https://pandas.pydata.org/pandas-docs/stable/user_guide/indexing.html#returning-a-view-versus-a-copy\n",
      "\n",
      "A value is trying to be set on a copy of a slice from a DataFrame.\n",
      "Try using .loc[row_indexer,col_indexer] = value instead\n",
      "\n",
      "See the caveats in the documentation: https://pandas.pydata.org/pandas-docs/stable/user_guide/indexing.html#returning-a-view-versus-a-copy\n"
     ]
    },
    {
     "name": "stdout",
     "output_type": "stream",
     "text": [
      "[12:44:19] WARNING: /Users/runner/miniforge3/conda-bld/xgboost-split_1637426408905/work/src/learner.cc:576: \n",
      "Parameters: { \"early_stopping_rounds\" } might not be used.\n",
      "\n",
      "  This could be a false alarm, with some parameters getting used by language bindings but\n",
      "  then being mistakenly passed down to XGBoost core, or some parameter actually being used\n",
      "  but getting flagged wrongly here. Please open an issue if you find any such cases.\n",
      "\n",
      "\n",
      "[3.3039230185175996, 3.2251776693928584, 3.2664871102805275, 3.501705402397512, 3.305824252791194, 3.296356918791896, 3.3195800838714224, 3.0013254829172755, 3.390415771118743, 3.397420122675211, 3.1853493658818817, 3.280638126314829, 3.177206168687014, 3.2124364260001848, 3.5248639642950534, 3.077818662641583, 3.2854527233305975, 3.411733347618065, 3.174174390975052, 2.974043700209311, 3.4897638171784475, 3.5492651762098353, 3.34944955399755, 3.4282416663501576, 3.2426885980926214, 3.4395992206393875, 3.371993253233383, 3.2604809673680433, 3.0973052984821194, 3.231039434930128, 3.468242398641255, 3.41091552300152, 3.373100375399568, 3.264861382652408, 3.291763127958453, 3.63062502761599, 3.3486020215435905, 3.332284987588538, 3.6156101314197118, 3.350072976478329, 3.1555112074645724, 3.3029712752061693, 3.2173861242539132]\n"
     ]
    },
    {
     "data": {
      "text/plain": [
       "Index(['wind_speed', 'track_distance', 'total_houses', 'rainfall_max_6h',\n",
       "       'rainfall_max_24h', 'rwi', 'mean_slope', 'std_slope', 'mean_tri',\n",
       "       'std_tri', 'mean_elev', 'coast_length', 'with_coast', 'urban', 'rural',\n",
       "       'water', 'total_pop', 'percent_houses_damaged_5years'],\n",
       "      dtype='object')"
      ]
     },
     "metadata": {},
     "output_type": "display_data"
    },
    {
     "name": "stderr",
     "output_type": "stream",
     "text": [
      "pandas.Int64Index is deprecated and will be removed from pandas in a future version. Use pandas.Index with the appropriate dtype instead.\n"
     ]
    },
    {
     "name": "stdout",
     "output_type": "stream",
     "text": [
      "[12:44:21] WARNING: /Users/runner/miniforge3/conda-bld/xgboost-split_1637426408905/work/src/learner.cc:576: \n",
      "Parameters: { \"early_stopping_rounds\" } might not be used.\n",
      "\n",
      "  This could be a false alarm, with some parameters getting used by language bindings but\n",
      "  then being mistakenly passed down to XGBoost core, or some parameter actually being used\n",
      "  but getting flagged wrongly here. Please open an issue if you find any such cases.\n",
      "\n",
      "\n",
      "Counter({0: 38948, 1: 855})\n",
      "Counter({0: 8550, 1: 855})\n"
     ]
    },
    {
     "name": "stderr",
     "output_type": "stream",
     "text": [
      "The use of label encoder in XGBClassifier is deprecated and will be removed in a future release. To remove this warning, do the following: 1) Pass option use_label_encoder=False when constructing XGBClassifier object; and 2) Encode your labels (y) as integers starting with 0, i.e. 0, 1, 2, ..., [num_class - 1].\n",
      "pandas.Int64Index is deprecated and will be removed from pandas in a future version. Use pandas.Index with the appropriate dtype instead.\n"
     ]
    },
    {
     "data": {
      "text/plain": [
       "Index(['wind_speed', 'track_distance', 'total_houses', 'rainfall_max_6h',\n",
       "       'rainfall_max_24h', 'rwi', 'mean_slope', 'std_slope', 'mean_tri',\n",
       "       'std_tri', 'mean_elev', 'coast_length', 'with_coast', 'urban', 'rural',\n",
       "       'water', 'total_pop', 'percent_houses_damaged_5years'],\n",
       "      dtype='object')"
      ]
     },
     "metadata": {},
     "output_type": "display_data"
    },
    {
     "name": "stderr",
     "output_type": "stream",
     "text": [
      "pandas.Int64Index is deprecated and will be removed from pandas in a future version. Use pandas.Index with the appropriate dtype instead.\n",
      "\n",
      "A value is trying to be set on a copy of a slice from a DataFrame.\n",
      "Try using .loc[row_indexer,col_indexer] = value instead\n",
      "\n",
      "See the caveats in the documentation: https://pandas.pydata.org/pandas-docs/stable/user_guide/indexing.html#returning-a-view-versus-a-copy\n",
      "\n",
      "A value is trying to be set on a copy of a slice from a DataFrame.\n",
      "Try using .loc[row_indexer,col_indexer] = value instead\n",
      "\n",
      "See the caveats in the documentation: https://pandas.pydata.org/pandas-docs/stable/user_guide/indexing.html#returning-a-view-versus-a-copy\n"
     ]
    },
    {
     "name": "stdout",
     "output_type": "stream",
     "text": [
      "[12:44:24] WARNING: /Users/runner/miniforge3/conda-bld/xgboost-split_1637426408905/work/src/learner.cc:576: \n",
      "Parameters: { \"early_stopping_rounds\" } might not be used.\n",
      "\n",
      "  This could be a false alarm, with some parameters getting used by language bindings but\n",
      "  then being mistakenly passed down to XGBoost core, or some parameter actually being used\n",
      "  but getting flagged wrongly here. Please open an issue if you find any such cases.\n",
      "\n",
      "\n",
      "[3.3039230185175996, 3.2251776693928584, 3.2664871102805275, 3.501705402397512, 3.305824252791194, 3.296356918791896, 3.3195800838714224, 3.0013254829172755, 3.390415771118743, 3.397420122675211, 3.1853493658818817, 3.280638126314829, 3.177206168687014, 3.2124364260001848, 3.5248639642950534, 3.077818662641583, 3.2854527233305975, 3.411733347618065, 3.174174390975052, 2.974043700209311, 3.4897638171784475, 3.5492651762098353, 3.34944955399755, 3.4282416663501576, 3.2426885980926214, 3.4395992206393875, 3.371993253233383, 3.2604809673680433, 3.0973052984821194, 3.231039434930128, 3.468242398641255, 3.41091552300152, 3.373100375399568, 3.264861382652408, 3.291763127958453, 3.63062502761599, 3.3486020215435905, 3.332284987588538, 3.6156101314197118, 3.350072976478329, 3.1555112074645724, 3.3029712752061693, 3.2173861242539132, 3.281895934555158]\n"
     ]
    },
    {
     "data": {
      "text/plain": [
       "Index(['wind_speed', 'track_distance', 'total_houses', 'rainfall_max_6h',\n",
       "       'rainfall_max_24h', 'rwi', 'mean_slope', 'std_slope', 'mean_tri',\n",
       "       'std_tri', 'mean_elev', 'coast_length', 'with_coast', 'urban', 'rural',\n",
       "       'water', 'total_pop', 'percent_houses_damaged_5years'],\n",
       "      dtype='object')"
      ]
     },
     "metadata": {},
     "output_type": "display_data"
    },
    {
     "name": "stderr",
     "output_type": "stream",
     "text": [
      "pandas.Int64Index is deprecated and will be removed from pandas in a future version. Use pandas.Index with the appropriate dtype instead.\n"
     ]
    },
    {
     "name": "stdout",
     "output_type": "stream",
     "text": [
      "[12:44:25] WARNING: /Users/runner/miniforge3/conda-bld/xgboost-split_1637426408905/work/src/learner.cc:576: \n",
      "Parameters: { \"early_stopping_rounds\" } might not be used.\n",
      "\n",
      "  This could be a false alarm, with some parameters getting used by language bindings but\n",
      "  then being mistakenly passed down to XGBoost core, or some parameter actually being used\n",
      "  but getting flagged wrongly here. Please open an issue if you find any such cases.\n",
      "\n",
      "\n",
      "Counter({0: 38948, 1: 855})\n",
      "Counter({0: 8550, 1: 855})\n"
     ]
    },
    {
     "name": "stderr",
     "output_type": "stream",
     "text": [
      "The use of label encoder in XGBClassifier is deprecated and will be removed in a future release. To remove this warning, do the following: 1) Pass option use_label_encoder=False when constructing XGBClassifier object; and 2) Encode your labels (y) as integers starting with 0, i.e. 0, 1, 2, ..., [num_class - 1].\n",
      "pandas.Int64Index is deprecated and will be removed from pandas in a future version. Use pandas.Index with the appropriate dtype instead.\n"
     ]
    },
    {
     "data": {
      "text/plain": [
       "Index(['wind_speed', 'track_distance', 'total_houses', 'rainfall_max_6h',\n",
       "       'rainfall_max_24h', 'rwi', 'mean_slope', 'std_slope', 'mean_tri',\n",
       "       'std_tri', 'mean_elev', 'coast_length', 'with_coast', 'urban', 'rural',\n",
       "       'water', 'total_pop', 'percent_houses_damaged_5years'],\n",
       "      dtype='object')"
      ]
     },
     "metadata": {},
     "output_type": "display_data"
    },
    {
     "name": "stderr",
     "output_type": "stream",
     "text": [
      "pandas.Int64Index is deprecated and will be removed from pandas in a future version. Use pandas.Index with the appropriate dtype instead.\n",
      "\n",
      "A value is trying to be set on a copy of a slice from a DataFrame.\n",
      "Try using .loc[row_indexer,col_indexer] = value instead\n",
      "\n",
      "See the caveats in the documentation: https://pandas.pydata.org/pandas-docs/stable/user_guide/indexing.html#returning-a-view-versus-a-copy\n",
      "\n",
      "A value is trying to be set on a copy of a slice from a DataFrame.\n",
      "Try using .loc[row_indexer,col_indexer] = value instead\n",
      "\n",
      "See the caveats in the documentation: https://pandas.pydata.org/pandas-docs/stable/user_guide/indexing.html#returning-a-view-versus-a-copy\n"
     ]
    },
    {
     "name": "stdout",
     "output_type": "stream",
     "text": [
      "[12:44:28] WARNING: /Users/runner/miniforge3/conda-bld/xgboost-split_1637426408905/work/src/learner.cc:576: \n",
      "Parameters: { \"early_stopping_rounds\" } might not be used.\n",
      "\n",
      "  This could be a false alarm, with some parameters getting used by language bindings but\n",
      "  then being mistakenly passed down to XGBoost core, or some parameter actually being used\n",
      "  but getting flagged wrongly here. Please open an issue if you find any such cases.\n",
      "\n",
      "\n",
      "[3.3039230185175996, 3.2251776693928584, 3.2664871102805275, 3.501705402397512, 3.305824252791194, 3.296356918791896, 3.3195800838714224, 3.0013254829172755, 3.390415771118743, 3.397420122675211, 3.1853493658818817, 3.280638126314829, 3.177206168687014, 3.2124364260001848, 3.5248639642950534, 3.077818662641583, 3.2854527233305975, 3.411733347618065, 3.174174390975052, 2.974043700209311, 3.4897638171784475, 3.5492651762098353, 3.34944955399755, 3.4282416663501576, 3.2426885980926214, 3.4395992206393875, 3.371993253233383, 3.2604809673680433, 3.0973052984821194, 3.231039434930128, 3.468242398641255, 3.41091552300152, 3.373100375399568, 3.264861382652408, 3.291763127958453, 3.63062502761599, 3.3486020215435905, 3.332284987588538, 3.6156101314197118, 3.350072976478329, 3.1555112074645724, 3.3029712752061693, 3.2173861242539132, 3.281895934555158, 3.063005708081935]\n"
     ]
    },
    {
     "data": {
      "text/plain": [
       "Index(['wind_speed', 'track_distance', 'total_houses', 'rainfall_max_6h',\n",
       "       'rainfall_max_24h', 'rwi', 'mean_slope', 'std_slope', 'mean_tri',\n",
       "       'std_tri', 'mean_elev', 'coast_length', 'with_coast', 'urban', 'rural',\n",
       "       'water', 'total_pop', 'percent_houses_damaged_5years'],\n",
       "      dtype='object')"
      ]
     },
     "metadata": {},
     "output_type": "display_data"
    },
    {
     "name": "stderr",
     "output_type": "stream",
     "text": [
      "pandas.Int64Index is deprecated and will be removed from pandas in a future version. Use pandas.Index with the appropriate dtype instead.\n"
     ]
    },
    {
     "name": "stdout",
     "output_type": "stream",
     "text": [
      "[12:44:30] WARNING: /Users/runner/miniforge3/conda-bld/xgboost-split_1637426408905/work/src/learner.cc:576: \n",
      "Parameters: { \"early_stopping_rounds\" } might not be used.\n",
      "\n",
      "  This could be a false alarm, with some parameters getting used by language bindings but\n",
      "  then being mistakenly passed down to XGBoost core, or some parameter actually being used\n",
      "  but getting flagged wrongly here. Please open an issue if you find any such cases.\n",
      "\n",
      "\n",
      "Counter({0: 38948, 1: 855})\n",
      "Counter({0: 8550, 1: 855})\n"
     ]
    },
    {
     "name": "stderr",
     "output_type": "stream",
     "text": [
      "The use of label encoder in XGBClassifier is deprecated and will be removed in a future release. To remove this warning, do the following: 1) Pass option use_label_encoder=False when constructing XGBClassifier object; and 2) Encode your labels (y) as integers starting with 0, i.e. 0, 1, 2, ..., [num_class - 1].\n",
      "pandas.Int64Index is deprecated and will be removed from pandas in a future version. Use pandas.Index with the appropriate dtype instead.\n"
     ]
    },
    {
     "data": {
      "text/plain": [
       "Index(['wind_speed', 'track_distance', 'total_houses', 'rainfall_max_6h',\n",
       "       'rainfall_max_24h', 'rwi', 'mean_slope', 'std_slope', 'mean_tri',\n",
       "       'std_tri', 'mean_elev', 'coast_length', 'with_coast', 'urban', 'rural',\n",
       "       'water', 'total_pop', 'percent_houses_damaged_5years'],\n",
       "      dtype='object')"
      ]
     },
     "metadata": {},
     "output_type": "display_data"
    },
    {
     "name": "stderr",
     "output_type": "stream",
     "text": [
      "pandas.Int64Index is deprecated and will be removed from pandas in a future version. Use pandas.Index with the appropriate dtype instead.\n",
      "\n",
      "A value is trying to be set on a copy of a slice from a DataFrame.\n",
      "Try using .loc[row_indexer,col_indexer] = value instead\n",
      "\n",
      "See the caveats in the documentation: https://pandas.pydata.org/pandas-docs/stable/user_guide/indexing.html#returning-a-view-versus-a-copy\n",
      "\n",
      "A value is trying to be set on a copy of a slice from a DataFrame.\n",
      "Try using .loc[row_indexer,col_indexer] = value instead\n",
      "\n",
      "See the caveats in the documentation: https://pandas.pydata.org/pandas-docs/stable/user_guide/indexing.html#returning-a-view-versus-a-copy\n"
     ]
    },
    {
     "name": "stdout",
     "output_type": "stream",
     "text": [
      "[12:44:33] WARNING: /Users/runner/miniforge3/conda-bld/xgboost-split_1637426408905/work/src/learner.cc:576: \n",
      "Parameters: { \"early_stopping_rounds\" } might not be used.\n",
      "\n",
      "  This could be a false alarm, with some parameters getting used by language bindings but\n",
      "  then being mistakenly passed down to XGBoost core, or some parameter actually being used\n",
      "  but getting flagged wrongly here. Please open an issue if you find any such cases.\n",
      "\n",
      "\n",
      "[3.3039230185175996, 3.2251776693928584, 3.2664871102805275, 3.501705402397512, 3.305824252791194, 3.296356918791896, 3.3195800838714224, 3.0013254829172755, 3.390415771118743, 3.397420122675211, 3.1853493658818817, 3.280638126314829, 3.177206168687014, 3.2124364260001848, 3.5248639642950534, 3.077818662641583, 3.2854527233305975, 3.411733347618065, 3.174174390975052, 2.974043700209311, 3.4897638171784475, 3.5492651762098353, 3.34944955399755, 3.4282416663501576, 3.2426885980926214, 3.4395992206393875, 3.371993253233383, 3.2604809673680433, 3.0973052984821194, 3.231039434930128, 3.468242398641255, 3.41091552300152, 3.373100375399568, 3.264861382652408, 3.291763127958453, 3.63062502761599, 3.3486020215435905, 3.332284987588538, 3.6156101314197118, 3.350072976478329, 3.1555112074645724, 3.3029712752061693, 3.2173861242539132, 3.281895934555158, 3.063005708081935, 3.617982256950439]\n"
     ]
    },
    {
     "data": {
      "text/plain": [
       "Index(['wind_speed', 'track_distance', 'total_houses', 'rainfall_max_6h',\n",
       "       'rainfall_max_24h', 'rwi', 'mean_slope', 'std_slope', 'mean_tri',\n",
       "       'std_tri', 'mean_elev', 'coast_length', 'with_coast', 'urban', 'rural',\n",
       "       'water', 'total_pop', 'percent_houses_damaged_5years'],\n",
       "      dtype='object')"
      ]
     },
     "metadata": {},
     "output_type": "display_data"
    },
    {
     "name": "stderr",
     "output_type": "stream",
     "text": [
      "pandas.Int64Index is deprecated and will be removed from pandas in a future version. Use pandas.Index with the appropriate dtype instead.\n"
     ]
    },
    {
     "name": "stdout",
     "output_type": "stream",
     "text": [
      "[12:44:34] WARNING: /Users/runner/miniforge3/conda-bld/xgboost-split_1637426408905/work/src/learner.cc:576: \n",
      "Parameters: { \"early_stopping_rounds\" } might not be used.\n",
      "\n",
      "  This could be a false alarm, with some parameters getting used by language bindings but\n",
      "  then being mistakenly passed down to XGBoost core, or some parameter actually being used\n",
      "  but getting flagged wrongly here. Please open an issue if you find any such cases.\n",
      "\n",
      "\n",
      "Counter({0: 38948, 1: 855})\n",
      "Counter({0: 8550, 1: 855})\n"
     ]
    },
    {
     "name": "stderr",
     "output_type": "stream",
     "text": [
      "The use of label encoder in XGBClassifier is deprecated and will be removed in a future release. To remove this warning, do the following: 1) Pass option use_label_encoder=False when constructing XGBClassifier object; and 2) Encode your labels (y) as integers starting with 0, i.e. 0, 1, 2, ..., [num_class - 1].\n",
      "pandas.Int64Index is deprecated and will be removed from pandas in a future version. Use pandas.Index with the appropriate dtype instead.\n"
     ]
    },
    {
     "data": {
      "text/plain": [
       "Index(['wind_speed', 'track_distance', 'total_houses', 'rainfall_max_6h',\n",
       "       'rainfall_max_24h', 'rwi', 'mean_slope', 'std_slope', 'mean_tri',\n",
       "       'std_tri', 'mean_elev', 'coast_length', 'with_coast', 'urban', 'rural',\n",
       "       'water', 'total_pop', 'percent_houses_damaged_5years'],\n",
       "      dtype='object')"
      ]
     },
     "metadata": {},
     "output_type": "display_data"
    },
    {
     "name": "stderr",
     "output_type": "stream",
     "text": [
      "pandas.Int64Index is deprecated and will be removed from pandas in a future version. Use pandas.Index with the appropriate dtype instead.\n",
      "\n",
      "A value is trying to be set on a copy of a slice from a DataFrame.\n",
      "Try using .loc[row_indexer,col_indexer] = value instead\n",
      "\n",
      "See the caveats in the documentation: https://pandas.pydata.org/pandas-docs/stable/user_guide/indexing.html#returning-a-view-versus-a-copy\n",
      "\n",
      "A value is trying to be set on a copy of a slice from a DataFrame.\n",
      "Try using .loc[row_indexer,col_indexer] = value instead\n",
      "\n",
      "See the caveats in the documentation: https://pandas.pydata.org/pandas-docs/stable/user_guide/indexing.html#returning-a-view-versus-a-copy\n"
     ]
    },
    {
     "name": "stdout",
     "output_type": "stream",
     "text": [
      "[12:44:37] WARNING: /Users/runner/miniforge3/conda-bld/xgboost-split_1637426408905/work/src/learner.cc:576: \n",
      "Parameters: { \"early_stopping_rounds\" } might not be used.\n",
      "\n",
      "  This could be a false alarm, with some parameters getting used by language bindings but\n",
      "  then being mistakenly passed down to XGBoost core, or some parameter actually being used\n",
      "  but getting flagged wrongly here. Please open an issue if you find any such cases.\n",
      "\n",
      "\n",
      "[3.3039230185175996, 3.2251776693928584, 3.2664871102805275, 3.501705402397512, 3.305824252791194, 3.296356918791896, 3.3195800838714224, 3.0013254829172755, 3.390415771118743, 3.397420122675211, 3.1853493658818817, 3.280638126314829, 3.177206168687014, 3.2124364260001848, 3.5248639642950534, 3.077818662641583, 3.2854527233305975, 3.411733347618065, 3.174174390975052, 2.974043700209311, 3.4897638171784475, 3.5492651762098353, 3.34944955399755, 3.4282416663501576, 3.2426885980926214, 3.4395992206393875, 3.371993253233383, 3.2604809673680433, 3.0973052984821194, 3.231039434930128, 3.468242398641255, 3.41091552300152, 3.373100375399568, 3.264861382652408, 3.291763127958453, 3.63062502761599, 3.3486020215435905, 3.332284987588538, 3.6156101314197118, 3.350072976478329, 3.1555112074645724, 3.3029712752061693, 3.2173861242539132, 3.281895934555158, 3.063005708081935, 3.617982256950439, 3.172032396690705]\n"
     ]
    },
    {
     "data": {
      "text/plain": [
       "Index(['wind_speed', 'track_distance', 'total_houses', 'rainfall_max_6h',\n",
       "       'rainfall_max_24h', 'rwi', 'mean_slope', 'std_slope', 'mean_tri',\n",
       "       'std_tri', 'mean_elev', 'coast_length', 'with_coast', 'urban', 'rural',\n",
       "       'water', 'total_pop', 'percent_houses_damaged_5years'],\n",
       "      dtype='object')"
      ]
     },
     "metadata": {},
     "output_type": "display_data"
    },
    {
     "name": "stderr",
     "output_type": "stream",
     "text": [
      "pandas.Int64Index is deprecated and will be removed from pandas in a future version. Use pandas.Index with the appropriate dtype instead.\n"
     ]
    },
    {
     "name": "stdout",
     "output_type": "stream",
     "text": [
      "[12:44:39] WARNING: /Users/runner/miniforge3/conda-bld/xgboost-split_1637426408905/work/src/learner.cc:576: \n",
      "Parameters: { \"early_stopping_rounds\" } might not be used.\n",
      "\n",
      "  This could be a false alarm, with some parameters getting used by language bindings but\n",
      "  then being mistakenly passed down to XGBoost core, or some parameter actually being used\n",
      "  but getting flagged wrongly here. Please open an issue if you find any such cases.\n",
      "\n",
      "\n",
      "Counter({0: 38948, 1: 855})\n",
      "Counter({0: 8550, 1: 855})\n"
     ]
    },
    {
     "name": "stderr",
     "output_type": "stream",
     "text": [
      "The use of label encoder in XGBClassifier is deprecated and will be removed in a future release. To remove this warning, do the following: 1) Pass option use_label_encoder=False when constructing XGBClassifier object; and 2) Encode your labels (y) as integers starting with 0, i.e. 0, 1, 2, ..., [num_class - 1].\n",
      "pandas.Int64Index is deprecated and will be removed from pandas in a future version. Use pandas.Index with the appropriate dtype instead.\n"
     ]
    },
    {
     "data": {
      "text/plain": [
       "Index(['wind_speed', 'track_distance', 'total_houses', 'rainfall_max_6h',\n",
       "       'rainfall_max_24h', 'rwi', 'mean_slope', 'std_slope', 'mean_tri',\n",
       "       'std_tri', 'mean_elev', 'coast_length', 'with_coast', 'urban', 'rural',\n",
       "       'water', 'total_pop', 'percent_houses_damaged_5years'],\n",
       "      dtype='object')"
      ]
     },
     "metadata": {},
     "output_type": "display_data"
    },
    {
     "name": "stderr",
     "output_type": "stream",
     "text": [
      "pandas.Int64Index is deprecated and will be removed from pandas in a future version. Use pandas.Index with the appropriate dtype instead.\n",
      "\n",
      "A value is trying to be set on a copy of a slice from a DataFrame.\n",
      "Try using .loc[row_indexer,col_indexer] = value instead\n",
      "\n",
      "See the caveats in the documentation: https://pandas.pydata.org/pandas-docs/stable/user_guide/indexing.html#returning-a-view-versus-a-copy\n",
      "\n",
      "A value is trying to be set on a copy of a slice from a DataFrame.\n",
      "Try using .loc[row_indexer,col_indexer] = value instead\n",
      "\n",
      "See the caveats in the documentation: https://pandas.pydata.org/pandas-docs/stable/user_guide/indexing.html#returning-a-view-versus-a-copy\n"
     ]
    },
    {
     "name": "stdout",
     "output_type": "stream",
     "text": [
      "[12:44:42] WARNING: /Users/runner/miniforge3/conda-bld/xgboost-split_1637426408905/work/src/learner.cc:576: \n",
      "Parameters: { \"early_stopping_rounds\" } might not be used.\n",
      "\n",
      "  This could be a false alarm, with some parameters getting used by language bindings but\n",
      "  then being mistakenly passed down to XGBoost core, or some parameter actually being used\n",
      "  but getting flagged wrongly here. Please open an issue if you find any such cases.\n",
      "\n",
      "\n",
      "[3.3039230185175996, 3.2251776693928584, 3.2664871102805275, 3.501705402397512, 3.305824252791194, 3.296356918791896, 3.3195800838714224, 3.0013254829172755, 3.390415771118743, 3.397420122675211, 3.1853493658818817, 3.280638126314829, 3.177206168687014, 3.2124364260001848, 3.5248639642950534, 3.077818662641583, 3.2854527233305975, 3.411733347618065, 3.174174390975052, 2.974043700209311, 3.4897638171784475, 3.5492651762098353, 3.34944955399755, 3.4282416663501576, 3.2426885980926214, 3.4395992206393875, 3.371993253233383, 3.2604809673680433, 3.0973052984821194, 3.231039434930128, 3.468242398641255, 3.41091552300152, 3.373100375399568, 3.264861382652408, 3.291763127958453, 3.63062502761599, 3.3486020215435905, 3.332284987588538, 3.6156101314197118, 3.350072976478329, 3.1555112074645724, 3.3029712752061693, 3.2173861242539132, 3.281895934555158, 3.063005708081935, 3.617982256950439, 3.172032396690705, 3.106838301567577]\n"
     ]
    },
    {
     "data": {
      "text/plain": [
       "Index(['wind_speed', 'track_distance', 'total_houses', 'rainfall_max_6h',\n",
       "       'rainfall_max_24h', 'rwi', 'mean_slope', 'std_slope', 'mean_tri',\n",
       "       'std_tri', 'mean_elev', 'coast_length', 'with_coast', 'urban', 'rural',\n",
       "       'water', 'total_pop', 'percent_houses_damaged_5years'],\n",
       "      dtype='object')"
      ]
     },
     "metadata": {},
     "output_type": "display_data"
    },
    {
     "name": "stderr",
     "output_type": "stream",
     "text": [
      "pandas.Int64Index is deprecated and will be removed from pandas in a future version. Use pandas.Index with the appropriate dtype instead.\n"
     ]
    },
    {
     "name": "stdout",
     "output_type": "stream",
     "text": [
      "[12:44:43] WARNING: /Users/runner/miniforge3/conda-bld/xgboost-split_1637426408905/work/src/learner.cc:576: \n",
      "Parameters: { \"early_stopping_rounds\" } might not be used.\n",
      "\n",
      "  This could be a false alarm, with some parameters getting used by language bindings but\n",
      "  then being mistakenly passed down to XGBoost core, or some parameter actually being used\n",
      "  but getting flagged wrongly here. Please open an issue if you find any such cases.\n",
      "\n",
      "\n",
      "Counter({0: 38948, 1: 855})\n",
      "Counter({0: 8550, 1: 855})\n"
     ]
    },
    {
     "name": "stderr",
     "output_type": "stream",
     "text": [
      "The use of label encoder in XGBClassifier is deprecated and will be removed in a future release. To remove this warning, do the following: 1) Pass option use_label_encoder=False when constructing XGBClassifier object; and 2) Encode your labels (y) as integers starting with 0, i.e. 0, 1, 2, ..., [num_class - 1].\n",
      "pandas.Int64Index is deprecated and will be removed from pandas in a future version. Use pandas.Index with the appropriate dtype instead.\n"
     ]
    },
    {
     "data": {
      "text/plain": [
       "Index(['wind_speed', 'track_distance', 'total_houses', 'rainfall_max_6h',\n",
       "       'rainfall_max_24h', 'rwi', 'mean_slope', 'std_slope', 'mean_tri',\n",
       "       'std_tri', 'mean_elev', 'coast_length', 'with_coast', 'urban', 'rural',\n",
       "       'water', 'total_pop', 'percent_houses_damaged_5years'],\n",
       "      dtype='object')"
      ]
     },
     "metadata": {},
     "output_type": "display_data"
    },
    {
     "name": "stderr",
     "output_type": "stream",
     "text": [
      "pandas.Int64Index is deprecated and will be removed from pandas in a future version. Use pandas.Index with the appropriate dtype instead.\n",
      "\n",
      "A value is trying to be set on a copy of a slice from a DataFrame.\n",
      "Try using .loc[row_indexer,col_indexer] = value instead\n",
      "\n",
      "See the caveats in the documentation: https://pandas.pydata.org/pandas-docs/stable/user_guide/indexing.html#returning-a-view-versus-a-copy\n",
      "\n",
      "A value is trying to be set on a copy of a slice from a DataFrame.\n",
      "Try using .loc[row_indexer,col_indexer] = value instead\n",
      "\n",
      "See the caveats in the documentation: https://pandas.pydata.org/pandas-docs/stable/user_guide/indexing.html#returning-a-view-versus-a-copy\n"
     ]
    },
    {
     "name": "stdout",
     "output_type": "stream",
     "text": [
      "[12:44:47] WARNING: /Users/runner/miniforge3/conda-bld/xgboost-split_1637426408905/work/src/learner.cc:576: \n",
      "Parameters: { \"early_stopping_rounds\" } might not be used.\n",
      "\n",
      "  This could be a false alarm, with some parameters getting used by language bindings but\n",
      "  then being mistakenly passed down to XGBoost core, or some parameter actually being used\n",
      "  but getting flagged wrongly here. Please open an issue if you find any such cases.\n",
      "\n",
      "\n",
      "[3.3039230185175996, 3.2251776693928584, 3.2664871102805275, 3.501705402397512, 3.305824252791194, 3.296356918791896, 3.3195800838714224, 3.0013254829172755, 3.390415771118743, 3.397420122675211, 3.1853493658818817, 3.280638126314829, 3.177206168687014, 3.2124364260001848, 3.5248639642950534, 3.077818662641583, 3.2854527233305975, 3.411733347618065, 3.174174390975052, 2.974043700209311, 3.4897638171784475, 3.5492651762098353, 3.34944955399755, 3.4282416663501576, 3.2426885980926214, 3.4395992206393875, 3.371993253233383, 3.2604809673680433, 3.0973052984821194, 3.231039434930128, 3.468242398641255, 3.41091552300152, 3.373100375399568, 3.264861382652408, 3.291763127958453, 3.63062502761599, 3.3486020215435905, 3.332284987588538, 3.6156101314197118, 3.350072976478329, 3.1555112074645724, 3.3029712752061693, 3.2173861242539132, 3.281895934555158, 3.063005708081935, 3.617982256950439, 3.172032396690705, 3.106838301567577, 3.295411254079132]\n"
     ]
    },
    {
     "data": {
      "text/plain": [
       "Index(['wind_speed', 'track_distance', 'total_houses', 'rainfall_max_6h',\n",
       "       'rainfall_max_24h', 'rwi', 'mean_slope', 'std_slope', 'mean_tri',\n",
       "       'std_tri', 'mean_elev', 'coast_length', 'with_coast', 'urban', 'rural',\n",
       "       'water', 'total_pop', 'percent_houses_damaged_5years'],\n",
       "      dtype='object')"
      ]
     },
     "metadata": {},
     "output_type": "display_data"
    },
    {
     "name": "stderr",
     "output_type": "stream",
     "text": [
      "pandas.Int64Index is deprecated and will be removed from pandas in a future version. Use pandas.Index with the appropriate dtype instead.\n"
     ]
    },
    {
     "name": "stdout",
     "output_type": "stream",
     "text": [
      "[12:44:48] WARNING: /Users/runner/miniforge3/conda-bld/xgboost-split_1637426408905/work/src/learner.cc:576: \n",
      "Parameters: { \"early_stopping_rounds\" } might not be used.\n",
      "\n",
      "  This could be a false alarm, with some parameters getting used by language bindings but\n",
      "  then being mistakenly passed down to XGBoost core, or some parameter actually being used\n",
      "  but getting flagged wrongly here. Please open an issue if you find any such cases.\n",
      "\n",
      "\n",
      "Counter({0: 38948, 1: 855})\n",
      "Counter({0: 8550, 1: 855})\n"
     ]
    },
    {
     "name": "stderr",
     "output_type": "stream",
     "text": [
      "The use of label encoder in XGBClassifier is deprecated and will be removed in a future release. To remove this warning, do the following: 1) Pass option use_label_encoder=False when constructing XGBClassifier object; and 2) Encode your labels (y) as integers starting with 0, i.e. 0, 1, 2, ..., [num_class - 1].\n",
      "pandas.Int64Index is deprecated and will be removed from pandas in a future version. Use pandas.Index with the appropriate dtype instead.\n"
     ]
    },
    {
     "data": {
      "text/plain": [
       "Index(['wind_speed', 'track_distance', 'total_houses', 'rainfall_max_6h',\n",
       "       'rainfall_max_24h', 'rwi', 'mean_slope', 'std_slope', 'mean_tri',\n",
       "       'std_tri', 'mean_elev', 'coast_length', 'with_coast', 'urban', 'rural',\n",
       "       'water', 'total_pop', 'percent_houses_damaged_5years'],\n",
       "      dtype='object')"
      ]
     },
     "metadata": {},
     "output_type": "display_data"
    },
    {
     "name": "stderr",
     "output_type": "stream",
     "text": [
      "pandas.Int64Index is deprecated and will be removed from pandas in a future version. Use pandas.Index with the appropriate dtype instead.\n",
      "\n",
      "A value is trying to be set on a copy of a slice from a DataFrame.\n",
      "Try using .loc[row_indexer,col_indexer] = value instead\n",
      "\n",
      "See the caveats in the documentation: https://pandas.pydata.org/pandas-docs/stable/user_guide/indexing.html#returning-a-view-versus-a-copy\n",
      "\n",
      "A value is trying to be set on a copy of a slice from a DataFrame.\n",
      "Try using .loc[row_indexer,col_indexer] = value instead\n",
      "\n",
      "See the caveats in the documentation: https://pandas.pydata.org/pandas-docs/stable/user_guide/indexing.html#returning-a-view-versus-a-copy\n"
     ]
    },
    {
     "name": "stdout",
     "output_type": "stream",
     "text": [
      "[12:44:51] WARNING: /Users/runner/miniforge3/conda-bld/xgboost-split_1637426408905/work/src/learner.cc:576: \n",
      "Parameters: { \"early_stopping_rounds\" } might not be used.\n",
      "\n",
      "  This could be a false alarm, with some parameters getting used by language bindings but\n",
      "  then being mistakenly passed down to XGBoost core, or some parameter actually being used\n",
      "  but getting flagged wrongly here. Please open an issue if you find any such cases.\n",
      "\n",
      "\n",
      "[3.3039230185175996, 3.2251776693928584, 3.2664871102805275, 3.501705402397512, 3.305824252791194, 3.296356918791896, 3.3195800838714224, 3.0013254829172755, 3.390415771118743, 3.397420122675211, 3.1853493658818817, 3.280638126314829, 3.177206168687014, 3.2124364260001848, 3.5248639642950534, 3.077818662641583, 3.2854527233305975, 3.411733347618065, 3.174174390975052, 2.974043700209311, 3.4897638171784475, 3.5492651762098353, 3.34944955399755, 3.4282416663501576, 3.2426885980926214, 3.4395992206393875, 3.371993253233383, 3.2604809673680433, 3.0973052984821194, 3.231039434930128, 3.468242398641255, 3.41091552300152, 3.373100375399568, 3.264861382652408, 3.291763127958453, 3.63062502761599, 3.3486020215435905, 3.332284987588538, 3.6156101314197118, 3.350072976478329, 3.1555112074645724, 3.3029712752061693, 3.2173861242539132, 3.281895934555158, 3.063005708081935, 3.617982256950439, 3.172032396690705, 3.106838301567577, 3.295411254079132, 3.155531981176172]\n"
     ]
    },
    {
     "data": {
      "text/plain": [
       "Index(['wind_speed', 'track_distance', 'total_houses', 'rainfall_max_6h',\n",
       "       'rainfall_max_24h', 'rwi', 'mean_slope', 'std_slope', 'mean_tri',\n",
       "       'std_tri', 'mean_elev', 'coast_length', 'with_coast', 'urban', 'rural',\n",
       "       'water', 'total_pop', 'percent_houses_damaged_5years'],\n",
       "      dtype='object')"
      ]
     },
     "metadata": {},
     "output_type": "display_data"
    },
    {
     "name": "stderr",
     "output_type": "stream",
     "text": [
      "pandas.Int64Index is deprecated and will be removed from pandas in a future version. Use pandas.Index with the appropriate dtype instead.\n"
     ]
    },
    {
     "name": "stdout",
     "output_type": "stream",
     "text": [
      "[12:44:52] WARNING: /Users/runner/miniforge3/conda-bld/xgboost-split_1637426408905/work/src/learner.cc:576: \n",
      "Parameters: { \"early_stopping_rounds\" } might not be used.\n",
      "\n",
      "  This could be a false alarm, with some parameters getting used by language bindings but\n",
      "  then being mistakenly passed down to XGBoost core, or some parameter actually being used\n",
      "  but getting flagged wrongly here. Please open an issue if you find any such cases.\n",
      "\n",
      "\n",
      "Counter({0: 38948, 1: 855})\n",
      "Counter({0: 8550, 1: 855})\n"
     ]
    },
    {
     "name": "stderr",
     "output_type": "stream",
     "text": [
      "The use of label encoder in XGBClassifier is deprecated and will be removed in a future release. To remove this warning, do the following: 1) Pass option use_label_encoder=False when constructing XGBClassifier object; and 2) Encode your labels (y) as integers starting with 0, i.e. 0, 1, 2, ..., [num_class - 1].\n",
      "pandas.Int64Index is deprecated and will be removed from pandas in a future version. Use pandas.Index with the appropriate dtype instead.\n"
     ]
    },
    {
     "data": {
      "text/plain": [
       "Index(['wind_speed', 'track_distance', 'total_houses', 'rainfall_max_6h',\n",
       "       'rainfall_max_24h', 'rwi', 'mean_slope', 'std_slope', 'mean_tri',\n",
       "       'std_tri', 'mean_elev', 'coast_length', 'with_coast', 'urban', 'rural',\n",
       "       'water', 'total_pop', 'percent_houses_damaged_5years'],\n",
       "      dtype='object')"
      ]
     },
     "metadata": {},
     "output_type": "display_data"
    },
    {
     "name": "stderr",
     "output_type": "stream",
     "text": [
      "pandas.Int64Index is deprecated and will be removed from pandas in a future version. Use pandas.Index with the appropriate dtype instead.\n",
      "\n",
      "A value is trying to be set on a copy of a slice from a DataFrame.\n",
      "Try using .loc[row_indexer,col_indexer] = value instead\n",
      "\n",
      "See the caveats in the documentation: https://pandas.pydata.org/pandas-docs/stable/user_guide/indexing.html#returning-a-view-versus-a-copy\n",
      "\n",
      "A value is trying to be set on a copy of a slice from a DataFrame.\n",
      "Try using .loc[row_indexer,col_indexer] = value instead\n",
      "\n",
      "See the caveats in the documentation: https://pandas.pydata.org/pandas-docs/stable/user_guide/indexing.html#returning-a-view-versus-a-copy\n"
     ]
    },
    {
     "name": "stdout",
     "output_type": "stream",
     "text": [
      "[12:44:56] WARNING: /Users/runner/miniforge3/conda-bld/xgboost-split_1637426408905/work/src/learner.cc:576: \n",
      "Parameters: { \"early_stopping_rounds\" } might not be used.\n",
      "\n",
      "  This could be a false alarm, with some parameters getting used by language bindings but\n",
      "  then being mistakenly passed down to XGBoost core, or some parameter actually being used\n",
      "  but getting flagged wrongly here. Please open an issue if you find any such cases.\n",
      "\n",
      "\n",
      "[3.3039230185175996, 3.2251776693928584, 3.2664871102805275, 3.501705402397512, 3.305824252791194, 3.296356918791896, 3.3195800838714224, 3.0013254829172755, 3.390415771118743, 3.397420122675211, 3.1853493658818817, 3.280638126314829, 3.177206168687014, 3.2124364260001848, 3.5248639642950534, 3.077818662641583, 3.2854527233305975, 3.411733347618065, 3.174174390975052, 2.974043700209311, 3.4897638171784475, 3.5492651762098353, 3.34944955399755, 3.4282416663501576, 3.2426885980926214, 3.4395992206393875, 3.371993253233383, 3.2604809673680433, 3.0973052984821194, 3.231039434930128, 3.468242398641255, 3.41091552300152, 3.373100375399568, 3.264861382652408, 3.291763127958453, 3.63062502761599, 3.3486020215435905, 3.332284987588538, 3.6156101314197118, 3.350072976478329, 3.1555112074645724, 3.3029712752061693, 3.2173861242539132, 3.281895934555158, 3.063005708081935, 3.617982256950439, 3.172032396690705, 3.106838301567577, 3.295411254079132, 3.155531981176172, 3.2369918840214096]\n"
     ]
    },
    {
     "data": {
      "text/plain": [
       "Index(['wind_speed', 'track_distance', 'total_houses', 'rainfall_max_6h',\n",
       "       'rainfall_max_24h', 'rwi', 'mean_slope', 'std_slope', 'mean_tri',\n",
       "       'std_tri', 'mean_elev', 'coast_length', 'with_coast', 'urban', 'rural',\n",
       "       'water', 'total_pop', 'percent_houses_damaged_5years'],\n",
       "      dtype='object')"
      ]
     },
     "metadata": {},
     "output_type": "display_data"
    },
    {
     "name": "stderr",
     "output_type": "stream",
     "text": [
      "pandas.Int64Index is deprecated and will be removed from pandas in a future version. Use pandas.Index with the appropriate dtype instead.\n"
     ]
    },
    {
     "name": "stdout",
     "output_type": "stream",
     "text": [
      "[12:44:57] WARNING: /Users/runner/miniforge3/conda-bld/xgboost-split_1637426408905/work/src/learner.cc:576: \n",
      "Parameters: { \"early_stopping_rounds\" } might not be used.\n",
      "\n",
      "  This could be a false alarm, with some parameters getting used by language bindings but\n",
      "  then being mistakenly passed down to XGBoost core, or some parameter actually being used\n",
      "  but getting flagged wrongly here. Please open an issue if you find any such cases.\n",
      "\n",
      "\n",
      "Counter({0: 38948, 1: 855})\n",
      "Counter({0: 8550, 1: 855})\n"
     ]
    },
    {
     "name": "stderr",
     "output_type": "stream",
     "text": [
      "The use of label encoder in XGBClassifier is deprecated and will be removed in a future release. To remove this warning, do the following: 1) Pass option use_label_encoder=False when constructing XGBClassifier object; and 2) Encode your labels (y) as integers starting with 0, i.e. 0, 1, 2, ..., [num_class - 1].\n",
      "pandas.Int64Index is deprecated and will be removed from pandas in a future version. Use pandas.Index with the appropriate dtype instead.\n"
     ]
    },
    {
     "data": {
      "text/plain": [
       "Index(['wind_speed', 'track_distance', 'total_houses', 'rainfall_max_6h',\n",
       "       'rainfall_max_24h', 'rwi', 'mean_slope', 'std_slope', 'mean_tri',\n",
       "       'std_tri', 'mean_elev', 'coast_length', 'with_coast', 'urban', 'rural',\n",
       "       'water', 'total_pop', 'percent_houses_damaged_5years'],\n",
       "      dtype='object')"
      ]
     },
     "metadata": {},
     "output_type": "display_data"
    },
    {
     "name": "stderr",
     "output_type": "stream",
     "text": [
      "pandas.Int64Index is deprecated and will be removed from pandas in a future version. Use pandas.Index with the appropriate dtype instead.\n",
      "\n",
      "A value is trying to be set on a copy of a slice from a DataFrame.\n",
      "Try using .loc[row_indexer,col_indexer] = value instead\n",
      "\n",
      "See the caveats in the documentation: https://pandas.pydata.org/pandas-docs/stable/user_guide/indexing.html#returning-a-view-versus-a-copy\n",
      "\n",
      "A value is trying to be set on a copy of a slice from a DataFrame.\n",
      "Try using .loc[row_indexer,col_indexer] = value instead\n",
      "\n",
      "See the caveats in the documentation: https://pandas.pydata.org/pandas-docs/stable/user_guide/indexing.html#returning-a-view-versus-a-copy\n"
     ]
    },
    {
     "name": "stdout",
     "output_type": "stream",
     "text": [
      "[12:45:00] WARNING: /Users/runner/miniforge3/conda-bld/xgboost-split_1637426408905/work/src/learner.cc:576: \n",
      "Parameters: { \"early_stopping_rounds\" } might not be used.\n",
      "\n",
      "  This could be a false alarm, with some parameters getting used by language bindings but\n",
      "  then being mistakenly passed down to XGBoost core, or some parameter actually being used\n",
      "  but getting flagged wrongly here. Please open an issue if you find any such cases.\n",
      "\n",
      "\n",
      "[3.3039230185175996, 3.2251776693928584, 3.2664871102805275, 3.501705402397512, 3.305824252791194, 3.296356918791896, 3.3195800838714224, 3.0013254829172755, 3.390415771118743, 3.397420122675211, 3.1853493658818817, 3.280638126314829, 3.177206168687014, 3.2124364260001848, 3.5248639642950534, 3.077818662641583, 3.2854527233305975, 3.411733347618065, 3.174174390975052, 2.974043700209311, 3.4897638171784475, 3.5492651762098353, 3.34944955399755, 3.4282416663501576, 3.2426885980926214, 3.4395992206393875, 3.371993253233383, 3.2604809673680433, 3.0973052984821194, 3.231039434930128, 3.468242398641255, 3.41091552300152, 3.373100375399568, 3.264861382652408, 3.291763127958453, 3.63062502761599, 3.3486020215435905, 3.332284987588538, 3.6156101314197118, 3.350072976478329, 3.1555112074645724, 3.3029712752061693, 3.2173861242539132, 3.281895934555158, 3.063005708081935, 3.617982256950439, 3.172032396690705, 3.106838301567577, 3.295411254079132, 3.155531981176172, 3.2369918840214096, 3.2019974475449757]\n"
     ]
    },
    {
     "data": {
      "text/plain": [
       "Index(['wind_speed', 'track_distance', 'total_houses', 'rainfall_max_6h',\n",
       "       'rainfall_max_24h', 'rwi', 'mean_slope', 'std_slope', 'mean_tri',\n",
       "       'std_tri', 'mean_elev', 'coast_length', 'with_coast', 'urban', 'rural',\n",
       "       'water', 'total_pop', 'percent_houses_damaged_5years'],\n",
       "      dtype='object')"
      ]
     },
     "metadata": {},
     "output_type": "display_data"
    },
    {
     "name": "stderr",
     "output_type": "stream",
     "text": [
      "pandas.Int64Index is deprecated and will be removed from pandas in a future version. Use pandas.Index with the appropriate dtype instead.\n"
     ]
    },
    {
     "name": "stdout",
     "output_type": "stream",
     "text": [
      "[12:45:02] WARNING: /Users/runner/miniforge3/conda-bld/xgboost-split_1637426408905/work/src/learner.cc:576: \n",
      "Parameters: { \"early_stopping_rounds\" } might not be used.\n",
      "\n",
      "  This could be a false alarm, with some parameters getting used by language bindings but\n",
      "  then being mistakenly passed down to XGBoost core, or some parameter actually being used\n",
      "  but getting flagged wrongly here. Please open an issue if you find any such cases.\n",
      "\n",
      "\n",
      "Counter({0: 38948, 1: 855})\n",
      "Counter({0: 8550, 1: 855})\n"
     ]
    },
    {
     "name": "stderr",
     "output_type": "stream",
     "text": [
      "The use of label encoder in XGBClassifier is deprecated and will be removed in a future release. To remove this warning, do the following: 1) Pass option use_label_encoder=False when constructing XGBClassifier object; and 2) Encode your labels (y) as integers starting with 0, i.e. 0, 1, 2, ..., [num_class - 1].\n",
      "pandas.Int64Index is deprecated and will be removed from pandas in a future version. Use pandas.Index with the appropriate dtype instead.\n"
     ]
    },
    {
     "data": {
      "text/plain": [
       "Index(['wind_speed', 'track_distance', 'total_houses', 'rainfall_max_6h',\n",
       "       'rainfall_max_24h', 'rwi', 'mean_slope', 'std_slope', 'mean_tri',\n",
       "       'std_tri', 'mean_elev', 'coast_length', 'with_coast', 'urban', 'rural',\n",
       "       'water', 'total_pop', 'percent_houses_damaged_5years'],\n",
       "      dtype='object')"
      ]
     },
     "metadata": {},
     "output_type": "display_data"
    },
    {
     "name": "stderr",
     "output_type": "stream",
     "text": [
      "pandas.Int64Index is deprecated and will be removed from pandas in a future version. Use pandas.Index with the appropriate dtype instead.\n",
      "\n",
      "A value is trying to be set on a copy of a slice from a DataFrame.\n",
      "Try using .loc[row_indexer,col_indexer] = value instead\n",
      "\n",
      "See the caveats in the documentation: https://pandas.pydata.org/pandas-docs/stable/user_guide/indexing.html#returning-a-view-versus-a-copy\n",
      "\n",
      "A value is trying to be set on a copy of a slice from a DataFrame.\n",
      "Try using .loc[row_indexer,col_indexer] = value instead\n",
      "\n",
      "See the caveats in the documentation: https://pandas.pydata.org/pandas-docs/stable/user_guide/indexing.html#returning-a-view-versus-a-copy\n"
     ]
    },
    {
     "name": "stdout",
     "output_type": "stream",
     "text": [
      "[12:45:05] WARNING: /Users/runner/miniforge3/conda-bld/xgboost-split_1637426408905/work/src/learner.cc:576: \n",
      "Parameters: { \"early_stopping_rounds\" } might not be used.\n",
      "\n",
      "  This could be a false alarm, with some parameters getting used by language bindings but\n",
      "  then being mistakenly passed down to XGBoost core, or some parameter actually being used\n",
      "  but getting flagged wrongly here. Please open an issue if you find any such cases.\n",
      "\n",
      "\n",
      "[3.3039230185175996, 3.2251776693928584, 3.2664871102805275, 3.501705402397512, 3.305824252791194, 3.296356918791896, 3.3195800838714224, 3.0013254829172755, 3.390415771118743, 3.397420122675211, 3.1853493658818817, 3.280638126314829, 3.177206168687014, 3.2124364260001848, 3.5248639642950534, 3.077818662641583, 3.2854527233305975, 3.411733347618065, 3.174174390975052, 2.974043700209311, 3.4897638171784475, 3.5492651762098353, 3.34944955399755, 3.4282416663501576, 3.2426885980926214, 3.4395992206393875, 3.371993253233383, 3.2604809673680433, 3.0973052984821194, 3.231039434930128, 3.468242398641255, 3.41091552300152, 3.373100375399568, 3.264861382652408, 3.291763127958453, 3.63062502761599, 3.3486020215435905, 3.332284987588538, 3.6156101314197118, 3.350072976478329, 3.1555112074645724, 3.3029712752061693, 3.2173861242539132, 3.281895934555158, 3.063005708081935, 3.617982256950439, 3.172032396690705, 3.106838301567577, 3.295411254079132, 3.155531981176172, 3.2369918840214096, 3.2019974475449757, 3.1693816105779606]\n"
     ]
    },
    {
     "data": {
      "text/plain": [
       "Index(['wind_speed', 'track_distance', 'total_houses', 'rainfall_max_6h',\n",
       "       'rainfall_max_24h', 'rwi', 'mean_slope', 'std_slope', 'mean_tri',\n",
       "       'std_tri', 'mean_elev', 'coast_length', 'with_coast', 'urban', 'rural',\n",
       "       'water', 'total_pop', 'percent_houses_damaged_5years'],\n",
       "      dtype='object')"
      ]
     },
     "metadata": {},
     "output_type": "display_data"
    },
    {
     "name": "stderr",
     "output_type": "stream",
     "text": [
      "pandas.Int64Index is deprecated and will be removed from pandas in a future version. Use pandas.Index with the appropriate dtype instead.\n"
     ]
    },
    {
     "name": "stdout",
     "output_type": "stream",
     "text": [
      "[12:45:06] WARNING: /Users/runner/miniforge3/conda-bld/xgboost-split_1637426408905/work/src/learner.cc:576: \n",
      "Parameters: { \"early_stopping_rounds\" } might not be used.\n",
      "\n",
      "  This could be a false alarm, with some parameters getting used by language bindings but\n",
      "  then being mistakenly passed down to XGBoost core, or some parameter actually being used\n",
      "  but getting flagged wrongly here. Please open an issue if you find any such cases.\n",
      "\n",
      "\n",
      "Counter({0: 38948, 1: 855})\n",
      "Counter({0: 8550, 1: 855})\n"
     ]
    },
    {
     "name": "stderr",
     "output_type": "stream",
     "text": [
      "The use of label encoder in XGBClassifier is deprecated and will be removed in a future release. To remove this warning, do the following: 1) Pass option use_label_encoder=False when constructing XGBClassifier object; and 2) Encode your labels (y) as integers starting with 0, i.e. 0, 1, 2, ..., [num_class - 1].\n",
      "pandas.Int64Index is deprecated and will be removed from pandas in a future version. Use pandas.Index with the appropriate dtype instead.\n"
     ]
    },
    {
     "data": {
      "text/plain": [
       "Index(['wind_speed', 'track_distance', 'total_houses', 'rainfall_max_6h',\n",
       "       'rainfall_max_24h', 'rwi', 'mean_slope', 'std_slope', 'mean_tri',\n",
       "       'std_tri', 'mean_elev', 'coast_length', 'with_coast', 'urban', 'rural',\n",
       "       'water', 'total_pop', 'percent_houses_damaged_5years'],\n",
       "      dtype='object')"
      ]
     },
     "metadata": {},
     "output_type": "display_data"
    },
    {
     "name": "stderr",
     "output_type": "stream",
     "text": [
      "pandas.Int64Index is deprecated and will be removed from pandas in a future version. Use pandas.Index with the appropriate dtype instead.\n",
      "\n",
      "A value is trying to be set on a copy of a slice from a DataFrame.\n",
      "Try using .loc[row_indexer,col_indexer] = value instead\n",
      "\n",
      "See the caveats in the documentation: https://pandas.pydata.org/pandas-docs/stable/user_guide/indexing.html#returning-a-view-versus-a-copy\n",
      "\n",
      "A value is trying to be set on a copy of a slice from a DataFrame.\n",
      "Try using .loc[row_indexer,col_indexer] = value instead\n",
      "\n",
      "See the caveats in the documentation: https://pandas.pydata.org/pandas-docs/stable/user_guide/indexing.html#returning-a-view-versus-a-copy\n"
     ]
    },
    {
     "name": "stdout",
     "output_type": "stream",
     "text": [
      "[12:45:09] WARNING: /Users/runner/miniforge3/conda-bld/xgboost-split_1637426408905/work/src/learner.cc:576: \n",
      "Parameters: { \"early_stopping_rounds\" } might not be used.\n",
      "\n",
      "  This could be a false alarm, with some parameters getting used by language bindings but\n",
      "  then being mistakenly passed down to XGBoost core, or some parameter actually being used\n",
      "  but getting flagged wrongly here. Please open an issue if you find any such cases.\n",
      "\n",
      "\n",
      "[3.3039230185175996, 3.2251776693928584, 3.2664871102805275, 3.501705402397512, 3.305824252791194, 3.296356918791896, 3.3195800838714224, 3.0013254829172755, 3.390415771118743, 3.397420122675211, 3.1853493658818817, 3.280638126314829, 3.177206168687014, 3.2124364260001848, 3.5248639642950534, 3.077818662641583, 3.2854527233305975, 3.411733347618065, 3.174174390975052, 2.974043700209311, 3.4897638171784475, 3.5492651762098353, 3.34944955399755, 3.4282416663501576, 3.2426885980926214, 3.4395992206393875, 3.371993253233383, 3.2604809673680433, 3.0973052984821194, 3.231039434930128, 3.468242398641255, 3.41091552300152, 3.373100375399568, 3.264861382652408, 3.291763127958453, 3.63062502761599, 3.3486020215435905, 3.332284987588538, 3.6156101314197118, 3.350072976478329, 3.1555112074645724, 3.3029712752061693, 3.2173861242539132, 3.281895934555158, 3.063005708081935, 3.617982256950439, 3.172032396690705, 3.106838301567577, 3.295411254079132, 3.155531981176172, 3.2369918840214096, 3.2019974475449757, 3.1693816105779606, 3.5486421488000808]\n"
     ]
    },
    {
     "data": {
      "text/plain": [
       "Index(['wind_speed', 'track_distance', 'total_houses', 'rainfall_max_6h',\n",
       "       'rainfall_max_24h', 'rwi', 'mean_slope', 'std_slope', 'mean_tri',\n",
       "       'std_tri', 'mean_elev', 'coast_length', 'with_coast', 'urban', 'rural',\n",
       "       'water', 'total_pop', 'percent_houses_damaged_5years'],\n",
       "      dtype='object')"
      ]
     },
     "metadata": {},
     "output_type": "display_data"
    },
    {
     "name": "stderr",
     "output_type": "stream",
     "text": [
      "pandas.Int64Index is deprecated and will be removed from pandas in a future version. Use pandas.Index with the appropriate dtype instead.\n"
     ]
    },
    {
     "name": "stdout",
     "output_type": "stream",
     "text": [
      "[12:45:10] WARNING: /Users/runner/miniforge3/conda-bld/xgboost-split_1637426408905/work/src/learner.cc:576: \n",
      "Parameters: { \"early_stopping_rounds\" } might not be used.\n",
      "\n",
      "  This could be a false alarm, with some parameters getting used by language bindings but\n",
      "  then being mistakenly passed down to XGBoost core, or some parameter actually being used\n",
      "  but getting flagged wrongly here. Please open an issue if you find any such cases.\n",
      "\n",
      "\n",
      "Counter({0: 38948, 1: 855})\n",
      "Counter({0: 8550, 1: 855})\n"
     ]
    },
    {
     "name": "stderr",
     "output_type": "stream",
     "text": [
      "The use of label encoder in XGBClassifier is deprecated and will be removed in a future release. To remove this warning, do the following: 1) Pass option use_label_encoder=False when constructing XGBClassifier object; and 2) Encode your labels (y) as integers starting with 0, i.e. 0, 1, 2, ..., [num_class - 1].\n",
      "pandas.Int64Index is deprecated and will be removed from pandas in a future version. Use pandas.Index with the appropriate dtype instead.\n"
     ]
    },
    {
     "data": {
      "text/plain": [
       "Index(['wind_speed', 'track_distance', 'total_houses', 'rainfall_max_6h',\n",
       "       'rainfall_max_24h', 'rwi', 'mean_slope', 'std_slope', 'mean_tri',\n",
       "       'std_tri', 'mean_elev', 'coast_length', 'with_coast', 'urban', 'rural',\n",
       "       'water', 'total_pop', 'percent_houses_damaged_5years'],\n",
       "      dtype='object')"
      ]
     },
     "metadata": {},
     "output_type": "display_data"
    },
    {
     "name": "stderr",
     "output_type": "stream",
     "text": [
      "pandas.Int64Index is deprecated and will be removed from pandas in a future version. Use pandas.Index with the appropriate dtype instead.\n",
      "\n",
      "A value is trying to be set on a copy of a slice from a DataFrame.\n",
      "Try using .loc[row_indexer,col_indexer] = value instead\n",
      "\n",
      "See the caveats in the documentation: https://pandas.pydata.org/pandas-docs/stable/user_guide/indexing.html#returning-a-view-versus-a-copy\n",
      "\n",
      "A value is trying to be set on a copy of a slice from a DataFrame.\n",
      "Try using .loc[row_indexer,col_indexer] = value instead\n",
      "\n",
      "See the caveats in the documentation: https://pandas.pydata.org/pandas-docs/stable/user_guide/indexing.html#returning-a-view-versus-a-copy\n"
     ]
    },
    {
     "name": "stdout",
     "output_type": "stream",
     "text": [
      "[12:45:14] WARNING: /Users/runner/miniforge3/conda-bld/xgboost-split_1637426408905/work/src/learner.cc:576: \n",
      "Parameters: { \"early_stopping_rounds\" } might not be used.\n",
      "\n",
      "  This could be a false alarm, with some parameters getting used by language bindings but\n",
      "  then being mistakenly passed down to XGBoost core, or some parameter actually being used\n",
      "  but getting flagged wrongly here. Please open an issue if you find any such cases.\n",
      "\n",
      "\n",
      "[3.3039230185175996, 3.2251776693928584, 3.2664871102805275, 3.501705402397512, 3.305824252791194, 3.296356918791896, 3.3195800838714224, 3.0013254829172755, 3.390415771118743, 3.397420122675211, 3.1853493658818817, 3.280638126314829, 3.177206168687014, 3.2124364260001848, 3.5248639642950534, 3.077818662641583, 3.2854527233305975, 3.411733347618065, 3.174174390975052, 2.974043700209311, 3.4897638171784475, 3.5492651762098353, 3.34944955399755, 3.4282416663501576, 3.2426885980926214, 3.4395992206393875, 3.371993253233383, 3.2604809673680433, 3.0973052984821194, 3.231039434930128, 3.468242398641255, 3.41091552300152, 3.373100375399568, 3.264861382652408, 3.291763127958453, 3.63062502761599, 3.3486020215435905, 3.332284987588538, 3.6156101314197118, 3.350072976478329, 3.1555112074645724, 3.3029712752061693, 3.2173861242539132, 3.281895934555158, 3.063005708081935, 3.617982256950439, 3.172032396690705, 3.106838301567577, 3.295411254079132, 3.155531981176172, 3.2369918840214096, 3.2019974475449757, 3.1693816105779606, 3.5486421488000808, 3.2667303437252593]\n"
     ]
    },
    {
     "data": {
      "text/plain": [
       "Index(['wind_speed', 'track_distance', 'total_houses', 'rainfall_max_6h',\n",
       "       'rainfall_max_24h', 'rwi', 'mean_slope', 'std_slope', 'mean_tri',\n",
       "       'std_tri', 'mean_elev', 'coast_length', 'with_coast', 'urban', 'rural',\n",
       "       'water', 'total_pop', 'percent_houses_damaged_5years'],\n",
       "      dtype='object')"
      ]
     },
     "metadata": {},
     "output_type": "display_data"
    },
    {
     "name": "stderr",
     "output_type": "stream",
     "text": [
      "pandas.Int64Index is deprecated and will be removed from pandas in a future version. Use pandas.Index with the appropriate dtype instead.\n"
     ]
    },
    {
     "name": "stdout",
     "output_type": "stream",
     "text": [
      "[12:45:15] WARNING: /Users/runner/miniforge3/conda-bld/xgboost-split_1637426408905/work/src/learner.cc:576: \n",
      "Parameters: { \"early_stopping_rounds\" } might not be used.\n",
      "\n",
      "  This could be a false alarm, with some parameters getting used by language bindings but\n",
      "  then being mistakenly passed down to XGBoost core, or some parameter actually being used\n",
      "  but getting flagged wrongly here. Please open an issue if you find any such cases.\n",
      "\n",
      "\n",
      "Counter({0: 38948, 1: 855})\n",
      "Counter({0: 8550, 1: 855})\n"
     ]
    },
    {
     "name": "stderr",
     "output_type": "stream",
     "text": [
      "The use of label encoder in XGBClassifier is deprecated and will be removed in a future release. To remove this warning, do the following: 1) Pass option use_label_encoder=False when constructing XGBClassifier object; and 2) Encode your labels (y) as integers starting with 0, i.e. 0, 1, 2, ..., [num_class - 1].\n",
      "pandas.Int64Index is deprecated and will be removed from pandas in a future version. Use pandas.Index with the appropriate dtype instead.\n"
     ]
    },
    {
     "data": {
      "text/plain": [
       "Index(['wind_speed', 'track_distance', 'total_houses', 'rainfall_max_6h',\n",
       "       'rainfall_max_24h', 'rwi', 'mean_slope', 'std_slope', 'mean_tri',\n",
       "       'std_tri', 'mean_elev', 'coast_length', 'with_coast', 'urban', 'rural',\n",
       "       'water', 'total_pop', 'percent_houses_damaged_5years'],\n",
       "      dtype='object')"
      ]
     },
     "metadata": {},
     "output_type": "display_data"
    },
    {
     "name": "stderr",
     "output_type": "stream",
     "text": [
      "pandas.Int64Index is deprecated and will be removed from pandas in a future version. Use pandas.Index with the appropriate dtype instead.\n",
      "\n",
      "A value is trying to be set on a copy of a slice from a DataFrame.\n",
      "Try using .loc[row_indexer,col_indexer] = value instead\n",
      "\n",
      "See the caveats in the documentation: https://pandas.pydata.org/pandas-docs/stable/user_guide/indexing.html#returning-a-view-versus-a-copy\n",
      "\n",
      "A value is trying to be set on a copy of a slice from a DataFrame.\n",
      "Try using .loc[row_indexer,col_indexer] = value instead\n",
      "\n",
      "See the caveats in the documentation: https://pandas.pydata.org/pandas-docs/stable/user_guide/indexing.html#returning-a-view-versus-a-copy\n"
     ]
    },
    {
     "name": "stdout",
     "output_type": "stream",
     "text": [
      "[12:45:18] WARNING: /Users/runner/miniforge3/conda-bld/xgboost-split_1637426408905/work/src/learner.cc:576: \n",
      "Parameters: { \"early_stopping_rounds\" } might not be used.\n",
      "\n",
      "  This could be a false alarm, with some parameters getting used by language bindings but\n",
      "  then being mistakenly passed down to XGBoost core, or some parameter actually being used\n",
      "  but getting flagged wrongly here. Please open an issue if you find any such cases.\n",
      "\n",
      "\n",
      "[3.3039230185175996, 3.2251776693928584, 3.2664871102805275, 3.501705402397512, 3.305824252791194, 3.296356918791896, 3.3195800838714224, 3.0013254829172755, 3.390415771118743, 3.397420122675211, 3.1853493658818817, 3.280638126314829, 3.177206168687014, 3.2124364260001848, 3.5248639642950534, 3.077818662641583, 3.2854527233305975, 3.411733347618065, 3.174174390975052, 2.974043700209311, 3.4897638171784475, 3.5492651762098353, 3.34944955399755, 3.4282416663501576, 3.2426885980926214, 3.4395992206393875, 3.371993253233383, 3.2604809673680433, 3.0973052984821194, 3.231039434930128, 3.468242398641255, 3.41091552300152, 3.373100375399568, 3.264861382652408, 3.291763127958453, 3.63062502761599, 3.3486020215435905, 3.332284987588538, 3.6156101314197118, 3.350072976478329, 3.1555112074645724, 3.3029712752061693, 3.2173861242539132, 3.281895934555158, 3.063005708081935, 3.617982256950439, 3.172032396690705, 3.106838301567577, 3.295411254079132, 3.155531981176172, 3.2369918840214096, 3.2019974475449757, 3.1693816105779606, 3.5486421488000808, 3.2667303437252593, 3.3362180711542186]\n"
     ]
    },
    {
     "data": {
      "text/plain": [
       "Index(['wind_speed', 'track_distance', 'total_houses', 'rainfall_max_6h',\n",
       "       'rainfall_max_24h', 'rwi', 'mean_slope', 'std_slope', 'mean_tri',\n",
       "       'std_tri', 'mean_elev', 'coast_length', 'with_coast', 'urban', 'rural',\n",
       "       'water', 'total_pop', 'percent_houses_damaged_5years'],\n",
       "      dtype='object')"
      ]
     },
     "metadata": {},
     "output_type": "display_data"
    },
    {
     "name": "stderr",
     "output_type": "stream",
     "text": [
      "pandas.Int64Index is deprecated and will be removed from pandas in a future version. Use pandas.Index with the appropriate dtype instead.\n"
     ]
    },
    {
     "name": "stdout",
     "output_type": "stream",
     "text": [
      "[12:45:19] WARNING: /Users/runner/miniforge3/conda-bld/xgboost-split_1637426408905/work/src/learner.cc:576: \n",
      "Parameters: { \"early_stopping_rounds\" } might not be used.\n",
      "\n",
      "  This could be a false alarm, with some parameters getting used by language bindings but\n",
      "  then being mistakenly passed down to XGBoost core, or some parameter actually being used\n",
      "  but getting flagged wrongly here. Please open an issue if you find any such cases.\n",
      "\n",
      "\n",
      "Counter({0: 38948, 1: 855})\n",
      "Counter({0: 8550, 1: 855})\n"
     ]
    },
    {
     "name": "stderr",
     "output_type": "stream",
     "text": [
      "The use of label encoder in XGBClassifier is deprecated and will be removed in a future release. To remove this warning, do the following: 1) Pass option use_label_encoder=False when constructing XGBClassifier object; and 2) Encode your labels (y) as integers starting with 0, i.e. 0, 1, 2, ..., [num_class - 1].\n",
      "pandas.Int64Index is deprecated and will be removed from pandas in a future version. Use pandas.Index with the appropriate dtype instead.\n"
     ]
    },
    {
     "data": {
      "text/plain": [
       "Index(['wind_speed', 'track_distance', 'total_houses', 'rainfall_max_6h',\n",
       "       'rainfall_max_24h', 'rwi', 'mean_slope', 'std_slope', 'mean_tri',\n",
       "       'std_tri', 'mean_elev', 'coast_length', 'with_coast', 'urban', 'rural',\n",
       "       'water', 'total_pop', 'percent_houses_damaged_5years'],\n",
       "      dtype='object')"
      ]
     },
     "metadata": {},
     "output_type": "display_data"
    },
    {
     "name": "stderr",
     "output_type": "stream",
     "text": [
      "pandas.Int64Index is deprecated and will be removed from pandas in a future version. Use pandas.Index with the appropriate dtype instead.\n",
      "\n",
      "A value is trying to be set on a copy of a slice from a DataFrame.\n",
      "Try using .loc[row_indexer,col_indexer] = value instead\n",
      "\n",
      "See the caveats in the documentation: https://pandas.pydata.org/pandas-docs/stable/user_guide/indexing.html#returning-a-view-versus-a-copy\n",
      "\n",
      "A value is trying to be set on a copy of a slice from a DataFrame.\n",
      "Try using .loc[row_indexer,col_indexer] = value instead\n",
      "\n",
      "See the caveats in the documentation: https://pandas.pydata.org/pandas-docs/stable/user_guide/indexing.html#returning-a-view-versus-a-copy\n"
     ]
    },
    {
     "name": "stdout",
     "output_type": "stream",
     "text": [
      "[12:45:23] WARNING: /Users/runner/miniforge3/conda-bld/xgboost-split_1637426408905/work/src/learner.cc:576: \n",
      "Parameters: { \"early_stopping_rounds\" } might not be used.\n",
      "\n",
      "  This could be a false alarm, with some parameters getting used by language bindings but\n",
      "  then being mistakenly passed down to XGBoost core, or some parameter actually being used\n",
      "  but getting flagged wrongly here. Please open an issue if you find any such cases.\n",
      "\n",
      "\n",
      "[3.3039230185175996, 3.2251776693928584, 3.2664871102805275, 3.501705402397512, 3.305824252791194, 3.296356918791896, 3.3195800838714224, 3.0013254829172755, 3.390415771118743, 3.397420122675211, 3.1853493658818817, 3.280638126314829, 3.177206168687014, 3.2124364260001848, 3.5248639642950534, 3.077818662641583, 3.2854527233305975, 3.411733347618065, 3.174174390975052, 2.974043700209311, 3.4897638171784475, 3.5492651762098353, 3.34944955399755, 3.4282416663501576, 3.2426885980926214, 3.4395992206393875, 3.371993253233383, 3.2604809673680433, 3.0973052984821194, 3.231039434930128, 3.468242398641255, 3.41091552300152, 3.373100375399568, 3.264861382652408, 3.291763127958453, 3.63062502761599, 3.3486020215435905, 3.332284987588538, 3.6156101314197118, 3.350072976478329, 3.1555112074645724, 3.3029712752061693, 3.2173861242539132, 3.281895934555158, 3.063005708081935, 3.617982256950439, 3.172032396690705, 3.106838301567577, 3.295411254079132, 3.155531981176172, 3.2369918840214096, 3.2019974475449757, 3.1693816105779606, 3.5486421488000808, 3.2667303437252593, 3.3362180711542186, 3.280610379321557]\n"
     ]
    },
    {
     "data": {
      "text/plain": [
       "Index(['wind_speed', 'track_distance', 'total_houses', 'rainfall_max_6h',\n",
       "       'rainfall_max_24h', 'rwi', 'mean_slope', 'std_slope', 'mean_tri',\n",
       "       'std_tri', 'mean_elev', 'coast_length', 'with_coast', 'urban', 'rural',\n",
       "       'water', 'total_pop', 'percent_houses_damaged_5years'],\n",
       "      dtype='object')"
      ]
     },
     "metadata": {},
     "output_type": "display_data"
    },
    {
     "name": "stderr",
     "output_type": "stream",
     "text": [
      "pandas.Int64Index is deprecated and will be removed from pandas in a future version. Use pandas.Index with the appropriate dtype instead.\n"
     ]
    },
    {
     "name": "stdout",
     "output_type": "stream",
     "text": [
      "[12:45:24] WARNING: /Users/runner/miniforge3/conda-bld/xgboost-split_1637426408905/work/src/learner.cc:576: \n",
      "Parameters: { \"early_stopping_rounds\" } might not be used.\n",
      "\n",
      "  This could be a false alarm, with some parameters getting used by language bindings but\n",
      "  then being mistakenly passed down to XGBoost core, or some parameter actually being used\n",
      "  but getting flagged wrongly here. Please open an issue if you find any such cases.\n",
      "\n",
      "\n",
      "Counter({0: 38948, 1: 855})\n",
      "Counter({0: 8550, 1: 855})\n"
     ]
    },
    {
     "name": "stderr",
     "output_type": "stream",
     "text": [
      "The use of label encoder in XGBClassifier is deprecated and will be removed in a future release. To remove this warning, do the following: 1) Pass option use_label_encoder=False when constructing XGBClassifier object; and 2) Encode your labels (y) as integers starting with 0, i.e. 0, 1, 2, ..., [num_class - 1].\n",
      "pandas.Int64Index is deprecated and will be removed from pandas in a future version. Use pandas.Index with the appropriate dtype instead.\n"
     ]
    },
    {
     "data": {
      "text/plain": [
       "Index(['wind_speed', 'track_distance', 'total_houses', 'rainfall_max_6h',\n",
       "       'rainfall_max_24h', 'rwi', 'mean_slope', 'std_slope', 'mean_tri',\n",
       "       'std_tri', 'mean_elev', 'coast_length', 'with_coast', 'urban', 'rural',\n",
       "       'water', 'total_pop', 'percent_houses_damaged_5years'],\n",
       "      dtype='object')"
      ]
     },
     "metadata": {},
     "output_type": "display_data"
    },
    {
     "name": "stderr",
     "output_type": "stream",
     "text": [
      "pandas.Int64Index is deprecated and will be removed from pandas in a future version. Use pandas.Index with the appropriate dtype instead.\n",
      "\n",
      "A value is trying to be set on a copy of a slice from a DataFrame.\n",
      "Try using .loc[row_indexer,col_indexer] = value instead\n",
      "\n",
      "See the caveats in the documentation: https://pandas.pydata.org/pandas-docs/stable/user_guide/indexing.html#returning-a-view-versus-a-copy\n",
      "\n",
      "A value is trying to be set on a copy of a slice from a DataFrame.\n",
      "Try using .loc[row_indexer,col_indexer] = value instead\n",
      "\n",
      "See the caveats in the documentation: https://pandas.pydata.org/pandas-docs/stable/user_guide/indexing.html#returning-a-view-versus-a-copy\n"
     ]
    },
    {
     "name": "stdout",
     "output_type": "stream",
     "text": [
      "[12:45:27] WARNING: /Users/runner/miniforge3/conda-bld/xgboost-split_1637426408905/work/src/learner.cc:576: \n",
      "Parameters: { \"early_stopping_rounds\" } might not be used.\n",
      "\n",
      "  This could be a false alarm, with some parameters getting used by language bindings but\n",
      "  then being mistakenly passed down to XGBoost core, or some parameter actually being used\n",
      "  but getting flagged wrongly here. Please open an issue if you find any such cases.\n",
      "\n",
      "\n",
      "[3.3039230185175996, 3.2251776693928584, 3.2664871102805275, 3.501705402397512, 3.305824252791194, 3.296356918791896, 3.3195800838714224, 3.0013254829172755, 3.390415771118743, 3.397420122675211, 3.1853493658818817, 3.280638126314829, 3.177206168687014, 3.2124364260001848, 3.5248639642950534, 3.077818662641583, 3.2854527233305975, 3.411733347618065, 3.174174390975052, 2.974043700209311, 3.4897638171784475, 3.5492651762098353, 3.34944955399755, 3.4282416663501576, 3.2426885980926214, 3.4395992206393875, 3.371993253233383, 3.2604809673680433, 3.0973052984821194, 3.231039434930128, 3.468242398641255, 3.41091552300152, 3.373100375399568, 3.264861382652408, 3.291763127958453, 3.63062502761599, 3.3486020215435905, 3.332284987588538, 3.6156101314197118, 3.350072976478329, 3.1555112074645724, 3.3029712752061693, 3.2173861242539132, 3.281895934555158, 3.063005708081935, 3.617982256950439, 3.172032396690705, 3.106838301567577, 3.295411254079132, 3.155531981176172, 3.2369918840214096, 3.2019974475449757, 3.1693816105779606, 3.5486421488000808, 3.2667303437252593, 3.3362180711542186, 3.280610379321557, 3.1829717001082467]\n"
     ]
    },
    {
     "data": {
      "text/plain": [
       "Index(['wind_speed', 'track_distance', 'total_houses', 'rainfall_max_6h',\n",
       "       'rainfall_max_24h', 'rwi', 'mean_slope', 'std_slope', 'mean_tri',\n",
       "       'std_tri', 'mean_elev', 'coast_length', 'with_coast', 'urban', 'rural',\n",
       "       'water', 'total_pop', 'percent_houses_damaged_5years'],\n",
       "      dtype='object')"
      ]
     },
     "metadata": {},
     "output_type": "display_data"
    },
    {
     "name": "stderr",
     "output_type": "stream",
     "text": [
      "pandas.Int64Index is deprecated and will be removed from pandas in a future version. Use pandas.Index with the appropriate dtype instead.\n"
     ]
    },
    {
     "name": "stdout",
     "output_type": "stream",
     "text": [
      "[12:45:28] WARNING: /Users/runner/miniforge3/conda-bld/xgboost-split_1637426408905/work/src/learner.cc:576: \n",
      "Parameters: { \"early_stopping_rounds\" } might not be used.\n",
      "\n",
      "  This could be a false alarm, with some parameters getting used by language bindings but\n",
      "  then being mistakenly passed down to XGBoost core, or some parameter actually being used\n",
      "  but getting flagged wrongly here. Please open an issue if you find any such cases.\n",
      "\n",
      "\n",
      "Counter({0: 38948, 1: 855})\n",
      "Counter({0: 8550, 1: 855})\n"
     ]
    },
    {
     "name": "stderr",
     "output_type": "stream",
     "text": [
      "The use of label encoder in XGBClassifier is deprecated and will be removed in a future release. To remove this warning, do the following: 1) Pass option use_label_encoder=False when constructing XGBClassifier object; and 2) Encode your labels (y) as integers starting with 0, i.e. 0, 1, 2, ..., [num_class - 1].\n",
      "pandas.Int64Index is deprecated and will be removed from pandas in a future version. Use pandas.Index with the appropriate dtype instead.\n"
     ]
    },
    {
     "data": {
      "text/plain": [
       "Index(['wind_speed', 'track_distance', 'total_houses', 'rainfall_max_6h',\n",
       "       'rainfall_max_24h', 'rwi', 'mean_slope', 'std_slope', 'mean_tri',\n",
       "       'std_tri', 'mean_elev', 'coast_length', 'with_coast', 'urban', 'rural',\n",
       "       'water', 'total_pop', 'percent_houses_damaged_5years'],\n",
       "      dtype='object')"
      ]
     },
     "metadata": {},
     "output_type": "display_data"
    },
    {
     "name": "stderr",
     "output_type": "stream",
     "text": [
      "pandas.Int64Index is deprecated and will be removed from pandas in a future version. Use pandas.Index with the appropriate dtype instead.\n",
      "\n",
      "A value is trying to be set on a copy of a slice from a DataFrame.\n",
      "Try using .loc[row_indexer,col_indexer] = value instead\n",
      "\n",
      "See the caveats in the documentation: https://pandas.pydata.org/pandas-docs/stable/user_guide/indexing.html#returning-a-view-versus-a-copy\n",
      "\n",
      "A value is trying to be set on a copy of a slice from a DataFrame.\n",
      "Try using .loc[row_indexer,col_indexer] = value instead\n",
      "\n",
      "See the caveats in the documentation: https://pandas.pydata.org/pandas-docs/stable/user_guide/indexing.html#returning-a-view-versus-a-copy\n"
     ]
    },
    {
     "name": "stdout",
     "output_type": "stream",
     "text": [
      "[12:45:32] WARNING: /Users/runner/miniforge3/conda-bld/xgboost-split_1637426408905/work/src/learner.cc:576: \n",
      "Parameters: { \"early_stopping_rounds\" } might not be used.\n",
      "\n",
      "  This could be a false alarm, with some parameters getting used by language bindings but\n",
      "  then being mistakenly passed down to XGBoost core, or some parameter actually being used\n",
      "  but getting flagged wrongly here. Please open an issue if you find any such cases.\n",
      "\n",
      "\n",
      "[3.3039230185175996, 3.2251776693928584, 3.2664871102805275, 3.501705402397512, 3.305824252791194, 3.296356918791896, 3.3195800838714224, 3.0013254829172755, 3.390415771118743, 3.397420122675211, 3.1853493658818817, 3.280638126314829, 3.177206168687014, 3.2124364260001848, 3.5248639642950534, 3.077818662641583, 3.2854527233305975, 3.411733347618065, 3.174174390975052, 2.974043700209311, 3.4897638171784475, 3.5492651762098353, 3.34944955399755, 3.4282416663501576, 3.2426885980926214, 3.4395992206393875, 3.371993253233383, 3.2604809673680433, 3.0973052984821194, 3.231039434930128, 3.468242398641255, 3.41091552300152, 3.373100375399568, 3.264861382652408, 3.291763127958453, 3.63062502761599, 3.3486020215435905, 3.332284987588538, 3.6156101314197118, 3.350072976478329, 3.1555112074645724, 3.3029712752061693, 3.2173861242539132, 3.281895934555158, 3.063005708081935, 3.617982256950439, 3.172032396690705, 3.106838301567577, 3.295411254079132, 3.155531981176172, 3.2369918840214096, 3.2019974475449757, 3.1693816105779606, 3.5486421488000808, 3.2667303437252593, 3.3362180711542186, 3.280610379321557, 3.1829717001082467, 3.4826578071966883]\n"
     ]
    },
    {
     "data": {
      "text/plain": [
       "Index(['wind_speed', 'track_distance', 'total_houses', 'rainfall_max_6h',\n",
       "       'rainfall_max_24h', 'rwi', 'mean_slope', 'std_slope', 'mean_tri',\n",
       "       'std_tri', 'mean_elev', 'coast_length', 'with_coast', 'urban', 'rural',\n",
       "       'water', 'total_pop', 'percent_houses_damaged_5years'],\n",
       "      dtype='object')"
      ]
     },
     "metadata": {},
     "output_type": "display_data"
    },
    {
     "name": "stderr",
     "output_type": "stream",
     "text": [
      "pandas.Int64Index is deprecated and will be removed from pandas in a future version. Use pandas.Index with the appropriate dtype instead.\n"
     ]
    },
    {
     "name": "stdout",
     "output_type": "stream",
     "text": [
      "[12:45:33] WARNING: /Users/runner/miniforge3/conda-bld/xgboost-split_1637426408905/work/src/learner.cc:576: \n",
      "Parameters: { \"early_stopping_rounds\" } might not be used.\n",
      "\n",
      "  This could be a false alarm, with some parameters getting used by language bindings but\n",
      "  then being mistakenly passed down to XGBoost core, or some parameter actually being used\n",
      "  but getting flagged wrongly here. Please open an issue if you find any such cases.\n",
      "\n",
      "\n",
      "Counter({0: 38948, 1: 855})\n",
      "Counter({0: 8550, 1: 855})\n"
     ]
    },
    {
     "name": "stderr",
     "output_type": "stream",
     "text": [
      "The use of label encoder in XGBClassifier is deprecated and will be removed in a future release. To remove this warning, do the following: 1) Pass option use_label_encoder=False when constructing XGBClassifier object; and 2) Encode your labels (y) as integers starting with 0, i.e. 0, 1, 2, ..., [num_class - 1].\n",
      "pandas.Int64Index is deprecated and will be removed from pandas in a future version. Use pandas.Index with the appropriate dtype instead.\n"
     ]
    },
    {
     "data": {
      "text/plain": [
       "Index(['wind_speed', 'track_distance', 'total_houses', 'rainfall_max_6h',\n",
       "       'rainfall_max_24h', 'rwi', 'mean_slope', 'std_slope', 'mean_tri',\n",
       "       'std_tri', 'mean_elev', 'coast_length', 'with_coast', 'urban', 'rural',\n",
       "       'water', 'total_pop', 'percent_houses_damaged_5years'],\n",
       "      dtype='object')"
      ]
     },
     "metadata": {},
     "output_type": "display_data"
    },
    {
     "name": "stderr",
     "output_type": "stream",
     "text": [
      "pandas.Int64Index is deprecated and will be removed from pandas in a future version. Use pandas.Index with the appropriate dtype instead.\n",
      "\n",
      "A value is trying to be set on a copy of a slice from a DataFrame.\n",
      "Try using .loc[row_indexer,col_indexer] = value instead\n",
      "\n",
      "See the caveats in the documentation: https://pandas.pydata.org/pandas-docs/stable/user_guide/indexing.html#returning-a-view-versus-a-copy\n",
      "\n",
      "A value is trying to be set on a copy of a slice from a DataFrame.\n",
      "Try using .loc[row_indexer,col_indexer] = value instead\n",
      "\n",
      "See the caveats in the documentation: https://pandas.pydata.org/pandas-docs/stable/user_guide/indexing.html#returning-a-view-versus-a-copy\n"
     ]
    },
    {
     "name": "stdout",
     "output_type": "stream",
     "text": [
      "[12:45:36] WARNING: /Users/runner/miniforge3/conda-bld/xgboost-split_1637426408905/work/src/learner.cc:576: \n",
      "Parameters: { \"early_stopping_rounds\" } might not be used.\n",
      "\n",
      "  This could be a false alarm, with some parameters getting used by language bindings but\n",
      "  then being mistakenly passed down to XGBoost core, or some parameter actually being used\n",
      "  but getting flagged wrongly here. Please open an issue if you find any such cases.\n",
      "\n",
      "\n",
      "[3.3039230185175996, 3.2251776693928584, 3.2664871102805275, 3.501705402397512, 3.305824252791194, 3.296356918791896, 3.3195800838714224, 3.0013254829172755, 3.390415771118743, 3.397420122675211, 3.1853493658818817, 3.280638126314829, 3.177206168687014, 3.2124364260001848, 3.5248639642950534, 3.077818662641583, 3.2854527233305975, 3.411733347618065, 3.174174390975052, 2.974043700209311, 3.4897638171784475, 3.5492651762098353, 3.34944955399755, 3.4282416663501576, 3.2426885980926214, 3.4395992206393875, 3.371993253233383, 3.2604809673680433, 3.0973052984821194, 3.231039434930128, 3.468242398641255, 3.41091552300152, 3.373100375399568, 3.264861382652408, 3.291763127958453, 3.63062502761599, 3.3486020215435905, 3.332284987588538, 3.6156101314197118, 3.350072976478329, 3.1555112074645724, 3.3029712752061693, 3.2173861242539132, 3.281895934555158, 3.063005708081935, 3.617982256950439, 3.172032396690705, 3.106838301567577, 3.295411254079132, 3.155531981176172, 3.2369918840214096, 3.2019974475449757, 3.1693816105779606, 3.5486421488000808, 3.2667303437252593, 3.3362180711542186, 3.280610379321557, 3.1829717001082467, 3.4826578071966883, 3.3233900573500517]\n"
     ]
    },
    {
     "data": {
      "text/plain": [
       "Index(['wind_speed', 'track_distance', 'total_houses', 'rainfall_max_6h',\n",
       "       'rainfall_max_24h', 'rwi', 'mean_slope', 'std_slope', 'mean_tri',\n",
       "       'std_tri', 'mean_elev', 'coast_length', 'with_coast', 'urban', 'rural',\n",
       "       'water', 'total_pop', 'percent_houses_damaged_5years'],\n",
       "      dtype='object')"
      ]
     },
     "metadata": {},
     "output_type": "display_data"
    },
    {
     "name": "stderr",
     "output_type": "stream",
     "text": [
      "pandas.Int64Index is deprecated and will be removed from pandas in a future version. Use pandas.Index with the appropriate dtype instead.\n"
     ]
    },
    {
     "name": "stdout",
     "output_type": "stream",
     "text": [
      "[12:45:37] WARNING: /Users/runner/miniforge3/conda-bld/xgboost-split_1637426408905/work/src/learner.cc:576: \n",
      "Parameters: { \"early_stopping_rounds\" } might not be used.\n",
      "\n",
      "  This could be a false alarm, with some parameters getting used by language bindings but\n",
      "  then being mistakenly passed down to XGBoost core, or some parameter actually being used\n",
      "  but getting flagged wrongly here. Please open an issue if you find any such cases.\n",
      "\n",
      "\n",
      "Counter({0: 38948, 1: 855})\n",
      "Counter({0: 8550, 1: 855})\n"
     ]
    },
    {
     "name": "stderr",
     "output_type": "stream",
     "text": [
      "The use of label encoder in XGBClassifier is deprecated and will be removed in a future release. To remove this warning, do the following: 1) Pass option use_label_encoder=False when constructing XGBClassifier object; and 2) Encode your labels (y) as integers starting with 0, i.e. 0, 1, 2, ..., [num_class - 1].\n",
      "pandas.Int64Index is deprecated and will be removed from pandas in a future version. Use pandas.Index with the appropriate dtype instead.\n"
     ]
    },
    {
     "data": {
      "text/plain": [
       "Index(['wind_speed', 'track_distance', 'total_houses', 'rainfall_max_6h',\n",
       "       'rainfall_max_24h', 'rwi', 'mean_slope', 'std_slope', 'mean_tri',\n",
       "       'std_tri', 'mean_elev', 'coast_length', 'with_coast', 'urban', 'rural',\n",
       "       'water', 'total_pop', 'percent_houses_damaged_5years'],\n",
       "      dtype='object')"
      ]
     },
     "metadata": {},
     "output_type": "display_data"
    },
    {
     "name": "stderr",
     "output_type": "stream",
     "text": [
      "pandas.Int64Index is deprecated and will be removed from pandas in a future version. Use pandas.Index with the appropriate dtype instead.\n",
      "\n",
      "A value is trying to be set on a copy of a slice from a DataFrame.\n",
      "Try using .loc[row_indexer,col_indexer] = value instead\n",
      "\n",
      "See the caveats in the documentation: https://pandas.pydata.org/pandas-docs/stable/user_guide/indexing.html#returning-a-view-versus-a-copy\n",
      "\n",
      "A value is trying to be set on a copy of a slice from a DataFrame.\n",
      "Try using .loc[row_indexer,col_indexer] = value instead\n",
      "\n",
      "See the caveats in the documentation: https://pandas.pydata.org/pandas-docs/stable/user_guide/indexing.html#returning-a-view-versus-a-copy\n"
     ]
    },
    {
     "name": "stdout",
     "output_type": "stream",
     "text": [
      "[12:45:40] WARNING: /Users/runner/miniforge3/conda-bld/xgboost-split_1637426408905/work/src/learner.cc:576: \n",
      "Parameters: { \"early_stopping_rounds\" } might not be used.\n",
      "\n",
      "  This could be a false alarm, with some parameters getting used by language bindings but\n",
      "  then being mistakenly passed down to XGBoost core, or some parameter actually being used\n",
      "  but getting flagged wrongly here. Please open an issue if you find any such cases.\n",
      "\n",
      "\n",
      "[3.3039230185175996, 3.2251776693928584, 3.2664871102805275, 3.501705402397512, 3.305824252791194, 3.296356918791896, 3.3195800838714224, 3.0013254829172755, 3.390415771118743, 3.397420122675211, 3.1853493658818817, 3.280638126314829, 3.177206168687014, 3.2124364260001848, 3.5248639642950534, 3.077818662641583, 3.2854527233305975, 3.411733347618065, 3.174174390975052, 2.974043700209311, 3.4897638171784475, 3.5492651762098353, 3.34944955399755, 3.4282416663501576, 3.2426885980926214, 3.4395992206393875, 3.371993253233383, 3.2604809673680433, 3.0973052984821194, 3.231039434930128, 3.468242398641255, 3.41091552300152, 3.373100375399568, 3.264861382652408, 3.291763127958453, 3.63062502761599, 3.3486020215435905, 3.332284987588538, 3.6156101314197118, 3.350072976478329, 3.1555112074645724, 3.3029712752061693, 3.2173861242539132, 3.281895934555158, 3.063005708081935, 3.617982256950439, 3.172032396690705, 3.106838301567577, 3.295411254079132, 3.155531981176172, 3.2369918840214096, 3.2019974475449757, 3.1693816105779606, 3.5486421488000808, 3.2667303437252593, 3.3362180711542186, 3.280610379321557, 3.1829717001082467, 3.4826578071966883, 3.3233900573500517, 3.0030990743826407]\n"
     ]
    },
    {
     "data": {
      "text/plain": [
       "Index(['wind_speed', 'track_distance', 'total_houses', 'rainfall_max_6h',\n",
       "       'rainfall_max_24h', 'rwi', 'mean_slope', 'std_slope', 'mean_tri',\n",
       "       'std_tri', 'mean_elev', 'coast_length', 'with_coast', 'urban', 'rural',\n",
       "       'water', 'total_pop', 'percent_houses_damaged_5years'],\n",
       "      dtype='object')"
      ]
     },
     "metadata": {},
     "output_type": "display_data"
    },
    {
     "name": "stderr",
     "output_type": "stream",
     "text": [
      "pandas.Int64Index is deprecated and will be removed from pandas in a future version. Use pandas.Index with the appropriate dtype instead.\n"
     ]
    },
    {
     "name": "stdout",
     "output_type": "stream",
     "text": [
      "[12:45:42] WARNING: /Users/runner/miniforge3/conda-bld/xgboost-split_1637426408905/work/src/learner.cc:576: \n",
      "Parameters: { \"early_stopping_rounds\" } might not be used.\n",
      "\n",
      "  This could be a false alarm, with some parameters getting used by language bindings but\n",
      "  then being mistakenly passed down to XGBoost core, or some parameter actually being used\n",
      "  but getting flagged wrongly here. Please open an issue if you find any such cases.\n",
      "\n",
      "\n",
      "Counter({0: 38948, 1: 855})\n",
      "Counter({0: 8550, 1: 855})\n"
     ]
    },
    {
     "name": "stderr",
     "output_type": "stream",
     "text": [
      "The use of label encoder in XGBClassifier is deprecated and will be removed in a future release. To remove this warning, do the following: 1) Pass option use_label_encoder=False when constructing XGBClassifier object; and 2) Encode your labels (y) as integers starting with 0, i.e. 0, 1, 2, ..., [num_class - 1].\n",
      "pandas.Int64Index is deprecated and will be removed from pandas in a future version. Use pandas.Index with the appropriate dtype instead.\n"
     ]
    },
    {
     "data": {
      "text/plain": [
       "Index(['wind_speed', 'track_distance', 'total_houses', 'rainfall_max_6h',\n",
       "       'rainfall_max_24h', 'rwi', 'mean_slope', 'std_slope', 'mean_tri',\n",
       "       'std_tri', 'mean_elev', 'coast_length', 'with_coast', 'urban', 'rural',\n",
       "       'water', 'total_pop', 'percent_houses_damaged_5years'],\n",
       "      dtype='object')"
      ]
     },
     "metadata": {},
     "output_type": "display_data"
    },
    {
     "name": "stderr",
     "output_type": "stream",
     "text": [
      "pandas.Int64Index is deprecated and will be removed from pandas in a future version. Use pandas.Index with the appropriate dtype instead.\n",
      "\n",
      "A value is trying to be set on a copy of a slice from a DataFrame.\n",
      "Try using .loc[row_indexer,col_indexer] = value instead\n",
      "\n",
      "See the caveats in the documentation: https://pandas.pydata.org/pandas-docs/stable/user_guide/indexing.html#returning-a-view-versus-a-copy\n",
      "\n",
      "A value is trying to be set on a copy of a slice from a DataFrame.\n",
      "Try using .loc[row_indexer,col_indexer] = value instead\n",
      "\n",
      "See the caveats in the documentation: https://pandas.pydata.org/pandas-docs/stable/user_guide/indexing.html#returning-a-view-versus-a-copy\n"
     ]
    },
    {
     "name": "stdout",
     "output_type": "stream",
     "text": [
      "[12:45:45] WARNING: /Users/runner/miniforge3/conda-bld/xgboost-split_1637426408905/work/src/learner.cc:576: \n",
      "Parameters: { \"early_stopping_rounds\" } might not be used.\n",
      "\n",
      "  This could be a false alarm, with some parameters getting used by language bindings but\n",
      "  then being mistakenly passed down to XGBoost core, or some parameter actually being used\n",
      "  but getting flagged wrongly here. Please open an issue if you find any such cases.\n",
      "\n",
      "\n",
      "[3.3039230185175996, 3.2251776693928584, 3.2664871102805275, 3.501705402397512, 3.305824252791194, 3.296356918791896, 3.3195800838714224, 3.0013254829172755, 3.390415771118743, 3.397420122675211, 3.1853493658818817, 3.280638126314829, 3.177206168687014, 3.2124364260001848, 3.5248639642950534, 3.077818662641583, 3.2854527233305975, 3.411733347618065, 3.174174390975052, 2.974043700209311, 3.4897638171784475, 3.5492651762098353, 3.34944955399755, 3.4282416663501576, 3.2426885980926214, 3.4395992206393875, 3.371993253233383, 3.2604809673680433, 3.0973052984821194, 3.231039434930128, 3.468242398641255, 3.41091552300152, 3.373100375399568, 3.264861382652408, 3.291763127958453, 3.63062502761599, 3.3486020215435905, 3.332284987588538, 3.6156101314197118, 3.350072976478329, 3.1555112074645724, 3.3029712752061693, 3.2173861242539132, 3.281895934555158, 3.063005708081935, 3.617982256950439, 3.172032396690705, 3.106838301567577, 3.295411254079132, 3.155531981176172, 3.2369918840214096, 3.2019974475449757, 3.1693816105779606, 3.5486421488000808, 3.2667303437252593, 3.3362180711542186, 3.280610379321557, 3.1829717001082467, 3.4826578071966883, 3.3233900573500517, 3.0030990743826407, 3.3106993469834367]\n"
     ]
    },
    {
     "data": {
      "text/plain": [
       "Index(['wind_speed', 'track_distance', 'total_houses', 'rainfall_max_6h',\n",
       "       'rainfall_max_24h', 'rwi', 'mean_slope', 'std_slope', 'mean_tri',\n",
       "       'std_tri', 'mean_elev', 'coast_length', 'with_coast', 'urban', 'rural',\n",
       "       'water', 'total_pop', 'percent_houses_damaged_5years'],\n",
       "      dtype='object')"
      ]
     },
     "metadata": {},
     "output_type": "display_data"
    },
    {
     "name": "stderr",
     "output_type": "stream",
     "text": [
      "pandas.Int64Index is deprecated and will be removed from pandas in a future version. Use pandas.Index with the appropriate dtype instead.\n"
     ]
    },
    {
     "name": "stdout",
     "output_type": "stream",
     "text": [
      "[12:45:46] WARNING: /Users/runner/miniforge3/conda-bld/xgboost-split_1637426408905/work/src/learner.cc:576: \n",
      "Parameters: { \"early_stopping_rounds\" } might not be used.\n",
      "\n",
      "  This could be a false alarm, with some parameters getting used by language bindings but\n",
      "  then being mistakenly passed down to XGBoost core, or some parameter actually being used\n",
      "  but getting flagged wrongly here. Please open an issue if you find any such cases.\n",
      "\n",
      "\n",
      "Counter({0: 38948, 1: 855})\n",
      "Counter({0: 8550, 1: 855})\n"
     ]
    },
    {
     "name": "stderr",
     "output_type": "stream",
     "text": [
      "The use of label encoder in XGBClassifier is deprecated and will be removed in a future release. To remove this warning, do the following: 1) Pass option use_label_encoder=False when constructing XGBClassifier object; and 2) Encode your labels (y) as integers starting with 0, i.e. 0, 1, 2, ..., [num_class - 1].\n",
      "pandas.Int64Index is deprecated and will be removed from pandas in a future version. Use pandas.Index with the appropriate dtype instead.\n"
     ]
    },
    {
     "data": {
      "text/plain": [
       "Index(['wind_speed', 'track_distance', 'total_houses', 'rainfall_max_6h',\n",
       "       'rainfall_max_24h', 'rwi', 'mean_slope', 'std_slope', 'mean_tri',\n",
       "       'std_tri', 'mean_elev', 'coast_length', 'with_coast', 'urban', 'rural',\n",
       "       'water', 'total_pop', 'percent_houses_damaged_5years'],\n",
       "      dtype='object')"
      ]
     },
     "metadata": {},
     "output_type": "display_data"
    },
    {
     "name": "stderr",
     "output_type": "stream",
     "text": [
      "pandas.Int64Index is deprecated and will be removed from pandas in a future version. Use pandas.Index with the appropriate dtype instead.\n",
      "\n",
      "A value is trying to be set on a copy of a slice from a DataFrame.\n",
      "Try using .loc[row_indexer,col_indexer] = value instead\n",
      "\n",
      "See the caveats in the documentation: https://pandas.pydata.org/pandas-docs/stable/user_guide/indexing.html#returning-a-view-versus-a-copy\n",
      "\n",
      "A value is trying to be set on a copy of a slice from a DataFrame.\n",
      "Try using .loc[row_indexer,col_indexer] = value instead\n",
      "\n",
      "See the caveats in the documentation: https://pandas.pydata.org/pandas-docs/stable/user_guide/indexing.html#returning-a-view-versus-a-copy\n"
     ]
    },
    {
     "name": "stdout",
     "output_type": "stream",
     "text": [
      "[12:45:49] WARNING: /Users/runner/miniforge3/conda-bld/xgboost-split_1637426408905/work/src/learner.cc:576: \n",
      "Parameters: { \"early_stopping_rounds\" } might not be used.\n",
      "\n",
      "  This could be a false alarm, with some parameters getting used by language bindings but\n",
      "  then being mistakenly passed down to XGBoost core, or some parameter actually being used\n",
      "  but getting flagged wrongly here. Please open an issue if you find any such cases.\n",
      "\n",
      "\n",
      "[3.3039230185175996, 3.2251776693928584, 3.2664871102805275, 3.501705402397512, 3.305824252791194, 3.296356918791896, 3.3195800838714224, 3.0013254829172755, 3.390415771118743, 3.397420122675211, 3.1853493658818817, 3.280638126314829, 3.177206168687014, 3.2124364260001848, 3.5248639642950534, 3.077818662641583, 3.2854527233305975, 3.411733347618065, 3.174174390975052, 2.974043700209311, 3.4897638171784475, 3.5492651762098353, 3.34944955399755, 3.4282416663501576, 3.2426885980926214, 3.4395992206393875, 3.371993253233383, 3.2604809673680433, 3.0973052984821194, 3.231039434930128, 3.468242398641255, 3.41091552300152, 3.373100375399568, 3.264861382652408, 3.291763127958453, 3.63062502761599, 3.3486020215435905, 3.332284987588538, 3.6156101314197118, 3.350072976478329, 3.1555112074645724, 3.3029712752061693, 3.2173861242539132, 3.281895934555158, 3.063005708081935, 3.617982256950439, 3.172032396690705, 3.106838301567577, 3.295411254079132, 3.155531981176172, 3.2369918840214096, 3.2019974475449757, 3.1693816105779606, 3.5486421488000808, 3.2667303437252593, 3.3362180711542186, 3.280610379321557, 3.1829717001082467, 3.4826578071966883, 3.3233900573500517, 3.0030990743826407, 3.3106993469834367, 3.343007384342664]\n"
     ]
    },
    {
     "data": {
      "text/plain": [
       "Index(['wind_speed', 'track_distance', 'total_houses', 'rainfall_max_6h',\n",
       "       'rainfall_max_24h', 'rwi', 'mean_slope', 'std_slope', 'mean_tri',\n",
       "       'std_tri', 'mean_elev', 'coast_length', 'with_coast', 'urban', 'rural',\n",
       "       'water', 'total_pop', 'percent_houses_damaged_5years'],\n",
       "      dtype='object')"
      ]
     },
     "metadata": {},
     "output_type": "display_data"
    },
    {
     "name": "stderr",
     "output_type": "stream",
     "text": [
      "pandas.Int64Index is deprecated and will be removed from pandas in a future version. Use pandas.Index with the appropriate dtype instead.\n"
     ]
    },
    {
     "name": "stdout",
     "output_type": "stream",
     "text": [
      "[12:45:51] WARNING: /Users/runner/miniforge3/conda-bld/xgboost-split_1637426408905/work/src/learner.cc:576: \n",
      "Parameters: { \"early_stopping_rounds\" } might not be used.\n",
      "\n",
      "  This could be a false alarm, with some parameters getting used by language bindings but\n",
      "  then being mistakenly passed down to XGBoost core, or some parameter actually being used\n",
      "  but getting flagged wrongly here. Please open an issue if you find any such cases.\n",
      "\n",
      "\n",
      "Counter({0: 38948, 1: 855})\n",
      "Counter({0: 8550, 1: 855})\n"
     ]
    },
    {
     "name": "stderr",
     "output_type": "stream",
     "text": [
      "The use of label encoder in XGBClassifier is deprecated and will be removed in a future release. To remove this warning, do the following: 1) Pass option use_label_encoder=False when constructing XGBClassifier object; and 2) Encode your labels (y) as integers starting with 0, i.e. 0, 1, 2, ..., [num_class - 1].\n",
      "pandas.Int64Index is deprecated and will be removed from pandas in a future version. Use pandas.Index with the appropriate dtype instead.\n"
     ]
    },
    {
     "data": {
      "text/plain": [
       "Index(['wind_speed', 'track_distance', 'total_houses', 'rainfall_max_6h',\n",
       "       'rainfall_max_24h', 'rwi', 'mean_slope', 'std_slope', 'mean_tri',\n",
       "       'std_tri', 'mean_elev', 'coast_length', 'with_coast', 'urban', 'rural',\n",
       "       'water', 'total_pop', 'percent_houses_damaged_5years'],\n",
       "      dtype='object')"
      ]
     },
     "metadata": {},
     "output_type": "display_data"
    },
    {
     "name": "stderr",
     "output_type": "stream",
     "text": [
      "pandas.Int64Index is deprecated and will be removed from pandas in a future version. Use pandas.Index with the appropriate dtype instead.\n",
      "\n",
      "A value is trying to be set on a copy of a slice from a DataFrame.\n",
      "Try using .loc[row_indexer,col_indexer] = value instead\n",
      "\n",
      "See the caveats in the documentation: https://pandas.pydata.org/pandas-docs/stable/user_guide/indexing.html#returning-a-view-versus-a-copy\n",
      "\n",
      "A value is trying to be set on a copy of a slice from a DataFrame.\n",
      "Try using .loc[row_indexer,col_indexer] = value instead\n",
      "\n",
      "See the caveats in the documentation: https://pandas.pydata.org/pandas-docs/stable/user_guide/indexing.html#returning-a-view-versus-a-copy\n"
     ]
    },
    {
     "name": "stdout",
     "output_type": "stream",
     "text": [
      "[12:45:54] WARNING: /Users/runner/miniforge3/conda-bld/xgboost-split_1637426408905/work/src/learner.cc:576: \n",
      "Parameters: { \"early_stopping_rounds\" } might not be used.\n",
      "\n",
      "  This could be a false alarm, with some parameters getting used by language bindings but\n",
      "  then being mistakenly passed down to XGBoost core, or some parameter actually being used\n",
      "  but getting flagged wrongly here. Please open an issue if you find any such cases.\n",
      "\n",
      "\n",
      "[3.3039230185175996, 3.2251776693928584, 3.2664871102805275, 3.501705402397512, 3.305824252791194, 3.296356918791896, 3.3195800838714224, 3.0013254829172755, 3.390415771118743, 3.397420122675211, 3.1853493658818817, 3.280638126314829, 3.177206168687014, 3.2124364260001848, 3.5248639642950534, 3.077818662641583, 3.2854527233305975, 3.411733347618065, 3.174174390975052, 2.974043700209311, 3.4897638171784475, 3.5492651762098353, 3.34944955399755, 3.4282416663501576, 3.2426885980926214, 3.4395992206393875, 3.371993253233383, 3.2604809673680433, 3.0973052984821194, 3.231039434930128, 3.468242398641255, 3.41091552300152, 3.373100375399568, 3.264861382652408, 3.291763127958453, 3.63062502761599, 3.3486020215435905, 3.332284987588538, 3.6156101314197118, 3.350072976478329, 3.1555112074645724, 3.3029712752061693, 3.2173861242539132, 3.281895934555158, 3.063005708081935, 3.617982256950439, 3.172032396690705, 3.106838301567577, 3.295411254079132, 3.155531981176172, 3.2369918840214096, 3.2019974475449757, 3.1693816105779606, 3.5486421488000808, 3.2667303437252593, 3.3362180711542186, 3.280610379321557, 3.1829717001082467, 3.4826578071966883, 3.3233900573500517, 3.0030990743826407, 3.3106993469834367, 3.343007384342664, 3.0429926601119037]\n"
     ]
    },
    {
     "data": {
      "text/plain": [
       "Index(['wind_speed', 'track_distance', 'total_houses', 'rainfall_max_6h',\n",
       "       'rainfall_max_24h', 'rwi', 'mean_slope', 'std_slope', 'mean_tri',\n",
       "       'std_tri', 'mean_elev', 'coast_length', 'with_coast', 'urban', 'rural',\n",
       "       'water', 'total_pop', 'percent_houses_damaged_5years'],\n",
       "      dtype='object')"
      ]
     },
     "metadata": {},
     "output_type": "display_data"
    },
    {
     "name": "stderr",
     "output_type": "stream",
     "text": [
      "pandas.Int64Index is deprecated and will be removed from pandas in a future version. Use pandas.Index with the appropriate dtype instead.\n"
     ]
    },
    {
     "name": "stdout",
     "output_type": "stream",
     "text": [
      "[12:45:55] WARNING: /Users/runner/miniforge3/conda-bld/xgboost-split_1637426408905/work/src/learner.cc:576: \n",
      "Parameters: { \"early_stopping_rounds\" } might not be used.\n",
      "\n",
      "  This could be a false alarm, with some parameters getting used by language bindings but\n",
      "  then being mistakenly passed down to XGBoost core, or some parameter actually being used\n",
      "  but getting flagged wrongly here. Please open an issue if you find any such cases.\n",
      "\n",
      "\n",
      "Counter({0: 38948, 1: 855})\n",
      "Counter({0: 8550, 1: 855})\n"
     ]
    },
    {
     "name": "stderr",
     "output_type": "stream",
     "text": [
      "The use of label encoder in XGBClassifier is deprecated and will be removed in a future release. To remove this warning, do the following: 1) Pass option use_label_encoder=False when constructing XGBClassifier object; and 2) Encode your labels (y) as integers starting with 0, i.e. 0, 1, 2, ..., [num_class - 1].\n",
      "pandas.Int64Index is deprecated and will be removed from pandas in a future version. Use pandas.Index with the appropriate dtype instead.\n"
     ]
    },
    {
     "data": {
      "text/plain": [
       "Index(['wind_speed', 'track_distance', 'total_houses', 'rainfall_max_6h',\n",
       "       'rainfall_max_24h', 'rwi', 'mean_slope', 'std_slope', 'mean_tri',\n",
       "       'std_tri', 'mean_elev', 'coast_length', 'with_coast', 'urban', 'rural',\n",
       "       'water', 'total_pop', 'percent_houses_damaged_5years'],\n",
       "      dtype='object')"
      ]
     },
     "metadata": {},
     "output_type": "display_data"
    },
    {
     "name": "stderr",
     "output_type": "stream",
     "text": [
      "pandas.Int64Index is deprecated and will be removed from pandas in a future version. Use pandas.Index with the appropriate dtype instead.\n",
      "\n",
      "A value is trying to be set on a copy of a slice from a DataFrame.\n",
      "Try using .loc[row_indexer,col_indexer] = value instead\n",
      "\n",
      "See the caveats in the documentation: https://pandas.pydata.org/pandas-docs/stable/user_guide/indexing.html#returning-a-view-versus-a-copy\n",
      "\n",
      "A value is trying to be set on a copy of a slice from a DataFrame.\n",
      "Try using .loc[row_indexer,col_indexer] = value instead\n",
      "\n",
      "See the caveats in the documentation: https://pandas.pydata.org/pandas-docs/stable/user_guide/indexing.html#returning-a-view-versus-a-copy\n"
     ]
    },
    {
     "name": "stdout",
     "output_type": "stream",
     "text": [
      "[12:45:58] WARNING: /Users/runner/miniforge3/conda-bld/xgboost-split_1637426408905/work/src/learner.cc:576: \n",
      "Parameters: { \"early_stopping_rounds\" } might not be used.\n",
      "\n",
      "  This could be a false alarm, with some parameters getting used by language bindings but\n",
      "  then being mistakenly passed down to XGBoost core, or some parameter actually being used\n",
      "  but getting flagged wrongly here. Please open an issue if you find any such cases.\n",
      "\n",
      "\n",
      "[3.3039230185175996, 3.2251776693928584, 3.2664871102805275, 3.501705402397512, 3.305824252791194, 3.296356918791896, 3.3195800838714224, 3.0013254829172755, 3.390415771118743, 3.397420122675211, 3.1853493658818817, 3.280638126314829, 3.177206168687014, 3.2124364260001848, 3.5248639642950534, 3.077818662641583, 3.2854527233305975, 3.411733347618065, 3.174174390975052, 2.974043700209311, 3.4897638171784475, 3.5492651762098353, 3.34944955399755, 3.4282416663501576, 3.2426885980926214, 3.4395992206393875, 3.371993253233383, 3.2604809673680433, 3.0973052984821194, 3.231039434930128, 3.468242398641255, 3.41091552300152, 3.373100375399568, 3.264861382652408, 3.291763127958453, 3.63062502761599, 3.3486020215435905, 3.332284987588538, 3.6156101314197118, 3.350072976478329, 3.1555112074645724, 3.3029712752061693, 3.2173861242539132, 3.281895934555158, 3.063005708081935, 3.617982256950439, 3.172032396690705, 3.106838301567577, 3.295411254079132, 3.155531981176172, 3.2369918840214096, 3.2019974475449757, 3.1693816105779606, 3.5486421488000808, 3.2667303437252593, 3.3362180711542186, 3.280610379321557, 3.1829717001082467, 3.4826578071966883, 3.3233900573500517, 3.0030990743826407, 3.3106993469834367, 3.343007384342664, 3.0429926601119037, 3.480047741875997]\n"
     ]
    },
    {
     "data": {
      "text/plain": [
       "Index(['wind_speed', 'track_distance', 'total_houses', 'rainfall_max_6h',\n",
       "       'rainfall_max_24h', 'rwi', 'mean_slope', 'std_slope', 'mean_tri',\n",
       "       'std_tri', 'mean_elev', 'coast_length', 'with_coast', 'urban', 'rural',\n",
       "       'water', 'total_pop', 'percent_houses_damaged_5years'],\n",
       "      dtype='object')"
      ]
     },
     "metadata": {},
     "output_type": "display_data"
    },
    {
     "name": "stderr",
     "output_type": "stream",
     "text": [
      "pandas.Int64Index is deprecated and will be removed from pandas in a future version. Use pandas.Index with the appropriate dtype instead.\n"
     ]
    },
    {
     "name": "stdout",
     "output_type": "stream",
     "text": [
      "[12:46:00] WARNING: /Users/runner/miniforge3/conda-bld/xgboost-split_1637426408905/work/src/learner.cc:576: \n",
      "Parameters: { \"early_stopping_rounds\" } might not be used.\n",
      "\n",
      "  This could be a false alarm, with some parameters getting used by language bindings but\n",
      "  then being mistakenly passed down to XGBoost core, or some parameter actually being used\n",
      "  but getting flagged wrongly here. Please open an issue if you find any such cases.\n",
      "\n",
      "\n",
      "Counter({0: 38948, 1: 855})\n",
      "Counter({0: 8550, 1: 855})\n"
     ]
    },
    {
     "name": "stderr",
     "output_type": "stream",
     "text": [
      "The use of label encoder in XGBClassifier is deprecated and will be removed in a future release. To remove this warning, do the following: 1) Pass option use_label_encoder=False when constructing XGBClassifier object; and 2) Encode your labels (y) as integers starting with 0, i.e. 0, 1, 2, ..., [num_class - 1].\n",
      "pandas.Int64Index is deprecated and will be removed from pandas in a future version. Use pandas.Index with the appropriate dtype instead.\n"
     ]
    },
    {
     "data": {
      "text/plain": [
       "Index(['wind_speed', 'track_distance', 'total_houses', 'rainfall_max_6h',\n",
       "       'rainfall_max_24h', 'rwi', 'mean_slope', 'std_slope', 'mean_tri',\n",
       "       'std_tri', 'mean_elev', 'coast_length', 'with_coast', 'urban', 'rural',\n",
       "       'water', 'total_pop', 'percent_houses_damaged_5years'],\n",
       "      dtype='object')"
      ]
     },
     "metadata": {},
     "output_type": "display_data"
    },
    {
     "name": "stderr",
     "output_type": "stream",
     "text": [
      "pandas.Int64Index is deprecated and will be removed from pandas in a future version. Use pandas.Index with the appropriate dtype instead.\n",
      "\n",
      "A value is trying to be set on a copy of a slice from a DataFrame.\n",
      "Try using .loc[row_indexer,col_indexer] = value instead\n",
      "\n",
      "See the caveats in the documentation: https://pandas.pydata.org/pandas-docs/stable/user_guide/indexing.html#returning-a-view-versus-a-copy\n",
      "\n",
      "A value is trying to be set on a copy of a slice from a DataFrame.\n",
      "Try using .loc[row_indexer,col_indexer] = value instead\n",
      "\n",
      "See the caveats in the documentation: https://pandas.pydata.org/pandas-docs/stable/user_guide/indexing.html#returning-a-view-versus-a-copy\n"
     ]
    },
    {
     "name": "stdout",
     "output_type": "stream",
     "text": [
      "[12:46:03] WARNING: /Users/runner/miniforge3/conda-bld/xgboost-split_1637426408905/work/src/learner.cc:576: \n",
      "Parameters: { \"early_stopping_rounds\" } might not be used.\n",
      "\n",
      "  This could be a false alarm, with some parameters getting used by language bindings but\n",
      "  then being mistakenly passed down to XGBoost core, or some parameter actually being used\n",
      "  but getting flagged wrongly here. Please open an issue if you find any such cases.\n",
      "\n",
      "\n",
      "[3.3039230185175996, 3.2251776693928584, 3.2664871102805275, 3.501705402397512, 3.305824252791194, 3.296356918791896, 3.3195800838714224, 3.0013254829172755, 3.390415771118743, 3.397420122675211, 3.1853493658818817, 3.280638126314829, 3.177206168687014, 3.2124364260001848, 3.5248639642950534, 3.077818662641583, 3.2854527233305975, 3.411733347618065, 3.174174390975052, 2.974043700209311, 3.4897638171784475, 3.5492651762098353, 3.34944955399755, 3.4282416663501576, 3.2426885980926214, 3.4395992206393875, 3.371993253233383, 3.2604809673680433, 3.0973052984821194, 3.231039434930128, 3.468242398641255, 3.41091552300152, 3.373100375399568, 3.264861382652408, 3.291763127958453, 3.63062502761599, 3.3486020215435905, 3.332284987588538, 3.6156101314197118, 3.350072976478329, 3.1555112074645724, 3.3029712752061693, 3.2173861242539132, 3.281895934555158, 3.063005708081935, 3.617982256950439, 3.172032396690705, 3.106838301567577, 3.295411254079132, 3.155531981176172, 3.2369918840214096, 3.2019974475449757, 3.1693816105779606, 3.5486421488000808, 3.2667303437252593, 3.3362180711542186, 3.280610379321557, 3.1829717001082467, 3.4826578071966883, 3.3233900573500517, 3.0030990743826407, 3.3106993469834367, 3.343007384342664, 3.0429926601119037, 3.480047741875997, 3.213724536929093]\n"
     ]
    },
    {
     "data": {
      "text/plain": [
       "Index(['wind_speed', 'track_distance', 'total_houses', 'rainfall_max_6h',\n",
       "       'rainfall_max_24h', 'rwi', 'mean_slope', 'std_slope', 'mean_tri',\n",
       "       'std_tri', 'mean_elev', 'coast_length', 'with_coast', 'urban', 'rural',\n",
       "       'water', 'total_pop', 'percent_houses_damaged_5years'],\n",
       "      dtype='object')"
      ]
     },
     "metadata": {},
     "output_type": "display_data"
    },
    {
     "name": "stderr",
     "output_type": "stream",
     "text": [
      "pandas.Int64Index is deprecated and will be removed from pandas in a future version. Use pandas.Index with the appropriate dtype instead.\n"
     ]
    },
    {
     "name": "stdout",
     "output_type": "stream",
     "text": [
      "[12:46:04] WARNING: /Users/runner/miniforge3/conda-bld/xgboost-split_1637426408905/work/src/learner.cc:576: \n",
      "Parameters: { \"early_stopping_rounds\" } might not be used.\n",
      "\n",
      "  This could be a false alarm, with some parameters getting used by language bindings but\n",
      "  then being mistakenly passed down to XGBoost core, or some parameter actually being used\n",
      "  but getting flagged wrongly here. Please open an issue if you find any such cases.\n",
      "\n",
      "\n",
      "Counter({0: 38948, 1: 855})\n",
      "Counter({0: 8550, 1: 855})\n"
     ]
    },
    {
     "name": "stderr",
     "output_type": "stream",
     "text": [
      "The use of label encoder in XGBClassifier is deprecated and will be removed in a future release. To remove this warning, do the following: 1) Pass option use_label_encoder=False when constructing XGBClassifier object; and 2) Encode your labels (y) as integers starting with 0, i.e. 0, 1, 2, ..., [num_class - 1].\n",
      "pandas.Int64Index is deprecated and will be removed from pandas in a future version. Use pandas.Index with the appropriate dtype instead.\n"
     ]
    },
    {
     "data": {
      "text/plain": [
       "Index(['wind_speed', 'track_distance', 'total_houses', 'rainfall_max_6h',\n",
       "       'rainfall_max_24h', 'rwi', 'mean_slope', 'std_slope', 'mean_tri',\n",
       "       'std_tri', 'mean_elev', 'coast_length', 'with_coast', 'urban', 'rural',\n",
       "       'water', 'total_pop', 'percent_houses_damaged_5years'],\n",
       "      dtype='object')"
      ]
     },
     "metadata": {},
     "output_type": "display_data"
    },
    {
     "name": "stderr",
     "output_type": "stream",
     "text": [
      "pandas.Int64Index is deprecated and will be removed from pandas in a future version. Use pandas.Index with the appropriate dtype instead.\n",
      "\n",
      "A value is trying to be set on a copy of a slice from a DataFrame.\n",
      "Try using .loc[row_indexer,col_indexer] = value instead\n",
      "\n",
      "See the caveats in the documentation: https://pandas.pydata.org/pandas-docs/stable/user_guide/indexing.html#returning-a-view-versus-a-copy\n",
      "\n",
      "A value is trying to be set on a copy of a slice from a DataFrame.\n",
      "Try using .loc[row_indexer,col_indexer] = value instead\n",
      "\n",
      "See the caveats in the documentation: https://pandas.pydata.org/pandas-docs/stable/user_guide/indexing.html#returning-a-view-versus-a-copy\n"
     ]
    },
    {
     "name": "stdout",
     "output_type": "stream",
     "text": [
      "[12:46:07] WARNING: /Users/runner/miniforge3/conda-bld/xgboost-split_1637426408905/work/src/learner.cc:576: \n",
      "Parameters: { \"early_stopping_rounds\" } might not be used.\n",
      "\n",
      "  This could be a false alarm, with some parameters getting used by language bindings but\n",
      "  then being mistakenly passed down to XGBoost core, or some parameter actually being used\n",
      "  but getting flagged wrongly here. Please open an issue if you find any such cases.\n",
      "\n",
      "\n",
      "[3.3039230185175996, 3.2251776693928584, 3.2664871102805275, 3.501705402397512, 3.305824252791194, 3.296356918791896, 3.3195800838714224, 3.0013254829172755, 3.390415771118743, 3.397420122675211, 3.1853493658818817, 3.280638126314829, 3.177206168687014, 3.2124364260001848, 3.5248639642950534, 3.077818662641583, 3.2854527233305975, 3.411733347618065, 3.174174390975052, 2.974043700209311, 3.4897638171784475, 3.5492651762098353, 3.34944955399755, 3.4282416663501576, 3.2426885980926214, 3.4395992206393875, 3.371993253233383, 3.2604809673680433, 3.0973052984821194, 3.231039434930128, 3.468242398641255, 3.41091552300152, 3.373100375399568, 3.264861382652408, 3.291763127958453, 3.63062502761599, 3.3486020215435905, 3.332284987588538, 3.6156101314197118, 3.350072976478329, 3.1555112074645724, 3.3029712752061693, 3.2173861242539132, 3.281895934555158, 3.063005708081935, 3.617982256950439, 3.172032396690705, 3.106838301567577, 3.295411254079132, 3.155531981176172, 3.2369918840214096, 3.2019974475449757, 3.1693816105779606, 3.5486421488000808, 3.2667303437252593, 3.3362180711542186, 3.280610379321557, 3.1829717001082467, 3.4826578071966883, 3.3233900573500517, 3.0030990743826407, 3.3106993469834367, 3.343007384342664, 3.0429926601119037, 3.480047741875997, 3.213724536929093, 3.2371056141975902]\n"
     ]
    },
    {
     "data": {
      "text/plain": [
       "Index(['wind_speed', 'track_distance', 'total_houses', 'rainfall_max_6h',\n",
       "       'rainfall_max_24h', 'rwi', 'mean_slope', 'std_slope', 'mean_tri',\n",
       "       'std_tri', 'mean_elev', 'coast_length', 'with_coast', 'urban', 'rural',\n",
       "       'water', 'total_pop', 'percent_houses_damaged_5years'],\n",
       "      dtype='object')"
      ]
     },
     "metadata": {},
     "output_type": "display_data"
    },
    {
     "name": "stderr",
     "output_type": "stream",
     "text": [
      "pandas.Int64Index is deprecated and will be removed from pandas in a future version. Use pandas.Index with the appropriate dtype instead.\n"
     ]
    },
    {
     "name": "stdout",
     "output_type": "stream",
     "text": [
      "[12:46:08] WARNING: /Users/runner/miniforge3/conda-bld/xgboost-split_1637426408905/work/src/learner.cc:576: \n",
      "Parameters: { \"early_stopping_rounds\" } might not be used.\n",
      "\n",
      "  This could be a false alarm, with some parameters getting used by language bindings but\n",
      "  then being mistakenly passed down to XGBoost core, or some parameter actually being used\n",
      "  but getting flagged wrongly here. Please open an issue if you find any such cases.\n",
      "\n",
      "\n",
      "Counter({0: 38948, 1: 855})\n",
      "Counter({0: 8550, 1: 855})\n"
     ]
    },
    {
     "name": "stderr",
     "output_type": "stream",
     "text": [
      "The use of label encoder in XGBClassifier is deprecated and will be removed in a future release. To remove this warning, do the following: 1) Pass option use_label_encoder=False when constructing XGBClassifier object; and 2) Encode your labels (y) as integers starting with 0, i.e. 0, 1, 2, ..., [num_class - 1].\n",
      "pandas.Int64Index is deprecated and will be removed from pandas in a future version. Use pandas.Index with the appropriate dtype instead.\n"
     ]
    },
    {
     "data": {
      "text/plain": [
       "Index(['wind_speed', 'track_distance', 'total_houses', 'rainfall_max_6h',\n",
       "       'rainfall_max_24h', 'rwi', 'mean_slope', 'std_slope', 'mean_tri',\n",
       "       'std_tri', 'mean_elev', 'coast_length', 'with_coast', 'urban', 'rural',\n",
       "       'water', 'total_pop', 'percent_houses_damaged_5years'],\n",
       "      dtype='object')"
      ]
     },
     "metadata": {},
     "output_type": "display_data"
    },
    {
     "name": "stderr",
     "output_type": "stream",
     "text": [
      "pandas.Int64Index is deprecated and will be removed from pandas in a future version. Use pandas.Index with the appropriate dtype instead.\n",
      "\n",
      "A value is trying to be set on a copy of a slice from a DataFrame.\n",
      "Try using .loc[row_indexer,col_indexer] = value instead\n",
      "\n",
      "See the caveats in the documentation: https://pandas.pydata.org/pandas-docs/stable/user_guide/indexing.html#returning-a-view-versus-a-copy\n",
      "\n",
      "A value is trying to be set on a copy of a slice from a DataFrame.\n",
      "Try using .loc[row_indexer,col_indexer] = value instead\n",
      "\n",
      "See the caveats in the documentation: https://pandas.pydata.org/pandas-docs/stable/user_guide/indexing.html#returning-a-view-versus-a-copy\n"
     ]
    },
    {
     "name": "stdout",
     "output_type": "stream",
     "text": [
      "[12:46:12] WARNING: /Users/runner/miniforge3/conda-bld/xgboost-split_1637426408905/work/src/learner.cc:576: \n",
      "Parameters: { \"early_stopping_rounds\" } might not be used.\n",
      "\n",
      "  This could be a false alarm, with some parameters getting used by language bindings but\n",
      "  then being mistakenly passed down to XGBoost core, or some parameter actually being used\n",
      "  but getting flagged wrongly here. Please open an issue if you find any such cases.\n",
      "\n",
      "\n",
      "[3.3039230185175996, 3.2251776693928584, 3.2664871102805275, 3.501705402397512, 3.305824252791194, 3.296356918791896, 3.3195800838714224, 3.0013254829172755, 3.390415771118743, 3.397420122675211, 3.1853493658818817, 3.280638126314829, 3.177206168687014, 3.2124364260001848, 3.5248639642950534, 3.077818662641583, 3.2854527233305975, 3.411733347618065, 3.174174390975052, 2.974043700209311, 3.4897638171784475, 3.5492651762098353, 3.34944955399755, 3.4282416663501576, 3.2426885980926214, 3.4395992206393875, 3.371993253233383, 3.2604809673680433, 3.0973052984821194, 3.231039434930128, 3.468242398641255, 3.41091552300152, 3.373100375399568, 3.264861382652408, 3.291763127958453, 3.63062502761599, 3.3486020215435905, 3.332284987588538, 3.6156101314197118, 3.350072976478329, 3.1555112074645724, 3.3029712752061693, 3.2173861242539132, 3.281895934555158, 3.063005708081935, 3.617982256950439, 3.172032396690705, 3.106838301567577, 3.295411254079132, 3.155531981176172, 3.2369918840214096, 3.2019974475449757, 3.1693816105779606, 3.5486421488000808, 3.2667303437252593, 3.3362180711542186, 3.280610379321557, 3.1829717001082467, 3.4826578071966883, 3.3233900573500517, 3.0030990743826407, 3.3106993469834367, 3.343007384342664, 3.0429926601119037, 3.480047741875997, 3.213724536929093, 3.2371056141975902, 3.3637131652502674]\n"
     ]
    },
    {
     "data": {
      "text/plain": [
       "Index(['wind_speed', 'track_distance', 'total_houses', 'rainfall_max_6h',\n",
       "       'rainfall_max_24h', 'rwi', 'mean_slope', 'std_slope', 'mean_tri',\n",
       "       'std_tri', 'mean_elev', 'coast_length', 'with_coast', 'urban', 'rural',\n",
       "       'water', 'total_pop', 'percent_houses_damaged_5years'],\n",
       "      dtype='object')"
      ]
     },
     "metadata": {},
     "output_type": "display_data"
    },
    {
     "name": "stderr",
     "output_type": "stream",
     "text": [
      "pandas.Int64Index is deprecated and will be removed from pandas in a future version. Use pandas.Index with the appropriate dtype instead.\n"
     ]
    },
    {
     "name": "stdout",
     "output_type": "stream",
     "text": [
      "[12:46:13] WARNING: /Users/runner/miniforge3/conda-bld/xgboost-split_1637426408905/work/src/learner.cc:576: \n",
      "Parameters: { \"early_stopping_rounds\" } might not be used.\n",
      "\n",
      "  This could be a false alarm, with some parameters getting used by language bindings but\n",
      "  then being mistakenly passed down to XGBoost core, or some parameter actually being used\n",
      "  but getting flagged wrongly here. Please open an issue if you find any such cases.\n",
      "\n",
      "\n",
      "Counter({0: 38948, 1: 855})\n",
      "Counter({0: 8550, 1: 855})\n"
     ]
    },
    {
     "name": "stderr",
     "output_type": "stream",
     "text": [
      "The use of label encoder in XGBClassifier is deprecated and will be removed in a future release. To remove this warning, do the following: 1) Pass option use_label_encoder=False when constructing XGBClassifier object; and 2) Encode your labels (y) as integers starting with 0, i.e. 0, 1, 2, ..., [num_class - 1].\n",
      "pandas.Int64Index is deprecated and will be removed from pandas in a future version. Use pandas.Index with the appropriate dtype instead.\n"
     ]
    },
    {
     "data": {
      "text/plain": [
       "Index(['wind_speed', 'track_distance', 'total_houses', 'rainfall_max_6h',\n",
       "       'rainfall_max_24h', 'rwi', 'mean_slope', 'std_slope', 'mean_tri',\n",
       "       'std_tri', 'mean_elev', 'coast_length', 'with_coast', 'urban', 'rural',\n",
       "       'water', 'total_pop', 'percent_houses_damaged_5years'],\n",
       "      dtype='object')"
      ]
     },
     "metadata": {},
     "output_type": "display_data"
    },
    {
     "name": "stderr",
     "output_type": "stream",
     "text": [
      "pandas.Int64Index is deprecated and will be removed from pandas in a future version. Use pandas.Index with the appropriate dtype instead.\n",
      "\n",
      "A value is trying to be set on a copy of a slice from a DataFrame.\n",
      "Try using .loc[row_indexer,col_indexer] = value instead\n",
      "\n",
      "See the caveats in the documentation: https://pandas.pydata.org/pandas-docs/stable/user_guide/indexing.html#returning-a-view-versus-a-copy\n",
      "\n",
      "A value is trying to be set on a copy of a slice from a DataFrame.\n",
      "Try using .loc[row_indexer,col_indexer] = value instead\n",
      "\n",
      "See the caveats in the documentation: https://pandas.pydata.org/pandas-docs/stable/user_guide/indexing.html#returning-a-view-versus-a-copy\n"
     ]
    },
    {
     "name": "stdout",
     "output_type": "stream",
     "text": [
      "[12:46:16] WARNING: /Users/runner/miniforge3/conda-bld/xgboost-split_1637426408905/work/src/learner.cc:576: \n",
      "Parameters: { \"early_stopping_rounds\" } might not be used.\n",
      "\n",
      "  This could be a false alarm, with some parameters getting used by language bindings but\n",
      "  then being mistakenly passed down to XGBoost core, or some parameter actually being used\n",
      "  but getting flagged wrongly here. Please open an issue if you find any such cases.\n",
      "\n",
      "\n",
      "[3.3039230185175996, 3.2251776693928584, 3.2664871102805275, 3.501705402397512, 3.305824252791194, 3.296356918791896, 3.3195800838714224, 3.0013254829172755, 3.390415771118743, 3.397420122675211, 3.1853493658818817, 3.280638126314829, 3.177206168687014, 3.2124364260001848, 3.5248639642950534, 3.077818662641583, 3.2854527233305975, 3.411733347618065, 3.174174390975052, 2.974043700209311, 3.4897638171784475, 3.5492651762098353, 3.34944955399755, 3.4282416663501576, 3.2426885980926214, 3.4395992206393875, 3.371993253233383, 3.2604809673680433, 3.0973052984821194, 3.231039434930128, 3.468242398641255, 3.41091552300152, 3.373100375399568, 3.264861382652408, 3.291763127958453, 3.63062502761599, 3.3486020215435905, 3.332284987588538, 3.6156101314197118, 3.350072976478329, 3.1555112074645724, 3.3029712752061693, 3.2173861242539132, 3.281895934555158, 3.063005708081935, 3.617982256950439, 3.172032396690705, 3.106838301567577, 3.295411254079132, 3.155531981176172, 3.2369918840214096, 3.2019974475449757, 3.1693816105779606, 3.5486421488000808, 3.2667303437252593, 3.3362180711542186, 3.280610379321557, 3.1829717001082467, 3.4826578071966883, 3.3233900573500517, 3.0030990743826407, 3.3106993469834367, 3.343007384342664, 3.0429926601119037, 3.480047741875997, 3.213724536929093, 3.2371056141975902, 3.3637131652502674, 3.1892671401069057]\n"
     ]
    },
    {
     "data": {
      "text/plain": [
       "Index(['wind_speed', 'track_distance', 'total_houses', 'rainfall_max_6h',\n",
       "       'rainfall_max_24h', 'rwi', 'mean_slope', 'std_slope', 'mean_tri',\n",
       "       'std_tri', 'mean_elev', 'coast_length', 'with_coast', 'urban', 'rural',\n",
       "       'water', 'total_pop', 'percent_houses_damaged_5years'],\n",
       "      dtype='object')"
      ]
     },
     "metadata": {},
     "output_type": "display_data"
    },
    {
     "name": "stderr",
     "output_type": "stream",
     "text": [
      "pandas.Int64Index is deprecated and will be removed from pandas in a future version. Use pandas.Index with the appropriate dtype instead.\n"
     ]
    },
    {
     "name": "stdout",
     "output_type": "stream",
     "text": [
      "[12:46:17] WARNING: /Users/runner/miniforge3/conda-bld/xgboost-split_1637426408905/work/src/learner.cc:576: \n",
      "Parameters: { \"early_stopping_rounds\" } might not be used.\n",
      "\n",
      "  This could be a false alarm, with some parameters getting used by language bindings but\n",
      "  then being mistakenly passed down to XGBoost core, or some parameter actually being used\n",
      "  but getting flagged wrongly here. Please open an issue if you find any such cases.\n",
      "\n",
      "\n",
      "Counter({0: 38948, 1: 855})\n",
      "Counter({0: 8550, 1: 855})\n"
     ]
    },
    {
     "name": "stderr",
     "output_type": "stream",
     "text": [
      "The use of label encoder in XGBClassifier is deprecated and will be removed in a future release. To remove this warning, do the following: 1) Pass option use_label_encoder=False when constructing XGBClassifier object; and 2) Encode your labels (y) as integers starting with 0, i.e. 0, 1, 2, ..., [num_class - 1].\n",
      "pandas.Int64Index is deprecated and will be removed from pandas in a future version. Use pandas.Index with the appropriate dtype instead.\n"
     ]
    },
    {
     "data": {
      "text/plain": [
       "Index(['wind_speed', 'track_distance', 'total_houses', 'rainfall_max_6h',\n",
       "       'rainfall_max_24h', 'rwi', 'mean_slope', 'std_slope', 'mean_tri',\n",
       "       'std_tri', 'mean_elev', 'coast_length', 'with_coast', 'urban', 'rural',\n",
       "       'water', 'total_pop', 'percent_houses_damaged_5years'],\n",
       "      dtype='object')"
      ]
     },
     "metadata": {},
     "output_type": "display_data"
    },
    {
     "name": "stderr",
     "output_type": "stream",
     "text": [
      "pandas.Int64Index is deprecated and will be removed from pandas in a future version. Use pandas.Index with the appropriate dtype instead.\n",
      "\n",
      "A value is trying to be set on a copy of a slice from a DataFrame.\n",
      "Try using .loc[row_indexer,col_indexer] = value instead\n",
      "\n",
      "See the caveats in the documentation: https://pandas.pydata.org/pandas-docs/stable/user_guide/indexing.html#returning-a-view-versus-a-copy\n",
      "\n",
      "A value is trying to be set on a copy of a slice from a DataFrame.\n",
      "Try using .loc[row_indexer,col_indexer] = value instead\n",
      "\n",
      "See the caveats in the documentation: https://pandas.pydata.org/pandas-docs/stable/user_guide/indexing.html#returning-a-view-versus-a-copy\n"
     ]
    },
    {
     "name": "stdout",
     "output_type": "stream",
     "text": [
      "[12:46:21] WARNING: /Users/runner/miniforge3/conda-bld/xgboost-split_1637426408905/work/src/learner.cc:576: \n",
      "Parameters: { \"early_stopping_rounds\" } might not be used.\n",
      "\n",
      "  This could be a false alarm, with some parameters getting used by language bindings but\n",
      "  then being mistakenly passed down to XGBoost core, or some parameter actually being used\n",
      "  but getting flagged wrongly here. Please open an issue if you find any such cases.\n",
      "\n",
      "\n",
      "[3.3039230185175996, 3.2251776693928584, 3.2664871102805275, 3.501705402397512, 3.305824252791194, 3.296356918791896, 3.3195800838714224, 3.0013254829172755, 3.390415771118743, 3.397420122675211, 3.1853493658818817, 3.280638126314829, 3.177206168687014, 3.2124364260001848, 3.5248639642950534, 3.077818662641583, 3.2854527233305975, 3.411733347618065, 3.174174390975052, 2.974043700209311, 3.4897638171784475, 3.5492651762098353, 3.34944955399755, 3.4282416663501576, 3.2426885980926214, 3.4395992206393875, 3.371993253233383, 3.2604809673680433, 3.0973052984821194, 3.231039434930128, 3.468242398641255, 3.41091552300152, 3.373100375399568, 3.264861382652408, 3.291763127958453, 3.63062502761599, 3.3486020215435905, 3.332284987588538, 3.6156101314197118, 3.350072976478329, 3.1555112074645724, 3.3029712752061693, 3.2173861242539132, 3.281895934555158, 3.063005708081935, 3.617982256950439, 3.172032396690705, 3.106838301567577, 3.295411254079132, 3.155531981176172, 3.2369918840214096, 3.2019974475449757, 3.1693816105779606, 3.5486421488000808, 3.2667303437252593, 3.3362180711542186, 3.280610379321557, 3.1829717001082467, 3.4826578071966883, 3.3233900573500517, 3.0030990743826407, 3.3106993469834367, 3.343007384342664, 3.0429926601119037, 3.480047741875997, 3.213724536929093, 3.2371056141975902, 3.3637131652502674, 3.1892671401069057, 3.154030707340298]\n"
     ]
    },
    {
     "data": {
      "text/plain": [
       "Index(['wind_speed', 'track_distance', 'total_houses', 'rainfall_max_6h',\n",
       "       'rainfall_max_24h', 'rwi', 'mean_slope', 'std_slope', 'mean_tri',\n",
       "       'std_tri', 'mean_elev', 'coast_length', 'with_coast', 'urban', 'rural',\n",
       "       'water', 'total_pop', 'percent_houses_damaged_5years'],\n",
       "      dtype='object')"
      ]
     },
     "metadata": {},
     "output_type": "display_data"
    },
    {
     "name": "stderr",
     "output_type": "stream",
     "text": [
      "pandas.Int64Index is deprecated and will be removed from pandas in a future version. Use pandas.Index with the appropriate dtype instead.\n"
     ]
    },
    {
     "name": "stdout",
     "output_type": "stream",
     "text": [
      "[12:46:22] WARNING: /Users/runner/miniforge3/conda-bld/xgboost-split_1637426408905/work/src/learner.cc:576: \n",
      "Parameters: { \"early_stopping_rounds\" } might not be used.\n",
      "\n",
      "  This could be a false alarm, with some parameters getting used by language bindings but\n",
      "  then being mistakenly passed down to XGBoost core, or some parameter actually being used\n",
      "  but getting flagged wrongly here. Please open an issue if you find any such cases.\n",
      "\n",
      "\n",
      "Counter({0: 38948, 1: 855})\n",
      "Counter({0: 8550, 1: 855})\n"
     ]
    },
    {
     "name": "stderr",
     "output_type": "stream",
     "text": [
      "The use of label encoder in XGBClassifier is deprecated and will be removed in a future release. To remove this warning, do the following: 1) Pass option use_label_encoder=False when constructing XGBClassifier object; and 2) Encode your labels (y) as integers starting with 0, i.e. 0, 1, 2, ..., [num_class - 1].\n",
      "pandas.Int64Index is deprecated and will be removed from pandas in a future version. Use pandas.Index with the appropriate dtype instead.\n"
     ]
    },
    {
     "data": {
      "text/plain": [
       "Index(['wind_speed', 'track_distance', 'total_houses', 'rainfall_max_6h',\n",
       "       'rainfall_max_24h', 'rwi', 'mean_slope', 'std_slope', 'mean_tri',\n",
       "       'std_tri', 'mean_elev', 'coast_length', 'with_coast', 'urban', 'rural',\n",
       "       'water', 'total_pop', 'percent_houses_damaged_5years'],\n",
       "      dtype='object')"
      ]
     },
     "metadata": {},
     "output_type": "display_data"
    },
    {
     "name": "stderr",
     "output_type": "stream",
     "text": [
      "pandas.Int64Index is deprecated and will be removed from pandas in a future version. Use pandas.Index with the appropriate dtype instead.\n",
      "\n",
      "A value is trying to be set on a copy of a slice from a DataFrame.\n",
      "Try using .loc[row_indexer,col_indexer] = value instead\n",
      "\n",
      "See the caveats in the documentation: https://pandas.pydata.org/pandas-docs/stable/user_guide/indexing.html#returning-a-view-versus-a-copy\n",
      "\n",
      "A value is trying to be set on a copy of a slice from a DataFrame.\n",
      "Try using .loc[row_indexer,col_indexer] = value instead\n",
      "\n",
      "See the caveats in the documentation: https://pandas.pydata.org/pandas-docs/stable/user_guide/indexing.html#returning-a-view-versus-a-copy\n"
     ]
    },
    {
     "name": "stdout",
     "output_type": "stream",
     "text": [
      "[12:46:25] WARNING: /Users/runner/miniforge3/conda-bld/xgboost-split_1637426408905/work/src/learner.cc:576: \n",
      "Parameters: { \"early_stopping_rounds\" } might not be used.\n",
      "\n",
      "  This could be a false alarm, with some parameters getting used by language bindings but\n",
      "  then being mistakenly passed down to XGBoost core, or some parameter actually being used\n",
      "  but getting flagged wrongly here. Please open an issue if you find any such cases.\n",
      "\n",
      "\n",
      "[3.3039230185175996, 3.2251776693928584, 3.2664871102805275, 3.501705402397512, 3.305824252791194, 3.296356918791896, 3.3195800838714224, 3.0013254829172755, 3.390415771118743, 3.397420122675211, 3.1853493658818817, 3.280638126314829, 3.177206168687014, 3.2124364260001848, 3.5248639642950534, 3.077818662641583, 3.2854527233305975, 3.411733347618065, 3.174174390975052, 2.974043700209311, 3.4897638171784475, 3.5492651762098353, 3.34944955399755, 3.4282416663501576, 3.2426885980926214, 3.4395992206393875, 3.371993253233383, 3.2604809673680433, 3.0973052984821194, 3.231039434930128, 3.468242398641255, 3.41091552300152, 3.373100375399568, 3.264861382652408, 3.291763127958453, 3.63062502761599, 3.3486020215435905, 3.332284987588538, 3.6156101314197118, 3.350072976478329, 3.1555112074645724, 3.3029712752061693, 3.2173861242539132, 3.281895934555158, 3.063005708081935, 3.617982256950439, 3.172032396690705, 3.106838301567577, 3.295411254079132, 3.155531981176172, 3.2369918840214096, 3.2019974475449757, 3.1693816105779606, 3.5486421488000808, 3.2667303437252593, 3.3362180711542186, 3.280610379321557, 3.1829717001082467, 3.4826578071966883, 3.3233900573500517, 3.0030990743826407, 3.3106993469834367, 3.343007384342664, 3.0429926601119037, 3.480047741875997, 3.213724536929093, 3.2371056141975902, 3.3637131652502674, 3.1892671401069057, 3.154030707340298, 3.558714948012274]\n"
     ]
    },
    {
     "data": {
      "text/plain": [
       "Index(['wind_speed', 'track_distance', 'total_houses', 'rainfall_max_6h',\n",
       "       'rainfall_max_24h', 'rwi', 'mean_slope', 'std_slope', 'mean_tri',\n",
       "       'std_tri', 'mean_elev', 'coast_length', 'with_coast', 'urban', 'rural',\n",
       "       'water', 'total_pop', 'percent_houses_damaged_5years'],\n",
       "      dtype='object')"
      ]
     },
     "metadata": {},
     "output_type": "display_data"
    },
    {
     "name": "stderr",
     "output_type": "stream",
     "text": [
      "pandas.Int64Index is deprecated and will be removed from pandas in a future version. Use pandas.Index with the appropriate dtype instead.\n"
     ]
    },
    {
     "name": "stdout",
     "output_type": "stream",
     "text": [
      "[12:46:26] WARNING: /Users/runner/miniforge3/conda-bld/xgboost-split_1637426408905/work/src/learner.cc:576: \n",
      "Parameters: { \"early_stopping_rounds\" } might not be used.\n",
      "\n",
      "  This could be a false alarm, with some parameters getting used by language bindings but\n",
      "  then being mistakenly passed down to XGBoost core, or some parameter actually being used\n",
      "  but getting flagged wrongly here. Please open an issue if you find any such cases.\n",
      "\n",
      "\n",
      "Counter({0: 38948, 1: 855})\n",
      "Counter({0: 8550, 1: 855})\n"
     ]
    },
    {
     "name": "stderr",
     "output_type": "stream",
     "text": [
      "The use of label encoder in XGBClassifier is deprecated and will be removed in a future release. To remove this warning, do the following: 1) Pass option use_label_encoder=False when constructing XGBClassifier object; and 2) Encode your labels (y) as integers starting with 0, i.e. 0, 1, 2, ..., [num_class - 1].\n",
      "pandas.Int64Index is deprecated and will be removed from pandas in a future version. Use pandas.Index with the appropriate dtype instead.\n"
     ]
    },
    {
     "data": {
      "text/plain": [
       "Index(['wind_speed', 'track_distance', 'total_houses', 'rainfall_max_6h',\n",
       "       'rainfall_max_24h', 'rwi', 'mean_slope', 'std_slope', 'mean_tri',\n",
       "       'std_tri', 'mean_elev', 'coast_length', 'with_coast', 'urban', 'rural',\n",
       "       'water', 'total_pop', 'percent_houses_damaged_5years'],\n",
       "      dtype='object')"
      ]
     },
     "metadata": {},
     "output_type": "display_data"
    },
    {
     "name": "stderr",
     "output_type": "stream",
     "text": [
      "pandas.Int64Index is deprecated and will be removed from pandas in a future version. Use pandas.Index with the appropriate dtype instead.\n",
      "\n",
      "A value is trying to be set on a copy of a slice from a DataFrame.\n",
      "Try using .loc[row_indexer,col_indexer] = value instead\n",
      "\n",
      "See the caveats in the documentation: https://pandas.pydata.org/pandas-docs/stable/user_guide/indexing.html#returning-a-view-versus-a-copy\n",
      "\n",
      "A value is trying to be set on a copy of a slice from a DataFrame.\n",
      "Try using .loc[row_indexer,col_indexer] = value instead\n",
      "\n",
      "See the caveats in the documentation: https://pandas.pydata.org/pandas-docs/stable/user_guide/indexing.html#returning-a-view-versus-a-copy\n"
     ]
    },
    {
     "name": "stdout",
     "output_type": "stream",
     "text": [
      "[12:46:29] WARNING: /Users/runner/miniforge3/conda-bld/xgboost-split_1637426408905/work/src/learner.cc:576: \n",
      "Parameters: { \"early_stopping_rounds\" } might not be used.\n",
      "\n",
      "  This could be a false alarm, with some parameters getting used by language bindings but\n",
      "  then being mistakenly passed down to XGBoost core, or some parameter actually being used\n",
      "  but getting flagged wrongly here. Please open an issue if you find any such cases.\n",
      "\n",
      "\n",
      "[3.3039230185175996, 3.2251776693928584, 3.2664871102805275, 3.501705402397512, 3.305824252791194, 3.296356918791896, 3.3195800838714224, 3.0013254829172755, 3.390415771118743, 3.397420122675211, 3.1853493658818817, 3.280638126314829, 3.177206168687014, 3.2124364260001848, 3.5248639642950534, 3.077818662641583, 3.2854527233305975, 3.411733347618065, 3.174174390975052, 2.974043700209311, 3.4897638171784475, 3.5492651762098353, 3.34944955399755, 3.4282416663501576, 3.2426885980926214, 3.4395992206393875, 3.371993253233383, 3.2604809673680433, 3.0973052984821194, 3.231039434930128, 3.468242398641255, 3.41091552300152, 3.373100375399568, 3.264861382652408, 3.291763127958453, 3.63062502761599, 3.3486020215435905, 3.332284987588538, 3.6156101314197118, 3.350072976478329, 3.1555112074645724, 3.3029712752061693, 3.2173861242539132, 3.281895934555158, 3.063005708081935, 3.617982256950439, 3.172032396690705, 3.106838301567577, 3.295411254079132, 3.155531981176172, 3.2369918840214096, 3.2019974475449757, 3.1693816105779606, 3.5486421488000808, 3.2667303437252593, 3.3362180711542186, 3.280610379321557, 3.1829717001082467, 3.4826578071966883, 3.3233900573500517, 3.0030990743826407, 3.3106993469834367, 3.343007384342664, 3.0429926601119037, 3.480047741875997, 3.213724536929093, 3.2371056141975902, 3.3637131652502674, 3.1892671401069057, 3.154030707340298, 3.558714948012274, 3.1939848026690303]\n"
     ]
    },
    {
     "data": {
      "text/plain": [
       "Index(['wind_speed', 'track_distance', 'total_houses', 'rainfall_max_6h',\n",
       "       'rainfall_max_24h', 'rwi', 'mean_slope', 'std_slope', 'mean_tri',\n",
       "       'std_tri', 'mean_elev', 'coast_length', 'with_coast', 'urban', 'rural',\n",
       "       'water', 'total_pop', 'percent_houses_damaged_5years'],\n",
       "      dtype='object')"
      ]
     },
     "metadata": {},
     "output_type": "display_data"
    },
    {
     "name": "stderr",
     "output_type": "stream",
     "text": [
      "pandas.Int64Index is deprecated and will be removed from pandas in a future version. Use pandas.Index with the appropriate dtype instead.\n"
     ]
    },
    {
     "name": "stdout",
     "output_type": "stream",
     "text": [
      "[12:46:31] WARNING: /Users/runner/miniforge3/conda-bld/xgboost-split_1637426408905/work/src/learner.cc:576: \n",
      "Parameters: { \"early_stopping_rounds\" } might not be used.\n",
      "\n",
      "  This could be a false alarm, with some parameters getting used by language bindings but\n",
      "  then being mistakenly passed down to XGBoost core, or some parameter actually being used\n",
      "  but getting flagged wrongly here. Please open an issue if you find any such cases.\n",
      "\n",
      "\n",
      "Counter({0: 38948, 1: 855})\n",
      "Counter({0: 8550, 1: 855})\n"
     ]
    },
    {
     "name": "stderr",
     "output_type": "stream",
     "text": [
      "The use of label encoder in XGBClassifier is deprecated and will be removed in a future release. To remove this warning, do the following: 1) Pass option use_label_encoder=False when constructing XGBClassifier object; and 2) Encode your labels (y) as integers starting with 0, i.e. 0, 1, 2, ..., [num_class - 1].\n",
      "pandas.Int64Index is deprecated and will be removed from pandas in a future version. Use pandas.Index with the appropriate dtype instead.\n"
     ]
    },
    {
     "data": {
      "text/plain": [
       "Index(['wind_speed', 'track_distance', 'total_houses', 'rainfall_max_6h',\n",
       "       'rainfall_max_24h', 'rwi', 'mean_slope', 'std_slope', 'mean_tri',\n",
       "       'std_tri', 'mean_elev', 'coast_length', 'with_coast', 'urban', 'rural',\n",
       "       'water', 'total_pop', 'percent_houses_damaged_5years'],\n",
       "      dtype='object')"
      ]
     },
     "metadata": {},
     "output_type": "display_data"
    },
    {
     "name": "stderr",
     "output_type": "stream",
     "text": [
      "pandas.Int64Index is deprecated and will be removed from pandas in a future version. Use pandas.Index with the appropriate dtype instead.\n",
      "\n",
      "A value is trying to be set on a copy of a slice from a DataFrame.\n",
      "Try using .loc[row_indexer,col_indexer] = value instead\n",
      "\n",
      "See the caveats in the documentation: https://pandas.pydata.org/pandas-docs/stable/user_guide/indexing.html#returning-a-view-versus-a-copy\n",
      "\n",
      "A value is trying to be set on a copy of a slice from a DataFrame.\n",
      "Try using .loc[row_indexer,col_indexer] = value instead\n",
      "\n",
      "See the caveats in the documentation: https://pandas.pydata.org/pandas-docs/stable/user_guide/indexing.html#returning-a-view-versus-a-copy\n"
     ]
    },
    {
     "name": "stdout",
     "output_type": "stream",
     "text": [
      "[12:46:34] WARNING: /Users/runner/miniforge3/conda-bld/xgboost-split_1637426408905/work/src/learner.cc:576: \n",
      "Parameters: { \"early_stopping_rounds\" } might not be used.\n",
      "\n",
      "  This could be a false alarm, with some parameters getting used by language bindings but\n",
      "  then being mistakenly passed down to XGBoost core, or some parameter actually being used\n",
      "  but getting flagged wrongly here. Please open an issue if you find any such cases.\n",
      "\n",
      "\n",
      "[3.3039230185175996, 3.2251776693928584, 3.2664871102805275, 3.501705402397512, 3.305824252791194, 3.296356918791896, 3.3195800838714224, 3.0013254829172755, 3.390415771118743, 3.397420122675211, 3.1853493658818817, 3.280638126314829, 3.177206168687014, 3.2124364260001848, 3.5248639642950534, 3.077818662641583, 3.2854527233305975, 3.411733347618065, 3.174174390975052, 2.974043700209311, 3.4897638171784475, 3.5492651762098353, 3.34944955399755, 3.4282416663501576, 3.2426885980926214, 3.4395992206393875, 3.371993253233383, 3.2604809673680433, 3.0973052984821194, 3.231039434930128, 3.468242398641255, 3.41091552300152, 3.373100375399568, 3.264861382652408, 3.291763127958453, 3.63062502761599, 3.3486020215435905, 3.332284987588538, 3.6156101314197118, 3.350072976478329, 3.1555112074645724, 3.3029712752061693, 3.2173861242539132, 3.281895934555158, 3.063005708081935, 3.617982256950439, 3.172032396690705, 3.106838301567577, 3.295411254079132, 3.155531981176172, 3.2369918840214096, 3.2019974475449757, 3.1693816105779606, 3.5486421488000808, 3.2667303437252593, 3.3362180711542186, 3.280610379321557, 3.1829717001082467, 3.4826578071966883, 3.3233900573500517, 3.0030990743826407, 3.3106993469834367, 3.343007384342664, 3.0429926601119037, 3.480047741875997, 3.213724536929093, 3.2371056141975902, 3.3637131652502674, 3.1892671401069057, 3.154030707340298, 3.558714948012274, 3.1939848026690303, 3.2856631353966135]\n"
     ]
    },
    {
     "data": {
      "text/plain": [
       "Index(['wind_speed', 'track_distance', 'total_houses', 'rainfall_max_6h',\n",
       "       'rainfall_max_24h', 'rwi', 'mean_slope', 'std_slope', 'mean_tri',\n",
       "       'std_tri', 'mean_elev', 'coast_length', 'with_coast', 'urban', 'rural',\n",
       "       'water', 'total_pop', 'percent_houses_damaged_5years'],\n",
       "      dtype='object')"
      ]
     },
     "metadata": {},
     "output_type": "display_data"
    },
    {
     "name": "stderr",
     "output_type": "stream",
     "text": [
      "pandas.Int64Index is deprecated and will be removed from pandas in a future version. Use pandas.Index with the appropriate dtype instead.\n"
     ]
    },
    {
     "name": "stdout",
     "output_type": "stream",
     "text": [
      "[12:46:35] WARNING: /Users/runner/miniforge3/conda-bld/xgboost-split_1637426408905/work/src/learner.cc:576: \n",
      "Parameters: { \"early_stopping_rounds\" } might not be used.\n",
      "\n",
      "  This could be a false alarm, with some parameters getting used by language bindings but\n",
      "  then being mistakenly passed down to XGBoost core, or some parameter actually being used\n",
      "  but getting flagged wrongly here. Please open an issue if you find any such cases.\n",
      "\n",
      "\n",
      "Counter({0: 38948, 1: 855})\n",
      "Counter({0: 8550, 1: 855})\n"
     ]
    },
    {
     "name": "stderr",
     "output_type": "stream",
     "text": [
      "The use of label encoder in XGBClassifier is deprecated and will be removed in a future release. To remove this warning, do the following: 1) Pass option use_label_encoder=False when constructing XGBClassifier object; and 2) Encode your labels (y) as integers starting with 0, i.e. 0, 1, 2, ..., [num_class - 1].\n",
      "pandas.Int64Index is deprecated and will be removed from pandas in a future version. Use pandas.Index with the appropriate dtype instead.\n"
     ]
    },
    {
     "data": {
      "text/plain": [
       "Index(['wind_speed', 'track_distance', 'total_houses', 'rainfall_max_6h',\n",
       "       'rainfall_max_24h', 'rwi', 'mean_slope', 'std_slope', 'mean_tri',\n",
       "       'std_tri', 'mean_elev', 'coast_length', 'with_coast', 'urban', 'rural',\n",
       "       'water', 'total_pop', 'percent_houses_damaged_5years'],\n",
       "      dtype='object')"
      ]
     },
     "metadata": {},
     "output_type": "display_data"
    },
    {
     "name": "stderr",
     "output_type": "stream",
     "text": [
      "pandas.Int64Index is deprecated and will be removed from pandas in a future version. Use pandas.Index with the appropriate dtype instead.\n",
      "\n",
      "A value is trying to be set on a copy of a slice from a DataFrame.\n",
      "Try using .loc[row_indexer,col_indexer] = value instead\n",
      "\n",
      "See the caveats in the documentation: https://pandas.pydata.org/pandas-docs/stable/user_guide/indexing.html#returning-a-view-versus-a-copy\n",
      "\n",
      "A value is trying to be set on a copy of a slice from a DataFrame.\n",
      "Try using .loc[row_indexer,col_indexer] = value instead\n",
      "\n",
      "See the caveats in the documentation: https://pandas.pydata.org/pandas-docs/stable/user_guide/indexing.html#returning-a-view-versus-a-copy\n"
     ]
    },
    {
     "name": "stdout",
     "output_type": "stream",
     "text": [
      "[12:46:38] WARNING: /Users/runner/miniforge3/conda-bld/xgboost-split_1637426408905/work/src/learner.cc:576: \n",
      "Parameters: { \"early_stopping_rounds\" } might not be used.\n",
      "\n",
      "  This could be a false alarm, with some parameters getting used by language bindings but\n",
      "  then being mistakenly passed down to XGBoost core, or some parameter actually being used\n",
      "  but getting flagged wrongly here. Please open an issue if you find any such cases.\n",
      "\n",
      "\n",
      "[3.3039230185175996, 3.2251776693928584, 3.2664871102805275, 3.501705402397512, 3.305824252791194, 3.296356918791896, 3.3195800838714224, 3.0013254829172755, 3.390415771118743, 3.397420122675211, 3.1853493658818817, 3.280638126314829, 3.177206168687014, 3.2124364260001848, 3.5248639642950534, 3.077818662641583, 3.2854527233305975, 3.411733347618065, 3.174174390975052, 2.974043700209311, 3.4897638171784475, 3.5492651762098353, 3.34944955399755, 3.4282416663501576, 3.2426885980926214, 3.4395992206393875, 3.371993253233383, 3.2604809673680433, 3.0973052984821194, 3.231039434930128, 3.468242398641255, 3.41091552300152, 3.373100375399568, 3.264861382652408, 3.291763127958453, 3.63062502761599, 3.3486020215435905, 3.332284987588538, 3.6156101314197118, 3.350072976478329, 3.1555112074645724, 3.3029712752061693, 3.2173861242539132, 3.281895934555158, 3.063005708081935, 3.617982256950439, 3.172032396690705, 3.106838301567577, 3.295411254079132, 3.155531981176172, 3.2369918840214096, 3.2019974475449757, 3.1693816105779606, 3.5486421488000808, 3.2667303437252593, 3.3362180711542186, 3.280610379321557, 3.1829717001082467, 3.4826578071966883, 3.3233900573500517, 3.0030990743826407, 3.3106993469834367, 3.343007384342664, 3.0429926601119037, 3.480047741875997, 3.213724536929093, 3.2371056141975902, 3.3637131652502674, 3.1892671401069057, 3.154030707340298, 3.558714948012274, 3.1939848026690303, 3.2856631353966135, 3.300212114156421]\n"
     ]
    },
    {
     "data": {
      "text/plain": [
       "Index(['wind_speed', 'track_distance', 'total_houses', 'rainfall_max_6h',\n",
       "       'rainfall_max_24h', 'rwi', 'mean_slope', 'std_slope', 'mean_tri',\n",
       "       'std_tri', 'mean_elev', 'coast_length', 'with_coast', 'urban', 'rural',\n",
       "       'water', 'total_pop', 'percent_houses_damaged_5years'],\n",
       "      dtype='object')"
      ]
     },
     "metadata": {},
     "output_type": "display_data"
    },
    {
     "name": "stderr",
     "output_type": "stream",
     "text": [
      "pandas.Int64Index is deprecated and will be removed from pandas in a future version. Use pandas.Index with the appropriate dtype instead.\n"
     ]
    },
    {
     "name": "stdout",
     "output_type": "stream",
     "text": [
      "[12:46:40] WARNING: /Users/runner/miniforge3/conda-bld/xgboost-split_1637426408905/work/src/learner.cc:576: \n",
      "Parameters: { \"early_stopping_rounds\" } might not be used.\n",
      "\n",
      "  This could be a false alarm, with some parameters getting used by language bindings but\n",
      "  then being mistakenly passed down to XGBoost core, or some parameter actually being used\n",
      "  but getting flagged wrongly here. Please open an issue if you find any such cases.\n",
      "\n",
      "\n",
      "Counter({0: 38948, 1: 855})\n",
      "Counter({0: 8550, 1: 855})\n"
     ]
    },
    {
     "name": "stderr",
     "output_type": "stream",
     "text": [
      "The use of label encoder in XGBClassifier is deprecated and will be removed in a future release. To remove this warning, do the following: 1) Pass option use_label_encoder=False when constructing XGBClassifier object; and 2) Encode your labels (y) as integers starting with 0, i.e. 0, 1, 2, ..., [num_class - 1].\n",
      "pandas.Int64Index is deprecated and will be removed from pandas in a future version. Use pandas.Index with the appropriate dtype instead.\n"
     ]
    },
    {
     "data": {
      "text/plain": [
       "Index(['wind_speed', 'track_distance', 'total_houses', 'rainfall_max_6h',\n",
       "       'rainfall_max_24h', 'rwi', 'mean_slope', 'std_slope', 'mean_tri',\n",
       "       'std_tri', 'mean_elev', 'coast_length', 'with_coast', 'urban', 'rural',\n",
       "       'water', 'total_pop', 'percent_houses_damaged_5years'],\n",
       "      dtype='object')"
      ]
     },
     "metadata": {},
     "output_type": "display_data"
    },
    {
     "name": "stderr",
     "output_type": "stream",
     "text": [
      "pandas.Int64Index is deprecated and will be removed from pandas in a future version. Use pandas.Index with the appropriate dtype instead.\n",
      "\n",
      "A value is trying to be set on a copy of a slice from a DataFrame.\n",
      "Try using .loc[row_indexer,col_indexer] = value instead\n",
      "\n",
      "See the caveats in the documentation: https://pandas.pydata.org/pandas-docs/stable/user_guide/indexing.html#returning-a-view-versus-a-copy\n",
      "\n",
      "A value is trying to be set on a copy of a slice from a DataFrame.\n",
      "Try using .loc[row_indexer,col_indexer] = value instead\n",
      "\n",
      "See the caveats in the documentation: https://pandas.pydata.org/pandas-docs/stable/user_guide/indexing.html#returning-a-view-versus-a-copy\n"
     ]
    },
    {
     "name": "stdout",
     "output_type": "stream",
     "text": [
      "[12:46:43] WARNING: /Users/runner/miniforge3/conda-bld/xgboost-split_1637426408905/work/src/learner.cc:576: \n",
      "Parameters: { \"early_stopping_rounds\" } might not be used.\n",
      "\n",
      "  This could be a false alarm, with some parameters getting used by language bindings but\n",
      "  then being mistakenly passed down to XGBoost core, or some parameter actually being used\n",
      "  but getting flagged wrongly here. Please open an issue if you find any such cases.\n",
      "\n",
      "\n",
      "[3.3039230185175996, 3.2251776693928584, 3.2664871102805275, 3.501705402397512, 3.305824252791194, 3.296356918791896, 3.3195800838714224, 3.0013254829172755, 3.390415771118743, 3.397420122675211, 3.1853493658818817, 3.280638126314829, 3.177206168687014, 3.2124364260001848, 3.5248639642950534, 3.077818662641583, 3.2854527233305975, 3.411733347618065, 3.174174390975052, 2.974043700209311, 3.4897638171784475, 3.5492651762098353, 3.34944955399755, 3.4282416663501576, 3.2426885980926214, 3.4395992206393875, 3.371993253233383, 3.2604809673680433, 3.0973052984821194, 3.231039434930128, 3.468242398641255, 3.41091552300152, 3.373100375399568, 3.264861382652408, 3.291763127958453, 3.63062502761599, 3.3486020215435905, 3.332284987588538, 3.6156101314197118, 3.350072976478329, 3.1555112074645724, 3.3029712752061693, 3.2173861242539132, 3.281895934555158, 3.063005708081935, 3.617982256950439, 3.172032396690705, 3.106838301567577, 3.295411254079132, 3.155531981176172, 3.2369918840214096, 3.2019974475449757, 3.1693816105779606, 3.5486421488000808, 3.2667303437252593, 3.3362180711542186, 3.280610379321557, 3.1829717001082467, 3.4826578071966883, 3.3233900573500517, 3.0030990743826407, 3.3106993469834367, 3.343007384342664, 3.0429926601119037, 3.480047741875997, 3.213724536929093, 3.2371056141975902, 3.3637131652502674, 3.1892671401069057, 3.154030707340298, 3.558714948012274, 3.1939848026690303, 3.2856631353966135, 3.300212114156421, 3.2544619562581927]\n"
     ]
    },
    {
     "data": {
      "text/plain": [
       "Index(['wind_speed', 'track_distance', 'total_houses', 'rainfall_max_6h',\n",
       "       'rainfall_max_24h', 'rwi', 'mean_slope', 'std_slope', 'mean_tri',\n",
       "       'std_tri', 'mean_elev', 'coast_length', 'with_coast', 'urban', 'rural',\n",
       "       'water', 'total_pop', 'percent_houses_damaged_5years'],\n",
       "      dtype='object')"
      ]
     },
     "metadata": {},
     "output_type": "display_data"
    },
    {
     "name": "stderr",
     "output_type": "stream",
     "text": [
      "pandas.Int64Index is deprecated and will be removed from pandas in a future version. Use pandas.Index with the appropriate dtype instead.\n"
     ]
    },
    {
     "name": "stdout",
     "output_type": "stream",
     "text": [
      "[12:46:44] WARNING: /Users/runner/miniforge3/conda-bld/xgboost-split_1637426408905/work/src/learner.cc:576: \n",
      "Parameters: { \"early_stopping_rounds\" } might not be used.\n",
      "\n",
      "  This could be a false alarm, with some parameters getting used by language bindings but\n",
      "  then being mistakenly passed down to XGBoost core, or some parameter actually being used\n",
      "  but getting flagged wrongly here. Please open an issue if you find any such cases.\n",
      "\n",
      "\n",
      "Counter({0: 38948, 1: 855})\n",
      "Counter({0: 8550, 1: 855})\n"
     ]
    },
    {
     "name": "stderr",
     "output_type": "stream",
     "text": [
      "The use of label encoder in XGBClassifier is deprecated and will be removed in a future release. To remove this warning, do the following: 1) Pass option use_label_encoder=False when constructing XGBClassifier object; and 2) Encode your labels (y) as integers starting with 0, i.e. 0, 1, 2, ..., [num_class - 1].\n",
      "pandas.Int64Index is deprecated and will be removed from pandas in a future version. Use pandas.Index with the appropriate dtype instead.\n"
     ]
    },
    {
     "data": {
      "text/plain": [
       "Index(['wind_speed', 'track_distance', 'total_houses', 'rainfall_max_6h',\n",
       "       'rainfall_max_24h', 'rwi', 'mean_slope', 'std_slope', 'mean_tri',\n",
       "       'std_tri', 'mean_elev', 'coast_length', 'with_coast', 'urban', 'rural',\n",
       "       'water', 'total_pop', 'percent_houses_damaged_5years'],\n",
       "      dtype='object')"
      ]
     },
     "metadata": {},
     "output_type": "display_data"
    },
    {
     "name": "stderr",
     "output_type": "stream",
     "text": [
      "pandas.Int64Index is deprecated and will be removed from pandas in a future version. Use pandas.Index with the appropriate dtype instead.\n",
      "\n",
      "A value is trying to be set on a copy of a slice from a DataFrame.\n",
      "Try using .loc[row_indexer,col_indexer] = value instead\n",
      "\n",
      "See the caveats in the documentation: https://pandas.pydata.org/pandas-docs/stable/user_guide/indexing.html#returning-a-view-versus-a-copy\n",
      "\n",
      "A value is trying to be set on a copy of a slice from a DataFrame.\n",
      "Try using .loc[row_indexer,col_indexer] = value instead\n",
      "\n",
      "See the caveats in the documentation: https://pandas.pydata.org/pandas-docs/stable/user_guide/indexing.html#returning-a-view-versus-a-copy\n"
     ]
    },
    {
     "name": "stdout",
     "output_type": "stream",
     "text": [
      "[12:46:47] WARNING: /Users/runner/miniforge3/conda-bld/xgboost-split_1637426408905/work/src/learner.cc:576: \n",
      "Parameters: { \"early_stopping_rounds\" } might not be used.\n",
      "\n",
      "  This could be a false alarm, with some parameters getting used by language bindings but\n",
      "  then being mistakenly passed down to XGBoost core, or some parameter actually being used\n",
      "  but getting flagged wrongly here. Please open an issue if you find any such cases.\n",
      "\n",
      "\n",
      "[3.3039230185175996, 3.2251776693928584, 3.2664871102805275, 3.501705402397512, 3.305824252791194, 3.296356918791896, 3.3195800838714224, 3.0013254829172755, 3.390415771118743, 3.397420122675211, 3.1853493658818817, 3.280638126314829, 3.177206168687014, 3.2124364260001848, 3.5248639642950534, 3.077818662641583, 3.2854527233305975, 3.411733347618065, 3.174174390975052, 2.974043700209311, 3.4897638171784475, 3.5492651762098353, 3.34944955399755, 3.4282416663501576, 3.2426885980926214, 3.4395992206393875, 3.371993253233383, 3.2604809673680433, 3.0973052984821194, 3.231039434930128, 3.468242398641255, 3.41091552300152, 3.373100375399568, 3.264861382652408, 3.291763127958453, 3.63062502761599, 3.3486020215435905, 3.332284987588538, 3.6156101314197118, 3.350072976478329, 3.1555112074645724, 3.3029712752061693, 3.2173861242539132, 3.281895934555158, 3.063005708081935, 3.617982256950439, 3.172032396690705, 3.106838301567577, 3.295411254079132, 3.155531981176172, 3.2369918840214096, 3.2019974475449757, 3.1693816105779606, 3.5486421488000808, 3.2667303437252593, 3.3362180711542186, 3.280610379321557, 3.1829717001082467, 3.4826578071966883, 3.3233900573500517, 3.0030990743826407, 3.3106993469834367, 3.343007384342664, 3.0429926601119037, 3.480047741875997, 3.213724536929093, 3.2371056141975902, 3.3637131652502674, 3.1892671401069057, 3.154030707340298, 3.558714948012274, 3.1939848026690303, 3.2856631353966135, 3.300212114156421, 3.2544619562581927, 3.212305041987889]\n"
     ]
    },
    {
     "data": {
      "text/plain": [
       "Index(['wind_speed', 'track_distance', 'total_houses', 'rainfall_max_6h',\n",
       "       'rainfall_max_24h', 'rwi', 'mean_slope', 'std_slope', 'mean_tri',\n",
       "       'std_tri', 'mean_elev', 'coast_length', 'with_coast', 'urban', 'rural',\n",
       "       'water', 'total_pop', 'percent_houses_damaged_5years'],\n",
       "      dtype='object')"
      ]
     },
     "metadata": {},
     "output_type": "display_data"
    },
    {
     "name": "stderr",
     "output_type": "stream",
     "text": [
      "pandas.Int64Index is deprecated and will be removed from pandas in a future version. Use pandas.Index with the appropriate dtype instead.\n"
     ]
    },
    {
     "name": "stdout",
     "output_type": "stream",
     "text": [
      "[12:46:48] WARNING: /Users/runner/miniforge3/conda-bld/xgboost-split_1637426408905/work/src/learner.cc:576: \n",
      "Parameters: { \"early_stopping_rounds\" } might not be used.\n",
      "\n",
      "  This could be a false alarm, with some parameters getting used by language bindings but\n",
      "  then being mistakenly passed down to XGBoost core, or some parameter actually being used\n",
      "  but getting flagged wrongly here. Please open an issue if you find any such cases.\n",
      "\n",
      "\n",
      "Counter({0: 38948, 1: 855})\n",
      "Counter({0: 8550, 1: 855})\n"
     ]
    },
    {
     "name": "stderr",
     "output_type": "stream",
     "text": [
      "The use of label encoder in XGBClassifier is deprecated and will be removed in a future release. To remove this warning, do the following: 1) Pass option use_label_encoder=False when constructing XGBClassifier object; and 2) Encode your labels (y) as integers starting with 0, i.e. 0, 1, 2, ..., [num_class - 1].\n",
      "pandas.Int64Index is deprecated and will be removed from pandas in a future version. Use pandas.Index with the appropriate dtype instead.\n"
     ]
    },
    {
     "data": {
      "text/plain": [
       "Index(['wind_speed', 'track_distance', 'total_houses', 'rainfall_max_6h',\n",
       "       'rainfall_max_24h', 'rwi', 'mean_slope', 'std_slope', 'mean_tri',\n",
       "       'std_tri', 'mean_elev', 'coast_length', 'with_coast', 'urban', 'rural',\n",
       "       'water', 'total_pop', 'percent_houses_damaged_5years'],\n",
       "      dtype='object')"
      ]
     },
     "metadata": {},
     "output_type": "display_data"
    },
    {
     "name": "stderr",
     "output_type": "stream",
     "text": [
      "pandas.Int64Index is deprecated and will be removed from pandas in a future version. Use pandas.Index with the appropriate dtype instead.\n",
      "\n",
      "A value is trying to be set on a copy of a slice from a DataFrame.\n",
      "Try using .loc[row_indexer,col_indexer] = value instead\n",
      "\n",
      "See the caveats in the documentation: https://pandas.pydata.org/pandas-docs/stable/user_guide/indexing.html#returning-a-view-versus-a-copy\n",
      "\n",
      "A value is trying to be set on a copy of a slice from a DataFrame.\n",
      "Try using .loc[row_indexer,col_indexer] = value instead\n",
      "\n",
      "See the caveats in the documentation: https://pandas.pydata.org/pandas-docs/stable/user_guide/indexing.html#returning-a-view-versus-a-copy\n"
     ]
    },
    {
     "name": "stdout",
     "output_type": "stream",
     "text": [
      "[12:46:52] WARNING: /Users/runner/miniforge3/conda-bld/xgboost-split_1637426408905/work/src/learner.cc:576: \n",
      "Parameters: { \"early_stopping_rounds\" } might not be used.\n",
      "\n",
      "  This could be a false alarm, with some parameters getting used by language bindings but\n",
      "  then being mistakenly passed down to XGBoost core, or some parameter actually being used\n",
      "  but getting flagged wrongly here. Please open an issue if you find any such cases.\n",
      "\n",
      "\n",
      "[3.3039230185175996, 3.2251776693928584, 3.2664871102805275, 3.501705402397512, 3.305824252791194, 3.296356918791896, 3.3195800838714224, 3.0013254829172755, 3.390415771118743, 3.397420122675211, 3.1853493658818817, 3.280638126314829, 3.177206168687014, 3.2124364260001848, 3.5248639642950534, 3.077818662641583, 3.2854527233305975, 3.411733347618065, 3.174174390975052, 2.974043700209311, 3.4897638171784475, 3.5492651762098353, 3.34944955399755, 3.4282416663501576, 3.2426885980926214, 3.4395992206393875, 3.371993253233383, 3.2604809673680433, 3.0973052984821194, 3.231039434930128, 3.468242398641255, 3.41091552300152, 3.373100375399568, 3.264861382652408, 3.291763127958453, 3.63062502761599, 3.3486020215435905, 3.332284987588538, 3.6156101314197118, 3.350072976478329, 3.1555112074645724, 3.3029712752061693, 3.2173861242539132, 3.281895934555158, 3.063005708081935, 3.617982256950439, 3.172032396690705, 3.106838301567577, 3.295411254079132, 3.155531981176172, 3.2369918840214096, 3.2019974475449757, 3.1693816105779606, 3.5486421488000808, 3.2667303437252593, 3.3362180711542186, 3.280610379321557, 3.1829717001082467, 3.4826578071966883, 3.3233900573500517, 3.0030990743826407, 3.3106993469834367, 3.343007384342664, 3.0429926601119037, 3.480047741875997, 3.213724536929093, 3.2371056141975902, 3.3637131652502674, 3.1892671401069057, 3.154030707340298, 3.558714948012274, 3.1939848026690303, 3.2856631353966135, 3.300212114156421, 3.2544619562581927, 3.212305041987889, 3.212248404175258]\n"
     ]
    },
    {
     "data": {
      "text/plain": [
       "Index(['wind_speed', 'track_distance', 'total_houses', 'rainfall_max_6h',\n",
       "       'rainfall_max_24h', 'rwi', 'mean_slope', 'std_slope', 'mean_tri',\n",
       "       'std_tri', 'mean_elev', 'coast_length', 'with_coast', 'urban', 'rural',\n",
       "       'water', 'total_pop', 'percent_houses_damaged_5years'],\n",
       "      dtype='object')"
      ]
     },
     "metadata": {},
     "output_type": "display_data"
    },
    {
     "name": "stderr",
     "output_type": "stream",
     "text": [
      "pandas.Int64Index is deprecated and will be removed from pandas in a future version. Use pandas.Index with the appropriate dtype instead.\n"
     ]
    },
    {
     "name": "stdout",
     "output_type": "stream",
     "text": [
      "[12:46:53] WARNING: /Users/runner/miniforge3/conda-bld/xgboost-split_1637426408905/work/src/learner.cc:576: \n",
      "Parameters: { \"early_stopping_rounds\" } might not be used.\n",
      "\n",
      "  This could be a false alarm, with some parameters getting used by language bindings but\n",
      "  then being mistakenly passed down to XGBoost core, or some parameter actually being used\n",
      "  but getting flagged wrongly here. Please open an issue if you find any such cases.\n",
      "\n",
      "\n",
      "Counter({0: 38948, 1: 855})\n",
      "Counter({0: 8550, 1: 855})\n"
     ]
    },
    {
     "name": "stderr",
     "output_type": "stream",
     "text": [
      "The use of label encoder in XGBClassifier is deprecated and will be removed in a future release. To remove this warning, do the following: 1) Pass option use_label_encoder=False when constructing XGBClassifier object; and 2) Encode your labels (y) as integers starting with 0, i.e. 0, 1, 2, ..., [num_class - 1].\n",
      "pandas.Int64Index is deprecated and will be removed from pandas in a future version. Use pandas.Index with the appropriate dtype instead.\n"
     ]
    },
    {
     "data": {
      "text/plain": [
       "Index(['wind_speed', 'track_distance', 'total_houses', 'rainfall_max_6h',\n",
       "       'rainfall_max_24h', 'rwi', 'mean_slope', 'std_slope', 'mean_tri',\n",
       "       'std_tri', 'mean_elev', 'coast_length', 'with_coast', 'urban', 'rural',\n",
       "       'water', 'total_pop', 'percent_houses_damaged_5years'],\n",
       "      dtype='object')"
      ]
     },
     "metadata": {},
     "output_type": "display_data"
    },
    {
     "name": "stderr",
     "output_type": "stream",
     "text": [
      "pandas.Int64Index is deprecated and will be removed from pandas in a future version. Use pandas.Index with the appropriate dtype instead.\n",
      "\n",
      "A value is trying to be set on a copy of a slice from a DataFrame.\n",
      "Try using .loc[row_indexer,col_indexer] = value instead\n",
      "\n",
      "See the caveats in the documentation: https://pandas.pydata.org/pandas-docs/stable/user_guide/indexing.html#returning-a-view-versus-a-copy\n",
      "\n",
      "A value is trying to be set on a copy of a slice from a DataFrame.\n",
      "Try using .loc[row_indexer,col_indexer] = value instead\n",
      "\n",
      "See the caveats in the documentation: https://pandas.pydata.org/pandas-docs/stable/user_guide/indexing.html#returning-a-view-versus-a-copy\n"
     ]
    },
    {
     "name": "stdout",
     "output_type": "stream",
     "text": [
      "[12:46:56] WARNING: /Users/runner/miniforge3/conda-bld/xgboost-split_1637426408905/work/src/learner.cc:576: \n",
      "Parameters: { \"early_stopping_rounds\" } might not be used.\n",
      "\n",
      "  This could be a false alarm, with some parameters getting used by language bindings but\n",
      "  then being mistakenly passed down to XGBoost core, or some parameter actually being used\n",
      "  but getting flagged wrongly here. Please open an issue if you find any such cases.\n",
      "\n",
      "\n",
      "[3.3039230185175996, 3.2251776693928584, 3.2664871102805275, 3.501705402397512, 3.305824252791194, 3.296356918791896, 3.3195800838714224, 3.0013254829172755, 3.390415771118743, 3.397420122675211, 3.1853493658818817, 3.280638126314829, 3.177206168687014, 3.2124364260001848, 3.5248639642950534, 3.077818662641583, 3.2854527233305975, 3.411733347618065, 3.174174390975052, 2.974043700209311, 3.4897638171784475, 3.5492651762098353, 3.34944955399755, 3.4282416663501576, 3.2426885980926214, 3.4395992206393875, 3.371993253233383, 3.2604809673680433, 3.0973052984821194, 3.231039434930128, 3.468242398641255, 3.41091552300152, 3.373100375399568, 3.264861382652408, 3.291763127958453, 3.63062502761599, 3.3486020215435905, 3.332284987588538, 3.6156101314197118, 3.350072976478329, 3.1555112074645724, 3.3029712752061693, 3.2173861242539132, 3.281895934555158, 3.063005708081935, 3.617982256950439, 3.172032396690705, 3.106838301567577, 3.295411254079132, 3.155531981176172, 3.2369918840214096, 3.2019974475449757, 3.1693816105779606, 3.5486421488000808, 3.2667303437252593, 3.3362180711542186, 3.280610379321557, 3.1829717001082467, 3.4826578071966883, 3.3233900573500517, 3.0030990743826407, 3.3106993469834367, 3.343007384342664, 3.0429926601119037, 3.480047741875997, 3.213724536929093, 3.2371056141975902, 3.3637131652502674, 3.1892671401069057, 3.154030707340298, 3.558714948012274, 3.1939848026690303, 3.2856631353966135, 3.300212114156421, 3.2544619562581927, 3.212305041987889, 3.212248404175258, 3.334099971621572]\n"
     ]
    },
    {
     "data": {
      "text/plain": [
       "Index(['wind_speed', 'track_distance', 'total_houses', 'rainfall_max_6h',\n",
       "       'rainfall_max_24h', 'rwi', 'mean_slope', 'std_slope', 'mean_tri',\n",
       "       'std_tri', 'mean_elev', 'coast_length', 'with_coast', 'urban', 'rural',\n",
       "       'water', 'total_pop', 'percent_houses_damaged_5years'],\n",
       "      dtype='object')"
      ]
     },
     "metadata": {},
     "output_type": "display_data"
    },
    {
     "name": "stderr",
     "output_type": "stream",
     "text": [
      "pandas.Int64Index is deprecated and will be removed from pandas in a future version. Use pandas.Index with the appropriate dtype instead.\n"
     ]
    },
    {
     "name": "stdout",
     "output_type": "stream",
     "text": [
      "[12:46:57] WARNING: /Users/runner/miniforge3/conda-bld/xgboost-split_1637426408905/work/src/learner.cc:576: \n",
      "Parameters: { \"early_stopping_rounds\" } might not be used.\n",
      "\n",
      "  This could be a false alarm, with some parameters getting used by language bindings but\n",
      "  then being mistakenly passed down to XGBoost core, or some parameter actually being used\n",
      "  but getting flagged wrongly here. Please open an issue if you find any such cases.\n",
      "\n",
      "\n",
      "Counter({0: 38948, 1: 855})\n",
      "Counter({0: 8550, 1: 855})\n"
     ]
    },
    {
     "name": "stderr",
     "output_type": "stream",
     "text": [
      "The use of label encoder in XGBClassifier is deprecated and will be removed in a future release. To remove this warning, do the following: 1) Pass option use_label_encoder=False when constructing XGBClassifier object; and 2) Encode your labels (y) as integers starting with 0, i.e. 0, 1, 2, ..., [num_class - 1].\n",
      "pandas.Int64Index is deprecated and will be removed from pandas in a future version. Use pandas.Index with the appropriate dtype instead.\n"
     ]
    },
    {
     "data": {
      "text/plain": [
       "Index(['wind_speed', 'track_distance', 'total_houses', 'rainfall_max_6h',\n",
       "       'rainfall_max_24h', 'rwi', 'mean_slope', 'std_slope', 'mean_tri',\n",
       "       'std_tri', 'mean_elev', 'coast_length', 'with_coast', 'urban', 'rural',\n",
       "       'water', 'total_pop', 'percent_houses_damaged_5years'],\n",
       "      dtype='object')"
      ]
     },
     "metadata": {},
     "output_type": "display_data"
    },
    {
     "name": "stderr",
     "output_type": "stream",
     "text": [
      "pandas.Int64Index is deprecated and will be removed from pandas in a future version. Use pandas.Index with the appropriate dtype instead.\n",
      "\n",
      "A value is trying to be set on a copy of a slice from a DataFrame.\n",
      "Try using .loc[row_indexer,col_indexer] = value instead\n",
      "\n",
      "See the caveats in the documentation: https://pandas.pydata.org/pandas-docs/stable/user_guide/indexing.html#returning-a-view-versus-a-copy\n",
      "\n",
      "A value is trying to be set on a copy of a slice from a DataFrame.\n",
      "Try using .loc[row_indexer,col_indexer] = value instead\n",
      "\n",
      "See the caveats in the documentation: https://pandas.pydata.org/pandas-docs/stable/user_guide/indexing.html#returning-a-view-versus-a-copy\n"
     ]
    },
    {
     "name": "stdout",
     "output_type": "stream",
     "text": [
      "[12:47:00] WARNING: /Users/runner/miniforge3/conda-bld/xgboost-split_1637426408905/work/src/learner.cc:576: \n",
      "Parameters: { \"early_stopping_rounds\" } might not be used.\n",
      "\n",
      "  This could be a false alarm, with some parameters getting used by language bindings but\n",
      "  then being mistakenly passed down to XGBoost core, or some parameter actually being used\n",
      "  but getting flagged wrongly here. Please open an issue if you find any such cases.\n",
      "\n",
      "\n",
      "[3.3039230185175996, 3.2251776693928584, 3.2664871102805275, 3.501705402397512, 3.305824252791194, 3.296356918791896, 3.3195800838714224, 3.0013254829172755, 3.390415771118743, 3.397420122675211, 3.1853493658818817, 3.280638126314829, 3.177206168687014, 3.2124364260001848, 3.5248639642950534, 3.077818662641583, 3.2854527233305975, 3.411733347618065, 3.174174390975052, 2.974043700209311, 3.4897638171784475, 3.5492651762098353, 3.34944955399755, 3.4282416663501576, 3.2426885980926214, 3.4395992206393875, 3.371993253233383, 3.2604809673680433, 3.0973052984821194, 3.231039434930128, 3.468242398641255, 3.41091552300152, 3.373100375399568, 3.264861382652408, 3.291763127958453, 3.63062502761599, 3.3486020215435905, 3.332284987588538, 3.6156101314197118, 3.350072976478329, 3.1555112074645724, 3.3029712752061693, 3.2173861242539132, 3.281895934555158, 3.063005708081935, 3.617982256950439, 3.172032396690705, 3.106838301567577, 3.295411254079132, 3.155531981176172, 3.2369918840214096, 3.2019974475449757, 3.1693816105779606, 3.5486421488000808, 3.2667303437252593, 3.3362180711542186, 3.280610379321557, 3.1829717001082467, 3.4826578071966883, 3.3233900573500517, 3.0030990743826407, 3.3106993469834367, 3.343007384342664, 3.0429926601119037, 3.480047741875997, 3.213724536929093, 3.2371056141975902, 3.3637131652502674, 3.1892671401069057, 3.154030707340298, 3.558714948012274, 3.1939848026690303, 3.2856631353966135, 3.300212114156421, 3.2544619562581927, 3.212305041987889, 3.212248404175258, 3.334099971621572, 3.460742919089393]\n"
     ]
    },
    {
     "data": {
      "text/plain": [
       "Index(['wind_speed', 'track_distance', 'total_houses', 'rainfall_max_6h',\n",
       "       'rainfall_max_24h', 'rwi', 'mean_slope', 'std_slope', 'mean_tri',\n",
       "       'std_tri', 'mean_elev', 'coast_length', 'with_coast', 'urban', 'rural',\n",
       "       'water', 'total_pop', 'percent_houses_damaged_5years'],\n",
       "      dtype='object')"
      ]
     },
     "metadata": {},
     "output_type": "display_data"
    },
    {
     "name": "stderr",
     "output_type": "stream",
     "text": [
      "pandas.Int64Index is deprecated and will be removed from pandas in a future version. Use pandas.Index with the appropriate dtype instead.\n"
     ]
    },
    {
     "name": "stdout",
     "output_type": "stream",
     "text": [
      "[12:47:02] WARNING: /Users/runner/miniforge3/conda-bld/xgboost-split_1637426408905/work/src/learner.cc:576: \n",
      "Parameters: { \"early_stopping_rounds\" } might not be used.\n",
      "\n",
      "  This could be a false alarm, with some parameters getting used by language bindings but\n",
      "  then being mistakenly passed down to XGBoost core, or some parameter actually being used\n",
      "  but getting flagged wrongly here. Please open an issue if you find any such cases.\n",
      "\n",
      "\n",
      "Counter({0: 38948, 1: 855})\n",
      "Counter({0: 8550, 1: 855})\n"
     ]
    },
    {
     "name": "stderr",
     "output_type": "stream",
     "text": [
      "The use of label encoder in XGBClassifier is deprecated and will be removed in a future release. To remove this warning, do the following: 1) Pass option use_label_encoder=False when constructing XGBClassifier object; and 2) Encode your labels (y) as integers starting with 0, i.e. 0, 1, 2, ..., [num_class - 1].\n",
      "pandas.Int64Index is deprecated and will be removed from pandas in a future version. Use pandas.Index with the appropriate dtype instead.\n"
     ]
    },
    {
     "data": {
      "text/plain": [
       "Index(['wind_speed', 'track_distance', 'total_houses', 'rainfall_max_6h',\n",
       "       'rainfall_max_24h', 'rwi', 'mean_slope', 'std_slope', 'mean_tri',\n",
       "       'std_tri', 'mean_elev', 'coast_length', 'with_coast', 'urban', 'rural',\n",
       "       'water', 'total_pop', 'percent_houses_damaged_5years'],\n",
       "      dtype='object')"
      ]
     },
     "metadata": {},
     "output_type": "display_data"
    },
    {
     "name": "stderr",
     "output_type": "stream",
     "text": [
      "pandas.Int64Index is deprecated and will be removed from pandas in a future version. Use pandas.Index with the appropriate dtype instead.\n",
      "\n",
      "A value is trying to be set on a copy of a slice from a DataFrame.\n",
      "Try using .loc[row_indexer,col_indexer] = value instead\n",
      "\n",
      "See the caveats in the documentation: https://pandas.pydata.org/pandas-docs/stable/user_guide/indexing.html#returning-a-view-versus-a-copy\n",
      "\n",
      "A value is trying to be set on a copy of a slice from a DataFrame.\n",
      "Try using .loc[row_indexer,col_indexer] = value instead\n",
      "\n",
      "See the caveats in the documentation: https://pandas.pydata.org/pandas-docs/stable/user_guide/indexing.html#returning-a-view-versus-a-copy\n"
     ]
    },
    {
     "name": "stdout",
     "output_type": "stream",
     "text": [
      "[12:47:05] WARNING: /Users/runner/miniforge3/conda-bld/xgboost-split_1637426408905/work/src/learner.cc:576: \n",
      "Parameters: { \"early_stopping_rounds\" } might not be used.\n",
      "\n",
      "  This could be a false alarm, with some parameters getting used by language bindings but\n",
      "  then being mistakenly passed down to XGBoost core, or some parameter actually being used\n",
      "  but getting flagged wrongly here. Please open an issue if you find any such cases.\n",
      "\n",
      "\n",
      "[3.3039230185175996, 3.2251776693928584, 3.2664871102805275, 3.501705402397512, 3.305824252791194, 3.296356918791896, 3.3195800838714224, 3.0013254829172755, 3.390415771118743, 3.397420122675211, 3.1853493658818817, 3.280638126314829, 3.177206168687014, 3.2124364260001848, 3.5248639642950534, 3.077818662641583, 3.2854527233305975, 3.411733347618065, 3.174174390975052, 2.974043700209311, 3.4897638171784475, 3.5492651762098353, 3.34944955399755, 3.4282416663501576, 3.2426885980926214, 3.4395992206393875, 3.371993253233383, 3.2604809673680433, 3.0973052984821194, 3.231039434930128, 3.468242398641255, 3.41091552300152, 3.373100375399568, 3.264861382652408, 3.291763127958453, 3.63062502761599, 3.3486020215435905, 3.332284987588538, 3.6156101314197118, 3.350072976478329, 3.1555112074645724, 3.3029712752061693, 3.2173861242539132, 3.281895934555158, 3.063005708081935, 3.617982256950439, 3.172032396690705, 3.106838301567577, 3.295411254079132, 3.155531981176172, 3.2369918840214096, 3.2019974475449757, 3.1693816105779606, 3.5486421488000808, 3.2667303437252593, 3.3362180711542186, 3.280610379321557, 3.1829717001082467, 3.4826578071966883, 3.3233900573500517, 3.0030990743826407, 3.3106993469834367, 3.343007384342664, 3.0429926601119037, 3.480047741875997, 3.213724536929093, 3.2371056141975902, 3.3637131652502674, 3.1892671401069057, 3.154030707340298, 3.558714948012274, 3.1939848026690303, 3.2856631353966135, 3.300212114156421, 3.2544619562581927, 3.212305041987889, 3.212248404175258, 3.334099971621572, 3.460742919089393, 3.1840901235525725]\n"
     ]
    },
    {
     "data": {
      "text/plain": [
       "Index(['wind_speed', 'track_distance', 'total_houses', 'rainfall_max_6h',\n",
       "       'rainfall_max_24h', 'rwi', 'mean_slope', 'std_slope', 'mean_tri',\n",
       "       'std_tri', 'mean_elev', 'coast_length', 'with_coast', 'urban', 'rural',\n",
       "       'water', 'total_pop', 'percent_houses_damaged_5years'],\n",
       "      dtype='object')"
      ]
     },
     "metadata": {},
     "output_type": "display_data"
    },
    {
     "name": "stderr",
     "output_type": "stream",
     "text": [
      "pandas.Int64Index is deprecated and will be removed from pandas in a future version. Use pandas.Index with the appropriate dtype instead.\n"
     ]
    },
    {
     "name": "stdout",
     "output_type": "stream",
     "text": [
      "[12:47:06] WARNING: /Users/runner/miniforge3/conda-bld/xgboost-split_1637426408905/work/src/learner.cc:576: \n",
      "Parameters: { \"early_stopping_rounds\" } might not be used.\n",
      "\n",
      "  This could be a false alarm, with some parameters getting used by language bindings but\n",
      "  then being mistakenly passed down to XGBoost core, or some parameter actually being used\n",
      "  but getting flagged wrongly here. Please open an issue if you find any such cases.\n",
      "\n",
      "\n",
      "Counter({0: 38948, 1: 855})\n",
      "Counter({0: 8550, 1: 855})\n"
     ]
    },
    {
     "name": "stderr",
     "output_type": "stream",
     "text": [
      "The use of label encoder in XGBClassifier is deprecated and will be removed in a future release. To remove this warning, do the following: 1) Pass option use_label_encoder=False when constructing XGBClassifier object; and 2) Encode your labels (y) as integers starting with 0, i.e. 0, 1, 2, ..., [num_class - 1].\n",
      "pandas.Int64Index is deprecated and will be removed from pandas in a future version. Use pandas.Index with the appropriate dtype instead.\n"
     ]
    },
    {
     "data": {
      "text/plain": [
       "Index(['wind_speed', 'track_distance', 'total_houses', 'rainfall_max_6h',\n",
       "       'rainfall_max_24h', 'rwi', 'mean_slope', 'std_slope', 'mean_tri',\n",
       "       'std_tri', 'mean_elev', 'coast_length', 'with_coast', 'urban', 'rural',\n",
       "       'water', 'total_pop', 'percent_houses_damaged_5years'],\n",
       "      dtype='object')"
      ]
     },
     "metadata": {},
     "output_type": "display_data"
    },
    {
     "name": "stderr",
     "output_type": "stream",
     "text": [
      "pandas.Int64Index is deprecated and will be removed from pandas in a future version. Use pandas.Index with the appropriate dtype instead.\n",
      "\n",
      "A value is trying to be set on a copy of a slice from a DataFrame.\n",
      "Try using .loc[row_indexer,col_indexer] = value instead\n",
      "\n",
      "See the caveats in the documentation: https://pandas.pydata.org/pandas-docs/stable/user_guide/indexing.html#returning-a-view-versus-a-copy\n",
      "\n",
      "A value is trying to be set on a copy of a slice from a DataFrame.\n",
      "Try using .loc[row_indexer,col_indexer] = value instead\n",
      "\n",
      "See the caveats in the documentation: https://pandas.pydata.org/pandas-docs/stable/user_guide/indexing.html#returning-a-view-versus-a-copy\n"
     ]
    },
    {
     "name": "stdout",
     "output_type": "stream",
     "text": [
      "[12:47:09] WARNING: /Users/runner/miniforge3/conda-bld/xgboost-split_1637426408905/work/src/learner.cc:576: \n",
      "Parameters: { \"early_stopping_rounds\" } might not be used.\n",
      "\n",
      "  This could be a false alarm, with some parameters getting used by language bindings but\n",
      "  then being mistakenly passed down to XGBoost core, or some parameter actually being used\n",
      "  but getting flagged wrongly here. Please open an issue if you find any such cases.\n",
      "\n",
      "\n",
      "[3.3039230185175996, 3.2251776693928584, 3.2664871102805275, 3.501705402397512, 3.305824252791194, 3.296356918791896, 3.3195800838714224, 3.0013254829172755, 3.390415771118743, 3.397420122675211, 3.1853493658818817, 3.280638126314829, 3.177206168687014, 3.2124364260001848, 3.5248639642950534, 3.077818662641583, 3.2854527233305975, 3.411733347618065, 3.174174390975052, 2.974043700209311, 3.4897638171784475, 3.5492651762098353, 3.34944955399755, 3.4282416663501576, 3.2426885980926214, 3.4395992206393875, 3.371993253233383, 3.2604809673680433, 3.0973052984821194, 3.231039434930128, 3.468242398641255, 3.41091552300152, 3.373100375399568, 3.264861382652408, 3.291763127958453, 3.63062502761599, 3.3486020215435905, 3.332284987588538, 3.6156101314197118, 3.350072976478329, 3.1555112074645724, 3.3029712752061693, 3.2173861242539132, 3.281895934555158, 3.063005708081935, 3.617982256950439, 3.172032396690705, 3.106838301567577, 3.295411254079132, 3.155531981176172, 3.2369918840214096, 3.2019974475449757, 3.1693816105779606, 3.5486421488000808, 3.2667303437252593, 3.3362180711542186, 3.280610379321557, 3.1829717001082467, 3.4826578071966883, 3.3233900573500517, 3.0030990743826407, 3.3106993469834367, 3.343007384342664, 3.0429926601119037, 3.480047741875997, 3.213724536929093, 3.2371056141975902, 3.3637131652502674, 3.1892671401069057, 3.154030707340298, 3.558714948012274, 3.1939848026690303, 3.2856631353966135, 3.300212114156421, 3.2544619562581927, 3.212305041987889, 3.212248404175258, 3.334099971621572, 3.460742919089393, 3.1840901235525725, 3.3145013961711496]\n"
     ]
    },
    {
     "data": {
      "text/plain": [
       "Index(['wind_speed', 'track_distance', 'total_houses', 'rainfall_max_6h',\n",
       "       'rainfall_max_24h', 'rwi', 'mean_slope', 'std_slope', 'mean_tri',\n",
       "       'std_tri', 'mean_elev', 'coast_length', 'with_coast', 'urban', 'rural',\n",
       "       'water', 'total_pop', 'percent_houses_damaged_5years'],\n",
       "      dtype='object')"
      ]
     },
     "metadata": {},
     "output_type": "display_data"
    },
    {
     "name": "stderr",
     "output_type": "stream",
     "text": [
      "pandas.Int64Index is deprecated and will be removed from pandas in a future version. Use pandas.Index with the appropriate dtype instead.\n"
     ]
    },
    {
     "name": "stdout",
     "output_type": "stream",
     "text": [
      "[12:47:11] WARNING: /Users/runner/miniforge3/conda-bld/xgboost-split_1637426408905/work/src/learner.cc:576: \n",
      "Parameters: { \"early_stopping_rounds\" } might not be used.\n",
      "\n",
      "  This could be a false alarm, with some parameters getting used by language bindings but\n",
      "  then being mistakenly passed down to XGBoost core, or some parameter actually being used\n",
      "  but getting flagged wrongly here. Please open an issue if you find any such cases.\n",
      "\n",
      "\n",
      "Counter({0: 38948, 1: 855})\n",
      "Counter({0: 8550, 1: 855})\n"
     ]
    },
    {
     "name": "stderr",
     "output_type": "stream",
     "text": [
      "The use of label encoder in XGBClassifier is deprecated and will be removed in a future release. To remove this warning, do the following: 1) Pass option use_label_encoder=False when constructing XGBClassifier object; and 2) Encode your labels (y) as integers starting with 0, i.e. 0, 1, 2, ..., [num_class - 1].\n",
      "pandas.Int64Index is deprecated and will be removed from pandas in a future version. Use pandas.Index with the appropriate dtype instead.\n"
     ]
    },
    {
     "data": {
      "text/plain": [
       "Index(['wind_speed', 'track_distance', 'total_houses', 'rainfall_max_6h',\n",
       "       'rainfall_max_24h', 'rwi', 'mean_slope', 'std_slope', 'mean_tri',\n",
       "       'std_tri', 'mean_elev', 'coast_length', 'with_coast', 'urban', 'rural',\n",
       "       'water', 'total_pop', 'percent_houses_damaged_5years'],\n",
       "      dtype='object')"
      ]
     },
     "metadata": {},
     "output_type": "display_data"
    },
    {
     "name": "stderr",
     "output_type": "stream",
     "text": [
      "pandas.Int64Index is deprecated and will be removed from pandas in a future version. Use pandas.Index with the appropriate dtype instead.\n",
      "\n",
      "A value is trying to be set on a copy of a slice from a DataFrame.\n",
      "Try using .loc[row_indexer,col_indexer] = value instead\n",
      "\n",
      "See the caveats in the documentation: https://pandas.pydata.org/pandas-docs/stable/user_guide/indexing.html#returning-a-view-versus-a-copy\n",
      "\n",
      "A value is trying to be set on a copy of a slice from a DataFrame.\n",
      "Try using .loc[row_indexer,col_indexer] = value instead\n",
      "\n",
      "See the caveats in the documentation: https://pandas.pydata.org/pandas-docs/stable/user_guide/indexing.html#returning-a-view-versus-a-copy\n"
     ]
    },
    {
     "name": "stdout",
     "output_type": "stream",
     "text": [
      "[12:47:14] WARNING: /Users/runner/miniforge3/conda-bld/xgboost-split_1637426408905/work/src/learner.cc:576: \n",
      "Parameters: { \"early_stopping_rounds\" } might not be used.\n",
      "\n",
      "  This could be a false alarm, with some parameters getting used by language bindings but\n",
      "  then being mistakenly passed down to XGBoost core, or some parameter actually being used\n",
      "  but getting flagged wrongly here. Please open an issue if you find any such cases.\n",
      "\n",
      "\n",
      "[3.3039230185175996, 3.2251776693928584, 3.2664871102805275, 3.501705402397512, 3.305824252791194, 3.296356918791896, 3.3195800838714224, 3.0013254829172755, 3.390415771118743, 3.397420122675211, 3.1853493658818817, 3.280638126314829, 3.177206168687014, 3.2124364260001848, 3.5248639642950534, 3.077818662641583, 3.2854527233305975, 3.411733347618065, 3.174174390975052, 2.974043700209311, 3.4897638171784475, 3.5492651762098353, 3.34944955399755, 3.4282416663501576, 3.2426885980926214, 3.4395992206393875, 3.371993253233383, 3.2604809673680433, 3.0973052984821194, 3.231039434930128, 3.468242398641255, 3.41091552300152, 3.373100375399568, 3.264861382652408, 3.291763127958453, 3.63062502761599, 3.3486020215435905, 3.332284987588538, 3.6156101314197118, 3.350072976478329, 3.1555112074645724, 3.3029712752061693, 3.2173861242539132, 3.281895934555158, 3.063005708081935, 3.617982256950439, 3.172032396690705, 3.106838301567577, 3.295411254079132, 3.155531981176172, 3.2369918840214096, 3.2019974475449757, 3.1693816105779606, 3.5486421488000808, 3.2667303437252593, 3.3362180711542186, 3.280610379321557, 3.1829717001082467, 3.4826578071966883, 3.3233900573500517, 3.0030990743826407, 3.3106993469834367, 3.343007384342664, 3.0429926601119037, 3.480047741875997, 3.213724536929093, 3.2371056141975902, 3.3637131652502674, 3.1892671401069057, 3.154030707340298, 3.558714948012274, 3.1939848026690303, 3.2856631353966135, 3.300212114156421, 3.2544619562581927, 3.212305041987889, 3.212248404175258, 3.334099971621572, 3.460742919089393, 3.1840901235525725, 3.3145013961711496, 3.212547591158263]\n"
     ]
    },
    {
     "data": {
      "text/plain": [
       "Index(['wind_speed', 'track_distance', 'total_houses', 'rainfall_max_6h',\n",
       "       'rainfall_max_24h', 'rwi', 'mean_slope', 'std_slope', 'mean_tri',\n",
       "       'std_tri', 'mean_elev', 'coast_length', 'with_coast', 'urban', 'rural',\n",
       "       'water', 'total_pop', 'percent_houses_damaged_5years'],\n",
       "      dtype='object')"
      ]
     },
     "metadata": {},
     "output_type": "display_data"
    },
    {
     "name": "stderr",
     "output_type": "stream",
     "text": [
      "pandas.Int64Index is deprecated and will be removed from pandas in a future version. Use pandas.Index with the appropriate dtype instead.\n"
     ]
    },
    {
     "name": "stdout",
     "output_type": "stream",
     "text": [
      "[12:47:15] WARNING: /Users/runner/miniforge3/conda-bld/xgboost-split_1637426408905/work/src/learner.cc:576: \n",
      "Parameters: { \"early_stopping_rounds\" } might not be used.\n",
      "\n",
      "  This could be a false alarm, with some parameters getting used by language bindings but\n",
      "  then being mistakenly passed down to XGBoost core, or some parameter actually being used\n",
      "  but getting flagged wrongly here. Please open an issue if you find any such cases.\n",
      "\n",
      "\n",
      "Counter({0: 38948, 1: 855})\n",
      "Counter({0: 8550, 1: 855})\n"
     ]
    },
    {
     "name": "stderr",
     "output_type": "stream",
     "text": [
      "The use of label encoder in XGBClassifier is deprecated and will be removed in a future release. To remove this warning, do the following: 1) Pass option use_label_encoder=False when constructing XGBClassifier object; and 2) Encode your labels (y) as integers starting with 0, i.e. 0, 1, 2, ..., [num_class - 1].\n",
      "pandas.Int64Index is deprecated and will be removed from pandas in a future version. Use pandas.Index with the appropriate dtype instead.\n"
     ]
    },
    {
     "data": {
      "text/plain": [
       "Index(['wind_speed', 'track_distance', 'total_houses', 'rainfall_max_6h',\n",
       "       'rainfall_max_24h', 'rwi', 'mean_slope', 'std_slope', 'mean_tri',\n",
       "       'std_tri', 'mean_elev', 'coast_length', 'with_coast', 'urban', 'rural',\n",
       "       'water', 'total_pop', 'percent_houses_damaged_5years'],\n",
       "      dtype='object')"
      ]
     },
     "metadata": {},
     "output_type": "display_data"
    },
    {
     "name": "stderr",
     "output_type": "stream",
     "text": [
      "pandas.Int64Index is deprecated and will be removed from pandas in a future version. Use pandas.Index with the appropriate dtype instead.\n",
      "\n",
      "A value is trying to be set on a copy of a slice from a DataFrame.\n",
      "Try using .loc[row_indexer,col_indexer] = value instead\n",
      "\n",
      "See the caveats in the documentation: https://pandas.pydata.org/pandas-docs/stable/user_guide/indexing.html#returning-a-view-versus-a-copy\n",
      "\n",
      "A value is trying to be set on a copy of a slice from a DataFrame.\n",
      "Try using .loc[row_indexer,col_indexer] = value instead\n",
      "\n",
      "See the caveats in the documentation: https://pandas.pydata.org/pandas-docs/stable/user_guide/indexing.html#returning-a-view-versus-a-copy\n"
     ]
    },
    {
     "name": "stdout",
     "output_type": "stream",
     "text": [
      "[12:47:18] WARNING: /Users/runner/miniforge3/conda-bld/xgboost-split_1637426408905/work/src/learner.cc:576: \n",
      "Parameters: { \"early_stopping_rounds\" } might not be used.\n",
      "\n",
      "  This could be a false alarm, with some parameters getting used by language bindings but\n",
      "  then being mistakenly passed down to XGBoost core, or some parameter actually being used\n",
      "  but getting flagged wrongly here. Please open an issue if you find any such cases.\n",
      "\n",
      "\n",
      "[3.3039230185175996, 3.2251776693928584, 3.2664871102805275, 3.501705402397512, 3.305824252791194, 3.296356918791896, 3.3195800838714224, 3.0013254829172755, 3.390415771118743, 3.397420122675211, 3.1853493658818817, 3.280638126314829, 3.177206168687014, 3.2124364260001848, 3.5248639642950534, 3.077818662641583, 3.2854527233305975, 3.411733347618065, 3.174174390975052, 2.974043700209311, 3.4897638171784475, 3.5492651762098353, 3.34944955399755, 3.4282416663501576, 3.2426885980926214, 3.4395992206393875, 3.371993253233383, 3.2604809673680433, 3.0973052984821194, 3.231039434930128, 3.468242398641255, 3.41091552300152, 3.373100375399568, 3.264861382652408, 3.291763127958453, 3.63062502761599, 3.3486020215435905, 3.332284987588538, 3.6156101314197118, 3.350072976478329, 3.1555112074645724, 3.3029712752061693, 3.2173861242539132, 3.281895934555158, 3.063005708081935, 3.617982256950439, 3.172032396690705, 3.106838301567577, 3.295411254079132, 3.155531981176172, 3.2369918840214096, 3.2019974475449757, 3.1693816105779606, 3.5486421488000808, 3.2667303437252593, 3.3362180711542186, 3.280610379321557, 3.1829717001082467, 3.4826578071966883, 3.3233900573500517, 3.0030990743826407, 3.3106993469834367, 3.343007384342664, 3.0429926601119037, 3.480047741875997, 3.213724536929093, 3.2371056141975902, 3.3637131652502674, 3.1892671401069057, 3.154030707340298, 3.558714948012274, 3.1939848026690303, 3.2856631353966135, 3.300212114156421, 3.2544619562581927, 3.212305041987889, 3.212248404175258, 3.334099971621572, 3.460742919089393, 3.1840901235525725, 3.3145013961711496, 3.212547591158263, 3.1854634769180823]\n"
     ]
    },
    {
     "data": {
      "text/plain": [
       "Index(['wind_speed', 'track_distance', 'total_houses', 'rainfall_max_6h',\n",
       "       'rainfall_max_24h', 'rwi', 'mean_slope', 'std_slope', 'mean_tri',\n",
       "       'std_tri', 'mean_elev', 'coast_length', 'with_coast', 'urban', 'rural',\n",
       "       'water', 'total_pop', 'percent_houses_damaged_5years'],\n",
       "      dtype='object')"
      ]
     },
     "metadata": {},
     "output_type": "display_data"
    },
    {
     "name": "stderr",
     "output_type": "stream",
     "text": [
      "pandas.Int64Index is deprecated and will be removed from pandas in a future version. Use pandas.Index with the appropriate dtype instead.\n"
     ]
    },
    {
     "name": "stdout",
     "output_type": "stream",
     "text": [
      "[12:47:20] WARNING: /Users/runner/miniforge3/conda-bld/xgboost-split_1637426408905/work/src/learner.cc:576: \n",
      "Parameters: { \"early_stopping_rounds\" } might not be used.\n",
      "\n",
      "  This could be a false alarm, with some parameters getting used by language bindings but\n",
      "  then being mistakenly passed down to XGBoost core, or some parameter actually being used\n",
      "  but getting flagged wrongly here. Please open an issue if you find any such cases.\n",
      "\n",
      "\n",
      "Counter({0: 38948, 1: 855})\n",
      "Counter({0: 8550, 1: 855})\n"
     ]
    },
    {
     "name": "stderr",
     "output_type": "stream",
     "text": [
      "The use of label encoder in XGBClassifier is deprecated and will be removed in a future release. To remove this warning, do the following: 1) Pass option use_label_encoder=False when constructing XGBClassifier object; and 2) Encode your labels (y) as integers starting with 0, i.e. 0, 1, 2, ..., [num_class - 1].\n",
      "pandas.Int64Index is deprecated and will be removed from pandas in a future version. Use pandas.Index with the appropriate dtype instead.\n"
     ]
    },
    {
     "data": {
      "text/plain": [
       "Index(['wind_speed', 'track_distance', 'total_houses', 'rainfall_max_6h',\n",
       "       'rainfall_max_24h', 'rwi', 'mean_slope', 'std_slope', 'mean_tri',\n",
       "       'std_tri', 'mean_elev', 'coast_length', 'with_coast', 'urban', 'rural',\n",
       "       'water', 'total_pop', 'percent_houses_damaged_5years'],\n",
       "      dtype='object')"
      ]
     },
     "metadata": {},
     "output_type": "display_data"
    },
    {
     "name": "stderr",
     "output_type": "stream",
     "text": [
      "pandas.Int64Index is deprecated and will be removed from pandas in a future version. Use pandas.Index with the appropriate dtype instead.\n",
      "\n",
      "A value is trying to be set on a copy of a slice from a DataFrame.\n",
      "Try using .loc[row_indexer,col_indexer] = value instead\n",
      "\n",
      "See the caveats in the documentation: https://pandas.pydata.org/pandas-docs/stable/user_guide/indexing.html#returning-a-view-versus-a-copy\n",
      "\n",
      "A value is trying to be set on a copy of a slice from a DataFrame.\n",
      "Try using .loc[row_indexer,col_indexer] = value instead\n",
      "\n",
      "See the caveats in the documentation: https://pandas.pydata.org/pandas-docs/stable/user_guide/indexing.html#returning-a-view-versus-a-copy\n"
     ]
    },
    {
     "name": "stdout",
     "output_type": "stream",
     "text": [
      "[12:47:23] WARNING: /Users/runner/miniforge3/conda-bld/xgboost-split_1637426408905/work/src/learner.cc:576: \n",
      "Parameters: { \"early_stopping_rounds\" } might not be used.\n",
      "\n",
      "  This could be a false alarm, with some parameters getting used by language bindings but\n",
      "  then being mistakenly passed down to XGBoost core, or some parameter actually being used\n",
      "  but getting flagged wrongly here. Please open an issue if you find any such cases.\n",
      "\n",
      "\n",
      "[3.3039230185175996, 3.2251776693928584, 3.2664871102805275, 3.501705402397512, 3.305824252791194, 3.296356918791896, 3.3195800838714224, 3.0013254829172755, 3.390415771118743, 3.397420122675211, 3.1853493658818817, 3.280638126314829, 3.177206168687014, 3.2124364260001848, 3.5248639642950534, 3.077818662641583, 3.2854527233305975, 3.411733347618065, 3.174174390975052, 2.974043700209311, 3.4897638171784475, 3.5492651762098353, 3.34944955399755, 3.4282416663501576, 3.2426885980926214, 3.4395992206393875, 3.371993253233383, 3.2604809673680433, 3.0973052984821194, 3.231039434930128, 3.468242398641255, 3.41091552300152, 3.373100375399568, 3.264861382652408, 3.291763127958453, 3.63062502761599, 3.3486020215435905, 3.332284987588538, 3.6156101314197118, 3.350072976478329, 3.1555112074645724, 3.3029712752061693, 3.2173861242539132, 3.281895934555158, 3.063005708081935, 3.617982256950439, 3.172032396690705, 3.106838301567577, 3.295411254079132, 3.155531981176172, 3.2369918840214096, 3.2019974475449757, 3.1693816105779606, 3.5486421488000808, 3.2667303437252593, 3.3362180711542186, 3.280610379321557, 3.1829717001082467, 3.4826578071966883, 3.3233900573500517, 3.0030990743826407, 3.3106993469834367, 3.343007384342664, 3.0429926601119037, 3.480047741875997, 3.213724536929093, 3.2371056141975902, 3.3637131652502674, 3.1892671401069057, 3.154030707340298, 3.558714948012274, 3.1939848026690303, 3.2856631353966135, 3.300212114156421, 3.2544619562581927, 3.212305041987889, 3.212248404175258, 3.334099971621572, 3.460742919089393, 3.1840901235525725, 3.3145013961711496, 3.212547591158263, 3.1854634769180823, 3.344938898086337]\n"
     ]
    },
    {
     "data": {
      "text/plain": [
       "Index(['wind_speed', 'track_distance', 'total_houses', 'rainfall_max_6h',\n",
       "       'rainfall_max_24h', 'rwi', 'mean_slope', 'std_slope', 'mean_tri',\n",
       "       'std_tri', 'mean_elev', 'coast_length', 'with_coast', 'urban', 'rural',\n",
       "       'water', 'total_pop', 'percent_houses_damaged_5years'],\n",
       "      dtype='object')"
      ]
     },
     "metadata": {},
     "output_type": "display_data"
    },
    {
     "name": "stderr",
     "output_type": "stream",
     "text": [
      "pandas.Int64Index is deprecated and will be removed from pandas in a future version. Use pandas.Index with the appropriate dtype instead.\n"
     ]
    },
    {
     "name": "stdout",
     "output_type": "stream",
     "text": [
      "[12:47:24] WARNING: /Users/runner/miniforge3/conda-bld/xgboost-split_1637426408905/work/src/learner.cc:576: \n",
      "Parameters: { \"early_stopping_rounds\" } might not be used.\n",
      "\n",
      "  This could be a false alarm, with some parameters getting used by language bindings but\n",
      "  then being mistakenly passed down to XGBoost core, or some parameter actually being used\n",
      "  but getting flagged wrongly here. Please open an issue if you find any such cases.\n",
      "\n",
      "\n",
      "Counter({0: 38948, 1: 855})\n",
      "Counter({0: 8550, 1: 855})\n"
     ]
    },
    {
     "name": "stderr",
     "output_type": "stream",
     "text": [
      "The use of label encoder in XGBClassifier is deprecated and will be removed in a future release. To remove this warning, do the following: 1) Pass option use_label_encoder=False when constructing XGBClassifier object; and 2) Encode your labels (y) as integers starting with 0, i.e. 0, 1, 2, ..., [num_class - 1].\n",
      "pandas.Int64Index is deprecated and will be removed from pandas in a future version. Use pandas.Index with the appropriate dtype instead.\n"
     ]
    },
    {
     "data": {
      "text/plain": [
       "Index(['wind_speed', 'track_distance', 'total_houses', 'rainfall_max_6h',\n",
       "       'rainfall_max_24h', 'rwi', 'mean_slope', 'std_slope', 'mean_tri',\n",
       "       'std_tri', 'mean_elev', 'coast_length', 'with_coast', 'urban', 'rural',\n",
       "       'water', 'total_pop', 'percent_houses_damaged_5years'],\n",
       "      dtype='object')"
      ]
     },
     "metadata": {},
     "output_type": "display_data"
    },
    {
     "name": "stderr",
     "output_type": "stream",
     "text": [
      "pandas.Int64Index is deprecated and will be removed from pandas in a future version. Use pandas.Index with the appropriate dtype instead.\n",
      "\n",
      "A value is trying to be set on a copy of a slice from a DataFrame.\n",
      "Try using .loc[row_indexer,col_indexer] = value instead\n",
      "\n",
      "See the caveats in the documentation: https://pandas.pydata.org/pandas-docs/stable/user_guide/indexing.html#returning-a-view-versus-a-copy\n",
      "\n",
      "A value is trying to be set on a copy of a slice from a DataFrame.\n",
      "Try using .loc[row_indexer,col_indexer] = value instead\n",
      "\n",
      "See the caveats in the documentation: https://pandas.pydata.org/pandas-docs/stable/user_guide/indexing.html#returning-a-view-versus-a-copy\n"
     ]
    },
    {
     "name": "stdout",
     "output_type": "stream",
     "text": [
      "[12:47:27] WARNING: /Users/runner/miniforge3/conda-bld/xgboost-split_1637426408905/work/src/learner.cc:576: \n",
      "Parameters: { \"early_stopping_rounds\" } might not be used.\n",
      "\n",
      "  This could be a false alarm, with some parameters getting used by language bindings but\n",
      "  then being mistakenly passed down to XGBoost core, or some parameter actually being used\n",
      "  but getting flagged wrongly here. Please open an issue if you find any such cases.\n",
      "\n",
      "\n",
      "[3.3039230185175996, 3.2251776693928584, 3.2664871102805275, 3.501705402397512, 3.305824252791194, 3.296356918791896, 3.3195800838714224, 3.0013254829172755, 3.390415771118743, 3.397420122675211, 3.1853493658818817, 3.280638126314829, 3.177206168687014, 3.2124364260001848, 3.5248639642950534, 3.077818662641583, 3.2854527233305975, 3.411733347618065, 3.174174390975052, 2.974043700209311, 3.4897638171784475, 3.5492651762098353, 3.34944955399755, 3.4282416663501576, 3.2426885980926214, 3.4395992206393875, 3.371993253233383, 3.2604809673680433, 3.0973052984821194, 3.231039434930128, 3.468242398641255, 3.41091552300152, 3.373100375399568, 3.264861382652408, 3.291763127958453, 3.63062502761599, 3.3486020215435905, 3.332284987588538, 3.6156101314197118, 3.350072976478329, 3.1555112074645724, 3.3029712752061693, 3.2173861242539132, 3.281895934555158, 3.063005708081935, 3.617982256950439, 3.172032396690705, 3.106838301567577, 3.295411254079132, 3.155531981176172, 3.2369918840214096, 3.2019974475449757, 3.1693816105779606, 3.5486421488000808, 3.2667303437252593, 3.3362180711542186, 3.280610379321557, 3.1829717001082467, 3.4826578071966883, 3.3233900573500517, 3.0030990743826407, 3.3106993469834367, 3.343007384342664, 3.0429926601119037, 3.480047741875997, 3.213724536929093, 3.2371056141975902, 3.3637131652502674, 3.1892671401069057, 3.154030707340298, 3.558714948012274, 3.1939848026690303, 3.2856631353966135, 3.300212114156421, 3.2544619562581927, 3.212305041987889, 3.212248404175258, 3.334099971621572, 3.460742919089393, 3.1840901235525725, 3.3145013961711496, 3.212547591158263, 3.1854634769180823, 3.344938898086337, 3.255370642288455]\n"
     ]
    },
    {
     "data": {
      "text/plain": [
       "Index(['wind_speed', 'track_distance', 'total_houses', 'rainfall_max_6h',\n",
       "       'rainfall_max_24h', 'rwi', 'mean_slope', 'std_slope', 'mean_tri',\n",
       "       'std_tri', 'mean_elev', 'coast_length', 'with_coast', 'urban', 'rural',\n",
       "       'water', 'total_pop', 'percent_houses_damaged_5years'],\n",
       "      dtype='object')"
      ]
     },
     "metadata": {},
     "output_type": "display_data"
    },
    {
     "name": "stderr",
     "output_type": "stream",
     "text": [
      "pandas.Int64Index is deprecated and will be removed from pandas in a future version. Use pandas.Index with the appropriate dtype instead.\n"
     ]
    },
    {
     "name": "stdout",
     "output_type": "stream",
     "text": [
      "[12:47:29] WARNING: /Users/runner/miniforge3/conda-bld/xgboost-split_1637426408905/work/src/learner.cc:576: \n",
      "Parameters: { \"early_stopping_rounds\" } might not be used.\n",
      "\n",
      "  This could be a false alarm, with some parameters getting used by language bindings but\n",
      "  then being mistakenly passed down to XGBoost core, or some parameter actually being used\n",
      "  but getting flagged wrongly here. Please open an issue if you find any such cases.\n",
      "\n",
      "\n",
      "Counter({0: 38948, 1: 855})\n",
      "Counter({0: 8550, 1: 855})\n"
     ]
    },
    {
     "name": "stderr",
     "output_type": "stream",
     "text": [
      "The use of label encoder in XGBClassifier is deprecated and will be removed in a future release. To remove this warning, do the following: 1) Pass option use_label_encoder=False when constructing XGBClassifier object; and 2) Encode your labels (y) as integers starting with 0, i.e. 0, 1, 2, ..., [num_class - 1].\n",
      "pandas.Int64Index is deprecated and will be removed from pandas in a future version. Use pandas.Index with the appropriate dtype instead.\n"
     ]
    },
    {
     "data": {
      "text/plain": [
       "Index(['wind_speed', 'track_distance', 'total_houses', 'rainfall_max_6h',\n",
       "       'rainfall_max_24h', 'rwi', 'mean_slope', 'std_slope', 'mean_tri',\n",
       "       'std_tri', 'mean_elev', 'coast_length', 'with_coast', 'urban', 'rural',\n",
       "       'water', 'total_pop', 'percent_houses_damaged_5years'],\n",
       "      dtype='object')"
      ]
     },
     "metadata": {},
     "output_type": "display_data"
    },
    {
     "name": "stderr",
     "output_type": "stream",
     "text": [
      "pandas.Int64Index is deprecated and will be removed from pandas in a future version. Use pandas.Index with the appropriate dtype instead.\n",
      "\n",
      "A value is trying to be set on a copy of a slice from a DataFrame.\n",
      "Try using .loc[row_indexer,col_indexer] = value instead\n",
      "\n",
      "See the caveats in the documentation: https://pandas.pydata.org/pandas-docs/stable/user_guide/indexing.html#returning-a-view-versus-a-copy\n",
      "\n",
      "A value is trying to be set on a copy of a slice from a DataFrame.\n",
      "Try using .loc[row_indexer,col_indexer] = value instead\n",
      "\n",
      "See the caveats in the documentation: https://pandas.pydata.org/pandas-docs/stable/user_guide/indexing.html#returning-a-view-versus-a-copy\n"
     ]
    },
    {
     "name": "stdout",
     "output_type": "stream",
     "text": [
      "[12:47:32] WARNING: /Users/runner/miniforge3/conda-bld/xgboost-split_1637426408905/work/src/learner.cc:576: \n",
      "Parameters: { \"early_stopping_rounds\" } might not be used.\n",
      "\n",
      "  This could be a false alarm, with some parameters getting used by language bindings but\n",
      "  then being mistakenly passed down to XGBoost core, or some parameter actually being used\n",
      "  but getting flagged wrongly here. Please open an issue if you find any such cases.\n",
      "\n",
      "\n",
      "[3.3039230185175996, 3.2251776693928584, 3.2664871102805275, 3.501705402397512, 3.305824252791194, 3.296356918791896, 3.3195800838714224, 3.0013254829172755, 3.390415771118743, 3.397420122675211, 3.1853493658818817, 3.280638126314829, 3.177206168687014, 3.2124364260001848, 3.5248639642950534, 3.077818662641583, 3.2854527233305975, 3.411733347618065, 3.174174390975052, 2.974043700209311, 3.4897638171784475, 3.5492651762098353, 3.34944955399755, 3.4282416663501576, 3.2426885980926214, 3.4395992206393875, 3.371993253233383, 3.2604809673680433, 3.0973052984821194, 3.231039434930128, 3.468242398641255, 3.41091552300152, 3.373100375399568, 3.264861382652408, 3.291763127958453, 3.63062502761599, 3.3486020215435905, 3.332284987588538, 3.6156101314197118, 3.350072976478329, 3.1555112074645724, 3.3029712752061693, 3.2173861242539132, 3.281895934555158, 3.063005708081935, 3.617982256950439, 3.172032396690705, 3.106838301567577, 3.295411254079132, 3.155531981176172, 3.2369918840214096, 3.2019974475449757, 3.1693816105779606, 3.5486421488000808, 3.2667303437252593, 3.3362180711542186, 3.280610379321557, 3.1829717001082467, 3.4826578071966883, 3.3233900573500517, 3.0030990743826407, 3.3106993469834367, 3.343007384342664, 3.0429926601119037, 3.480047741875997, 3.213724536929093, 3.2371056141975902, 3.3637131652502674, 3.1892671401069057, 3.154030707340298, 3.558714948012274, 3.1939848026690303, 3.2856631353966135, 3.300212114156421, 3.2544619562581927, 3.212305041987889, 3.212248404175258, 3.334099971621572, 3.460742919089393, 3.1840901235525725, 3.3145013961711496, 3.212547591158263, 3.1854634769180823, 3.344938898086337, 3.255370642288455, 3.463208742201211]\n"
     ]
    },
    {
     "data": {
      "text/plain": [
       "Index(['wind_speed', 'track_distance', 'total_houses', 'rainfall_max_6h',\n",
       "       'rainfall_max_24h', 'rwi', 'mean_slope', 'std_slope', 'mean_tri',\n",
       "       'std_tri', 'mean_elev', 'coast_length', 'with_coast', 'urban', 'rural',\n",
       "       'water', 'total_pop', 'percent_houses_damaged_5years'],\n",
       "      dtype='object')"
      ]
     },
     "metadata": {},
     "output_type": "display_data"
    },
    {
     "name": "stderr",
     "output_type": "stream",
     "text": [
      "pandas.Int64Index is deprecated and will be removed from pandas in a future version. Use pandas.Index with the appropriate dtype instead.\n"
     ]
    },
    {
     "name": "stdout",
     "output_type": "stream",
     "text": [
      "[12:47:33] WARNING: /Users/runner/miniforge3/conda-bld/xgboost-split_1637426408905/work/src/learner.cc:576: \n",
      "Parameters: { \"early_stopping_rounds\" } might not be used.\n",
      "\n",
      "  This could be a false alarm, with some parameters getting used by language bindings but\n",
      "  then being mistakenly passed down to XGBoost core, or some parameter actually being used\n",
      "  but getting flagged wrongly here. Please open an issue if you find any such cases.\n",
      "\n",
      "\n",
      "Counter({0: 38948, 1: 855})\n",
      "Counter({0: 8550, 1: 855})\n"
     ]
    },
    {
     "name": "stderr",
     "output_type": "stream",
     "text": [
      "The use of label encoder in XGBClassifier is deprecated and will be removed in a future release. To remove this warning, do the following: 1) Pass option use_label_encoder=False when constructing XGBClassifier object; and 2) Encode your labels (y) as integers starting with 0, i.e. 0, 1, 2, ..., [num_class - 1].\n",
      "pandas.Int64Index is deprecated and will be removed from pandas in a future version. Use pandas.Index with the appropriate dtype instead.\n"
     ]
    },
    {
     "data": {
      "text/plain": [
       "Index(['wind_speed', 'track_distance', 'total_houses', 'rainfall_max_6h',\n",
       "       'rainfall_max_24h', 'rwi', 'mean_slope', 'std_slope', 'mean_tri',\n",
       "       'std_tri', 'mean_elev', 'coast_length', 'with_coast', 'urban', 'rural',\n",
       "       'water', 'total_pop', 'percent_houses_damaged_5years'],\n",
       "      dtype='object')"
      ]
     },
     "metadata": {},
     "output_type": "display_data"
    },
    {
     "name": "stderr",
     "output_type": "stream",
     "text": [
      "pandas.Int64Index is deprecated and will be removed from pandas in a future version. Use pandas.Index with the appropriate dtype instead.\n",
      "\n",
      "A value is trying to be set on a copy of a slice from a DataFrame.\n",
      "Try using .loc[row_indexer,col_indexer] = value instead\n",
      "\n",
      "See the caveats in the documentation: https://pandas.pydata.org/pandas-docs/stable/user_guide/indexing.html#returning-a-view-versus-a-copy\n",
      "\n",
      "A value is trying to be set on a copy of a slice from a DataFrame.\n",
      "Try using .loc[row_indexer,col_indexer] = value instead\n",
      "\n",
      "See the caveats in the documentation: https://pandas.pydata.org/pandas-docs/stable/user_guide/indexing.html#returning-a-view-versus-a-copy\n"
     ]
    },
    {
     "name": "stdout",
     "output_type": "stream",
     "text": [
      "[12:47:36] WARNING: /Users/runner/miniforge3/conda-bld/xgboost-split_1637426408905/work/src/learner.cc:576: \n",
      "Parameters: { \"early_stopping_rounds\" } might not be used.\n",
      "\n",
      "  This could be a false alarm, with some parameters getting used by language bindings but\n",
      "  then being mistakenly passed down to XGBoost core, or some parameter actually being used\n",
      "  but getting flagged wrongly here. Please open an issue if you find any such cases.\n",
      "\n",
      "\n",
      "[3.3039230185175996, 3.2251776693928584, 3.2664871102805275, 3.501705402397512, 3.305824252791194, 3.296356918791896, 3.3195800838714224, 3.0013254829172755, 3.390415771118743, 3.397420122675211, 3.1853493658818817, 3.280638126314829, 3.177206168687014, 3.2124364260001848, 3.5248639642950534, 3.077818662641583, 3.2854527233305975, 3.411733347618065, 3.174174390975052, 2.974043700209311, 3.4897638171784475, 3.5492651762098353, 3.34944955399755, 3.4282416663501576, 3.2426885980926214, 3.4395992206393875, 3.371993253233383, 3.2604809673680433, 3.0973052984821194, 3.231039434930128, 3.468242398641255, 3.41091552300152, 3.373100375399568, 3.264861382652408, 3.291763127958453, 3.63062502761599, 3.3486020215435905, 3.332284987588538, 3.6156101314197118, 3.350072976478329, 3.1555112074645724, 3.3029712752061693, 3.2173861242539132, 3.281895934555158, 3.063005708081935, 3.617982256950439, 3.172032396690705, 3.106838301567577, 3.295411254079132, 3.155531981176172, 3.2369918840214096, 3.2019974475449757, 3.1693816105779606, 3.5486421488000808, 3.2667303437252593, 3.3362180711542186, 3.280610379321557, 3.1829717001082467, 3.4826578071966883, 3.3233900573500517, 3.0030990743826407, 3.3106993469834367, 3.343007384342664, 3.0429926601119037, 3.480047741875997, 3.213724536929093, 3.2371056141975902, 3.3637131652502674, 3.1892671401069057, 3.154030707340298, 3.558714948012274, 3.1939848026690303, 3.2856631353966135, 3.300212114156421, 3.2544619562581927, 3.212305041987889, 3.212248404175258, 3.334099971621572, 3.460742919089393, 3.1840901235525725, 3.3145013961711496, 3.212547591158263, 3.1854634769180823, 3.344938898086337, 3.255370642288455, 3.463208742201211, 3.4267269979266404]\n"
     ]
    },
    {
     "data": {
      "text/plain": [
       "Index(['wind_speed', 'track_distance', 'total_houses', 'rainfall_max_6h',\n",
       "       'rainfall_max_24h', 'rwi', 'mean_slope', 'std_slope', 'mean_tri',\n",
       "       'std_tri', 'mean_elev', 'coast_length', 'with_coast', 'urban', 'rural',\n",
       "       'water', 'total_pop', 'percent_houses_damaged_5years'],\n",
       "      dtype='object')"
      ]
     },
     "metadata": {},
     "output_type": "display_data"
    },
    {
     "name": "stderr",
     "output_type": "stream",
     "text": [
      "pandas.Int64Index is deprecated and will be removed from pandas in a future version. Use pandas.Index with the appropriate dtype instead.\n"
     ]
    },
    {
     "name": "stdout",
     "output_type": "stream",
     "text": [
      "[12:47:37] WARNING: /Users/runner/miniforge3/conda-bld/xgboost-split_1637426408905/work/src/learner.cc:576: \n",
      "Parameters: { \"early_stopping_rounds\" } might not be used.\n",
      "\n",
      "  This could be a false alarm, with some parameters getting used by language bindings but\n",
      "  then being mistakenly passed down to XGBoost core, or some parameter actually being used\n",
      "  but getting flagged wrongly here. Please open an issue if you find any such cases.\n",
      "\n",
      "\n",
      "Counter({0: 38948, 1: 855})\n",
      "Counter({0: 8550, 1: 855})\n"
     ]
    },
    {
     "name": "stderr",
     "output_type": "stream",
     "text": [
      "The use of label encoder in XGBClassifier is deprecated and will be removed in a future release. To remove this warning, do the following: 1) Pass option use_label_encoder=False when constructing XGBClassifier object; and 2) Encode your labels (y) as integers starting with 0, i.e. 0, 1, 2, ..., [num_class - 1].\n",
      "pandas.Int64Index is deprecated and will be removed from pandas in a future version. Use pandas.Index with the appropriate dtype instead.\n"
     ]
    },
    {
     "data": {
      "text/plain": [
       "Index(['wind_speed', 'track_distance', 'total_houses', 'rainfall_max_6h',\n",
       "       'rainfall_max_24h', 'rwi', 'mean_slope', 'std_slope', 'mean_tri',\n",
       "       'std_tri', 'mean_elev', 'coast_length', 'with_coast', 'urban', 'rural',\n",
       "       'water', 'total_pop', 'percent_houses_damaged_5years'],\n",
       "      dtype='object')"
      ]
     },
     "metadata": {},
     "output_type": "display_data"
    },
    {
     "name": "stderr",
     "output_type": "stream",
     "text": [
      "pandas.Int64Index is deprecated and will be removed from pandas in a future version. Use pandas.Index with the appropriate dtype instead.\n",
      "\n",
      "A value is trying to be set on a copy of a slice from a DataFrame.\n",
      "Try using .loc[row_indexer,col_indexer] = value instead\n",
      "\n",
      "See the caveats in the documentation: https://pandas.pydata.org/pandas-docs/stable/user_guide/indexing.html#returning-a-view-versus-a-copy\n",
      "\n",
      "A value is trying to be set on a copy of a slice from a DataFrame.\n",
      "Try using .loc[row_indexer,col_indexer] = value instead\n",
      "\n",
      "See the caveats in the documentation: https://pandas.pydata.org/pandas-docs/stable/user_guide/indexing.html#returning-a-view-versus-a-copy\n"
     ]
    },
    {
     "name": "stdout",
     "output_type": "stream",
     "text": [
      "[12:47:41] WARNING: /Users/runner/miniforge3/conda-bld/xgboost-split_1637426408905/work/src/learner.cc:576: \n",
      "Parameters: { \"early_stopping_rounds\" } might not be used.\n",
      "\n",
      "  This could be a false alarm, with some parameters getting used by language bindings but\n",
      "  then being mistakenly passed down to XGBoost core, or some parameter actually being used\n",
      "  but getting flagged wrongly here. Please open an issue if you find any such cases.\n",
      "\n",
      "\n",
      "[3.3039230185175996, 3.2251776693928584, 3.2664871102805275, 3.501705402397512, 3.305824252791194, 3.296356918791896, 3.3195800838714224, 3.0013254829172755, 3.390415771118743, 3.397420122675211, 3.1853493658818817, 3.280638126314829, 3.177206168687014, 3.2124364260001848, 3.5248639642950534, 3.077818662641583, 3.2854527233305975, 3.411733347618065, 3.174174390975052, 2.974043700209311, 3.4897638171784475, 3.5492651762098353, 3.34944955399755, 3.4282416663501576, 3.2426885980926214, 3.4395992206393875, 3.371993253233383, 3.2604809673680433, 3.0973052984821194, 3.231039434930128, 3.468242398641255, 3.41091552300152, 3.373100375399568, 3.264861382652408, 3.291763127958453, 3.63062502761599, 3.3486020215435905, 3.332284987588538, 3.6156101314197118, 3.350072976478329, 3.1555112074645724, 3.3029712752061693, 3.2173861242539132, 3.281895934555158, 3.063005708081935, 3.617982256950439, 3.172032396690705, 3.106838301567577, 3.295411254079132, 3.155531981176172, 3.2369918840214096, 3.2019974475449757, 3.1693816105779606, 3.5486421488000808, 3.2667303437252593, 3.3362180711542186, 3.280610379321557, 3.1829717001082467, 3.4826578071966883, 3.3233900573500517, 3.0030990743826407, 3.3106993469834367, 3.343007384342664, 3.0429926601119037, 3.480047741875997, 3.213724536929093, 3.2371056141975902, 3.3637131652502674, 3.1892671401069057, 3.154030707340298, 3.558714948012274, 3.1939848026690303, 3.2856631353966135, 3.300212114156421, 3.2544619562581927, 3.212305041987889, 3.212248404175258, 3.334099971621572, 3.460742919089393, 3.1840901235525725, 3.3145013961711496, 3.212547591158263, 3.1854634769180823, 3.344938898086337, 3.255370642288455, 3.463208742201211, 3.4267269979266404, 3.01667368943443]\n"
     ]
    },
    {
     "data": {
      "text/plain": [
       "Index(['wind_speed', 'track_distance', 'total_houses', 'rainfall_max_6h',\n",
       "       'rainfall_max_24h', 'rwi', 'mean_slope', 'std_slope', 'mean_tri',\n",
       "       'std_tri', 'mean_elev', 'coast_length', 'with_coast', 'urban', 'rural',\n",
       "       'water', 'total_pop', 'percent_houses_damaged_5years'],\n",
       "      dtype='object')"
      ]
     },
     "metadata": {},
     "output_type": "display_data"
    },
    {
     "name": "stderr",
     "output_type": "stream",
     "text": [
      "pandas.Int64Index is deprecated and will be removed from pandas in a future version. Use pandas.Index with the appropriate dtype instead.\n"
     ]
    },
    {
     "name": "stdout",
     "output_type": "stream",
     "text": [
      "[12:47:42] WARNING: /Users/runner/miniforge3/conda-bld/xgboost-split_1637426408905/work/src/learner.cc:576: \n",
      "Parameters: { \"early_stopping_rounds\" } might not be used.\n",
      "\n",
      "  This could be a false alarm, with some parameters getting used by language bindings but\n",
      "  then being mistakenly passed down to XGBoost core, or some parameter actually being used\n",
      "  but getting flagged wrongly here. Please open an issue if you find any such cases.\n",
      "\n",
      "\n",
      "Counter({0: 38948, 1: 855})\n",
      "Counter({0: 8550, 1: 855})\n"
     ]
    },
    {
     "name": "stderr",
     "output_type": "stream",
     "text": [
      "The use of label encoder in XGBClassifier is deprecated and will be removed in a future release. To remove this warning, do the following: 1) Pass option use_label_encoder=False when constructing XGBClassifier object; and 2) Encode your labels (y) as integers starting with 0, i.e. 0, 1, 2, ..., [num_class - 1].\n",
      "pandas.Int64Index is deprecated and will be removed from pandas in a future version. Use pandas.Index with the appropriate dtype instead.\n"
     ]
    },
    {
     "data": {
      "text/plain": [
       "Index(['wind_speed', 'track_distance', 'total_houses', 'rainfall_max_6h',\n",
       "       'rainfall_max_24h', 'rwi', 'mean_slope', 'std_slope', 'mean_tri',\n",
       "       'std_tri', 'mean_elev', 'coast_length', 'with_coast', 'urban', 'rural',\n",
       "       'water', 'total_pop', 'percent_houses_damaged_5years'],\n",
       "      dtype='object')"
      ]
     },
     "metadata": {},
     "output_type": "display_data"
    },
    {
     "name": "stderr",
     "output_type": "stream",
     "text": [
      "pandas.Int64Index is deprecated and will be removed from pandas in a future version. Use pandas.Index with the appropriate dtype instead.\n",
      "\n",
      "A value is trying to be set on a copy of a slice from a DataFrame.\n",
      "Try using .loc[row_indexer,col_indexer] = value instead\n",
      "\n",
      "See the caveats in the documentation: https://pandas.pydata.org/pandas-docs/stable/user_guide/indexing.html#returning-a-view-versus-a-copy\n",
      "\n",
      "A value is trying to be set on a copy of a slice from a DataFrame.\n",
      "Try using .loc[row_indexer,col_indexer] = value instead\n",
      "\n",
      "See the caveats in the documentation: https://pandas.pydata.org/pandas-docs/stable/user_guide/indexing.html#returning-a-view-versus-a-copy\n"
     ]
    },
    {
     "name": "stdout",
     "output_type": "stream",
     "text": [
      "[12:47:45] WARNING: /Users/runner/miniforge3/conda-bld/xgboost-split_1637426408905/work/src/learner.cc:576: \n",
      "Parameters: { \"early_stopping_rounds\" } might not be used.\n",
      "\n",
      "  This could be a false alarm, with some parameters getting used by language bindings but\n",
      "  then being mistakenly passed down to XGBoost core, or some parameter actually being used\n",
      "  but getting flagged wrongly here. Please open an issue if you find any such cases.\n",
      "\n",
      "\n",
      "[3.3039230185175996, 3.2251776693928584, 3.2664871102805275, 3.501705402397512, 3.305824252791194, 3.296356918791896, 3.3195800838714224, 3.0013254829172755, 3.390415771118743, 3.397420122675211, 3.1853493658818817, 3.280638126314829, 3.177206168687014, 3.2124364260001848, 3.5248639642950534, 3.077818662641583, 3.2854527233305975, 3.411733347618065, 3.174174390975052, 2.974043700209311, 3.4897638171784475, 3.5492651762098353, 3.34944955399755, 3.4282416663501576, 3.2426885980926214, 3.4395992206393875, 3.371993253233383, 3.2604809673680433, 3.0973052984821194, 3.231039434930128, 3.468242398641255, 3.41091552300152, 3.373100375399568, 3.264861382652408, 3.291763127958453, 3.63062502761599, 3.3486020215435905, 3.332284987588538, 3.6156101314197118, 3.350072976478329, 3.1555112074645724, 3.3029712752061693, 3.2173861242539132, 3.281895934555158, 3.063005708081935, 3.617982256950439, 3.172032396690705, 3.106838301567577, 3.295411254079132, 3.155531981176172, 3.2369918840214096, 3.2019974475449757, 3.1693816105779606, 3.5486421488000808, 3.2667303437252593, 3.3362180711542186, 3.280610379321557, 3.1829717001082467, 3.4826578071966883, 3.3233900573500517, 3.0030990743826407, 3.3106993469834367, 3.343007384342664, 3.0429926601119037, 3.480047741875997, 3.213724536929093, 3.2371056141975902, 3.3637131652502674, 3.1892671401069057, 3.154030707340298, 3.558714948012274, 3.1939848026690303, 3.2856631353966135, 3.300212114156421, 3.2544619562581927, 3.212305041987889, 3.212248404175258, 3.334099971621572, 3.460742919089393, 3.1840901235525725, 3.3145013961711496, 3.212547591158263, 3.1854634769180823, 3.344938898086337, 3.255370642288455, 3.463208742201211, 3.4267269979266404, 3.01667368943443, 3.3070903954943303]\n"
     ]
    },
    {
     "data": {
      "text/plain": [
       "Index(['wind_speed', 'track_distance', 'total_houses', 'rainfall_max_6h',\n",
       "       'rainfall_max_24h', 'rwi', 'mean_slope', 'std_slope', 'mean_tri',\n",
       "       'std_tri', 'mean_elev', 'coast_length', 'with_coast', 'urban', 'rural',\n",
       "       'water', 'total_pop', 'percent_houses_damaged_5years'],\n",
       "      dtype='object')"
      ]
     },
     "metadata": {},
     "output_type": "display_data"
    },
    {
     "name": "stderr",
     "output_type": "stream",
     "text": [
      "pandas.Int64Index is deprecated and will be removed from pandas in a future version. Use pandas.Index with the appropriate dtype instead.\n"
     ]
    },
    {
     "name": "stdout",
     "output_type": "stream",
     "text": [
      "[12:47:46] WARNING: /Users/runner/miniforge3/conda-bld/xgboost-split_1637426408905/work/src/learner.cc:576: \n",
      "Parameters: { \"early_stopping_rounds\" } might not be used.\n",
      "\n",
      "  This could be a false alarm, with some parameters getting used by language bindings but\n",
      "  then being mistakenly passed down to XGBoost core, or some parameter actually being used\n",
      "  but getting flagged wrongly here. Please open an issue if you find any such cases.\n",
      "\n",
      "\n",
      "Counter({0: 38948, 1: 855})\n",
      "Counter({0: 8550, 1: 855})\n"
     ]
    },
    {
     "name": "stderr",
     "output_type": "stream",
     "text": [
      "The use of label encoder in XGBClassifier is deprecated and will be removed in a future release. To remove this warning, do the following: 1) Pass option use_label_encoder=False when constructing XGBClassifier object; and 2) Encode your labels (y) as integers starting with 0, i.e. 0, 1, 2, ..., [num_class - 1].\n",
      "pandas.Int64Index is deprecated and will be removed from pandas in a future version. Use pandas.Index with the appropriate dtype instead.\n"
     ]
    },
    {
     "data": {
      "text/plain": [
       "Index(['wind_speed', 'track_distance', 'total_houses', 'rainfall_max_6h',\n",
       "       'rainfall_max_24h', 'rwi', 'mean_slope', 'std_slope', 'mean_tri',\n",
       "       'std_tri', 'mean_elev', 'coast_length', 'with_coast', 'urban', 'rural',\n",
       "       'water', 'total_pop', 'percent_houses_damaged_5years'],\n",
       "      dtype='object')"
      ]
     },
     "metadata": {},
     "output_type": "display_data"
    },
    {
     "name": "stderr",
     "output_type": "stream",
     "text": [
      "pandas.Int64Index is deprecated and will be removed from pandas in a future version. Use pandas.Index with the appropriate dtype instead.\n",
      "\n",
      "A value is trying to be set on a copy of a slice from a DataFrame.\n",
      "Try using .loc[row_indexer,col_indexer] = value instead\n",
      "\n",
      "See the caveats in the documentation: https://pandas.pydata.org/pandas-docs/stable/user_guide/indexing.html#returning-a-view-versus-a-copy\n",
      "\n",
      "A value is trying to be set on a copy of a slice from a DataFrame.\n",
      "Try using .loc[row_indexer,col_indexer] = value instead\n",
      "\n",
      "See the caveats in the documentation: https://pandas.pydata.org/pandas-docs/stable/user_guide/indexing.html#returning-a-view-versus-a-copy\n"
     ]
    },
    {
     "name": "stdout",
     "output_type": "stream",
     "text": [
      "[12:47:50] WARNING: /Users/runner/miniforge3/conda-bld/xgboost-split_1637426408905/work/src/learner.cc:576: \n",
      "Parameters: { \"early_stopping_rounds\" } might not be used.\n",
      "\n",
      "  This could be a false alarm, with some parameters getting used by language bindings but\n",
      "  then being mistakenly passed down to XGBoost core, or some parameter actually being used\n",
      "  but getting flagged wrongly here. Please open an issue if you find any such cases.\n",
      "\n",
      "\n",
      "[3.3039230185175996, 3.2251776693928584, 3.2664871102805275, 3.501705402397512, 3.305824252791194, 3.296356918791896, 3.3195800838714224, 3.0013254829172755, 3.390415771118743, 3.397420122675211, 3.1853493658818817, 3.280638126314829, 3.177206168687014, 3.2124364260001848, 3.5248639642950534, 3.077818662641583, 3.2854527233305975, 3.411733347618065, 3.174174390975052, 2.974043700209311, 3.4897638171784475, 3.5492651762098353, 3.34944955399755, 3.4282416663501576, 3.2426885980926214, 3.4395992206393875, 3.371993253233383, 3.2604809673680433, 3.0973052984821194, 3.231039434930128, 3.468242398641255, 3.41091552300152, 3.373100375399568, 3.264861382652408, 3.291763127958453, 3.63062502761599, 3.3486020215435905, 3.332284987588538, 3.6156101314197118, 3.350072976478329, 3.1555112074645724, 3.3029712752061693, 3.2173861242539132, 3.281895934555158, 3.063005708081935, 3.617982256950439, 3.172032396690705, 3.106838301567577, 3.295411254079132, 3.155531981176172, 3.2369918840214096, 3.2019974475449757, 3.1693816105779606, 3.5486421488000808, 3.2667303437252593, 3.3362180711542186, 3.280610379321557, 3.1829717001082467, 3.4826578071966883, 3.3233900573500517, 3.0030990743826407, 3.3106993469834367, 3.343007384342664, 3.0429926601119037, 3.480047741875997, 3.213724536929093, 3.2371056141975902, 3.3637131652502674, 3.1892671401069057, 3.154030707340298, 3.558714948012274, 3.1939848026690303, 3.2856631353966135, 3.300212114156421, 3.2544619562581927, 3.212305041987889, 3.212248404175258, 3.334099971621572, 3.460742919089393, 3.1840901235525725, 3.3145013961711496, 3.212547591158263, 3.1854634769180823, 3.344938898086337, 3.255370642288455, 3.463208742201211, 3.4267269979266404, 3.01667368943443, 3.3070903954943303, 3.3053986238546065]\n"
     ]
    },
    {
     "data": {
      "text/plain": [
       "Index(['wind_speed', 'track_distance', 'total_houses', 'rainfall_max_6h',\n",
       "       'rainfall_max_24h', 'rwi', 'mean_slope', 'std_slope', 'mean_tri',\n",
       "       'std_tri', 'mean_elev', 'coast_length', 'with_coast', 'urban', 'rural',\n",
       "       'water', 'total_pop', 'percent_houses_damaged_5years'],\n",
       "      dtype='object')"
      ]
     },
     "metadata": {},
     "output_type": "display_data"
    },
    {
     "name": "stderr",
     "output_type": "stream",
     "text": [
      "pandas.Int64Index is deprecated and will be removed from pandas in a future version. Use pandas.Index with the appropriate dtype instead.\n"
     ]
    },
    {
     "name": "stdout",
     "output_type": "stream",
     "text": [
      "[12:47:51] WARNING: /Users/runner/miniforge3/conda-bld/xgboost-split_1637426408905/work/src/learner.cc:576: \n",
      "Parameters: { \"early_stopping_rounds\" } might not be used.\n",
      "\n",
      "  This could be a false alarm, with some parameters getting used by language bindings but\n",
      "  then being mistakenly passed down to XGBoost core, or some parameter actually being used\n",
      "  but getting flagged wrongly here. Please open an issue if you find any such cases.\n",
      "\n",
      "\n",
      "Counter({0: 38948, 1: 855})\n",
      "Counter({0: 8550, 1: 855})\n"
     ]
    },
    {
     "name": "stderr",
     "output_type": "stream",
     "text": [
      "The use of label encoder in XGBClassifier is deprecated and will be removed in a future release. To remove this warning, do the following: 1) Pass option use_label_encoder=False when constructing XGBClassifier object; and 2) Encode your labels (y) as integers starting with 0, i.e. 0, 1, 2, ..., [num_class - 1].\n",
      "pandas.Int64Index is deprecated and will be removed from pandas in a future version. Use pandas.Index with the appropriate dtype instead.\n"
     ]
    },
    {
     "data": {
      "text/plain": [
       "Index(['wind_speed', 'track_distance', 'total_houses', 'rainfall_max_6h',\n",
       "       'rainfall_max_24h', 'rwi', 'mean_slope', 'std_slope', 'mean_tri',\n",
       "       'std_tri', 'mean_elev', 'coast_length', 'with_coast', 'urban', 'rural',\n",
       "       'water', 'total_pop', 'percent_houses_damaged_5years'],\n",
       "      dtype='object')"
      ]
     },
     "metadata": {},
     "output_type": "display_data"
    },
    {
     "name": "stderr",
     "output_type": "stream",
     "text": [
      "pandas.Int64Index is deprecated and will be removed from pandas in a future version. Use pandas.Index with the appropriate dtype instead.\n",
      "\n",
      "A value is trying to be set on a copy of a slice from a DataFrame.\n",
      "Try using .loc[row_indexer,col_indexer] = value instead\n",
      "\n",
      "See the caveats in the documentation: https://pandas.pydata.org/pandas-docs/stable/user_guide/indexing.html#returning-a-view-versus-a-copy\n",
      "\n",
      "A value is trying to be set on a copy of a slice from a DataFrame.\n",
      "Try using .loc[row_indexer,col_indexer] = value instead\n",
      "\n",
      "See the caveats in the documentation: https://pandas.pydata.org/pandas-docs/stable/user_guide/indexing.html#returning-a-view-versus-a-copy\n"
     ]
    },
    {
     "name": "stdout",
     "output_type": "stream",
     "text": [
      "[12:47:54] WARNING: /Users/runner/miniforge3/conda-bld/xgboost-split_1637426408905/work/src/learner.cc:576: \n",
      "Parameters: { \"early_stopping_rounds\" } might not be used.\n",
      "\n",
      "  This could be a false alarm, with some parameters getting used by language bindings but\n",
      "  then being mistakenly passed down to XGBoost core, or some parameter actually being used\n",
      "  but getting flagged wrongly here. Please open an issue if you find any such cases.\n",
      "\n",
      "\n",
      "[3.3039230185175996, 3.2251776693928584, 3.2664871102805275, 3.501705402397512, 3.305824252791194, 3.296356918791896, 3.3195800838714224, 3.0013254829172755, 3.390415771118743, 3.397420122675211, 3.1853493658818817, 3.280638126314829, 3.177206168687014, 3.2124364260001848, 3.5248639642950534, 3.077818662641583, 3.2854527233305975, 3.411733347618065, 3.174174390975052, 2.974043700209311, 3.4897638171784475, 3.5492651762098353, 3.34944955399755, 3.4282416663501576, 3.2426885980926214, 3.4395992206393875, 3.371993253233383, 3.2604809673680433, 3.0973052984821194, 3.231039434930128, 3.468242398641255, 3.41091552300152, 3.373100375399568, 3.264861382652408, 3.291763127958453, 3.63062502761599, 3.3486020215435905, 3.332284987588538, 3.6156101314197118, 3.350072976478329, 3.1555112074645724, 3.3029712752061693, 3.2173861242539132, 3.281895934555158, 3.063005708081935, 3.617982256950439, 3.172032396690705, 3.106838301567577, 3.295411254079132, 3.155531981176172, 3.2369918840214096, 3.2019974475449757, 3.1693816105779606, 3.5486421488000808, 3.2667303437252593, 3.3362180711542186, 3.280610379321557, 3.1829717001082467, 3.4826578071966883, 3.3233900573500517, 3.0030990743826407, 3.3106993469834367, 3.343007384342664, 3.0429926601119037, 3.480047741875997, 3.213724536929093, 3.2371056141975902, 3.3637131652502674, 3.1892671401069057, 3.154030707340298, 3.558714948012274, 3.1939848026690303, 3.2856631353966135, 3.300212114156421, 3.2544619562581927, 3.212305041987889, 3.212248404175258, 3.334099971621572, 3.460742919089393, 3.1840901235525725, 3.3145013961711496, 3.212547591158263, 3.1854634769180823, 3.344938898086337, 3.255370642288455, 3.463208742201211, 3.4267269979266404, 3.01667368943443, 3.3070903954943303, 3.3053986238546065, 3.354718638270899]\n"
     ]
    },
    {
     "data": {
      "text/plain": [
       "Index(['wind_speed', 'track_distance', 'total_houses', 'rainfall_max_6h',\n",
       "       'rainfall_max_24h', 'rwi', 'mean_slope', 'std_slope', 'mean_tri',\n",
       "       'std_tri', 'mean_elev', 'coast_length', 'with_coast', 'urban', 'rural',\n",
       "       'water', 'total_pop', 'percent_houses_damaged_5years'],\n",
       "      dtype='object')"
      ]
     },
     "metadata": {},
     "output_type": "display_data"
    },
    {
     "name": "stderr",
     "output_type": "stream",
     "text": [
      "pandas.Int64Index is deprecated and will be removed from pandas in a future version. Use pandas.Index with the appropriate dtype instead.\n"
     ]
    },
    {
     "name": "stdout",
     "output_type": "stream",
     "text": [
      "[12:47:55] WARNING: /Users/runner/miniforge3/conda-bld/xgboost-split_1637426408905/work/src/learner.cc:576: \n",
      "Parameters: { \"early_stopping_rounds\" } might not be used.\n",
      "\n",
      "  This could be a false alarm, with some parameters getting used by language bindings but\n",
      "  then being mistakenly passed down to XGBoost core, or some parameter actually being used\n",
      "  but getting flagged wrongly here. Please open an issue if you find any such cases.\n",
      "\n",
      "\n",
      "Counter({0: 38948, 1: 855})\n",
      "Counter({0: 8550, 1: 855})\n"
     ]
    },
    {
     "name": "stderr",
     "output_type": "stream",
     "text": [
      "The use of label encoder in XGBClassifier is deprecated and will be removed in a future release. To remove this warning, do the following: 1) Pass option use_label_encoder=False when constructing XGBClassifier object; and 2) Encode your labels (y) as integers starting with 0, i.e. 0, 1, 2, ..., [num_class - 1].\n",
      "pandas.Int64Index is deprecated and will be removed from pandas in a future version. Use pandas.Index with the appropriate dtype instead.\n"
     ]
    },
    {
     "data": {
      "text/plain": [
       "Index(['wind_speed', 'track_distance', 'total_houses', 'rainfall_max_6h',\n",
       "       'rainfall_max_24h', 'rwi', 'mean_slope', 'std_slope', 'mean_tri',\n",
       "       'std_tri', 'mean_elev', 'coast_length', 'with_coast', 'urban', 'rural',\n",
       "       'water', 'total_pop', 'percent_houses_damaged_5years'],\n",
       "      dtype='object')"
      ]
     },
     "metadata": {},
     "output_type": "display_data"
    },
    {
     "name": "stderr",
     "output_type": "stream",
     "text": [
      "pandas.Int64Index is deprecated and will be removed from pandas in a future version. Use pandas.Index with the appropriate dtype instead.\n",
      "\n",
      "A value is trying to be set on a copy of a slice from a DataFrame.\n",
      "Try using .loc[row_indexer,col_indexer] = value instead\n",
      "\n",
      "See the caveats in the documentation: https://pandas.pydata.org/pandas-docs/stable/user_guide/indexing.html#returning-a-view-versus-a-copy\n",
      "\n",
      "A value is trying to be set on a copy of a slice from a DataFrame.\n",
      "Try using .loc[row_indexer,col_indexer] = value instead\n",
      "\n",
      "See the caveats in the documentation: https://pandas.pydata.org/pandas-docs/stable/user_guide/indexing.html#returning-a-view-versus-a-copy\n"
     ]
    },
    {
     "name": "stdout",
     "output_type": "stream",
     "text": [
      "[12:47:58] WARNING: /Users/runner/miniforge3/conda-bld/xgboost-split_1637426408905/work/src/learner.cc:576: \n",
      "Parameters: { \"early_stopping_rounds\" } might not be used.\n",
      "\n",
      "  This could be a false alarm, with some parameters getting used by language bindings but\n",
      "  then being mistakenly passed down to XGBoost core, or some parameter actually being used\n",
      "  but getting flagged wrongly here. Please open an issue if you find any such cases.\n",
      "\n",
      "\n",
      "[3.3039230185175996, 3.2251776693928584, 3.2664871102805275, 3.501705402397512, 3.305824252791194, 3.296356918791896, 3.3195800838714224, 3.0013254829172755, 3.390415771118743, 3.397420122675211, 3.1853493658818817, 3.280638126314829, 3.177206168687014, 3.2124364260001848, 3.5248639642950534, 3.077818662641583, 3.2854527233305975, 3.411733347618065, 3.174174390975052, 2.974043700209311, 3.4897638171784475, 3.5492651762098353, 3.34944955399755, 3.4282416663501576, 3.2426885980926214, 3.4395992206393875, 3.371993253233383, 3.2604809673680433, 3.0973052984821194, 3.231039434930128, 3.468242398641255, 3.41091552300152, 3.373100375399568, 3.264861382652408, 3.291763127958453, 3.63062502761599, 3.3486020215435905, 3.332284987588538, 3.6156101314197118, 3.350072976478329, 3.1555112074645724, 3.3029712752061693, 3.2173861242539132, 3.281895934555158, 3.063005708081935, 3.617982256950439, 3.172032396690705, 3.106838301567577, 3.295411254079132, 3.155531981176172, 3.2369918840214096, 3.2019974475449757, 3.1693816105779606, 3.5486421488000808, 3.2667303437252593, 3.3362180711542186, 3.280610379321557, 3.1829717001082467, 3.4826578071966883, 3.3233900573500517, 3.0030990743826407, 3.3106993469834367, 3.343007384342664, 3.0429926601119037, 3.480047741875997, 3.213724536929093, 3.2371056141975902, 3.3637131652502674, 3.1892671401069057, 3.154030707340298, 3.558714948012274, 3.1939848026690303, 3.2856631353966135, 3.300212114156421, 3.2544619562581927, 3.212305041987889, 3.212248404175258, 3.334099971621572, 3.460742919089393, 3.1840901235525725, 3.3145013961711496, 3.212547591158263, 3.1854634769180823, 3.344938898086337, 3.255370642288455, 3.463208742201211, 3.4267269979266404, 3.01667368943443, 3.3070903954943303, 3.3053986238546065, 3.354718638270899, 3.3230168844594035]\n"
     ]
    },
    {
     "data": {
      "text/plain": [
       "Index(['wind_speed', 'track_distance', 'total_houses', 'rainfall_max_6h',\n",
       "       'rainfall_max_24h', 'rwi', 'mean_slope', 'std_slope', 'mean_tri',\n",
       "       'std_tri', 'mean_elev', 'coast_length', 'with_coast', 'urban', 'rural',\n",
       "       'water', 'total_pop', 'percent_houses_damaged_5years'],\n",
       "      dtype='object')"
      ]
     },
     "metadata": {},
     "output_type": "display_data"
    },
    {
     "name": "stderr",
     "output_type": "stream",
     "text": [
      "pandas.Int64Index is deprecated and will be removed from pandas in a future version. Use pandas.Index with the appropriate dtype instead.\n"
     ]
    },
    {
     "name": "stdout",
     "output_type": "stream",
     "text": [
      "[12:48:00] WARNING: /Users/runner/miniforge3/conda-bld/xgboost-split_1637426408905/work/src/learner.cc:576: \n",
      "Parameters: { \"early_stopping_rounds\" } might not be used.\n",
      "\n",
      "  This could be a false alarm, with some parameters getting used by language bindings but\n",
      "  then being mistakenly passed down to XGBoost core, or some parameter actually being used\n",
      "  but getting flagged wrongly here. Please open an issue if you find any such cases.\n",
      "\n",
      "\n",
      "Counter({0: 38948, 1: 855})\n",
      "Counter({0: 8550, 1: 855})\n"
     ]
    },
    {
     "name": "stderr",
     "output_type": "stream",
     "text": [
      "The use of label encoder in XGBClassifier is deprecated and will be removed in a future release. To remove this warning, do the following: 1) Pass option use_label_encoder=False when constructing XGBClassifier object; and 2) Encode your labels (y) as integers starting with 0, i.e. 0, 1, 2, ..., [num_class - 1].\n",
      "pandas.Int64Index is deprecated and will be removed from pandas in a future version. Use pandas.Index with the appropriate dtype instead.\n"
     ]
    },
    {
     "data": {
      "text/plain": [
       "Index(['wind_speed', 'track_distance', 'total_houses', 'rainfall_max_6h',\n",
       "       'rainfall_max_24h', 'rwi', 'mean_slope', 'std_slope', 'mean_tri',\n",
       "       'std_tri', 'mean_elev', 'coast_length', 'with_coast', 'urban', 'rural',\n",
       "       'water', 'total_pop', 'percent_houses_damaged_5years'],\n",
       "      dtype='object')"
      ]
     },
     "metadata": {},
     "output_type": "display_data"
    },
    {
     "name": "stderr",
     "output_type": "stream",
     "text": [
      "pandas.Int64Index is deprecated and will be removed from pandas in a future version. Use pandas.Index with the appropriate dtype instead.\n",
      "\n",
      "A value is trying to be set on a copy of a slice from a DataFrame.\n",
      "Try using .loc[row_indexer,col_indexer] = value instead\n",
      "\n",
      "See the caveats in the documentation: https://pandas.pydata.org/pandas-docs/stable/user_guide/indexing.html#returning-a-view-versus-a-copy\n",
      "\n",
      "A value is trying to be set on a copy of a slice from a DataFrame.\n",
      "Try using .loc[row_indexer,col_indexer] = value instead\n",
      "\n",
      "See the caveats in the documentation: https://pandas.pydata.org/pandas-docs/stable/user_guide/indexing.html#returning-a-view-versus-a-copy\n"
     ]
    },
    {
     "name": "stdout",
     "output_type": "stream",
     "text": [
      "[12:48:03] WARNING: /Users/runner/miniforge3/conda-bld/xgboost-split_1637426408905/work/src/learner.cc:576: \n",
      "Parameters: { \"early_stopping_rounds\" } might not be used.\n",
      "\n",
      "  This could be a false alarm, with some parameters getting used by language bindings but\n",
      "  then being mistakenly passed down to XGBoost core, or some parameter actually being used\n",
      "  but getting flagged wrongly here. Please open an issue if you find any such cases.\n",
      "\n",
      "\n",
      "[3.3039230185175996, 3.2251776693928584, 3.2664871102805275, 3.501705402397512, 3.305824252791194, 3.296356918791896, 3.3195800838714224, 3.0013254829172755, 3.390415771118743, 3.397420122675211, 3.1853493658818817, 3.280638126314829, 3.177206168687014, 3.2124364260001848, 3.5248639642950534, 3.077818662641583, 3.2854527233305975, 3.411733347618065, 3.174174390975052, 2.974043700209311, 3.4897638171784475, 3.5492651762098353, 3.34944955399755, 3.4282416663501576, 3.2426885980926214, 3.4395992206393875, 3.371993253233383, 3.2604809673680433, 3.0973052984821194, 3.231039434930128, 3.468242398641255, 3.41091552300152, 3.373100375399568, 3.264861382652408, 3.291763127958453, 3.63062502761599, 3.3486020215435905, 3.332284987588538, 3.6156101314197118, 3.350072976478329, 3.1555112074645724, 3.3029712752061693, 3.2173861242539132, 3.281895934555158, 3.063005708081935, 3.617982256950439, 3.172032396690705, 3.106838301567577, 3.295411254079132, 3.155531981176172, 3.2369918840214096, 3.2019974475449757, 3.1693816105779606, 3.5486421488000808, 3.2667303437252593, 3.3362180711542186, 3.280610379321557, 3.1829717001082467, 3.4826578071966883, 3.3233900573500517, 3.0030990743826407, 3.3106993469834367, 3.343007384342664, 3.0429926601119037, 3.480047741875997, 3.213724536929093, 3.2371056141975902, 3.3637131652502674, 3.1892671401069057, 3.154030707340298, 3.558714948012274, 3.1939848026690303, 3.2856631353966135, 3.300212114156421, 3.2544619562581927, 3.212305041987889, 3.212248404175258, 3.334099971621572, 3.460742919089393, 3.1840901235525725, 3.3145013961711496, 3.212547591158263, 3.1854634769180823, 3.344938898086337, 3.255370642288455, 3.463208742201211, 3.4267269979266404, 3.01667368943443, 3.3070903954943303, 3.3053986238546065, 3.354718638270899, 3.3230168844594035, 3.0349504918094135]\n"
     ]
    },
    {
     "data": {
      "text/plain": [
       "Index(['wind_speed', 'track_distance', 'total_houses', 'rainfall_max_6h',\n",
       "       'rainfall_max_24h', 'rwi', 'mean_slope', 'std_slope', 'mean_tri',\n",
       "       'std_tri', 'mean_elev', 'coast_length', 'with_coast', 'urban', 'rural',\n",
       "       'water', 'total_pop', 'percent_houses_damaged_5years'],\n",
       "      dtype='object')"
      ]
     },
     "metadata": {},
     "output_type": "display_data"
    },
    {
     "name": "stderr",
     "output_type": "stream",
     "text": [
      "pandas.Int64Index is deprecated and will be removed from pandas in a future version. Use pandas.Index with the appropriate dtype instead.\n"
     ]
    },
    {
     "name": "stdout",
     "output_type": "stream",
     "text": [
      "[12:48:04] WARNING: /Users/runner/miniforge3/conda-bld/xgboost-split_1637426408905/work/src/learner.cc:576: \n",
      "Parameters: { \"early_stopping_rounds\" } might not be used.\n",
      "\n",
      "  This could be a false alarm, with some parameters getting used by language bindings but\n",
      "  then being mistakenly passed down to XGBoost core, or some parameter actually being used\n",
      "  but getting flagged wrongly here. Please open an issue if you find any such cases.\n",
      "\n",
      "\n",
      "Counter({0: 38948, 1: 855})\n",
      "Counter({0: 8550, 1: 855})\n"
     ]
    },
    {
     "name": "stderr",
     "output_type": "stream",
     "text": [
      "The use of label encoder in XGBClassifier is deprecated and will be removed in a future release. To remove this warning, do the following: 1) Pass option use_label_encoder=False when constructing XGBClassifier object; and 2) Encode your labels (y) as integers starting with 0, i.e. 0, 1, 2, ..., [num_class - 1].\n",
      "pandas.Int64Index is deprecated and will be removed from pandas in a future version. Use pandas.Index with the appropriate dtype instead.\n"
     ]
    },
    {
     "data": {
      "text/plain": [
       "Index(['wind_speed', 'track_distance', 'total_houses', 'rainfall_max_6h',\n",
       "       'rainfall_max_24h', 'rwi', 'mean_slope', 'std_slope', 'mean_tri',\n",
       "       'std_tri', 'mean_elev', 'coast_length', 'with_coast', 'urban', 'rural',\n",
       "       'water', 'total_pop', 'percent_houses_damaged_5years'],\n",
       "      dtype='object')"
      ]
     },
     "metadata": {},
     "output_type": "display_data"
    },
    {
     "name": "stderr",
     "output_type": "stream",
     "text": [
      "pandas.Int64Index is deprecated and will be removed from pandas in a future version. Use pandas.Index with the appropriate dtype instead.\n",
      "\n",
      "A value is trying to be set on a copy of a slice from a DataFrame.\n",
      "Try using .loc[row_indexer,col_indexer] = value instead\n",
      "\n",
      "See the caveats in the documentation: https://pandas.pydata.org/pandas-docs/stable/user_guide/indexing.html#returning-a-view-versus-a-copy\n",
      "\n",
      "A value is trying to be set on a copy of a slice from a DataFrame.\n",
      "Try using .loc[row_indexer,col_indexer] = value instead\n",
      "\n",
      "See the caveats in the documentation: https://pandas.pydata.org/pandas-docs/stable/user_guide/indexing.html#returning-a-view-versus-a-copy\n"
     ]
    },
    {
     "name": "stdout",
     "output_type": "stream",
     "text": [
      "[12:48:07] WARNING: /Users/runner/miniforge3/conda-bld/xgboost-split_1637426408905/work/src/learner.cc:576: \n",
      "Parameters: { \"early_stopping_rounds\" } might not be used.\n",
      "\n",
      "  This could be a false alarm, with some parameters getting used by language bindings but\n",
      "  then being mistakenly passed down to XGBoost core, or some parameter actually being used\n",
      "  but getting flagged wrongly here. Please open an issue if you find any such cases.\n",
      "\n",
      "\n",
      "[3.3039230185175996, 3.2251776693928584, 3.2664871102805275, 3.501705402397512, 3.305824252791194, 3.296356918791896, 3.3195800838714224, 3.0013254829172755, 3.390415771118743, 3.397420122675211, 3.1853493658818817, 3.280638126314829, 3.177206168687014, 3.2124364260001848, 3.5248639642950534, 3.077818662641583, 3.2854527233305975, 3.411733347618065, 3.174174390975052, 2.974043700209311, 3.4897638171784475, 3.5492651762098353, 3.34944955399755, 3.4282416663501576, 3.2426885980926214, 3.4395992206393875, 3.371993253233383, 3.2604809673680433, 3.0973052984821194, 3.231039434930128, 3.468242398641255, 3.41091552300152, 3.373100375399568, 3.264861382652408, 3.291763127958453, 3.63062502761599, 3.3486020215435905, 3.332284987588538, 3.6156101314197118, 3.350072976478329, 3.1555112074645724, 3.3029712752061693, 3.2173861242539132, 3.281895934555158, 3.063005708081935, 3.617982256950439, 3.172032396690705, 3.106838301567577, 3.295411254079132, 3.155531981176172, 3.2369918840214096, 3.2019974475449757, 3.1693816105779606, 3.5486421488000808, 3.2667303437252593, 3.3362180711542186, 3.280610379321557, 3.1829717001082467, 3.4826578071966883, 3.3233900573500517, 3.0030990743826407, 3.3106993469834367, 3.343007384342664, 3.0429926601119037, 3.480047741875997, 3.213724536929093, 3.2371056141975902, 3.3637131652502674, 3.1892671401069057, 3.154030707340298, 3.558714948012274, 3.1939848026690303, 3.2856631353966135, 3.300212114156421, 3.2544619562581927, 3.212305041987889, 3.212248404175258, 3.334099971621572, 3.460742919089393, 3.1840901235525725, 3.3145013961711496, 3.212547591158263, 3.1854634769180823, 3.344938898086337, 3.255370642288455, 3.463208742201211, 3.4267269979266404, 3.01667368943443, 3.3070903954943303, 3.3053986238546065, 3.354718638270899, 3.3230168844594035, 3.0349504918094135, 3.239195029586277]\n"
     ]
    },
    {
     "data": {
      "text/plain": [
       "Index(['wind_speed', 'track_distance', 'total_houses', 'rainfall_max_6h',\n",
       "       'rainfall_max_24h', 'rwi', 'mean_slope', 'std_slope', 'mean_tri',\n",
       "       'std_tri', 'mean_elev', 'coast_length', 'with_coast', 'urban', 'rural',\n",
       "       'water', 'total_pop', 'percent_houses_damaged_5years'],\n",
       "      dtype='object')"
      ]
     },
     "metadata": {},
     "output_type": "display_data"
    },
    {
     "name": "stderr",
     "output_type": "stream",
     "text": [
      "pandas.Int64Index is deprecated and will be removed from pandas in a future version. Use pandas.Index with the appropriate dtype instead.\n"
     ]
    },
    {
     "name": "stdout",
     "output_type": "stream",
     "text": [
      "[12:48:09] WARNING: /Users/runner/miniforge3/conda-bld/xgboost-split_1637426408905/work/src/learner.cc:576: \n",
      "Parameters: { \"early_stopping_rounds\" } might not be used.\n",
      "\n",
      "  This could be a false alarm, with some parameters getting used by language bindings but\n",
      "  then being mistakenly passed down to XGBoost core, or some parameter actually being used\n",
      "  but getting flagged wrongly here. Please open an issue if you find any such cases.\n",
      "\n",
      "\n",
      "Counter({0: 38948, 1: 855})\n",
      "Counter({0: 8550, 1: 855})\n"
     ]
    },
    {
     "name": "stderr",
     "output_type": "stream",
     "text": [
      "The use of label encoder in XGBClassifier is deprecated and will be removed in a future release. To remove this warning, do the following: 1) Pass option use_label_encoder=False when constructing XGBClassifier object; and 2) Encode your labels (y) as integers starting with 0, i.e. 0, 1, 2, ..., [num_class - 1].\n",
      "pandas.Int64Index is deprecated and will be removed from pandas in a future version. Use pandas.Index with the appropriate dtype instead.\n"
     ]
    },
    {
     "data": {
      "text/plain": [
       "Index(['wind_speed', 'track_distance', 'total_houses', 'rainfall_max_6h',\n",
       "       'rainfall_max_24h', 'rwi', 'mean_slope', 'std_slope', 'mean_tri',\n",
       "       'std_tri', 'mean_elev', 'coast_length', 'with_coast', 'urban', 'rural',\n",
       "       'water', 'total_pop', 'percent_houses_damaged_5years'],\n",
       "      dtype='object')"
      ]
     },
     "metadata": {},
     "output_type": "display_data"
    },
    {
     "name": "stderr",
     "output_type": "stream",
     "text": [
      "pandas.Int64Index is deprecated and will be removed from pandas in a future version. Use pandas.Index with the appropriate dtype instead.\n",
      "\n",
      "A value is trying to be set on a copy of a slice from a DataFrame.\n",
      "Try using .loc[row_indexer,col_indexer] = value instead\n",
      "\n",
      "See the caveats in the documentation: https://pandas.pydata.org/pandas-docs/stable/user_guide/indexing.html#returning-a-view-versus-a-copy\n",
      "\n",
      "A value is trying to be set on a copy of a slice from a DataFrame.\n",
      "Try using .loc[row_indexer,col_indexer] = value instead\n",
      "\n",
      "See the caveats in the documentation: https://pandas.pydata.org/pandas-docs/stable/user_guide/indexing.html#returning-a-view-versus-a-copy\n"
     ]
    },
    {
     "name": "stdout",
     "output_type": "stream",
     "text": [
      "[12:48:12] WARNING: /Users/runner/miniforge3/conda-bld/xgboost-split_1637426408905/work/src/learner.cc:576: \n",
      "Parameters: { \"early_stopping_rounds\" } might not be used.\n",
      "\n",
      "  This could be a false alarm, with some parameters getting used by language bindings but\n",
      "  then being mistakenly passed down to XGBoost core, or some parameter actually being used\n",
      "  but getting flagged wrongly here. Please open an issue if you find any such cases.\n",
      "\n",
      "\n",
      "[3.3039230185175996, 3.2251776693928584, 3.2664871102805275, 3.501705402397512, 3.305824252791194, 3.296356918791896, 3.3195800838714224, 3.0013254829172755, 3.390415771118743, 3.397420122675211, 3.1853493658818817, 3.280638126314829, 3.177206168687014, 3.2124364260001848, 3.5248639642950534, 3.077818662641583, 3.2854527233305975, 3.411733347618065, 3.174174390975052, 2.974043700209311, 3.4897638171784475, 3.5492651762098353, 3.34944955399755, 3.4282416663501576, 3.2426885980926214, 3.4395992206393875, 3.371993253233383, 3.2604809673680433, 3.0973052984821194, 3.231039434930128, 3.468242398641255, 3.41091552300152, 3.373100375399568, 3.264861382652408, 3.291763127958453, 3.63062502761599, 3.3486020215435905, 3.332284987588538, 3.6156101314197118, 3.350072976478329, 3.1555112074645724, 3.3029712752061693, 3.2173861242539132, 3.281895934555158, 3.063005708081935, 3.617982256950439, 3.172032396690705, 3.106838301567577, 3.295411254079132, 3.155531981176172, 3.2369918840214096, 3.2019974475449757, 3.1693816105779606, 3.5486421488000808, 3.2667303437252593, 3.3362180711542186, 3.280610379321557, 3.1829717001082467, 3.4826578071966883, 3.3233900573500517, 3.0030990743826407, 3.3106993469834367, 3.343007384342664, 3.0429926601119037, 3.480047741875997, 3.213724536929093, 3.2371056141975902, 3.3637131652502674, 3.1892671401069057, 3.154030707340298, 3.558714948012274, 3.1939848026690303, 3.2856631353966135, 3.300212114156421, 3.2544619562581927, 3.212305041987889, 3.212248404175258, 3.334099971621572, 3.460742919089393, 3.1840901235525725, 3.3145013961711496, 3.212547591158263, 3.1854634769180823, 3.344938898086337, 3.255370642288455, 3.463208742201211, 3.4267269979266404, 3.01667368943443, 3.3070903954943303, 3.3053986238546065, 3.354718638270899, 3.3230168844594035, 3.0349504918094135, 3.239195029586277, 3.3510645174891907]\n"
     ]
    },
    {
     "data": {
      "text/plain": [
       "Index(['wind_speed', 'track_distance', 'total_houses', 'rainfall_max_6h',\n",
       "       'rainfall_max_24h', 'rwi', 'mean_slope', 'std_slope', 'mean_tri',\n",
       "       'std_tri', 'mean_elev', 'coast_length', 'with_coast', 'urban', 'rural',\n",
       "       'water', 'total_pop', 'percent_houses_damaged_5years'],\n",
       "      dtype='object')"
      ]
     },
     "metadata": {},
     "output_type": "display_data"
    },
    {
     "name": "stderr",
     "output_type": "stream",
     "text": [
      "pandas.Int64Index is deprecated and will be removed from pandas in a future version. Use pandas.Index with the appropriate dtype instead.\n"
     ]
    },
    {
     "name": "stdout",
     "output_type": "stream",
     "text": [
      "[12:48:13] WARNING: /Users/runner/miniforge3/conda-bld/xgboost-split_1637426408905/work/src/learner.cc:576: \n",
      "Parameters: { \"early_stopping_rounds\" } might not be used.\n",
      "\n",
      "  This could be a false alarm, with some parameters getting used by language bindings but\n",
      "  then being mistakenly passed down to XGBoost core, or some parameter actually being used\n",
      "  but getting flagged wrongly here. Please open an issue if you find any such cases.\n",
      "\n",
      "\n",
      "Counter({0: 38948, 1: 855})\n",
      "Counter({0: 8550, 1: 855})\n"
     ]
    },
    {
     "name": "stderr",
     "output_type": "stream",
     "text": [
      "The use of label encoder in XGBClassifier is deprecated and will be removed in a future release. To remove this warning, do the following: 1) Pass option use_label_encoder=False when constructing XGBClassifier object; and 2) Encode your labels (y) as integers starting with 0, i.e. 0, 1, 2, ..., [num_class - 1].\n",
      "pandas.Int64Index is deprecated and will be removed from pandas in a future version. Use pandas.Index with the appropriate dtype instead.\n"
     ]
    },
    {
     "data": {
      "text/plain": [
       "Index(['wind_speed', 'track_distance', 'total_houses', 'rainfall_max_6h',\n",
       "       'rainfall_max_24h', 'rwi', 'mean_slope', 'std_slope', 'mean_tri',\n",
       "       'std_tri', 'mean_elev', 'coast_length', 'with_coast', 'urban', 'rural',\n",
       "       'water', 'total_pop', 'percent_houses_damaged_5years'],\n",
       "      dtype='object')"
      ]
     },
     "metadata": {},
     "output_type": "display_data"
    },
    {
     "name": "stderr",
     "output_type": "stream",
     "text": [
      "pandas.Int64Index is deprecated and will be removed from pandas in a future version. Use pandas.Index with the appropriate dtype instead.\n",
      "\n",
      "A value is trying to be set on a copy of a slice from a DataFrame.\n",
      "Try using .loc[row_indexer,col_indexer] = value instead\n",
      "\n",
      "See the caveats in the documentation: https://pandas.pydata.org/pandas-docs/stable/user_guide/indexing.html#returning-a-view-versus-a-copy\n",
      "\n",
      "A value is trying to be set on a copy of a slice from a DataFrame.\n",
      "Try using .loc[row_indexer,col_indexer] = value instead\n",
      "\n",
      "See the caveats in the documentation: https://pandas.pydata.org/pandas-docs/stable/user_guide/indexing.html#returning-a-view-versus-a-copy\n"
     ]
    },
    {
     "name": "stdout",
     "output_type": "stream",
     "text": [
      "[12:48:16] WARNING: /Users/runner/miniforge3/conda-bld/xgboost-split_1637426408905/work/src/learner.cc:576: \n",
      "Parameters: { \"early_stopping_rounds\" } might not be used.\n",
      "\n",
      "  This could be a false alarm, with some parameters getting used by language bindings but\n",
      "  then being mistakenly passed down to XGBoost core, or some parameter actually being used\n",
      "  but getting flagged wrongly here. Please open an issue if you find any such cases.\n",
      "\n",
      "\n",
      "[3.3039230185175996, 3.2251776693928584, 3.2664871102805275, 3.501705402397512, 3.305824252791194, 3.296356918791896, 3.3195800838714224, 3.0013254829172755, 3.390415771118743, 3.397420122675211, 3.1853493658818817, 3.280638126314829, 3.177206168687014, 3.2124364260001848, 3.5248639642950534, 3.077818662641583, 3.2854527233305975, 3.411733347618065, 3.174174390975052, 2.974043700209311, 3.4897638171784475, 3.5492651762098353, 3.34944955399755, 3.4282416663501576, 3.2426885980926214, 3.4395992206393875, 3.371993253233383, 3.2604809673680433, 3.0973052984821194, 3.231039434930128, 3.468242398641255, 3.41091552300152, 3.373100375399568, 3.264861382652408, 3.291763127958453, 3.63062502761599, 3.3486020215435905, 3.332284987588538, 3.6156101314197118, 3.350072976478329, 3.1555112074645724, 3.3029712752061693, 3.2173861242539132, 3.281895934555158, 3.063005708081935, 3.617982256950439, 3.172032396690705, 3.106838301567577, 3.295411254079132, 3.155531981176172, 3.2369918840214096, 3.2019974475449757, 3.1693816105779606, 3.5486421488000808, 3.2667303437252593, 3.3362180711542186, 3.280610379321557, 3.1829717001082467, 3.4826578071966883, 3.3233900573500517, 3.0030990743826407, 3.3106993469834367, 3.343007384342664, 3.0429926601119037, 3.480047741875997, 3.213724536929093, 3.2371056141975902, 3.3637131652502674, 3.1892671401069057, 3.154030707340298, 3.558714948012274, 3.1939848026690303, 3.2856631353966135, 3.300212114156421, 3.2544619562581927, 3.212305041987889, 3.212248404175258, 3.334099971621572, 3.460742919089393, 3.1840901235525725, 3.3145013961711496, 3.212547591158263, 3.1854634769180823, 3.344938898086337, 3.255370642288455, 3.463208742201211, 3.4267269979266404, 3.01667368943443, 3.3070903954943303, 3.3053986238546065, 3.354718638270899, 3.3230168844594035, 3.0349504918094135, 3.239195029586277, 3.3510645174891907, 3.4208533519989874]\n"
     ]
    },
    {
     "data": {
      "text/plain": [
       "Index(['wind_speed', 'track_distance', 'total_houses', 'rainfall_max_6h',\n",
       "       'rainfall_max_24h', 'rwi', 'mean_slope', 'std_slope', 'mean_tri',\n",
       "       'std_tri', 'mean_elev', 'coast_length', 'with_coast', 'urban', 'rural',\n",
       "       'water', 'total_pop', 'percent_houses_damaged_5years'],\n",
       "      dtype='object')"
      ]
     },
     "metadata": {},
     "output_type": "display_data"
    },
    {
     "name": "stderr",
     "output_type": "stream",
     "text": [
      "pandas.Int64Index is deprecated and will be removed from pandas in a future version. Use pandas.Index with the appropriate dtype instead.\n"
     ]
    },
    {
     "name": "stdout",
     "output_type": "stream",
     "text": [
      "[12:48:17] WARNING: /Users/runner/miniforge3/conda-bld/xgboost-split_1637426408905/work/src/learner.cc:576: \n",
      "Parameters: { \"early_stopping_rounds\" } might not be used.\n",
      "\n",
      "  This could be a false alarm, with some parameters getting used by language bindings but\n",
      "  then being mistakenly passed down to XGBoost core, or some parameter actually being used\n",
      "  but getting flagged wrongly here. Please open an issue if you find any such cases.\n",
      "\n",
      "\n",
      "Counter({0: 38948, 1: 855})\n",
      "Counter({0: 8550, 1: 855})\n"
     ]
    },
    {
     "name": "stderr",
     "output_type": "stream",
     "text": [
      "The use of label encoder in XGBClassifier is deprecated and will be removed in a future release. To remove this warning, do the following: 1) Pass option use_label_encoder=False when constructing XGBClassifier object; and 2) Encode your labels (y) as integers starting with 0, i.e. 0, 1, 2, ..., [num_class - 1].\n",
      "pandas.Int64Index is deprecated and will be removed from pandas in a future version. Use pandas.Index with the appropriate dtype instead.\n"
     ]
    },
    {
     "data": {
      "text/plain": [
       "Index(['wind_speed', 'track_distance', 'total_houses', 'rainfall_max_6h',\n",
       "       'rainfall_max_24h', 'rwi', 'mean_slope', 'std_slope', 'mean_tri',\n",
       "       'std_tri', 'mean_elev', 'coast_length', 'with_coast', 'urban', 'rural',\n",
       "       'water', 'total_pop', 'percent_houses_damaged_5years'],\n",
       "      dtype='object')"
      ]
     },
     "metadata": {},
     "output_type": "display_data"
    },
    {
     "name": "stderr",
     "output_type": "stream",
     "text": [
      "pandas.Int64Index is deprecated and will be removed from pandas in a future version. Use pandas.Index with the appropriate dtype instead.\n",
      "\n",
      "A value is trying to be set on a copy of a slice from a DataFrame.\n",
      "Try using .loc[row_indexer,col_indexer] = value instead\n",
      "\n",
      "See the caveats in the documentation: https://pandas.pydata.org/pandas-docs/stable/user_guide/indexing.html#returning-a-view-versus-a-copy\n",
      "\n",
      "A value is trying to be set on a copy of a slice from a DataFrame.\n",
      "Try using .loc[row_indexer,col_indexer] = value instead\n",
      "\n",
      "See the caveats in the documentation: https://pandas.pydata.org/pandas-docs/stable/user_guide/indexing.html#returning-a-view-versus-a-copy\n"
     ]
    },
    {
     "name": "stdout",
     "output_type": "stream",
     "text": [
      "[12:48:21] WARNING: /Users/runner/miniforge3/conda-bld/xgboost-split_1637426408905/work/src/learner.cc:576: \n",
      "Parameters: { \"early_stopping_rounds\" } might not be used.\n",
      "\n",
      "  This could be a false alarm, with some parameters getting used by language bindings but\n",
      "  then being mistakenly passed down to XGBoost core, or some parameter actually being used\n",
      "  but getting flagged wrongly here. Please open an issue if you find any such cases.\n",
      "\n",
      "\n",
      "[3.3039230185175996, 3.2251776693928584, 3.2664871102805275, 3.501705402397512, 3.305824252791194, 3.296356918791896, 3.3195800838714224, 3.0013254829172755, 3.390415771118743, 3.397420122675211, 3.1853493658818817, 3.280638126314829, 3.177206168687014, 3.2124364260001848, 3.5248639642950534, 3.077818662641583, 3.2854527233305975, 3.411733347618065, 3.174174390975052, 2.974043700209311, 3.4897638171784475, 3.5492651762098353, 3.34944955399755, 3.4282416663501576, 3.2426885980926214, 3.4395992206393875, 3.371993253233383, 3.2604809673680433, 3.0973052984821194, 3.231039434930128, 3.468242398641255, 3.41091552300152, 3.373100375399568, 3.264861382652408, 3.291763127958453, 3.63062502761599, 3.3486020215435905, 3.332284987588538, 3.6156101314197118, 3.350072976478329, 3.1555112074645724, 3.3029712752061693, 3.2173861242539132, 3.281895934555158, 3.063005708081935, 3.617982256950439, 3.172032396690705, 3.106838301567577, 3.295411254079132, 3.155531981176172, 3.2369918840214096, 3.2019974475449757, 3.1693816105779606, 3.5486421488000808, 3.2667303437252593, 3.3362180711542186, 3.280610379321557, 3.1829717001082467, 3.4826578071966883, 3.3233900573500517, 3.0030990743826407, 3.3106993469834367, 3.343007384342664, 3.0429926601119037, 3.480047741875997, 3.213724536929093, 3.2371056141975902, 3.3637131652502674, 3.1892671401069057, 3.154030707340298, 3.558714948012274, 3.1939848026690303, 3.2856631353966135, 3.300212114156421, 3.2544619562581927, 3.212305041987889, 3.212248404175258, 3.334099971621572, 3.460742919089393, 3.1840901235525725, 3.3145013961711496, 3.212547591158263, 3.1854634769180823, 3.344938898086337, 3.255370642288455, 3.463208742201211, 3.4267269979266404, 3.01667368943443, 3.3070903954943303, 3.3053986238546065, 3.354718638270899, 3.3230168844594035, 3.0349504918094135, 3.239195029586277, 3.3510645174891907, 3.4208533519989874, 3.0978543176956017]\n"
     ]
    },
    {
     "data": {
      "text/plain": [
       "Index(['wind_speed', 'track_distance', 'total_houses', 'rainfall_max_6h',\n",
       "       'rainfall_max_24h', 'rwi', 'mean_slope', 'std_slope', 'mean_tri',\n",
       "       'std_tri', 'mean_elev', 'coast_length', 'with_coast', 'urban', 'rural',\n",
       "       'water', 'total_pop', 'percent_houses_damaged_5years'],\n",
       "      dtype='object')"
      ]
     },
     "metadata": {},
     "output_type": "display_data"
    },
    {
     "name": "stderr",
     "output_type": "stream",
     "text": [
      "pandas.Int64Index is deprecated and will be removed from pandas in a future version. Use pandas.Index with the appropriate dtype instead.\n"
     ]
    },
    {
     "name": "stdout",
     "output_type": "stream",
     "text": [
      "[12:48:22] WARNING: /Users/runner/miniforge3/conda-bld/xgboost-split_1637426408905/work/src/learner.cc:576: \n",
      "Parameters: { \"early_stopping_rounds\" } might not be used.\n",
      "\n",
      "  This could be a false alarm, with some parameters getting used by language bindings but\n",
      "  then being mistakenly passed down to XGBoost core, or some parameter actually being used\n",
      "  but getting flagged wrongly here. Please open an issue if you find any such cases.\n",
      "\n",
      "\n",
      "Counter({0: 38948, 1: 855})\n",
      "Counter({0: 8550, 1: 855})\n"
     ]
    },
    {
     "name": "stderr",
     "output_type": "stream",
     "text": [
      "The use of label encoder in XGBClassifier is deprecated and will be removed in a future release. To remove this warning, do the following: 1) Pass option use_label_encoder=False when constructing XGBClassifier object; and 2) Encode your labels (y) as integers starting with 0, i.e. 0, 1, 2, ..., [num_class - 1].\n",
      "pandas.Int64Index is deprecated and will be removed from pandas in a future version. Use pandas.Index with the appropriate dtype instead.\n"
     ]
    },
    {
     "data": {
      "text/plain": [
       "Index(['wind_speed', 'track_distance', 'total_houses', 'rainfall_max_6h',\n",
       "       'rainfall_max_24h', 'rwi', 'mean_slope', 'std_slope', 'mean_tri',\n",
       "       'std_tri', 'mean_elev', 'coast_length', 'with_coast', 'urban', 'rural',\n",
       "       'water', 'total_pop', 'percent_houses_damaged_5years'],\n",
       "      dtype='object')"
      ]
     },
     "metadata": {},
     "output_type": "display_data"
    },
    {
     "name": "stderr",
     "output_type": "stream",
     "text": [
      "pandas.Int64Index is deprecated and will be removed from pandas in a future version. Use pandas.Index with the appropriate dtype instead.\n",
      "\n",
      "A value is trying to be set on a copy of a slice from a DataFrame.\n",
      "Try using .loc[row_indexer,col_indexer] = value instead\n",
      "\n",
      "See the caveats in the documentation: https://pandas.pydata.org/pandas-docs/stable/user_guide/indexing.html#returning-a-view-versus-a-copy\n",
      "\n",
      "A value is trying to be set on a copy of a slice from a DataFrame.\n",
      "Try using .loc[row_indexer,col_indexer] = value instead\n",
      "\n",
      "See the caveats in the documentation: https://pandas.pydata.org/pandas-docs/stable/user_guide/indexing.html#returning-a-view-versus-a-copy\n"
     ]
    },
    {
     "name": "stdout",
     "output_type": "stream",
     "text": [
      "[12:48:25] WARNING: /Users/runner/miniforge3/conda-bld/xgboost-split_1637426408905/work/src/learner.cc:576: \n",
      "Parameters: { \"early_stopping_rounds\" } might not be used.\n",
      "\n",
      "  This could be a false alarm, with some parameters getting used by language bindings but\n",
      "  then being mistakenly passed down to XGBoost core, or some parameter actually being used\n",
      "  but getting flagged wrongly here. Please open an issue if you find any such cases.\n",
      "\n",
      "\n",
      "[3.3039230185175996, 3.2251776693928584, 3.2664871102805275, 3.501705402397512, 3.305824252791194, 3.296356918791896, 3.3195800838714224, 3.0013254829172755, 3.390415771118743, 3.397420122675211, 3.1853493658818817, 3.280638126314829, 3.177206168687014, 3.2124364260001848, 3.5248639642950534, 3.077818662641583, 3.2854527233305975, 3.411733347618065, 3.174174390975052, 2.974043700209311, 3.4897638171784475, 3.5492651762098353, 3.34944955399755, 3.4282416663501576, 3.2426885980926214, 3.4395992206393875, 3.371993253233383, 3.2604809673680433, 3.0973052984821194, 3.231039434930128, 3.468242398641255, 3.41091552300152, 3.373100375399568, 3.264861382652408, 3.291763127958453, 3.63062502761599, 3.3486020215435905, 3.332284987588538, 3.6156101314197118, 3.350072976478329, 3.1555112074645724, 3.3029712752061693, 3.2173861242539132, 3.281895934555158, 3.063005708081935, 3.617982256950439, 3.172032396690705, 3.106838301567577, 3.295411254079132, 3.155531981176172, 3.2369918840214096, 3.2019974475449757, 3.1693816105779606, 3.5486421488000808, 3.2667303437252593, 3.3362180711542186, 3.280610379321557, 3.1829717001082467, 3.4826578071966883, 3.3233900573500517, 3.0030990743826407, 3.3106993469834367, 3.343007384342664, 3.0429926601119037, 3.480047741875997, 3.213724536929093, 3.2371056141975902, 3.3637131652502674, 3.1892671401069057, 3.154030707340298, 3.558714948012274, 3.1939848026690303, 3.2856631353966135, 3.300212114156421, 3.2544619562581927, 3.212305041987889, 3.212248404175258, 3.334099971621572, 3.460742919089393, 3.1840901235525725, 3.3145013961711496, 3.212547591158263, 3.1854634769180823, 3.344938898086337, 3.255370642288455, 3.463208742201211, 3.4267269979266404, 3.01667368943443, 3.3070903954943303, 3.3053986238546065, 3.354718638270899, 3.3230168844594035, 3.0349504918094135, 3.239195029586277, 3.3510645174891907, 3.4208533519989874, 3.0978543176956017, 3.307697630958487]\n"
     ]
    },
    {
     "data": {
      "text/plain": [
       "Index(['wind_speed', 'track_distance', 'total_houses', 'rainfall_max_6h',\n",
       "       'rainfall_max_24h', 'rwi', 'mean_slope', 'std_slope', 'mean_tri',\n",
       "       'std_tri', 'mean_elev', 'coast_length', 'with_coast', 'urban', 'rural',\n",
       "       'water', 'total_pop', 'percent_houses_damaged_5years'],\n",
       "      dtype='object')"
      ]
     },
     "metadata": {},
     "output_type": "display_data"
    },
    {
     "name": "stderr",
     "output_type": "stream",
     "text": [
      "pandas.Int64Index is deprecated and will be removed from pandas in a future version. Use pandas.Index with the appropriate dtype instead.\n"
     ]
    },
    {
     "name": "stdout",
     "output_type": "stream",
     "text": [
      "[12:48:27] WARNING: /Users/runner/miniforge3/conda-bld/xgboost-split_1637426408905/work/src/learner.cc:576: \n",
      "Parameters: { \"early_stopping_rounds\" } might not be used.\n",
      "\n",
      "  This could be a false alarm, with some parameters getting used by language bindings but\n",
      "  then being mistakenly passed down to XGBoost core, or some parameter actually being used\n",
      "  but getting flagged wrongly here. Please open an issue if you find any such cases.\n",
      "\n",
      "\n",
      "Counter({0: 38948, 1: 855})\n",
      "Counter({0: 8550, 1: 855})\n"
     ]
    },
    {
     "name": "stderr",
     "output_type": "stream",
     "text": [
      "The use of label encoder in XGBClassifier is deprecated and will be removed in a future release. To remove this warning, do the following: 1) Pass option use_label_encoder=False when constructing XGBClassifier object; and 2) Encode your labels (y) as integers starting with 0, i.e. 0, 1, 2, ..., [num_class - 1].\n",
      "pandas.Int64Index is deprecated and will be removed from pandas in a future version. Use pandas.Index with the appropriate dtype instead.\n"
     ]
    },
    {
     "data": {
      "text/plain": [
       "Index(['wind_speed', 'track_distance', 'total_houses', 'rainfall_max_6h',\n",
       "       'rainfall_max_24h', 'rwi', 'mean_slope', 'std_slope', 'mean_tri',\n",
       "       'std_tri', 'mean_elev', 'coast_length', 'with_coast', 'urban', 'rural',\n",
       "       'water', 'total_pop', 'percent_houses_damaged_5years'],\n",
       "      dtype='object')"
      ]
     },
     "metadata": {},
     "output_type": "display_data"
    },
    {
     "name": "stderr",
     "output_type": "stream",
     "text": [
      "pandas.Int64Index is deprecated and will be removed from pandas in a future version. Use pandas.Index with the appropriate dtype instead.\n",
      "\n",
      "A value is trying to be set on a copy of a slice from a DataFrame.\n",
      "Try using .loc[row_indexer,col_indexer] = value instead\n",
      "\n",
      "See the caveats in the documentation: https://pandas.pydata.org/pandas-docs/stable/user_guide/indexing.html#returning-a-view-versus-a-copy\n",
      "\n",
      "A value is trying to be set on a copy of a slice from a DataFrame.\n",
      "Try using .loc[row_indexer,col_indexer] = value instead\n",
      "\n",
      "See the caveats in the documentation: https://pandas.pydata.org/pandas-docs/stable/user_guide/indexing.html#returning-a-view-versus-a-copy\n"
     ]
    },
    {
     "name": "stdout",
     "output_type": "stream",
     "text": [
      "[12:48:30] WARNING: /Users/runner/miniforge3/conda-bld/xgboost-split_1637426408905/work/src/learner.cc:576: \n",
      "Parameters: { \"early_stopping_rounds\" } might not be used.\n",
      "\n",
      "  This could be a false alarm, with some parameters getting used by language bindings but\n",
      "  then being mistakenly passed down to XGBoost core, or some parameter actually being used\n",
      "  but getting flagged wrongly here. Please open an issue if you find any such cases.\n",
      "\n",
      "\n",
      "[3.3039230185175996, 3.2251776693928584, 3.2664871102805275, 3.501705402397512, 3.305824252791194, 3.296356918791896, 3.3195800838714224, 3.0013254829172755, 3.390415771118743, 3.397420122675211, 3.1853493658818817, 3.280638126314829, 3.177206168687014, 3.2124364260001848, 3.5248639642950534, 3.077818662641583, 3.2854527233305975, 3.411733347618065, 3.174174390975052, 2.974043700209311, 3.4897638171784475, 3.5492651762098353, 3.34944955399755, 3.4282416663501576, 3.2426885980926214, 3.4395992206393875, 3.371993253233383, 3.2604809673680433, 3.0973052984821194, 3.231039434930128, 3.468242398641255, 3.41091552300152, 3.373100375399568, 3.264861382652408, 3.291763127958453, 3.63062502761599, 3.3486020215435905, 3.332284987588538, 3.6156101314197118, 3.350072976478329, 3.1555112074645724, 3.3029712752061693, 3.2173861242539132, 3.281895934555158, 3.063005708081935, 3.617982256950439, 3.172032396690705, 3.106838301567577, 3.295411254079132, 3.155531981176172, 3.2369918840214096, 3.2019974475449757, 3.1693816105779606, 3.5486421488000808, 3.2667303437252593, 3.3362180711542186, 3.280610379321557, 3.1829717001082467, 3.4826578071966883, 3.3233900573500517, 3.0030990743826407, 3.3106993469834367, 3.343007384342664, 3.0429926601119037, 3.480047741875997, 3.213724536929093, 3.2371056141975902, 3.3637131652502674, 3.1892671401069057, 3.154030707340298, 3.558714948012274, 3.1939848026690303, 3.2856631353966135, 3.300212114156421, 3.2544619562581927, 3.212305041987889, 3.212248404175258, 3.334099971621572, 3.460742919089393, 3.1840901235525725, 3.3145013961711496, 3.212547591158263, 3.1854634769180823, 3.344938898086337, 3.255370642288455, 3.463208742201211, 3.4267269979266404, 3.01667368943443, 3.3070903954943303, 3.3053986238546065, 3.354718638270899, 3.3230168844594035, 3.0349504918094135, 3.239195029586277, 3.3510645174891907, 3.4208533519989874, 3.0978543176956017, 3.307697630958487, 3.2420539566320192]\n"
     ]
    },
    {
     "data": {
      "text/plain": [
       "Index(['wind_speed', 'track_distance', 'total_houses', 'rainfall_max_6h',\n",
       "       'rainfall_max_24h', 'rwi', 'mean_slope', 'std_slope', 'mean_tri',\n",
       "       'std_tri', 'mean_elev', 'coast_length', 'with_coast', 'urban', 'rural',\n",
       "       'water', 'total_pop', 'percent_houses_damaged_5years'],\n",
       "      dtype='object')"
      ]
     },
     "metadata": {},
     "output_type": "display_data"
    },
    {
     "name": "stderr",
     "output_type": "stream",
     "text": [
      "pandas.Int64Index is deprecated and will be removed from pandas in a future version. Use pandas.Index with the appropriate dtype instead.\n"
     ]
    },
    {
     "name": "stdout",
     "output_type": "stream",
     "text": [
      "[12:48:31] WARNING: /Users/runner/miniforge3/conda-bld/xgboost-split_1637426408905/work/src/learner.cc:576: \n",
      "Parameters: { \"early_stopping_rounds\" } might not be used.\n",
      "\n",
      "  This could be a false alarm, with some parameters getting used by language bindings but\n",
      "  then being mistakenly passed down to XGBoost core, or some parameter actually being used\n",
      "  but getting flagged wrongly here. Please open an issue if you find any such cases.\n",
      "\n",
      "\n",
      "Counter({0: 38948, 1: 855})\n",
      "Counter({0: 8550, 1: 855})\n"
     ]
    },
    {
     "name": "stderr",
     "output_type": "stream",
     "text": [
      "The use of label encoder in XGBClassifier is deprecated and will be removed in a future release. To remove this warning, do the following: 1) Pass option use_label_encoder=False when constructing XGBClassifier object; and 2) Encode your labels (y) as integers starting with 0, i.e. 0, 1, 2, ..., [num_class - 1].\n",
      "pandas.Int64Index is deprecated and will be removed from pandas in a future version. Use pandas.Index with the appropriate dtype instead.\n"
     ]
    },
    {
     "data": {
      "text/plain": [
       "Index(['wind_speed', 'track_distance', 'total_houses', 'rainfall_max_6h',\n",
       "       'rainfall_max_24h', 'rwi', 'mean_slope', 'std_slope', 'mean_tri',\n",
       "       'std_tri', 'mean_elev', 'coast_length', 'with_coast', 'urban', 'rural',\n",
       "       'water', 'total_pop', 'percent_houses_damaged_5years'],\n",
       "      dtype='object')"
      ]
     },
     "metadata": {},
     "output_type": "display_data"
    },
    {
     "name": "stdout",
     "output_type": "stream",
     "text": [
      "[12:48:35] WARNING: /Users/runner/miniforge3/conda-bld/xgboost-split_1637426408905/work/src/learner.cc:576: \n",
      "Parameters: { \"early_stopping_rounds\" } might not be used.\n",
      "\n",
      "  This could be a false alarm, with some parameters getting used by language bindings but\n",
      "  then being mistakenly passed down to XGBoost core, or some parameter actually being used\n",
      "  but getting flagged wrongly here. Please open an issue if you find any such cases.\n",
      "\n",
      "\n",
      "[3.3039230185175996, 3.2251776693928584, 3.2664871102805275, 3.501705402397512, 3.305824252791194, 3.296356918791896, 3.3195800838714224, 3.0013254829172755, 3.390415771118743, 3.397420122675211, 3.1853493658818817, 3.280638126314829, 3.177206168687014, 3.2124364260001848, 3.5248639642950534, 3.077818662641583, 3.2854527233305975, 3.411733347618065, 3.174174390975052, 2.974043700209311, 3.4897638171784475, 3.5492651762098353, 3.34944955399755, 3.4282416663501576, 3.2426885980926214, 3.4395992206393875, 3.371993253233383, 3.2604809673680433, 3.0973052984821194, 3.231039434930128, 3.468242398641255, 3.41091552300152, 3.373100375399568, 3.264861382652408, 3.291763127958453, 3.63062502761599, 3.3486020215435905, 3.332284987588538, 3.6156101314197118, 3.350072976478329, 3.1555112074645724, 3.3029712752061693, 3.2173861242539132, 3.281895934555158, 3.063005708081935, 3.617982256950439, 3.172032396690705, 3.106838301567577, 3.295411254079132, 3.155531981176172, 3.2369918840214096, 3.2019974475449757, 3.1693816105779606, 3.5486421488000808, 3.2667303437252593, 3.3362180711542186, 3.280610379321557, 3.1829717001082467, 3.4826578071966883, 3.3233900573500517, 3.0030990743826407, 3.3106993469834367, 3.343007384342664, 3.0429926601119037, 3.480047741875997, 3.213724536929093, 3.2371056141975902, 3.3637131652502674, 3.1892671401069057, 3.154030707340298, 3.558714948012274, 3.1939848026690303, 3.2856631353966135, 3.300212114156421, 3.2544619562581927, 3.212305041987889, 3.212248404175258, 3.334099971621572, 3.460742919089393, 3.1840901235525725, 3.3145013961711496, 3.212547591158263, 3.1854634769180823, 3.344938898086337, 3.255370642288455, 3.463208742201211, 3.4267269979266404, 3.01667368943443, 3.3070903954943303, 3.3053986238546065, 3.354718638270899, 3.3230168844594035, 3.0349504918094135, 3.239195029586277, 3.3510645174891907, 3.4208533519989874, 3.0978543176956017, 3.307697630958487, 3.2420539566320192, 3.3062770741975145]\n"
     ]
    },
    {
     "name": "stderr",
     "output_type": "stream",
     "text": [
      "pandas.Int64Index is deprecated and will be removed from pandas in a future version. Use pandas.Index with the appropriate dtype instead.\n",
      "\n",
      "A value is trying to be set on a copy of a slice from a DataFrame.\n",
      "Try using .loc[row_indexer,col_indexer] = value instead\n",
      "\n",
      "See the caveats in the documentation: https://pandas.pydata.org/pandas-docs/stable/user_guide/indexing.html#returning-a-view-versus-a-copy\n",
      "\n",
      "A value is trying to be set on a copy of a slice from a DataFrame.\n",
      "Try using .loc[row_indexer,col_indexer] = value instead\n",
      "\n",
      "See the caveats in the documentation: https://pandas.pydata.org/pandas-docs/stable/user_guide/indexing.html#returning-a-view-versus-a-copy\n"
     ]
    }
   ],
   "source": [
    "# Define empty list to save RMSE in combined model\n",
    "\n",
    "test_RMSE_lst = []\n",
    "test_RMSE_bin = defaultdict(list)\n",
    "\n",
    "# Define empty list to save RMSE in model1\n",
    "\n",
    "test_RMSE_lst_M1 = []\n",
    "test_RMSE_bin_M1 = defaultdict(list)\n",
    "\n",
    "for new_run in range(100):\n",
    "\n",
    "    df = get_training_dataset()\n",
    "    df[\"rwi\"].fillna(df[\"rwi\"].mean(), inplace=True)\n",
    "\n",
    "    # Set any values >100% to 100%,\n",
    "    for r in range(len(df)):\n",
    "        if df.loc[r, \"percent_houses_damaged\"] > 100:\n",
    "            df.at[r, \"percent_houses_damaged\"] = float(100)\n",
    "\n",
    "    df = (df[(df[[\"wind_speed\"]] != 0).any(axis=1)]).reset_index(drop=True)\n",
    "    df = df.drop(columns=[\"grid_point_id\", \"typhoon_year\"])\n",
    "\n",
    "    # Define bins for data stratification\n",
    "    bins2 = [0, 0.00009, 1, 10, 50, 101]\n",
    "    bins_eval = [0, 1, 10, 20, 50, 101]\n",
    "    samples_per_bin2, binsP2 = np.histogram(df[\"percent_houses_damaged\"], bins=bins2)\n",
    "\n",
    "    # Check the bins' intervalls (first bin means all zeros, second bin means 0 < values <= 1)\n",
    "    df[\"percent_houses_damaged\"].value_counts(bins=binsP2)\n",
    "\n",
    "    bin_index2 = np.digitize(df[\"percent_houses_damaged\"], bins=binsP2)\n",
    "    y_input_strat = bin_index2\n",
    "\n",
    "    features = [\n",
    "        \"wind_speed\",\n",
    "        \"track_distance\",\n",
    "        \"total_houses\",\n",
    "        \"rainfall_max_6h\",\n",
    "        \"rainfall_max_24h\",\n",
    "        \"rwi\",\n",
    "        \"mean_slope\",\n",
    "        \"std_slope\",\n",
    "        \"mean_tri\",\n",
    "        \"std_tri\",\n",
    "        \"mean_elev\",\n",
    "        \"coast_length\",\n",
    "        \"with_coast\",\n",
    "        \"urban\",\n",
    "        \"rural\",\n",
    "        \"water\",\n",
    "        \"total_pop\",\n",
    "        \"percent_houses_damaged_5years\",\n",
    "    ]\n",
    "\n",
    "    # Split X and y from dataframe features\n",
    "    X = df[features]\n",
    "    display(X.columns)\n",
    "    y = df[\"percent_houses_damaged\"]\n",
    "\n",
    "    # Define train and test data\n",
    "    X_train, X_test, y_train, y_test = train_test_split(\n",
    "        X, df[\"percent_houses_damaged\"], test_size=0.2, stratify=y_input_strat\n",
    "    )\n",
    "\n",
    "    # XGBoost Reduced Overfitting\n",
    "    xgb = XGBRegressor(\n",
    "        base_score=0.5,\n",
    "        booster=\"gbtree\",\n",
    "        colsample_bylevel=0.8,\n",
    "        colsample_bynode=0.8,\n",
    "        colsample_bytree=0.8,\n",
    "        gamma=3,\n",
    "        eta=0.01,\n",
    "        importance_type=\"gain\",\n",
    "        learning_rate=0.1,\n",
    "        max_delta_step=0,\n",
    "        max_depth=4,\n",
    "        min_child_weight=1,\n",
    "        missing=1,\n",
    "        n_estimators=100,\n",
    "        early_stopping_rounds=10,\n",
    "        n_jobs=1,\n",
    "        nthread=None,\n",
    "        objective=\"reg:squarederror\",\n",
    "        reg_alpha=0,\n",
    "        reg_lambda=1,\n",
    "        scale_pos_weight=1,\n",
    "        seed=None,\n",
    "        silent=None,\n",
    "        subsample=0.8,\n",
    "        verbosity=1,\n",
    "        eval_metric=[\"rmse\", \"logloss\"],\n",
    "        random_state=0,\n",
    "    )\n",
    "\n",
    "    eval_set = [(X_test, y_test)]\n",
    "    xgb_model = xgb.fit(X_train, y_train, eval_set=eval_set, verbose=False)\n",
    "\n",
    "    # Make prediction on train and test data\n",
    "    y_pred_train = xgb.predict(X_train)\n",
    "    y_pred = xgb.predict(X_test)\n",
    "\n",
    "    # Calculate RMSE in total\n",
    "    mse_train_idx = mean_squared_error(y_train, y_pred_train)\n",
    "    rmse_train = np.sqrt(mse_train_idx)\n",
    "\n",
    "    mse_idx = mean_squared_error(y_test, y_pred)\n",
    "    rmseM1 = np.sqrt(mse_idx)\n",
    "\n",
    "    # Add total RMSE of Model1 to the list\n",
    "    test_RMSE_lst_M1.append(rmseM1)\n",
    "\n",
    "    # Calculate RMSE per bins\n",
    "    bin_index_test = np.digitize(y_test, bins=bins_eval)\n",
    "    bin_index_train = np.digitize(y_train, bins=bins_eval)\n",
    "\n",
    "    RSME_test_model1 = np.zeros(len(bins_eval) - 1)\n",
    "\n",
    "    for bin_num in range(1, len(bins_eval)):\n",
    "\n",
    "        # Estimation of RMSE for train data\n",
    "        mse_train_idx = mean_squared_error(\n",
    "            y_train[bin_index_train == bin_num],\n",
    "            y_pred_train[bin_index_train == bin_num],\n",
    "        )\n",
    "        rmse_train = np.sqrt(mse_train_idx)\n",
    "\n",
    "        # Estimation of RMSE for test data\n",
    "        mse_idx = mean_squared_error(\n",
    "            y_test[bin_index_test == bin_num], y_pred[bin_index_test == bin_num]\n",
    "        )\n",
    "        RSME_test_model1[bin_num - 1] = np.sqrt(mse_idx)\n",
    "\n",
    "        # Add RMSE of Model1 to the list of each bin\n",
    "        test_RMSE_bin_M1[bin_num].append(RSME_test_model1[bin_num - 1])\n",
    "\n",
    "    ## Second step is to train XGBoost Binary model for same train data\n",
    "\n",
    "    # Define a threshold to separate target into damaged and not_damaged\n",
    "    thres = 10.0\n",
    "    y_test_bool = y_test >= thres\n",
    "    y_train_bool = y_train >= thres\n",
    "    y_test_bin = (y_test_bool) * 1\n",
    "    y_train_bin = (y_train_bool) * 1\n",
    "\n",
    "    sum(y_train_bin)\n",
    "    print(Counter(y_train_bin))\n",
    "\n",
    "    # Undersampling\n",
    "\n",
    "    # Define undersampling strategy\n",
    "    under = RandomUnderSampler(sampling_strategy=0.1)\n",
    "    # Fit and apply the transform\n",
    "    X_train_us, y_train_us = under.fit_resample(X_train, y_train_bin)\n",
    "\n",
    "    print(Counter(y_train_us))\n",
    "\n",
    "    # Use XGBClassifier as a Machine Learning model to fit the data\n",
    "    xgb_model = XGBClassifier(eval_metric=[\"error\", \"logloss\"])\n",
    "\n",
    "    # eval_set = [(X_train, y_train), (X_train, y_train)]\n",
    "    eval_set = [(X_test, y_test_bin)]\n",
    "    xgb_model.fit(\n",
    "        X_train_us,\n",
    "        y_train_us,\n",
    "        eval_set=eval_set,\n",
    "        verbose=False,\n",
    "    )\n",
    "\n",
    "    # Make prediction on test data and print Confusion Matrix\n",
    "    y_pred_test = xgb_model.predict(X_test)\n",
    "    cm = confusion_matrix(y_test_bin, y_pred_test)\n",
    "\n",
    "    # Make prediction on train data and print Confusion Matrix\n",
    "    y_pred_train = xgb_model.predict(X_train)\n",
    "    cm = confusion_matrix(y_train_bin, y_pred_train)\n",
    "\n",
    "    reduced_df = X_train.copy()\n",
    "\n",
    "    reduced_df[\"percent_houses_damaged\"] = y_train.values\n",
    "    reduced_df[\"predicted_value\"] = y_pred_train\n",
    "\n",
    "    fliterd_df = reduced_df[reduced_df.predicted_value == 1]\n",
    "\n",
    "    ### Third step is to train XGBoost regression model for this reduced train data (including damg>10.0%)\n",
    "\n",
    "    # Define bins for data stratification in regression model\n",
    "    bins2 = [0, 1, 10, 20, 50, 101]\n",
    "    samples_per_bin2, binsP2 = np.histogram(\n",
    "        fliterd_df[\"percent_houses_damaged\"], bins=bins2\n",
    "    )\n",
    "    bin_index2 = np.digitize(fliterd_df[\"percent_houses_damaged\"], bins=binsP2)\n",
    "    y_input_strat = bin_index2\n",
    "\n",
    "    # Split X and y from dataframe features\n",
    "    X_r = fliterd_df[features]\n",
    "    display(X.columns)\n",
    "    y_r = fliterd_df[\"percent_houses_damaged\"]\n",
    "\n",
    "    # XGBoost Reduced Overfitting\n",
    "    xgbR = XGBRegressor(\n",
    "        base_score=0.5,\n",
    "        booster=\"gbtree\",\n",
    "        colsample_bylevel=0.8,\n",
    "        colsample_bynode=0.8,\n",
    "        colsample_bytree=0.8,\n",
    "        gamma=3,\n",
    "        eta=0.01,\n",
    "        importance_type=\"gain\",\n",
    "        learning_rate=0.1,\n",
    "        max_delta_step=0,\n",
    "        max_depth=4,\n",
    "        min_child_weight=1,\n",
    "        missing=1,\n",
    "        n_estimators=100,\n",
    "        early_stopping_rounds=10,\n",
    "        n_jobs=1,\n",
    "        nthread=None,\n",
    "        objective=\"reg:squarederror\",\n",
    "        reg_alpha=0,\n",
    "        reg_lambda=1,\n",
    "        scale_pos_weight=1,\n",
    "        seed=None,\n",
    "        silent=None,\n",
    "        subsample=0.8,\n",
    "        verbosity=1,\n",
    "        eval_metric=[\"rmse\", \"logloss\"],\n",
    "        random_state=0,\n",
    "    )\n",
    "\n",
    "    eval_set = [(X_r, y_r)]\n",
    "    xgbR_model = xgbR.fit(X_r, y_r, eval_set=eval_set, verbose=False)\n",
    "\n",
    "    # Make prediction on train and global test data\n",
    "    y_pred_r = xgbR.predict(X_r)\n",
    "    y_pred_test_total = xgbR.predict(X_test)\n",
    "\n",
    "    # Calculate RMSE in total\n",
    "\n",
    "    mse_train_idxR = mean_squared_error(y_r, y_pred_r)\n",
    "    rmse_trainR = np.sqrt(mse_train_idxR)\n",
    "\n",
    "    mse_idxR = mean_squared_error(y_test, y_pred_test_total)\n",
    "    rmseR = np.sqrt(mse_idxR)\n",
    "\n",
    "    # print(f\"RMSE_test_in_total MR: {rmseR:.2f}\")\n",
    "    # print(f\"RMSE_test_in_total M1: {rmseM1:.2f}\")\n",
    "    # print(f\"RMSE_train_in_reduced: {rmse_trainR:.2f}\")\n",
    "\n",
    "    # Calculate RMSE per bins\n",
    "    bin_index_r = np.digitize(y_r, bins=bins_eval)\n",
    "\n",
    "    RSME_test_model1R = np.zeros(len(bins_eval) - 1)\n",
    "    for bin_num in range(1, len(bins_eval)):\n",
    "\n",
    "        # Estimation of RMSE for train data\n",
    "        mse_train_idxR = mean_squared_error(\n",
    "            y_r[bin_index_r == bin_num], y_pred_r[bin_index_r == bin_num]\n",
    "        )\n",
    "        rmse_trainR = np.sqrt(mse_train_idxR)\n",
    "\n",
    "        # Estimation of RMSE for test data\n",
    "        mse_idxR = mean_squared_error(\n",
    "            y_test[bin_index_test == bin_num],\n",
    "            y_pred_test_total[bin_index_test == bin_num],\n",
    "        )\n",
    "        RSME_test_model1R[bin_num - 1] = np.sqrt(mse_idxR)\n",
    "\n",
    "        # print(f\"RMSE_test: {rmse:.2f}\")\n",
    "        # print(f\"RMSE_train_reduced [{bins_eval[bin_num-1]:.0f},{bins_eval[bin_num]:.0f}): {rmse_trainR:.2f}\")\n",
    "        # print(f\"RMSE_test_total_MR [{bins_eval[bin_num-1]:.0f},{bins_eval[bin_num]:.0f}): {RSME_test_model1R[bin_num-1]:.2f}\")\n",
    "        # print(f\"RMSE_test_total_M1 [{bins_eval[bin_num-1]:.0f},{bins_eval[bin_num]:.0f}): {RSME_test_model1[bin_num-1]:.2f}\")\n",
    "\n",
    "    ## Last step is to add model combination (model M1 with model MR)\n",
    "    # Check the result of classifier for test set\n",
    "    reduced_test_df = X_test.copy()\n",
    "\n",
    "    # joined X_test with countinous target and binary predicted values\n",
    "    reduced_test_df[\"percent_houses_damaged\"] = y_test.values\n",
    "    reduced_test_df[\"predicted_value\"] = y_pred_test\n",
    "\n",
    "    # damaged prediction\n",
    "    fliterd_test_df1 = reduced_test_df[reduced_test_df.predicted_value == 1]\n",
    "\n",
    "    # not damaged prediction\n",
    "    fliterd_test_df0 = reduced_test_df[reduced_test_df.predicted_value == 0]\n",
    "\n",
    "    # Use X0 and X1 for the M1 and MR models' predictions\n",
    "    X1 = fliterd_test_df1[features]\n",
    "    X0 = fliterd_test_df0[features]\n",
    "\n",
    "    # For the output equal to 1 apply MR to evaluate the performance\n",
    "    y1_pred = xgbR.predict(X1)\n",
    "    y1 = fliterd_test_df1[\"percent_houses_damaged\"]\n",
    "\n",
    "    # For the output equal to 0 apply M1 to evaluate the performance\n",
    "    y0_pred = xgb.predict(X0)\n",
    "    y0 = fliterd_test_df0[\"percent_houses_damaged\"]\n",
    "\n",
    "    fliterd_test_df0[\"predicted_percent_damage\"] = y0_pred\n",
    "    fliterd_test_df1[\"predicted_percent_damage\"] = y1_pred\n",
    "\n",
    "    # Join two dataframes together\n",
    "    join_test_dfs = pd.concat([fliterd_test_df0, fliterd_test_df1])\n",
    "\n",
    "    # Calculate RMSE in total\n",
    "    mse_combined_model = mean_squared_error(\n",
    "        join_test_dfs[\"percent_houses_damaged\"],\n",
    "        join_test_dfs[\"predicted_percent_damage\"],\n",
    "    )\n",
    "    rmse_combined_model = np.sqrt(mse_combined_model)\n",
    "    test_RMSE_lst.append(rmse_combined_model)\n",
    "\n",
    "    print(test_RMSE_lst)\n",
    "\n",
    "    # Calculate RMSE per bin\n",
    "    y_join = join_test_dfs[\"percent_houses_damaged\"]\n",
    "    y_pred_join = join_test_dfs[\"predicted_percent_damage\"]\n",
    "\n",
    "    bin_index_test = np.digitize(y_join, bins=bins_eval)\n",
    "    RSME_combined_model = np.zeros(len(bins_eval) - 1)\n",
    "\n",
    "    for bin_num in range(1, len(bins_eval)):\n",
    "\n",
    "        mse_combined_model_bin = mean_squared_error(\n",
    "            y_join[bin_index_test == bin_num],\n",
    "            y_pred_join[bin_index_test == bin_num],\n",
    "        )\n",
    "        RSME_combined_model = np.sqrt(mse_combined_model_bin)\n",
    "        test_RMSE_bin[bin_num].append(RSME_combined_model)"
   ]
  },
  {
   "cell_type": "code",
   "execution_count": 4,
   "id": "f77f19c1",
   "metadata": {},
   "outputs": [
    {
     "name": "stdout",
     "output_type": "stream",
     "text": [
      "mean_RMSE_test_M1_model: 3.25\n",
      "mean_RMSE_test_Combined_model: 3.29\n"
     ]
    }
   ],
   "source": [
    "# Compare total RMSEs of Combined model with M1 model\n",
    "combined_test_rmse = statistics.mean(test_RMSE_lst)\n",
    "m1_test_rmse = statistics.mean(test_RMSE_lst_M1)\n",
    "\n",
    "print(f\"mean_RMSE_test_M1_model: {m1_test_rmse:.2f}\")\n",
    "print(f\"mean_RMSE_test_Combined_model: {combined_test_rmse:.2f}\")"
   ]
  },
  {
   "cell_type": "code",
   "execution_count": 5,
   "id": "d5525447",
   "metadata": {},
   "outputs": [
    {
     "name": "stdout",
     "output_type": "stream",
     "text": [
      "RMSE per bin 1\n",
      "mean_RMSE_test_Combined_model: 1.44\n",
      "mean_RMSE_test_M1_model: 1.13\n",
      "\n",
      "RMSE per bin 2\n",
      "mean_RMSE_test_Combined_model: 5.88\n",
      "mean_RMSE_test_M1_model: 4.87\n",
      "\n",
      "RMSE per bin 3\n",
      "mean_RMSE_test_Combined_model: 9.38\n",
      "mean_RMSE_test_M1_model: 10.04\n",
      "\n",
      "RMSE per bin 4\n",
      "mean_RMSE_test_Combined_model: 16.73\n",
      "mean_RMSE_test_M1_model: 18.74\n",
      "\n",
      "RMSE per bin 5\n",
      "mean_RMSE_test_Combined_model: 35.66\n",
      "mean_RMSE_test_M1_model: 37.16\n",
      "\n"
     ]
    }
   ],
   "source": [
    "# Compare RMSE per bin between Combined model with M1 model\n",
    "\n",
    "for bin_num in range(1, 6):\n",
    "\n",
    "    combined_test_rmse_bin = statistics.mean(test_RMSE_bin[bin_num])\n",
    "    m1_test_rmse_bin = statistics.mean(test_RMSE_bin_M1[bin_num])\n",
    "\n",
    "    print(f\"RMSE per bin {bin_num}\")\n",
    "    print(f\"mean_RMSE_test_Combined_model: {combined_test_rmse_bin:.2f}\")\n",
    "    print(f\"mean_RMSE_test_M1_model: {m1_test_rmse_bin:.2f}\\n\")"
   ]
  }
 ],
 "metadata": {
  "jupytext": {
   "cell_metadata_filter": "-all",
   "notebook_metadata_filter": "-all"
  },
  "kernelspec": {
   "display_name": "Python 3 (ipykernel)",
   "language": "python",
   "name": "python3"
  },
  "language_info": {
   "codemirror_mode": {
    "name": "ipython",
    "version": 3
   },
   "file_extension": ".py",
   "mimetype": "text/x-python",
   "name": "python",
   "nbconvert_exporter": "python",
   "pygments_lexer": "ipython3",
   "version": "3.8.13"
  }
 },
 "nbformat": 4,
 "nbformat_minor": 5
}
