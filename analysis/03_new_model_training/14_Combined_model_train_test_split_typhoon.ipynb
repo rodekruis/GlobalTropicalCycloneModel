{
 "cells": [
  {
   "cell_type": "markdown",
   "id": "5a83e7e8-5a32-4877-bccf-a1f5398ee37d",
   "metadata": {},
   "source": [
    "# Combined  Model (XGBoost Undersampling + XGBoost Regression)\n",
    "\n",
    "We developed a hybrid model using both xgboost regression and xgboost classification(while undersampling technique was implemented to enhance its performance). Subsequently, we evaluated the performance of this combined model on the test dataset while train_test_split is done based on different typhoons and compared it with the result of the simple xgboost regression model. \n",
    "\n",
    "###The whole code is in a loop with the length of number of typhoons to estimate the average of RMSE in total.\n"
   ]
  },
  {
   "cell_type": "code",
   "execution_count": 1,
   "id": "b67bfdeb",
   "metadata": {},
   "outputs": [
    {
     "data": {
      "text/html": [
       "\n",
       "                <script type=\"application/javascript\" id=\"jupyter_black\">\n",
       "                (function() {\n",
       "                    if (window.IPython === undefined) {\n",
       "                        return\n",
       "                    }\n",
       "                    var msg = \"WARNING: it looks like you might have loaded \" +\n",
       "                        \"jupyter_black in a non-lab notebook with \" +\n",
       "                        \"`is_lab=True`. Please double check, and if \" +\n",
       "                        \"loading with `%load_ext` please review the README!\"\n",
       "                    console.log(msg)\n",
       "                    alert(msg)\n",
       "                })()\n",
       "                </script>\n",
       "                "
      ],
      "text/plain": [
       "<IPython.core.display.HTML object>"
      ]
     },
     "metadata": {},
     "output_type": "display_data"
    }
   ],
   "source": [
    "%load_ext jupyter_black"
   ]
  },
  {
   "cell_type": "code",
   "execution_count": 2,
   "id": "2f435bf7-203f-4fa6-8aa5-8dbcfe89e66b",
   "metadata": {},
   "outputs": [
    {
     "name": "stderr",
     "output_type": "stream",
     "text": [
      "pandas.Int64Index is deprecated and will be removed from pandas in a future version. Use pandas.Index with the appropriate dtype instead.\n"
     ]
    }
   ],
   "source": [
    "import matplotlib.pyplot as plt\n",
    "import seaborn as sns\n",
    "import numpy as np\n",
    "import pandas as pd\n",
    "import shap\n",
    "import imblearn\n",
    "import statsmodels.api as sm\n",
    "import statistics\n",
    "\n",
    "from collections import defaultdict\n",
    "from sklearn.model_selection import train_test_split\n",
    "from sklearn import preprocessing\n",
    "from sklearn.preprocessing import RobustScaler\n",
    "from sklearn import metrics\n",
    "from sklearn.metrics import accuracy_score\n",
    "from sklearn.metrics import f1_score\n",
    "from sklearn.metrics import mean_squared_error\n",
    "from xgboost.sklearn import XGBRegressor\n",
    "from sklearn.dummy import DummyRegressor\n",
    "from xgboost import XGBClassifier\n",
    "from sty import fg, rs\n",
    "\n",
    "from sklearn.metrics import confusion_matrix\n",
    "from matplotlib import cm\n",
    "from collections import Counter\n",
    "from imblearn.under_sampling import RandomUnderSampler\n",
    "\n",
    "from utils import get_training_dataset"
   ]
  },
  {
   "cell_type": "code",
   "execution_count": 4,
   "id": "a113e3e8",
   "metadata": {},
   "outputs": [],
   "source": [
    "# List of typhoons\n",
    "typhoons = [\n",
    "    \"DURIAN\",\n",
    "    \"FENGSHEN\",\n",
    "    \"KETSANA\",\n",
    "    \"CONSON\",\n",
    "    \"NESAT\",\n",
    "    \"BOPHA\",\n",
    "    \"NARI\",\n",
    "    \"KROSA\",\n",
    "    \"HAIYAN\",\n",
    "    \"USAGI\",\n",
    "    \"UTOR\",\n",
    "    \"JANGMI\",\n",
    "    \"KALMAEGI\",\n",
    "    \"RAMMASUN\",\n",
    "    \"HAGUPIT\",\n",
    "    \"FUNG-WONG\",\n",
    "    \"LINGLING\",\n",
    "    \"MUJIGAE\",\n",
    "    \"MELOR\",\n",
    "    \"NOUL\",\n",
    "    \"GONI\",\n",
    "    \"LINFA\",\n",
    "    \"KOPPU\",\n",
    "    \"MEKKHALA\",\n",
    "    \"HAIMA\",\n",
    "    \"TOKAGE\",\n",
    "    \"MERANTI\",\n",
    "    \"NOCK-TEN\",\n",
    "    \"SARIKA\",\n",
    "    \"MANGKHUT\",\n",
    "    \"YUTU\",\n",
    "    \"KAMMURI\",\n",
    "    \"NAKRI\",\n",
    "    \"PHANFONE\",\n",
    "    \"SAUDEL\",\n",
    "    \"VAMCO\",\n",
    "    \"VONGFONG\",\n",
    "    \"MOLAVE\",\n",
    "]"
   ]
  },
  {
   "cell_type": "code",
   "execution_count": 6,
   "id": "0199fe50",
   "metadata": {},
   "outputs": [
    {
     "data": {
      "text/plain": [
       "Index(['wind_speed', 'track_distance', 'total_houses', 'rainfall_max_6h',\n",
       "       'rainfall_max_24h', 'rwi', 'mean_slope', 'std_slope', 'mean_tri',\n",
       "       'std_tri', 'mean_elev', 'coast_length', 'with_coast', 'urban', 'rural',\n",
       "       'water', 'total_pop', 'percent_houses_damaged_5years'],\n",
       "      dtype='object')"
      ]
     },
     "metadata": {},
     "output_type": "display_data"
    },
    {
     "name": "stderr",
     "output_type": "stream",
     "text": [
      "pandas.Int64Index is deprecated and will be removed from pandas in a future version. Use pandas.Index with the appropriate dtype instead.\n"
     ]
    },
    {
     "name": "stdout",
     "output_type": "stream",
     "text": [
      "[12:53:36] WARNING: /Users/runner/miniforge3/conda-bld/xgboost-split_1637426408905/work/src/learner.cc:576: \n",
      "Parameters: { \"early_stopping_rounds\" } might not be used.\n",
      "\n",
      "  This could be a false alarm, with some parameters getting used by language bindings but\n",
      "  then being mistakenly passed down to XGBoost core, or some parameter actually being used\n",
      "  but getting flagged wrongly here. Please open an issue if you find any such cases.\n",
      "\n",
      "\n",
      "Counter({0: 47354, 1: 961})\n",
      "Counter({0: 9610, 1: 961})\n"
     ]
    },
    {
     "name": "stderr",
     "output_type": "stream",
     "text": [
      "The use of label encoder in XGBClassifier is deprecated and will be removed in a future release. To remove this warning, do the following: 1) Pass option use_label_encoder=False when constructing XGBClassifier object; and 2) Encode your labels (y) as integers starting with 0, i.e. 0, 1, 2, ..., [num_class - 1].\n",
      "pandas.Int64Index is deprecated and will be removed from pandas in a future version. Use pandas.Index with the appropriate dtype instead.\n"
     ]
    },
    {
     "data": {
      "text/plain": [
       "Index(['wind_speed', 'track_distance', 'total_houses', 'rainfall_max_6h',\n",
       "       'rainfall_max_24h', 'rwi', 'mean_slope', 'std_slope', 'mean_tri',\n",
       "       'std_tri', 'mean_elev', 'coast_length', 'with_coast', 'urban', 'rural',\n",
       "       'water', 'total_pop', 'percent_houses_damaged_5years'],\n",
       "      dtype='object')"
      ]
     },
     "metadata": {},
     "output_type": "display_data"
    },
    {
     "name": "stderr",
     "output_type": "stream",
     "text": [
      "pandas.Int64Index is deprecated and will be removed from pandas in a future version. Use pandas.Index with the appropriate dtype instead.\n",
      "\n",
      "A value is trying to be set on a copy of a slice from a DataFrame.\n",
      "Try using .loc[row_indexer,col_indexer] = value instead\n",
      "\n",
      "See the caveats in the documentation: https://pandas.pydata.org/pandas-docs/stable/user_guide/indexing.html#returning-a-view-versus-a-copy\n",
      "\n",
      "A value is trying to be set on a copy of a slice from a DataFrame.\n",
      "Try using .loc[row_indexer,col_indexer] = value instead\n",
      "\n",
      "See the caveats in the documentation: https://pandas.pydata.org/pandas-docs/stable/user_guide/indexing.html#returning-a-view-versus-a-copy\n"
     ]
    },
    {
     "name": "stdout",
     "output_type": "stream",
     "text": [
      "[12:53:39] WARNING: /Users/runner/miniforge3/conda-bld/xgboost-split_1637426408905/work/src/learner.cc:576: \n",
      "Parameters: { \"early_stopping_rounds\" } might not be used.\n",
      "\n",
      "  This could be a false alarm, with some parameters getting used by language bindings but\n",
      "  then being mistakenly passed down to XGBoost core, or some parameter actually being used\n",
      "  but getting flagged wrongly here. Please open an issue if you find any such cases.\n",
      "\n",
      "\n",
      "0\n",
      "[6.674624158395224]\n"
     ]
    },
    {
     "data": {
      "text/plain": [
       "Index(['wind_speed', 'track_distance', 'total_houses', 'rainfall_max_6h',\n",
       "       'rainfall_max_24h', 'rwi', 'mean_slope', 'std_slope', 'mean_tri',\n",
       "       'std_tri', 'mean_elev', 'coast_length', 'with_coast', 'urban', 'rural',\n",
       "       'water', 'total_pop', 'percent_houses_damaged_5years'],\n",
       "      dtype='object')"
      ]
     },
     "metadata": {},
     "output_type": "display_data"
    },
    {
     "name": "stderr",
     "output_type": "stream",
     "text": [
      "pandas.Int64Index is deprecated and will be removed from pandas in a future version. Use pandas.Index with the appropriate dtype instead.\n"
     ]
    },
    {
     "name": "stdout",
     "output_type": "stream",
     "text": [
      "[12:53:41] WARNING: /Users/runner/miniforge3/conda-bld/xgboost-split_1637426408905/work/src/learner.cc:576: \n",
      "Parameters: { \"early_stopping_rounds\" } might not be used.\n",
      "\n",
      "  This could be a false alarm, with some parameters getting used by language bindings but\n",
      "  then being mistakenly passed down to XGBoost core, or some parameter actually being used\n",
      "  but getting flagged wrongly here. Please open an issue if you find any such cases.\n",
      "\n",
      "\n",
      "Counter({0: 46358, 1: 1031})\n",
      "Counter({0: 10310, 1: 1031})\n"
     ]
    },
    {
     "name": "stderr",
     "output_type": "stream",
     "text": [
      "The use of label encoder in XGBClassifier is deprecated and will be removed in a future release. To remove this warning, do the following: 1) Pass option use_label_encoder=False when constructing XGBClassifier object; and 2) Encode your labels (y) as integers starting with 0, i.e. 0, 1, 2, ..., [num_class - 1].\n",
      "pandas.Int64Index is deprecated and will be removed from pandas in a future version. Use pandas.Index with the appropriate dtype instead.\n"
     ]
    },
    {
     "data": {
      "text/plain": [
       "Index(['wind_speed', 'track_distance', 'total_houses', 'rainfall_max_6h',\n",
       "       'rainfall_max_24h', 'rwi', 'mean_slope', 'std_slope', 'mean_tri',\n",
       "       'std_tri', 'mean_elev', 'coast_length', 'with_coast', 'urban', 'rural',\n",
       "       'water', 'total_pop', 'percent_houses_damaged_5years'],\n",
       "      dtype='object')"
      ]
     },
     "metadata": {},
     "output_type": "display_data"
    },
    {
     "name": "stderr",
     "output_type": "stream",
     "text": [
      "pandas.Int64Index is deprecated and will be removed from pandas in a future version. Use pandas.Index with the appropriate dtype instead.\n",
      "\n",
      "A value is trying to be set on a copy of a slice from a DataFrame.\n",
      "Try using .loc[row_indexer,col_indexer] = value instead\n",
      "\n",
      "See the caveats in the documentation: https://pandas.pydata.org/pandas-docs/stable/user_guide/indexing.html#returning-a-view-versus-a-copy\n",
      "\n",
      "A value is trying to be set on a copy of a slice from a DataFrame.\n",
      "Try using .loc[row_indexer,col_indexer] = value instead\n",
      "\n",
      "See the caveats in the documentation: https://pandas.pydata.org/pandas-docs/stable/user_guide/indexing.html#returning-a-view-versus-a-copy\n"
     ]
    },
    {
     "name": "stdout",
     "output_type": "stream",
     "text": [
      "[12:53:44] WARNING: /Users/runner/miniforge3/conda-bld/xgboost-split_1637426408905/work/src/learner.cc:576: \n",
      "Parameters: { \"early_stopping_rounds\" } might not be used.\n",
      "\n",
      "  This could be a false alarm, with some parameters getting used by language bindings but\n",
      "  then being mistakenly passed down to XGBoost core, or some parameter actually being used\n",
      "  but getting flagged wrongly here. Please open an issue if you find any such cases.\n",
      "\n",
      "\n",
      "1\n",
      "[6.674624158395224, 4.449200103474802]\n"
     ]
    },
    {
     "data": {
      "text/plain": [
       "Index(['wind_speed', 'track_distance', 'total_houses', 'rainfall_max_6h',\n",
       "       'rainfall_max_24h', 'rwi', 'mean_slope', 'std_slope', 'mean_tri',\n",
       "       'std_tri', 'mean_elev', 'coast_length', 'with_coast', 'urban', 'rural',\n",
       "       'water', 'total_pop', 'percent_houses_damaged_5years'],\n",
       "      dtype='object')"
      ]
     },
     "metadata": {},
     "output_type": "display_data"
    },
    {
     "name": "stderr",
     "output_type": "stream",
     "text": [
      "pandas.Int64Index is deprecated and will be removed from pandas in a future version. Use pandas.Index with the appropriate dtype instead.\n"
     ]
    },
    {
     "name": "stdout",
     "output_type": "stream",
     "text": [
      "[12:53:46] WARNING: /Users/runner/miniforge3/conda-bld/xgboost-split_1637426408905/work/src/learner.cc:576: \n",
      "Parameters: { \"early_stopping_rounds\" } might not be used.\n",
      "\n",
      "  This could be a false alarm, with some parameters getting used by language bindings but\n",
      "  then being mistakenly passed down to XGBoost core, or some parameter actually being used\n",
      "  but getting flagged wrongly here. Please open an issue if you find any such cases.\n",
      "\n",
      "\n",
      "Counter({0: 47487, 1: 1066})\n",
      "Counter({0: 10660, 1: 1066})\n"
     ]
    },
    {
     "name": "stderr",
     "output_type": "stream",
     "text": [
      "The use of label encoder in XGBClassifier is deprecated and will be removed in a future release. To remove this warning, do the following: 1) Pass option use_label_encoder=False when constructing XGBClassifier object; and 2) Encode your labels (y) as integers starting with 0, i.e. 0, 1, 2, ..., [num_class - 1].\n",
      "pandas.Int64Index is deprecated and will be removed from pandas in a future version. Use pandas.Index with the appropriate dtype instead.\n"
     ]
    },
    {
     "data": {
      "text/plain": [
       "Index(['wind_speed', 'track_distance', 'total_houses', 'rainfall_max_6h',\n",
       "       'rainfall_max_24h', 'rwi', 'mean_slope', 'std_slope', 'mean_tri',\n",
       "       'std_tri', 'mean_elev', 'coast_length', 'with_coast', 'urban', 'rural',\n",
       "       'water', 'total_pop', 'percent_houses_damaged_5years'],\n",
       "      dtype='object')"
      ]
     },
     "metadata": {},
     "output_type": "display_data"
    },
    {
     "name": "stderr",
     "output_type": "stream",
     "text": [
      "pandas.Int64Index is deprecated and will be removed from pandas in a future version. Use pandas.Index with the appropriate dtype instead.\n"
     ]
    },
    {
     "name": "stdout",
     "output_type": "stream",
     "text": [
      "[12:53:50] WARNING: /Users/runner/miniforge3/conda-bld/xgboost-split_1637426408905/work/src/learner.cc:576: \n",
      "Parameters: { \"early_stopping_rounds\" } might not be used.\n",
      "\n",
      "  This could be a false alarm, with some parameters getting used by language bindings but\n",
      "  then being mistakenly passed down to XGBoost core, or some parameter actually being used\n",
      "  but getting flagged wrongly here. Please open an issue if you find any such cases.\n",
      "\n",
      "\n",
      "2\n",
      "[6.674624158395224, 4.449200103474802, 1.790356151362048]\n"
     ]
    },
    {
     "data": {
      "text/plain": [
       "Index(['wind_speed', 'track_distance', 'total_houses', 'rainfall_max_6h',\n",
       "       'rainfall_max_24h', 'rwi', 'mean_slope', 'std_slope', 'mean_tri',\n",
       "       'std_tri', 'mean_elev', 'coast_length', 'with_coast', 'urban', 'rural',\n",
       "       'water', 'total_pop', 'percent_houses_damaged_5years'],\n",
       "      dtype='object')"
      ]
     },
     "metadata": {},
     "output_type": "display_data"
    },
    {
     "name": "stderr",
     "output_type": "stream",
     "text": [
      "pandas.Int64Index is deprecated and will be removed from pandas in a future version. Use pandas.Index with the appropriate dtype instead.\n"
     ]
    },
    {
     "name": "stdout",
     "output_type": "stream",
     "text": [
      "[12:53:51] WARNING: /Users/runner/miniforge3/conda-bld/xgboost-split_1637426408905/work/src/learner.cc:576: \n",
      "Parameters: { \"early_stopping_rounds\" } might not be used.\n",
      "\n",
      "  This could be a false alarm, with some parameters getting used by language bindings but\n",
      "  then being mistakenly passed down to XGBoost core, or some parameter actually being used\n",
      "  but getting flagged wrongly here. Please open an issue if you find any such cases.\n",
      "\n",
      "\n",
      "Counter({0: 47333, 1: 1069})\n",
      "Counter({0: 10690, 1: 1069})\n"
     ]
    },
    {
     "name": "stderr",
     "output_type": "stream",
     "text": [
      "The use of label encoder in XGBClassifier is deprecated and will be removed in a future release. To remove this warning, do the following: 1) Pass option use_label_encoder=False when constructing XGBClassifier object; and 2) Encode your labels (y) as integers starting with 0, i.e. 0, 1, 2, ..., [num_class - 1].\n",
      "pandas.Int64Index is deprecated and will be removed from pandas in a future version. Use pandas.Index with the appropriate dtype instead.\n"
     ]
    },
    {
     "data": {
      "text/plain": [
       "Index(['wind_speed', 'track_distance', 'total_houses', 'rainfall_max_6h',\n",
       "       'rainfall_max_24h', 'rwi', 'mean_slope', 'std_slope', 'mean_tri',\n",
       "       'std_tri', 'mean_elev', 'coast_length', 'with_coast', 'urban', 'rural',\n",
       "       'water', 'total_pop', 'percent_houses_damaged_5years'],\n",
       "      dtype='object')"
      ]
     },
     "metadata": {},
     "output_type": "display_data"
    },
    {
     "name": "stderr",
     "output_type": "stream",
     "text": [
      "pandas.Int64Index is deprecated and will be removed from pandas in a future version. Use pandas.Index with the appropriate dtype instead.\n",
      "\n",
      "A value is trying to be set on a copy of a slice from a DataFrame.\n",
      "Try using .loc[row_indexer,col_indexer] = value instead\n",
      "\n",
      "See the caveats in the documentation: https://pandas.pydata.org/pandas-docs/stable/user_guide/indexing.html#returning-a-view-versus-a-copy\n",
      "\n",
      "A value is trying to be set on a copy of a slice from a DataFrame.\n",
      "Try using .loc[row_indexer,col_indexer] = value instead\n",
      "\n",
      "See the caveats in the documentation: https://pandas.pydata.org/pandas-docs/stable/user_guide/indexing.html#returning-a-view-versus-a-copy\n"
     ]
    },
    {
     "name": "stdout",
     "output_type": "stream",
     "text": [
      "[12:53:54] WARNING: /Users/runner/miniforge3/conda-bld/xgboost-split_1637426408905/work/src/learner.cc:576: \n",
      "Parameters: { \"early_stopping_rounds\" } might not be used.\n",
      "\n",
      "  This could be a false alarm, with some parameters getting used by language bindings but\n",
      "  then being mistakenly passed down to XGBoost core, or some parameter actually being used\n",
      "  but getting flagged wrongly here. Please open an issue if you find any such cases.\n",
      "\n",
      "\n",
      "3\n",
      "[6.674624158395224, 4.449200103474802, 1.790356151362048, 1.5163534456986811]\n"
     ]
    },
    {
     "data": {
      "text/plain": [
       "Index(['wind_speed', 'track_distance', 'total_houses', 'rainfall_max_6h',\n",
       "       'rainfall_max_24h', 'rwi', 'mean_slope', 'std_slope', 'mean_tri',\n",
       "       'std_tri', 'mean_elev', 'coast_length', 'with_coast', 'urban', 'rural',\n",
       "       'water', 'total_pop', 'percent_houses_damaged_5years'],\n",
       "      dtype='object')"
      ]
     },
     "metadata": {},
     "output_type": "display_data"
    },
    {
     "name": "stderr",
     "output_type": "stream",
     "text": [
      "pandas.Int64Index is deprecated and will be removed from pandas in a future version. Use pandas.Index with the appropriate dtype instead.\n"
     ]
    },
    {
     "name": "stdout",
     "output_type": "stream",
     "text": [
      "[12:53:56] WARNING: /Users/runner/miniforge3/conda-bld/xgboost-split_1637426408905/work/src/learner.cc:576: \n",
      "Parameters: { \"early_stopping_rounds\" } might not be used.\n",
      "\n",
      "  This could be a false alarm, with some parameters getting used by language bindings but\n",
      "  then being mistakenly passed down to XGBoost core, or some parameter actually being used\n",
      "  but getting flagged wrongly here. Please open an issue if you find any such cases.\n",
      "\n",
      "\n",
      "Counter({0: 47585, 1: 1069})\n",
      "Counter({0: 10690, 1: 1069})\n"
     ]
    },
    {
     "name": "stderr",
     "output_type": "stream",
     "text": [
      "The use of label encoder in XGBClassifier is deprecated and will be removed in a future release. To remove this warning, do the following: 1) Pass option use_label_encoder=False when constructing XGBClassifier object; and 2) Encode your labels (y) as integers starting with 0, i.e. 0, 1, 2, ..., [num_class - 1].\n",
      "pandas.Int64Index is deprecated and will be removed from pandas in a future version. Use pandas.Index with the appropriate dtype instead.\n"
     ]
    },
    {
     "data": {
      "text/plain": [
       "Index(['wind_speed', 'track_distance', 'total_houses', 'rainfall_max_6h',\n",
       "       'rainfall_max_24h', 'rwi', 'mean_slope', 'std_slope', 'mean_tri',\n",
       "       'std_tri', 'mean_elev', 'coast_length', 'with_coast', 'urban', 'rural',\n",
       "       'water', 'total_pop', 'percent_houses_damaged_5years'],\n",
       "      dtype='object')"
      ]
     },
     "metadata": {},
     "output_type": "display_data"
    },
    {
     "name": "stderr",
     "output_type": "stream",
     "text": [
      "pandas.Int64Index is deprecated and will be removed from pandas in a future version. Use pandas.Index with the appropriate dtype instead.\n",
      "\n",
      "A value is trying to be set on a copy of a slice from a DataFrame.\n",
      "Try using .loc[row_indexer,col_indexer] = value instead\n",
      "\n",
      "See the caveats in the documentation: https://pandas.pydata.org/pandas-docs/stable/user_guide/indexing.html#returning-a-view-versus-a-copy\n",
      "\n",
      "A value is trying to be set on a copy of a slice from a DataFrame.\n",
      "Try using .loc[row_indexer,col_indexer] = value instead\n",
      "\n",
      "See the caveats in the documentation: https://pandas.pydata.org/pandas-docs/stable/user_guide/indexing.html#returning-a-view-versus-a-copy\n"
     ]
    },
    {
     "name": "stdout",
     "output_type": "stream",
     "text": [
      "[12:53:59] WARNING: /Users/runner/miniforge3/conda-bld/xgboost-split_1637426408905/work/src/learner.cc:576: \n",
      "Parameters: { \"early_stopping_rounds\" } might not be used.\n",
      "\n",
      "  This could be a false alarm, with some parameters getting used by language bindings but\n",
      "  then being mistakenly passed down to XGBoost core, or some parameter actually being used\n",
      "  but getting flagged wrongly here. Please open an issue if you find any such cases.\n",
      "\n",
      "\n",
      "4\n",
      "[6.674624158395224, 4.449200103474802, 1.790356151362048, 1.5163534456986811, 1.4361113612231042]\n"
     ]
    },
    {
     "data": {
      "text/plain": [
       "Index(['wind_speed', 'track_distance', 'total_houses', 'rainfall_max_6h',\n",
       "       'rainfall_max_24h', 'rwi', 'mean_slope', 'std_slope', 'mean_tri',\n",
       "       'std_tri', 'mean_elev', 'coast_length', 'with_coast', 'urban', 'rural',\n",
       "       'water', 'total_pop', 'percent_houses_damaged_5years'],\n",
       "      dtype='object')"
      ]
     },
     "metadata": {},
     "output_type": "display_data"
    },
    {
     "name": "stderr",
     "output_type": "stream",
     "text": [
      "pandas.Int64Index is deprecated and will be removed from pandas in a future version. Use pandas.Index with the appropriate dtype instead.\n"
     ]
    },
    {
     "name": "stdout",
     "output_type": "stream",
     "text": [
      "[12:54:01] WARNING: /Users/runner/miniforge3/conda-bld/xgboost-split_1637426408905/work/src/learner.cc:576: \n",
      "Parameters: { \"early_stopping_rounds\" } might not be used.\n",
      "\n",
      "  This could be a false alarm, with some parameters getting used by language bindings but\n",
      "  then being mistakenly passed down to XGBoost core, or some parameter actually being used\n",
      "  but getting flagged wrongly here. Please open an issue if you find any such cases.\n",
      "\n",
      "\n",
      "Counter({0: 46401, 1: 989})\n",
      "Counter({0: 9890, 1: 989})\n"
     ]
    },
    {
     "name": "stderr",
     "output_type": "stream",
     "text": [
      "The use of label encoder in XGBClassifier is deprecated and will be removed in a future release. To remove this warning, do the following: 1) Pass option use_label_encoder=False when constructing XGBClassifier object; and 2) Encode your labels (y) as integers starting with 0, i.e. 0, 1, 2, ..., [num_class - 1].\n",
      "pandas.Int64Index is deprecated and will be removed from pandas in a future version. Use pandas.Index with the appropriate dtype instead.\n"
     ]
    },
    {
     "data": {
      "text/plain": [
       "Index(['wind_speed', 'track_distance', 'total_houses', 'rainfall_max_6h',\n",
       "       'rainfall_max_24h', 'rwi', 'mean_slope', 'std_slope', 'mean_tri',\n",
       "       'std_tri', 'mean_elev', 'coast_length', 'with_coast', 'urban', 'rural',\n",
       "       'water', 'total_pop', 'percent_houses_damaged_5years'],\n",
       "      dtype='object')"
      ]
     },
     "metadata": {},
     "output_type": "display_data"
    },
    {
     "name": "stderr",
     "output_type": "stream",
     "text": [
      "pandas.Int64Index is deprecated and will be removed from pandas in a future version. Use pandas.Index with the appropriate dtype instead.\n",
      "\n",
      "A value is trying to be set on a copy of a slice from a DataFrame.\n",
      "Try using .loc[row_indexer,col_indexer] = value instead\n",
      "\n",
      "See the caveats in the documentation: https://pandas.pydata.org/pandas-docs/stable/user_guide/indexing.html#returning-a-view-versus-a-copy\n",
      "\n",
      "A value is trying to be set on a copy of a slice from a DataFrame.\n",
      "Try using .loc[row_indexer,col_indexer] = value instead\n",
      "\n",
      "See the caveats in the documentation: https://pandas.pydata.org/pandas-docs/stable/user_guide/indexing.html#returning-a-view-versus-a-copy\n"
     ]
    },
    {
     "name": "stdout",
     "output_type": "stream",
     "text": [
      "[12:54:04] WARNING: /Users/runner/miniforge3/conda-bld/xgboost-split_1637426408905/work/src/learner.cc:576: \n",
      "Parameters: { \"early_stopping_rounds\" } might not be used.\n",
      "\n",
      "  This could be a false alarm, with some parameters getting used by language bindings but\n",
      "  then being mistakenly passed down to XGBoost core, or some parameter actually being used\n",
      "  but getting flagged wrongly here. Please open an issue if you find any such cases.\n",
      "\n",
      "\n",
      "5\n",
      "[6.674624158395224, 4.449200103474802, 1.790356151362048, 1.5163534456986811, 1.4361113612231042, 7.204346884902653]\n"
     ]
    },
    {
     "data": {
      "text/plain": [
       "Index(['wind_speed', 'track_distance', 'total_houses', 'rainfall_max_6h',\n",
       "       'rainfall_max_24h', 'rwi', 'mean_slope', 'std_slope', 'mean_tri',\n",
       "       'std_tri', 'mean_elev', 'coast_length', 'with_coast', 'urban', 'rural',\n",
       "       'water', 'total_pop', 'percent_houses_damaged_5years'],\n",
       "      dtype='object')"
      ]
     },
     "metadata": {},
     "output_type": "display_data"
    },
    {
     "name": "stderr",
     "output_type": "stream",
     "text": [
      "pandas.Int64Index is deprecated and will be removed from pandas in a future version. Use pandas.Index with the appropriate dtype instead.\n"
     ]
    },
    {
     "name": "stdout",
     "output_type": "stream",
     "text": [
      "[12:54:05] WARNING: /Users/runner/miniforge3/conda-bld/xgboost-split_1637426408905/work/src/learner.cc:576: \n",
      "Parameters: { \"early_stopping_rounds\" } might not be used.\n",
      "\n",
      "  This could be a false alarm, with some parameters getting used by language bindings but\n",
      "  then being mistakenly passed down to XGBoost core, or some parameter actually being used\n",
      "  but getting flagged wrongly here. Please open an issue if you find any such cases.\n",
      "\n",
      "\n",
      "Counter({0: 47483, 1: 1068})\n",
      "Counter({0: 10680, 1: 1068})\n"
     ]
    },
    {
     "name": "stderr",
     "output_type": "stream",
     "text": [
      "The use of label encoder in XGBClassifier is deprecated and will be removed in a future release. To remove this warning, do the following: 1) Pass option use_label_encoder=False when constructing XGBClassifier object; and 2) Encode your labels (y) as integers starting with 0, i.e. 0, 1, 2, ..., [num_class - 1].\n",
      "pandas.Int64Index is deprecated and will be removed from pandas in a future version. Use pandas.Index with the appropriate dtype instead.\n"
     ]
    },
    {
     "data": {
      "text/plain": [
       "Index(['wind_speed', 'track_distance', 'total_houses', 'rainfall_max_6h',\n",
       "       'rainfall_max_24h', 'rwi', 'mean_slope', 'std_slope', 'mean_tri',\n",
       "       'std_tri', 'mean_elev', 'coast_length', 'with_coast', 'urban', 'rural',\n",
       "       'water', 'total_pop', 'percent_houses_damaged_5years'],\n",
       "      dtype='object')"
      ]
     },
     "metadata": {},
     "output_type": "display_data"
    },
    {
     "name": "stderr",
     "output_type": "stream",
     "text": [
      "pandas.Int64Index is deprecated and will be removed from pandas in a future version. Use pandas.Index with the appropriate dtype instead.\n",
      "\n",
      "A value is trying to be set on a copy of a slice from a DataFrame.\n",
      "Try using .loc[row_indexer,col_indexer] = value instead\n",
      "\n",
      "See the caveats in the documentation: https://pandas.pydata.org/pandas-docs/stable/user_guide/indexing.html#returning-a-view-versus-a-copy\n",
      "\n",
      "A value is trying to be set on a copy of a slice from a DataFrame.\n",
      "Try using .loc[row_indexer,col_indexer] = value instead\n",
      "\n",
      "See the caveats in the documentation: https://pandas.pydata.org/pandas-docs/stable/user_guide/indexing.html#returning-a-view-versus-a-copy\n"
     ]
    },
    {
     "name": "stdout",
     "output_type": "stream",
     "text": [
      "[12:54:09] WARNING: /Users/runner/miniforge3/conda-bld/xgboost-split_1637426408905/work/src/learner.cc:576: \n",
      "Parameters: { \"early_stopping_rounds\" } might not be used.\n",
      "\n",
      "  This could be a false alarm, with some parameters getting used by language bindings but\n",
      "  then being mistakenly passed down to XGBoost core, or some parameter actually being used\n",
      "  but getting flagged wrongly here. Please open an issue if you find any such cases.\n",
      "\n",
      "\n",
      "6\n",
      "[6.674624158395224, 4.449200103474802, 1.790356151362048, 1.5163534456986811, 1.4361113612231042, 7.204346884902653, 1.7235841429905965]\n"
     ]
    },
    {
     "data": {
      "text/plain": [
       "Index(['wind_speed', 'track_distance', 'total_houses', 'rainfall_max_6h',\n",
       "       'rainfall_max_24h', 'rwi', 'mean_slope', 'std_slope', 'mean_tri',\n",
       "       'std_tri', 'mean_elev', 'coast_length', 'with_coast', 'urban', 'rural',\n",
       "       'water', 'total_pop', 'percent_houses_damaged_5years'],\n",
       "      dtype='object')"
      ]
     },
     "metadata": {},
     "output_type": "display_data"
    },
    {
     "name": "stderr",
     "output_type": "stream",
     "text": [
      "pandas.Int64Index is deprecated and will be removed from pandas in a future version. Use pandas.Index with the appropriate dtype instead.\n"
     ]
    },
    {
     "name": "stdout",
     "output_type": "stream",
     "text": [
      "[12:54:10] WARNING: /Users/runner/miniforge3/conda-bld/xgboost-split_1637426408905/work/src/learner.cc:576: \n",
      "Parameters: { \"early_stopping_rounds\" } might not be used.\n",
      "\n",
      "  This could be a false alarm, with some parameters getting used by language bindings but\n",
      "  then being mistakenly passed down to XGBoost core, or some parameter actually being used\n",
      "  but getting flagged wrongly here. Please open an issue if you find any such cases.\n",
      "\n",
      "\n",
      "Counter({0: 48070, 1: 1069})\n",
      "Counter({0: 10690, 1: 1069})\n"
     ]
    },
    {
     "name": "stderr",
     "output_type": "stream",
     "text": [
      "The use of label encoder in XGBClassifier is deprecated and will be removed in a future release. To remove this warning, do the following: 1) Pass option use_label_encoder=False when constructing XGBClassifier object; and 2) Encode your labels (y) as integers starting with 0, i.e. 0, 1, 2, ..., [num_class - 1].\n",
      "pandas.Int64Index is deprecated and will be removed from pandas in a future version. Use pandas.Index with the appropriate dtype instead.\n"
     ]
    },
    {
     "data": {
      "text/plain": [
       "Index(['wind_speed', 'track_distance', 'total_houses', 'rainfall_max_6h',\n",
       "       'rainfall_max_24h', 'rwi', 'mean_slope', 'std_slope', 'mean_tri',\n",
       "       'std_tri', 'mean_elev', 'coast_length', 'with_coast', 'urban', 'rural',\n",
       "       'water', 'total_pop', 'percent_houses_damaged_5years'],\n",
       "      dtype='object')"
      ]
     },
     "metadata": {},
     "output_type": "display_data"
    },
    {
     "name": "stderr",
     "output_type": "stream",
     "text": [
      "pandas.Int64Index is deprecated and will be removed from pandas in a future version. Use pandas.Index with the appropriate dtype instead.\n",
      "\n",
      "A value is trying to be set on a copy of a slice from a DataFrame.\n",
      "Try using .loc[row_indexer,col_indexer] = value instead\n",
      "\n",
      "See the caveats in the documentation: https://pandas.pydata.org/pandas-docs/stable/user_guide/indexing.html#returning-a-view-versus-a-copy\n",
      "\n",
      "A value is trying to be set on a copy of a slice from a DataFrame.\n",
      "Try using .loc[row_indexer,col_indexer] = value instead\n",
      "\n",
      "See the caveats in the documentation: https://pandas.pydata.org/pandas-docs/stable/user_guide/indexing.html#returning-a-view-versus-a-copy\n"
     ]
    },
    {
     "name": "stdout",
     "output_type": "stream",
     "text": [
      "[12:54:14] WARNING: /Users/runner/miniforge3/conda-bld/xgboost-split_1637426408905/work/src/learner.cc:576: \n",
      "Parameters: { \"early_stopping_rounds\" } might not be used.\n",
      "\n",
      "  This could be a false alarm, with some parameters getting used by language bindings but\n",
      "  then being mistakenly passed down to XGBoost core, or some parameter actually being used\n",
      "  but getting flagged wrongly here. Please open an issue if you find any such cases.\n",
      "\n",
      "\n",
      "7\n",
      "[6.674624158395224, 4.449200103474802, 1.790356151362048, 1.5163534456986811, 1.4361113612231042, 7.204346884902653, 1.7235841429905965, 1.8969233976981363]\n"
     ]
    },
    {
     "data": {
      "text/plain": [
       "Index(['wind_speed', 'track_distance', 'total_houses', 'rainfall_max_6h',\n",
       "       'rainfall_max_24h', 'rwi', 'mean_slope', 'std_slope', 'mean_tri',\n",
       "       'std_tri', 'mean_elev', 'coast_length', 'with_coast', 'urban', 'rural',\n",
       "       'water', 'total_pop', 'percent_houses_damaged_5years'],\n",
       "      dtype='object')"
      ]
     },
     "metadata": {},
     "output_type": "display_data"
    },
    {
     "name": "stderr",
     "output_type": "stream",
     "text": [
      "pandas.Int64Index is deprecated and will be removed from pandas in a future version. Use pandas.Index with the appropriate dtype instead.\n"
     ]
    },
    {
     "name": "stdout",
     "output_type": "stream",
     "text": [
      "[12:54:15] WARNING: /Users/runner/miniforge3/conda-bld/xgboost-split_1637426408905/work/src/learner.cc:576: \n",
      "Parameters: { \"early_stopping_rounds\" } might not be used.\n",
      "\n",
      "  This could be a false alarm, with some parameters getting used by language bindings but\n",
      "  then being mistakenly passed down to XGBoost core, or some parameter actually being used\n",
      "  but getting flagged wrongly here. Please open an issue if you find any such cases.\n",
      "\n",
      "\n",
      "Counter({0: 47171, 1: 789})\n",
      "Counter({0: 7890, 1: 789})\n"
     ]
    },
    {
     "name": "stderr",
     "output_type": "stream",
     "text": [
      "The use of label encoder in XGBClassifier is deprecated and will be removed in a future release. To remove this warning, do the following: 1) Pass option use_label_encoder=False when constructing XGBClassifier object; and 2) Encode your labels (y) as integers starting with 0, i.e. 0, 1, 2, ..., [num_class - 1].\n",
      "pandas.Int64Index is deprecated and will be removed from pandas in a future version. Use pandas.Index with the appropriate dtype instead.\n"
     ]
    },
    {
     "data": {
      "text/plain": [
       "Index(['wind_speed', 'track_distance', 'total_houses', 'rainfall_max_6h',\n",
       "       'rainfall_max_24h', 'rwi', 'mean_slope', 'std_slope', 'mean_tri',\n",
       "       'std_tri', 'mean_elev', 'coast_length', 'with_coast', 'urban', 'rural',\n",
       "       'water', 'total_pop', 'percent_houses_damaged_5years'],\n",
       "      dtype='object')"
      ]
     },
     "metadata": {},
     "output_type": "display_data"
    },
    {
     "name": "stderr",
     "output_type": "stream",
     "text": [
      "pandas.Int64Index is deprecated and will be removed from pandas in a future version. Use pandas.Index with the appropriate dtype instead.\n",
      "\n",
      "A value is trying to be set on a copy of a slice from a DataFrame.\n",
      "Try using .loc[row_indexer,col_indexer] = value instead\n",
      "\n",
      "See the caveats in the documentation: https://pandas.pydata.org/pandas-docs/stable/user_guide/indexing.html#returning-a-view-versus-a-copy\n",
      "\n",
      "A value is trying to be set on a copy of a slice from a DataFrame.\n",
      "Try using .loc[row_indexer,col_indexer] = value instead\n",
      "\n",
      "See the caveats in the documentation: https://pandas.pydata.org/pandas-docs/stable/user_guide/indexing.html#returning-a-view-versus-a-copy\n"
     ]
    },
    {
     "name": "stdout",
     "output_type": "stream",
     "text": [
      "[12:54:19] WARNING: /Users/runner/miniforge3/conda-bld/xgboost-split_1637426408905/work/src/learner.cc:576: \n",
      "Parameters: { \"early_stopping_rounds\" } might not be used.\n",
      "\n",
      "  This could be a false alarm, with some parameters getting used by language bindings but\n",
      "  then being mistakenly passed down to XGBoost core, or some parameter actually being used\n",
      "  but getting flagged wrongly here. Please open an issue if you find any such cases.\n",
      "\n",
      "\n",
      "8\n",
      "[6.674624158395224, 4.449200103474802, 1.790356151362048, 1.5163534456986811, 1.4361113612231042, 7.204346884902653, 1.7235841429905965, 1.8969233976981363, 12.06976526852469]\n"
     ]
    },
    {
     "data": {
      "text/plain": [
       "Index(['wind_speed', 'track_distance', 'total_houses', 'rainfall_max_6h',\n",
       "       'rainfall_max_24h', 'rwi', 'mean_slope', 'std_slope', 'mean_tri',\n",
       "       'std_tri', 'mean_elev', 'coast_length', 'with_coast', 'urban', 'rural',\n",
       "       'water', 'total_pop', 'percent_houses_damaged_5years'],\n",
       "      dtype='object')"
      ]
     },
     "metadata": {},
     "output_type": "display_data"
    },
    {
     "name": "stderr",
     "output_type": "stream",
     "text": [
      "pandas.Int64Index is deprecated and will be removed from pandas in a future version. Use pandas.Index with the appropriate dtype instead.\n"
     ]
    },
    {
     "name": "stdout",
     "output_type": "stream",
     "text": [
      "[12:54:20] WARNING: /Users/runner/miniforge3/conda-bld/xgboost-split_1637426408905/work/src/learner.cc:576: \n",
      "Parameters: { \"early_stopping_rounds\" } might not be used.\n",
      "\n",
      "  This could be a false alarm, with some parameters getting used by language bindings but\n",
      "  then being mistakenly passed down to XGBoost core, or some parameter actually being used\n",
      "  but getting flagged wrongly here. Please open an issue if you find any such cases.\n",
      "\n",
      "\n",
      "Counter({0: 48537, 1: 1069})\n",
      "Counter({0: 10690, 1: 1069})\n"
     ]
    },
    {
     "name": "stderr",
     "output_type": "stream",
     "text": [
      "The use of label encoder in XGBClassifier is deprecated and will be removed in a future release. To remove this warning, do the following: 1) Pass option use_label_encoder=False when constructing XGBClassifier object; and 2) Encode your labels (y) as integers starting with 0, i.e. 0, 1, 2, ..., [num_class - 1].\n",
      "pandas.Int64Index is deprecated and will be removed from pandas in a future version. Use pandas.Index with the appropriate dtype instead.\n"
     ]
    },
    {
     "data": {
      "text/plain": [
       "Index(['wind_speed', 'track_distance', 'total_houses', 'rainfall_max_6h',\n",
       "       'rainfall_max_24h', 'rwi', 'mean_slope', 'std_slope', 'mean_tri',\n",
       "       'std_tri', 'mean_elev', 'coast_length', 'with_coast', 'urban', 'rural',\n",
       "       'water', 'total_pop', 'percent_houses_damaged_5years'],\n",
       "      dtype='object')"
      ]
     },
     "metadata": {},
     "output_type": "display_data"
    },
    {
     "name": "stderr",
     "output_type": "stream",
     "text": [
      "pandas.Int64Index is deprecated and will be removed from pandas in a future version. Use pandas.Index with the appropriate dtype instead.\n",
      "\n",
      "A value is trying to be set on a copy of a slice from a DataFrame.\n",
      "Try using .loc[row_indexer,col_indexer] = value instead\n",
      "\n",
      "See the caveats in the documentation: https://pandas.pydata.org/pandas-docs/stable/user_guide/indexing.html#returning-a-view-versus-a-copy\n",
      "\n",
      "A value is trying to be set on a copy of a slice from a DataFrame.\n",
      "Try using .loc[row_indexer,col_indexer] = value instead\n",
      "\n",
      "See the caveats in the documentation: https://pandas.pydata.org/pandas-docs/stable/user_guide/indexing.html#returning-a-view-versus-a-copy\n"
     ]
    },
    {
     "name": "stdout",
     "output_type": "stream",
     "text": [
      "[12:54:24] WARNING: /Users/runner/miniforge3/conda-bld/xgboost-split_1637426408905/work/src/learner.cc:576: \n",
      "Parameters: { \"early_stopping_rounds\" } might not be used.\n",
      "\n",
      "  This could be a false alarm, with some parameters getting used by language bindings but\n",
      "  then being mistakenly passed down to XGBoost core, or some parameter actually being used\n",
      "  but getting flagged wrongly here. Please open an issue if you find any such cases.\n",
      "\n",
      "\n",
      "9\n",
      "[6.674624158395224, 4.449200103474802, 1.790356151362048, 1.5163534456986811, 1.4361113612231042, 7.204346884902653, 1.7235841429905965, 1.8969233976981363, 12.06976526852469, 3.5901877263232476]\n"
     ]
    },
    {
     "data": {
      "text/plain": [
       "Index(['wind_speed', 'track_distance', 'total_houses', 'rainfall_max_6h',\n",
       "       'rainfall_max_24h', 'rwi', 'mean_slope', 'std_slope', 'mean_tri',\n",
       "       'std_tri', 'mean_elev', 'coast_length', 'with_coast', 'urban', 'rural',\n",
       "       'water', 'total_pop', 'percent_houses_damaged_5years'],\n",
       "      dtype='object')"
      ]
     },
     "metadata": {},
     "output_type": "display_data"
    },
    {
     "name": "stderr",
     "output_type": "stream",
     "text": [
      "pandas.Int64Index is deprecated and will be removed from pandas in a future version. Use pandas.Index with the appropriate dtype instead.\n"
     ]
    },
    {
     "name": "stdout",
     "output_type": "stream",
     "text": [
      "[12:54:25] WARNING: /Users/runner/miniforge3/conda-bld/xgboost-split_1637426408905/work/src/learner.cc:576: \n",
      "Parameters: { \"early_stopping_rounds\" } might not be used.\n",
      "\n",
      "  This could be a false alarm, with some parameters getting used by language bindings but\n",
      "  then being mistakenly passed down to XGBoost core, or some parameter actually being used\n",
      "  but getting flagged wrongly here. Please open an issue if you find any such cases.\n",
      "\n",
      "\n",
      "Counter({0: 47424, 1: 1059})\n",
      "Counter({0: 10590, 1: 1059})\n"
     ]
    },
    {
     "name": "stderr",
     "output_type": "stream",
     "text": [
      "The use of label encoder in XGBClassifier is deprecated and will be removed in a future release. To remove this warning, do the following: 1) Pass option use_label_encoder=False when constructing XGBClassifier object; and 2) Encode your labels (y) as integers starting with 0, i.e. 0, 1, 2, ..., [num_class - 1].\n",
      "pandas.Int64Index is deprecated and will be removed from pandas in a future version. Use pandas.Index with the appropriate dtype instead.\n"
     ]
    },
    {
     "data": {
      "text/plain": [
       "Index(['wind_speed', 'track_distance', 'total_houses', 'rainfall_max_6h',\n",
       "       'rainfall_max_24h', 'rwi', 'mean_slope', 'std_slope', 'mean_tri',\n",
       "       'std_tri', 'mean_elev', 'coast_length', 'with_coast', 'urban', 'rural',\n",
       "       'water', 'total_pop', 'percent_houses_damaged_5years'],\n",
       "      dtype='object')"
      ]
     },
     "metadata": {},
     "output_type": "display_data"
    },
    {
     "name": "stderr",
     "output_type": "stream",
     "text": [
      "pandas.Int64Index is deprecated and will be removed from pandas in a future version. Use pandas.Index with the appropriate dtype instead.\n",
      "\n",
      "A value is trying to be set on a copy of a slice from a DataFrame.\n",
      "Try using .loc[row_indexer,col_indexer] = value instead\n",
      "\n",
      "See the caveats in the documentation: https://pandas.pydata.org/pandas-docs/stable/user_guide/indexing.html#returning-a-view-versus-a-copy\n",
      "\n",
      "A value is trying to be set on a copy of a slice from a DataFrame.\n",
      "Try using .loc[row_indexer,col_indexer] = value instead\n",
      "\n",
      "See the caveats in the documentation: https://pandas.pydata.org/pandas-docs/stable/user_guide/indexing.html#returning-a-view-versus-a-copy\n"
     ]
    },
    {
     "name": "stdout",
     "output_type": "stream",
     "text": [
      "[12:54:29] WARNING: /Users/runner/miniforge3/conda-bld/xgboost-split_1637426408905/work/src/learner.cc:576: \n",
      "Parameters: { \"early_stopping_rounds\" } might not be used.\n",
      "\n",
      "  This could be a false alarm, with some parameters getting used by language bindings but\n",
      "  then being mistakenly passed down to XGBoost core, or some parameter actually being used\n",
      "  but getting flagged wrongly here. Please open an issue if you find any such cases.\n",
      "\n",
      "\n",
      "10\n",
      "[6.674624158395224, 4.449200103474802, 1.790356151362048, 1.5163534456986811, 1.4361113612231042, 7.204346884902653, 1.7235841429905965, 1.8969233976981363, 12.06976526852469, 3.5901877263232476, 2.381031421682828]\n"
     ]
    },
    {
     "data": {
      "text/plain": [
       "Index(['wind_speed', 'track_distance', 'total_houses', 'rainfall_max_6h',\n",
       "       'rainfall_max_24h', 'rwi', 'mean_slope', 'std_slope', 'mean_tri',\n",
       "       'std_tri', 'mean_elev', 'coast_length', 'with_coast', 'urban', 'rural',\n",
       "       'water', 'total_pop', 'percent_houses_damaged_5years'],\n",
       "      dtype='object')"
      ]
     },
     "metadata": {},
     "output_type": "display_data"
    },
    {
     "name": "stderr",
     "output_type": "stream",
     "text": [
      "pandas.Int64Index is deprecated and will be removed from pandas in a future version. Use pandas.Index with the appropriate dtype instead.\n"
     ]
    },
    {
     "name": "stdout",
     "output_type": "stream",
     "text": [
      "[12:54:30] WARNING: /Users/runner/miniforge3/conda-bld/xgboost-split_1637426408905/work/src/learner.cc:576: \n",
      "Parameters: { \"early_stopping_rounds\" } might not be used.\n",
      "\n",
      "  This could be a false alarm, with some parameters getting used by language bindings but\n",
      "  then being mistakenly passed down to XGBoost core, or some parameter actually being used\n",
      "  but getting flagged wrongly here. Please open an issue if you find any such cases.\n",
      "\n",
      "\n",
      "Counter({0: 46679, 1: 1069})\n",
      "Counter({0: 10690, 1: 1069})\n"
     ]
    },
    {
     "name": "stderr",
     "output_type": "stream",
     "text": [
      "The use of label encoder in XGBClassifier is deprecated and will be removed in a future release. To remove this warning, do the following: 1) Pass option use_label_encoder=False when constructing XGBClassifier object; and 2) Encode your labels (y) as integers starting with 0, i.e. 0, 1, 2, ..., [num_class - 1].\n",
      "pandas.Int64Index is deprecated and will be removed from pandas in a future version. Use pandas.Index with the appropriate dtype instead.\n"
     ]
    },
    {
     "data": {
      "text/plain": [
       "Index(['wind_speed', 'track_distance', 'total_houses', 'rainfall_max_6h',\n",
       "       'rainfall_max_24h', 'rwi', 'mean_slope', 'std_slope', 'mean_tri',\n",
       "       'std_tri', 'mean_elev', 'coast_length', 'with_coast', 'urban', 'rural',\n",
       "       'water', 'total_pop', 'percent_houses_damaged_5years'],\n",
       "      dtype='object')"
      ]
     },
     "metadata": {},
     "output_type": "display_data"
    },
    {
     "name": "stderr",
     "output_type": "stream",
     "text": [
      "pandas.Int64Index is deprecated and will be removed from pandas in a future version. Use pandas.Index with the appropriate dtype instead.\n"
     ]
    },
    {
     "name": "stdout",
     "output_type": "stream",
     "text": [
      "[12:54:34] WARNING: /Users/runner/miniforge3/conda-bld/xgboost-split_1637426408905/work/src/learner.cc:576: \n",
      "Parameters: { \"early_stopping_rounds\" } might not be used.\n",
      "\n",
      "  This could be a false alarm, with some parameters getting used by language bindings but\n",
      "  then being mistakenly passed down to XGBoost core, or some parameter actually being used\n",
      "  but getting flagged wrongly here. Please open an issue if you find any such cases.\n",
      "\n",
      "\n",
      "11\n",
      "[6.674624158395224, 4.449200103474802, 1.790356151362048, 1.5163534456986811, 1.4361113612231042, 7.204346884902653, 1.7235841429905965, 1.8969233976981363, 12.06976526852469, 3.5901877263232476, 2.381031421682828, 0.43659658760198977]\n"
     ]
    },
    {
     "data": {
      "text/plain": [
       "Index(['wind_speed', 'track_distance', 'total_houses', 'rainfall_max_6h',\n",
       "       'rainfall_max_24h', 'rwi', 'mean_slope', 'std_slope', 'mean_tri',\n",
       "       'std_tri', 'mean_elev', 'coast_length', 'with_coast', 'urban', 'rural',\n",
       "       'water', 'total_pop', 'percent_houses_damaged_5years'],\n",
       "      dtype='object')"
      ]
     },
     "metadata": {},
     "output_type": "display_data"
    },
    {
     "name": "stderr",
     "output_type": "stream",
     "text": [
      "pandas.Int64Index is deprecated and will be removed from pandas in a future version. Use pandas.Index with the appropriate dtype instead.\n"
     ]
    },
    {
     "name": "stdout",
     "output_type": "stream",
     "text": [
      "[12:54:35] WARNING: /Users/runner/miniforge3/conda-bld/xgboost-split_1637426408905/work/src/learner.cc:576: \n",
      "Parameters: { \"early_stopping_rounds\" } might not be used.\n",
      "\n",
      "  This could be a false alarm, with some parameters getting used by language bindings but\n",
      "  then being mistakenly passed down to XGBoost core, or some parameter actually being used\n",
      "  but getting flagged wrongly here. Please open an issue if you find any such cases.\n",
      "\n",
      "\n",
      "Counter({0: 47937, 1: 1069})\n",
      "Counter({0: 10690, 1: 1069})\n"
     ]
    },
    {
     "name": "stderr",
     "output_type": "stream",
     "text": [
      "The use of label encoder in XGBClassifier is deprecated and will be removed in a future release. To remove this warning, do the following: 1) Pass option use_label_encoder=False when constructing XGBClassifier object; and 2) Encode your labels (y) as integers starting with 0, i.e. 0, 1, 2, ..., [num_class - 1].\n",
      "pandas.Int64Index is deprecated and will be removed from pandas in a future version. Use pandas.Index with the appropriate dtype instead.\n"
     ]
    },
    {
     "data": {
      "text/plain": [
       "Index(['wind_speed', 'track_distance', 'total_houses', 'rainfall_max_6h',\n",
       "       'rainfall_max_24h', 'rwi', 'mean_slope', 'std_slope', 'mean_tri',\n",
       "       'std_tri', 'mean_elev', 'coast_length', 'with_coast', 'urban', 'rural',\n",
       "       'water', 'total_pop', 'percent_houses_damaged_5years'],\n",
       "      dtype='object')"
      ]
     },
     "metadata": {},
     "output_type": "display_data"
    },
    {
     "name": "stderr",
     "output_type": "stream",
     "text": [
      "pandas.Int64Index is deprecated and will be removed from pandas in a future version. Use pandas.Index with the appropriate dtype instead.\n"
     ]
    },
    {
     "name": "stdout",
     "output_type": "stream",
     "text": [
      "[12:54:39] WARNING: /Users/runner/miniforge3/conda-bld/xgboost-split_1637426408905/work/src/learner.cc:576: \n",
      "Parameters: { \"early_stopping_rounds\" } might not be used.\n",
      "\n",
      "  This could be a false alarm, with some parameters getting used by language bindings but\n",
      "  then being mistakenly passed down to XGBoost core, or some parameter actually being used\n",
      "  but getting flagged wrongly here. Please open an issue if you find any such cases.\n",
      "\n",
      "\n",
      "12\n",
      "[6.674624158395224, 4.449200103474802, 1.790356151362048, 1.5163534456986811, 1.4361113612231042, 7.204346884902653, 1.7235841429905965, 1.8969233976981363, 12.06976526852469, 3.5901877263232476, 2.381031421682828, 0.43659658760198977, 0.29598669033671277]\n"
     ]
    },
    {
     "data": {
      "text/plain": [
       "Index(['wind_speed', 'track_distance', 'total_houses', 'rainfall_max_6h',\n",
       "       'rainfall_max_24h', 'rwi', 'mean_slope', 'std_slope', 'mean_tri',\n",
       "       'std_tri', 'mean_elev', 'coast_length', 'with_coast', 'urban', 'rural',\n",
       "       'water', 'total_pop', 'percent_houses_damaged_5years'],\n",
       "      dtype='object')"
      ]
     },
     "metadata": {},
     "output_type": "display_data"
    },
    {
     "name": "stderr",
     "output_type": "stream",
     "text": [
      "pandas.Int64Index is deprecated and will be removed from pandas in a future version. Use pandas.Index with the appropriate dtype instead.\n"
     ]
    },
    {
     "name": "stdout",
     "output_type": "stream",
     "text": [
      "[12:54:40] WARNING: /Users/runner/miniforge3/conda-bld/xgboost-split_1637426408905/work/src/learner.cc:576: \n",
      "Parameters: { \"early_stopping_rounds\" } might not be used.\n",
      "\n",
      "  This could be a false alarm, with some parameters getting used by language bindings but\n",
      "  then being mistakenly passed down to XGBoost core, or some parameter actually being used\n",
      "  but getting flagged wrongly here. Please open an issue if you find any such cases.\n",
      "\n",
      "\n",
      "Counter({0: 47110, 1: 1023})\n",
      "Counter({0: 10230, 1: 1023})\n"
     ]
    },
    {
     "name": "stderr",
     "output_type": "stream",
     "text": [
      "The use of label encoder in XGBClassifier is deprecated and will be removed in a future release. To remove this warning, do the following: 1) Pass option use_label_encoder=False when constructing XGBClassifier object; and 2) Encode your labels (y) as integers starting with 0, i.e. 0, 1, 2, ..., [num_class - 1].\n",
      "pandas.Int64Index is deprecated and will be removed from pandas in a future version. Use pandas.Index with the appropriate dtype instead.\n"
     ]
    },
    {
     "data": {
      "text/plain": [
       "Index(['wind_speed', 'track_distance', 'total_houses', 'rainfall_max_6h',\n",
       "       'rainfall_max_24h', 'rwi', 'mean_slope', 'std_slope', 'mean_tri',\n",
       "       'std_tri', 'mean_elev', 'coast_length', 'with_coast', 'urban', 'rural',\n",
       "       'water', 'total_pop', 'percent_houses_damaged_5years'],\n",
       "      dtype='object')"
      ]
     },
     "metadata": {},
     "output_type": "display_data"
    },
    {
     "name": "stderr",
     "output_type": "stream",
     "text": [
      "pandas.Int64Index is deprecated and will be removed from pandas in a future version. Use pandas.Index with the appropriate dtype instead.\n",
      "\n",
      "A value is trying to be set on a copy of a slice from a DataFrame.\n",
      "Try using .loc[row_indexer,col_indexer] = value instead\n",
      "\n",
      "See the caveats in the documentation: https://pandas.pydata.org/pandas-docs/stable/user_guide/indexing.html#returning-a-view-versus-a-copy\n",
      "\n",
      "A value is trying to be set on a copy of a slice from a DataFrame.\n",
      "Try using .loc[row_indexer,col_indexer] = value instead\n",
      "\n",
      "See the caveats in the documentation: https://pandas.pydata.org/pandas-docs/stable/user_guide/indexing.html#returning-a-view-versus-a-copy\n"
     ]
    },
    {
     "name": "stdout",
     "output_type": "stream",
     "text": [
      "[12:54:44] WARNING: /Users/runner/miniforge3/conda-bld/xgboost-split_1637426408905/work/src/learner.cc:576: \n",
      "Parameters: { \"early_stopping_rounds\" } might not be used.\n",
      "\n",
      "  This could be a false alarm, with some parameters getting used by language bindings but\n",
      "  then being mistakenly passed down to XGBoost core, or some parameter actually being used\n",
      "  but getting flagged wrongly here. Please open an issue if you find any such cases.\n",
      "\n",
      "\n",
      "13\n",
      "[6.674624158395224, 4.449200103474802, 1.790356151362048, 1.5163534456986811, 1.4361113612231042, 7.204346884902653, 1.7235841429905965, 1.8969233976981363, 12.06976526852469, 3.5901877263232476, 2.381031421682828, 0.43659658760198977, 0.29598669033671277, 3.0829939108386]\n"
     ]
    },
    {
     "data": {
      "text/plain": [
       "Index(['wind_speed', 'track_distance', 'total_houses', 'rainfall_max_6h',\n",
       "       'rainfall_max_24h', 'rwi', 'mean_slope', 'std_slope', 'mean_tri',\n",
       "       'std_tri', 'mean_elev', 'coast_length', 'with_coast', 'urban', 'rural',\n",
       "       'water', 'total_pop', 'percent_houses_damaged_5years'],\n",
       "      dtype='object')"
      ]
     },
     "metadata": {},
     "output_type": "display_data"
    },
    {
     "name": "stderr",
     "output_type": "stream",
     "text": [
      "pandas.Int64Index is deprecated and will be removed from pandas in a future version. Use pandas.Index with the appropriate dtype instead.\n"
     ]
    },
    {
     "name": "stdout",
     "output_type": "stream",
     "text": [
      "[12:54:45] WARNING: /Users/runner/miniforge3/conda-bld/xgboost-split_1637426408905/work/src/learner.cc:576: \n",
      "Parameters: { \"early_stopping_rounds\" } might not be used.\n",
      "\n",
      "  This could be a false alarm, with some parameters getting used by language bindings but\n",
      "  then being mistakenly passed down to XGBoost core, or some parameter actually being used\n",
      "  but getting flagged wrongly here. Please open an issue if you find any such cases.\n",
      "\n",
      "\n",
      "Counter({0: 46869, 1: 1015})\n",
      "Counter({0: 10150, 1: 1015})\n"
     ]
    },
    {
     "name": "stderr",
     "output_type": "stream",
     "text": [
      "The use of label encoder in XGBClassifier is deprecated and will be removed in a future release. To remove this warning, do the following: 1) Pass option use_label_encoder=False when constructing XGBClassifier object; and 2) Encode your labels (y) as integers starting with 0, i.e. 0, 1, 2, ..., [num_class - 1].\n",
      "pandas.Int64Index is deprecated and will be removed from pandas in a future version. Use pandas.Index with the appropriate dtype instead.\n"
     ]
    },
    {
     "data": {
      "text/plain": [
       "Index(['wind_speed', 'track_distance', 'total_houses', 'rainfall_max_6h',\n",
       "       'rainfall_max_24h', 'rwi', 'mean_slope', 'std_slope', 'mean_tri',\n",
       "       'std_tri', 'mean_elev', 'coast_length', 'with_coast', 'urban', 'rural',\n",
       "       'water', 'total_pop', 'percent_houses_damaged_5years'],\n",
       "      dtype='object')"
      ]
     },
     "metadata": {},
     "output_type": "display_data"
    },
    {
     "name": "stderr",
     "output_type": "stream",
     "text": [
      "pandas.Int64Index is deprecated and will be removed from pandas in a future version. Use pandas.Index with the appropriate dtype instead.\n",
      "\n",
      "A value is trying to be set on a copy of a slice from a DataFrame.\n",
      "Try using .loc[row_indexer,col_indexer] = value instead\n",
      "\n",
      "See the caveats in the documentation: https://pandas.pydata.org/pandas-docs/stable/user_guide/indexing.html#returning-a-view-versus-a-copy\n",
      "\n",
      "A value is trying to be set on a copy of a slice from a DataFrame.\n",
      "Try using .loc[row_indexer,col_indexer] = value instead\n",
      "\n",
      "See the caveats in the documentation: https://pandas.pydata.org/pandas-docs/stable/user_guide/indexing.html#returning-a-view-versus-a-copy\n"
     ]
    },
    {
     "name": "stdout",
     "output_type": "stream",
     "text": [
      "[12:54:49] WARNING: /Users/runner/miniforge3/conda-bld/xgboost-split_1637426408905/work/src/learner.cc:576: \n",
      "Parameters: { \"early_stopping_rounds\" } might not be used.\n",
      "\n",
      "  This could be a false alarm, with some parameters getting used by language bindings but\n",
      "  then being mistakenly passed down to XGBoost core, or some parameter actually being used\n",
      "  but getting flagged wrongly here. Please open an issue if you find any such cases.\n",
      "\n",
      "\n",
      "14\n",
      "[6.674624158395224, 4.449200103474802, 1.790356151362048, 1.5163534456986811, 1.4361113612231042, 7.204346884902653, 1.7235841429905965, 1.8969233976981363, 12.06976526852469, 3.5901877263232476, 2.381031421682828, 0.43659658760198977, 0.29598669033671277, 3.0829939108386, 3.233793250853869]\n"
     ]
    },
    {
     "data": {
      "text/plain": [
       "Index(['wind_speed', 'track_distance', 'total_houses', 'rainfall_max_6h',\n",
       "       'rainfall_max_24h', 'rwi', 'mean_slope', 'std_slope', 'mean_tri',\n",
       "       'std_tri', 'mean_elev', 'coast_length', 'with_coast', 'urban', 'rural',\n",
       "       'water', 'total_pop', 'percent_houses_damaged_5years'],\n",
       "      dtype='object')"
      ]
     },
     "metadata": {},
     "output_type": "display_data"
    },
    {
     "name": "stderr",
     "output_type": "stream",
     "text": [
      "pandas.Int64Index is deprecated and will be removed from pandas in a future version. Use pandas.Index with the appropriate dtype instead.\n"
     ]
    },
    {
     "name": "stdout",
     "output_type": "stream",
     "text": [
      "[12:54:50] WARNING: /Users/runner/miniforge3/conda-bld/xgboost-split_1637426408905/work/src/learner.cc:576: \n",
      "Parameters: { \"early_stopping_rounds\" } might not be used.\n",
      "\n",
      "  This could be a false alarm, with some parameters getting used by language bindings but\n",
      "  then being mistakenly passed down to XGBoost core, or some parameter actually being used\n",
      "  but getting flagged wrongly here. Please open an issue if you find any such cases.\n",
      "\n",
      "\n",
      "Counter({0: 48002, 1: 1068})\n",
      "Counter({0: 10680, 1: 1068})\n"
     ]
    },
    {
     "name": "stderr",
     "output_type": "stream",
     "text": [
      "The use of label encoder in XGBClassifier is deprecated and will be removed in a future release. To remove this warning, do the following: 1) Pass option use_label_encoder=False when constructing XGBClassifier object; and 2) Encode your labels (y) as integers starting with 0, i.e. 0, 1, 2, ..., [num_class - 1].\n",
      "pandas.Int64Index is deprecated and will be removed from pandas in a future version. Use pandas.Index with the appropriate dtype instead.\n"
     ]
    },
    {
     "data": {
      "text/plain": [
       "Index(['wind_speed', 'track_distance', 'total_houses', 'rainfall_max_6h',\n",
       "       'rainfall_max_24h', 'rwi', 'mean_slope', 'std_slope', 'mean_tri',\n",
       "       'std_tri', 'mean_elev', 'coast_length', 'with_coast', 'urban', 'rural',\n",
       "       'water', 'total_pop', 'percent_houses_damaged_5years'],\n",
       "      dtype='object')"
      ]
     },
     "metadata": {},
     "output_type": "display_data"
    },
    {
     "name": "stderr",
     "output_type": "stream",
     "text": [
      "pandas.Int64Index is deprecated and will be removed from pandas in a future version. Use pandas.Index with the appropriate dtype instead.\n"
     ]
    },
    {
     "name": "stdout",
     "output_type": "stream",
     "text": [
      "[12:54:54] WARNING: /Users/runner/miniforge3/conda-bld/xgboost-split_1637426408905/work/src/learner.cc:576: \n",
      "Parameters: { \"early_stopping_rounds\" } might not be used.\n",
      "\n",
      "  This could be a false alarm, with some parameters getting used by language bindings but\n",
      "  then being mistakenly passed down to XGBoost core, or some parameter actually being used\n",
      "  but getting flagged wrongly here. Please open an issue if you find any such cases.\n",
      "\n",
      "\n",
      "15\n",
      "[6.674624158395224, 4.449200103474802, 1.790356151362048, 1.5163534456986811, 1.4361113612231042, 7.204346884902653, 1.7235841429905965, 1.8969233976981363, 12.06976526852469, 3.5901877263232476, 2.381031421682828, 0.43659658760198977, 0.29598669033671277, 3.0829939108386, 3.233793250853869, 0.6870958886670998]\n"
     ]
    },
    {
     "data": {
      "text/plain": [
       "Index(['wind_speed', 'track_distance', 'total_houses', 'rainfall_max_6h',\n",
       "       'rainfall_max_24h', 'rwi', 'mean_slope', 'std_slope', 'mean_tri',\n",
       "       'std_tri', 'mean_elev', 'coast_length', 'with_coast', 'urban', 'rural',\n",
       "       'water', 'total_pop', 'percent_houses_damaged_5years'],\n",
       "      dtype='object')"
      ]
     },
     "metadata": {},
     "output_type": "display_data"
    },
    {
     "name": "stderr",
     "output_type": "stream",
     "text": [
      "pandas.Int64Index is deprecated and will be removed from pandas in a future version. Use pandas.Index with the appropriate dtype instead.\n"
     ]
    },
    {
     "name": "stdout",
     "output_type": "stream",
     "text": [
      "[12:54:55] WARNING: /Users/runner/miniforge3/conda-bld/xgboost-split_1637426408905/work/src/learner.cc:576: \n",
      "Parameters: { \"early_stopping_rounds\" } might not be used.\n",
      "\n",
      "  This could be a false alarm, with some parameters getting used by language bindings but\n",
      "  then being mistakenly passed down to XGBoost core, or some parameter actually being used\n",
      "  but getting flagged wrongly here. Please open an issue if you find any such cases.\n",
      "\n",
      "\n",
      "Counter({0: 48241, 1: 1068})\n",
      "Counter({0: 10680, 1: 1068})\n"
     ]
    },
    {
     "name": "stderr",
     "output_type": "stream",
     "text": [
      "The use of label encoder in XGBClassifier is deprecated and will be removed in a future release. To remove this warning, do the following: 1) Pass option use_label_encoder=False when constructing XGBClassifier object; and 2) Encode your labels (y) as integers starting with 0, i.e. 0, 1, 2, ..., [num_class - 1].\n",
      "pandas.Int64Index is deprecated and will be removed from pandas in a future version. Use pandas.Index with the appropriate dtype instead.\n"
     ]
    },
    {
     "data": {
      "text/plain": [
       "Index(['wind_speed', 'track_distance', 'total_houses', 'rainfall_max_6h',\n",
       "       'rainfall_max_24h', 'rwi', 'mean_slope', 'std_slope', 'mean_tri',\n",
       "       'std_tri', 'mean_elev', 'coast_length', 'with_coast', 'urban', 'rural',\n",
       "       'water', 'total_pop', 'percent_houses_damaged_5years'],\n",
       "      dtype='object')"
      ]
     },
     "metadata": {},
     "output_type": "display_data"
    },
    {
     "name": "stderr",
     "output_type": "stream",
     "text": [
      "pandas.Int64Index is deprecated and will be removed from pandas in a future version. Use pandas.Index with the appropriate dtype instead.\n"
     ]
    },
    {
     "name": "stdout",
     "output_type": "stream",
     "text": [
      "[12:55:00] WARNING: /Users/runner/miniforge3/conda-bld/xgboost-split_1637426408905/work/src/learner.cc:576: \n",
      "Parameters: { \"early_stopping_rounds\" } might not be used.\n",
      "\n",
      "  This could be a false alarm, with some parameters getting used by language bindings but\n",
      "  then being mistakenly passed down to XGBoost core, or some parameter actually being used\n",
      "  but getting flagged wrongly here. Please open an issue if you find any such cases.\n",
      "\n",
      "\n",
      "16\n",
      "[6.674624158395224, 4.449200103474802, 1.790356151362048, 1.5163534456986811, 1.4361113612231042, 7.204346884902653, 1.7235841429905965, 1.8969233976981363, 12.06976526852469, 3.5901877263232476, 2.381031421682828, 0.43659658760198977, 0.29598669033671277, 3.0829939108386, 3.233793250853869, 0.6870958886670998, 0.9170928264887435]\n"
     ]
    },
    {
     "data": {
      "text/plain": [
       "Index(['wind_speed', 'track_distance', 'total_houses', 'rainfall_max_6h',\n",
       "       'rainfall_max_24h', 'rwi', 'mean_slope', 'std_slope', 'mean_tri',\n",
       "       'std_tri', 'mean_elev', 'coast_length', 'with_coast', 'urban', 'rural',\n",
       "       'water', 'total_pop', 'percent_houses_damaged_5years'],\n",
       "      dtype='object')"
      ]
     },
     "metadata": {},
     "output_type": "display_data"
    },
    {
     "name": "stderr",
     "output_type": "stream",
     "text": [
      "pandas.Int64Index is deprecated and will be removed from pandas in a future version. Use pandas.Index with the appropriate dtype instead.\n"
     ]
    },
    {
     "name": "stdout",
     "output_type": "stream",
     "text": [
      "[12:55:01] WARNING: /Users/runner/miniforge3/conda-bld/xgboost-split_1637426408905/work/src/learner.cc:576: \n",
      "Parameters: { \"early_stopping_rounds\" } might not be used.\n",
      "\n",
      "  This could be a false alarm, with some parameters getting used by language bindings but\n",
      "  then being mistakenly passed down to XGBoost core, or some parameter actually being used\n",
      "  but getting flagged wrongly here. Please open an issue if you find any such cases.\n",
      "\n",
      "\n",
      "Counter({0: 47214, 1: 1069})\n",
      "Counter({0: 10690, 1: 1069})\n"
     ]
    },
    {
     "name": "stderr",
     "output_type": "stream",
     "text": [
      "The use of label encoder in XGBClassifier is deprecated and will be removed in a future release. To remove this warning, do the following: 1) Pass option use_label_encoder=False when constructing XGBClassifier object; and 2) Encode your labels (y) as integers starting with 0, i.e. 0, 1, 2, ..., [num_class - 1].\n",
      "pandas.Int64Index is deprecated and will be removed from pandas in a future version. Use pandas.Index with the appropriate dtype instead.\n"
     ]
    },
    {
     "data": {
      "text/plain": [
       "Index(['wind_speed', 'track_distance', 'total_houses', 'rainfall_max_6h',\n",
       "       'rainfall_max_24h', 'rwi', 'mean_slope', 'std_slope', 'mean_tri',\n",
       "       'std_tri', 'mean_elev', 'coast_length', 'with_coast', 'urban', 'rural',\n",
       "       'water', 'total_pop', 'percent_houses_damaged_5years'],\n",
       "      dtype='object')"
      ]
     },
     "metadata": {},
     "output_type": "display_data"
    },
    {
     "name": "stderr",
     "output_type": "stream",
     "text": [
      "pandas.Int64Index is deprecated and will be removed from pandas in a future version. Use pandas.Index with the appropriate dtype instead.\n"
     ]
    },
    {
     "name": "stdout",
     "output_type": "stream",
     "text": [
      "[12:55:05] WARNING: /Users/runner/miniforge3/conda-bld/xgboost-split_1637426408905/work/src/learner.cc:576: \n",
      "Parameters: { \"early_stopping_rounds\" } might not be used.\n",
      "\n",
      "  This could be a false alarm, with some parameters getting used by language bindings but\n",
      "  then being mistakenly passed down to XGBoost core, or some parameter actually being used\n",
      "  but getting flagged wrongly here. Please open an issue if you find any such cases.\n",
      "\n",
      "\n",
      "17\n",
      "[6.674624158395224, 4.449200103474802, 1.790356151362048, 1.5163534456986811, 1.4361113612231042, 7.204346884902653, 1.7235841429905965, 1.8969233976981363, 12.06976526852469, 3.5901877263232476, 2.381031421682828, 0.43659658760198977, 0.29598669033671277, 3.0829939108386, 3.233793250853869, 0.6870958886670998, 0.9170928264887435, 0.1949605562070014]\n"
     ]
    },
    {
     "data": {
      "text/plain": [
       "Index(['wind_speed', 'track_distance', 'total_houses', 'rainfall_max_6h',\n",
       "       'rainfall_max_24h', 'rwi', 'mean_slope', 'std_slope', 'mean_tri',\n",
       "       'std_tri', 'mean_elev', 'coast_length', 'with_coast', 'urban', 'rural',\n",
       "       'water', 'total_pop', 'percent_houses_damaged_5years'],\n",
       "      dtype='object')"
      ]
     },
     "metadata": {},
     "output_type": "display_data"
    },
    {
     "name": "stderr",
     "output_type": "stream",
     "text": [
      "pandas.Int64Index is deprecated and will be removed from pandas in a future version. Use pandas.Index with the appropriate dtype instead.\n"
     ]
    },
    {
     "name": "stdout",
     "output_type": "stream",
     "text": [
      "[12:55:06] WARNING: /Users/runner/miniforge3/conda-bld/xgboost-split_1637426408905/work/src/learner.cc:576: \n",
      "Parameters: { \"early_stopping_rounds\" } might not be used.\n",
      "\n",
      "  This could be a false alarm, with some parameters getting used by language bindings but\n",
      "  then being mistakenly passed down to XGBoost core, or some parameter actually being used\n",
      "  but getting flagged wrongly here. Please open an issue if you find any such cases.\n",
      "\n",
      "\n",
      "Counter({0: 47009, 1: 972})\n",
      "Counter({0: 9720, 1: 972})\n"
     ]
    },
    {
     "name": "stderr",
     "output_type": "stream",
     "text": [
      "The use of label encoder in XGBClassifier is deprecated and will be removed in a future release. To remove this warning, do the following: 1) Pass option use_label_encoder=False when constructing XGBClassifier object; and 2) Encode your labels (y) as integers starting with 0, i.e. 0, 1, 2, ..., [num_class - 1].\n",
      "pandas.Int64Index is deprecated and will be removed from pandas in a future version. Use pandas.Index with the appropriate dtype instead.\n"
     ]
    },
    {
     "data": {
      "text/plain": [
       "Index(['wind_speed', 'track_distance', 'total_houses', 'rainfall_max_6h',\n",
       "       'rainfall_max_24h', 'rwi', 'mean_slope', 'std_slope', 'mean_tri',\n",
       "       'std_tri', 'mean_elev', 'coast_length', 'with_coast', 'urban', 'rural',\n",
       "       'water', 'total_pop', 'percent_houses_damaged_5years'],\n",
       "      dtype='object')"
      ]
     },
     "metadata": {},
     "output_type": "display_data"
    },
    {
     "name": "stderr",
     "output_type": "stream",
     "text": [
      "pandas.Int64Index is deprecated and will be removed from pandas in a future version. Use pandas.Index with the appropriate dtype instead.\n",
      "\n",
      "A value is trying to be set on a copy of a slice from a DataFrame.\n",
      "Try using .loc[row_indexer,col_indexer] = value instead\n",
      "\n",
      "See the caveats in the documentation: https://pandas.pydata.org/pandas-docs/stable/user_guide/indexing.html#returning-a-view-versus-a-copy\n",
      "\n",
      "A value is trying to be set on a copy of a slice from a DataFrame.\n",
      "Try using .loc[row_indexer,col_indexer] = value instead\n",
      "\n",
      "See the caveats in the documentation: https://pandas.pydata.org/pandas-docs/stable/user_guide/indexing.html#returning-a-view-versus-a-copy\n"
     ]
    },
    {
     "name": "stdout",
     "output_type": "stream",
     "text": [
      "[12:55:10] WARNING: /Users/runner/miniforge3/conda-bld/xgboost-split_1637426408905/work/src/learner.cc:576: \n",
      "Parameters: { \"early_stopping_rounds\" } might not be used.\n",
      "\n",
      "  This could be a false alarm, with some parameters getting used by language bindings but\n",
      "  then being mistakenly passed down to XGBoost core, or some parameter actually being used\n",
      "  but getting flagged wrongly here. Please open an issue if you find any such cases.\n",
      "\n",
      "\n",
      "18\n",
      "[6.674624158395224, 4.449200103474802, 1.790356151362048, 1.5163534456986811, 1.4361113612231042, 7.204346884902653, 1.7235841429905965, 1.8969233976981363, 12.06976526852469, 3.5901877263232476, 2.381031421682828, 0.43659658760198977, 0.29598669033671277, 3.0829939108386, 3.233793250853869, 0.6870958886670998, 0.9170928264887435, 0.1949605562070014, 5.857914537041595]\n"
     ]
    },
    {
     "data": {
      "text/plain": [
       "Index(['wind_speed', 'track_distance', 'total_houses', 'rainfall_max_6h',\n",
       "       'rainfall_max_24h', 'rwi', 'mean_slope', 'std_slope', 'mean_tri',\n",
       "       'std_tri', 'mean_elev', 'coast_length', 'with_coast', 'urban', 'rural',\n",
       "       'water', 'total_pop', 'percent_houses_damaged_5years'],\n",
       "      dtype='object')"
      ]
     },
     "metadata": {},
     "output_type": "display_data"
    },
    {
     "name": "stderr",
     "output_type": "stream",
     "text": [
      "pandas.Int64Index is deprecated and will be removed from pandas in a future version. Use pandas.Index with the appropriate dtype instead.\n"
     ]
    },
    {
     "name": "stdout",
     "output_type": "stream",
     "text": [
      "[12:55:11] WARNING: /Users/runner/miniforge3/conda-bld/xgboost-split_1637426408905/work/src/learner.cc:576: \n",
      "Parameters: { \"early_stopping_rounds\" } might not be used.\n",
      "\n",
      "  This could be a false alarm, with some parameters getting used by language bindings but\n",
      "  then being mistakenly passed down to XGBoost core, or some parameter actually being used\n",
      "  but getting flagged wrongly here. Please open an issue if you find any such cases.\n",
      "\n",
      "\n",
      "Counter({0: 47723, 1: 1069})\n",
      "Counter({0: 10690, 1: 1069})\n"
     ]
    },
    {
     "name": "stderr",
     "output_type": "stream",
     "text": [
      "The use of label encoder in XGBClassifier is deprecated and will be removed in a future release. To remove this warning, do the following: 1) Pass option use_label_encoder=False when constructing XGBClassifier object; and 2) Encode your labels (y) as integers starting with 0, i.e. 0, 1, 2, ..., [num_class - 1].\n",
      "pandas.Int64Index is deprecated and will be removed from pandas in a future version. Use pandas.Index with the appropriate dtype instead.\n"
     ]
    },
    {
     "data": {
      "text/plain": [
       "Index(['wind_speed', 'track_distance', 'total_houses', 'rainfall_max_6h',\n",
       "       'rainfall_max_24h', 'rwi', 'mean_slope', 'std_slope', 'mean_tri',\n",
       "       'std_tri', 'mean_elev', 'coast_length', 'with_coast', 'urban', 'rural',\n",
       "       'water', 'total_pop', 'percent_houses_damaged_5years'],\n",
       "      dtype='object')"
      ]
     },
     "metadata": {},
     "output_type": "display_data"
    },
    {
     "name": "stderr",
     "output_type": "stream",
     "text": [
      "pandas.Int64Index is deprecated and will be removed from pandas in a future version. Use pandas.Index with the appropriate dtype instead.\n",
      "\n",
      "A value is trying to be set on a copy of a slice from a DataFrame.\n",
      "Try using .loc[row_indexer,col_indexer] = value instead\n",
      "\n",
      "See the caveats in the documentation: https://pandas.pydata.org/pandas-docs/stable/user_guide/indexing.html#returning-a-view-versus-a-copy\n",
      "\n",
      "A value is trying to be set on a copy of a slice from a DataFrame.\n",
      "Try using .loc[row_indexer,col_indexer] = value instead\n",
      "\n",
      "See the caveats in the documentation: https://pandas.pydata.org/pandas-docs/stable/user_guide/indexing.html#returning-a-view-versus-a-copy\n"
     ]
    },
    {
     "name": "stdout",
     "output_type": "stream",
     "text": [
      "[12:55:16] WARNING: /Users/runner/miniforge3/conda-bld/xgboost-split_1637426408905/work/src/learner.cc:576: \n",
      "Parameters: { \"early_stopping_rounds\" } might not be used.\n",
      "\n",
      "  This could be a false alarm, with some parameters getting used by language bindings but\n",
      "  then being mistakenly passed down to XGBoost core, or some parameter actually being used\n",
      "  but getting flagged wrongly here. Please open an issue if you find any such cases.\n",
      "\n",
      "\n",
      "19\n",
      "[6.674624158395224, 4.449200103474802, 1.790356151362048, 1.5163534456986811, 1.4361113612231042, 7.204346884902653, 1.7235841429905965, 1.8969233976981363, 12.06976526852469, 3.5901877263232476, 2.381031421682828, 0.43659658760198977, 0.29598669033671277, 3.0829939108386, 3.233793250853869, 0.6870958886670998, 0.9170928264887435, 0.1949605562070014, 5.857914537041595, 3.557644567777283]\n"
     ]
    },
    {
     "data": {
      "text/plain": [
       "Index(['wind_speed', 'track_distance', 'total_houses', 'rainfall_max_6h',\n",
       "       'rainfall_max_24h', 'rwi', 'mean_slope', 'std_slope', 'mean_tri',\n",
       "       'std_tri', 'mean_elev', 'coast_length', 'with_coast', 'urban', 'rural',\n",
       "       'water', 'total_pop', 'percent_houses_damaged_5years'],\n",
       "      dtype='object')"
      ]
     },
     "metadata": {},
     "output_type": "display_data"
    },
    {
     "name": "stderr",
     "output_type": "stream",
     "text": [
      "pandas.Int64Index is deprecated and will be removed from pandas in a future version. Use pandas.Index with the appropriate dtype instead.\n"
     ]
    },
    {
     "name": "stdout",
     "output_type": "stream",
     "text": [
      "[12:55:17] WARNING: /Users/runner/miniforge3/conda-bld/xgboost-split_1637426408905/work/src/learner.cc:576: \n",
      "Parameters: { \"early_stopping_rounds\" } might not be used.\n",
      "\n",
      "  This could be a false alarm, with some parameters getting used by language bindings but\n",
      "  then being mistakenly passed down to XGBoost core, or some parameter actually being used\n",
      "  but getting flagged wrongly here. Please open an issue if you find any such cases.\n",
      "\n",
      "\n",
      "Counter({0: 46842, 1: 1039})\n",
      "Counter({0: 10390, 1: 1039})\n"
     ]
    },
    {
     "name": "stderr",
     "output_type": "stream",
     "text": [
      "The use of label encoder in XGBClassifier is deprecated and will be removed in a future release. To remove this warning, do the following: 1) Pass option use_label_encoder=False when constructing XGBClassifier object; and 2) Encode your labels (y) as integers starting with 0, i.e. 0, 1, 2, ..., [num_class - 1].\n",
      "pandas.Int64Index is deprecated and will be removed from pandas in a future version. Use pandas.Index with the appropriate dtype instead.\n"
     ]
    },
    {
     "data": {
      "text/plain": [
       "Index(['wind_speed', 'track_distance', 'total_houses', 'rainfall_max_6h',\n",
       "       'rainfall_max_24h', 'rwi', 'mean_slope', 'std_slope', 'mean_tri',\n",
       "       'std_tri', 'mean_elev', 'coast_length', 'with_coast', 'urban', 'rural',\n",
       "       'water', 'total_pop', 'percent_houses_damaged_5years'],\n",
       "      dtype='object')"
      ]
     },
     "metadata": {},
     "output_type": "display_data"
    },
    {
     "name": "stderr",
     "output_type": "stream",
     "text": [
      "pandas.Int64Index is deprecated and will be removed from pandas in a future version. Use pandas.Index with the appropriate dtype instead.\n",
      "\n",
      "A value is trying to be set on a copy of a slice from a DataFrame.\n",
      "Try using .loc[row_indexer,col_indexer] = value instead\n",
      "\n",
      "See the caveats in the documentation: https://pandas.pydata.org/pandas-docs/stable/user_guide/indexing.html#returning-a-view-versus-a-copy\n",
      "\n",
      "A value is trying to be set on a copy of a slice from a DataFrame.\n",
      "Try using .loc[row_indexer,col_indexer] = value instead\n",
      "\n",
      "See the caveats in the documentation: https://pandas.pydata.org/pandas-docs/stable/user_guide/indexing.html#returning-a-view-versus-a-copy\n"
     ]
    },
    {
     "name": "stdout",
     "output_type": "stream",
     "text": [
      "[12:55:21] WARNING: /Users/runner/miniforge3/conda-bld/xgboost-split_1637426408905/work/src/learner.cc:576: \n",
      "Parameters: { \"early_stopping_rounds\" } might not be used.\n",
      "\n",
      "  This could be a false alarm, with some parameters getting used by language bindings but\n",
      "  then being mistakenly passed down to XGBoost core, or some parameter actually being used\n",
      "  but getting flagged wrongly here. Please open an issue if you find any such cases.\n",
      "\n",
      "\n",
      "20\n",
      "[6.674624158395224, 4.449200103474802, 1.790356151362048, 1.5163534456986811, 1.4361113612231042, 7.204346884902653, 1.7235841429905965, 1.8969233976981363, 12.06976526852469, 3.5901877263232476, 2.381031421682828, 0.43659658760198977, 0.29598669033671277, 3.0829939108386, 3.233793250853869, 0.6870958886670998, 0.9170928264887435, 0.1949605562070014, 5.857914537041595, 3.557644567777283, 2.4254088325389738]\n"
     ]
    },
    {
     "data": {
      "text/plain": [
       "Index(['wind_speed', 'track_distance', 'total_houses', 'rainfall_max_6h',\n",
       "       'rainfall_max_24h', 'rwi', 'mean_slope', 'std_slope', 'mean_tri',\n",
       "       'std_tri', 'mean_elev', 'coast_length', 'with_coast', 'urban', 'rural',\n",
       "       'water', 'total_pop', 'percent_houses_damaged_5years'],\n",
       "      dtype='object')"
      ]
     },
     "metadata": {},
     "output_type": "display_data"
    },
    {
     "name": "stderr",
     "output_type": "stream",
     "text": [
      "pandas.Int64Index is deprecated and will be removed from pandas in a future version. Use pandas.Index with the appropriate dtype instead.\n"
     ]
    },
    {
     "name": "stdout",
     "output_type": "stream",
     "text": [
      "[12:55:22] WARNING: /Users/runner/miniforge3/conda-bld/xgboost-split_1637426408905/work/src/learner.cc:576: \n",
      "Parameters: { \"early_stopping_rounds\" } might not be used.\n",
      "\n",
      "  This could be a false alarm, with some parameters getting used by language bindings but\n",
      "  then being mistakenly passed down to XGBoost core, or some parameter actually being used\n",
      "  but getting flagged wrongly here. Please open an issue if you find any such cases.\n",
      "\n",
      "\n",
      "Counter({0: 47850, 1: 1069})\n",
      "Counter({0: 10690, 1: 1069})\n"
     ]
    },
    {
     "name": "stderr",
     "output_type": "stream",
     "text": [
      "The use of label encoder in XGBClassifier is deprecated and will be removed in a future release. To remove this warning, do the following: 1) Pass option use_label_encoder=False when constructing XGBClassifier object; and 2) Encode your labels (y) as integers starting with 0, i.e. 0, 1, 2, ..., [num_class - 1].\n",
      "pandas.Int64Index is deprecated and will be removed from pandas in a future version. Use pandas.Index with the appropriate dtype instead.\n"
     ]
    },
    {
     "data": {
      "text/plain": [
       "Index(['wind_speed', 'track_distance', 'total_houses', 'rainfall_max_6h',\n",
       "       'rainfall_max_24h', 'rwi', 'mean_slope', 'std_slope', 'mean_tri',\n",
       "       'std_tri', 'mean_elev', 'coast_length', 'with_coast', 'urban', 'rural',\n",
       "       'water', 'total_pop', 'percent_houses_damaged_5years'],\n",
       "      dtype='object')"
      ]
     },
     "metadata": {},
     "output_type": "display_data"
    },
    {
     "name": "stderr",
     "output_type": "stream",
     "text": [
      "pandas.Int64Index is deprecated and will be removed from pandas in a future version. Use pandas.Index with the appropriate dtype instead.\n"
     ]
    },
    {
     "name": "stdout",
     "output_type": "stream",
     "text": [
      "[12:55:26] WARNING: /Users/runner/miniforge3/conda-bld/xgboost-split_1637426408905/work/src/learner.cc:576: \n",
      "Parameters: { \"early_stopping_rounds\" } might not be used.\n",
      "\n",
      "  This could be a false alarm, with some parameters getting used by language bindings but\n",
      "  then being mistakenly passed down to XGBoost core, or some parameter actually being used\n",
      "  but getting flagged wrongly here. Please open an issue if you find any such cases.\n",
      "\n",
      "\n",
      "21\n",
      "[6.674624158395224, 4.449200103474802, 1.790356151362048, 1.5163534456986811, 1.4361113612231042, 7.204346884902653, 1.7235841429905965, 1.8969233976981363, 12.06976526852469, 3.5901877263232476, 2.381031421682828, 0.43659658760198977, 0.29598669033671277, 3.0829939108386, 3.233793250853869, 0.6870958886670998, 0.9170928264887435, 0.1949605562070014, 5.857914537041595, 3.557644567777283, 2.4254088325389738, 0.31824953888985646]\n"
     ]
    },
    {
     "data": {
      "text/plain": [
       "Index(['wind_speed', 'track_distance', 'total_houses', 'rainfall_max_6h',\n",
       "       'rainfall_max_24h', 'rwi', 'mean_slope', 'std_slope', 'mean_tri',\n",
       "       'std_tri', 'mean_elev', 'coast_length', 'with_coast', 'urban', 'rural',\n",
       "       'water', 'total_pop', 'percent_houses_damaged_5years'],\n",
       "      dtype='object')"
      ]
     },
     "metadata": {},
     "output_type": "display_data"
    },
    {
     "name": "stderr",
     "output_type": "stream",
     "text": [
      "pandas.Int64Index is deprecated and will be removed from pandas in a future version. Use pandas.Index with the appropriate dtype instead.\n"
     ]
    },
    {
     "name": "stdout",
     "output_type": "stream",
     "text": [
      "[12:55:28] WARNING: /Users/runner/miniforge3/conda-bld/xgboost-split_1637426408905/work/src/learner.cc:576: \n",
      "Parameters: { \"early_stopping_rounds\" } might not be used.\n",
      "\n",
      "  This could be a false alarm, with some parameters getting used by language bindings but\n",
      "  then being mistakenly passed down to XGBoost core, or some parameter actually being used\n",
      "  but getting flagged wrongly here. Please open an issue if you find any such cases.\n",
      "\n",
      "\n",
      "Counter({0: 47502, 1: 1046})\n",
      "Counter({0: 10460, 1: 1046})\n"
     ]
    },
    {
     "name": "stderr",
     "output_type": "stream",
     "text": [
      "The use of label encoder in XGBClassifier is deprecated and will be removed in a future release. To remove this warning, do the following: 1) Pass option use_label_encoder=False when constructing XGBClassifier object; and 2) Encode your labels (y) as integers starting with 0, i.e. 0, 1, 2, ..., [num_class - 1].\n",
      "pandas.Int64Index is deprecated and will be removed from pandas in a future version. Use pandas.Index with the appropriate dtype instead.\n"
     ]
    },
    {
     "data": {
      "text/plain": [
       "Index(['wind_speed', 'track_distance', 'total_houses', 'rainfall_max_6h',\n",
       "       'rainfall_max_24h', 'rwi', 'mean_slope', 'std_slope', 'mean_tri',\n",
       "       'std_tri', 'mean_elev', 'coast_length', 'with_coast', 'urban', 'rural',\n",
       "       'water', 'total_pop', 'percent_houses_damaged_5years'],\n",
       "      dtype='object')"
      ]
     },
     "metadata": {},
     "output_type": "display_data"
    },
    {
     "name": "stderr",
     "output_type": "stream",
     "text": [
      "pandas.Int64Index is deprecated and will be removed from pandas in a future version. Use pandas.Index with the appropriate dtype instead.\n",
      "\n",
      "A value is trying to be set on a copy of a slice from a DataFrame.\n",
      "Try using .loc[row_indexer,col_indexer] = value instead\n",
      "\n",
      "See the caveats in the documentation: https://pandas.pydata.org/pandas-docs/stable/user_guide/indexing.html#returning-a-view-versus-a-copy\n",
      "\n",
      "A value is trying to be set on a copy of a slice from a DataFrame.\n",
      "Try using .loc[row_indexer,col_indexer] = value instead\n",
      "\n",
      "See the caveats in the documentation: https://pandas.pydata.org/pandas-docs/stable/user_guide/indexing.html#returning-a-view-versus-a-copy\n"
     ]
    },
    {
     "name": "stdout",
     "output_type": "stream",
     "text": [
      "[12:55:32] WARNING: /Users/runner/miniforge3/conda-bld/xgboost-split_1637426408905/work/src/learner.cc:576: \n",
      "Parameters: { \"early_stopping_rounds\" } might not be used.\n",
      "\n",
      "  This could be a false alarm, with some parameters getting used by language bindings but\n",
      "  then being mistakenly passed down to XGBoost core, or some parameter actually being used\n",
      "  but getting flagged wrongly here. Please open an issue if you find any such cases.\n",
      "\n",
      "\n",
      "22\n",
      "[6.674624158395224, 4.449200103474802, 1.790356151362048, 1.5163534456986811, 1.4361113612231042, 7.204346884902653, 1.7235841429905965, 1.8969233976981363, 12.06976526852469, 3.5901877263232476, 2.381031421682828, 0.43659658760198977, 0.29598669033671277, 3.0829939108386, 3.233793250853869, 0.6870958886670998, 0.9170928264887435, 0.1949605562070014, 5.857914537041595, 3.557644567777283, 2.4254088325389738, 0.31824953888985646, 2.722092056583379]\n"
     ]
    },
    {
     "data": {
      "text/plain": [
       "Index(['wind_speed', 'track_distance', 'total_houses', 'rainfall_max_6h',\n",
       "       'rainfall_max_24h', 'rwi', 'mean_slope', 'std_slope', 'mean_tri',\n",
       "       'std_tri', 'mean_elev', 'coast_length', 'with_coast', 'urban', 'rural',\n",
       "       'water', 'total_pop', 'percent_houses_damaged_5years'],\n",
       "      dtype='object')"
      ]
     },
     "metadata": {},
     "output_type": "display_data"
    },
    {
     "name": "stderr",
     "output_type": "stream",
     "text": [
      "pandas.Int64Index is deprecated and will be removed from pandas in a future version. Use pandas.Index with the appropriate dtype instead.\n"
     ]
    },
    {
     "name": "stdout",
     "output_type": "stream",
     "text": [
      "[12:55:33] WARNING: /Users/runner/miniforge3/conda-bld/xgboost-split_1637426408905/work/src/learner.cc:576: \n",
      "Parameters: { \"early_stopping_rounds\" } might not be used.\n",
      "\n",
      "  This could be a false alarm, with some parameters getting used by language bindings but\n",
      "  then being mistakenly passed down to XGBoost core, or some parameter actually being used\n",
      "  but getting flagged wrongly here. Please open an issue if you find any such cases.\n",
      "\n",
      "\n",
      "Counter({0: 46678, 1: 1047})\n",
      "Counter({0: 10470, 1: 1047})\n"
     ]
    },
    {
     "name": "stderr",
     "output_type": "stream",
     "text": [
      "The use of label encoder in XGBClassifier is deprecated and will be removed in a future release. To remove this warning, do the following: 1) Pass option use_label_encoder=False when constructing XGBClassifier object; and 2) Encode your labels (y) as integers starting with 0, i.e. 0, 1, 2, ..., [num_class - 1].\n",
      "pandas.Int64Index is deprecated and will be removed from pandas in a future version. Use pandas.Index with the appropriate dtype instead.\n"
     ]
    },
    {
     "data": {
      "text/plain": [
       "Index(['wind_speed', 'track_distance', 'total_houses', 'rainfall_max_6h',\n",
       "       'rainfall_max_24h', 'rwi', 'mean_slope', 'std_slope', 'mean_tri',\n",
       "       'std_tri', 'mean_elev', 'coast_length', 'with_coast', 'urban', 'rural',\n",
       "       'water', 'total_pop', 'percent_houses_damaged_5years'],\n",
       "      dtype='object')"
      ]
     },
     "metadata": {},
     "output_type": "display_data"
    },
    {
     "name": "stderr",
     "output_type": "stream",
     "text": [
      "pandas.Int64Index is deprecated and will be removed from pandas in a future version. Use pandas.Index with the appropriate dtype instead.\n",
      "\n",
      "A value is trying to be set on a copy of a slice from a DataFrame.\n",
      "Try using .loc[row_indexer,col_indexer] = value instead\n",
      "\n",
      "See the caveats in the documentation: https://pandas.pydata.org/pandas-docs/stable/user_guide/indexing.html#returning-a-view-versus-a-copy\n",
      "\n",
      "A value is trying to be set on a copy of a slice from a DataFrame.\n",
      "Try using .loc[row_indexer,col_indexer] = value instead\n",
      "\n",
      "See the caveats in the documentation: https://pandas.pydata.org/pandas-docs/stable/user_guide/indexing.html#returning-a-view-versus-a-copy\n"
     ]
    },
    {
     "name": "stdout",
     "output_type": "stream",
     "text": [
      "[12:55:37] WARNING: /Users/runner/miniforge3/conda-bld/xgboost-split_1637426408905/work/src/learner.cc:576: \n",
      "Parameters: { \"early_stopping_rounds\" } might not be used.\n",
      "\n",
      "  This could be a false alarm, with some parameters getting used by language bindings but\n",
      "  then being mistakenly passed down to XGBoost core, or some parameter actually being used\n",
      "  but getting flagged wrongly here. Please open an issue if you find any such cases.\n",
      "\n",
      "\n",
      "23\n",
      "[6.674624158395224, 4.449200103474802, 1.790356151362048, 1.5163534456986811, 1.4361113612231042, 7.204346884902653, 1.7235841429905965, 1.8969233976981363, 12.06976526852469, 3.5901877263232476, 2.381031421682828, 0.43659658760198977, 0.29598669033671277, 3.0829939108386, 3.233793250853869, 0.6870958886670998, 0.9170928264887435, 0.1949605562070014, 5.857914537041595, 3.557644567777283, 2.4254088325389738, 0.31824953888985646, 2.722092056583379, 3.879737990882632]\n"
     ]
    },
    {
     "data": {
      "text/plain": [
       "Index(['wind_speed', 'track_distance', 'total_houses', 'rainfall_max_6h',\n",
       "       'rainfall_max_24h', 'rwi', 'mean_slope', 'std_slope', 'mean_tri',\n",
       "       'std_tri', 'mean_elev', 'coast_length', 'with_coast', 'urban', 'rural',\n",
       "       'water', 'total_pop', 'percent_houses_damaged_5years'],\n",
       "      dtype='object')"
      ]
     },
     "metadata": {},
     "output_type": "display_data"
    },
    {
     "name": "stderr",
     "output_type": "stream",
     "text": [
      "pandas.Int64Index is deprecated and will be removed from pandas in a future version. Use pandas.Index with the appropriate dtype instead.\n"
     ]
    },
    {
     "name": "stdout",
     "output_type": "stream",
     "text": [
      "[12:55:39] WARNING: /Users/runner/miniforge3/conda-bld/xgboost-split_1637426408905/work/src/learner.cc:576: \n",
      "Parameters: { \"early_stopping_rounds\" } might not be used.\n",
      "\n",
      "  This could be a false alarm, with some parameters getting used by language bindings but\n",
      "  then being mistakenly passed down to XGBoost core, or some parameter actually being used\n",
      "  but getting flagged wrongly here. Please open an issue if you find any such cases.\n",
      "\n",
      "\n",
      "Counter({0: 48009, 1: 1042})\n",
      "Counter({0: 10420, 1: 1042})\n"
     ]
    },
    {
     "name": "stderr",
     "output_type": "stream",
     "text": [
      "The use of label encoder in XGBClassifier is deprecated and will be removed in a future release. To remove this warning, do the following: 1) Pass option use_label_encoder=False when constructing XGBClassifier object; and 2) Encode your labels (y) as integers starting with 0, i.e. 0, 1, 2, ..., [num_class - 1].\n",
      "pandas.Int64Index is deprecated and will be removed from pandas in a future version. Use pandas.Index with the appropriate dtype instead.\n"
     ]
    },
    {
     "data": {
      "text/plain": [
       "Index(['wind_speed', 'track_distance', 'total_houses', 'rainfall_max_6h',\n",
       "       'rainfall_max_24h', 'rwi', 'mean_slope', 'std_slope', 'mean_tri',\n",
       "       'std_tri', 'mean_elev', 'coast_length', 'with_coast', 'urban', 'rural',\n",
       "       'water', 'total_pop', 'percent_houses_damaged_5years'],\n",
       "      dtype='object')"
      ]
     },
     "metadata": {},
     "output_type": "display_data"
    },
    {
     "name": "stderr",
     "output_type": "stream",
     "text": [
      "pandas.Int64Index is deprecated and will be removed from pandas in a future version. Use pandas.Index with the appropriate dtype instead.\n",
      "\n",
      "A value is trying to be set on a copy of a slice from a DataFrame.\n",
      "Try using .loc[row_indexer,col_indexer] = value instead\n",
      "\n",
      "See the caveats in the documentation: https://pandas.pydata.org/pandas-docs/stable/user_guide/indexing.html#returning-a-view-versus-a-copy\n",
      "\n",
      "A value is trying to be set on a copy of a slice from a DataFrame.\n",
      "Try using .loc[row_indexer,col_indexer] = value instead\n",
      "\n",
      "See the caveats in the documentation: https://pandas.pydata.org/pandas-docs/stable/user_guide/indexing.html#returning-a-view-versus-a-copy\n"
     ]
    },
    {
     "name": "stdout",
     "output_type": "stream",
     "text": [
      "[12:55:43] WARNING: /Users/runner/miniforge3/conda-bld/xgboost-split_1637426408905/work/src/learner.cc:576: \n",
      "Parameters: { \"early_stopping_rounds\" } might not be used.\n",
      "\n",
      "  This could be a false alarm, with some parameters getting used by language bindings but\n",
      "  then being mistakenly passed down to XGBoost core, or some parameter actually being used\n",
      "  but getting flagged wrongly here. Please open an issue if you find any such cases.\n",
      "\n",
      "\n",
      "24\n",
      "[6.674624158395224, 4.449200103474802, 1.790356151362048, 1.5163534456986811, 1.4361113612231042, 7.204346884902653, 1.7235841429905965, 1.8969233976981363, 12.06976526852469, 3.5901877263232476, 2.381031421682828, 0.43659658760198977, 0.29598669033671277, 3.0829939108386, 3.233793250853869, 0.6870958886670998, 0.9170928264887435, 0.1949605562070014, 5.857914537041595, 3.557644567777283, 2.4254088325389738, 0.31824953888985646, 2.722092056583379, 3.879737990882632, 4.439948612477567]\n"
     ]
    },
    {
     "data": {
      "text/plain": [
       "Index(['wind_speed', 'track_distance', 'total_houses', 'rainfall_max_6h',\n",
       "       'rainfall_max_24h', 'rwi', 'mean_slope', 'std_slope', 'mean_tri',\n",
       "       'std_tri', 'mean_elev', 'coast_length', 'with_coast', 'urban', 'rural',\n",
       "       'water', 'total_pop', 'percent_houses_damaged_5years'],\n",
       "      dtype='object')"
      ]
     },
     "metadata": {},
     "output_type": "display_data"
    },
    {
     "name": "stderr",
     "output_type": "stream",
     "text": [
      "pandas.Int64Index is deprecated and will be removed from pandas in a future version. Use pandas.Index with the appropriate dtype instead.\n"
     ]
    },
    {
     "name": "stdout",
     "output_type": "stream",
     "text": [
      "[12:55:44] WARNING: /Users/runner/miniforge3/conda-bld/xgboost-split_1637426408905/work/src/learner.cc:576: \n",
      "Parameters: { \"early_stopping_rounds\" } might not be used.\n",
      "\n",
      "  This could be a false alarm, with some parameters getting used by language bindings but\n",
      "  then being mistakenly passed down to XGBoost core, or some parameter actually being used\n",
      "  but getting flagged wrongly here. Please open an issue if you find any such cases.\n",
      "\n",
      "\n",
      "Counter({0: 46277, 1: 1069})\n",
      "Counter({0: 10690, 1: 1069})\n"
     ]
    },
    {
     "name": "stderr",
     "output_type": "stream",
     "text": [
      "The use of label encoder in XGBClassifier is deprecated and will be removed in a future release. To remove this warning, do the following: 1) Pass option use_label_encoder=False when constructing XGBClassifier object; and 2) Encode your labels (y) as integers starting with 0, i.e. 0, 1, 2, ..., [num_class - 1].\n",
      "pandas.Int64Index is deprecated and will be removed from pandas in a future version. Use pandas.Index with the appropriate dtype instead.\n"
     ]
    },
    {
     "data": {
      "text/plain": [
       "Index(['wind_speed', 'track_distance', 'total_houses', 'rainfall_max_6h',\n",
       "       'rainfall_max_24h', 'rwi', 'mean_slope', 'std_slope', 'mean_tri',\n",
       "       'std_tri', 'mean_elev', 'coast_length', 'with_coast', 'urban', 'rural',\n",
       "       'water', 'total_pop', 'percent_houses_damaged_5years'],\n",
       "      dtype='object')"
      ]
     },
     "metadata": {},
     "output_type": "display_data"
    },
    {
     "name": "stderr",
     "output_type": "stream",
     "text": [
      "pandas.Int64Index is deprecated and will be removed from pandas in a future version. Use pandas.Index with the appropriate dtype instead.\n"
     ]
    },
    {
     "name": "stdout",
     "output_type": "stream",
     "text": [
      "[12:55:48] WARNING: /Users/runner/miniforge3/conda-bld/xgboost-split_1637426408905/work/src/learner.cc:576: \n",
      "Parameters: { \"early_stopping_rounds\" } might not be used.\n",
      "\n",
      "  This could be a false alarm, with some parameters getting used by language bindings but\n",
      "  then being mistakenly passed down to XGBoost core, or some parameter actually being used\n",
      "  but getting flagged wrongly here. Please open an issue if you find any such cases.\n",
      "\n",
      "\n",
      "25\n",
      "[6.674624158395224, 4.449200103474802, 1.790356151362048, 1.5163534456986811, 1.4361113612231042, 7.204346884902653, 1.7235841429905965, 1.8969233976981363, 12.06976526852469, 3.5901877263232476, 2.381031421682828, 0.43659658760198977, 0.29598669033671277, 3.0829939108386, 3.233793250853869, 0.6870958886670998, 0.9170928264887435, 0.1949605562070014, 5.857914537041595, 3.557644567777283, 2.4254088325389738, 0.31824953888985646, 2.722092056583379, 3.879737990882632, 4.439948612477567, 0.6570247319468342]\n"
     ]
    },
    {
     "data": {
      "text/plain": [
       "Index(['wind_speed', 'track_distance', 'total_houses', 'rainfall_max_6h',\n",
       "       'rainfall_max_24h', 'rwi', 'mean_slope', 'std_slope', 'mean_tri',\n",
       "       'std_tri', 'mean_elev', 'coast_length', 'with_coast', 'urban', 'rural',\n",
       "       'water', 'total_pop', 'percent_houses_damaged_5years'],\n",
       "      dtype='object')"
      ]
     },
     "metadata": {},
     "output_type": "display_data"
    },
    {
     "name": "stderr",
     "output_type": "stream",
     "text": [
      "pandas.Int64Index is deprecated and will be removed from pandas in a future version. Use pandas.Index with the appropriate dtype instead.\n"
     ]
    },
    {
     "name": "stdout",
     "output_type": "stream",
     "text": [
      "[12:55:49] WARNING: /Users/runner/miniforge3/conda-bld/xgboost-split_1637426408905/work/src/learner.cc:576: \n",
      "Parameters: { \"early_stopping_rounds\" } might not be used.\n",
      "\n",
      "  This could be a false alarm, with some parameters getting used by language bindings but\n",
      "  then being mistakenly passed down to XGBoost core, or some parameter actually being used\n",
      "  but getting flagged wrongly here. Please open an issue if you find any such cases.\n",
      "\n",
      "\n",
      "Counter({0: 48567, 1: 1065})\n",
      "Counter({0: 10650, 1: 1065})\n"
     ]
    },
    {
     "name": "stderr",
     "output_type": "stream",
     "text": [
      "The use of label encoder in XGBClassifier is deprecated and will be removed in a future release. To remove this warning, do the following: 1) Pass option use_label_encoder=False when constructing XGBClassifier object; and 2) Encode your labels (y) as integers starting with 0, i.e. 0, 1, 2, ..., [num_class - 1].\n",
      "pandas.Int64Index is deprecated and will be removed from pandas in a future version. Use pandas.Index with the appropriate dtype instead.\n"
     ]
    },
    {
     "data": {
      "text/plain": [
       "Index(['wind_speed', 'track_distance', 'total_houses', 'rainfall_max_6h',\n",
       "       'rainfall_max_24h', 'rwi', 'mean_slope', 'std_slope', 'mean_tri',\n",
       "       'std_tri', 'mean_elev', 'coast_length', 'with_coast', 'urban', 'rural',\n",
       "       'water', 'total_pop', 'percent_houses_damaged_5years'],\n",
       "      dtype='object')"
      ]
     },
     "metadata": {},
     "output_type": "display_data"
    },
    {
     "name": "stderr",
     "output_type": "stream",
     "text": [
      "pandas.Int64Index is deprecated and will be removed from pandas in a future version. Use pandas.Index with the appropriate dtype instead.\n",
      "\n",
      "A value is trying to be set on a copy of a slice from a DataFrame.\n",
      "Try using .loc[row_indexer,col_indexer] = value instead\n",
      "\n",
      "See the caveats in the documentation: https://pandas.pydata.org/pandas-docs/stable/user_guide/indexing.html#returning-a-view-versus-a-copy\n",
      "\n",
      "A value is trying to be set on a copy of a slice from a DataFrame.\n",
      "Try using .loc[row_indexer,col_indexer] = value instead\n",
      "\n",
      "See the caveats in the documentation: https://pandas.pydata.org/pandas-docs/stable/user_guide/indexing.html#returning-a-view-versus-a-copy\n"
     ]
    },
    {
     "name": "stdout",
     "output_type": "stream",
     "text": [
      "[12:55:54] WARNING: /Users/runner/miniforge3/conda-bld/xgboost-split_1637426408905/work/src/learner.cc:576: \n",
      "Parameters: { \"early_stopping_rounds\" } might not be used.\n",
      "\n",
      "  This could be a false alarm, with some parameters getting used by language bindings but\n",
      "  then being mistakenly passed down to XGBoost core, or some parameter actually being used\n",
      "  but getting flagged wrongly here. Please open an issue if you find any such cases.\n",
      "\n",
      "\n",
      "26\n",
      "[6.674624158395224, 4.449200103474802, 1.790356151362048, 1.5163534456986811, 1.4361113612231042, 7.204346884902653, 1.7235841429905965, 1.8969233976981363, 12.06976526852469, 3.5901877263232476, 2.381031421682828, 0.43659658760198977, 0.29598669033671277, 3.0829939108386, 3.233793250853869, 0.6870958886670998, 0.9170928264887435, 0.1949605562070014, 5.857914537041595, 3.557644567777283, 2.4254088325389738, 0.31824953888985646, 2.722092056583379, 3.879737990882632, 4.439948612477567, 0.6570247319468342, 6.781326862241559]\n"
     ]
    },
    {
     "data": {
      "text/plain": [
       "Index(['wind_speed', 'track_distance', 'total_houses', 'rainfall_max_6h',\n",
       "       'rainfall_max_24h', 'rwi', 'mean_slope', 'std_slope', 'mean_tri',\n",
       "       'std_tri', 'mean_elev', 'coast_length', 'with_coast', 'urban', 'rural',\n",
       "       'water', 'total_pop', 'percent_houses_damaged_5years'],\n",
       "      dtype='object')"
      ]
     },
     "metadata": {},
     "output_type": "display_data"
    },
    {
     "name": "stderr",
     "output_type": "stream",
     "text": [
      "pandas.Int64Index is deprecated and will be removed from pandas in a future version. Use pandas.Index with the appropriate dtype instead.\n"
     ]
    },
    {
     "name": "stdout",
     "output_type": "stream",
     "text": [
      "[12:55:55] WARNING: /Users/runner/miniforge3/conda-bld/xgboost-split_1637426408905/work/src/learner.cc:576: \n",
      "Parameters: { \"early_stopping_rounds\" } might not be used.\n",
      "\n",
      "  This could be a false alarm, with some parameters getting used by language bindings but\n",
      "  then being mistakenly passed down to XGBoost core, or some parameter actually being used\n",
      "  but getting flagged wrongly here. Please open an issue if you find any such cases.\n",
      "\n",
      "\n",
      "Counter({0: 47251, 1: 1004})\n",
      "Counter({0: 10040, 1: 1004})\n"
     ]
    },
    {
     "name": "stderr",
     "output_type": "stream",
     "text": [
      "The use of label encoder in XGBClassifier is deprecated and will be removed in a future release. To remove this warning, do the following: 1) Pass option use_label_encoder=False when constructing XGBClassifier object; and 2) Encode your labels (y) as integers starting with 0, i.e. 0, 1, 2, ..., [num_class - 1].\n",
      "pandas.Int64Index is deprecated and will be removed from pandas in a future version. Use pandas.Index with the appropriate dtype instead.\n"
     ]
    },
    {
     "data": {
      "text/plain": [
       "Index(['wind_speed', 'track_distance', 'total_houses', 'rainfall_max_6h',\n",
       "       'rainfall_max_24h', 'rwi', 'mean_slope', 'std_slope', 'mean_tri',\n",
       "       'std_tri', 'mean_elev', 'coast_length', 'with_coast', 'urban', 'rural',\n",
       "       'water', 'total_pop', 'percent_houses_damaged_5years'],\n",
       "      dtype='object')"
      ]
     },
     "metadata": {},
     "output_type": "display_data"
    },
    {
     "name": "stderr",
     "output_type": "stream",
     "text": [
      "pandas.Int64Index is deprecated and will be removed from pandas in a future version. Use pandas.Index with the appropriate dtype instead.\n",
      "\n",
      "A value is trying to be set on a copy of a slice from a DataFrame.\n",
      "Try using .loc[row_indexer,col_indexer] = value instead\n",
      "\n",
      "See the caveats in the documentation: https://pandas.pydata.org/pandas-docs/stable/user_guide/indexing.html#returning-a-view-versus-a-copy\n",
      "\n",
      "A value is trying to be set on a copy of a slice from a DataFrame.\n",
      "Try using .loc[row_indexer,col_indexer] = value instead\n",
      "\n",
      "See the caveats in the documentation: https://pandas.pydata.org/pandas-docs/stable/user_guide/indexing.html#returning-a-view-versus-a-copy\n"
     ]
    },
    {
     "name": "stdout",
     "output_type": "stream",
     "text": [
      "[12:55:59] WARNING: /Users/runner/miniforge3/conda-bld/xgboost-split_1637426408905/work/src/learner.cc:576: \n",
      "Parameters: { \"early_stopping_rounds\" } might not be used.\n",
      "\n",
      "  This could be a false alarm, with some parameters getting used by language bindings but\n",
      "  then being mistakenly passed down to XGBoost core, or some parameter actually being used\n",
      "  but getting flagged wrongly here. Please open an issue if you find any such cases.\n",
      "\n",
      "\n",
      "27\n",
      "[6.674624158395224, 4.449200103474802, 1.790356151362048, 1.5163534456986811, 1.4361113612231042, 7.204346884902653, 1.7235841429905965, 1.8969233976981363, 12.06976526852469, 3.5901877263232476, 2.381031421682828, 0.43659658760198977, 0.29598669033671277, 3.0829939108386, 3.233793250853869, 0.6870958886670998, 0.9170928264887435, 0.1949605562070014, 5.857914537041595, 3.557644567777283, 2.4254088325389738, 0.31824953888985646, 2.722092056583379, 3.879737990882632, 4.439948612477567, 0.6570247319468342, 6.781326862241559, 5.662660796208934]\n"
     ]
    },
    {
     "data": {
      "text/plain": [
       "Index(['wind_speed', 'track_distance', 'total_houses', 'rainfall_max_6h',\n",
       "       'rainfall_max_24h', 'rwi', 'mean_slope', 'std_slope', 'mean_tri',\n",
       "       'std_tri', 'mean_elev', 'coast_length', 'with_coast', 'urban', 'rural',\n",
       "       'water', 'total_pop', 'percent_houses_damaged_5years'],\n",
       "      dtype='object')"
      ]
     },
     "metadata": {},
     "output_type": "display_data"
    },
    {
     "name": "stderr",
     "output_type": "stream",
     "text": [
      "pandas.Int64Index is deprecated and will be removed from pandas in a future version. Use pandas.Index with the appropriate dtype instead.\n"
     ]
    },
    {
     "name": "stdout",
     "output_type": "stream",
     "text": [
      "[12:56:00] WARNING: /Users/runner/miniforge3/conda-bld/xgboost-split_1637426408905/work/src/learner.cc:576: \n",
      "Parameters: { \"early_stopping_rounds\" } might not be used.\n",
      "\n",
      "  This could be a false alarm, with some parameters getting used by language bindings but\n",
      "  then being mistakenly passed down to XGBoost core, or some parameter actually being used\n",
      "  but getting flagged wrongly here. Please open an issue if you find any such cases.\n",
      "\n",
      "\n",
      "Counter({0: 47190, 1: 1069})\n",
      "Counter({0: 10690, 1: 1069})\n"
     ]
    },
    {
     "name": "stderr",
     "output_type": "stream",
     "text": [
      "The use of label encoder in XGBClassifier is deprecated and will be removed in a future release. To remove this warning, do the following: 1) Pass option use_label_encoder=False when constructing XGBClassifier object; and 2) Encode your labels (y) as integers starting with 0, i.e. 0, 1, 2, ..., [num_class - 1].\n",
      "pandas.Int64Index is deprecated and will be removed from pandas in a future version. Use pandas.Index with the appropriate dtype instead.\n"
     ]
    },
    {
     "data": {
      "text/plain": [
       "Index(['wind_speed', 'track_distance', 'total_houses', 'rainfall_max_6h',\n",
       "       'rainfall_max_24h', 'rwi', 'mean_slope', 'std_slope', 'mean_tri',\n",
       "       'std_tri', 'mean_elev', 'coast_length', 'with_coast', 'urban', 'rural',\n",
       "       'water', 'total_pop', 'percent_houses_damaged_5years'],\n",
       "      dtype='object')"
      ]
     },
     "metadata": {},
     "output_type": "display_data"
    },
    {
     "name": "stderr",
     "output_type": "stream",
     "text": [
      "pandas.Int64Index is deprecated and will be removed from pandas in a future version. Use pandas.Index with the appropriate dtype instead.\n",
      "\n",
      "A value is trying to be set on a copy of a slice from a DataFrame.\n",
      "Try using .loc[row_indexer,col_indexer] = value instead\n",
      "\n",
      "See the caveats in the documentation: https://pandas.pydata.org/pandas-docs/stable/user_guide/indexing.html#returning-a-view-versus-a-copy\n",
      "\n",
      "A value is trying to be set on a copy of a slice from a DataFrame.\n",
      "Try using .loc[row_indexer,col_indexer] = value instead\n",
      "\n",
      "See the caveats in the documentation: https://pandas.pydata.org/pandas-docs/stable/user_guide/indexing.html#returning-a-view-versus-a-copy\n"
     ]
    },
    {
     "name": "stdout",
     "output_type": "stream",
     "text": [
      "[12:56:04] WARNING: /Users/runner/miniforge3/conda-bld/xgboost-split_1637426408905/work/src/learner.cc:576: \n",
      "Parameters: { \"early_stopping_rounds\" } might not be used.\n",
      "\n",
      "  This could be a false alarm, with some parameters getting used by language bindings but\n",
      "  then being mistakenly passed down to XGBoost core, or some parameter actually being used\n",
      "  but getting flagged wrongly here. Please open an issue if you find any such cases.\n",
      "\n",
      "\n",
      "28\n",
      "[6.674624158395224, 4.449200103474802, 1.790356151362048, 1.5163534456986811, 1.4361113612231042, 7.204346884902653, 1.7235841429905965, 1.8969233976981363, 12.06976526852469, 3.5901877263232476, 2.381031421682828, 0.43659658760198977, 0.29598669033671277, 3.0829939108386, 3.233793250853869, 0.6870958886670998, 0.9170928264887435, 0.1949605562070014, 5.857914537041595, 3.557644567777283, 2.4254088325389738, 0.31824953888985646, 2.722092056583379, 3.879737990882632, 4.439948612477567, 0.6570247319468342, 6.781326862241559, 5.662660796208934, 0.7979873893483295]\n"
     ]
    },
    {
     "data": {
      "text/plain": [
       "Index(['wind_speed', 'track_distance', 'total_houses', 'rainfall_max_6h',\n",
       "       'rainfall_max_24h', 'rwi', 'mean_slope', 'std_slope', 'mean_tri',\n",
       "       'std_tri', 'mean_elev', 'coast_length', 'with_coast', 'urban', 'rural',\n",
       "       'water', 'total_pop', 'percent_houses_damaged_5years'],\n",
       "      dtype='object')"
      ]
     },
     "metadata": {},
     "output_type": "display_data"
    },
    {
     "name": "stderr",
     "output_type": "stream",
     "text": [
      "pandas.Int64Index is deprecated and will be removed from pandas in a future version. Use pandas.Index with the appropriate dtype instead.\n"
     ]
    },
    {
     "name": "stdout",
     "output_type": "stream",
     "text": [
      "[12:56:05] WARNING: /Users/runner/miniforge3/conda-bld/xgboost-split_1637426408905/work/src/learner.cc:576: \n",
      "Parameters: { \"early_stopping_rounds\" } might not be used.\n",
      "\n",
      "  This could be a false alarm, with some parameters getting used by language bindings but\n",
      "  then being mistakenly passed down to XGBoost core, or some parameter actually being used\n",
      "  but getting flagged wrongly here. Please open an issue if you find any such cases.\n",
      "\n",
      "\n",
      "Counter({0: 48061, 1: 1045})\n",
      "Counter({0: 10450, 1: 1045})\n"
     ]
    },
    {
     "name": "stderr",
     "output_type": "stream",
     "text": [
      "The use of label encoder in XGBClassifier is deprecated and will be removed in a future release. To remove this warning, do the following: 1) Pass option use_label_encoder=False when constructing XGBClassifier object; and 2) Encode your labels (y) as integers starting with 0, i.e. 0, 1, 2, ..., [num_class - 1].\n",
      "pandas.Int64Index is deprecated and will be removed from pandas in a future version. Use pandas.Index with the appropriate dtype instead.\n"
     ]
    },
    {
     "data": {
      "text/plain": [
       "Index(['wind_speed', 'track_distance', 'total_houses', 'rainfall_max_6h',\n",
       "       'rainfall_max_24h', 'rwi', 'mean_slope', 'std_slope', 'mean_tri',\n",
       "       'std_tri', 'mean_elev', 'coast_length', 'with_coast', 'urban', 'rural',\n",
       "       'water', 'total_pop', 'percent_houses_damaged_5years'],\n",
       "      dtype='object')"
      ]
     },
     "metadata": {},
     "output_type": "display_data"
    },
    {
     "name": "stderr",
     "output_type": "stream",
     "text": [
      "pandas.Int64Index is deprecated and will be removed from pandas in a future version. Use pandas.Index with the appropriate dtype instead.\n",
      "\n",
      "A value is trying to be set on a copy of a slice from a DataFrame.\n",
      "Try using .loc[row_indexer,col_indexer] = value instead\n",
      "\n",
      "See the caveats in the documentation: https://pandas.pydata.org/pandas-docs/stable/user_guide/indexing.html#returning-a-view-versus-a-copy\n",
      "\n",
      "A value is trying to be set on a copy of a slice from a DataFrame.\n",
      "Try using .loc[row_indexer,col_indexer] = value instead\n",
      "\n",
      "See the caveats in the documentation: https://pandas.pydata.org/pandas-docs/stable/user_guide/indexing.html#returning-a-view-versus-a-copy\n"
     ]
    },
    {
     "name": "stdout",
     "output_type": "stream",
     "text": [
      "[12:56:09] WARNING: /Users/runner/miniforge3/conda-bld/xgboost-split_1637426408905/work/src/learner.cc:576: \n",
      "Parameters: { \"early_stopping_rounds\" } might not be used.\n",
      "\n",
      "  This could be a false alarm, with some parameters getting used by language bindings but\n",
      "  then being mistakenly passed down to XGBoost core, or some parameter actually being used\n",
      "  but getting flagged wrongly here. Please open an issue if you find any such cases.\n",
      "\n",
      "\n",
      "29\n",
      "[6.674624158395224, 4.449200103474802, 1.790356151362048, 1.5163534456986811, 1.4361113612231042, 7.204346884902653, 1.7235841429905965, 1.8969233976981363, 12.06976526852469, 3.5901877263232476, 2.381031421682828, 0.43659658760198977, 0.29598669033671277, 3.0829939108386, 3.233793250853869, 0.6870958886670998, 0.9170928264887435, 0.1949605562070014, 5.857914537041595, 3.557644567777283, 2.4254088325389738, 0.31824953888985646, 2.722092056583379, 3.879737990882632, 4.439948612477567, 0.6570247319468342, 6.781326862241559, 5.662660796208934, 0.7979873893483295, 7.368087105089468]\n"
     ]
    },
    {
     "data": {
      "text/plain": [
       "Index(['wind_speed', 'track_distance', 'total_houses', 'rainfall_max_6h',\n",
       "       'rainfall_max_24h', 'rwi', 'mean_slope', 'std_slope', 'mean_tri',\n",
       "       'std_tri', 'mean_elev', 'coast_length', 'with_coast', 'urban', 'rural',\n",
       "       'water', 'total_pop', 'percent_houses_damaged_5years'],\n",
       "      dtype='object')"
      ]
     },
     "metadata": {},
     "output_type": "display_data"
    },
    {
     "name": "stderr",
     "output_type": "stream",
     "text": [
      "pandas.Int64Index is deprecated and will be removed from pandas in a future version. Use pandas.Index with the appropriate dtype instead.\n"
     ]
    },
    {
     "name": "stdout",
     "output_type": "stream",
     "text": [
      "[12:56:11] WARNING: /Users/runner/miniforge3/conda-bld/xgboost-split_1637426408905/work/src/learner.cc:576: \n",
      "Parameters: { \"early_stopping_rounds\" } might not be used.\n",
      "\n",
      "  This could be a false alarm, with some parameters getting used by language bindings but\n",
      "  then being mistakenly passed down to XGBoost core, or some parameter actually being used\n",
      "  but getting flagged wrongly here. Please open an issue if you find any such cases.\n",
      "\n",
      "\n",
      "Counter({0: 47772, 1: 1069})\n",
      "Counter({0: 10690, 1: 1069})\n"
     ]
    },
    {
     "name": "stderr",
     "output_type": "stream",
     "text": [
      "The use of label encoder in XGBClassifier is deprecated and will be removed in a future release. To remove this warning, do the following: 1) Pass option use_label_encoder=False when constructing XGBClassifier object; and 2) Encode your labels (y) as integers starting with 0, i.e. 0, 1, 2, ..., [num_class - 1].\n",
      "pandas.Int64Index is deprecated and will be removed from pandas in a future version. Use pandas.Index with the appropriate dtype instead.\n"
     ]
    },
    {
     "data": {
      "text/plain": [
       "Index(['wind_speed', 'track_distance', 'total_houses', 'rainfall_max_6h',\n",
       "       'rainfall_max_24h', 'rwi', 'mean_slope', 'std_slope', 'mean_tri',\n",
       "       'std_tri', 'mean_elev', 'coast_length', 'with_coast', 'urban', 'rural',\n",
       "       'water', 'total_pop', 'percent_houses_damaged_5years'],\n",
       "      dtype='object')"
      ]
     },
     "metadata": {},
     "output_type": "display_data"
    },
    {
     "name": "stderr",
     "output_type": "stream",
     "text": [
      "pandas.Int64Index is deprecated and will be removed from pandas in a future version. Use pandas.Index with the appropriate dtype instead.\n",
      "\n",
      "A value is trying to be set on a copy of a slice from a DataFrame.\n",
      "Try using .loc[row_indexer,col_indexer] = value instead\n",
      "\n",
      "See the caveats in the documentation: https://pandas.pydata.org/pandas-docs/stable/user_guide/indexing.html#returning-a-view-versus-a-copy\n",
      "\n",
      "A value is trying to be set on a copy of a slice from a DataFrame.\n",
      "Try using .loc[row_indexer,col_indexer] = value instead\n",
      "\n",
      "See the caveats in the documentation: https://pandas.pydata.org/pandas-docs/stable/user_guide/indexing.html#returning-a-view-versus-a-copy\n"
     ]
    },
    {
     "name": "stdout",
     "output_type": "stream",
     "text": [
      "[12:56:15] WARNING: /Users/runner/miniforge3/conda-bld/xgboost-split_1637426408905/work/src/learner.cc:576: \n",
      "Parameters: { \"early_stopping_rounds\" } might not be used.\n",
      "\n",
      "  This could be a false alarm, with some parameters getting used by language bindings but\n",
      "  then being mistakenly passed down to XGBoost core, or some parameter actually being used\n",
      "  but getting flagged wrongly here. Please open an issue if you find any such cases.\n",
      "\n",
      "\n",
      "30\n",
      "[6.674624158395224, 4.449200103474802, 1.790356151362048, 1.5163534456986811, 1.4361113612231042, 7.204346884902653, 1.7235841429905965, 1.8969233976981363, 12.06976526852469, 3.5901877263232476, 2.381031421682828, 0.43659658760198977, 0.29598669033671277, 3.0829939108386, 3.233793250853869, 0.6870958886670998, 0.9170928264887435, 0.1949605562070014, 5.857914537041595, 3.557644567777283, 2.4254088325389738, 0.31824953888985646, 2.722092056583379, 3.879737990882632, 4.439948612477567, 0.6570247319468342, 6.781326862241559, 5.662660796208934, 0.7979873893483295, 7.368087105089468, 1.4536464883540112]\n"
     ]
    },
    {
     "data": {
      "text/plain": [
       "Index(['wind_speed', 'track_distance', 'total_houses', 'rainfall_max_6h',\n",
       "       'rainfall_max_24h', 'rwi', 'mean_slope', 'std_slope', 'mean_tri',\n",
       "       'std_tri', 'mean_elev', 'coast_length', 'with_coast', 'urban', 'rural',\n",
       "       'water', 'total_pop', 'percent_houses_damaged_5years'],\n",
       "      dtype='object')"
      ]
     },
     "metadata": {},
     "output_type": "display_data"
    },
    {
     "name": "stderr",
     "output_type": "stream",
     "text": [
      "pandas.Int64Index is deprecated and will be removed from pandas in a future version. Use pandas.Index with the appropriate dtype instead.\n"
     ]
    },
    {
     "name": "stdout",
     "output_type": "stream",
     "text": [
      "[12:56:16] WARNING: /Users/runner/miniforge3/conda-bld/xgboost-split_1637426408905/work/src/learner.cc:576: \n",
      "Parameters: { \"early_stopping_rounds\" } might not be used.\n",
      "\n",
      "  This could be a false alarm, with some parameters getting used by language bindings but\n",
      "  then being mistakenly passed down to XGBoost core, or some parameter actually being used\n",
      "  but getting flagged wrongly here. Please open an issue if you find any such cases.\n",
      "\n",
      "\n",
      "Counter({0: 47193, 1: 995})\n",
      "Counter({0: 9950, 1: 995})\n"
     ]
    },
    {
     "name": "stderr",
     "output_type": "stream",
     "text": [
      "The use of label encoder in XGBClassifier is deprecated and will be removed in a future release. To remove this warning, do the following: 1) Pass option use_label_encoder=False when constructing XGBClassifier object; and 2) Encode your labels (y) as integers starting with 0, i.e. 0, 1, 2, ..., [num_class - 1].\n",
      "pandas.Int64Index is deprecated and will be removed from pandas in a future version. Use pandas.Index with the appropriate dtype instead.\n"
     ]
    },
    {
     "data": {
      "text/plain": [
       "Index(['wind_speed', 'track_distance', 'total_houses', 'rainfall_max_6h',\n",
       "       'rainfall_max_24h', 'rwi', 'mean_slope', 'std_slope', 'mean_tri',\n",
       "       'std_tri', 'mean_elev', 'coast_length', 'with_coast', 'urban', 'rural',\n",
       "       'water', 'total_pop', 'percent_houses_damaged_5years'],\n",
       "      dtype='object')"
      ]
     },
     "metadata": {},
     "output_type": "display_data"
    },
    {
     "name": "stderr",
     "output_type": "stream",
     "text": [
      "pandas.Int64Index is deprecated and will be removed from pandas in a future version. Use pandas.Index with the appropriate dtype instead.\n",
      "\n",
      "A value is trying to be set on a copy of a slice from a DataFrame.\n",
      "Try using .loc[row_indexer,col_indexer] = value instead\n",
      "\n",
      "See the caveats in the documentation: https://pandas.pydata.org/pandas-docs/stable/user_guide/indexing.html#returning-a-view-versus-a-copy\n",
      "\n",
      "A value is trying to be set on a copy of a slice from a DataFrame.\n",
      "Try using .loc[row_indexer,col_indexer] = value instead\n",
      "\n",
      "See the caveats in the documentation: https://pandas.pydata.org/pandas-docs/stable/user_guide/indexing.html#returning-a-view-versus-a-copy\n"
     ]
    },
    {
     "name": "stdout",
     "output_type": "stream",
     "text": [
      "[12:56:20] WARNING: /Users/runner/miniforge3/conda-bld/xgboost-split_1637426408905/work/src/learner.cc:576: \n",
      "Parameters: { \"early_stopping_rounds\" } might not be used.\n",
      "\n",
      "  This could be a false alarm, with some parameters getting used by language bindings but\n",
      "  then being mistakenly passed down to XGBoost core, or some parameter actually being used\n",
      "  but getting flagged wrongly here. Please open an issue if you find any such cases.\n",
      "\n",
      "\n",
      "31\n",
      "[6.674624158395224, 4.449200103474802, 1.790356151362048, 1.5163534456986811, 1.4361113612231042, 7.204346884902653, 1.7235841429905965, 1.8969233976981363, 12.06976526852469, 3.5901877263232476, 2.381031421682828, 0.43659658760198977, 0.29598669033671277, 3.0829939108386, 3.233793250853869, 0.6870958886670998, 0.9170928264887435, 0.1949605562070014, 5.857914537041595, 3.557644567777283, 2.4254088325389738, 0.31824953888985646, 2.722092056583379, 3.879737990882632, 4.439948612477567, 0.6570247319468342, 6.781326862241559, 5.662660796208934, 0.7979873893483295, 7.368087105089468, 1.4536464883540112, 4.130778133604292]\n"
     ]
    },
    {
     "data": {
      "text/plain": [
       "Index(['wind_speed', 'track_distance', 'total_houses', 'rainfall_max_6h',\n",
       "       'rainfall_max_24h', 'rwi', 'mean_slope', 'std_slope', 'mean_tri',\n",
       "       'std_tri', 'mean_elev', 'coast_length', 'with_coast', 'urban', 'rural',\n",
       "       'water', 'total_pop', 'percent_houses_damaged_5years'],\n",
       "      dtype='object')"
      ]
     },
     "metadata": {},
     "output_type": "display_data"
    },
    {
     "name": "stderr",
     "output_type": "stream",
     "text": [
      "pandas.Int64Index is deprecated and will be removed from pandas in a future version. Use pandas.Index with the appropriate dtype instead.\n"
     ]
    },
    {
     "name": "stdout",
     "output_type": "stream",
     "text": [
      "[12:56:21] WARNING: /Users/runner/miniforge3/conda-bld/xgboost-split_1637426408905/work/src/learner.cc:576: \n",
      "Parameters: { \"early_stopping_rounds\" } might not be used.\n",
      "\n",
      "  This could be a false alarm, with some parameters getting used by language bindings but\n",
      "  then being mistakenly passed down to XGBoost core, or some parameter actually being used\n",
      "  but getting flagged wrongly here. Please open an issue if you find any such cases.\n",
      "\n",
      "\n",
      "Counter({0: 48669, 1: 1069})\n",
      "Counter({0: 10690, 1: 1069})\n"
     ]
    },
    {
     "name": "stderr",
     "output_type": "stream",
     "text": [
      "The use of label encoder in XGBClassifier is deprecated and will be removed in a future release. To remove this warning, do the following: 1) Pass option use_label_encoder=False when constructing XGBClassifier object; and 2) Encode your labels (y) as integers starting with 0, i.e. 0, 1, 2, ..., [num_class - 1].\n",
      "pandas.Int64Index is deprecated and will be removed from pandas in a future version. Use pandas.Index with the appropriate dtype instead.\n"
     ]
    },
    {
     "data": {
      "text/plain": [
       "Index(['wind_speed', 'track_distance', 'total_houses', 'rainfall_max_6h',\n",
       "       'rainfall_max_24h', 'rwi', 'mean_slope', 'std_slope', 'mean_tri',\n",
       "       'std_tri', 'mean_elev', 'coast_length', 'with_coast', 'urban', 'rural',\n",
       "       'water', 'total_pop', 'percent_houses_damaged_5years'],\n",
       "      dtype='object')"
      ]
     },
     "metadata": {},
     "output_type": "display_data"
    },
    {
     "name": "stderr",
     "output_type": "stream",
     "text": [
      "pandas.Int64Index is deprecated and will be removed from pandas in a future version. Use pandas.Index with the appropriate dtype instead.\n"
     ]
    },
    {
     "name": "stdout",
     "output_type": "stream",
     "text": [
      "[12:56:25] WARNING: /Users/runner/miniforge3/conda-bld/xgboost-split_1637426408905/work/src/learner.cc:576: \n",
      "Parameters: { \"early_stopping_rounds\" } might not be used.\n",
      "\n",
      "  This could be a false alarm, with some parameters getting used by language bindings but\n",
      "  then being mistakenly passed down to XGBoost core, or some parameter actually being used\n",
      "  but getting flagged wrongly here. Please open an issue if you find any such cases.\n",
      "\n",
      "\n",
      "32\n",
      "[6.674624158395224, 4.449200103474802, 1.790356151362048, 1.5163534456986811, 1.4361113612231042, 7.204346884902653, 1.7235841429905965, 1.8969233976981363, 12.06976526852469, 3.5901877263232476, 2.381031421682828, 0.43659658760198977, 0.29598669033671277, 3.0829939108386, 3.233793250853869, 0.6870958886670998, 0.9170928264887435, 0.1949605562070014, 5.857914537041595, 3.557644567777283, 2.4254088325389738, 0.31824953888985646, 2.722092056583379, 3.879737990882632, 4.439948612477567, 0.6570247319468342, 6.781326862241559, 5.662660796208934, 0.7979873893483295, 7.368087105089468, 1.4536464883540112, 4.130778133604292, 0.04029471936999575]\n"
     ]
    },
    {
     "data": {
      "text/plain": [
       "Index(['wind_speed', 'track_distance', 'total_houses', 'rainfall_max_6h',\n",
       "       'rainfall_max_24h', 'rwi', 'mean_slope', 'std_slope', 'mean_tri',\n",
       "       'std_tri', 'mean_elev', 'coast_length', 'with_coast', 'urban', 'rural',\n",
       "       'water', 'total_pop', 'percent_houses_damaged_5years'],\n",
       "      dtype='object')"
      ]
     },
     "metadata": {},
     "output_type": "display_data"
    },
    {
     "name": "stderr",
     "output_type": "stream",
     "text": [
      "pandas.Int64Index is deprecated and will be removed from pandas in a future version. Use pandas.Index with the appropriate dtype instead.\n"
     ]
    },
    {
     "name": "stdout",
     "output_type": "stream",
     "text": [
      "[12:56:26] WARNING: /Users/runner/miniforge3/conda-bld/xgboost-split_1637426408905/work/src/learner.cc:576: \n",
      "Parameters: { \"early_stopping_rounds\" } might not be used.\n",
      "\n",
      "  This could be a false alarm, with some parameters getting used by language bindings but\n",
      "  then being mistakenly passed down to XGBoost core, or some parameter actually being used\n",
      "  but getting flagged wrongly here. Please open an issue if you find any such cases.\n",
      "\n",
      "\n",
      "Counter({0: 46904, 1: 1006})\n",
      "Counter({0: 10060, 1: 1006})\n"
     ]
    },
    {
     "name": "stderr",
     "output_type": "stream",
     "text": [
      "The use of label encoder in XGBClassifier is deprecated and will be removed in a future release. To remove this warning, do the following: 1) Pass option use_label_encoder=False when constructing XGBClassifier object; and 2) Encode your labels (y) as integers starting with 0, i.e. 0, 1, 2, ..., [num_class - 1].\n",
      "pandas.Int64Index is deprecated and will be removed from pandas in a future version. Use pandas.Index with the appropriate dtype instead.\n"
     ]
    },
    {
     "data": {
      "text/plain": [
       "Index(['wind_speed', 'track_distance', 'total_houses', 'rainfall_max_6h',\n",
       "       'rainfall_max_24h', 'rwi', 'mean_slope', 'std_slope', 'mean_tri',\n",
       "       'std_tri', 'mean_elev', 'coast_length', 'with_coast', 'urban', 'rural',\n",
       "       'water', 'total_pop', 'percent_houses_damaged_5years'],\n",
       "      dtype='object')"
      ]
     },
     "metadata": {},
     "output_type": "display_data"
    },
    {
     "name": "stderr",
     "output_type": "stream",
     "text": [
      "pandas.Int64Index is deprecated and will be removed from pandas in a future version. Use pandas.Index with the appropriate dtype instead.\n",
      "\n",
      "A value is trying to be set on a copy of a slice from a DataFrame.\n",
      "Try using .loc[row_indexer,col_indexer] = value instead\n",
      "\n",
      "See the caveats in the documentation: https://pandas.pydata.org/pandas-docs/stable/user_guide/indexing.html#returning-a-view-versus-a-copy\n",
      "\n",
      "A value is trying to be set on a copy of a slice from a DataFrame.\n",
      "Try using .loc[row_indexer,col_indexer] = value instead\n",
      "\n",
      "See the caveats in the documentation: https://pandas.pydata.org/pandas-docs/stable/user_guide/indexing.html#returning-a-view-versus-a-copy\n"
     ]
    },
    {
     "name": "stdout",
     "output_type": "stream",
     "text": [
      "[12:56:29] WARNING: /Users/runner/miniforge3/conda-bld/xgboost-split_1637426408905/work/src/learner.cc:576: \n",
      "Parameters: { \"early_stopping_rounds\" } might not be used.\n",
      "\n",
      "  This could be a false alarm, with some parameters getting used by language bindings but\n",
      "  then being mistakenly passed down to XGBoost core, or some parameter actually being used\n",
      "  but getting flagged wrongly here. Please open an issue if you find any such cases.\n",
      "\n",
      "\n",
      "33\n",
      "[6.674624158395224, 4.449200103474802, 1.790356151362048, 1.5163534456986811, 1.4361113612231042, 7.204346884902653, 1.7235841429905965, 1.8969233976981363, 12.06976526852469, 3.5901877263232476, 2.381031421682828, 0.43659658760198977, 0.29598669033671277, 3.0829939108386, 3.233793250853869, 0.6870958886670998, 0.9170928264887435, 0.1949605562070014, 5.857914537041595, 3.557644567777283, 2.4254088325389738, 0.31824953888985646, 2.722092056583379, 3.879737990882632, 4.439948612477567, 0.6570247319468342, 6.781326862241559, 5.662660796208934, 0.7979873893483295, 7.368087105089468, 1.4536464883540112, 4.130778133604292, 0.04029471936999575, 3.5715658380785364]\n"
     ]
    },
    {
     "data": {
      "text/plain": [
       "Index(['wind_speed', 'track_distance', 'total_houses', 'rainfall_max_6h',\n",
       "       'rainfall_max_24h', 'rwi', 'mean_slope', 'std_slope', 'mean_tri',\n",
       "       'std_tri', 'mean_elev', 'coast_length', 'with_coast', 'urban', 'rural',\n",
       "       'water', 'total_pop', 'percent_houses_damaged_5years'],\n",
       "      dtype='object')"
      ]
     },
     "metadata": {},
     "output_type": "display_data"
    },
    {
     "name": "stderr",
     "output_type": "stream",
     "text": [
      "pandas.Int64Index is deprecated and will be removed from pandas in a future version. Use pandas.Index with the appropriate dtype instead.\n"
     ]
    },
    {
     "name": "stdout",
     "output_type": "stream",
     "text": [
      "[12:56:31] WARNING: /Users/runner/miniforge3/conda-bld/xgboost-split_1637426408905/work/src/learner.cc:576: \n",
      "Parameters: { \"early_stopping_rounds\" } might not be used.\n",
      "\n",
      "  This could be a false alarm, with some parameters getting used by language bindings but\n",
      "  then being mistakenly passed down to XGBoost core, or some parameter actually being used\n",
      "  but getting flagged wrongly here. Please open an issue if you find any such cases.\n",
      "\n",
      "\n",
      "Counter({0: 47490, 1: 1069})\n",
      "Counter({0: 10690, 1: 1069})\n"
     ]
    },
    {
     "name": "stderr",
     "output_type": "stream",
     "text": [
      "The use of label encoder in XGBClassifier is deprecated and will be removed in a future release. To remove this warning, do the following: 1) Pass option use_label_encoder=False when constructing XGBClassifier object; and 2) Encode your labels (y) as integers starting with 0, i.e. 0, 1, 2, ..., [num_class - 1].\n",
      "pandas.Int64Index is deprecated and will be removed from pandas in a future version. Use pandas.Index with the appropriate dtype instead.\n"
     ]
    },
    {
     "data": {
      "text/plain": [
       "Index(['wind_speed', 'track_distance', 'total_houses', 'rainfall_max_6h',\n",
       "       'rainfall_max_24h', 'rwi', 'mean_slope', 'std_slope', 'mean_tri',\n",
       "       'std_tri', 'mean_elev', 'coast_length', 'with_coast', 'urban', 'rural',\n",
       "       'water', 'total_pop', 'percent_houses_damaged_5years'],\n",
       "      dtype='object')"
      ]
     },
     "metadata": {},
     "output_type": "display_data"
    },
    {
     "name": "stderr",
     "output_type": "stream",
     "text": [
      "pandas.Int64Index is deprecated and will be removed from pandas in a future version. Use pandas.Index with the appropriate dtype instead.\n"
     ]
    },
    {
     "name": "stdout",
     "output_type": "stream",
     "text": [
      "[12:56:34] WARNING: /Users/runner/miniforge3/conda-bld/xgboost-split_1637426408905/work/src/learner.cc:576: \n",
      "Parameters: { \"early_stopping_rounds\" } might not be used.\n",
      "\n",
      "  This could be a false alarm, with some parameters getting used by language bindings but\n",
      "  then being mistakenly passed down to XGBoost core, or some parameter actually being used\n",
      "  but getting flagged wrongly here. Please open an issue if you find any such cases.\n",
      "\n",
      "\n",
      "34\n",
      "[6.674624158395224, 4.449200103474802, 1.790356151362048, 1.5163534456986811, 1.4361113612231042, 7.204346884902653, 1.7235841429905965, 1.8969233976981363, 12.06976526852469, 3.5901877263232476, 2.381031421682828, 0.43659658760198977, 0.29598669033671277, 3.0829939108386, 3.233793250853869, 0.6870958886670998, 0.9170928264887435, 0.1949605562070014, 5.857914537041595, 3.557644567777283, 2.4254088325389738, 0.31824953888985646, 2.722092056583379, 3.879737990882632, 4.439948612477567, 0.6570247319468342, 6.781326862241559, 5.662660796208934, 0.7979873893483295, 7.368087105089468, 1.4536464883540112, 4.130778133604292, 0.04029471936999575, 3.5715658380785364, 0.26937735748452235]\n"
     ]
    },
    {
     "data": {
      "text/plain": [
       "Index(['wind_speed', 'track_distance', 'total_houses', 'rainfall_max_6h',\n",
       "       'rainfall_max_24h', 'rwi', 'mean_slope', 'std_slope', 'mean_tri',\n",
       "       'std_tri', 'mean_elev', 'coast_length', 'with_coast', 'urban', 'rural',\n",
       "       'water', 'total_pop', 'percent_houses_damaged_5years'],\n",
       "      dtype='object')"
      ]
     },
     "metadata": {},
     "output_type": "display_data"
    },
    {
     "name": "stderr",
     "output_type": "stream",
     "text": [
      "pandas.Int64Index is deprecated and will be removed from pandas in a future version. Use pandas.Index with the appropriate dtype instead.\n"
     ]
    },
    {
     "name": "stdout",
     "output_type": "stream",
     "text": [
      "[12:56:36] WARNING: /Users/runner/miniforge3/conda-bld/xgboost-split_1637426408905/work/src/learner.cc:576: \n",
      "Parameters: { \"early_stopping_rounds\" } might not be used.\n",
      "\n",
      "  This could be a false alarm, with some parameters getting used by language bindings but\n",
      "  then being mistakenly passed down to XGBoost core, or some parameter actually being used\n",
      "  but getting flagged wrongly here. Please open an issue if you find any such cases.\n",
      "\n",
      "\n",
      "Counter({0: 47344, 1: 1061})\n",
      "Counter({0: 10610, 1: 1061})\n"
     ]
    },
    {
     "name": "stderr",
     "output_type": "stream",
     "text": [
      "The use of label encoder in XGBClassifier is deprecated and will be removed in a future release. To remove this warning, do the following: 1) Pass option use_label_encoder=False when constructing XGBClassifier object; and 2) Encode your labels (y) as integers starting with 0, i.e. 0, 1, 2, ..., [num_class - 1].\n",
      "pandas.Int64Index is deprecated and will be removed from pandas in a future version. Use pandas.Index with the appropriate dtype instead.\n"
     ]
    },
    {
     "data": {
      "text/plain": [
       "Index(['wind_speed', 'track_distance', 'total_houses', 'rainfall_max_6h',\n",
       "       'rainfall_max_24h', 'rwi', 'mean_slope', 'std_slope', 'mean_tri',\n",
       "       'std_tri', 'mean_elev', 'coast_length', 'with_coast', 'urban', 'rural',\n",
       "       'water', 'total_pop', 'percent_houses_damaged_5years'],\n",
       "      dtype='object')"
      ]
     },
     "metadata": {},
     "output_type": "display_data"
    },
    {
     "name": "stderr",
     "output_type": "stream",
     "text": [
      "pandas.Int64Index is deprecated and will be removed from pandas in a future version. Use pandas.Index with the appropriate dtype instead.\n",
      "\n",
      "A value is trying to be set on a copy of a slice from a DataFrame.\n",
      "Try using .loc[row_indexer,col_indexer] = value instead\n",
      "\n",
      "See the caveats in the documentation: https://pandas.pydata.org/pandas-docs/stable/user_guide/indexing.html#returning-a-view-versus-a-copy\n",
      "\n",
      "A value is trying to be set on a copy of a slice from a DataFrame.\n",
      "Try using .loc[row_indexer,col_indexer] = value instead\n",
      "\n",
      "See the caveats in the documentation: https://pandas.pydata.org/pandas-docs/stable/user_guide/indexing.html#returning-a-view-versus-a-copy\n"
     ]
    },
    {
     "name": "stdout",
     "output_type": "stream",
     "text": [
      "[12:56:39] WARNING: /Users/runner/miniforge3/conda-bld/xgboost-split_1637426408905/work/src/learner.cc:576: \n",
      "Parameters: { \"early_stopping_rounds\" } might not be used.\n",
      "\n",
      "  This could be a false alarm, with some parameters getting used by language bindings but\n",
      "  then being mistakenly passed down to XGBoost core, or some parameter actually being used\n",
      "  but getting flagged wrongly here. Please open an issue if you find any such cases.\n",
      "\n",
      "\n",
      "35\n",
      "[6.674624158395224, 4.449200103474802, 1.790356151362048, 1.5163534456986811, 1.4361113612231042, 7.204346884902653, 1.7235841429905965, 1.8969233976981363, 12.06976526852469, 3.5901877263232476, 2.381031421682828, 0.43659658760198977, 0.29598669033671277, 3.0829939108386, 3.233793250853869, 0.6870958886670998, 0.9170928264887435, 0.1949605562070014, 5.857914537041595, 3.557644567777283, 2.4254088325389738, 0.31824953888985646, 2.722092056583379, 3.879737990882632, 4.439948612477567, 0.6570247319468342, 6.781326862241559, 5.662660796208934, 0.7979873893483295, 7.368087105089468, 1.4536464883540112, 4.130778133604292, 0.04029471936999575, 3.5715658380785364, 0.26937735748452235, 1.600137386617694]\n"
     ]
    },
    {
     "data": {
      "text/plain": [
       "Index(['wind_speed', 'track_distance', 'total_houses', 'rainfall_max_6h',\n",
       "       'rainfall_max_24h', 'rwi', 'mean_slope', 'std_slope', 'mean_tri',\n",
       "       'std_tri', 'mean_elev', 'coast_length', 'with_coast', 'urban', 'rural',\n",
       "       'water', 'total_pop', 'percent_houses_damaged_5years'],\n",
       "      dtype='object')"
      ]
     },
     "metadata": {},
     "output_type": "display_data"
    },
    {
     "name": "stderr",
     "output_type": "stream",
     "text": [
      "pandas.Int64Index is deprecated and will be removed from pandas in a future version. Use pandas.Index with the appropriate dtype instead.\n"
     ]
    },
    {
     "name": "stdout",
     "output_type": "stream",
     "text": [
      "[12:56:40] WARNING: /Users/runner/miniforge3/conda-bld/xgboost-split_1637426408905/work/src/learner.cc:576: \n",
      "Parameters: { \"early_stopping_rounds\" } might not be used.\n",
      "\n",
      "  This could be a false alarm, with some parameters getting used by language bindings but\n",
      "  then being mistakenly passed down to XGBoost core, or some parameter actually being used\n",
      "  but getting flagged wrongly here. Please open an issue if you find any such cases.\n",
      "\n",
      "\n",
      "Counter({0: 46508, 1: 1059})\n",
      "Counter({0: 10590, 1: 1059})\n"
     ]
    },
    {
     "name": "stderr",
     "output_type": "stream",
     "text": [
      "The use of label encoder in XGBClassifier is deprecated and will be removed in a future release. To remove this warning, do the following: 1) Pass option use_label_encoder=False when constructing XGBClassifier object; and 2) Encode your labels (y) as integers starting with 0, i.e. 0, 1, 2, ..., [num_class - 1].\n",
      "pandas.Int64Index is deprecated and will be removed from pandas in a future version. Use pandas.Index with the appropriate dtype instead.\n"
     ]
    },
    {
     "data": {
      "text/plain": [
       "Index(['wind_speed', 'track_distance', 'total_houses', 'rainfall_max_6h',\n",
       "       'rainfall_max_24h', 'rwi', 'mean_slope', 'std_slope', 'mean_tri',\n",
       "       'std_tri', 'mean_elev', 'coast_length', 'with_coast', 'urban', 'rural',\n",
       "       'water', 'total_pop', 'percent_houses_damaged_5years'],\n",
       "      dtype='object')"
      ]
     },
     "metadata": {},
     "output_type": "display_data"
    },
    {
     "name": "stderr",
     "output_type": "stream",
     "text": [
      "pandas.Int64Index is deprecated and will be removed from pandas in a future version. Use pandas.Index with the appropriate dtype instead.\n",
      "\n",
      "A value is trying to be set on a copy of a slice from a DataFrame.\n",
      "Try using .loc[row_indexer,col_indexer] = value instead\n",
      "\n",
      "See the caveats in the documentation: https://pandas.pydata.org/pandas-docs/stable/user_guide/indexing.html#returning-a-view-versus-a-copy\n",
      "\n",
      "A value is trying to be set on a copy of a slice from a DataFrame.\n",
      "Try using .loc[row_indexer,col_indexer] = value instead\n",
      "\n",
      "See the caveats in the documentation: https://pandas.pydata.org/pandas-docs/stable/user_guide/indexing.html#returning-a-view-versus-a-copy\n"
     ]
    },
    {
     "name": "stdout",
     "output_type": "stream",
     "text": [
      "[12:56:44] WARNING: /Users/runner/miniforge3/conda-bld/xgboost-split_1637426408905/work/src/learner.cc:576: \n",
      "Parameters: { \"early_stopping_rounds\" } might not be used.\n",
      "\n",
      "  This could be a false alarm, with some parameters getting used by language bindings but\n",
      "  then being mistakenly passed down to XGBoost core, or some parameter actually being used\n",
      "  but getting flagged wrongly here. Please open an issue if you find any such cases.\n",
      "\n",
      "\n",
      "36\n",
      "[6.674624158395224, 4.449200103474802, 1.790356151362048, 1.5163534456986811, 1.4361113612231042, 7.204346884902653, 1.7235841429905965, 1.8969233976981363, 12.06976526852469, 3.5901877263232476, 2.381031421682828, 0.43659658760198977, 0.29598669033671277, 3.0829939108386, 3.233793250853869, 0.6870958886670998, 0.9170928264887435, 0.1949605562070014, 5.857914537041595, 3.557644567777283, 2.4254088325389738, 0.31824953888985646, 2.722092056583379, 3.879737990882632, 4.439948612477567, 0.6570247319468342, 6.781326862241559, 5.662660796208934, 0.7979873893483295, 7.368087105089468, 1.4536464883540112, 4.130778133604292, 0.04029471936999575, 3.5715658380785364, 0.26937735748452235, 1.600137386617694, 1.5759672272736605]\n"
     ]
    },
    {
     "data": {
      "text/plain": [
       "Index(['wind_speed', 'track_distance', 'total_houses', 'rainfall_max_6h',\n",
       "       'rainfall_max_24h', 'rwi', 'mean_slope', 'std_slope', 'mean_tri',\n",
       "       'std_tri', 'mean_elev', 'coast_length', 'with_coast', 'urban', 'rural',\n",
       "       'water', 'total_pop', 'percent_houses_damaged_5years'],\n",
       "      dtype='object')"
      ]
     },
     "metadata": {},
     "output_type": "display_data"
    },
    {
     "name": "stderr",
     "output_type": "stream",
     "text": [
      "pandas.Int64Index is deprecated and will be removed from pandas in a future version. Use pandas.Index with the appropriate dtype instead.\n"
     ]
    },
    {
     "name": "stdout",
     "output_type": "stream",
     "text": [
      "[12:56:45] WARNING: /Users/runner/miniforge3/conda-bld/xgboost-split_1637426408905/work/src/learner.cc:576: \n",
      "Parameters: { \"early_stopping_rounds\" } might not be used.\n",
      "\n",
      "  This could be a false alarm, with some parameters getting used by language bindings but\n",
      "  then being mistakenly passed down to XGBoost core, or some parameter actually being used\n",
      "  but getting flagged wrongly here. Please open an issue if you find any such cases.\n",
      "\n",
      "\n",
      "Counter({0: 47251, 1: 1069})\n",
      "Counter({0: 10690, 1: 1069})\n"
     ]
    },
    {
     "name": "stderr",
     "output_type": "stream",
     "text": [
      "The use of label encoder in XGBClassifier is deprecated and will be removed in a future release. To remove this warning, do the following: 1) Pass option use_label_encoder=False when constructing XGBClassifier object; and 2) Encode your labels (y) as integers starting with 0, i.e. 0, 1, 2, ..., [num_class - 1].\n",
      "pandas.Int64Index is deprecated and will be removed from pandas in a future version. Use pandas.Index with the appropriate dtype instead.\n"
     ]
    },
    {
     "data": {
      "text/plain": [
       "Index(['wind_speed', 'track_distance', 'total_houses', 'rainfall_max_6h',\n",
       "       'rainfall_max_24h', 'rwi', 'mean_slope', 'std_slope', 'mean_tri',\n",
       "       'std_tri', 'mean_elev', 'coast_length', 'with_coast', 'urban', 'rural',\n",
       "       'water', 'total_pop', 'percent_houses_damaged_5years'],\n",
       "      dtype='object')"
      ]
     },
     "metadata": {},
     "output_type": "display_data"
    },
    {
     "name": "stdout",
     "output_type": "stream",
     "text": [
      "[12:56:49] WARNING: /Users/runner/miniforge3/conda-bld/xgboost-split_1637426408905/work/src/learner.cc:576: \n",
      "Parameters: { \"early_stopping_rounds\" } might not be used.\n",
      "\n",
      "  This could be a false alarm, with some parameters getting used by language bindings but\n",
      "  then being mistakenly passed down to XGBoost core, or some parameter actually being used\n",
      "  but getting flagged wrongly here. Please open an issue if you find any such cases.\n",
      "\n",
      "\n",
      "37\n",
      "[6.674624158395224, 4.449200103474802, 1.790356151362048, 1.5163534456986811, 1.4361113612231042, 7.204346884902653, 1.7235841429905965, 1.8969233976981363, 12.06976526852469, 3.5901877263232476, 2.381031421682828, 0.43659658760198977, 0.29598669033671277, 3.0829939108386, 3.233793250853869, 0.6870958886670998, 0.9170928264887435, 0.1949605562070014, 5.857914537041595, 3.557644567777283, 2.4254088325389738, 0.31824953888985646, 2.722092056583379, 3.879737990882632, 4.439948612477567, 0.6570247319468342, 6.781326862241559, 5.662660796208934, 0.7979873893483295, 7.368087105089468, 1.4536464883540112, 4.130778133604292, 0.04029471936999575, 3.5715658380785364, 0.26937735748452235, 1.600137386617694, 1.5759672272736605, 0.7260360029872007]\n"
     ]
    },
    {
     "name": "stderr",
     "output_type": "stream",
     "text": [
      "pandas.Int64Index is deprecated and will be removed from pandas in a future version. Use pandas.Index with the appropriate dtype instead.\n"
     ]
    }
   ],
   "source": [
    "# Define empty list to save RMSE in combined and M1 model\n",
    "\n",
    "test_RMSE_lst = []\n",
    "test_RMSE_lst_M1 = []\n",
    "\n",
    "\n",
    "for new_run in range(len(typhoons)):\n",
    "\n",
    "    df = get_training_dataset()\n",
    "    df[\"rwi\"].fillna(df[\"rwi\"].mean(), inplace=True)\n",
    "\n",
    "    # Set any values >100% to 100%,\n",
    "    for r in range(len(df)):\n",
    "        if df.loc[r, \"percent_houses_damaged\"] > 100:\n",
    "            df.at[r, \"percent_houses_damaged\"] = float(100)\n",
    "\n",
    "    df = (df[(df[[\"wind_speed\"]] != 0).any(axis=1)]).reset_index(drop=True)\n",
    "    df = df.drop(columns=[\"grid_point_id\", \"typhoon_year\"])\n",
    "\n",
    "    # Define bins for data stratification\n",
    "    bins2 = [0, 0.00009, 1, 10, 50, 101]\n",
    "    bins_eval = [0, 1, 10, 20, 50, 101]\n",
    "    samples_per_bin2, binsP2 = np.histogram(df[\"percent_houses_damaged\"], bins=bins2)\n",
    "\n",
    "    # Check the bins' intervalls (first bin means all zeros, second bin means 0 < values <= 1)\n",
    "    df[\"percent_houses_damaged\"].value_counts(bins=binsP2)\n",
    "\n",
    "    bin_index2 = np.digitize(df[\"percent_houses_damaged\"], bins=binsP2)\n",
    "    y_input_strat = bin_index2\n",
    "\n",
    "    features = [\n",
    "        \"wind_speed\",\n",
    "        \"track_distance\",\n",
    "        \"total_houses\",\n",
    "        \"rainfall_max_6h\",\n",
    "        \"rainfall_max_24h\",\n",
    "        \"rwi\",\n",
    "        \"mean_slope\",\n",
    "        \"std_slope\",\n",
    "        \"mean_tri\",\n",
    "        \"std_tri\",\n",
    "        \"mean_elev\",\n",
    "        \"coast_length\",\n",
    "        \"with_coast\",\n",
    "        \"urban\",\n",
    "        \"rural\",\n",
    "        \"water\",\n",
    "        \"total_pop\",\n",
    "        \"percent_houses_damaged_5years\",\n",
    "    ]\n",
    "\n",
    "    # Split X and y from dataframe features\n",
    "    X = df[features]\n",
    "    display(X.columns)\n",
    "    y = df[\"percent_houses_damaged\"]\n",
    "\n",
    "    # Split df to train and test (one typhoon for test and the rest of typhoons for train)\n",
    "    df_test = df[df[\"typhoon_name\"] == typhoons[new_run]]\n",
    "    df_train = df[df[\"typhoon_name\"] != typhoons[new_run]]\n",
    "\n",
    "    # Split X and y from dataframe features\n",
    "    X_test = df_test[features]\n",
    "    X_train = df_train[features]\n",
    "\n",
    "    y_train = df_train[\"percent_houses_damaged\"]\n",
    "    y_test = df_test[\"percent_houses_damaged\"]\n",
    "\n",
    "    # XGBoost Reduced Overfitting\n",
    "    xgb = XGBRegressor(\n",
    "        base_score=0.5,\n",
    "        booster=\"gbtree\",\n",
    "        colsample_bylevel=0.8,\n",
    "        colsample_bynode=0.8,\n",
    "        colsample_bytree=0.8,\n",
    "        gamma=3,\n",
    "        eta=0.01,\n",
    "        importance_type=\"gain\",\n",
    "        learning_rate=0.1,\n",
    "        max_delta_step=0,\n",
    "        max_depth=4,\n",
    "        min_child_weight=1,\n",
    "        missing=1,\n",
    "        n_estimators=100,\n",
    "        early_stopping_rounds=10,\n",
    "        n_jobs=1,\n",
    "        nthread=None,\n",
    "        objective=\"reg:squarederror\",\n",
    "        reg_alpha=0,\n",
    "        reg_lambda=1,\n",
    "        scale_pos_weight=1,\n",
    "        seed=None,\n",
    "        silent=None,\n",
    "        subsample=0.8,\n",
    "        verbosity=1,\n",
    "        eval_metric=[\"rmse\", \"logloss\"],\n",
    "        random_state=0,\n",
    "    )\n",
    "\n",
    "    eval_set = [(X_test, y_test)]\n",
    "    xgb_model = xgb.fit(X_train, y_train, eval_set=eval_set, verbose=False)\n",
    "\n",
    "    # Make prediction on train and test data\n",
    "    y_pred_train = xgb.predict(X_train)\n",
    "    y_pred = xgb.predict(X_test)\n",
    "\n",
    "    # Calculate RMSE in total\n",
    "    mse_train_idx = mean_squared_error(y_train, y_pred_train)\n",
    "    rmse_train = np.sqrt(mse_train_idx)\n",
    "\n",
    "    mse_idx = mean_squared_error(y_test, y_pred)\n",
    "    rmseM1 = np.sqrt(mse_idx)\n",
    "\n",
    "    # Add total RMSE of Model1 to the list\n",
    "    test_RMSE_lst_M1.append(rmseM1)\n",
    "\n",
    "    ## Second step is to train XGBoost Binary model for same train data\n",
    "\n",
    "    # Define a threshold to separate target into damaged and not_damaged\n",
    "    thres = 10.0\n",
    "    y_test_bool = y_test >= thres\n",
    "    y_train_bool = y_train >= thres\n",
    "    y_test_bin = (y_test_bool) * 1\n",
    "    y_train_bin = (y_train_bool) * 1\n",
    "\n",
    "    sum(y_train_bin)\n",
    "    print(Counter(y_train_bin))\n",
    "\n",
    "    # Undersampling\n",
    "\n",
    "    # Define undersampling strategy\n",
    "    under = RandomUnderSampler(sampling_strategy=0.1)\n",
    "    # Fit and apply the transform\n",
    "    X_train_us, y_train_us = under.fit_resample(X_train, y_train_bin)\n",
    "\n",
    "    print(Counter(y_train_us))\n",
    "\n",
    "    # Use XGBClassifier as a Machine Learning model to fit the data\n",
    "    xgb_model = XGBClassifier(eval_metric=[\"error\", \"logloss\"])\n",
    "\n",
    "    # eval_set = [(X_train, y_train), (X_train, y_train)]\n",
    "    eval_set = [(X_test, y_test_bin)]\n",
    "    xgb_model.fit(\n",
    "        X_train_us,\n",
    "        y_train_us,\n",
    "        eval_set=eval_set,\n",
    "        verbose=False,\n",
    "    )\n",
    "\n",
    "    # Make prediction on test data and print Confusion Matrix\n",
    "    y_pred_test = xgb_model.predict(X_test)\n",
    "    cm = confusion_matrix(y_test_bin, y_pred_test)\n",
    "\n",
    "    # Make prediction on train data and print Confusion Matrix\n",
    "    y_pred_train = xgb_model.predict(X_train)\n",
    "    cm = confusion_matrix(y_train_bin, y_pred_train)\n",
    "\n",
    "    reduced_df = X_train.copy()\n",
    "\n",
    "    reduced_df[\"percent_houses_damaged\"] = y_train.values\n",
    "    reduced_df[\"predicted_value\"] = y_pred_train\n",
    "\n",
    "    fliterd_df = reduced_df[reduced_df.predicted_value == 1]\n",
    "\n",
    "    ### Third step is to train XGBoost regression model for this reduced train data (including damg>10.0%)\n",
    "\n",
    "    # Define bins for data stratification in regression model\n",
    "    bins2 = [0, 1, 10, 20, 50, 101]\n",
    "    samples_per_bin2, binsP2 = np.histogram(\n",
    "        fliterd_df[\"percent_houses_damaged\"], bins=bins2\n",
    "    )\n",
    "    bin_index2 = np.digitize(fliterd_df[\"percent_houses_damaged\"], bins=binsP2)\n",
    "    y_input_strat = bin_index2\n",
    "\n",
    "    # Split X and y from dataframe features\n",
    "    X_r = fliterd_df[features]\n",
    "    display(X.columns)\n",
    "    y_r = fliterd_df[\"percent_houses_damaged\"]\n",
    "\n",
    "    # XGBoost Reduced Overfitting\n",
    "    xgbR = XGBRegressor(\n",
    "        base_score=0.5,\n",
    "        booster=\"gbtree\",\n",
    "        colsample_bylevel=0.8,\n",
    "        colsample_bynode=0.8,\n",
    "        colsample_bytree=0.8,\n",
    "        gamma=3,\n",
    "        eta=0.01,\n",
    "        importance_type=\"gain\",\n",
    "        learning_rate=0.1,\n",
    "        max_delta_step=0,\n",
    "        max_depth=4,\n",
    "        min_child_weight=1,\n",
    "        missing=1,\n",
    "        n_estimators=100,\n",
    "        early_stopping_rounds=10,\n",
    "        n_jobs=1,\n",
    "        nthread=None,\n",
    "        objective=\"reg:squarederror\",\n",
    "        reg_alpha=0,\n",
    "        reg_lambda=1,\n",
    "        scale_pos_weight=1,\n",
    "        seed=None,\n",
    "        silent=None,\n",
    "        subsample=0.8,\n",
    "        verbosity=1,\n",
    "        eval_metric=[\"rmse\", \"logloss\"],\n",
    "        random_state=0,\n",
    "    )\n",
    "\n",
    "    eval_set = [(X_r, y_r)]\n",
    "    xgbR_model = xgbR.fit(X_r, y_r, eval_set=eval_set, verbose=False)\n",
    "\n",
    "    # Make prediction on train and global test data\n",
    "    y_pred_r = xgbR.predict(X_r)\n",
    "    y_pred_test_total = xgbR.predict(X_test)\n",
    "\n",
    "    # Calculate RMSE in total\n",
    "\n",
    "    mse_train_idxR = mean_squared_error(y_r, y_pred_r)\n",
    "    rmse_trainR = np.sqrt(mse_train_idxR)\n",
    "\n",
    "    mse_idxR = mean_squared_error(y_test, y_pred_test_total)\n",
    "    rmseR = np.sqrt(mse_idxR)\n",
    "\n",
    "    ## Last step is to add model combination (model M1 with model MR)\n",
    "    # Check the result of classifier for test set\n",
    "    reduced_test_df = X_test.copy()\n",
    "\n",
    "    # joined X_test with countinous target and binary predicted values\n",
    "    reduced_test_df[\"percent_houses_damaged\"] = y_test.values\n",
    "    reduced_test_df[\"predicted_value\"] = y_pred_test\n",
    "\n",
    "    # damaged prediction\n",
    "    fliterd_test_df1 = reduced_test_df[reduced_test_df.predicted_value == 1]\n",
    "\n",
    "    # not damaged prediction\n",
    "    fliterd_test_df0 = reduced_test_df[reduced_test_df.predicted_value == 0]\n",
    "\n",
    "    # Use X0 and X1 for the M1 and MR models' predictions\n",
    "    X1 = fliterd_test_df1[features]\n",
    "    X0 = fliterd_test_df0[features]\n",
    "\n",
    "    # For the output equal to 1 apply MR to evaluate the performance\n",
    "    y1_pred = xgbR.predict(X1)\n",
    "    y1 = fliterd_test_df1[\"percent_houses_damaged\"]\n",
    "\n",
    "    # For the output equal to 0 apply M1 to evaluate the performance\n",
    "    y0_pred = xgb.predict(X0)\n",
    "    y0 = fliterd_test_df0[\"percent_houses_damaged\"]\n",
    "\n",
    "    fliterd_test_df0[\"predicted_percent_damage\"] = y0_pred\n",
    "    fliterd_test_df1[\"predicted_percent_damage\"] = y1_pred\n",
    "\n",
    "    # Join two dataframes together\n",
    "    join_test_dfs = pd.concat([fliterd_test_df0, fliterd_test_df1])\n",
    "\n",
    "    # Calculate RMSE in total\n",
    "    mse_combined_model = mean_squared_error(\n",
    "        join_test_dfs[\"percent_houses_damaged\"],\n",
    "        join_test_dfs[\"predicted_percent_damage\"],\n",
    "    )\n",
    "    print(new_run)\n",
    "    rmse_combined_model = np.sqrt(mse_combined_model)\n",
    "    test_RMSE_lst.append(rmse_combined_model)\n",
    "\n",
    "    print(test_RMSE_lst)"
   ]
  },
  {
   "cell_type": "code",
   "execution_count": 7,
   "id": "f77f19c1",
   "metadata": {},
   "outputs": [
    {
     "name": "stdout",
     "output_type": "stream",
     "text": [
      "mean_RMSE_test_M1_model: 2.66\n",
      "mean_RMSE_test_Combined_model: 2.93\n"
     ]
    }
   ],
   "source": [
    "# Compare total RMSEs of Combined model with M1 model\n",
    "combined_test_rmse = statistics.mean(test_RMSE_lst)\n",
    "m1_test_rmse = statistics.mean(test_RMSE_lst_M1)\n",
    "\n",
    "print(f\"mean_RMSE_test_M1_model: {m1_test_rmse:.2f}\")\n",
    "print(f\"mean_RMSE_test_Combined_model: {combined_test_rmse:.2f}\")"
   ]
  }
 ],
 "metadata": {
  "jupytext": {
   "cell_metadata_filter": "-all",
   "notebook_metadata_filter": "-all"
  },
  "kernelspec": {
   "display_name": "Python 3 (ipykernel)",
   "language": "python",
   "name": "python3"
  },
  "language_info": {
   "codemirror_mode": {
    "name": "ipython",
    "version": 3
   },
   "file_extension": ".py",
   "mimetype": "text/x-python",
   "name": "python",
   "nbconvert_exporter": "python",
   "pygments_lexer": "ipython3",
   "version": "3.8.13"
  }
 },
 "nbformat": 4,
 "nbformat_minor": 5
}
