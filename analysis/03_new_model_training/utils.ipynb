{
 "cells": [
  {
   "cell_type": "code",
   "execution_count": null,
   "id": "5a01964d",
   "metadata": {},
   "outputs": [],
   "source": [
    "import os\n",
    "from pathlib import Path\n",
    "import pandas as pd\n",
    "\n",
    "RS_BASE = 12345"
   ]
  },
  {
   "cell_type": "code",
   "execution_count": null,
   "id": "19d75750",
   "metadata": {},
   "outputs": [],
   "source": [
    "def get_training_dataset():\n",
    "    input_dir = (\n",
    "        Path(os.getenv(\"STORM_DATA_DIR\")) / \"analysis/03_new_model_training\"\n",
    "    )\n",
    "    filename = input_dir / \"new_model_training_dataset.csv\"\n",
    "    return pd.read_csv(filename)"
   ]
  },
  {
   "cell_type": "code",
   "execution_count": null,
   "id": "0edbfbce",
   "metadata": {},
   "outputs": [],
   "source": [
    "def weight_file(x):\n",
    "    input_dir = (\n",
    "        Path(os.getenv(\"STORM_DATA_DIR\")) / \"analysis/02_new_model_input/02_housing_damage/input/Google Footprint Data\"\n",
    "    )\n",
    "    weight_filename = input_dir / \"ggl_grid_to_mun_weights.csv\"\n",
    "    return pd.read_csv(weight_filename)"
   ]
  }
 ],
 "metadata": {
  "jupytext": {
   "cell_metadata_filter": "-all",
   "notebook_metadata_filter": "-all",
   "text_representation": {
    "extension": ".py",
    "format_name": "light"
   }
  },
  "kernelspec": {
   "display_name": "Python 3 (ipykernel)",
   "language": "python",
   "name": "python3"
  }
 },
 "nbformat": 4,
 "nbformat_minor": 5
}
