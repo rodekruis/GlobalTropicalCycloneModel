{
 "cells": [
  {
   "attachments": {},
   "cell_type": "markdown",
   "id": "5a83e7e8-5a32-4877-bccf-a1f5398ee37d",
   "metadata": {},
   "source": [
    "# Simple Moving Average(Running Mean)\n",
    "## NOTE: This notebook uses total buildings, which is no longer in the feature data set.\n",
    "It is used to observe how the two variables are related to each other.\n"
   ]
  },
  {
   "cell_type": "code",
   "execution_count": null,
   "id": "acd96d45",
   "metadata": {},
   "outputs": [],
   "source": [
    "import pandas as pd\n",
    "import numpy as np\n",
    "import matplotlib.pyplot as plt\n",
    "import plotly.express as px\n",
    "\n",
    "from utils import get_training_dataset"
   ]
  },
  {
   "cell_type": "code",
   "execution_count": null,
   "id": "66834104",
   "metadata": {},
   "outputs": [],
   "source": [
    "# Read csv file and import to df\n",
    "df = get_training_dataset()"
   ]
  },
  {
   "cell_type": "code",
   "execution_count": null,
   "id": "cdde9492",
   "metadata": {},
   "outputs": [],
   "source": [
    "# Remove zeros from wind_speed\n",
    "df = df[(df[[\"wind_speed\"]] != 0).any(axis=1)]\n",
    "df"
   ]
  },
  {
   "cell_type": "code",
   "execution_count": null,
   "id": "a2aea682",
   "metadata": {},
   "outputs": [],
   "source": [
    "# Define a Function to plot the relation between each features\n",
    "def ave(ftr_1, ftr_2):\n",
    "    roll = (\n",
    "        df.sort_values(ftr_1).reset_index(drop=True)[ftr_2].rolling(window=500).mean()\n",
    "    )\n",
    "\n",
    "    re_ftr_1 = df.sort_values(ftr_1).reset_index(drop=True)[ftr_1]\n",
    "    re_ftr_2 = df.sort_values(ftr_1).reset_index(drop=True)[ftr_2]\n",
    "\n",
    "    plt.xlabel(ftr_1)\n",
    "    plt.ylabel(ftr_2)\n",
    "    plt.title(f\"{ftr_1} vs {ftr_2}\")\n",
    "    return plt.plot(re_ftr_1, re_ftr_2, \"*b\"), plt.plot(re_ftr_1, roll, \"r\")"
   ]
  },
  {
   "cell_type": "code",
   "execution_count": null,
   "id": "dfbef8e9",
   "metadata": {},
   "outputs": [],
   "source": [
    "# List of features while the last feature is the target\n",
    "features = [\n",
    "    \"wind_speed\",\n",
    "    \"track_distance\",\n",
    "    \"total_buildings\",\n",
    "    \"rainfall_max_6h\",\n",
    "    \"rainfall_max_24h\",\n",
    "    \"percent_buildings_damaged\",\n",
    "]"
   ]
  },
  {
   "cell_type": "markdown",
   "id": "acfb86f4",
   "metadata": {},
   "source": [
    "## Call the function wrt those features you are interested in their running average's plot"
   ]
  },
  {
   "cell_type": "code",
   "execution_count": null,
   "id": "a2dfd499",
   "metadata": {},
   "outputs": [],
   "source": [
    "ave(features[2], features[0])\n",
    "\n",
    "# Use the log scale in x or y axis to have a zoom in scatter plot\n",
    "plt.xscale(\"log\")"
   ]
  },
  {
   "cell_type": "markdown",
   "id": "de84b5e3",
   "metadata": {},
   "source": [
    "## How each varriable is relared to target"
   ]
  },
  {
   "cell_type": "code",
   "execution_count": null,
   "id": "123342ed",
   "metadata": {},
   "outputs": [],
   "source": [
    "# wind_speed and percent_buildings_damaged\n",
    "ave(features[0], features[5])"
   ]
  },
  {
   "cell_type": "code",
   "execution_count": null,
   "id": "0d6a575c",
   "metadata": {},
   "outputs": [],
   "source": [
    "# track_distance and percent_buildings_damaged\n",
    "ave(features[1], features[5])"
   ]
  },
  {
   "cell_type": "code",
   "execution_count": null,
   "id": "917221ce",
   "metadata": {},
   "outputs": [],
   "source": [
    "# total_buildings and percent_buildings_damaged\n",
    "ave(features[2], features[5])\n",
    "plt.xscale(\"log\")"
   ]
  },
  {
   "cell_type": "code",
   "execution_count": null,
   "id": "6e367c32",
   "metadata": {},
   "outputs": [],
   "source": [
    "ave(features[3], features[5])"
   ]
  },
  {
   "cell_type": "code",
   "execution_count": null,
   "id": "98b86fe6",
   "metadata": {},
   "outputs": [],
   "source": [
    "# The trendline between rainfall_max_6h and rainfall_max_24h\n",
    "fig = px.scatter(\n",
    "    df,\n",
    "    x=\"rainfall_max_6h\",\n",
    "    y=\"rainfall_max_24h\",\n",
    "    trendline=\"lowess\",\n",
    "    trendline_options=dict(frac=0.01),\n",
    "    trendline_color_override=\"red\",\n",
    "    title=\"rainfall_max_6h vs rainfall_max_24h\",\n",
    ")\n",
    "fig.update_layout(\n",
    "    xaxis=dict(showgrid=False),\n",
    "    yaxis=dict(showgrid=False),\n",
    "    plot_bgcolor=\"rgba(250,250,250,250)\",\n",
    ")\n",
    "\n",
    "fig.show()"
   ]
  }
 ],
 "metadata": {
  "jupytext": {
   "cell_metadata_filter": "-all",
   "formats": "ipynb,md",
   "notebook_metadata_filter": "-all"
  },
  "kernelspec": {
   "display_name": "Python 3 (ipykernel)",
   "language": "python",
   "name": "python3"
  },
  "language_info": {
   "codemirror_mode": {
    "name": "ipython",
    "version": 3
   },
   "file_extension": ".py",
   "mimetype": "text/x-python",
   "name": "python",
   "nbconvert_exporter": "python",
   "pygments_lexer": "ipython3",
   "version": "3.9.0"
  }
 },
 "nbformat": 4,
 "nbformat_minor": 5
}
