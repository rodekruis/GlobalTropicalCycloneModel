{
 "cells": [
  {
   "cell_type": "markdown",
   "id": "5a83e7e8-5a32-4877-bccf-a1f5398ee37d",
   "metadata": {},
   "source": [
    "# Model training\n",
    "\n",
    "Description to be filled in by Mersedeh"
   ]
  },
  {
   "cell_type": "code",
   "execution_count": 2,
   "id": "db6b37d9-2953-4b52-a267-aa37848686d9",
   "metadata": {},
   "outputs": [
    {
     "data": {
      "text/html": [
       "\n",
       "                <script type=\"application/javascript\" id=\"jupyter_black\">\n",
       "                (function() {\n",
       "                    if (window.IPython === undefined) {\n",
       "                        return\n",
       "                    }\n",
       "                    var msg = \"WARNING: it looks like you might have loaded \" +\n",
       "                        \"jupyter_black in a non-lab notebook with \" +\n",
       "                        \"`is_lab=True`. Please double check, and if \" +\n",
       "                        \"loading with `%load_ext` please review the README!\"\n",
       "                    console.log(msg)\n",
       "                    alert(msg)\n",
       "                })()\n",
       "                </script>\n",
       "                "
      ],
      "text/plain": [
       "<IPython.core.display.HTML object>"
      ]
     },
     "metadata": {},
     "output_type": "display_data"
    }
   ],
   "source": [
    "%load_ext jupyter_black"
   ]
  },
  {
   "cell_type": "code",
   "execution_count": 3,
   "id": "2f435bf7-203f-4fa6-8aa5-8dbcfe89e66b",
   "metadata": {},
   "outputs": [],
   "source": [
    "from utils import get_training_dataset"
   ]
  },
  {
   "cell_type": "code",
   "execution_count": 4,
   "id": "6636b9df-3470-438c-a1d5-68c3e5a4a939",
   "metadata": {},
   "outputs": [],
   "source": [
    "df = get_training_dataset()\n",
    "df"
   ]
  }
 ],
 "metadata": {
  "jupytext": {
   "cell_metadata_filter": "-all",
   "formats": "ipynb,md",
   "notebook_metadata_filter": "-all"
  },
  "kernelspec": {
   "display_name": "global-tropical-storm",
   "language": "python",
   "name": "global-tropical-storm"
  },
  "language_info": {
   "codemirror_mode": {
    "name": "ipython",
    "version": 3
   },
   "file_extension": ".py",
   "mimetype": "text/x-python",
   "name": "python",
   "nbconvert_exporter": "python",
   "pygments_lexer": "ipython3",
   "version": "3.8.10"
  }
 },
 "nbformat": 4,
 "nbformat_minor": 5
}
